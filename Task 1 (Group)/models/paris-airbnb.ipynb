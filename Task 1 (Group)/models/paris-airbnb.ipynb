{
 "cells": [
  {
   "cell_type": "markdown",
   "metadata": {},
   "source": [
    "DATASET FROM http://insideairbnb.com/"
   ]
  },
  {
   "cell_type": "code",
   "execution_count": 541,
   "metadata": {},
   "outputs": [],
   "source": [
    "# Install the required packages\n",
    "# TODO: List of pip install commands\n",
    "# \n",
    "# \n",
    "# %pip install lois\n",
    "# %pip install pandas-profiling\n",
    "# %pip install ipywidgets\n",
    "# ..."
   ]
  },
  {
   "cell_type": "code",
   "execution_count": 542,
   "metadata": {},
   "outputs": [],
   "source": [
    "# Import the required packages\n",
    "\n",
    "#Pandas stack\n",
    "import pandas as pd\n",
    "import pandas_profiling\n",
    "#Plots\n",
    "import matplotlib.pyplot as plt\n",
    "import seaborn as sns\n",
    "# Lois\n",
    "from lois import lois_ds_report\n",
    "\n",
    "# sklearn\n",
    "import sklearn\n",
    "\n",
    "import numpy as np\n",
    "\n",
    "%matplotlib inline"
   ]
  },
  {
   "cell_type": "code",
   "execution_count": 543,
   "metadata": {},
   "outputs": [],
   "source": [
    "# Load Paris airbnb data\n",
    "data = pd.read_csv('../data/ParisAirbnb.csv')"
   ]
  },
  {
   "cell_type": "code",
   "execution_count": 544,
   "metadata": {},
   "outputs": [],
   "source": [
    "# Remove empty column neighbourhood_group\n",
    "if 'neighbourhood_group' in data.columns:\n",
    "    data = data.drop('neighbourhood_group', axis=1)\n",
    "\n",
    "# Remove the id column, since it has 100% unique values.\n",
    "if 'id' in data.columns:\n",
    "    data = data.drop('id', axis=1)\n",
    "\n",
    "# These are very specific values, the neighbourhood column is more general.\n",
    "if 'latitude' in data.columns and 'longitude' in data.columns:\n",
    "    data = data.drop(['latitude', 'longitude'], axis=1)\n",
    "\n",
    "# Number of reviews has a high correlation with number of reviews in the last 12 months.\n",
    "# Number of reviews in the last 12 months is higly correlated with the number of reviews per month.\n",
    "# Remove both columns.\n",
    "if 'number_of_reviews' in data.columns and 'number_of_reviews_ltm' in data.columns:\n",
    "    data = data.drop(['number_of_reviews'], axis=1)\n",
    "    data = data.drop(['number_of_reviews_ltm'], axis=1)"
   ]
  },
  {
   "cell_type": "code",
   "execution_count": 545,
   "metadata": {},
   "outputs": [
    {
     "name": "stdout",
     "output_type": "stream",
     "text": [
      "Host id 1721954 has different host name nan and nan.\n",
      "Number of host_id that has different host_name: 1\n"
     ]
    }
   ],
   "source": [
    "# Check if the same host_id always has the same host_name\n",
    "count_host_id_name_misses = 0\n",
    "dic = {}\n",
    "if 'host_name' in data.columns and 'host_id' in data.columns:\n",
    "    for host_id, host_name in zip(data.host_id, data.host_name):\n",
    "        if host_id in dic.keys():\n",
    "            if dic[host_id] != host_name:\n",
    "                count_host_id_name_misses += 1\n",
    "                print('Host id {} has different host name {} and {}.'.format(host_id, dic[host_id], host_name))\n",
    "        else:\n",
    "            dic[host_id] = host_name\n",
    "\n",
    "    print('Number of host_id that has different host_name: {}'.format(count_host_id_name_misses))\n",
    "\n",
    "# If the ammount of host_id that has different host_name is small,\n",
    "#  we can drop the host_name column. In this dataset there is only one missmatch.\n",
    "# This happens because the host does not have a name (null).\n",
    "#\n",
    "if 'host_name' in data.columns:\n",
    "    data = data.drop('host_name', axis=1)\n"
   ]
  },
  {
   "cell_type": "code",
   "execution_count": 546,
   "metadata": {},
   "outputs": [],
   "source": [
    "#\n",
    "# TODO: Idea: Data mine the field name to get keywords?\n",
    "#\n",
    "# For now just remove the field name.\n",
    "if 'name' in data.columns:\n",
    "    data = data.drop('name', axis=1)\n"
   ]
  },
  {
   "cell_type": "code",
   "execution_count": 547,
   "metadata": {},
   "outputs": [
    {
     "name": "stdout",
     "output_type": "stream",
     "text": [
      "['Available with a mobility lease only (\"bail mobilité\")' '7510900711502'\n",
      " '7511500915333' ... '92012-BB-2017-12' '9205000010315' '9205100032915']\n",
      "Number of different license values: 30789\n",
      "Percentage of missing values: 0.39841929438605067\n"
     ]
    }
   ],
   "source": [
    "# Get license different values\n",
    "if 'license' in data.columns:\n",
    "    print(data.license.unique())\n",
    "    print('Number of different license values: {}'.format(len(data.license.unique())))\n",
    "    \n",
    "    # Print percentage of missing values\n",
    "    print('Percentage of missing values: {}'.format(data.license.isnull().sum()/len(data.license)))\n",
    "    \n",
    "    # There are about 40% missing values.\n",
    "    # Let's drop the column and create a columns license with 0 and 1:\n",
    "    #   0 if the license is missing, 1 otherwise.\n",
    "    data['license'] = data['license'].apply(lambda x: 0 if pd.isnull(x) else 1)\n",
    "    data.rename(columns={'license': 'has_license'}, inplace=True)"
   ]
  },
  {
   "cell_type": "code",
   "execution_count": 548,
   "metadata": {},
   "outputs": [],
   "source": [
    "# \n",
    "# TODO: Idea: Some hosts have multiple listings, what does that mean?\n",
    "#       If a host has 50 listings, is that correlated with a higher price?\n",
    "#\n",
    "# For now just remove the field host_id.\n",
    "if 'host_id' in data.columns:\n",
    "    data = data.drop('host_id', axis=1)"
   ]
  },
  {
   "cell_type": "code",
   "execution_count": 549,
   "metadata": {},
   "outputs": [
    {
     "name": "stdout",
     "output_type": "stream",
     "text": [
      "Number of unique values: 20\n"
     ]
    },
    {
     "data": {
      "image/png": "[encoded data removed]",
      "text/plain": [
       "<Figure size 432x288 with 1 Axes>"
      ]
     },
     "metadata": {
      "needs_background": "light"
     },
     "output_type": "display_data"
    }
   ],
   "source": [
    "# TODO: Is this helpful? Or should we just remove this column?\n",
    "# Handle the neighbourhood column\n",
    "if 'neighbourhood' in data.columns:\n",
    "    # Get unique value count\n",
    "    print('Number of unique values: {}'.format(len(data.neighbourhood.unique())))\n",
    "    \n",
    "    # Get unique values\n",
    "    unique = data.neighbourhood.unique()\n",
    "    \n",
    "    # Build dictionary\n",
    "    neighbourhood_dict = {}\n",
    "    for i, neighbourhood in enumerate(unique):\n",
    "        neighbourhood_dict[neighbourhood] = i\n",
    "        \n",
    "    # Get neighbourhood distribution percentage\n",
    "    sns.countplot(y='neighbourhood', data=data)\n",
    "    \n",
    "    # Encode the neighbourhood column\n",
    "    data['neighbourhood'] = data['neighbourhood'].apply(lambda x: neighbourhood_dict[x])    \n",
    "    \n",
    "    # Rename the neighbourhood column\n",
    "    data.rename(columns={'neighbourhood': 'neighbourhood_id'}, inplace=True)"
   ]
  },
  {
   "cell_type": "code",
   "execution_count": 550,
   "metadata": {},
   "outputs": [
    {
     "name": "stdout",
     "output_type": "stream",
     "text": [
      "Number of unique values: 4\n",
      "Unique values: ['Entire home/apt' 'Private room' 'Shared room' 'Hotel room']\n",
      "Entire home/apt    84.269535\n",
      "Private room       13.395258\n",
      "Hotel room          1.727369\n",
      "Shared room         0.607838\n",
      "Name: room_type, dtype: float64\n"
     ]
    },
    {
     "data": {
      "image/png": "[encoded data removed]",
      "text/plain": [
       "<Figure size 432x288 with 1 Axes>"
      ]
     },
     "metadata": {
      "needs_background": "light"
     },
     "output_type": "display_data"
    }
   ],
   "source": [
    "# Handle room_type column\n",
    "if 'room_type' in data.columns:\n",
    "    # Get unique value count\n",
    "    print('Number of unique values: {}'.format(len(data.room_type.unique())))\n",
    "    \n",
    "    # Get unique values\n",
    "    unique = data.room_type.unique()\n",
    "    print('Unique values: {}'.format(unique))\n",
    "    \n",
    "    # Build dictionary\n",
    "    room_type_dict = {}\n",
    "    for i, room_type in enumerate(unique):\n",
    "        room_type_dict[room_type] = i\n",
    "    \n",
    "    # Get room_type distribution\n",
    "    sns.countplot(y='room_type', data=data)\n",
    "    \n",
    "    # Get room_type count\n",
    "    print(data.room_type.value_counts()/len(data.room_type) * 100)\n",
    "    \n",
    "    # Distribution is:\n",
    "    #  Entire home/apt : 84%\n",
    "    #  Private room    : 14%\n",
    "    #  Hotel room      : 1.5%\n",
    "    #  Shared room     : 0.5%\n",
    "    #\n",
    "    # Create two categoris: Entire home/apt and not Entire home/apt\n",
    "    #   Entire home/apt     : 1\n",
    "    #   Not Entire home/apt : 0\n",
    "    data['room_type'] = data['room_type'].apply(lambda x: 1 if x == 'Entire home/apt' else 0)\n",
    "    \n",
    "    # Rename the room_type column\n",
    "    data.rename(columns={'room_type': 'is_entire_home'}, inplace=True)\n",
    "    "
   ]
  },
  {
   "cell_type": "code",
   "execution_count": 551,
   "metadata": {},
   "outputs": [
    {
     "name": "stderr",
     "output_type": "stream",
     "text": [
      "/home/rubensas/anaconda3/envs/DAA/lib/python3.6/site-packages/seaborn/_decorators.py:43: FutureWarning: Pass the following variable as a keyword arg: x. From version 0.12, the only valid positional argument will be `data`, and passing other arguments without an explicit keyword will result in an error or misinterpretation.\n",
      "  FutureWarning\n"
     ]
    },
    {
     "name": "stdout",
     "output_type": "stream",
     "text": [
      "Count of each year:\n",
      "2022.0    50.664059\n",
      "2019.0     7.579239\n",
      "2020.0     6.031125\n",
      "2021.0     4.295608\n",
      "2018.0     4.104946\n",
      "2017.0     3.322741\n",
      "2016.0     2.868084\n",
      "2015.0     1.551373\n",
      "2014.0     0.182514\n",
      "2013.0     0.022814\n",
      "2012.0     0.011407\n",
      "2011.0     0.004889\n",
      "2010.0     0.001630\n",
      "Name: last_review, dtype: float64\n",
      "Number of missing values: 11880\n",
      "Percentage of missing values: 0.1935956978733806\n",
      "Count of each month from 2022:\n",
      "8    45.693149\n",
      "7    20.353812\n",
      "9    17.963976\n",
      "6     6.947572\n",
      "5     3.753619\n",
      "4     1.987777\n",
      "1     1.418463\n",
      "3     1.145063\n",
      "2     0.736571\n",
      "Name: last_review, dtype: float64\n"
     ]
    },
    {
     "data": {
      "image/png": "[encoded data removed]",
      "text/plain": [
       "<Figure size 432x288 with 1 Axes>"
      ]
     },
     "metadata": {
      "needs_background": "light"
     },
     "output_type": "display_data"
    }
   ],
   "source": [
    "# Handle last_review column\n",
    "#\n",
    "# This is a date, we can convert it to a datetime object.\n",
    "# We can see the distribution of the last_review column.\n",
    "if 'last_review' in data.columns:\n",
    "    dates = pd.to_datetime(data.last_review)\n",
    "\n",
    "    years = dates.dt.year\n",
    "\n",
    "    # Get distribution of years\n",
    "    sns.countplot(years)\n",
    "\n",
    "    # Print count of each year (in percentage)\n",
    "    print(\"Count of each year:\")\n",
    "    print(years.value_counts() / len(years) * 100)\n",
    "\n",
    "    # Print missing values count\n",
    "    print('Number of missing values: {}'.format(data.last_review.isnull().sum()))\n",
    "    print('Percentage of missing values: {}'.format(data.last_review.isnull().sum()/len(data.last_review)))\n",
    "\n",
    "    # Take the 2022 year values\n",
    "    this_year = dates.apply(lambda x: x if x.year == 2022 else np.nan).dropna()\n",
    "\n",
    "    # Get month distribution count\n",
    "    print(\"Count of each month from 2022:\")\n",
    "    this_year_months = this_year.dt.month\n",
    "    print(this_year_months.value_counts() / len(this_year_months) * 100)\n",
    "\n",
    "    # Create bins for:\n",
    "    #   Last three months : 1\n",
    "    #   This year         : 2\n",
    "    #   Later             : 3\n",
    "    #   Never             : 0\n",
    "    #\n",
    "    # Build dictionary\n",
    "    data['last_review'] = data['last_review'].apply(lambda x : pd.to_datetime(x)) \\\n",
    "            .apply(lambda x : 0 if pd.isnull(x) else 3 if x.year < 2022 else 1 if x.month > 6 else 2)\n",
    "\n",
    "    # Rename the last_review column\n",
    "    data.rename(columns={'last_review': 'last_review_bin'}, inplace=True)"
   ]
  },
  {
   "cell_type": "code",
   "execution_count": 552,
   "metadata": {},
   "outputs": [
    {
     "name": "stdout",
     "output_type": "stream",
     "text": [
      "Number of missing values: 11880\n",
      "Number of values smaller than 1: 31648\n",
      "Number of unique values: 33\n",
      "Count of each value:\n",
      "1     51.573372\n",
      "0     19.359570\n",
      "2     14.475678\n",
      "3      7.109916\n",
      "4      3.731769\n",
      "5      1.797442\n",
      "6      0.909313\n",
      "7      0.518211\n",
      "8      0.247698\n",
      "9      0.102664\n",
      "10     0.045629\n",
      "11     0.035851\n",
      "13     0.019555\n",
      "12     0.019555\n",
      "14     0.006518\n",
      "15     0.004889\n",
      "20     0.003259\n",
      "32     0.003259\n",
      "26     0.003259\n",
      "25     0.003259\n",
      "24     0.003259\n",
      "22     0.003259\n",
      "19     0.003259\n",
      "17     0.003259\n",
      "16     0.003259\n",
      "21     0.001630\n",
      "27     0.001630\n",
      "54     0.001630\n",
      "18     0.001630\n",
      "81     0.001630\n",
      "33     0.001630\n",
      "90     0.001630\n",
      "61     0.001630\n",
      "Name: reviews_per_month, dtype: float64\n"
     ]
    },
    {
     "name": "stderr",
     "output_type": "stream",
     "text": [
      "/home/rubensas/anaconda3/envs/DAA/lib/python3.6/site-packages/seaborn/_decorators.py:43: FutureWarning: Pass the following variable as a keyword arg: x. From version 0.12, the only valid positional argument will be `data`, and passing other arguments without an explicit keyword will result in an error or misinterpretation.\n",
      "  FutureWarning\n"
     ]
    },
    {
     "data": {
      "image/png": "[encoded data removed]",
      "text/plain": [
       "<Figure size 432x288 with 1 Axes>"
      ]
     },
     "metadata": {
      "needs_background": "light"
     },
     "output_type": "display_data"
    }
   ],
   "source": [
    "# Handle reviews_per_month column\n",
    "if 'reviews_per_month' in data.columns:\n",
    "    # Get values\n",
    "    reviews_per_month = data.reviews_per_month\n",
    "    \n",
    "    # Get number of missing values\n",
    "    print('Number of missing values: {}'.format(reviews_per_month.isnull().sum()))\n",
    "        \n",
    "    # Get number of values smaller than 1\n",
    "    print('Number of values smaller than 1: {}'.format(len(reviews_per_month[reviews_per_month < 1])))\n",
    "    \n",
    "    # Parse to int: 0 if missing, otherwise int(x) + 1\n",
    "    reviews_per_month = reviews_per_month.apply(lambda x : 0 if pd.isnull(x) else int(x) + 1)\n",
    "    \n",
    "    # Get unique value count\n",
    "    print('Number of unique values: {}'.format(len(reviews_per_month.unique())))\n",
    "        \n",
    "    # Get count of each value\n",
    "    sns.countplot(reviews_per_month)\n",
    "    \n",
    "    # Print count of each value\n",
    "    print(\"Count of each value:\")\n",
    "    print(reviews_per_month.value_counts() / len(reviews_per_month) * 100)\n",
    "    \n",
    "    # Merge any value bigger than 5 to 5\n",
    "    reviews_per_month = reviews_per_month.apply(lambda x : 5 if x > 5 else x)\n",
    "\n",
    "    # Effectively we have 6 categories:\n",
    "    #  0 : No reviews\n",
    "    #  1 : less than one review per month\n",
    "    #  2 : 1-2 review per month\n",
    "    #  3 : 2-3 review per month\n",
    "    #  4 : 3-4 review per month\n",
    "    #  5 : 5+ review per month\n",
    "    #\n",
    "    # Replace the reviews_per_month column\n",
    "    data['reviews_per_month'] = reviews_per_month\n",
    "    \n",
    "    # Rename the reviews_per_month column\n",
    "    data.rename(columns={'reviews_per_month': 'reviews_per_month_bin'}, inplace=True)\n"
   ]
  },
  {
   "cell_type": "code",
   "execution_count": 553,
   "metadata": {},
   "outputs": [
    {
     "name": "stdout",
     "output_type": "stream",
     "text": [
      "Number of unique values: 92\n"
     ]
    },
    {
     "name": "stderr",
     "output_type": "stream",
     "text": [
      "/home/rubensas/anaconda3/envs/DAA/lib/python3.6/site-packages/seaborn/_decorators.py:43: FutureWarning: Pass the following variable as a keyword arg: x. From version 0.12, the only valid positional argument will be `data`, and passing other arguments without an explicit keyword will result in an error or misinterpretation.\n",
      "  FutureWarning\n"
     ]
    },
    {
     "name": "stdout",
     "output_type": "stream",
     "text": [
      "Top 10 values:\n",
      "Value: 365, Count: 12658 (20.63%)\n",
      "Value: 2, Count: 11738 (19.13%)\n",
      "Value: 1, Count: 11464 (18.68%)\n",
      "Value: 3, Count: 8987 (14.65%)\n",
      "Value: 4, Count: 4143 (6.75%)\n",
      "Value: 30, Count: 3366 (5.49%)\n",
      "Value: 5, Count: 3337 (5.44%)\n",
      "Value: 7, Count: 1579 (2.57%)\n",
      "Value: 6, Count: 1181 (1.92%)\n",
      "Value: 10, Count: 418 (0.68%)\n"
     ]
    },
    {
     "data": {
      "image/png": "[encoded data removed]",
      "text/plain": [
       "<Figure size 432x288 with 1 Axes>"
      ]
     },
     "metadata": {
      "needs_background": "light"
     },
     "output_type": "display_data"
    }
   ],
   "source": [
    "# Handle minimum_nights column\n",
    "if 'minimum_nights' in data.columns:\n",
    "    minimum_nights = data.minimum_nights\n",
    "    \n",
    "    # Get unique value count\n",
    "    print('Number of unique values: {}'.format(len(minimum_nights.unique())))\n",
    "    \n",
    "    sns.countplot(minimum_nights)\n",
    "    \n",
    "    # Get top 10 values\n",
    "    top_four = []\n",
    "    print(\"Top 10 values:\")\n",
    "    for i, (value, count) in enumerate(minimum_nights.value_counts().items()):\n",
    "        if i == 10:\n",
    "            break\n",
    "        print('Value: {}, Count: {} ({:.2f}%)'.format(value, count, count/len(minimum_nights) * 100))\n",
    "        \n",
    "        if i < 4:\n",
    "            top_four.append(value)\n",
    "    \n",
    "    # Map the most common 4 values (~80% of the data), the rest to 5\n",
    "    minimum_nights = minimum_nights.apply(lambda x : x if x in top_four else 5)\n",
    "    \n",
    "    # Replace and rename columns\n",
    "    data['minimum_nights'] = minimum_nights\n",
    "    data.rename(columns={'minimum_nights': 'minimum_nights_bin'}, inplace=True)\n",
    "    "
   ]
  },
  {
   "cell_type": "code",
   "execution_count": 554,
   "metadata": {},
   "outputs": [
    {
     "name": "stdout",
     "output_type": "stream",
     "text": [
      "Number of unique values: 366\n",
      "Top 10 values:\n",
      "Value: 0, Count: 24837 (40.47%)\n",
      "Value: 365, Count: 819 (1.33%)\n",
      "Value: 1, Count: 785 (1.28%)\n",
      "Value: 2, Count: 546 (0.89%)\n",
      "Value: 252, Count: 481 (0.78%)\n",
      "Value: 364, Count: 423 (0.69%)\n",
      "Value: 3, Count: 415 (0.68%)\n",
      "Value: 4, Count: 384 (0.63%)\n",
      "Value: 8, Count: 362 (0.59%)\n",
      "Value: 251, Count: 323 (0.53%)\n"
     ]
    }
   ],
   "source": [
    "# Handle availability_365 column\n",
    "if 'availability_365' in data.columns:\n",
    "    \n",
    "    # Print unique values\n",
    "    print('Number of unique values: {}'.format(len(data.availability_365.unique())))\n",
    "    \n",
    "    availability_365 = data.availability_365\n",
    "    \n",
    "    # Get top 10 values\n",
    "    print(\"Top 10 values:\")\n",
    "    for i, (value, count) in enumerate(availability_365.value_counts().items()):\n",
    "        if i == 10:\n",
    "            break\n",
    "        print('Value: {}, Count: {} ({:.2f}%)'.format(value, count, count/len(availability_365) * 100))\n",
    "    \n",
    "    # Most rows have 0 availability, we can ignore this column\n",
    "    data = data.drop(columns=['availability_365'])\n"
   ]
  },
  {
   "cell_type": "code",
   "execution_count": 555,
   "metadata": {},
   "outputs": [
    {
     "name": "stdout",
     "output_type": "stream",
     "text": [
      "Number of unique values: 76\n",
      "Top 3 values:\n",
      "Value: 1, Count: 43127 (70.28%)\n",
      "Value: 2, Count: 5016 (8.17%)\n",
      "Value: 3, Count: 1578 (2.57%)\n"
     ]
    }
   ],
   "source": [
    "# Handle calculated_host_listings_count column\n",
    "if 'calculated_host_listings_count' in data.columns:\n",
    "    # Get unique value count\n",
    "    print('Number of unique values: {}'.format(len(data.calculated_host_listings_count.unique())))\n",
    "    \n",
    "    calculated_host_listings_count = data.calculated_host_listings_count\n",
    "    \n",
    "    # Get top 10 values\n",
    "    print(\"Top 3 values:\")\n",
    "    for i, (value, count) in enumerate(calculated_host_listings_count.value_counts().items()):\n",
    "        if i == 3:\n",
    "            break\n",
    "        print('Value: {}, Count: {} ({:.2f}%)'.format(value, count, count/len(calculated_host_listings_count) * 100))\n",
    "    \n",
    "    # Bin the values to 3 categories: one listing, 2 listings, 3+ listings\n",
    "    calculated_host_listings_count = calculated_host_listings_count.apply(lambda x : 1 if x == 1 else 2 if x == 2 else 3)\n",
    "    \n",
    "    # Replace and rename columns\n",
    "    data['calculated_host_listings_count'] = calculated_host_listings_count\n",
    "    data.rename(columns={'calculated_host_listings_count': 'calculated_host_listings_count_bin'}, inplace=True)\n",
    "    "
   ]
  },
  {
   "cell_type": "code",
   "execution_count": 556,
   "metadata": {},
   "outputs": [],
   "source": [
    "# pandas_profiling.ProfileReport(data)"
   ]
  },
  {
   "cell_type": "code",
   "execution_count": 557,
   "metadata": {},
   "outputs": [],
   "source": [
    "# Correlation matrix\n",
    "# sns.heatmap(data.corr(), annot=True, fmt='.2f')"
   ]
  },
  {
   "cell_type": "code",
   "execution_count": 558,
   "metadata": {},
   "outputs": [],
   "source": [
    "# Remove columns with high correlation\n",
    "if 'minimum_nights_bin' in data.columns:\n",
    "    data = data.drop(columns=['minimum_nights_bin'])\n",
    "\n",
    "# Remove neighbourhood_id column\n",
    "if 'neighbourhood_id' in data.columns:\n",
    "    data = data.drop(columns=['neighbourhood_id'])"
   ]
  },
  {
   "cell_type": "markdown",
   "metadata": {},
   "source": [
    "# Models"
   ]
  },
  {
   "cell_type": "markdown",
   "metadata": {},
   "source": [
    "## Regression"
   ]
  },
  {
   "cell_type": "markdown",
   "metadata": {},
   "source": [
    "### Linear Regression"
   ]
  },
  {
   "cell_type": "code",
   "execution_count": 559,
   "metadata": {},
   "outputs": [
    {
     "name": "stdout",
     "output_type": "stream",
     "text": [
      "45.37790750425415\n",
      "Coefficients:\n",
      "                                    Coefficient\n",
      "is_entire_home                         4.311311\n",
      "last_review_bin                      -12.930648\n",
      "reviews_per_month_bin                -11.902417\n",
      "calculated_host_listings_count_bin    80.572150\n",
      "has_license                           45.084458\n",
      "Average price: 161.81132567424427\n",
      "Error metrics:\n",
      "MAE: 95.2697688769792\n",
      "MSE: 72541.20637402037\n",
      "RMSE: 269.3347478028418\n"
     ]
    },
    {
     "data": {
      "image/png": "[encoded data removed]",
      "text/plain": [
       "<Figure size 720x720 with 1 Axes>"
      ]
     },
     "metadata": {
      "needs_background": "light"
     },
     "output_type": "display_data"
    }
   ],
   "source": [
    "from sklearn.model_selection import train_test_split\n",
    "from sklearn.linear_model import LinearRegression\n",
    "from sklearn import metrics\n",
    "\n",
    "X = data.drop('price', axis=1)\n",
    "Y = data.price\n",
    "\n",
    "X_train, X_test, Y_train, Y_test = train_test_split(X, Y, test_size=0.2, random_state=42)\n",
    "\n",
    "lm = LinearRegression()\n",
    "lm.fit(X_train, Y_train)\n",
    "\n",
    "print(lm.intercept_)\n",
    "coeff_data = pd.DataFrame(lm.coef_, X.columns, columns=['Coefficient'])\n",
    "print(\"Coefficients:\")\n",
    "print(coeff_data)\n",
    "\n",
    "# Get averate price\n",
    "average_price = data.price.mean()\n",
    "print(\"Average price: {}\".format(average_price))\n",
    "\n",
    "print(\"Error metrics:\")\n",
    "predictions = lm.predict(X_test)\n",
    "print('MAE:', metrics.mean_absolute_error(Y_test, predictions))\n",
    "print('MSE:', metrics.mean_squared_error(Y_test, predictions))\n",
    "print('RMSE:', np.sqrt(metrics.mean_squared_error(Y_test, predictions)))\n",
    "\n",
    "# plot predictions vs actual\n",
    "plt.figure(figsize=(10,10))\n",
    "plt.scatter(Y_test, predictions, c='crimson')\n",
    "plt.yscale('log')\n",
    "plt.xscale('log')\n",
    "\n",
    "p1 = max(max(predictions), max(Y_test))\n",
    "p2 = min(min(predictions), min(Y_test))\n",
    "plt.plot([p1, p2], [p1, p2], 'b-')\n",
    "plt.xlabel('True Values', fontsize=15)\n",
    "plt.ylabel('Predictions', fontsize=15)\n",
    "plt.axis('equal')\n",
    "plt.show()\n"
   ]
  },
  {
   "cell_type": "markdown",
   "metadata": {},
   "source": [
    "## Classification"
   ]
  },
  {
   "cell_type": "code",
   "execution_count": 560,
   "metadata": {},
   "outputs": [],
   "source": [
    "data_classification = data.copy()\n",
    "data_classification['price'] = pd.qcut(data_classification.price, 20, labels=False)"
   ]
  },
  {
   "cell_type": "markdown",
   "metadata": {},
   "source": [
    "### Logistic Regression"
   ]
  },
  {
   "cell_type": "code",
   "execution_count": 565,
   "metadata": {},
   "outputs": [
    {
     "name": "stdout",
     "output_type": "stream",
     "text": [
      "0.1387598794100872\n"
     ]
    }
   ],
   "source": [
    "from sklearn.linear_model import LogisticRegression\n",
    "from sklearn import preprocessing\n",
    "\n",
    "# Logistic regression\n",
    "#\n",
    "X, Y = data_classification.drop('price', axis=1), data_classification.price\n",
    "\n",
    "X = preprocessing.StandardScaler().fit(X).transform(X)\n",
    "\n",
    "# Split the data into train and test\n",
    "from sklearn.model_selection import train_test_split\n",
    "X_train, X_test, y_train, y_test = train_test_split(X, Y, test_size=0.2, random_state=42)\n",
    "\n",
    "logisticRegr = LogisticRegression()\n",
    "logisticRegr.fit(X_train, y_train)\n",
    "predictions = logisticRegr.predict(X_test)\n",
    "\n",
    "score = logisticRegr.score(X_test, y_test)\n",
    "print(score)\n"
   ]
  },
  {
   "cell_type": "markdown",
   "metadata": {},
   "source": [
    "### Decision Tree Regression"
   ]
  },
  {
   "cell_type": "code",
   "execution_count": 153,
   "metadata": {},
   "outputs": [
    {
     "name": "stdout",
     "output_type": "stream",
     "text": [
      "Accuracy: 0.14348570031777072\n"
     ]
    }
   ],
   "source": [
    "from sklearn.tree import DecisionTreeClassifier\n",
    "\n",
    "# Split the data into train and test sets\n",
    "X, Y = data_classification.drop('price', axis=1), data_classification.price\n",
    "\n",
    "X_train, X_test, Y_train, Y_test = train_test_split(X, Y, test_size=0.2, random_state=42)\n",
    "\n",
    "clf = DecisionTreeClassifier(random_state=0)\n",
    "clf.fit(X_train, Y_train)\n",
    "predictions = clf.predict(X_test)\n",
    "print(\"Accuracy: {}\".format(clf.score(X_test, Y_test)))\n",
    "\n"
   ]
  }
 ],
 "metadata": {
  "kernelspec": {
   "display_name": "Python 3.6.13 ('DAA')",
   "language": "python",
   "name": "python3"
  },
  "language_info": {
   "codemirror_mode": {
    "name": "ipython",
    "version": 3
   },
   "file_extension": ".py",
   "mimetype": "text/x-python",
   "name": "python",
   "nbconvert_exporter": "python",
   "pygments_lexer": "ipython3",
   "version": "3.6.13"
  },
  "orig_nbformat": 4,
  "vscode": {
   "interpreter": {
    "hash": "17581a02e27760614d818c760348d8aa67266a347fd4beafc1c3e5e55ecb56b0"
   }
  }
 },
 "nbformat": 4,
 "nbformat_minor": 2
}
