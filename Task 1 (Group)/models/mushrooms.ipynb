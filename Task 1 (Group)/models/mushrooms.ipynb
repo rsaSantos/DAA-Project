{
 "cells": [
  {
   "cell_type": "code",
   "execution_count": null,
   "metadata": {},
   "outputs": [],
   "source": []
  }
 ],
 "metadata": {
  "kernelspec": {
   "display_name": "Python 3.6.13 ('DAA')",
   "language": "python",
   "name": "python3"
  },
  "language_info": {
   "name": "python",
   "version": "3.6.13"
  },
  "orig_nbformat": 4,
  "vscode": {
   "interpreter": {
    "hash": "17581a02e27760614d818c760348d8aa67266a347fd4beafc1c3e5e55ecb56b0"
   }
  }
 },
 "nbformat": 4,
 "nbformat_minor": 2
}
