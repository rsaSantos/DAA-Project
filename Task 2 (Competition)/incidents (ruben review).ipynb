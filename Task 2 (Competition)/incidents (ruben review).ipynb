{
 "cells": [
  {
   "cell_type": "markdown",
   "metadata": {},
   "source": [
    "Notebook structure:\n",
    "- 1. Importing libraries\n",
    "- 2. Loading the dataset\n",
    "- 3. Exploratory Data Analysis TODO Joao\n",
    "- 4. Data Preprocessing TODO Joao\n",
    "- 5. Model Training TODO Jorge\n",
    "- 6. Model Evaluation TODO Jorge\n",
    "- 8. Conclusion Todo"
   ]
  },
  {
   "cell_type": "markdown",
   "metadata": {},
   "source": [
    "## 1. Importing libraries"
   ]
  },
  {
   "cell_type": "code",
   "execution_count": 1794,
   "metadata": {},
   "outputs": [],
   "source": [
    "import pandas as pd\n",
    "import pandas_profiling\n",
    "import numpy as np\n",
    "import matplotlib.pyplot as plt\n",
    "import seaborn as sns\n",
    "import scipy.stats as stats\n",
    "from sklearn import preprocessing, tree, metrics, model_selection, linear_model\n",
    "from sklearn.model_selection import cross_val_score\n",
    "from sklearn.svm import SVC\n",
    "from sklearn.model_selection import GridSearchCV\n",
    "from sklearn.metrics import mean_squared_error, mean_absolute_error, r2_score\n",
    "from sklearn.preprocessing import StandardScaler, RobustScaler, PowerTransformer, MinMaxScaler, LabelEncoder\n",
    "from sklearn.neural_network import MLPClassifier\n",
    "from sklearn.neighbors import KNeighborsClassifier\n",
    "from sklearn.svm import SVC\n",
    "from sklearn.gaussian_process import GaussianProcessClassifier\n",
    "from sklearn.gaussian_process.kernels import RBF\n",
    "from sklearn.tree import DecisionTreeClassifier\n",
    "from sklearn.ensemble import RandomForestClassifier, AdaBoostClassifier\n",
    "from sklearn.naive_bayes import GaussianNB\n",
    "from sklearn.discriminant_analysis import QuadraticDiscriminantAnalysis\n",
    "\n",
    "import tensorflow as tf\n",
    "import datetime\n",
    "import random\n",
    "\n",
    "\n",
    "# Lois\n",
    "from lois import lois_ds_report\n",
    "%matplotlib inline"
   ]
  },
  {
   "cell_type": "markdown",
   "metadata": {},
   "source": [
    "## 2. Loading the dataset"
   ]
  },
  {
   "cell_type": "code",
   "execution_count": 1795,
   "metadata": {},
   "outputs": [],
   "source": [
    "train_data = pd.read_csv('data/training_data.csv')\n",
    "test_data = pd.read_csv('data/test_data.csv')\n",
    "\n",
    "# Add a \"fake target\" column to the test data\n",
    "test_data['incidents'] = \"test-only\"\n",
    "\n",
    "# Concatenate the training and test data\n",
    "dataset = pd.concat([train_data, test_data], axis=0)\n",
    "\n",
    "# Drop city name and avg_precipitation: always the same value\n",
    "dataset.drop('avg_precipitation', axis=1, inplace=True)\n",
    "dataset.drop('city_name', axis=1, inplace=True)\n"
   ]
  },
  {
   "attachments": {},
   "cell_type": "markdown",
   "metadata": {},
   "source": [
    "### Ideias para análise de dados\n",
    "\n",
    "Magnitude of delay / Delay in Seconds\n",
    "Affected roads\n",
    "Date and Time\n",
    "Luminosity\n",
    "Temperature, Pressure, Humidity, Wind, Rain\n",
    "Incidents\n",
    "\n",
    "1. The most affected road: You can group the data by the affected roads column and then use a pivot table or some other tool to find out which road has the highest number of incidents.\n",
    "\n",
    "2. Relationship between weather conditions and incidents: You can use the temperature, pressure, humidity, wind, and rain columns to see if there is any relationship between these weather conditions and the number of incidents. For example, you might find that there are more incidents when it is raining or when the wind is strong.\n",
    "\n",
    "3. Magnitude of delay and weather conditions: You can use the magnitude of delay/delay in seconds column and the weather condition columns (temperature, pressure, humidity, wind, and rain) to see if there is any relationship between the magnitude of delay and the weather conditions. For example, you might find that the magnitude of delay is higher when it is raining or when the wind is strong.\n",
    "\n",
    "4. Time of day and incidents: You can use the date/time column to see if there are any trends in the number of incidents over the course of a day. For example, you might find that there are more incidents during rush hour or during the night.\n",
    "\n",
    "5. Luminosity and incidents: You can use the luminosity column to see if there is any relationship between the level of light and the number of incidents. For example, you might find that there are more incidents in the dark.\n",
    "\n",
    "\n",
    "a few more relations between X column and incidents."
   ]
  },
  {
   "attachments": {},
   "cell_type": "markdown",
   "metadata": {},
   "source": [
    "## 3. Exploratory Data Analysis"
   ]
  },
  {
   "cell_type": "code",
   "execution_count": 1796,
   "metadata": {},
   "outputs": [
    {
     "data": {
      "text/html": [
       "<pre style=\"white-space:pre;overflow-x:auto;line-height:normal;font-family:Menlo,'DejaVu Sans Mono',consolas,'Courier New',monospace\">╭─────────────────────────────────────────── Exploratory Data Anlysis ────────────────────────────────────────────╮\n",
       "│                                                                                                                 │\n",
       "╰──────────────────────────────────── EDA|simple| Suitable for data scientist ────────────────────────────────────╯\n",
       "</pre>\n"
      ],
      "text/plain": [
       "╭─────────────────────────────────────────── Exploratory Data Anlysis ────────────────────────────────────────────╮\n",
       "│                                                                                                                 │\n",
       "╰──────────────────────────────────── EDA|simple| Suitable for data scientist ────────────────────────────────────╯\n"
      ]
     },
     "metadata": {},
     "output_type": "display_data"
    },
    {
     "data": {
      "text/html": [
       "<pre style=\"white-space:pre;overflow-x:auto;line-height:normal;font-family:Menlo,'DejaVu Sans Mono',consolas,'Courier New',monospace\">EDA\n",
       "┗━━ Dataset Shape Analysis\n",
       "    ┣━━ Dataset head\n",
       "    ┣━━ General info \n",
       "    ┣━━ The target variable\n",
       "    ┣━━ Number of rows and columns\n",
       "    ┣━━ The different data types\n",
       "    ┃   ┣━━ The sum of different variable type\n",
       "    ┃   ┗━━ Visual representation of different variable type\n",
       "    ┗━━ Analyze missing value\n",
       "        ┣━━ The percentage of missing value in each columns\n",
       "        ┣━━ The missing value counts\n",
       "        ┗━━ Visual representation of missing value\n",
       "</pre>\n"
      ],
      "text/plain": [
       "EDA\n",
       "┗━━ Dataset Shape Analysis\n",
       "    ┣━━ Dataset head\n",
       "    ┣━━ General info \n",
       "    ┣━━ The target variable\n",
       "    ┣━━ Number of rows and columns\n",
       "    ┣━━ The different data types\n",
       "    ┃   ┣━━ The sum of different variable type\n",
       "    ┃   ┗━━ Visual representation of different variable type\n",
       "    ┗━━ Analyze missing value\n",
       "        ┣━━ The percentage of missing value in each columns\n",
       "        ┣━━ The missing value counts\n",
       "        ┗━━ Visual representation of missing value\n"
      ]
     },
     "metadata": {},
     "output_type": "display_data"
    },
    {
     "data": {
      "text/html": [
       "<pre style=\"white-space:pre;overflow-x:auto;line-height:normal;font-family:Menlo,'DejaVu Sans Mono',consolas,'Courier New',monospace\">╭──────────────────────────────────────────── DATASET SHAPE ANALYSIS ─────────────────────────────────────────────╮\n",
       "│                                                                                                                 │\n",
       "╰─────────────────────────────────────────────────────────────────────────────────────────────────────────────────╯\n",
       "</pre>\n"
      ],
      "text/plain": [
       "╭──────────────────────────────────────────── DATASET SHAPE ANALYSIS ─────────────────────────────────────────────╮\n",
       "│                                                                                                                 │\n",
       "╰─────────────────────────────────────────────────────────────────────────────────────────────────────────────────╯\n"
      ]
     },
     "metadata": {},
     "output_type": "display_data"
    },
    {
     "data": {
      "text/html": [
       "<pre style=\"white-space:pre;overflow-x:auto;line-height:normal;font-family:Menlo,'DejaVu Sans Mono',consolas,'Courier New',monospace\">                        -------------------- THE HEAD OF YOUR DATASET --------------------                         \n",
       "</pre>\n"
      ],
      "text/plain": [
       "                        -------------------- THE HEAD OF YOUR DATASET --------------------                         \n"
      ]
     },
     "metadata": {},
     "output_type": "display_data"
    },
    {
     "data": {
      "text/html": [
       "<pre style=\"white-space:pre;overflow-x:auto;line-height:normal;font-family:Menlo,'DejaVu Sans Mono',consolas,'Courier New',monospace\">Your dataset is too large ; only the first <span style=\"color: #008080; text-decoration-color: #008080; font-weight: bold\">8</span> columns will be display\n",
       "</pre>\n"
      ],
      "text/plain": [
       "Your dataset is too large ; only the first \u001b[1;36m8\u001b[0m columns will be display\n"
      ]
     },
     "metadata": {},
     "output_type": "display_data"
    },
    {
     "data": {
      "text/html": [
       "<pre style=\"white-space:pre;overflow-x:auto;line-height:normal;font-family:Menlo,'DejaVu Sans Mono',consolas,'Courier New',monospace\"><span style=\"font-style: italic\">                                                    The Dataset                                                    </span>\n",
       "┏━━━━━━━━━━━━━━━━┳━━━━━━━━━━━━━━┳━━━━━━━━━━━━┳━━━━━━━━━┳━━━━━━━┳━━━━━━━━━━━━━┳━━━━━━━━━━━━━┳━━━━━━━━━━┳━━━━━━━━━━━┓\n",
       "┃<span style=\"font-weight: bold\"> magnitude_of_… </span>┃<span style=\"font-weight: bold\"> delay_in_se… </span>┃<span style=\"font-weight: bold\"> affected_… </span>┃<span style=\"font-weight: bold\"> record… </span>┃<span style=\"font-weight: bold\"> lumi… </span>┃<span style=\"font-weight: bold\"> avg_temper… </span>┃<span style=\"font-weight: bold\"> avg_atm_pr… </span>┃<span style=\"font-weight: bold\"> avg_hum… </span>┃<span style=\"font-weight: bold\"> avg_wind… </span>┃\n",
       "┡━━━━━━━━━━━━━━━━╇━━━━━━━━━━━━━━╇━━━━━━━━━━━━╇━━━━━━━━━╇━━━━━━━╇━━━━━━━━━━━━━╇━━━━━━━━━━━━━╇━━━━━━━━━━╇━━━━━━━━━━━┩\n",
       "└────────────────┴──────────────┴────────────┴─────────┴───────┴─────────────┴─────────────┴──────────┴───────────┘\n",
       "</pre>\n"
      ],
      "text/plain": [
       "\u001b[3m                                                    The Dataset                                                    \u001b[0m\n",
       "┏━━━━━━━━━━━━━━━━┳━━━━━━━━━━━━━━┳━━━━━━━━━━━━┳━━━━━━━━━┳━━━━━━━┳━━━━━━━━━━━━━┳━━━━━━━━━━━━━┳━━━━━━━━━━┳━━━━━━━━━━━┓\n",
       "┃\u001b[1m \u001b[0m\u001b[1mmagnitude_of_…\u001b[0m\u001b[1m \u001b[0m┃\u001b[1m \u001b[0m\u001b[1mdelay_in_se…\u001b[0m\u001b[1m \u001b[0m┃\u001b[1m \u001b[0m\u001b[1maffected_…\u001b[0m\u001b[1m \u001b[0m┃\u001b[1m \u001b[0m\u001b[1mrecord…\u001b[0m\u001b[1m \u001b[0m┃\u001b[1m \u001b[0m\u001b[1mlumi…\u001b[0m\u001b[1m \u001b[0m┃\u001b[1m \u001b[0m\u001b[1mavg_temper…\u001b[0m\u001b[1m \u001b[0m┃\u001b[1m \u001b[0m\u001b[1mavg_atm_pr…\u001b[0m\u001b[1m \u001b[0m┃\u001b[1m \u001b[0m\u001b[1mavg_hum…\u001b[0m\u001b[1m \u001b[0m┃\u001b[1m \u001b[0m\u001b[1mavg_wind…\u001b[0m\u001b[1m \u001b[0m┃\n",
       "┡━━━━━━━━━━━━━━━━╇━━━━━━━━━━━━━━╇━━━━━━━━━━━━╇━━━━━━━━━╇━━━━━━━╇━━━━━━━━━━━━━╇━━━━━━━━━━━━━╇━━━━━━━━━━╇━━━━━━━━━━━┩\n",
       "└────────────────┴──────────────┴────────────┴─────────┴───────┴─────────────┴─────────────┴──────────┴───────────┘\n"
      ]
     },
     "metadata": {},
     "output_type": "display_data"
    },
    {
     "data": {
      "text/html": [
       "<pre style=\"white-space:pre;overflow-x:auto;line-height:normal;font-family:Menlo,'DejaVu Sans Mono',consolas,'Courier New',monospace\">                  -------------------- SOME GENERAL INFO ABOUT YOUR DATASET --------------------                   \n",
       "</pre>\n"
      ],
      "text/plain": [
       "                  -------------------- SOME GENERAL INFO ABOUT YOUR DATASET --------------------                   \n"
      ]
     },
     "metadata": {},
     "output_type": "display_data"
    },
    {
     "name": "stdout",
     "output_type": "stream",
     "text": [
      "<class 'pandas.core.frame.DataFrame'>\n",
      "Int64Index: 6206 entries, 0 to 1205\n",
      "Data columns (total 11 columns):\n",
      " #   Column              Non-Null Count  Dtype  \n",
      "---  ------              --------------  -----  \n",
      " 0   magnitude_of_delay  6206 non-null   object \n",
      " 1   delay_in_seconds    6206 non-null   int64  \n",
      " 2   affected_roads      6099 non-null   object \n",
      " 3   record_date         6206 non-null   object \n",
      " 4   luminosity          6206 non-null   object \n",
      " 5   avg_temperature     6206 non-null   float64\n",
      " 6   avg_atm_pressure    6206 non-null   float64\n",
      " 7   avg_humidity        6206 non-null   float64\n",
      " 8   avg_wind_speed      6206 non-null   float64\n",
      " 9   avg_rain            6206 non-null   object \n",
      " 10  incidents           6206 non-null   object \n",
      "dtypes: float64(4), int64(1), object(6)\n",
      "memory usage: 581.8+ KB\n"
     ]
    },
    {
     "data": {
      "text/html": [
       "<pre style=\"white-space:pre;overflow-x:auto;line-height:normal;font-family:Menlo,'DejaVu Sans Mono',consolas,'Courier New',monospace\">                   -------------------- THE TARGET VARIABLE OF YOUR DATASET --------------------                   \n",
       "</pre>\n"
      ],
      "text/plain": [
       "                   -------------------- THE TARGET VARIABLE OF YOUR DATASET --------------------                   \n"
      ]
     },
     "metadata": {},
     "output_type": "display_data"
    },
    {
     "data": {
      "text/html": [
       "<pre style=\"white-space:pre;overflow-x:auto;line-height:normal;font-family:Menlo,'DejaVu Sans Mono',consolas,'Courier New',monospace\">╭───────────────────────────────────────╮\n",
       "│ The Target variable is : 'incidents'  │\n",
       "╰───────────────────────────────────────╯\n",
       "</pre>\n"
      ],
      "text/plain": [
       "╭───────────────────────────────────────╮\n",
       "│ The Target variable is : 'incidents'  │\n",
       "╰───────────────────────────────────────╯\n"
      ]
     },
     "metadata": {},
     "output_type": "display_data"
    },
    {
     "data": {
      "text/html": [
       "<pre style=\"white-space:pre;overflow-x:auto;line-height:normal;font-family:Menlo,'DejaVu Sans Mono',consolas,'Courier New',monospace\">                    -------------------- ROWS AND COLUMNS IN YOUR DATASET --------------------                     \n",
       "</pre>\n"
      ],
      "text/plain": [
       "                    -------------------- ROWS AND COLUMNS IN YOUR DATASET --------------------                     \n"
      ]
     },
     "metadata": {},
     "output_type": "display_data"
    },
    {
     "data": {
      "text/html": [
       "<pre style=\"white-space:pre;overflow-x:auto;line-height:normal;font-family:Menlo,'DejaVu Sans Mono',consolas,'Courier New',monospace\">╭─ Shape output ─╮\n",
       "│ (6206, 11)     │\n",
       "╰────────────────╯\n",
       "</pre>\n"
      ],
      "text/plain": [
       "╭─ Shape output ─╮\n",
       "│ (6206, 11)     │\n",
       "╰────────────────╯\n"
      ]
     },
     "metadata": {},
     "output_type": "display_data"
    },
    {
     "data": {
      "text/html": [
       "<pre style=\"white-space:pre;overflow-x:auto;line-height:normal;font-family:Menlo,'DejaVu Sans Mono',consolas,'Courier New',monospace\">╭────────────────────────────────────────────────╮\n",
       "│ Your dataset contains 6206 Rows and 11 Columns │\n",
       "╰────────────────────────────────────────────────╯\n",
       "</pre>\n"
      ],
      "text/plain": [
       "╭────────────────────────────────────────────────╮\n",
       "│ Your dataset contains 6206 Rows and 11 Columns │\n",
       "╰────────────────────────────────────────────────╯\n"
      ]
     },
     "metadata": {},
     "output_type": "display_data"
    },
    {
     "data": {
      "text/html": [
       "<pre style=\"white-space:pre;overflow-x:auto;line-height:normal;font-family:Menlo,'DejaVu Sans Mono',consolas,'Courier New',monospace\">                     -------------------- THE DATA TYPES IN YOUR DATASET --------------------                      \n",
       "</pre>\n"
      ],
      "text/plain": [
       "                     -------------------- THE DATA TYPES IN YOUR DATASET --------------------                      \n"
      ]
     },
     "metadata": {},
     "output_type": "display_data"
    },
    {
     "data": {
      "text/html": [
       "<pre style=\"white-space:pre;overflow-x:auto;line-height:normal;font-family:Menlo,'DejaVu Sans Mono',consolas,'Courier New',monospace\">╭─ Data types output ─╮\n",
       "│ object     6        │\n",
       "│ float64    4        │\n",
       "│ int64      1        │\n",
       "│ dtype: int64        │\n",
       "╰─────────────────────╯\n",
       "</pre>\n"
      ],
      "text/plain": [
       "╭─ Data types output ─╮\n",
       "│ object     6        │\n",
       "│ float64    4        │\n",
       "│ int64      1        │\n",
       "│ dtype: int64        │\n",
       "╰─────────────────────╯\n"
      ]
     },
     "metadata": {},
     "output_type": "display_data"
    },
    {
     "data": {
      "image/png": "[encoded data removed]",
      "text/plain": [
       "<Figure size 288x288 with 1 Axes>"
      ]
     },
     "metadata": {},
     "output_type": "display_data"
    },
    {
     "data": {
      "text/html": [
       "<pre style=\"white-space:pre;overflow-x:auto;line-height:normal;font-family:Menlo,'DejaVu Sans Mono',consolas,'Courier New',monospace\">                      -------------------- MISSING VALUE IN YOUR DATASET --------------------                      \n",
       "</pre>\n"
      ],
      "text/plain": [
       "                      -------------------- MISSING VALUE IN YOUR DATASET --------------------                      \n"
      ]
     },
     "metadata": {},
     "output_type": "display_data"
    },
    {
     "data": {
      "text/html": [
       "<pre style=\"white-space:pre;overflow-x:auto;line-height:normal;font-family:Menlo,'DejaVu Sans Mono',consolas,'Courier New',monospace\">╭───── Missing value output ─────╮\n",
       "│ magnitude_of_delay    0.000000 │\n",
       "│ delay_in_seconds      0.000000 │\n",
       "│ record_date           0.000000 │\n",
       "│ luminosity            0.000000 │\n",
       "│ avg_temperature       0.000000 │\n",
       "│ avg_atm_pressure      0.000000 │\n",
       "│ avg_humidity          0.000000 │\n",
       "│ avg_wind_speed        0.000000 │\n",
       "│ avg_rain              0.000000 │\n",
       "│ incidents             0.000000 │\n",
       "│ affected_roads        0.017241 │\n",
       "│ dtype: float64                 │\n",
       "╰────────────────────────────────╯\n",
       "</pre>\n"
      ],
      "text/plain": [
       "╭───── Missing value output ─────╮\n",
       "│ magnitude_of_delay    0.000000 │\n",
       "│ delay_in_seconds      0.000000 │\n",
       "│ record_date           0.000000 │\n",
       "│ luminosity            0.000000 │\n",
       "│ avg_temperature       0.000000 │\n",
       "│ avg_atm_pressure      0.000000 │\n",
       "│ avg_humidity          0.000000 │\n",
       "│ avg_wind_speed        0.000000 │\n",
       "│ avg_rain              0.000000 │\n",
       "│ incidents             0.000000 │\n",
       "│ affected_roads        0.017241 │\n",
       "│ dtype: float64                 │\n",
       "╰────────────────────────────────╯\n"
      ]
     },
     "metadata": {},
     "output_type": "display_data"
    },
    {
     "data": {
      "text/html": [
       "<pre style=\"white-space:pre;overflow-x:auto;line-height:normal;font-family:Menlo,'DejaVu Sans Mono',consolas,'Courier New',monospace\">╭─ Missing value counts output ─╮\n",
       "│ 0.017241     1                │\n",
       "│ 0.000000    10                │\n",
       "│ dtype: int64                  │\n",
       "╰───────────────────────────────╯\n",
       "</pre>\n"
      ],
      "text/plain": [
       "╭─ Missing value counts output ─╮\n",
       "│ 0.017241     1                │\n",
       "│ 0.000000    10                │\n",
       "│ dtype: int64                  │\n",
       "╰───────────────────────────────╯\n"
      ]
     },
     "metadata": {},
     "output_type": "display_data"
    },
    {
     "data": {
      "image/png": "[encoded data removed]",
      "text/plain": [
       "<Figure size 360x288 with 2 Axes>"
      ]
     },
     "metadata": {
      "needs_background": "light"
     },
     "output_type": "display_data"
    },
    {
     "data": {
      "text/html": [
       "<pre style=\"white-space:pre;overflow-x:auto;line-height:normal;font-family:Menlo,'DejaVu Sans Mono',consolas,'Courier New',monospace\">                                   #################### END ####################                                   \n",
       "</pre>\n"
      ],
      "text/plain": [
       "                                   #################### END ####################                                   \n"
      ]
     },
     "metadata": {},
     "output_type": "display_data"
    }
   ],
   "source": [
    "lois_ds_report(dataset,target_variable=\"incidents\")"
   ]
  },
  {
   "cell_type": "code",
   "execution_count": 1797,
   "metadata": {},
   "outputs": [
    {
     "data": {
      "text/html": [
       "<div>\n",
       "<style scoped>\n",
       "    .dataframe tbody tr th:only-of-type {\n",
       "        vertical-align: middle;\n",
       "    }\n",
       "\n",
       "    .dataframe tbody tr th {\n",
       "        vertical-align: top;\n",
       "    }\n",
       "\n",
       "    .dataframe thead th {\n",
       "        text-align: right;\n",
       "    }\n",
       "</style>\n",
       "<table border=\"1\" class=\"dataframe\">\n",
       "  <thead>\n",
       "    <tr style=\"text-align: right;\">\n",
       "      <th></th>\n",
       "      <th>magnitude_of_delay</th>\n",
       "      <th>delay_in_seconds</th>\n",
       "      <th>affected_roads</th>\n",
       "      <th>record_date</th>\n",
       "      <th>luminosity</th>\n",
       "      <th>avg_temperature</th>\n",
       "      <th>avg_atm_pressure</th>\n",
       "      <th>avg_humidity</th>\n",
       "      <th>avg_wind_speed</th>\n",
       "      <th>avg_rain</th>\n",
       "      <th>incidents</th>\n",
       "    </tr>\n",
       "  </thead>\n",
       "  <tbody>\n",
       "    <tr>\n",
       "      <th>0</th>\n",
       "      <td>UNDEFINED</td>\n",
       "      <td>0</td>\n",
       "      <td>,</td>\n",
       "      <td>2021-03-15 23:00</td>\n",
       "      <td>DARK</td>\n",
       "      <td>12.0</td>\n",
       "      <td>1013.0</td>\n",
       "      <td>70.0</td>\n",
       "      <td>1.0</td>\n",
       "      <td>Sem Chuva</td>\n",
       "      <td>None</td>\n",
       "    </tr>\n",
       "    <tr>\n",
       "      <th>1</th>\n",
       "      <td>UNDEFINED</td>\n",
       "      <td>385</td>\n",
       "      <td>N101,</td>\n",
       "      <td>2021-12-25 18:00</td>\n",
       "      <td>DARK</td>\n",
       "      <td>12.0</td>\n",
       "      <td>1007.0</td>\n",
       "      <td>91.0</td>\n",
       "      <td>1.0</td>\n",
       "      <td>Sem Chuva</td>\n",
       "      <td>None</td>\n",
       "    </tr>\n",
       "    <tr>\n",
       "      <th>2</th>\n",
       "      <td>UNDEFINED</td>\n",
       "      <td>69</td>\n",
       "      <td>,</td>\n",
       "      <td>2021-03-12 15:00</td>\n",
       "      <td>LIGHT</td>\n",
       "      <td>14.0</td>\n",
       "      <td>1025.0</td>\n",
       "      <td>64.0</td>\n",
       "      <td>0.0</td>\n",
       "      <td>Sem Chuva</td>\n",
       "      <td>Low</td>\n",
       "    </tr>\n",
       "    <tr>\n",
       "      <th>3</th>\n",
       "      <td>MAJOR</td>\n",
       "      <td>2297</td>\n",
       "      <td>N101,R206,N105,N101,N101,N101,N101,N101,N101,N...</td>\n",
       "      <td>2021-09-29 09:00</td>\n",
       "      <td>LIGHT</td>\n",
       "      <td>15.0</td>\n",
       "      <td>1028.0</td>\n",
       "      <td>75.0</td>\n",
       "      <td>1.0</td>\n",
       "      <td>Sem Chuva</td>\n",
       "      <td>Very_High</td>\n",
       "    </tr>\n",
       "    <tr>\n",
       "      <th>4</th>\n",
       "      <td>UNDEFINED</td>\n",
       "      <td>0</td>\n",
       "      <td>N101,N101,N101,N101,N101,</td>\n",
       "      <td>2021-06-13 11:00</td>\n",
       "      <td>LIGHT</td>\n",
       "      <td>27.0</td>\n",
       "      <td>1020.0</td>\n",
       "      <td>52.0</td>\n",
       "      <td>1.0</td>\n",
       "      <td>Sem Chuva</td>\n",
       "      <td>High</td>\n",
       "    </tr>\n",
       "  </tbody>\n",
       "</table>\n",
       "</div>"
      ],
      "text/plain": [
       "  magnitude_of_delay  delay_in_seconds  \\\n",
       "0          UNDEFINED                 0   \n",
       "1          UNDEFINED               385   \n",
       "2          UNDEFINED                69   \n",
       "3              MAJOR              2297   \n",
       "4          UNDEFINED                 0   \n",
       "\n",
       "                                      affected_roads       record_date  \\\n",
       "0                                                  ,  2021-03-15 23:00   \n",
       "1                                              N101,  2021-12-25 18:00   \n",
       "2                                                  ,  2021-03-12 15:00   \n",
       "3  N101,R206,N105,N101,N101,N101,N101,N101,N101,N...  2021-09-29 09:00   \n",
       "4                          N101,N101,N101,N101,N101,  2021-06-13 11:00   \n",
       "\n",
       "  luminosity  avg_temperature  avg_atm_pressure  avg_humidity  avg_wind_speed  \\\n",
       "0       DARK             12.0            1013.0          70.0             1.0   \n",
       "1       DARK             12.0            1007.0          91.0             1.0   \n",
       "2      LIGHT             14.0            1025.0          64.0             0.0   \n",
       "3      LIGHT             15.0            1028.0          75.0             1.0   \n",
       "4      LIGHT             27.0            1020.0          52.0             1.0   \n",
       "\n",
       "    avg_rain  incidents  \n",
       "0  Sem Chuva       None  \n",
       "1  Sem Chuva       None  \n",
       "2  Sem Chuva        Low  \n",
       "3  Sem Chuva  Very_High  \n",
       "4  Sem Chuva       High  "
      ]
     },
     "execution_count": 1797,
     "metadata": {},
     "output_type": "execute_result"
    }
   ],
   "source": [
    "dataset.head()"
   ]
  },
  {
   "attachments": {},
   "cell_type": "markdown",
   "metadata": {},
   "source": [
    "## 4. Data Preprocessing"
   ]
  },
  {
   "attachments": {},
   "cell_type": "markdown",
   "metadata": {},
   "source": [
    "### Look for any Duplicated Rows"
   ]
  },
  {
   "cell_type": "code",
   "execution_count": 1798,
   "metadata": {},
   "outputs": [
    {
     "name": "stdout",
     "output_type": "stream",
     "text": [
      "Number of duplicated rows: 0\n"
     ]
    }
   ],
   "source": [
    "# Is there any duplicated data?\n",
    "print(\"Number of duplicated rows: {}\".format(dataset.duplicated().sum()))"
   ]
  },
  {
   "attachments": {},
   "cell_type": "markdown",
   "metadata": {},
   "source": [
    "#### Handle Affected Roads"
   ]
  },
  {
   "cell_type": "code",
   "execution_count": 1799,
   "metadata": {},
   "outputs": [],
   "source": [
    "# Column affected_roads is a list of roads that are affected by the incident.\n",
    "# Replace this column with the number of roads affected by the incident.\n",
    "# Iterate over the number of affected roads of each incident.\n",
    "def replace_affected_roads(data):\n",
    "    \n",
    "    for index, row in data.iterrows():\n",
    "        # Check if the value is NaN\n",
    "        split_roads = []\n",
    "        if not pd.isnull(row['affected_roads']):\n",
    "            split_roads = row['affected_roads'].split(',')\n",
    "        \n",
    "        # Remove empty strings\n",
    "        split_roads = list(filter(None, split_roads))\n",
    "        \n",
    "        # Remove duplicates\n",
    "        split_roads = list(dict.fromkeys(split_roads))\n",
    "        \n",
    "        data.at[index, 'affected_roads'] = len(split_roads)\n",
    "        \n",
    "    # Rename column\n",
    "    data['affected_roads'] = data['affected_roads'].astype('int64')\n",
    "    data.rename(columns={'affected_roads': 'number_of_affected_roads'}, inplace=True)\n",
    "    \n",
    "    return data\n",
    "\n",
    "if 'affected_roads' in dataset.columns:\n",
    "    dataset = replace_affected_roads(dataset)"
   ]
  },
  {
   "cell_type": "code",
   "execution_count": 1800,
   "metadata": {},
   "outputs": [
    {
     "name": "stdout",
     "output_type": "stream",
     "text": [
      "Number of zeros in 'number_of_affected_roads' column: 1003\n"
     ]
    }
   ],
   "source": [
    "# Count zeros of 'number_of_affected_roads' column\n",
    "print(\"Number of zeros in 'number_of_affected_roads' column: {}\".format(dataset['number_of_affected_roads'].isin([0]).sum()))\n",
    "\n",
    "# TODO: Anythig else to do with affected_roads? To much zeros"
   ]
  },
  {
   "attachments": {},
   "cell_type": "markdown",
   "metadata": {},
   "source": [
    "### Handle Categorical data"
   ]
  },
  {
   "cell_type": "code",
   "execution_count": 1801,
   "metadata": {},
   "outputs": [
    {
     "name": "stdout",
     "output_type": "stream",
     "text": [
      "Column: magnitude_of_delay\n",
      "['UNDEFINED' 'MAJOR' 'MODERATE']\n",
      "-----------------------------------------------------------------------\n",
      "Column: luminosity\n",
      "['DARK' 'LIGHT' 'LOW_LIGHT']\n",
      "-----------------------------------------------------------------------\n",
      "Column: avg_rain\n",
      "['Sem Chuva' 'chuva moderada' 'chuva fraca' 'chuva forte']\n",
      "-----------------------------------------------------------------------\n",
      "Column: incidents\n",
      "['None' 'Low' 'Very_High' 'High' 'Medium' 'test-only']\n",
      "-----------------------------------------------------------------------\n"
     ]
    }
   ],
   "source": [
    "# There are 5 non-numeric columns: magnitude_of_delay, record_date, luminosity, avg_rain and incidents\n",
    "# See the different values of each column - exclude record_date, because it is a date (\\:)\n",
    "non_numeric_columns = ['magnitude_of_delay', 'luminosity', 'avg_rain', 'incidents']\n",
    "for column in non_numeric_columns:\n",
    "    print(\"Column: {}\".format(column))\n",
    "    print(dataset[column].unique())\n",
    "    print(\"-----------------------------------------------------------------------\") "
   ]
  },
  {
   "cell_type": "code",
   "execution_count": 1802,
   "metadata": {},
   "outputs": [
    {
     "data": {
      "image/png": "[encoded data removed]",
      "text/plain": [
       "<Figure size 720x720 with 4 Axes>"
      ]
     },
     "metadata": {
      "needs_background": "light"
     },
     "output_type": "display_data"
    }
   ],
   "source": [
    "# Get the distribution of the non-numeric columns\n",
    "fig, axes = plt.subplots(nrows=2, ncols=2, figsize=(10, 10))\n",
    "for idx, column in enumerate(non_numeric_columns):\n",
    "    sns.countplot(x=column, data=dataset, ax=axes[idx // 2, idx % 2])\n",
    "plt.tight_layout()\n",
    "plt.show()"
   ]
  },
  {
   "attachments": {},
   "cell_type": "markdown",
   "metadata": {},
   "source": [
    "#### Magnitude of delay / Delay in Seconds"
   ]
  },
  {
   "cell_type": "code",
   "execution_count": 1803,
   "metadata": {},
   "outputs": [
    {
     "data": {
      "text/plain": [
       "<AxesSubplot:xlabel='incidents', ylabel='count'>"
      ]
     },
     "execution_count": 1803,
     "metadata": {},
     "output_type": "execute_result"
    },
    {
     "data": {
      "image/png": "[encoded data removed]",
      "text/plain": [
       "<Figure size 432x288 with 1 Axes>"
      ]
     },
     "metadata": {
      "needs_background": "light"
     },
     "output_type": "display_data"
    }
   ],
   "source": [
    "# Relation between \"MAJOR\" delays and the incidents\n",
    "sns.countplot(x='incidents', hue='magnitude_of_delay', data=dataset)"
   ]
  },
  {
   "cell_type": "code",
   "execution_count": 1804,
   "metadata": {},
   "outputs": [
    {
     "name": "stdout",
     "output_type": "stream",
     "text": [
      "Number of UNDEFINED delays: 5344\n",
      "Number of MAJOR delays: 853\n",
      "Number of MODERATE delays: 9\n"
     ]
    },
    {
     "data": {
      "image/png": "[encoded data removed]",
      "text/plain": [
       "<Figure size 432x288 with 1 Axes>"
      ]
     },
     "metadata": {
      "needs_background": "light"
     },
     "output_type": "display_data"
    }
   ],
   "source": [
    "# Relation between magnitude of delay and delay in seconds\n",
    "sns.scatterplot(x='delay_in_seconds', y='magnitude_of_delay', data=dataset)\n",
    "\n",
    "# Count the UNDIFINED, MAJOR and MODERATE delays\n",
    "print(\"Number of UNDEFINED delays: {}\".format(dataset[dataset['magnitude_of_delay'] == 'UNDEFINED'].shape[0]))\n",
    "print(\"Number of MAJOR delays: {}\".format(dataset[dataset['magnitude_of_delay'] == 'MAJOR'].shape[0]))\n",
    "print(\"Number of MODERATE delays: {}\".format(dataset[dataset['magnitude_of_delay'] == 'MODERATE'].shape[0]))"
   ]
  },
  {
   "cell_type": "code",
   "execution_count": 1805,
   "metadata": {},
   "outputs": [
    {
     "data": {
      "image/png": "[encoded data removed]",
      "text/plain": [
       "<Figure size 720x360 with 2 Axes>"
      ]
     },
     "metadata": {
      "needs_background": "light"
     },
     "output_type": "display_data"
    },
    {
     "name": "stdout",
     "output_type": "stream",
     "text": [
      "Average delay in seconds for UNDEFINED delays: 123.35778443113773\n",
      "Average delay in seconds for MODERATE delays: 2182.4444444444443\n",
      "Average delay in seconds for MAJOR delays: 3288.928487690504\n"
     ]
    }
   ],
   "source": [
    "# Get distribution of values of delay_in_seconds that have a magnitude_of_delay of \"MAJOR\" and \"UNDEFINED\"\n",
    "undefined_delay = dataset[dataset['magnitude_of_delay'] == 'UNDEFINED']\n",
    "major_delay = dataset[dataset['magnitude_of_delay'] == 'MAJOR']\n",
    "\n",
    "fig, axes = plt.subplots(nrows=1, ncols=2, figsize=(10, 5))\n",
    "undefined_delay['delay_in_seconds'].hist(ax=axes[0])\n",
    "major_delay['delay_in_seconds'].hist(ax=axes[1])\n",
    "plt.xlabel('Delay in seconds')\n",
    "plt.ylabel('Count')\n",
    "plt.show()\n",
    "\n",
    "# Print average delay in seconds for each magnitude of delay\n",
    "print(\"Average delay in seconds for UNDEFINED delays: {}\".format(undefined_delay['delay_in_seconds'].mean()))\n",
    "print(\"Average delay in seconds for MODERATE delays: {}\".format(dataset[dataset['magnitude_of_delay'] == 'MODERATE']['delay_in_seconds'].mean()))\n",
    "print(\"Average delay in seconds for MAJOR delays: {}\".format(major_delay['delay_in_seconds'].mean()))\n"
   ]
  },
  {
   "cell_type": "code",
   "execution_count": 1806,
   "metadata": {},
   "outputs": [
    {
     "name": "stdout",
     "output_type": "stream",
     "text": [
      "Number of zero values of delay_in_seconds: 3981\n",
      "Number of zero values of delay_in_seconds with UNDEFINED magnitude_of_delay: 3953\n",
      "Number of zero values of delay_in_seconds with MAJOR magnitude_of_delay: 28\n"
     ]
    }
   ],
   "source": [
    "# Count zero values of delay_in_seconds\n",
    "print(\"Number of zero values of delay_in_seconds: {}\".format(dataset[dataset['delay_in_seconds'] == 0].shape[0]))\n",
    "\n",
    "# Count zero values of delay_in_seconds that have a magnitude_of_delay of \"MAJOR\" and \"UNDEFINED\"\n",
    "print(\"Number of zero values of delay_in_seconds with UNDEFINED magnitude_of_delay: {}\".format(undefined_delay[undefined_delay['delay_in_seconds'] == 0].shape[0]))\n",
    "print(\"Number of zero values of delay_in_seconds with MAJOR magnitude_of_delay: {}\".format(major_delay[major_delay['delay_in_seconds'] == 0].shape[0]))"
   ]
  },
  {
   "cell_type": "code",
   "execution_count": 1807,
   "metadata": {},
   "outputs": [
    {
     "name": "stdout",
     "output_type": "stream",
     "text": [
      "Low          32\n",
      "test-only    10\n",
      "None          9\n",
      "Medium        2\n",
      "Name: incidents, dtype: int64\n"
     ]
    }
   ],
   "source": [
    "# Get count of the incidents that have a magnitude_of_delay of \"MAJOR\" per type...\n",
    "major_delay_zero = major_delay[major_delay['delay_in_seconds'] < 250]\n",
    "print(major_delay_zero['incidents'].value_counts())"
   ]
  },
  {
   "cell_type": "code",
   "execution_count": 1808,
   "metadata": {},
   "outputs": [
    {
     "name": "stdout",
     "output_type": "stream",
     "text": [
      "Skewness (all): 6.044188264462225\n",
      "Skewness (non-zero): 3.8291844458228224\n"
     ]
    },
    {
     "data": {
      "image/png": "[encoded data removed]",
      "text/plain": [
       "<Figure size 360x360 with 1 Axes>"
      ]
     },
     "metadata": {
      "needs_background": "light"
     },
     "output_type": "display_data"
    }
   ],
   "source": [
    "# Plot the distribution of the 'delay_in_seconds' column non-zero values\n",
    "sns.displot(dataset[dataset['delay_in_seconds'] > 0]['delay_in_seconds'])\n",
    "print(\"Skewness (all): {}\".format(dataset['delay_in_seconds'].skew()))\n",
    "print(\"Skewness (non-zero): {}\".format(dataset[dataset['delay_in_seconds'] > 0]['delay_in_seconds'].skew()))"
   ]
  },
  {
   "cell_type": "code",
   "execution_count": 1809,
   "metadata": {},
   "outputs": [
    {
     "data": {
      "image/png": "[encoded data removed]",
      "text/plain": [
       "<Figure size 360x360 with 1 Axes>"
      ]
     },
     "metadata": {
      "needs_background": "light"
     },
     "output_type": "display_data"
    }
   ],
   "source": [
    "if 'magnitude_of_delay' in dataset.columns:\n",
    "    # Map values no numeric\n",
    "    # TODO: Tune this values as needed!\n",
    "    dict_magnitude_of_delay = {'UNDEFINED': 1, 'MODERATE':1.5, 'MAJOR':2}\n",
    "    dataset['magnitude_of_delay'] = dataset['magnitude_of_delay'].map(dict_magnitude_of_delay)\n",
    "    \n",
    "    # Multiply the 'delay_in_seconds' column by the 'magnitude_of_delay' column\n",
    "    #\n",
    "    # The reason for this is that the 'delay_in_seconds' column has a lot of zero values.\n",
    "    # The \"UNDEFINED\" has a delay of 0 seconds in 75% of the cases.\n",
    "    #  It has 94% of values under 10 minutes.\n",
    "    #\n",
    "    dataset['delay_in_seconds'] = dataset['delay_in_seconds'] * dataset['magnitude_of_delay']\n",
    "    \n",
    "    # Apply log transformation to the non-zero values of 'delay_in_seconds' column)\n",
    "    dataset.loc[dataset['delay_in_seconds'] > 0, 'delay_in_seconds'] = np.log(dataset.loc[dataset['delay_in_seconds'] > 0, 'delay_in_seconds'])\n",
    "    \n",
    "    # Scale the non-zero values of 'delay_in_seconds' column\n",
    "    scaler = MinMaxScaler()\n",
    "    dataset.loc[dataset['delay_in_seconds'] > 0, 'delay_in_seconds'] = scaler.fit_transform(dataset.loc[dataset['delay_in_seconds'] > 0, 'delay_in_seconds'].values.reshape(-1, 1))\n",
    "    \n",
    "    # Plot the distribution of the non-zero values of 'delay_in_seconds' column\n",
    "    sns.displot(dataset[dataset['delay_in_seconds'] > 0]['delay_in_seconds'])\n",
    "    \n",
    "    # Drop magnitude_of_delay column\n",
    "    dataset.drop('magnitude_of_delay', axis=1, inplace=True)\n",
    "    \n",
    "    # Rename column as 'delay_coefficient'\n",
    "    dataset.rename(columns={'delay_in_seconds': 'delay_coefficient'}, inplace=True)\n"
   ]
  },
  {
   "cell_type": "code",
   "execution_count": 1810,
   "metadata": {},
   "outputs": [
    {
     "name": "stdout",
     "output_type": "stream",
     "text": [
      "Number of zero values of delay_coefficient: 3986\n"
     ]
    }
   ],
   "source": [
    "# TODO: The 'delay_coefficient' column has a lot of zero values!!\n",
    "# Also, should we convert to binary delay/no delay? Binning?\n",
    "print(\"Number of zero values of delay_coefficient: {}\".format(dataset[dataset['delay_coefficient'] == 0].shape[0]))"
   ]
  },
  {
   "attachments": {},
   "cell_type": "markdown",
   "metadata": {},
   "source": [
    "#### Luminosity"
   ]
  },
  {
   "cell_type": "code",
   "execution_count": 1811,
   "metadata": {},
   "outputs": [
    {
     "data": {
      "text/plain": [
       "DARK         3112\n",
       "LIGHT        2871\n",
       "LOW_LIGHT     223\n",
       "Name: luminosity, dtype: int64"
      ]
     },
     "execution_count": 1811,
     "metadata": {},
     "output_type": "execute_result"
    }
   ],
   "source": [
    "# Count different values of the 'luminosity' column\n",
    "dataset['luminosity'].value_counts()"
   ]
  },
  {
   "cell_type": "code",
   "execution_count": 1812,
   "metadata": {},
   "outputs": [
    {
     "name": "stdout",
     "output_type": "stream",
     "text": [
      "None         72\n",
      "High         52\n",
      "test-only    37\n",
      "Very_High    24\n",
      "Medium       21\n",
      "Low          17\n",
      "Name: incidents, dtype: int64\n"
     ]
    },
    {
     "data": {
      "text/plain": [
       "<AxesSubplot:xlabel='luminosity', ylabel='count'>"
      ]
     },
     "execution_count": 1812,
     "metadata": {},
     "output_type": "execute_result"
    },
    {
     "data": {
      "image/png": "[encoded data removed]",
      "text/plain": [
       "<Figure size 432x288 with 1 Axes>"
      ]
     },
     "metadata": {
      "needs_background": "light"
     },
     "output_type": "display_data"
    }
   ],
   "source": [
    "# Relation between LOW_LIGHT 'luminosity' and 'incidents'\n",
    "low_luminosity = dataset[dataset['luminosity'] == 'LOW_LIGHT']\n",
    "print(low_luminosity['incidents'].value_counts())\n",
    "sns.countplot(x='luminosity', hue='incidents', data=low_luminosity)"
   ]
  },
  {
   "cell_type": "code",
   "execution_count": 1813,
   "metadata": {},
   "outputs": [],
   "source": [
    "# None + Low = 87\n",
    "# High + Very High = 76\n",
    "#\n",
    "# The 'luminosity' column, when it is LOW_LIGHT, has a similar probability of having an incident or not.\n",
    "# So, whenever we find a LOW_LIGHT value, we will randomly assign a value of 0 or 1.\n",
    "#\n",
    "def binary_luminosity(value):\n",
    "    if value == 'LOW_LIGHT':\n",
    "        random.seed(2022) # TODO: Set seed for reproducibility\n",
    "        return random.randint(0, 1)\n",
    "    elif value == 'DARK':\n",
    "        return 0\n",
    "    elif value == 'LIGHT':\n",
    "        return 1\n",
    "    else:\n",
    "        print(\"ERROR: Invalid value for 'luminosity' column: {}\".format(value))\n",
    "\n",
    "def non_binary_luminosity(value):\n",
    "    if value == 'DARK':\n",
    "        return 0\n",
    "    elif value == 'LOW_LIGHT':\n",
    "        return 1\n",
    "    elif value == 'LIGHT':\n",
    "        return 2\n",
    "    else:\n",
    "        print(\"ERROR: Invalid value for 'luminosity' column: {}\".format(value))\n",
    "\n",
    "\n",
    "if 'luminosity' in dataset.columns and dataset['luminosity'].dtype == 'object':\n",
    "    dataset['luminosity'] = dataset['luminosity'].apply(non_binary_luminosity)"
   ]
  },
  {
   "attachments": {},
   "cell_type": "markdown",
   "metadata": {},
   "source": [
    "#### Average Rain"
   ]
  },
  {
   "cell_type": "code",
   "execution_count": 1814,
   "metadata": {},
   "outputs": [
    {
     "name": "stdout",
     "output_type": "stream",
     "text": [
      "Sem Chuva         5896\n",
      "chuva fraca        270\n",
      "chuva moderada      35\n",
      "chuva forte          5\n",
      "Name: avg_rain, dtype: int64\n"
     ]
    }
   ],
   "source": [
    "# Count different values of the 'avg_rain' column.\n",
    "print(dataset['avg_rain'].value_counts())"
   ]
  },
  {
   "cell_type": "code",
   "execution_count": 1815,
   "metadata": {},
   "outputs": [
    {
     "name": "stdout",
     "output_type": "stream",
     "text": [
      "None         67\n",
      "test-only    56\n",
      "High         50\n",
      "Very_High    39\n",
      "Low          32\n",
      "Medium       26\n",
      "Name: incidents, dtype: int64\n"
     ]
    },
    {
     "data": {
      "text/plain": [
       "<AxesSubplot:xlabel='avg_rain', ylabel='count'>"
      ]
     },
     "execution_count": 1815,
     "metadata": {},
     "output_type": "execute_result"
    },
    {
     "data": {
      "image/png": "[encoded data removed]",
      "text/plain": [
       "<Figure size 432x288 with 1 Axes>"
      ]
     },
     "metadata": {
      "needs_background": "light"
     },
     "output_type": "display_data"
    }
   ],
   "source": [
    "# Get the incidents per value of 'avg_rain'==chuva fraca\n",
    "chuva_fraca = dataset[dataset['avg_rain'] == 'chuva fraca']\n",
    "print(chuva_fraca['incidents'].value_counts())\n",
    "sns.countplot(x='avg_rain', hue='incidents', data=chuva_fraca)"
   ]
  },
  {
   "cell_type": "code",
   "execution_count": 1816,
   "metadata": {},
   "outputs": [],
   "source": [
    "# Transform the 'avg_rain' column into binary values: rain/no rain\n",
    "def binary_rain(value):\n",
    "    if value == 'Sem Chuva':\n",
    "        return 0\n",
    "    else:\n",
    "        return 1\n",
    "\n",
    "def non_binary_rain(value):\n",
    "    if value == 'Sem Chuva':\n",
    "        return 0\n",
    "    elif value == 'chuva fraca':\n",
    "        return 1\n",
    "    elif value == 'chuva moderada':\n",
    "        return 2\n",
    "    elif value == 'chuva forte':\n",
    "        return 3\n",
    "\n",
    "# Average rain\n",
    "if 'avg_rain' in dataset.columns and dataset['avg_rain'].dtype == 'object':\n",
    "    dataset['avg_rain'] = dataset['avg_rain'].apply(non_binary_rain)"
   ]
  },
  {
   "attachments": {},
   "cell_type": "markdown",
   "metadata": {},
   "source": [
    "### Handle Non-Categorical Data"
   ]
  },
  {
   "attachments": {},
   "cell_type": "markdown",
   "metadata": {},
   "source": [
    "#### Helper Functions"
   ]
  },
  {
   "cell_type": "code",
   "execution_count": 1817,
   "metadata": {},
   "outputs": [],
   "source": [
    "# Count the number of outliers per column with the IQR method; have an option to remove the outliers\n",
    "def count_outliers_IQR(data, column, remove_outliers=False, verbose=False):\n",
    "    # Calculate the 1st and 3rd quartile\n",
    "    q1 = data[column].quantile(0.25)\n",
    "    q3 = data[column].quantile(0.75)\n",
    "    # Calculate the IQR\n",
    "    IQR = q3 - q1\n",
    "    # Calculate the lower and upper bound\n",
    "    lower_bound = q1 - (1.5 * IQR)\n",
    "    upper_bound = q3 + (1.5 * IQR)\n",
    "    # Count the number of outliers\n",
    "    outliers = data[(data[column] < lower_bound) | (data[column] > upper_bound)]\n",
    "    if verbose:\n",
    "        print(\"Number of outliers for column {} is {}\".format(column, outliers.shape[0]))\n",
    "    # Remove the outliers\n",
    "    if remove_outliers:\n",
    "        number_of_rows_before = data.shape[0]\n",
    "        data = data[(data[column] > lower_bound) & (data[column] < upper_bound)]\n",
    "        print(\"Removed {} rows from the dataset\".format(number_of_rows_before - data.shape[0]))\n",
    "    return data\n",
    "\n",
    "# Count the number of outliers per column with the Z-score method; have an option to remove the outliers\n",
    "def count_outliers_Z_score(data, column, remove_outliers=False, verbose=False):\n",
    "    # Calculate the Z-score\n",
    "    z = np.abs(stats.zscore(data[column]))\n",
    "    # Count the number of outliers\n",
    "    outliers = data[z > 3]\n",
    "    if verbose:\n",
    "        print(\"Number of outliers for column {} is {}\".format(column, outliers.shape[0]))\n",
    "    # Remove the outliers\n",
    "    if remove_outliers:\n",
    "        number_of_rows_before = data.shape[0]\n",
    "        data = data[z < 3]\n",
    "        print(\"Removed {} rows from the dataset\".format(number_of_rows_before - data.shape[0]))\n",
    "    return data"
   ]
  },
  {
   "attachments": {},
   "cell_type": "markdown",
   "metadata": {},
   "source": [
    "#### Average Temperature"
   ]
  },
  {
   "cell_type": "code",
   "execution_count": 1818,
   "metadata": {},
   "outputs": [
    {
     "name": "stdout",
     "output_type": "stream",
     "text": [
      "count    6206.000000\n",
      "mean       14.595875\n",
      "std         4.795352\n",
      "min         1.000000\n",
      "25%        11.000000\n",
      "50%        14.000000\n",
      "75%        18.000000\n",
      "max        35.000000\n",
      "Name: avg_temperature, dtype: float64\n",
      "Skewness: 0.5402003354292293\n"
     ]
    },
    {
     "data": {
      "image/png": "[encoded data removed]",
      "text/plain": [
       "<Figure size 360x360 with 1 Axes>"
      ]
     },
     "metadata": {
      "needs_background": "light"
     },
     "output_type": "display_data"
    }
   ],
   "source": [
    "# Distribution of the 'avg_temperature' column\n",
    "sns.displot(dataset['avg_temperature'])\n",
    "print(dataset['avg_temperature'].describe())\n",
    "print(\"Skewness: {}\".format(dataset['avg_temperature'].skew()))"
   ]
  },
  {
   "cell_type": "code",
   "execution_count": 1819,
   "metadata": {},
   "outputs": [
    {
     "name": "stdout",
     "output_type": "stream",
     "text": [
      "Number of outliers for column avg_temperature is 50\n",
      "Number of outliers for column avg_temperature is 50\n",
      "\n",
      "Outlier ceil: 28.981930577131205\n",
      "Outlier floor: 0.20981934230160348\n",
      "count    6206.000000\n",
      "mean       14.595875\n",
      "std         4.795352\n",
      "min         1.000000\n",
      "25%        11.000000\n",
      "50%        14.000000\n",
      "75%        18.000000\n",
      "max        35.000000\n",
      "Name: avg_temperature, dtype: float64\n"
     ]
    },
    {
     "data": {
      "image/png": "[encoded data removed]",
      "text/plain": [
       "<Figure size 432x288 with 1 Axes>"
      ]
     },
     "metadata": {
      "needs_background": "light"
     },
     "output_type": "display_data"
    }
   ],
   "source": [
    "# Boxplot of the 'avg_temperature' column\n",
    "sns.boxplot(x=dataset['avg_temperature'])\n",
    "\n",
    "# Count the number of outliers for the 'avg_temperature' column\n",
    "count_outliers_IQR(dataset, 'avg_temperature', verbose=True, remove_outliers=False)\n",
    "count_outliers_Z_score(dataset, 'avg_temperature', verbose=True, remove_outliers=False)\n",
    "print()\n",
    "\n",
    "#  Get max and min values for the 'avg_temperature' column outliers using the Z-score method.\n",
    "max_value = dataset['avg_temperature'].mean() + 3 * dataset['avg_temperature'].std()\n",
    "min_value = dataset['avg_temperature'].mean() - 3 * dataset['avg_temperature'].std()\n",
    "\n",
    "print(\"Outlier ceil: {}\".format(max_value))\n",
    "print(\"Outlier floor: {}\".format(min_value))\n",
    "print(dataset['avg_temperature'].describe())"
   ]
  },
  {
   "cell_type": "code",
   "execution_count": 1820,
   "metadata": {},
   "outputs": [
    {
     "name": "stdout",
     "output_type": "stream",
     "text": [
      "None         14\n",
      "Low          12\n",
      "Very_High     8\n",
      "test-only     7\n",
      "High          7\n",
      "Medium        2\n",
      "Name: incidents, dtype: int64\n"
     ]
    },
    {
     "data": {
      "image/png": "[encoded data removed]",
      "text/plain": [
       "<Figure size 432x288 with 1 Axes>"
      ]
     },
     "metadata": {
      "needs_background": "light"
     },
     "output_type": "display_data"
    }
   ],
   "source": [
    "# Let's check the relation between the 'avg_temperature' outliers and 'incidents' (grpahically)\n",
    "outliers = dataset[(dataset['avg_temperature'] > max_value)]\n",
    "print(outliers['incidents'].value_counts())\n",
    "sns.countplot(x='avg_temperature', hue='incidents', data=outliers)\n",
    "\n",
    "# There are 0.008% temperature outliers. It's not a lot.\n",
    "#  The temperatures are not that extreme and can be considered as valid data.\n",
    "# \n",
    "# Normalize the 'avg_temperature' column\n",
    "# The date is not extremely skewed, so we will use the MinMaxScaler.\n",
    "scaler = MinMaxScaler()\n",
    "dataset['avg_temperature'] = scaler.fit_transform(dataset['avg_temperature'].values.reshape(-1, 1))"
   ]
  },
  {
   "attachments": {},
   "cell_type": "markdown",
   "metadata": {},
   "source": [
    "#### Average Humidity"
   ]
  },
  {
   "cell_type": "code",
   "execution_count": 1821,
   "metadata": {},
   "outputs": [
    {
     "name": "stdout",
     "output_type": "stream",
     "text": [
      "count    6206.000000\n",
      "mean       74.340477\n",
      "std        17.204386\n",
      "min         6.000000\n",
      "25%        63.000000\n",
      "50%        78.000000\n",
      "75%        90.000000\n",
      "max       100.000000\n",
      "Name: avg_humidity, dtype: float64\n",
      "Skewness: -0.7492086582905623\n"
     ]
    },
    {
     "data": {
      "image/png": "[encoded data removed]",
      "text/plain": [
       "<Figure size 360x360 with 1 Axes>"
      ]
     },
     "metadata": {
      "needs_background": "light"
     },
     "output_type": "display_data"
    }
   ],
   "source": [
    "# Distribution of the 'avg_humidity' column\n",
    "sns.displot(dataset['avg_humidity'])\n",
    "print(dataset['avg_humidity'].describe())\n",
    "print(\"Skewness: {}\".format(dataset['avg_humidity'].skew()))"
   ]
  },
  {
   "cell_type": "code",
   "execution_count": 1822,
   "metadata": {},
   "outputs": [
    {
     "name": "stdout",
     "output_type": "stream",
     "text": [
      "Number of outliers for column avg_humidity is 11\n",
      "Number of outliers for column avg_humidity is 11\n",
      "\n",
      "3200     6.0\n",
      "3639     7.0\n",
      "716      7.0\n",
      "2999     8.0\n",
      "3245     8.0\n",
      "267     17.0\n",
      "2973    17.0\n",
      "4743    17.0\n",
      "4646    18.0\n",
      "402     20.0\n",
      "4182    21.0\n",
      "Name: avg_humidity, dtype: float64\n",
      "Removed 11 rows from the dataset\n"
     ]
    },
    {
     "data": {
      "image/png": "[encoded data removed]",
      "text/plain": [
       "<Figure size 432x288 with 1 Axes>"
      ]
     },
     "metadata": {
      "needs_background": "light"
     },
     "output_type": "display_data"
    }
   ],
   "source": [
    "# Boxplot of the 'avg_humidity' column\n",
    "sns.boxplot(x=dataset['avg_humidity'])\n",
    "\n",
    "# Count the number of outliers for the 'avg_humidity' column\n",
    "count_outliers_IQR(dataset, 'avg_humidity', verbose=True, remove_outliers=False)\n",
    "count_outliers_Z_score(dataset, 'avg_humidity', verbose=True, remove_outliers=False)\n",
    "print()\n",
    "\n",
    "# Get 11 most small values for the 'avg_humidity' column.\n",
    "print(dataset['avg_humidity'].nsmallest(11))\n",
    "\n",
    "# Since the 'avg_humidity' column has a very reduced number of outliers, we will remove them.\n",
    "# Also, these values are not representative and occur only in specific circumstances.\n",
    "# For instance, the average humidity in the shaara desert is 25%.\n",
    "# In the antarctic, humidity is sometimes close to 0%.\n",
    "# But apparently, in Guimarães, the humidity can have values as low as 6.0%.\n",
    "dataset = count_outliers_IQR(dataset, 'avg_humidity', verbose=False, remove_outliers=True)\n",
    "\n",
    "# Normalize the 'avg_humidity' column\n",
    "scaler = MinMaxScaler()\n",
    "dataset['avg_humidity'] = scaler.fit_transform(dataset['avg_humidity'].values.reshape(-1, 1))"
   ]
  },
  {
   "attachments": {},
   "cell_type": "markdown",
   "metadata": {},
   "source": [
    "#### Average Wind Speed"
   ]
  },
  {
   "cell_type": "code",
   "execution_count": 1823,
   "metadata": {},
   "outputs": [
    {
     "name": "stdout",
     "output_type": "stream",
     "text": [
      "count    6195.000000\n",
      "mean        1.269976\n",
      "std         1.284122\n",
      "min         0.000000\n",
      "25%         0.000000\n",
      "50%         1.000000\n",
      "75%         2.000000\n",
      "max        10.000000\n",
      "Name: avg_wind_speed, dtype: float64\n",
      "Skewness: 1.3805217817432955\n"
     ]
    },
    {
     "data": {
      "image/png": "[encoded data removed]",
      "text/plain": [
       "<Figure size 360x360 with 1 Axes>"
      ]
     },
     "metadata": {
      "needs_background": "light"
     },
     "output_type": "display_data"
    }
   ],
   "source": [
    "# Distribution of the 'avg_wind_speed' column\n",
    "sns.displot(dataset['avg_wind_speed'])\n",
    "print(dataset['avg_wind_speed'].describe())\n",
    "print(\"Skewness: {}\".format(dataset['avg_wind_speed'].skew()))"
   ]
  },
  {
   "cell_type": "code",
   "execution_count": 1824,
   "metadata": {},
   "outputs": [
    {
     "name": "stdout",
     "output_type": "stream",
     "text": [
      "Number of outliers for column avg_wind_speed is 63\n",
      "Number of outliers for column avg_wind_speed is 63\n",
      "\n"
     ]
    },
    {
     "data": {
      "image/png": "[encoded data removed]",
      "text/plain": [
       "<Figure size 432x288 with 1 Axes>"
      ]
     },
     "metadata": {
      "needs_background": "light"
     },
     "output_type": "display_data"
    }
   ],
   "source": [
    "# Boxplot of the 'avg_wind_speed' column\n",
    "sns.boxplot(x=dataset['avg_wind_speed'])\n",
    "\n",
    "# Count the number of outliers for the 'avg_wind_speed' column\n",
    "count_outliers_IQR(dataset, 'avg_wind_speed', verbose=True, remove_outliers=False)\n",
    "count_outliers_Z_score(dataset, 'avg_wind_speed', verbose=True, remove_outliers=False)\n",
    "print()\n",
    "\n",
    "# With this number of outliers, we will do nothing.\n",
    "# The values are not that extreme and can be considered as valid data.\n",
    "#\n",
    "# Since the data is not normally distributed, and is skewed to the right\n",
    "#  we will use a scaler that is not sensitive to outliers/normal distribution.\n",
    "#scaler = PowerTransformer()\n",
    "#dataset['avg_wind_speed'] = scaler.fit_transform(dataset['avg_wind_speed'].values.reshape(-1, 1))\n",
    "\n",
    "# Now that the data is more normally distributed, we can use the MinMaxScaler.\n",
    "scaler = MinMaxScaler()\n",
    "dataset['avg_wind_speed'] = scaler.fit_transform(dataset['avg_wind_speed'].values.reshape(-1, 1))"
   ]
  },
  {
   "attachments": {},
   "cell_type": "markdown",
   "metadata": {},
   "source": [
    "#### Average Pressure"
   ]
  },
  {
   "cell_type": "code",
   "execution_count": 1825,
   "metadata": {},
   "outputs": [
    {
     "name": "stdout",
     "output_type": "stream",
     "text": [
      "count    6195.000000\n",
      "mean     1018.117837\n",
      "std         5.202425\n",
      "min       997.000000\n",
      "25%      1015.000000\n",
      "50%      1019.000000\n",
      "75%      1022.000000\n",
      "max      1031.000000\n",
      "Name: avg_atm_pressure, dtype: float64\n",
      "Skewness: -0.41685371150141426\n"
     ]
    },
    {
     "data": {
      "image/png": "[encoded data removed]",
      "text/plain": [
       "<Figure size 360x360 with 1 Axes>"
      ]
     },
     "metadata": {
      "needs_background": "light"
     },
     "output_type": "display_data"
    }
   ],
   "source": [
    "# Distribution of the 'avg_atm_pressure' column\n",
    "sns.displot(dataset['avg_atm_pressure'])\n",
    "print(dataset['avg_atm_pressure'].describe())\n",
    "print(\"Skewness: {}\".format(dataset['avg_atm_pressure'].skew()))"
   ]
  },
  {
   "cell_type": "code",
   "execution_count": 1826,
   "metadata": {},
   "outputs": [
    {
     "name": "stdout",
     "output_type": "stream",
     "text": [
      "Number of outliers for column avg_atm_pressure is 57\n",
      "Number of outliers for column avg_atm_pressure is 22\n"
     ]
    },
    {
     "data": {
      "image/png": "[encoded data removed]",
      "text/plain": [
       "<Figure size 432x288 with 1 Axes>"
      ]
     },
     "metadata": {
      "needs_background": "light"
     },
     "output_type": "display_data"
    }
   ],
   "source": [
    "# Boxplot of the 'avg_atm_pressure' column\n",
    "sns.boxplot(x=dataset['avg_atm_pressure'])\n",
    "\n",
    "# Count the number of outliers for the 'avg_atm_pressure' column\n",
    "count_outliers_IQR(dataset, 'avg_atm_pressure', verbose=True, remove_outliers=False)\n",
    "count_outliers_Z_score(dataset, 'avg_atm_pressure', verbose=True, remove_outliers=False)\n",
    "\n",
    "# The minimum value of 997 is not an abnormal value for the atmospheric pressure.\n",
    "# Since there are not many outliers, we will not remove them.\n",
    "# Also, the values are not that extreme and can be considered as valid data.\n",
    "#\n",
    "# Let's normalize the 'avg_atm_pressure' column\n",
    "scaler = MinMaxScaler()\n",
    "dataset['avg_atm_pressure'] = scaler.fit_transform(dataset['avg_atm_pressure'].values.reshape(-1, 1))"
   ]
  },
  {
   "attachments": {},
   "cell_type": "markdown",
   "metadata": {},
   "source": [
    "#### Handling the date"
   ]
  },
  {
   "cell_type": "code",
   "execution_count": 1827,
   "metadata": {},
   "outputs": [],
   "source": [
    "# Use the hour and month value as continuous variables\n",
    "# Create a binary variable for weekend or not\n",
    "def create_time_variables(data):\n",
    "    for index, row in data.iterrows():\n",
    "        # Get the hour\n",
    "        hour = int(row['record_date'].split(' ')[1].split(':')[0])\n",
    "        data.at[index, 'hour'] = hour\n",
    "        \n",
    "        # Get the month\n",
    "        date = row['record_date'].split(' ')[0]\n",
    "        month = int(date.split('-')[1])\n",
    "        data.at[index, 'month'] = month\n",
    "        \n",
    "        # Check if it is a weekend\n",
    "        # Convert the date to a datetime object\n",
    "        dateTimeObj = datetime.datetime.strptime(date, \"%Y-%m-%d\")\n",
    "        day_of_week_bool = dateTimeObj.isoweekday() in [6, 7]        \n",
    "        data.at[index, 'weekend'] = int(day_of_week_bool)\n",
    "    \n",
    "    # Convert the 'hour', 'month' and weekend columns to int\n",
    "    data['hour'] = data['hour'].astype(int)\n",
    "    data['month'] = data['month'].astype(int)\n",
    "    data['weekend'] = data['weekend'].astype(int)\n",
    "    \n",
    "    return data\n",
    "\n",
    "if 'record_date' in dataset.columns:\n",
    "    dataset = create_time_variables(dataset)\n",
    "                \n",
    "    # Drop record_date\n",
    "    dataset.drop('record_date', axis=1, inplace=True)"
   ]
  },
  {
   "cell_type": "code",
   "execution_count": 1828,
   "metadata": {},
   "outputs": [],
   "source": [
    "#sns.heatmap(dataset.corr(), annot=True, fmt='.2f')"
   ]
  },
  {
   "cell_type": "code",
   "execution_count": 1829,
   "metadata": {},
   "outputs": [],
   "source": [
    "# Get the profile report - later analyze the results\n",
    "# dataset.profile_report()"
   ]
  },
  {
   "attachments": {},
   "cell_type": "markdown",
   "metadata": {},
   "source": [
    "## 5. Models Training"
   ]
  },
  {
   "attachments": {},
   "cell_type": "markdown",
   "metadata": {},
   "source": [
    "#### Helper Functions"
   ]
  },
  {
   "cell_type": "code",
   "execution_count": 1830,
   "metadata": {},
   "outputs": [],
   "source": [
    "\"\"\" Save results to a file. \"\"\"\n",
    "def saveResults ( results, path ):\n",
    "    file = open(path, 'w')\n",
    "    file.write (\"RowId,Incidents\\n\")\n",
    "    i = 1\n",
    "    for result in results :\n",
    "        file.write (str(i) + \",\" + result + \"\\n\")\n",
    "        i += 1"
   ]
  },
  {
   "attachments": {},
   "cell_type": "markdown",
   "metadata": {},
   "source": [
    "#### Splitting the dataset"
   ]
  },
  {
   "cell_type": "code",
   "execution_count": 1831,
   "metadata": {},
   "outputs": [],
   "source": [
    "# run for test or run for submission\n",
    "results_to_test = True\n",
    "\n",
    "# Copy the dataset\n",
    "train_df = dataset.copy()\n",
    "test_df = dataset.copy()\n",
    "\n",
    "# Filter the train and test data\n",
    "# Train data has the 'incidents' column value != 'test-only'\n",
    "# Test data has the 'incidents' column value == 'test-only'\n",
    "train_df = train_df[train_df['incidents'] != 'test-only']\n",
    "test_df = test_df[test_df['incidents'] == 'test-only']\n",
    "test_df.drop('incidents', axis=1, inplace=True)\n",
    "\n",
    "incidents = train_df['incidents'].copy()\n",
    "\n",
    "if results_to_test:\n",
    "    y = incidents\n",
    "    x = train_df.drop(['incidents'], axis=1)\n",
    "    x_training, x_testing, y_training, y_testing = model_selection.train_test_split(x, y, test_size=0.5, random_state=2022)\n",
    "\n",
    "else:\n",
    "    x_testing = test_df\n",
    "    y_training = incidents\n",
    "    x_training = train_df.drop(['incidents'], axis=1)\n"
   ]
  },
  {
   "attachments": {},
   "cell_type": "markdown",
   "metadata": {},
   "source": [
    "### 5.1 Árvores de Decisão e Classificação"
   ]
  },
  {
   "cell_type": "code",
   "execution_count": 1832,
   "metadata": {},
   "outputs": [
    {
     "name": "stdout",
     "output_type": "stream",
     "text": [
      "Decision Trees Accuracy:  0.6858974358974359\n"
     ]
    }
   ],
   "source": [
    "dtc = tree.DecisionTreeClassifier(random_state=2022, criterion=\"gini\", max_depth=10)\n",
    "dtc.fit(x_training,y_training)\n",
    "decision_trees_predictions = dtc.predict(x_testing)\n",
    "if results_to_test:\n",
    "    print(\"Decision Trees Accuracy: \", metrics.accuracy_score(y_testing, decision_trees_predictions))"
   ]
  },
  {
   "attachments": {},
   "cell_type": "markdown",
   "metadata": {},
   "source": [
    "### 5.2 RandomForestClassifier"
   ]
  },
  {
   "cell_type": "code",
   "execution_count": 1833,
   "metadata": {},
   "outputs": [
    {
     "name": "stdout",
     "output_type": "stream",
     "text": [
      "Random Forest Classifier Accuracy:  0.7556089743589743\n"
     ]
    }
   ],
   "source": [
    "# Random Forest Classifier tunning\n",
    "\n",
    "#model = RandomForestClassifier(random_state=2022)\n",
    "#\n",
    "#param_grid = {\n",
    "#    'n_estimators': [500, 750, 1000],\n",
    "#    'max_depth': [15, 25, 35],\n",
    "#    'min_samples_split': [2, 5, 10],\n",
    "#    'min_samples_leaf': [1, 2, 5]\n",
    "#}\n",
    "#\n",
    "## change cv later? use square root of dataset size ?\n",
    "#grid_search = GridSearchCV(estimator=model, param_grid=param_grid, cv=5, verbose=3)\n",
    "#grid_search.fit(x_training, y_training)\n",
    "#print(grid_search.best_params_)\n",
    "#print(grid_search.best_score_)\n",
    "#\n",
    "random_forest = RandomForestClassifier(n_estimators=500, random_state=2022)\n",
    "random_forest.fit(x_training, y_training)\n",
    "random_forest_predictions = random_forest.predict(x_testing)\n",
    "\n",
    "# print accuracy\n",
    "if results_to_test:\n",
    "    print(\"Random Forest Classifier Accuracy: \", metrics.accuracy_score(y_testing, random_forest_predictions))"
   ]
  },
  {
   "attachments": {},
   "cell_type": "markdown",
   "metadata": {},
   "source": [
    "### 5.3 Neural Network"
   ]
  },
  {
   "cell_type": "code",
   "execution_count": 1834,
   "metadata": {},
   "outputs": [
    {
     "name": "stdout",
     "output_type": "stream",
     "text": [
      "Epoch 1/200\n",
      "71/71 [==============================] - 1s 4ms/step - loss: 1.4489 - accuracy: 0.4049 - val_loss: 1.3447 - val_accuracy: 0.4920\n",
      "Epoch 2/200\n",
      "71/71 [==============================] - 0s 2ms/step - loss: 1.3053 - accuracy: 0.4833 - val_loss: 1.2188 - val_accuracy: 0.5200\n",
      "Epoch 3/200\n",
      "71/71 [==============================] - 0s 3ms/step - loss: 1.2508 - accuracy: 0.5073 - val_loss: 1.1690 - val_accuracy: 0.5280\n",
      "Epoch 4/200\n",
      "71/71 [==============================] - 0s 3ms/step - loss: 1.2131 - accuracy: 0.5180 - val_loss: 1.1751 - val_accuracy: 0.5800\n",
      "Epoch 5/200\n",
      "71/71 [==============================] - 0s 2ms/step - loss: 1.1858 - accuracy: 0.5283 - val_loss: 1.1543 - val_accuracy: 0.5880\n",
      "Epoch 6/200\n",
      "71/71 [==============================] - 0s 2ms/step - loss: 1.1286 - accuracy: 0.5648 - val_loss: 1.1701 - val_accuracy: 0.5440\n",
      "Epoch 7/200\n",
      "71/71 [==============================] - 0s 2ms/step - loss: 1.1212 - accuracy: 0.5523 - val_loss: 1.1037 - val_accuracy: 0.6000\n",
      "Epoch 8/200\n",
      "71/71 [==============================] - 0s 2ms/step - loss: 1.0776 - accuracy: 0.5693 - val_loss: 1.0652 - val_accuracy: 0.6200\n",
      "Epoch 9/200\n",
      "71/71 [==============================] - 0s 2ms/step - loss: 1.0501 - accuracy: 0.5862 - val_loss: 1.0611 - val_accuracy: 0.6120\n",
      "Epoch 10/200\n",
      "71/71 [==============================] - 0s 2ms/step - loss: 1.0175 - accuracy: 0.5978 - val_loss: 1.0807 - val_accuracy: 0.6080\n",
      "Epoch 11/200\n",
      "71/71 [==============================] - 0s 2ms/step - loss: 0.9986 - accuracy: 0.6151 - val_loss: 1.0167 - val_accuracy: 0.6280\n",
      "Epoch 12/200\n",
      "71/71 [==============================] - 0s 2ms/step - loss: 0.9877 - accuracy: 0.6236 - val_loss: 0.9964 - val_accuracy: 0.6280\n",
      "Epoch 13/200\n",
      "71/71 [==============================] - 0s 3ms/step - loss: 0.9709 - accuracy: 0.6267 - val_loss: 1.0978 - val_accuracy: 0.6000\n",
      "Epoch 14/200\n",
      "71/71 [==============================] - 0s 3ms/step - loss: 0.9616 - accuracy: 0.6365 - val_loss: 0.9921 - val_accuracy: 0.6200\n",
      "Epoch 15/200\n",
      "71/71 [==============================] - 0s 2ms/step - loss: 0.9598 - accuracy: 0.6334 - val_loss: 0.9837 - val_accuracy: 0.6240\n",
      "Epoch 16/200\n",
      "71/71 [==============================] - 0s 2ms/step - loss: 0.9246 - accuracy: 0.6539 - val_loss: 0.9896 - val_accuracy: 0.6320\n",
      "Epoch 17/200\n",
      "71/71 [==============================] - 0s 2ms/step - loss: 0.9115 - accuracy: 0.6450 - val_loss: 1.0957 - val_accuracy: 0.6200\n",
      "Epoch 18/200\n",
      "71/71 [==============================] - 0s 2ms/step - loss: 0.9324 - accuracy: 0.6428 - val_loss: 0.9435 - val_accuracy: 0.6440\n",
      "Epoch 19/200\n",
      "71/71 [==============================] - 0s 2ms/step - loss: 0.8989 - accuracy: 0.6530 - val_loss: 0.9865 - val_accuracy: 0.6400\n",
      "Epoch 20/200\n",
      "71/71 [==============================] - 0s 2ms/step - loss: 0.8965 - accuracy: 0.6637 - val_loss: 0.9937 - val_accuracy: 0.6320\n",
      "Epoch 21/200\n",
      "71/71 [==============================] - 0s 2ms/step - loss: 0.9047 - accuracy: 0.6517 - val_loss: 0.9497 - val_accuracy: 0.6440\n",
      "Epoch 22/200\n",
      "71/71 [==============================] - 0s 2ms/step - loss: 0.8842 - accuracy: 0.6659 - val_loss: 0.9714 - val_accuracy: 0.6520\n",
      "Epoch 23/200\n",
      "71/71 [==============================] - 0s 2ms/step - loss: 0.8636 - accuracy: 0.6686 - val_loss: 0.9344 - val_accuracy: 0.6440\n",
      "Epoch 24/200\n",
      "71/71 [==============================] - 0s 2ms/step - loss: 0.8777 - accuracy: 0.6650 - val_loss: 1.0026 - val_accuracy: 0.6240\n",
      "Epoch 25/200\n",
      "71/71 [==============================] - 0s 2ms/step - loss: 0.8558 - accuracy: 0.6726 - val_loss: 0.9233 - val_accuracy: 0.6440\n",
      "Epoch 26/200\n",
      "71/71 [==============================] - 0s 2ms/step - loss: 0.8488 - accuracy: 0.6788 - val_loss: 0.9367 - val_accuracy: 0.6400\n",
      "Epoch 27/200\n",
      "71/71 [==============================] - 0s 2ms/step - loss: 0.8449 - accuracy: 0.6771 - val_loss: 0.9305 - val_accuracy: 0.6400\n",
      "Epoch 28/200\n",
      "71/71 [==============================] - 0s 2ms/step - loss: 0.8438 - accuracy: 0.6793 - val_loss: 0.9587 - val_accuracy: 0.6240\n",
      "Epoch 29/200\n",
      "71/71 [==============================] - 0s 2ms/step - loss: 0.8279 - accuracy: 0.6869 - val_loss: 0.9483 - val_accuracy: 0.6560\n",
      "Epoch 30/200\n",
      "71/71 [==============================] - 0s 2ms/step - loss: 0.8240 - accuracy: 0.6895 - val_loss: 0.9318 - val_accuracy: 0.6320\n",
      "Epoch 31/200\n",
      "71/71 [==============================] - 0s 2ms/step - loss: 0.8175 - accuracy: 0.6980 - val_loss: 0.8851 - val_accuracy: 0.6640\n",
      "Epoch 32/200\n",
      "71/71 [==============================] - 0s 2ms/step - loss: 0.8073 - accuracy: 0.6891 - val_loss: 0.9325 - val_accuracy: 0.6600\n",
      "Epoch 33/200\n",
      "71/71 [==============================] - 0s 2ms/step - loss: 0.8075 - accuracy: 0.6953 - val_loss: 0.8944 - val_accuracy: 0.6680\n",
      "Epoch 34/200\n",
      "71/71 [==============================] - 0s 2ms/step - loss: 0.8185 - accuracy: 0.6962 - val_loss: 0.9097 - val_accuracy: 0.6760\n",
      "Epoch 35/200\n",
      "71/71 [==============================] - 0s 2ms/step - loss: 0.7995 - accuracy: 0.6931 - val_loss: 0.8901 - val_accuracy: 0.6800\n",
      "Epoch 36/200\n",
      "71/71 [==============================] - 0s 2ms/step - loss: 0.8310 - accuracy: 0.6904 - val_loss: 0.8941 - val_accuracy: 0.6680\n",
      "Epoch 37/200\n",
      "71/71 [==============================] - 0s 2ms/step - loss: 0.7932 - accuracy: 0.7020 - val_loss: 0.8777 - val_accuracy: 0.6800\n",
      "Epoch 38/200\n",
      "71/71 [==============================] - 0s 2ms/step - loss: 0.7835 - accuracy: 0.7122 - val_loss: 0.9029 - val_accuracy: 0.6480\n",
      "Epoch 39/200\n",
      "71/71 [==============================] - 0s 2ms/step - loss: 0.7645 - accuracy: 0.7163 - val_loss: 0.8793 - val_accuracy: 0.6680\n",
      "Epoch 40/200\n",
      "71/71 [==============================] - 0s 2ms/step - loss: 0.7788 - accuracy: 0.7051 - val_loss: 0.9355 - val_accuracy: 0.6440\n",
      "Epoch 41/200\n",
      "71/71 [==============================] - 0s 2ms/step - loss: 0.7789 - accuracy: 0.7029 - val_loss: 0.9067 - val_accuracy: 0.6320\n",
      "Epoch 42/200\n",
      "71/71 [==============================] - 0s 2ms/step - loss: 0.7936 - accuracy: 0.7033 - val_loss: 0.8906 - val_accuracy: 0.6360\n",
      "Epoch 43/200\n",
      "71/71 [==============================] - 0s 2ms/step - loss: 0.7687 - accuracy: 0.7163 - val_loss: 0.8889 - val_accuracy: 0.6480\n",
      "Epoch 44/200\n",
      "71/71 [==============================] - 0s 2ms/step - loss: 0.7553 - accuracy: 0.7207 - val_loss: 0.8829 - val_accuracy: 0.6640\n",
      "Epoch 45/200\n",
      "71/71 [==============================] - 0s 2ms/step - loss: 0.7538 - accuracy: 0.7149 - val_loss: 0.8912 - val_accuracy: 0.6440\n",
      "Epoch 46/200\n",
      "71/71 [==============================] - 0s 2ms/step - loss: 0.7713 - accuracy: 0.7118 - val_loss: 0.8679 - val_accuracy: 0.6680\n",
      "Epoch 47/200\n",
      "71/71 [==============================] - 0s 2ms/step - loss: 0.7485 - accuracy: 0.7060 - val_loss: 0.8628 - val_accuracy: 0.6720\n",
      "Epoch 48/200\n",
      "71/71 [==============================] - 0s 2ms/step - loss: 0.7517 - accuracy: 0.7189 - val_loss: 0.8679 - val_accuracy: 0.6480\n",
      "Epoch 49/200\n",
      "71/71 [==============================] - 0s 2ms/step - loss: 0.7344 - accuracy: 0.7212 - val_loss: 0.9063 - val_accuracy: 0.6320\n",
      "Epoch 50/200\n",
      "71/71 [==============================] - 0s 2ms/step - loss: 0.7375 - accuracy: 0.7238 - val_loss: 0.8621 - val_accuracy: 0.7000\n",
      "Epoch 51/200\n",
      "71/71 [==============================] - 0s 2ms/step - loss: 0.7327 - accuracy: 0.7261 - val_loss: 0.9436 - val_accuracy: 0.6160\n",
      "Epoch 52/200\n",
      "71/71 [==============================] - 0s 3ms/step - loss: 0.7477 - accuracy: 0.7198 - val_loss: 0.8647 - val_accuracy: 0.6800\n",
      "Epoch 53/200\n",
      "71/71 [==============================] - 0s 3ms/step - loss: 0.7222 - accuracy: 0.7274 - val_loss: 0.8307 - val_accuracy: 0.6960\n",
      "Epoch 54/200\n",
      "71/71 [==============================] - 0s 3ms/step - loss: 0.7073 - accuracy: 0.7390 - val_loss: 0.8541 - val_accuracy: 0.6960\n",
      "Epoch 55/200\n",
      "71/71 [==============================] - 0s 2ms/step - loss: 0.6911 - accuracy: 0.7425 - val_loss: 0.8579 - val_accuracy: 0.6960\n",
      "Epoch 56/200\n",
      "71/71 [==============================] - 0s 2ms/step - loss: 0.7081 - accuracy: 0.7372 - val_loss: 0.8627 - val_accuracy: 0.6920\n",
      "Epoch 57/200\n",
      "71/71 [==============================] - 0s 2ms/step - loss: 0.7022 - accuracy: 0.7318 - val_loss: 0.9059 - val_accuracy: 0.6680\n",
      "Epoch 58/200\n",
      "71/71 [==============================] - 0s 2ms/step - loss: 0.6941 - accuracy: 0.7452 - val_loss: 0.8512 - val_accuracy: 0.6680\n",
      "Epoch 59/200\n",
      "71/71 [==============================] - 0s 2ms/step - loss: 0.7107 - accuracy: 0.7310 - val_loss: 0.8704 - val_accuracy: 0.6840\n",
      "Epoch 60/200\n",
      "71/71 [==============================] - 0s 2ms/step - loss: 0.6789 - accuracy: 0.7452 - val_loss: 0.8734 - val_accuracy: 0.6920\n",
      "Epoch 61/200\n",
      "71/71 [==============================] - 0s 2ms/step - loss: 0.6712 - accuracy: 0.7488 - val_loss: 0.8662 - val_accuracy: 0.6880\n",
      "Epoch 62/200\n",
      "71/71 [==============================] - 0s 3ms/step - loss: 0.6842 - accuracy: 0.7354 - val_loss: 0.8690 - val_accuracy: 0.6800\n",
      "Epoch 63/200\n",
      "71/71 [==============================] - 0s 2ms/step - loss: 0.6773 - accuracy: 0.7412 - val_loss: 0.9460 - val_accuracy: 0.6440\n",
      "Epoch 64/200\n",
      "71/71 [==============================] - 0s 3ms/step - loss: 0.6843 - accuracy: 0.7408 - val_loss: 0.8386 - val_accuracy: 0.6960\n",
      "Epoch 65/200\n",
      "71/71 [==============================] - 0s 2ms/step - loss: 0.6809 - accuracy: 0.7537 - val_loss: 0.8651 - val_accuracy: 0.6760\n",
      "Epoch 66/200\n",
      "71/71 [==============================] - 0s 2ms/step - loss: 0.6987 - accuracy: 0.7327 - val_loss: 0.8782 - val_accuracy: 0.6880\n",
      "Epoch 67/200\n",
      "71/71 [==============================] - 0s 2ms/step - loss: 0.6685 - accuracy: 0.7465 - val_loss: 0.8593 - val_accuracy: 0.7000\n",
      "Epoch 68/200\n",
      "71/71 [==============================] - 0s 2ms/step - loss: 0.6702 - accuracy: 0.7528 - val_loss: 1.0012 - val_accuracy: 0.6400\n",
      "Epoch 69/200\n",
      "71/71 [==============================] - 0s 2ms/step - loss: 0.7326 - accuracy: 0.7332 - val_loss: 0.8649 - val_accuracy: 0.7000\n",
      "Epoch 70/200\n",
      "71/71 [==============================] - 0s 3ms/step - loss: 0.6585 - accuracy: 0.7425 - val_loss: 0.8867 - val_accuracy: 0.6720\n",
      "Epoch 71/200\n",
      "71/71 [==============================] - 0s 3ms/step - loss: 0.6535 - accuracy: 0.7563 - val_loss: 0.8791 - val_accuracy: 0.7040\n",
      "Epoch 72/200\n",
      "71/71 [==============================] - 0s 3ms/step - loss: 0.6557 - accuracy: 0.7541 - val_loss: 0.8437 - val_accuracy: 0.6880\n",
      "Epoch 73/200\n",
      "71/71 [==============================] - 0s 3ms/step - loss: 0.6521 - accuracy: 0.7488 - val_loss: 0.9477 - val_accuracy: 0.6680\n",
      "Epoch 74/200\n",
      "71/71 [==============================] - 0s 2ms/step - loss: 0.6666 - accuracy: 0.7488 - val_loss: 0.8873 - val_accuracy: 0.6840\n",
      "Epoch 75/200\n",
      "71/71 [==============================] - 0s 3ms/step - loss: 0.6378 - accuracy: 0.7635 - val_loss: 0.9123 - val_accuracy: 0.6760\n",
      "Epoch 76/200\n",
      "71/71 [==============================] - 0s 3ms/step - loss: 0.6255 - accuracy: 0.7608 - val_loss: 0.9627 - val_accuracy: 0.7040\n",
      "Epoch 77/200\n",
      "71/71 [==============================] - 0s 2ms/step - loss: 0.6530 - accuracy: 0.7465 - val_loss: 0.9906 - val_accuracy: 0.6520\n",
      "Epoch 78/200\n",
      "71/71 [==============================] - 0s 3ms/step - loss: 0.6564 - accuracy: 0.7559 - val_loss: 0.8972 - val_accuracy: 0.6960\n",
      "Epoch 79/200\n",
      "71/71 [==============================] - 0s 2ms/step - loss: 0.6296 - accuracy: 0.7670 - val_loss: 0.9011 - val_accuracy: 0.7120\n",
      "Epoch 80/200\n",
      "71/71 [==============================] - 0s 2ms/step - loss: 0.6519 - accuracy: 0.7537 - val_loss: 1.0162 - val_accuracy: 0.6480\n",
      "Epoch 81/200\n",
      "71/71 [==============================] - 0s 2ms/step - loss: 0.6225 - accuracy: 0.7626 - val_loss: 0.9347 - val_accuracy: 0.6840\n",
      "Epoch 82/200\n",
      "71/71 [==============================] - 0s 2ms/step - loss: 0.6297 - accuracy: 0.7599 - val_loss: 0.9673 - val_accuracy: 0.6520\n",
      "Epoch 83/200\n",
      "71/71 [==============================] - 0s 3ms/step - loss: 0.6205 - accuracy: 0.7630 - val_loss: 0.9749 - val_accuracy: 0.6840\n",
      "Epoch 84/200\n",
      "71/71 [==============================] - 0s 2ms/step - loss: 0.6156 - accuracy: 0.7639 - val_loss: 0.9118 - val_accuracy: 0.7080\n",
      "Epoch 85/200\n",
      "71/71 [==============================] - 0s 2ms/step - loss: 0.6375 - accuracy: 0.7661 - val_loss: 0.9060 - val_accuracy: 0.6680\n",
      "Epoch 86/200\n",
      "71/71 [==============================] - 0s 2ms/step - loss: 0.5997 - accuracy: 0.7693 - val_loss: 0.9159 - val_accuracy: 0.6800\n",
      "Epoch 87/200\n",
      "71/71 [==============================] - 0s 2ms/step - loss: 0.6019 - accuracy: 0.7817 - val_loss: 0.9766 - val_accuracy: 0.6840\n",
      "Epoch 88/200\n",
      "71/71 [==============================] - 0s 2ms/step - loss: 0.5951 - accuracy: 0.7804 - val_loss: 0.9398 - val_accuracy: 0.6800\n",
      "Epoch 89/200\n",
      "71/71 [==============================] - 0s 2ms/step - loss: 0.5962 - accuracy: 0.7759 - val_loss: 0.9625 - val_accuracy: 0.6800\n",
      "Epoch 90/200\n",
      "71/71 [==============================] - 0s 2ms/step - loss: 0.5899 - accuracy: 0.7777 - val_loss: 0.9222 - val_accuracy: 0.6800\n",
      "Epoch 91/200\n",
      "71/71 [==============================] - 0s 2ms/step - loss: 0.6102 - accuracy: 0.7746 - val_loss: 0.9611 - val_accuracy: 0.6760\n",
      "Epoch 92/200\n",
      "71/71 [==============================] - 0s 2ms/step - loss: 0.6419 - accuracy: 0.7559 - val_loss: 0.9332 - val_accuracy: 0.7040\n",
      "Epoch 93/200\n",
      "71/71 [==============================] - 0s 2ms/step - loss: 0.5841 - accuracy: 0.7777 - val_loss: 0.9444 - val_accuracy: 0.6960\n",
      "Epoch 94/200\n",
      "71/71 [==============================] - 0s 2ms/step - loss: 0.5766 - accuracy: 0.7849 - val_loss: 0.9762 - val_accuracy: 0.6840\n",
      "Epoch 95/200\n",
      "71/71 [==============================] - 0s 2ms/step - loss: 0.5841 - accuracy: 0.7751 - val_loss: 0.9855 - val_accuracy: 0.6640\n",
      "Epoch 96/200\n",
      "71/71 [==============================] - 0s 2ms/step - loss: 0.5826 - accuracy: 0.7857 - val_loss: 1.0569 - val_accuracy: 0.6960\n",
      "Epoch 97/200\n",
      "71/71 [==============================] - 0s 2ms/step - loss: 0.5822 - accuracy: 0.7835 - val_loss: 0.9431 - val_accuracy: 0.6840\n",
      "Epoch 98/200\n",
      "71/71 [==============================] - 0s 2ms/step - loss: 0.5879 - accuracy: 0.7795 - val_loss: 0.9637 - val_accuracy: 0.6800\n",
      "Epoch 99/200\n",
      "71/71 [==============================] - 0s 2ms/step - loss: 0.5621 - accuracy: 0.7844 - val_loss: 0.9341 - val_accuracy: 0.7040\n",
      "Epoch 100/200\n",
      "71/71 [==============================] - 0s 2ms/step - loss: 0.5709 - accuracy: 0.7804 - val_loss: 1.0389 - val_accuracy: 0.6720\n",
      "Epoch 101/200\n",
      "71/71 [==============================] - 0s 2ms/step - loss: 0.5718 - accuracy: 0.7800 - val_loss: 0.9312 - val_accuracy: 0.6840\n",
      "Epoch 102/200\n",
      "71/71 [==============================] - 0s 2ms/step - loss: 0.5579 - accuracy: 0.7817 - val_loss: 1.0456 - val_accuracy: 0.6600\n",
      "Epoch 103/200\n",
      "71/71 [==============================] - 0s 2ms/step - loss: 0.5749 - accuracy: 0.7813 - val_loss: 0.9706 - val_accuracy: 0.6880\n",
      "Epoch 104/200\n",
      "71/71 [==============================] - 0s 2ms/step - loss: 0.5486 - accuracy: 0.7915 - val_loss: 1.0688 - val_accuracy: 0.6720\n",
      "Epoch 105/200\n",
      "71/71 [==============================] - 0s 2ms/step - loss: 0.5752 - accuracy: 0.7795 - val_loss: 0.9789 - val_accuracy: 0.6960\n",
      "Epoch 106/200\n",
      "71/71 [==============================] - 0s 2ms/step - loss: 0.5516 - accuracy: 0.7951 - val_loss: 1.0302 - val_accuracy: 0.7040\n",
      "Epoch 107/200\n",
      "71/71 [==============================] - 0s 2ms/step - loss: 0.5465 - accuracy: 0.7924 - val_loss: 1.0377 - val_accuracy: 0.6800\n",
      "Epoch 108/200\n",
      "71/71 [==============================] - 0s 2ms/step - loss: 0.5912 - accuracy: 0.7813 - val_loss: 1.0053 - val_accuracy: 0.6960\n",
      "Epoch 109/200\n",
      "71/71 [==============================] - 0s 2ms/step - loss: 0.5682 - accuracy: 0.8000 - val_loss: 1.0246 - val_accuracy: 0.6800\n",
      "Epoch 110/200\n",
      "71/71 [==============================] - 0s 2ms/step - loss: 0.5431 - accuracy: 0.7964 - val_loss: 1.0168 - val_accuracy: 0.7000\n",
      "Epoch 111/200\n",
      "71/71 [==============================] - 0s 2ms/step - loss: 0.5522 - accuracy: 0.7875 - val_loss: 1.0512 - val_accuracy: 0.6840\n",
      "Epoch 112/200\n",
      "71/71 [==============================] - 0s 2ms/step - loss: 0.5493 - accuracy: 0.7929 - val_loss: 1.0019 - val_accuracy: 0.6800\n",
      "Epoch 113/200\n",
      "71/71 [==============================] - 0s 2ms/step - loss: 0.5509 - accuracy: 0.7835 - val_loss: 0.9975 - val_accuracy: 0.6920\n",
      "Epoch 114/200\n",
      "71/71 [==============================] - 0s 2ms/step - loss: 0.5559 - accuracy: 0.7866 - val_loss: 1.1311 - val_accuracy: 0.6640\n",
      "Epoch 115/200\n",
      "71/71 [==============================] - 0s 2ms/step - loss: 0.5515 - accuracy: 0.7906 - val_loss: 0.9877 - val_accuracy: 0.6800\n",
      "Epoch 116/200\n",
      "71/71 [==============================] - 0s 2ms/step - loss: 0.5535 - accuracy: 0.7982 - val_loss: 1.0415 - val_accuracy: 0.6960\n",
      "Epoch 117/200\n",
      "71/71 [==============================] - 0s 2ms/step - loss: 0.5488 - accuracy: 0.7947 - val_loss: 1.0198 - val_accuracy: 0.6960\n",
      "Epoch 118/200\n",
      "71/71 [==============================] - 0s 2ms/step - loss: 0.5336 - accuracy: 0.8013 - val_loss: 1.0811 - val_accuracy: 0.6760\n",
      "Epoch 119/200\n",
      "71/71 [==============================] - 0s 2ms/step - loss: 0.5430 - accuracy: 0.7960 - val_loss: 1.1415 - val_accuracy: 0.6920\n",
      "Epoch 120/200\n",
      "71/71 [==============================] - 0s 2ms/step - loss: 0.5854 - accuracy: 0.7777 - val_loss: 1.0295 - val_accuracy: 0.6880\n",
      "Epoch 121/200\n",
      "71/71 [==============================] - 0s 2ms/step - loss: 0.5298 - accuracy: 0.8000 - val_loss: 1.0190 - val_accuracy: 0.7000\n",
      "Epoch 122/200\n",
      "71/71 [==============================] - 0s 2ms/step - loss: 0.5184 - accuracy: 0.8085 - val_loss: 1.0674 - val_accuracy: 0.6960\n",
      "Epoch 123/200\n",
      "71/71 [==============================] - 0s 2ms/step - loss: 0.5135 - accuracy: 0.8049 - val_loss: 1.0973 - val_accuracy: 0.6840\n",
      "Epoch 124/200\n",
      "71/71 [==============================] - 0s 2ms/step - loss: 0.5295 - accuracy: 0.8022 - val_loss: 1.1181 - val_accuracy: 0.6760\n",
      "Epoch 125/200\n",
      "71/71 [==============================] - 0s 2ms/step - loss: 0.5303 - accuracy: 0.8036 - val_loss: 1.0790 - val_accuracy: 0.6960\n",
      "Epoch 126/200\n",
      "71/71 [==============================] - 0s 2ms/step - loss: 0.5221 - accuracy: 0.7978 - val_loss: 1.0896 - val_accuracy: 0.7160\n",
      "Epoch 127/200\n",
      "71/71 [==============================] - 0s 2ms/step - loss: 0.5301 - accuracy: 0.7996 - val_loss: 1.0762 - val_accuracy: 0.6800\n",
      "Epoch 128/200\n",
      "71/71 [==============================] - 0s 2ms/step - loss: 0.5105 - accuracy: 0.8111 - val_loss: 1.0129 - val_accuracy: 0.6920\n",
      "Epoch 129/200\n",
      "71/71 [==============================] - 0s 2ms/step - loss: 0.5146 - accuracy: 0.8080 - val_loss: 1.0388 - val_accuracy: 0.6920\n",
      "Epoch 130/200\n",
      "71/71 [==============================] - 0s 2ms/step - loss: 0.5105 - accuracy: 0.8076 - val_loss: 1.0807 - val_accuracy: 0.6920\n",
      "Epoch 131/200\n",
      "71/71 [==============================] - 0s 2ms/step - loss: 0.5167 - accuracy: 0.8022 - val_loss: 1.0917 - val_accuracy: 0.6760\n",
      "Epoch 132/200\n",
      "71/71 [==============================] - 0s 2ms/step - loss: 0.5368 - accuracy: 0.7991 - val_loss: 1.0812 - val_accuracy: 0.6560\n",
      "Epoch 133/200\n",
      "71/71 [==============================] - 0s 2ms/step - loss: 0.5046 - accuracy: 0.8045 - val_loss: 1.0518 - val_accuracy: 0.6920\n",
      "Epoch 134/200\n",
      "71/71 [==============================] - 0s 4ms/step - loss: 0.5091 - accuracy: 0.8107 - val_loss: 1.0636 - val_accuracy: 0.7120\n",
      "Epoch 135/200\n",
      "71/71 [==============================] - 0s 2ms/step - loss: 0.5143 - accuracy: 0.8080 - val_loss: 1.2020 - val_accuracy: 0.6600\n",
      "Epoch 136/200\n",
      "71/71 [==============================] - 0s 2ms/step - loss: 0.5229 - accuracy: 0.8089 - val_loss: 1.1118 - val_accuracy: 0.6800\n",
      "Epoch 137/200\n",
      "71/71 [==============================] - 0s 2ms/step - loss: 0.4900 - accuracy: 0.8156 - val_loss: 1.0938 - val_accuracy: 0.6760\n",
      "Epoch 138/200\n",
      "71/71 [==============================] - 0s 2ms/step - loss: 0.5515 - accuracy: 0.7880 - val_loss: 1.1196 - val_accuracy: 0.6960\n",
      "Epoch 139/200\n",
      "71/71 [==============================] - 0s 2ms/step - loss: 0.5116 - accuracy: 0.8045 - val_loss: 1.1164 - val_accuracy: 0.6720\n",
      "Epoch 140/200\n",
      "71/71 [==============================] - 0s 2ms/step - loss: 0.5111 - accuracy: 0.8045 - val_loss: 1.1307 - val_accuracy: 0.6760\n",
      "Epoch 141/200\n",
      "71/71 [==============================] - 0s 2ms/step - loss: 0.4821 - accuracy: 0.8187 - val_loss: 1.1200 - val_accuracy: 0.6680\n",
      "Epoch 142/200\n",
      "71/71 [==============================] - 0s 2ms/step - loss: 0.4843 - accuracy: 0.8169 - val_loss: 1.1260 - val_accuracy: 0.6960\n",
      "Epoch 143/200\n",
      "71/71 [==============================] - 0s 2ms/step - loss: 0.4909 - accuracy: 0.8111 - val_loss: 1.0912 - val_accuracy: 0.7000\n",
      "Epoch 144/200\n",
      "71/71 [==============================] - 0s 2ms/step - loss: 0.4805 - accuracy: 0.8160 - val_loss: 1.1256 - val_accuracy: 0.6880\n",
      "Epoch 145/200\n",
      "71/71 [==============================] - 0s 2ms/step - loss: 0.5040 - accuracy: 0.8107 - val_loss: 1.1714 - val_accuracy: 0.6720\n",
      "Epoch 146/200\n",
      "71/71 [==============================] - 0s 2ms/step - loss: 0.4829 - accuracy: 0.8174 - val_loss: 1.3135 - val_accuracy: 0.6520\n",
      "Epoch 147/200\n",
      "71/71 [==============================] - 0s 2ms/step - loss: 0.4806 - accuracy: 0.8138 - val_loss: 1.1809 - val_accuracy: 0.7000\n",
      "Epoch 148/200\n",
      "71/71 [==============================] - 0s 2ms/step - loss: 0.4955 - accuracy: 0.8111 - val_loss: 1.1935 - val_accuracy: 0.6640\n",
      "Epoch 149/200\n",
      "71/71 [==============================] - 0s 2ms/step - loss: 0.4889 - accuracy: 0.8129 - val_loss: 1.1521 - val_accuracy: 0.6920\n",
      "Epoch 150/200\n",
      "71/71 [==============================] - 0s 2ms/step - loss: 0.4740 - accuracy: 0.8192 - val_loss: 1.1881 - val_accuracy: 0.6880\n",
      "Epoch 151/200\n",
      "71/71 [==============================] - 0s 2ms/step - loss: 0.4793 - accuracy: 0.8151 - val_loss: 1.1488 - val_accuracy: 0.7080\n",
      "Epoch 152/200\n",
      "71/71 [==============================] - 0s 2ms/step - loss: 0.4796 - accuracy: 0.8147 - val_loss: 1.1470 - val_accuracy: 0.7040\n",
      "Epoch 153/200\n",
      "71/71 [==============================] - 0s 2ms/step - loss: 0.4512 - accuracy: 0.8241 - val_loss: 1.1670 - val_accuracy: 0.6760\n",
      "Epoch 154/200\n",
      "71/71 [==============================] - 0s 2ms/step - loss: 0.4614 - accuracy: 0.8267 - val_loss: 1.1988 - val_accuracy: 0.6640\n",
      "Epoch 155/200\n",
      "71/71 [==============================] - 0s 2ms/step - loss: 0.4869 - accuracy: 0.8125 - val_loss: 1.1529 - val_accuracy: 0.6840\n",
      "Epoch 156/200\n",
      "71/71 [==============================] - 0s 2ms/step - loss: 0.4672 - accuracy: 0.8200 - val_loss: 1.1848 - val_accuracy: 0.6880\n",
      "Epoch 157/200\n",
      "71/71 [==============================] - 0s 2ms/step - loss: 0.4826 - accuracy: 0.8174 - val_loss: 1.1653 - val_accuracy: 0.6880\n",
      "Epoch 158/200\n",
      "71/71 [==============================] - 0s 2ms/step - loss: 0.4554 - accuracy: 0.8227 - val_loss: 1.2436 - val_accuracy: 0.6600\n",
      "Epoch 159/200\n",
      "71/71 [==============================] - 0s 2ms/step - loss: 0.4760 - accuracy: 0.8196 - val_loss: 1.1986 - val_accuracy: 0.6600\n",
      "Epoch 160/200\n",
      "71/71 [==============================] - 0s 2ms/step - loss: 0.4628 - accuracy: 0.8254 - val_loss: 1.1950 - val_accuracy: 0.6800\n",
      "Epoch 161/200\n",
      "71/71 [==============================] - 0s 2ms/step - loss: 0.4820 - accuracy: 0.8094 - val_loss: 1.2793 - val_accuracy: 0.6640\n",
      "Epoch 162/200\n",
      "71/71 [==============================] - 0s 2ms/step - loss: 0.4774 - accuracy: 0.8187 - val_loss: 1.2925 - val_accuracy: 0.6680\n",
      "Epoch 163/200\n",
      "71/71 [==============================] - 0s 2ms/step - loss: 0.4413 - accuracy: 0.8285 - val_loss: 1.2444 - val_accuracy: 0.6680\n",
      "Epoch 164/200\n",
      "71/71 [==============================] - 0s 2ms/step - loss: 0.4749 - accuracy: 0.8218 - val_loss: 1.3396 - val_accuracy: 0.7000\n",
      "Epoch 165/200\n",
      "71/71 [==============================] - 0s 2ms/step - loss: 0.4894 - accuracy: 0.8156 - val_loss: 1.1733 - val_accuracy: 0.6800\n",
      "Epoch 166/200\n",
      "71/71 [==============================] - 0s 2ms/step - loss: 0.4561 - accuracy: 0.8307 - val_loss: 1.2588 - val_accuracy: 0.7040\n",
      "Epoch 167/200\n",
      "71/71 [==============================] - 0s 2ms/step - loss: 0.4525 - accuracy: 0.8298 - val_loss: 1.2500 - val_accuracy: 0.6880\n",
      "Epoch 168/200\n",
      "71/71 [==============================] - 0s 2ms/step - loss: 0.4625 - accuracy: 0.8263 - val_loss: 1.2165 - val_accuracy: 0.6640\n",
      "Epoch 169/200\n",
      "71/71 [==============================] - 0s 2ms/step - loss: 0.4342 - accuracy: 0.8290 - val_loss: 1.2995 - val_accuracy: 0.6760\n",
      "Epoch 170/200\n",
      "71/71 [==============================] - 0s 2ms/step - loss: 0.4505 - accuracy: 0.8218 - val_loss: 1.2417 - val_accuracy: 0.6960\n",
      "Epoch 171/200\n",
      "71/71 [==============================] - 0s 2ms/step - loss: 0.4521 - accuracy: 0.8205 - val_loss: 1.1959 - val_accuracy: 0.6840\n",
      "Epoch 172/200\n",
      "71/71 [==============================] - 0s 2ms/step - loss: 0.4854 - accuracy: 0.8076 - val_loss: 1.2267 - val_accuracy: 0.6720\n",
      "Epoch 173/200\n",
      "71/71 [==============================] - 0s 2ms/step - loss: 0.4454 - accuracy: 0.8258 - val_loss: 1.2258 - val_accuracy: 0.7160\n",
      "Epoch 174/200\n",
      "71/71 [==============================] - 0s 2ms/step - loss: 0.4186 - accuracy: 0.8379 - val_loss: 1.2886 - val_accuracy: 0.6760\n",
      "Epoch 175/200\n",
      "71/71 [==============================] - 0s 2ms/step - loss: 0.4448 - accuracy: 0.8245 - val_loss: 1.3609 - val_accuracy: 0.6680\n",
      "Epoch 176/200\n",
      "71/71 [==============================] - 0s 2ms/step - loss: 0.4463 - accuracy: 0.8218 - val_loss: 1.2832 - val_accuracy: 0.7160\n",
      "Epoch 177/200\n",
      "71/71 [==============================] - 0s 2ms/step - loss: 0.4487 - accuracy: 0.8281 - val_loss: 1.2531 - val_accuracy: 0.6920\n",
      "Epoch 178/200\n",
      "71/71 [==============================] - 0s 2ms/step - loss: 0.4318 - accuracy: 0.8325 - val_loss: 1.2725 - val_accuracy: 0.6760\n",
      "Epoch 179/200\n",
      "71/71 [==============================] - 0s 2ms/step - loss: 0.4517 - accuracy: 0.8196 - val_loss: 1.3152 - val_accuracy: 0.6840\n",
      "Epoch 180/200\n",
      "71/71 [==============================] - 0s 2ms/step - loss: 0.4411 - accuracy: 0.8307 - val_loss: 1.2210 - val_accuracy: 0.6880\n",
      "Epoch 181/200\n",
      "71/71 [==============================] - 0s 2ms/step - loss: 0.4371 - accuracy: 0.8325 - val_loss: 1.2290 - val_accuracy: 0.6880\n",
      "Epoch 182/200\n",
      "71/71 [==============================] - 0s 2ms/step - loss: 0.4182 - accuracy: 0.8356 - val_loss: 1.3157 - val_accuracy: 0.6840\n",
      "Epoch 183/200\n",
      "71/71 [==============================] - 0s 3ms/step - loss: 0.4463 - accuracy: 0.8352 - val_loss: 1.3210 - val_accuracy: 0.6720\n",
      "Epoch 184/200\n",
      "71/71 [==============================] - 0s 2ms/step - loss: 0.4487 - accuracy: 0.8298 - val_loss: 1.3049 - val_accuracy: 0.6800\n",
      "Epoch 185/200\n",
      "71/71 [==============================] - 0s 2ms/step - loss: 0.4323 - accuracy: 0.8303 - val_loss: 1.3625 - val_accuracy: 0.6760\n",
      "Epoch 186/200\n",
      "71/71 [==============================] - 0s 2ms/step - loss: 0.4406 - accuracy: 0.8187 - val_loss: 1.3100 - val_accuracy: 0.6480\n",
      "Epoch 187/200\n",
      "71/71 [==============================] - 0s 2ms/step - loss: 0.4192 - accuracy: 0.8370 - val_loss: 1.2650 - val_accuracy: 0.7040\n",
      "Epoch 188/200\n",
      "71/71 [==============================] - 0s 2ms/step - loss: 0.4133 - accuracy: 0.8347 - val_loss: 1.4261 - val_accuracy: 0.6560\n",
      "Epoch 189/200\n",
      "71/71 [==============================] - 0s 2ms/step - loss: 0.4345 - accuracy: 0.8294 - val_loss: 1.3475 - val_accuracy: 0.6680\n",
      "Epoch 190/200\n",
      "71/71 [==============================] - 0s 2ms/step - loss: 0.4349 - accuracy: 0.8281 - val_loss: 1.3697 - val_accuracy: 0.6800\n",
      "Epoch 191/200\n",
      "71/71 [==============================] - 0s 4ms/step - loss: 0.4206 - accuracy: 0.8339 - val_loss: 1.2836 - val_accuracy: 0.6920\n",
      "Epoch 192/200\n",
      "71/71 [==============================] - 0s 2ms/step - loss: 0.4442 - accuracy: 0.8227 - val_loss: 1.3297 - val_accuracy: 0.6920\n",
      "Epoch 193/200\n",
      "71/71 [==============================] - 0s 2ms/step - loss: 0.4142 - accuracy: 0.8330 - val_loss: 1.3630 - val_accuracy: 0.7000\n",
      "Epoch 194/200\n",
      "71/71 [==============================] - 0s 2ms/step - loss: 0.3883 - accuracy: 0.8517 - val_loss: 1.3810 - val_accuracy: 0.6520\n",
      "Epoch 195/200\n",
      "71/71 [==============================] - 0s 2ms/step - loss: 0.3958 - accuracy: 0.8428 - val_loss: 1.3837 - val_accuracy: 0.6920\n",
      "Epoch 196/200\n",
      "71/71 [==============================] - 0s 2ms/step - loss: 0.4155 - accuracy: 0.8290 - val_loss: 1.3183 - val_accuracy: 0.6720\n",
      "Epoch 197/200\n",
      "71/71 [==============================] - 0s 3ms/step - loss: 0.3981 - accuracy: 0.8388 - val_loss: 1.4032 - val_accuracy: 0.6600\n",
      "Epoch 198/200\n",
      "71/71 [==============================] - 0s 2ms/step - loss: 0.3909 - accuracy: 0.8543 - val_loss: 1.4134 - val_accuracy: 0.6800\n",
      "Epoch 199/200\n",
      "71/71 [==============================] - 0s 2ms/step - loss: 0.4044 - accuracy: 0.8388 - val_loss: 1.3932 - val_accuracy: 0.6760\n",
      "Epoch 200/200\n",
      "71/71 [==============================] - 0s 2ms/step - loss: 0.4415 - accuracy: 0.8205 - val_loss: 1.3563 - val_accuracy: 0.6880\n",
      "78/78 [==============================] - 0s 2ms/step - loss: 1.3650 - accuracy: 0.6683\n",
      "Neural Network Accuracy:  0.6682692170143127\n"
     ]
    }
   ],
   "source": [
    "# Data: x_training, x_testing, y_training, y_testing\n",
    "#\n",
    "# Encode the labels\n",
    "encoder = LabelEncoder()  \n",
    "y_training_labeled = encoder.fit_transform(y_training)\n",
    "y_training_labeled = tf.keras.utils.to_categorical(y_training_labeled)\n",
    "\n",
    "# If the submission is for kaggle, y_testing does not exist.\n",
    "# Otherwise, we need to encode the labels.\n",
    "if results_to_test:\n",
    "    y_testing_labeled = encoder.fit_transform(y_testing)\n",
    "    y_testing_labeled = tf.keras.utils.to_categorical(y_testing_labeled)\n",
    "\n",
    "# Define the model\n",
    "model = tf.keras.Sequential()\n",
    "\n",
    "# Add a hidden layer with 16 units and ReLU activation\n",
    "model.add(tf.keras.layers.Dense(16, activation='relu', input_shape=(x_training.shape[1],)))\n",
    "\n",
    "# Add a hidden layer with 32 units and ReLU activation\n",
    "model.add(tf.keras.layers.Dense(32, activation='relu'))\n",
    "\n",
    "# Add a hidden layer with 64 units and ReLU activation\n",
    "model.add(tf.keras.layers.Dense(64, activation='relu'))\n",
    "\n",
    "# Add a hidden layer with 128 units and ReLU activation\n",
    "model.add(tf.keras.layers.Dense(128, activation='relu'))\n",
    "\n",
    "# Add a hidden layer with 64 units and ReLU activation\n",
    "model.add(tf.keras.layers.Dense(64, activation='relu'))\n",
    "\n",
    "# Add a hidden layer with 32 units and ReLU activation\n",
    "model.add(tf.keras.layers.Dense(32, activation='relu'))\n",
    "\n",
    "# Add a hidden layer with 16 units and ReLU activation\n",
    "model.add(tf.keras.layers.Dense(16, activation='relu'))\n",
    "\n",
    "# Add an output layer with 5 units and softmax activation\n",
    "model.add(tf.keras.layers.Dense(5, activation='softmax'))\n",
    "\n",
    "# Compile the model with categorical crossentropy loss and an Adam optimizer\n",
    "model.compile(loss='categorical_crossentropy', optimizer='adam', metrics=['accuracy'])\n",
    "\n",
    "# Fit the model to the training data\n",
    "history = model.fit(x_training, y_training_labeled, epochs=200, batch_size=32, validation_split=0.1)\n",
    "\n",
    "# Evaluate the model on the test data\n",
    "if results_to_test:\n",
    "    loss, accuracy = model.evaluate(x_testing, y_testing_labeled)\n",
    "    print(\"Neural Network Accuracy: \", accuracy)"
   ]
  },
  {
   "attachments": {},
   "cell_type": "markdown",
   "metadata": {},
   "source": [
    "## 6. Model Evaluation"
   ]
  },
  {
   "cell_type": "code",
   "execution_count": 1783,
   "metadata": {},
   "outputs": [],
   "source": [
    "if results_to_test:\n",
    "\n",
    "    results = []\n",
    "    results_table = []\n",
    "\n",
    "    # 5.1 Decision Tree\n",
    "    decision_trees_classification = metrics.classification_report(y_testing, decision_trees_predictions, zero_division=0)\n",
    "    decision_trees_classification_dict = metrics.classification_report(y_testing, decision_trees_predictions, output_dict=True, zero_division=0)\n",
    "    results_table.append({'model': 'Decision Tree', 'table': decision_trees_classification})\n",
    "    results.append({\n",
    "        'model': 'Decision Tree',\n",
    "        'accuracy': decision_trees_classification_dict['accuracy'],\n",
    "        'precision': decision_trees_classification_dict['macro avg']['precision'],\n",
    "        'recall': decision_trees_classification_dict['macro avg']['recall'],\n",
    "        'f1-score': decision_trees_classification_dict['macro avg']['f1-score']\n",
    "        })\n",
    "\n",
    "    # 5.2 Random Forest\n",
    "    random_forest_classification = metrics.classification_report(y_testing, random_forest_predictions, zero_division=0)\n",
    "    random_forest_classification_dict = metrics.classification_report(y_testing, random_forest_predictions, output_dict=True, zero_division=0)\n",
    "    results_table.append({'model': 'Random Forest', 'table': random_forest_classification})\n",
    "    results.append({\n",
    "        'model': 'Random Forest',\n",
    "        'accuracy': random_forest_classification_dict['accuracy'],\n",
    "        'precision': random_forest_classification_dict['macro avg']['precision'],\n",
    "        'recall': random_forest_classification_dict['macro avg']['recall'],\n",
    "        'f1-score': random_forest_classification_dict['macro avg']['f1-score']\n",
    "        })\n",
    "\n",
    "    # 5.3 Neural Network\n",
    "    \n",
    "    \n",
    "else:\n",
    "    saveResults(decision_trees_predictions, 'results/classificationDecisionTree.csv')\n",
    "    saveResults(random_forest_predictions, 'results/RandomForest.csv')"
   ]
  },
  {
   "cell_type": "code",
   "execution_count": 1784,
   "metadata": {},
   "outputs": [
    {
     "name": "stdout",
     "output_type": "stream",
     "text": [
      "----------Decision Tree----------------------------------------------------------------\n",
      "              precision    recall  f1-score   support\n",
      "\n",
      "        High       0.59      0.61      0.60       112\n",
      "         Low       0.73      0.64      0.68        75\n",
      "      Medium       0.59      0.56      0.57        61\n",
      "        None       0.85      0.87      0.86       198\n",
      "   Very_High       0.63      0.67      0.65        54\n",
      "\n",
      "    accuracy                           0.72       500\n",
      "   macro avg       0.68      0.67      0.67       500\n",
      "weighted avg       0.72      0.72      0.72       500\n",
      "\n",
      "----------Random Forest----------------------------------------------------------------\n",
      "              precision    recall  f1-score   support\n",
      "\n",
      "        High       0.65      0.65      0.65       112\n",
      "         Low       0.78      0.81      0.80        75\n",
      "      Medium       0.72      0.46      0.56        61\n",
      "        None       0.86      0.91      0.89       198\n",
      "   Very_High       0.72      0.80      0.75        54\n",
      "\n",
      "    accuracy                           0.77       500\n",
      "   macro avg       0.75      0.73      0.73       500\n",
      "weighted avg       0.77      0.77      0.77       500\n",
      "\n"
     ]
    }
   ],
   "source": [
    "for result in results_table:\n",
    "    print(\"----------\" + result['model'] + \"----------------------------------------------------------------\")\n",
    "    print(result['table'])"
   ]
  },
  {
   "cell_type": "code",
   "execution_count": 1785,
   "metadata": {},
   "outputs": [],
   "source": [
    "results_plot = pd.DataFrame(columns=['Model', 'Accuracy', 'Precision', 'Recall', 'F1-Score'])\n",
    "for row in results:\n",
    "    results_plot = results_plot.append({\n",
    "        'Model': row['model'],\n",
    "        'Accuracy': row['accuracy'],\n",
    "        'Precision': row['precision'],\n",
    "        'Recall': row['recall'],\n",
    "        'F1-Score': row['f1-score']\n",
    "        }, ignore_index=True)"
   ]
  },
  {
   "cell_type": "code",
   "execution_count": 1786,
   "metadata": {},
   "outputs": [
    {
     "data": {
      "text/plain": [
       "Text(0, 0.5, 'Accuracy')"
      ]
     },
     "execution_count": 1786,
     "metadata": {},
     "output_type": "execute_result"
    },
    {
     "data": {
      "image/png": "[encoded data removed]",
      "text/plain": [
       "<Figure size 2500x500 with 1 Axes>"
      ]
     },
     "metadata": {
      "needs_background": "light"
     },
     "output_type": "display_data"
    }
   ],
   "source": [
    "fig, ax = plt.subplots(figsize=(25, 5), dpi=100)\n",
    "sns.barplot(x=results_plot['Model'] , y=results_plot['Accuracy'], ax=ax, palette='Set2')\n",
    "ax.set_xlabel('Model', fontdict={'color':'black', 'weight':'bold', 'size': 16})\n",
    "ax.set_ylabel('Accuracy', fontdict={'color':'black', 'weight':'bold', 'size': 16})"
   ]
  },
  {
   "cell_type": "code",
   "execution_count": 1787,
   "metadata": {},
   "outputs": [
    {
     "data": {
      "text/plain": [
       "Text(0, 0.5, 'Precision')"
      ]
     },
     "execution_count": 1787,
     "metadata": {},
     "output_type": "execute_result"
    },
    {
     "data": {
      "image/png": "[encoded data removed]",
      "text/plain": [
       "<Figure size 2500x500 with 1 Axes>"
      ]
     },
     "metadata": {
      "needs_background": "light"
     },
     "output_type": "display_data"
    }
   ],
   "source": [
    "fig, ax = plt.subplots(figsize=(25, 5), dpi=100)\n",
    "sns.barplot(x=results_plot['Model'] , y=results_plot['Precision'], ax=ax, palette='Set2')\n",
    "ax.set_xlabel('Model', fontdict={'color':'black', 'weight':'bold', 'size': 16})\n",
    "ax.set_ylabel('Precision', fontdict={'color':'black', 'weight':'bold', 'size': 16})"
   ]
  },
  {
   "cell_type": "code",
   "execution_count": 1788,
   "metadata": {},
   "outputs": [
    {
     "data": {
      "text/plain": [
       "Text(0, 0.5, 'Recall')"
      ]
     },
     "execution_count": 1788,
     "metadata": {},
     "output_type": "execute_result"
    },
    {
     "data": {
      "image/png": "[encoded data removed]",
      "text/plain": [
       "<Figure size 2500x500 with 1 Axes>"
      ]
     },
     "metadata": {
      "needs_background": "light"
     },
     "output_type": "display_data"
    }
   ],
   "source": [
    "fig, ax = plt.subplots(figsize=(25, 5), dpi=100)\n",
    "sns.barplot(x=results_plot['Model'] , y=results_plot['Recall'], ax=ax, palette='Set2')\n",
    "ax.set_xlabel('Model', fontdict={'color':'black', 'weight':'bold', 'size': 16})\n",
    "ax.set_ylabel('Recall', fontdict={'color':'black', 'weight':'bold', 'size': 16})"
   ]
  },
  {
   "cell_type": "code",
   "execution_count": 1789,
   "metadata": {},
   "outputs": [
    {
     "data": {
      "text/plain": [
       "Text(0, 0.5, 'F1-Score')"
      ]
     },
     "execution_count": 1789,
     "metadata": {},
     "output_type": "execute_result"
    },
    {
     "data": {
      "image/png": "[encoded data removed]",
      "text/plain": [
       "<Figure size 2500x500 with 1 Axes>"
      ]
     },
     "metadata": {
      "needs_background": "light"
     },
     "output_type": "display_data"
    }
   ],
   "source": [
    "fig, ax = plt.subplots(figsize=(25, 5), dpi=100)\n",
    "sns.barplot(x=results_plot['Model'] , y=results_plot['F1-Score'], ax=ax, palette='Set2')\n",
    "ax.set_xlabel('Model', fontdict={'color':'black', 'weight':'bold', 'size': 16})\n",
    "ax.set_ylabel('F1-Score', fontdict={'color':'black', 'weight':'bold', 'size': 16})"
   ]
  }
 ],
 "metadata": {
  "kernelspec": {
   "display_name": "DAA",
   "language": "python",
   "name": "python3"
  },
  "language_info": {
   "codemirror_mode": {
    "name": "ipython",
    "version": 3
   },
   "file_extension": ".py",
   "mimetype": "text/x-python",
   "name": "python",
   "nbconvert_exporter": "python",
   "pygments_lexer": "ipython3",
   "version": "3.6.13"
  },
  "orig_nbformat": 4,
  "vscode": {
   "interpreter": {
    "hash": "17581a02e27760614d818c760348d8aa67266a347fd4beafc1c3e5e55ecb56b0"
   }
  }
 },
 "nbformat": 4,
 "nbformat_minor": 2
}
