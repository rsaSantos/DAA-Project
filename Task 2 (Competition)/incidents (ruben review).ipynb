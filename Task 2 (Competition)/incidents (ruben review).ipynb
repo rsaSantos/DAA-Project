{
 "cells": [
  {
   "cell_type": "markdown",
   "metadata": {},
   "source": [
    "Notebook structure:\n",
    "- 1. Importing libraries\n",
    "- 2. Loading the dataset\n",
    "- 3. Exploratory Data Analysis TODO Joao\n",
    "- 4. Data Preprocessing TODO Joao\n",
    "- 5. Model Training TODO Jorge\n",
    "- 6. Model Evaluation TODO Jorge\n",
    "- 8. Conclusion Todo"
   ]
  },
  {
   "cell_type": "markdown",
   "metadata": {},
   "source": [
    "## 1. Importing libraries"
   ]
  },
  {
   "cell_type": "code",
   "execution_count": 651,
   "metadata": {},
   "outputs": [],
   "source": [
    "import pandas as pd\n",
    "import pandas_profiling\n",
    "import numpy as np\n",
    "import matplotlib.pyplot as plt\n",
    "import seaborn as sns\n",
    "import scipy.stats as stats\n",
    "from sklearn import preprocessing, tree, metrics, model_selection, linear_model\n",
    "from sklearn.preprocessing import MinMaxScaler\n",
    "from sklearn.model_selection import cross_val_score\n",
    "from sklearn.svm import SVC\n",
    "from sklearn.model_selection import GridSearchCV\n",
    "from sklearn.metrics import mean_squared_error, mean_absolute_error, r2_score\n",
    "from sklearn.preprocessing import StandardScaler\n",
    "from sklearn.neural_network import MLPClassifier\n",
    "from sklearn.neighbors import KNeighborsClassifier\n",
    "from sklearn.svm import SVC\n",
    "from sklearn.gaussian_process import GaussianProcessClassifier\n",
    "from sklearn.gaussian_process.kernels import RBF\n",
    "from sklearn.tree import DecisionTreeClassifier\n",
    "from sklearn.ensemble import RandomForestClassifier, AdaBoostClassifier\n",
    "from sklearn.naive_bayes import GaussianNB\n",
    "from sklearn.discriminant_analysis import QuadraticDiscriminantAnalysis\n",
    "\n",
    "import datetime\n",
    "import random\n",
    "\n",
    "\n",
    "# Lois\n",
    "from lois import lois_ds_report\n",
    "%matplotlib inline"
   ]
  },
  {
   "cell_type": "markdown",
   "metadata": {},
   "source": [
    "## 2. Loading the dataset"
   ]
  },
  {
   "cell_type": "code",
   "execution_count": 652,
   "metadata": {},
   "outputs": [],
   "source": [
    "trainingData = pd.read_csv('data/training_data.csv')\n",
    "testData = pd.read_csv('data/test_data.csv')\n",
    "\n",
    "# Drop city name and avg_precipitation in both training and test data\n",
    "trainingData.drop('avg_precipitation', axis=1, inplace=True)\n",
    "trainingData.drop('city_name', axis=1, inplace=True)\n",
    "testData.drop('avg_precipitation', axis=1, inplace=True)\n",
    "testData.drop('city_name', axis=1, inplace=True)"
   ]
  },
  {
   "attachments": {},
   "cell_type": "markdown",
   "metadata": {},
   "source": [
    "### Ideias para análise de dados\n",
    "\n",
    "Magnitude of delay / Delay in Seconds\n",
    "Affected roads\n",
    "Date and Time\n",
    "Luminosity\n",
    "Temperature, Pressure, Humidity, Wind, Rain\n",
    "Incidents\n",
    "\n",
    "1. The most affected road: You can group the data by the affected roads column and then use a pivot table or some other tool to find out which road has the highest number of incidents.\n",
    "\n",
    "2. Relationship between weather conditions and incidents: You can use the temperature, pressure, humidity, wind, and rain columns to see if there is any relationship between these weather conditions and the number of incidents. For example, you might find that there are more incidents when it is raining or when the wind is strong.\n",
    "\n",
    "3. Magnitude of delay and weather conditions: You can use the magnitude of delay/delay in seconds column and the weather condition columns (temperature, pressure, humidity, wind, and rain) to see if there is any relationship between the magnitude of delay and the weather conditions. For example, you might find that the magnitude of delay is higher when it is raining or when the wind is strong.\n",
    "\n",
    "4. Time of day and incidents: You can use the date/time column to see if there are any trends in the number of incidents over the course of a day. For example, you might find that there are more incidents during rush hour or during the night.\n",
    "\n",
    "5. Luminosity and incidents: You can use the luminosity column to see if there is any relationship between the level of light and the number of incidents. For example, you might find that there are more incidents in the dark.\n",
    "\n",
    "\n",
    "a few more relations between X column and incidents."
   ]
  },
  {
   "attachments": {},
   "cell_type": "markdown",
   "metadata": {},
   "source": [
    "## 3. Exploratory Data Analysis"
   ]
  },
  {
   "cell_type": "code",
   "execution_count": 653,
   "metadata": {},
   "outputs": [
    {
     "data": {
      "text/html": [
       "<pre style=\"white-space:pre;overflow-x:auto;line-height:normal;font-family:Menlo,'DejaVu Sans Mono',consolas,'Courier New',monospace\">╭─────────────────────────────────────────── Exploratory Data Anlysis ────────────────────────────────────────────╮\n",
       "│                                                                                                                 │\n",
       "╰──────────────────────────────────── EDA|simple| Suitable for data scientist ────────────────────────────────────╯\n",
       "</pre>\n"
      ],
      "text/plain": [
       "╭─────────────────────────────────────────── Exploratory Data Anlysis ────────────────────────────────────────────╮\n",
       "│                                                                                                                 │\n",
       "╰──────────────────────────────────── EDA|simple| Suitable for data scientist ────────────────────────────────────╯\n"
      ]
     },
     "metadata": {},
     "output_type": "display_data"
    },
    {
     "data": {
      "text/html": [
       "<pre style=\"white-space:pre;overflow-x:auto;line-height:normal;font-family:Menlo,'DejaVu Sans Mono',consolas,'Courier New',monospace\">EDA\n",
       "┗━━ Dataset Shape Analysis\n",
       "    ┣━━ Dataset head\n",
       "    ┣━━ General info \n",
       "    ┣━━ The target variable\n",
       "    ┣━━ Number of rows and columns\n",
       "    ┣━━ The different data types\n",
       "    ┃   ┣━━ The sum of different variable type\n",
       "    ┃   ┗━━ Visual representation of different variable type\n",
       "    ┗━━ Analyze missing value\n",
       "        ┣━━ The percentage of missing value in each columns\n",
       "        ┣━━ The missing value counts\n",
       "        ┗━━ Visual representation of missing value\n",
       "</pre>\n"
      ],
      "text/plain": [
       "EDA\n",
       "┗━━ Dataset Shape Analysis\n",
       "    ┣━━ Dataset head\n",
       "    ┣━━ General info \n",
       "    ┣━━ The target variable\n",
       "    ┣━━ Number of rows and columns\n",
       "    ┣━━ The different data types\n",
       "    ┃   ┣━━ The sum of different variable type\n",
       "    ┃   ┗━━ Visual representation of different variable type\n",
       "    ┗━━ Analyze missing value\n",
       "        ┣━━ The percentage of missing value in each columns\n",
       "        ┣━━ The missing value counts\n",
       "        ┗━━ Visual representation of missing value\n"
      ]
     },
     "metadata": {},
     "output_type": "display_data"
    },
    {
     "data": {
      "text/html": [
       "<pre style=\"white-space:pre;overflow-x:auto;line-height:normal;font-family:Menlo,'DejaVu Sans Mono',consolas,'Courier New',monospace\">╭──────────────────────────────────────────── DATASET SHAPE ANALYSIS ─────────────────────────────────────────────╮\n",
       "│                                                                                                                 │\n",
       "╰─────────────────────────────────────────────────────────────────────────────────────────────────────────────────╯\n",
       "</pre>\n"
      ],
      "text/plain": [
       "╭──────────────────────────────────────────── DATASET SHAPE ANALYSIS ─────────────────────────────────────────────╮\n",
       "│                                                                                                                 │\n",
       "╰─────────────────────────────────────────────────────────────────────────────────────────────────────────────────╯\n"
      ]
     },
     "metadata": {},
     "output_type": "display_data"
    },
    {
     "data": {
      "text/html": [
       "<pre style=\"white-space:pre;overflow-x:auto;line-height:normal;font-family:Menlo,'DejaVu Sans Mono',consolas,'Courier New',monospace\">                        -------------------- THE HEAD OF YOUR DATASET --------------------                         \n",
       "</pre>\n"
      ],
      "text/plain": [
       "                        -------------------- THE HEAD OF YOUR DATASET --------------------                         \n"
      ]
     },
     "metadata": {},
     "output_type": "display_data"
    },
    {
     "data": {
      "text/html": [
       "<pre style=\"white-space:pre;overflow-x:auto;line-height:normal;font-family:Menlo,'DejaVu Sans Mono',consolas,'Courier New',monospace\">Your dataset is too large ; only the first <span style=\"color: #008080; text-decoration-color: #008080; font-weight: bold\">8</span> columns will be display\n",
       "</pre>\n"
      ],
      "text/plain": [
       "Your dataset is too large ; only the first \u001b[1;36m8\u001b[0m columns will be display\n"
      ]
     },
     "metadata": {},
     "output_type": "display_data"
    },
    {
     "data": {
      "text/html": [
       "<pre style=\"white-space:pre;overflow-x:auto;line-height:normal;font-family:Menlo,'DejaVu Sans Mono',consolas,'Courier New',monospace\"><span style=\"font-style: italic\">                                                    The Dataset                                                    </span>\n",
       "┏━━━━━━━━━━━━━━━━┳━━━━━━━━━━━━━━┳━━━━━━━━━━━━┳━━━━━━━━━┳━━━━━━━┳━━━━━━━━━━━━━┳━━━━━━━━━━━━━┳━━━━━━━━━━┳━━━━━━━━━━━┓\n",
       "┃<span style=\"font-weight: bold\"> magnitude_of_… </span>┃<span style=\"font-weight: bold\"> delay_in_se… </span>┃<span style=\"font-weight: bold\"> affected_… </span>┃<span style=\"font-weight: bold\"> record… </span>┃<span style=\"font-weight: bold\"> lumi… </span>┃<span style=\"font-weight: bold\"> avg_temper… </span>┃<span style=\"font-weight: bold\"> avg_atm_pr… </span>┃<span style=\"font-weight: bold\"> avg_hum… </span>┃<span style=\"font-weight: bold\"> avg_wind… </span>┃\n",
       "┡━━━━━━━━━━━━━━━━╇━━━━━━━━━━━━━━╇━━━━━━━━━━━━╇━━━━━━━━━╇━━━━━━━╇━━━━━━━━━━━━━╇━━━━━━━━━━━━━╇━━━━━━━━━━╇━━━━━━━━━━━┩\n",
       "└────────────────┴──────────────┴────────────┴─────────┴───────┴─────────────┴─────────────┴──────────┴───────────┘\n",
       "</pre>\n"
      ],
      "text/plain": [
       "\u001b[3m                                                    The Dataset                                                    \u001b[0m\n",
       "┏━━━━━━━━━━━━━━━━┳━━━━━━━━━━━━━━┳━━━━━━━━━━━━┳━━━━━━━━━┳━━━━━━━┳━━━━━━━━━━━━━┳━━━━━━━━━━━━━┳━━━━━━━━━━┳━━━━━━━━━━━┓\n",
       "┃\u001b[1m \u001b[0m\u001b[1mmagnitude_of_…\u001b[0m\u001b[1m \u001b[0m┃\u001b[1m \u001b[0m\u001b[1mdelay_in_se…\u001b[0m\u001b[1m \u001b[0m┃\u001b[1m \u001b[0m\u001b[1maffected_…\u001b[0m\u001b[1m \u001b[0m┃\u001b[1m \u001b[0m\u001b[1mrecord…\u001b[0m\u001b[1m \u001b[0m┃\u001b[1m \u001b[0m\u001b[1mlumi…\u001b[0m\u001b[1m \u001b[0m┃\u001b[1m \u001b[0m\u001b[1mavg_temper…\u001b[0m\u001b[1m \u001b[0m┃\u001b[1m \u001b[0m\u001b[1mavg_atm_pr…\u001b[0m\u001b[1m \u001b[0m┃\u001b[1m \u001b[0m\u001b[1mavg_hum…\u001b[0m\u001b[1m \u001b[0m┃\u001b[1m \u001b[0m\u001b[1mavg_wind…\u001b[0m\u001b[1m \u001b[0m┃\n",
       "┡━━━━━━━━━━━━━━━━╇━━━━━━━━━━━━━━╇━━━━━━━━━━━━╇━━━━━━━━━╇━━━━━━━╇━━━━━━━━━━━━━╇━━━━━━━━━━━━━╇━━━━━━━━━━╇━━━━━━━━━━━┩\n",
       "└────────────────┴──────────────┴────────────┴─────────┴───────┴─────────────┴─────────────┴──────────┴───────────┘\n"
      ]
     },
     "metadata": {},
     "output_type": "display_data"
    },
    {
     "data": {
      "text/html": [
       "<pre style=\"white-space:pre;overflow-x:auto;line-height:normal;font-family:Menlo,'DejaVu Sans Mono',consolas,'Courier New',monospace\">                  -------------------- SOME GENERAL INFO ABOUT YOUR DATASET --------------------                   \n",
       "</pre>\n"
      ],
      "text/plain": [
       "                  -------------------- SOME GENERAL INFO ABOUT YOUR DATASET --------------------                   \n"
      ]
     },
     "metadata": {},
     "output_type": "display_data"
    },
    {
     "name": "stdout",
     "output_type": "stream",
     "text": [
      "<class 'pandas.core.frame.DataFrame'>\n",
      "RangeIndex: 5000 entries, 0 to 4999\n",
      "Data columns (total 11 columns):\n",
      " #   Column              Non-Null Count  Dtype  \n",
      "---  ------              --------------  -----  \n",
      " 0   magnitude_of_delay  5000 non-null   object \n",
      " 1   delay_in_seconds    5000 non-null   int64  \n",
      " 2   affected_roads      4915 non-null   object \n",
      " 3   record_date         5000 non-null   object \n",
      " 4   luminosity          5000 non-null   object \n",
      " 5   avg_temperature     5000 non-null   float64\n",
      " 6   avg_atm_pressure    5000 non-null   float64\n",
      " 7   avg_humidity        5000 non-null   float64\n",
      " 8   avg_wind_speed      5000 non-null   float64\n",
      " 9   avg_rain            5000 non-null   object \n",
      " 10  incidents           5000 non-null   object \n",
      "dtypes: float64(4), int64(1), object(6)\n",
      "memory usage: 429.8+ KB\n"
     ]
    },
    {
     "data": {
      "text/html": [
       "<pre style=\"white-space:pre;overflow-x:auto;line-height:normal;font-family:Menlo,'DejaVu Sans Mono',consolas,'Courier New',monospace\">                   -------------------- THE TARGET VARIABLE OF YOUR DATASET --------------------                   \n",
       "</pre>\n"
      ],
      "text/plain": [
       "                   -------------------- THE TARGET VARIABLE OF YOUR DATASET --------------------                   \n"
      ]
     },
     "metadata": {},
     "output_type": "display_data"
    },
    {
     "data": {
      "text/html": [
       "<pre style=\"white-space:pre;overflow-x:auto;line-height:normal;font-family:Menlo,'DejaVu Sans Mono',consolas,'Courier New',monospace\">╭───────────────────────────────────────╮\n",
       "│ The Target variable is : 'incidents'  │\n",
       "╰───────────────────────────────────────╯\n",
       "</pre>\n"
      ],
      "text/plain": [
       "╭───────────────────────────────────────╮\n",
       "│ The Target variable is : 'incidents'  │\n",
       "╰───────────────────────────────────────╯\n"
      ]
     },
     "metadata": {},
     "output_type": "display_data"
    },
    {
     "data": {
      "text/html": [
       "<pre style=\"white-space:pre;overflow-x:auto;line-height:normal;font-family:Menlo,'DejaVu Sans Mono',consolas,'Courier New',monospace\">                    -------------------- ROWS AND COLUMNS IN YOUR DATASET --------------------                     \n",
       "</pre>\n"
      ],
      "text/plain": [
       "                    -------------------- ROWS AND COLUMNS IN YOUR DATASET --------------------                     \n"
      ]
     },
     "metadata": {},
     "output_type": "display_data"
    },
    {
     "data": {
      "text/html": [
       "<pre style=\"white-space:pre;overflow-x:auto;line-height:normal;font-family:Menlo,'DejaVu Sans Mono',consolas,'Courier New',monospace\">╭─ Shape output ─╮\n",
       "│ (5000, 11)     │\n",
       "╰────────────────╯\n",
       "</pre>\n"
      ],
      "text/plain": [
       "╭─ Shape output ─╮\n",
       "│ (5000, 11)     │\n",
       "╰────────────────╯\n"
      ]
     },
     "metadata": {},
     "output_type": "display_data"
    },
    {
     "data": {
      "text/html": [
       "<pre style=\"white-space:pre;overflow-x:auto;line-height:normal;font-family:Menlo,'DejaVu Sans Mono',consolas,'Courier New',monospace\">╭────────────────────────────────────────────────╮\n",
       "│ Your dataset contains 5000 Rows and 11 Columns │\n",
       "╰────────────────────────────────────────────────╯\n",
       "</pre>\n"
      ],
      "text/plain": [
       "╭────────────────────────────────────────────────╮\n",
       "│ Your dataset contains 5000 Rows and 11 Columns │\n",
       "╰────────────────────────────────────────────────╯\n"
      ]
     },
     "metadata": {},
     "output_type": "display_data"
    },
    {
     "data": {
      "text/html": [
       "<pre style=\"white-space:pre;overflow-x:auto;line-height:normal;font-family:Menlo,'DejaVu Sans Mono',consolas,'Courier New',monospace\">                     -------------------- THE DATA TYPES IN YOUR DATASET --------------------                      \n",
       "</pre>\n"
      ],
      "text/plain": [
       "                     -------------------- THE DATA TYPES IN YOUR DATASET --------------------                      \n"
      ]
     },
     "metadata": {},
     "output_type": "display_data"
    },
    {
     "data": {
      "text/html": [
       "<pre style=\"white-space:pre;overflow-x:auto;line-height:normal;font-family:Menlo,'DejaVu Sans Mono',consolas,'Courier New',monospace\">╭─ Data types output ─╮\n",
       "│ object     6        │\n",
       "│ float64    4        │\n",
       "│ int64      1        │\n",
       "│ dtype: int64        │\n",
       "╰─────────────────────╯\n",
       "</pre>\n"
      ],
      "text/plain": [
       "╭─ Data types output ─╮\n",
       "│ object     6        │\n",
       "│ float64    4        │\n",
       "│ int64      1        │\n",
       "│ dtype: int64        │\n",
       "╰─────────────────────╯\n"
      ]
     },
     "metadata": {},
     "output_type": "display_data"
    },
    {
     "data": {
      "image/png": "[encoded data removed]",
      "text/plain": [
       "<Figure size 288x288 with 1 Axes>"
      ]
     },
     "metadata": {},
     "output_type": "display_data"
    },
    {
     "data": {
      "text/html": [
       "<pre style=\"white-space:pre;overflow-x:auto;line-height:normal;font-family:Menlo,'DejaVu Sans Mono',consolas,'Courier New',monospace\">                      -------------------- MISSING VALUE IN YOUR DATASET --------------------                      \n",
       "</pre>\n"
      ],
      "text/plain": [
       "                      -------------------- MISSING VALUE IN YOUR DATASET --------------------                      \n"
      ]
     },
     "metadata": {},
     "output_type": "display_data"
    },
    {
     "data": {
      "text/html": [
       "<pre style=\"white-space:pre;overflow-x:auto;line-height:normal;font-family:Menlo,'DejaVu Sans Mono',consolas,'Courier New',monospace\">╭─── Missing value output ────╮\n",
       "│ magnitude_of_delay    0.000 │\n",
       "│ delay_in_seconds      0.000 │\n",
       "│ record_date           0.000 │\n",
       "│ luminosity            0.000 │\n",
       "│ avg_temperature       0.000 │\n",
       "│ avg_atm_pressure      0.000 │\n",
       "│ avg_humidity          0.000 │\n",
       "│ avg_wind_speed        0.000 │\n",
       "│ avg_rain              0.000 │\n",
       "│ incidents             0.000 │\n",
       "│ affected_roads        0.017 │\n",
       "│ dtype: float64              │\n",
       "╰─────────────────────────────╯\n",
       "</pre>\n"
      ],
      "text/plain": [
       "╭─── Missing value output ────╮\n",
       "│ magnitude_of_delay    0.000 │\n",
       "│ delay_in_seconds      0.000 │\n",
       "│ record_date           0.000 │\n",
       "│ luminosity            0.000 │\n",
       "│ avg_temperature       0.000 │\n",
       "│ avg_atm_pressure      0.000 │\n",
       "│ avg_humidity          0.000 │\n",
       "│ avg_wind_speed        0.000 │\n",
       "│ avg_rain              0.000 │\n",
       "│ incidents             0.000 │\n",
       "│ affected_roads        0.017 │\n",
       "│ dtype: float64              │\n",
       "╰─────────────────────────────╯\n"
      ]
     },
     "metadata": {},
     "output_type": "display_data"
    },
    {
     "data": {
      "text/html": [
       "<pre style=\"white-space:pre;overflow-x:auto;line-height:normal;font-family:Menlo,'DejaVu Sans Mono',consolas,'Courier New',monospace\">╭─ Missing value counts output ─╮\n",
       "│ 0.017     1                   │\n",
       "│ 0.000    10                   │\n",
       "│ dtype: int64                  │\n",
       "╰───────────────────────────────╯\n",
       "</pre>\n"
      ],
      "text/plain": [
       "╭─ Missing value counts output ─╮\n",
       "│ 0.017     1                   │\n",
       "│ 0.000    10                   │\n",
       "│ dtype: int64                  │\n",
       "╰───────────────────────────────╯\n"
      ]
     },
     "metadata": {},
     "output_type": "display_data"
    },
    {
     "data": {
      "image/png": "[encoded data removed]",
      "text/plain": [
       "<Figure size 360x288 with 2 Axes>"
      ]
     },
     "metadata": {
      "needs_background": "light"
     },
     "output_type": "display_data"
    },
    {
     "data": {
      "text/html": [
       "<pre style=\"white-space:pre;overflow-x:auto;line-height:normal;font-family:Menlo,'DejaVu Sans Mono',consolas,'Courier New',monospace\">                                   #################### END ####################                                   \n",
       "</pre>\n"
      ],
      "text/plain": [
       "                                   #################### END ####################                                   \n"
      ]
     },
     "metadata": {},
     "output_type": "display_data"
    }
   ],
   "source": [
    "lois_ds_report(trainingData,target_variable=\"incidents\")"
   ]
  },
  {
   "cell_type": "code",
   "execution_count": 654,
   "metadata": {},
   "outputs": [
    {
     "data": {
      "text/html": [
       "<div>\n",
       "<style scoped>\n",
       "    .dataframe tbody tr th:only-of-type {\n",
       "        vertical-align: middle;\n",
       "    }\n",
       "\n",
       "    .dataframe tbody tr th {\n",
       "        vertical-align: top;\n",
       "    }\n",
       "\n",
       "    .dataframe thead th {\n",
       "        text-align: right;\n",
       "    }\n",
       "</style>\n",
       "<table border=\"1\" class=\"dataframe\">\n",
       "  <thead>\n",
       "    <tr style=\"text-align: right;\">\n",
       "      <th></th>\n",
       "      <th>magnitude_of_delay</th>\n",
       "      <th>delay_in_seconds</th>\n",
       "      <th>affected_roads</th>\n",
       "      <th>record_date</th>\n",
       "      <th>luminosity</th>\n",
       "      <th>avg_temperature</th>\n",
       "      <th>avg_atm_pressure</th>\n",
       "      <th>avg_humidity</th>\n",
       "      <th>avg_wind_speed</th>\n",
       "      <th>avg_rain</th>\n",
       "      <th>incidents</th>\n",
       "    </tr>\n",
       "  </thead>\n",
       "  <tbody>\n",
       "    <tr>\n",
       "      <th>0</th>\n",
       "      <td>UNDEFINED</td>\n",
       "      <td>0</td>\n",
       "      <td>,</td>\n",
       "      <td>2021-03-15 23:00</td>\n",
       "      <td>DARK</td>\n",
       "      <td>12.0</td>\n",
       "      <td>1013.0</td>\n",
       "      <td>70.0</td>\n",
       "      <td>1.0</td>\n",
       "      <td>Sem Chuva</td>\n",
       "      <td>None</td>\n",
       "    </tr>\n",
       "    <tr>\n",
       "      <th>1</th>\n",
       "      <td>UNDEFINED</td>\n",
       "      <td>385</td>\n",
       "      <td>N101,</td>\n",
       "      <td>2021-12-25 18:00</td>\n",
       "      <td>DARK</td>\n",
       "      <td>12.0</td>\n",
       "      <td>1007.0</td>\n",
       "      <td>91.0</td>\n",
       "      <td>1.0</td>\n",
       "      <td>Sem Chuva</td>\n",
       "      <td>None</td>\n",
       "    </tr>\n",
       "    <tr>\n",
       "      <th>2</th>\n",
       "      <td>UNDEFINED</td>\n",
       "      <td>69</td>\n",
       "      <td>,</td>\n",
       "      <td>2021-03-12 15:00</td>\n",
       "      <td>LIGHT</td>\n",
       "      <td>14.0</td>\n",
       "      <td>1025.0</td>\n",
       "      <td>64.0</td>\n",
       "      <td>0.0</td>\n",
       "      <td>Sem Chuva</td>\n",
       "      <td>Low</td>\n",
       "    </tr>\n",
       "    <tr>\n",
       "      <th>3</th>\n",
       "      <td>MAJOR</td>\n",
       "      <td>2297</td>\n",
       "      <td>N101,R206,N105,N101,N101,N101,N101,N101,N101,N...</td>\n",
       "      <td>2021-09-29 09:00</td>\n",
       "      <td>LIGHT</td>\n",
       "      <td>15.0</td>\n",
       "      <td>1028.0</td>\n",
       "      <td>75.0</td>\n",
       "      <td>1.0</td>\n",
       "      <td>Sem Chuva</td>\n",
       "      <td>Very_High</td>\n",
       "    </tr>\n",
       "    <tr>\n",
       "      <th>4</th>\n",
       "      <td>UNDEFINED</td>\n",
       "      <td>0</td>\n",
       "      <td>N101,N101,N101,N101,N101,</td>\n",
       "      <td>2021-06-13 11:00</td>\n",
       "      <td>LIGHT</td>\n",
       "      <td>27.0</td>\n",
       "      <td>1020.0</td>\n",
       "      <td>52.0</td>\n",
       "      <td>1.0</td>\n",
       "      <td>Sem Chuva</td>\n",
       "      <td>High</td>\n",
       "    </tr>\n",
       "  </tbody>\n",
       "</table>\n",
       "</div>"
      ],
      "text/plain": [
       "  magnitude_of_delay  delay_in_seconds  \\\n",
       "0          UNDEFINED                 0   \n",
       "1          UNDEFINED               385   \n",
       "2          UNDEFINED                69   \n",
       "3              MAJOR              2297   \n",
       "4          UNDEFINED                 0   \n",
       "\n",
       "                                      affected_roads       record_date  \\\n",
       "0                                                  ,  2021-03-15 23:00   \n",
       "1                                              N101,  2021-12-25 18:00   \n",
       "2                                                  ,  2021-03-12 15:00   \n",
       "3  N101,R206,N105,N101,N101,N101,N101,N101,N101,N...  2021-09-29 09:00   \n",
       "4                          N101,N101,N101,N101,N101,  2021-06-13 11:00   \n",
       "\n",
       "  luminosity  avg_temperature  avg_atm_pressure  avg_humidity  avg_wind_speed  \\\n",
       "0       DARK             12.0            1013.0          70.0             1.0   \n",
       "1       DARK             12.0            1007.0          91.0             1.0   \n",
       "2      LIGHT             14.0            1025.0          64.0             0.0   \n",
       "3      LIGHT             15.0            1028.0          75.0             1.0   \n",
       "4      LIGHT             27.0            1020.0          52.0             1.0   \n",
       "\n",
       "    avg_rain  incidents  \n",
       "0  Sem Chuva       None  \n",
       "1  Sem Chuva       None  \n",
       "2  Sem Chuva        Low  \n",
       "3  Sem Chuva  Very_High  \n",
       "4  Sem Chuva       High  "
      ]
     },
     "execution_count": 654,
     "metadata": {},
     "output_type": "execute_result"
    }
   ],
   "source": [
    "trainingData.head()"
   ]
  },
  {
   "cell_type": "code",
   "execution_count": 655,
   "metadata": {},
   "outputs": [
    {
     "data": {
      "text/html": [
       "<div>\n",
       "<style scoped>\n",
       "    .dataframe tbody tr th:only-of-type {\n",
       "        vertical-align: middle;\n",
       "    }\n",
       "\n",
       "    .dataframe tbody tr th {\n",
       "        vertical-align: top;\n",
       "    }\n",
       "\n",
       "    .dataframe thead th {\n",
       "        text-align: right;\n",
       "    }\n",
       "</style>\n",
       "<table border=\"1\" class=\"dataframe\">\n",
       "  <thead>\n",
       "    <tr style=\"text-align: right;\">\n",
       "      <th></th>\n",
       "      <th>delay_in_seconds</th>\n",
       "      <th>avg_temperature</th>\n",
       "      <th>avg_atm_pressure</th>\n",
       "      <th>avg_humidity</th>\n",
       "      <th>avg_wind_speed</th>\n",
       "    </tr>\n",
       "  </thead>\n",
       "  <tbody>\n",
       "    <tr>\n",
       "      <th>count</th>\n",
       "      <td>5000.000000</td>\n",
       "      <td>5000.000000</td>\n",
       "      <td>5000.000000</td>\n",
       "      <td>5000.000000</td>\n",
       "      <td>5000.000000</td>\n",
       "    </tr>\n",
       "    <tr>\n",
       "      <th>mean</th>\n",
       "      <td>560.567000</td>\n",
       "      <td>14.583000</td>\n",
       "      <td>1018.145000</td>\n",
       "      <td>74.455000</td>\n",
       "      <td>1.253500</td>\n",
       "    </tr>\n",
       "    <tr>\n",
       "      <th>std</th>\n",
       "      <td>1686.859581</td>\n",
       "      <td>4.820514</td>\n",
       "      <td>5.174372</td>\n",
       "      <td>17.204638</td>\n",
       "      <td>1.269847</td>\n",
       "    </tr>\n",
       "    <tr>\n",
       "      <th>min</th>\n",
       "      <td>0.000000</td>\n",
       "      <td>1.000000</td>\n",
       "      <td>997.000000</td>\n",
       "      <td>6.000000</td>\n",
       "      <td>0.000000</td>\n",
       "    </tr>\n",
       "    <tr>\n",
       "      <th>25%</th>\n",
       "      <td>0.000000</td>\n",
       "      <td>11.000000</td>\n",
       "      <td>1015.000000</td>\n",
       "      <td>63.000000</td>\n",
       "      <td>0.000000</td>\n",
       "    </tr>\n",
       "    <tr>\n",
       "      <th>50%</th>\n",
       "      <td>0.000000</td>\n",
       "      <td>14.000000</td>\n",
       "      <td>1019.000000</td>\n",
       "      <td>78.000000</td>\n",
       "      <td>1.000000</td>\n",
       "    </tr>\n",
       "    <tr>\n",
       "      <th>75%</th>\n",
       "      <td>234.000000</td>\n",
       "      <td>18.000000</td>\n",
       "      <td>1022.000000</td>\n",
       "      <td>90.000000</td>\n",
       "      <td>2.000000</td>\n",
       "    </tr>\n",
       "    <tr>\n",
       "      <th>max</th>\n",
       "      <td>31083.000000</td>\n",
       "      <td>35.000000</td>\n",
       "      <td>1032.000000</td>\n",
       "      <td>100.000000</td>\n",
       "      <td>10.000000</td>\n",
       "    </tr>\n",
       "  </tbody>\n",
       "</table>\n",
       "</div>"
      ],
      "text/plain": [
       "       delay_in_seconds  avg_temperature  avg_atm_pressure  avg_humidity  \\\n",
       "count       5000.000000      5000.000000       5000.000000   5000.000000   \n",
       "mean         560.567000        14.583000       1018.145000     74.455000   \n",
       "std         1686.859581         4.820514          5.174372     17.204638   \n",
       "min            0.000000         1.000000        997.000000      6.000000   \n",
       "25%            0.000000        11.000000       1015.000000     63.000000   \n",
       "50%            0.000000        14.000000       1019.000000     78.000000   \n",
       "75%          234.000000        18.000000       1022.000000     90.000000   \n",
       "max        31083.000000        35.000000       1032.000000    100.000000   \n",
       "\n",
       "       avg_wind_speed  \n",
       "count     5000.000000  \n",
       "mean         1.253500  \n",
       "std          1.269847  \n",
       "min          0.000000  \n",
       "25%          0.000000  \n",
       "50%          1.000000  \n",
       "75%          2.000000  \n",
       "max         10.000000  "
      ]
     },
     "execution_count": 655,
     "metadata": {},
     "output_type": "execute_result"
    }
   ],
   "source": [
    "trainingData.describe()"
   ]
  },
  {
   "attachments": {},
   "cell_type": "markdown",
   "metadata": {},
   "source": [
    "## 4. Data Preprocessing"
   ]
  },
  {
   "attachments": {},
   "cell_type": "markdown",
   "metadata": {},
   "source": [
    "### Look for any Duplicated Rows"
   ]
  },
  {
   "cell_type": "code",
   "execution_count": 656,
   "metadata": {},
   "outputs": [
    {
     "name": "stdout",
     "output_type": "stream",
     "text": [
      "Number of duplicated rows: 0\n"
     ]
    }
   ],
   "source": [
    "# Is there any duplicated data?\n",
    "print(\"Number of duplicated rows: {}\".format(trainingData.duplicated().sum()))"
   ]
  },
  {
   "attachments": {},
   "cell_type": "markdown",
   "metadata": {},
   "source": [
    "#### Handle Affected Roads"
   ]
  },
  {
   "cell_type": "code",
   "execution_count": 657,
   "metadata": {},
   "outputs": [],
   "source": [
    "# Column affected_roads is a list of roads that are affected by the incident.\n",
    "# Replace this column with the number of roads affected by the incident.\n",
    "# Iterate over the number of affected roads of each incident.\n",
    "def replace_affected_roads(data):\n",
    "    \n",
    "    for index, row in data.iterrows():\n",
    "        # Check if the value is NaN\n",
    "        split_roads = []\n",
    "        if not pd.isnull(row['affected_roads']):\n",
    "            split_roads = row['affected_roads'].split(',')\n",
    "        \n",
    "        # Remove empty strings\n",
    "        split_roads = list(filter(None, split_roads))\n",
    "        \n",
    "        # Remove duplicates\n",
    "        split_roads = list(dict.fromkeys(split_roads))\n",
    "        \n",
    "        data.at[index, 'affected_roads'] = len(split_roads)\n",
    "        \n",
    "    # Rename column\n",
    "    data['affected_roads'] = data['affected_roads'].astype('int64')\n",
    "    data.rename(columns={'affected_roads': 'number_of_affected_roads'}, inplace=True)\n",
    "    \n",
    "    return data\n",
    "\n",
    "if 'affected_roads' in trainingData.columns:\n",
    "    trainingData = replace_affected_roads(trainingData)\n",
    "    testData = replace_affected_roads(testData)"
   ]
  },
  {
   "attachments": {},
   "cell_type": "markdown",
   "metadata": {},
   "source": [
    "### Handle Categorical data"
   ]
  },
  {
   "cell_type": "code",
   "execution_count": 658,
   "metadata": {},
   "outputs": [
    {
     "name": "stdout",
     "output_type": "stream",
     "text": [
      "Column: magnitude_of_delay\n",
      "['MAJOR' 'MODERATE' 'UNDEFINED']\n",
      "-----------------------------------------------------------------------\n",
      "Column: luminosity\n",
      "['DARK' 'LIGHT' 'LOW_LIGHT']\n",
      "-----------------------------------------------------------------------\n",
      "Column: avg_rain\n",
      "['Sem Chuva' 'chuva forte' 'chuva fraca' 'chuva moderada']\n",
      "-----------------------------------------------------------------------\n",
      "Column: incidents\n",
      "['High' 'Low' 'Medium' 'None' 'Very_High']\n",
      "-----------------------------------------------------------------------\n"
     ]
    }
   ],
   "source": [
    "# There are 5 non-numeric columns: magnitude_of_delay, record_date, luminosity, avg_rain and incidents\n",
    "# See the different values of each column - exclude record_date, because it is a date (\\:)\n",
    "non_numeric_columns = ['magnitude_of_delay', 'luminosity', 'avg_rain', 'incidents']\n",
    "for column in non_numeric_columns:\n",
    "    print(\"Column: {}\".format(column))\n",
    "    unique_values_train = trainingData[column].unique()\n",
    "    \n",
    "    # Check if the column exists in the test data (incidents does not exist)\n",
    "    if column in testData.columns:\n",
    "        unique_values_test = testData[column].unique()\n",
    "    else:\n",
    "        unique_values_test = []\n",
    "    \n",
    "    # Merge the two arrays and remove duplicates\n",
    "    unique_values = np.concatenate((unique_values_train, unique_values_test), axis=0)\n",
    "    unique_values = np.unique(unique_values)\n",
    "    print(unique_values)\n",
    "    print(\"-----------------------------------------------------------------------\") "
   ]
  },
  {
   "cell_type": "code",
   "execution_count": 659,
   "metadata": {},
   "outputs": [
    {
     "data": {
      "image/png": "[encoded data removed]",
      "text/plain": [
       "<Figure size 720x720 with 4 Axes>"
      ]
     },
     "metadata": {
      "needs_background": "light"
     },
     "output_type": "display_data"
    }
   ],
   "source": [
    "# Get the distribution of the non-numeric columns\n",
    "fig, axes = plt.subplots(nrows=2, ncols=2, figsize=(10, 10))\n",
    "for idx, column in enumerate(non_numeric_columns):\n",
    "    sns.countplot(x=column, data=trainingData, ax=axes[idx // 2, idx % 2])\n",
    "plt.tight_layout()\n",
    "plt.show()"
   ]
  },
  {
   "attachments": {},
   "cell_type": "markdown",
   "metadata": {},
   "source": [
    "#### Magnitude of delay / Delay in Seconds"
   ]
  },
  {
   "cell_type": "code",
   "execution_count": 660,
   "metadata": {},
   "outputs": [
    {
     "data": {
      "text/plain": [
       "<AxesSubplot:xlabel='incidents', ylabel='count'>"
      ]
     },
     "execution_count": 660,
     "metadata": {},
     "output_type": "execute_result"
    },
    {
     "data": {
      "image/png": "[encoded data removed]",
      "text/plain": [
       "<Figure size 432x288 with 1 Axes>"
      ]
     },
     "metadata": {
      "needs_background": "light"
     },
     "output_type": "display_data"
    }
   ],
   "source": [
    "# Relation between \"MAJOR\" delays and the incidents\n",
    "sns.countplot(x='incidents', hue='magnitude_of_delay', data=trainingData)"
   ]
  },
  {
   "cell_type": "code",
   "execution_count": 661,
   "metadata": {},
   "outputs": [
    {
     "name": "stdout",
     "output_type": "stream",
     "text": [
      "Number of UNDEFINED delays: 4314\n",
      "Number of MAJOR delays: 678\n",
      "Number of MODERATE delays: 8\n"
     ]
    },
    {
     "data": {
      "image/png": "[encoded data removed]",
      "text/plain": [
       "<Figure size 432x288 with 1 Axes>"
      ]
     },
     "metadata": {
      "needs_background": "light"
     },
     "output_type": "display_data"
    }
   ],
   "source": [
    "# Relation between magnitude of delay and delay in seconds\n",
    "sns.scatterplot(x='delay_in_seconds', y='magnitude_of_delay', data=trainingData)\n",
    "\n",
    "# Count the UNDIFINED, MAJOR and MODERATE delays\n",
    "print(\"Number of UNDEFINED delays: {}\".format(trainingData[trainingData['magnitude_of_delay'] == 'UNDEFINED'].shape[0]))\n",
    "print(\"Number of MAJOR delays: {}\".format(trainingData[trainingData['magnitude_of_delay'] == 'MAJOR'].shape[0]))\n",
    "print(\"Number of MODERATE delays: {}\".format(trainingData[trainingData['magnitude_of_delay'] == 'MODERATE'].shape[0]))"
   ]
  },
  {
   "cell_type": "code",
   "execution_count": 662,
   "metadata": {},
   "outputs": [
    {
     "data": {
      "image/png": "[encoded data removed]",
      "text/plain": [
       "<Figure size 720x360 with 2 Axes>"
      ]
     },
     "metadata": {
      "needs_background": "light"
     },
     "output_type": "display_data"
    },
    {
     "name": "stdout",
     "output_type": "stream",
     "text": [
      "Average delay in seconds for UNDEFINED delays: 123.27190542420028\n",
      "Average delay in seconds for MAJOR delays: 3322.1165191740415\n",
      "Average delay in seconds for MODERATE delays: 2330.625\n"
     ]
    }
   ],
   "source": [
    "# Get distribution of values of delay_in_seconds that have a magnitude_of_delay of \"MAJOR\" and \"UNDEFINED\"\n",
    "undefined_delay = trainingData[trainingData['magnitude_of_delay'] == 'UNDEFINED']\n",
    "major_delay = trainingData[trainingData['magnitude_of_delay'] == 'MAJOR']\n",
    "\n",
    "fig, axes = plt.subplots(nrows=1, ncols=2, figsize=(10, 5))\n",
    "undefined_delay['delay_in_seconds'].hist(ax=axes[0])\n",
    "major_delay['delay_in_seconds'].hist(ax=axes[1])\n",
    "plt.xlabel('Delay in seconds')\n",
    "plt.ylabel('Count')\n",
    "plt.show()\n",
    "\n",
    "# Print average delay in seconds for each magnitude of delay\n",
    "print(\"Average delay in seconds for UNDEFINED delays: {}\".format(undefined_delay['delay_in_seconds'].mean()))\n",
    "print(\"Average delay in seconds for MAJOR delays: {}\".format(major_delay['delay_in_seconds'].mean()))\n",
    "print(\"Average delay in seconds for MODERATE delays: {}\".format(trainingData[trainingData['magnitude_of_delay'] == 'MODERATE']['delay_in_seconds'].mean()))\n"
   ]
  },
  {
   "cell_type": "code",
   "execution_count": 663,
   "metadata": {},
   "outputs": [
    {
     "name": "stdout",
     "output_type": "stream",
     "text": [
      "Number of zero values of delay_in_seconds: 3226\n",
      "Number of zero values of delay_in_seconds with magnitude_of_delay = UNDEFINED: 3203\n",
      "Number of zero values of delay_in_seconds with magnitude_of_delay = MAJOR: 23\n"
     ]
    }
   ],
   "source": [
    "# Count zero values of delay_in_seconds\n",
    "print(\"Number of zero values of delay_in_seconds: {}\".format(trainingData[trainingData['delay_in_seconds'] == 0].shape[0]))\n",
    "\n",
    "# Count zero values of delay_in_seconds that have a magnitude_of_delay of \"MAJOR\" and \"UNDEFINED\"\n",
    "print(\"Number of zero values of delay_in_seconds with magnitude_of_delay = UNDEFINED: {}\".format(undefined_delay[undefined_delay['delay_in_seconds'] == 0].shape[0]))\n",
    "print(\"Number of zero values of delay_in_seconds with magnitude_of_delay = MAJOR: {}\".format(major_delay[major_delay['delay_in_seconds'] == 0].shape[0]))"
   ]
  },
  {
   "cell_type": "code",
   "execution_count": 664,
   "metadata": {},
   "outputs": [
    {
     "name": "stdout",
     "output_type": "stream",
     "text": [
      "Low       32\n",
      "None       9\n",
      "Medium     2\n",
      "Name: incidents, dtype: int64\n"
     ]
    }
   ],
   "source": [
    "# Of the 23 incidents that have a magnitude_of_delay of \"MAJOR\" and a small delay_in_seconds\n",
    "# Get count of the incidents per type...\n",
    "major_delay_zero = major_delay[major_delay['delay_in_seconds'] < 250]\n",
    "print(major_delay_zero['incidents'].value_counts())"
   ]
  },
  {
   "cell_type": "code",
   "execution_count": 665,
   "metadata": {},
   "outputs": [],
   "source": [
    "if 'magnitude_of_delay' in trainingData.columns and 'delay_in_seconds' in testData.columns:\n",
    "    # Map values no numeric\n",
    "    dict_magnitude_of_delay = {'UNDEFINED': 1, 'MODERATE':1.5, 'MAJOR':2}\n",
    "    trainingData['magnitude_of_delay'] = trainingData['magnitude_of_delay'].map(dict_magnitude_of_delay)\n",
    "    testData['magnitude_of_delay'] = testData['magnitude_of_delay'].map(dict_magnitude_of_delay)\n",
    "    \n",
    "    # Multiply the 'delay_in_seconds' column by the 'magnitude_of_delay' column\n",
    "    #\n",
    "    # The reason for this is that the 'delay_in_seconds' column has a lot of zero values.\n",
    "    # The \"UNDEFINED\" has a delay of 0 seconds in 75% of the cases.\n",
    "    #  It has 94% of values under 10 minutes.\n",
    "    #\n",
    "    trainingData['delay_in_seconds'] = trainingData['delay_in_seconds'] * trainingData['magnitude_of_delay']\n",
    "    testData['delay_in_seconds'] = testData['delay_in_seconds'] * testData['magnitude_of_delay']\n",
    "    \n",
    "    # Drop magnitude_of_delay column\n",
    "    trainingData.drop('magnitude_of_delay', axis=1, inplace=True)\n",
    "    testData.drop('magnitude_of_delay', axis=1, inplace=True)\n",
    "    \n",
    "    # Rename column as 'delay_coefficient'\n",
    "    trainingData.rename(columns={'delay_in_seconds': 'delay_coefficient'}, inplace=True)\n",
    "    testData.rename(columns={'delay_in_seconds': 'delay_coefficient'}, inplace=True)\n",
    "    \n",
    "    # Convert delay_coefficient to int\n",
    "    trainingData['delay_coefficient'] = trainingData['delay_coefficient'].astype(int)\n",
    "    testData['delay_coefficient'] = testData['delay_coefficient'].astype(int)"
   ]
  },
  {
   "cell_type": "code",
   "execution_count": 666,
   "metadata": {},
   "outputs": [],
   "source": [
    "# TODO: The 'delay_coefficient' column has a lot of zero values!!\n",
    "# Also, should we convert to binary delay/no delay? Binning?"
   ]
  },
  {
   "attachments": {},
   "cell_type": "markdown",
   "metadata": {},
   "source": [
    "#### Luminosity"
   ]
  },
  {
   "cell_type": "code",
   "execution_count": 667,
   "metadata": {},
   "outputs": [
    {
     "data": {
      "text/plain": [
       "DARK         2489\n",
       "LIGHT        2325\n",
       "LOW_LIGHT     186\n",
       "Name: luminosity, dtype: int64"
      ]
     },
     "execution_count": 667,
     "metadata": {},
     "output_type": "execute_result"
    }
   ],
   "source": [
    "# Count different values of the 'luminosity' column\n",
    "trainingData['luminosity'].value_counts()"
   ]
  },
  {
   "cell_type": "code",
   "execution_count": 668,
   "metadata": {},
   "outputs": [
    {
     "name": "stdout",
     "output_type": "stream",
     "text": [
      "None         72\n",
      "High         52\n",
      "Very_High    24\n",
      "Medium       21\n",
      "Low          17\n",
      "Name: incidents, dtype: int64\n"
     ]
    },
    {
     "data": {
      "text/plain": [
       "<AxesSubplot:xlabel='luminosity', ylabel='count'>"
      ]
     },
     "execution_count": 668,
     "metadata": {},
     "output_type": "execute_result"
    },
    {
     "data": {
      "image/png": "[encoded data removed]",
      "text/plain": [
       "<Figure size 432x288 with 1 Axes>"
      ]
     },
     "metadata": {
      "needs_background": "light"
     },
     "output_type": "display_data"
    }
   ],
   "source": [
    "# Relation between 'luminosity' and 'incidents'\n",
    "low_luminosity = trainingData[trainingData['luminosity'] == 'LOW_LIGHT']\n",
    "print(low_luminosity['incidents'].value_counts())\n",
    "sns.countplot(x='luminosity', hue='incidents', data=low_luminosity)"
   ]
  },
  {
   "cell_type": "code",
   "execution_count": 669,
   "metadata": {},
   "outputs": [
    {
     "name": "stdout",
     "output_type": "stream",
     "text": [
      "1    2511\n",
      "0    2489\n",
      "Name: luminosity, dtype: int64\n"
     ]
    }
   ],
   "source": [
    "# Count different values of previous plot\n",
    "low_luminosity['incidents'].value_counts()\n",
    "\n",
    "# None + Low = 89\n",
    "# High + Very High = 76\n",
    "#\n",
    "# The 'luminosity' column, when it is LOW_LIGHT, has a similar probability of having an incident or not.\n",
    "# So, whenever we find a LOW_LIGHT value, we will randomly assign a value of 0 or 1.\n",
    "#\n",
    "def binary_luminosity(value):\n",
    "    if value == 'LOW_LIGHT':\n",
    "        random.seed(2022)\n",
    "        return random.randint(0, 1)\n",
    "    elif value == 'DARK':\n",
    "        return 0\n",
    "    elif value == 'LIGHT':\n",
    "        return 1\n",
    "    else:\n",
    "        print(\"ERROR: Invalid value for 'luminosity' column: {}\".format(value))\n",
    "\n",
    "\n",
    "if 'luminosity' in trainingData.columns and trainingData['luminosity'].dtype == 'object':\n",
    "    trainingData['luminosity'] = trainingData['luminosity'].apply(binary_luminosity)\n",
    "    testData['luminosity'] = testData['luminosity'].apply(binary_luminosity)\n",
    "\n",
    "print(trainingData['luminosity'].value_counts())"
   ]
  },
  {
   "attachments": {},
   "cell_type": "markdown",
   "metadata": {},
   "source": [
    "#### Average Rain"
   ]
  },
  {
   "cell_type": "code",
   "execution_count": 670,
   "metadata": {},
   "outputs": [
    {
     "name": "stdout",
     "output_type": "stream",
     "text": [
      "Sem Chuva         4756\n",
      "chuva fraca        214\n",
      "chuva moderada      27\n",
      "chuva forte          3\n",
      "Name: avg_rain, dtype: int64\n"
     ]
    }
   ],
   "source": [
    "# Count different values of the 'avg_rain' column.\n",
    "print(trainingData['avg_rain'].value_counts())"
   ]
  },
  {
   "cell_type": "code",
   "execution_count": 671,
   "metadata": {},
   "outputs": [
    {
     "name": "stdout",
     "output_type": "stream",
     "text": [
      "None         67\n",
      "High         50\n",
      "Very_High    39\n",
      "Low          32\n",
      "Medium       26\n",
      "Name: incidents, dtype: int64\n"
     ]
    },
    {
     "data": {
      "text/plain": [
       "<AxesSubplot:xlabel='avg_rain', ylabel='count'>"
      ]
     },
     "execution_count": 671,
     "metadata": {},
     "output_type": "execute_result"
    },
    {
     "data": {
      "image/png": "[encoded data removed]",
      "text/plain": [
       "<Figure size 432x288 with 1 Axes>"
      ]
     },
     "metadata": {
      "needs_background": "light"
     },
     "output_type": "display_data"
    }
   ],
   "source": [
    "# Get the incidents per value of 'avg_rain'==chuva fraca\n",
    "chuva_fraca = trainingData[trainingData['avg_rain'] == 'chuva fraca']\n",
    "print(chuva_fraca['incidents'].value_counts())\n",
    "sns.countplot(x='avg_rain', hue='incidents', data=chuva_fraca)"
   ]
  },
  {
   "cell_type": "code",
   "execution_count": 672,
   "metadata": {},
   "outputs": [],
   "source": [
    "# Transform the 'avg_rain' column into binary values: rain/no rain\n",
    "def binary_rain(value):\n",
    "    if value == 'Sem Chuva':\n",
    "        return 0\n",
    "    else:\n",
    "        return 1\n",
    "\n",
    "# Average rain\n",
    "if 'avg_rain' in trainingData.columns and trainingData['avg_rain'].dtype == 'object':\n",
    "    trainingData['avg_rain'] = trainingData['avg_rain'].apply(binary_rain)\n",
    "    testData['avg_rain'] = testData['avg_rain'].apply(binary_rain)"
   ]
  },
  {
   "attachments": {},
   "cell_type": "markdown",
   "metadata": {},
   "source": [
    "### Handle Non-Categorical Data"
   ]
  },
  {
   "attachments": {},
   "cell_type": "markdown",
   "metadata": {},
   "source": [
    "#### Average Temperature"
   ]
  },
  {
   "cell_type": "code",
   "execution_count": 683,
   "metadata": {},
   "outputs": [
    {
     "data": {
      "text/plain": [
       "<seaborn.axisgrid.FacetGrid at 0x7ff5731427b8>"
      ]
     },
     "execution_count": 683,
     "metadata": {},
     "output_type": "execute_result"
    },
    {
     "data": {
      "image/png": "[encoded data removed]",
      "text/plain": [
       "<Figure size 360x360 with 1 Axes>"
      ]
     },
     "metadata": {
      "needs_background": "light"
     },
     "output_type": "display_data"
    }
   ],
   "source": [
    "# Distribution of the 'avg_temperature' column\n",
    "sns.displot(trainingData['avg_temperature'])"
   ]
  },
  {
   "attachments": {},
   "cell_type": "markdown",
   "metadata": {},
   "source": [
    "#### Average Humidity"
   ]
  },
  {
   "attachments": {},
   "cell_type": "markdown",
   "metadata": {},
   "source": [
    "#### Average Wind Speed"
   ]
  },
  {
   "attachments": {},
   "cell_type": "markdown",
   "metadata": {},
   "source": [
    "#### Average Pressure"
   ]
  },
  {
   "attachments": {},
   "cell_type": "markdown",
   "metadata": {},
   "source": [
    "#### Normalization / Standardization"
   ]
  },
  {
   "cell_type": "code",
   "execution_count": 648,
   "metadata": {},
   "outputs": [],
   "source": [
    "#categorical_columns = ['delay_coefficient', 'luminosity', 'avg_rain']\n",
    "\n",
    "# Normalize the categorical columns independently\n",
    "#for column in categorical_columns:\n",
    "#    scaler = MinMaxScaler()\n",
    "#    trainingData[column] = scaler.fit_transform(trainingData[column].values.reshape(-1,1))\n",
    "#    testData[column] = scaler.transform(testData[column].values.reshape(-1,1))\n",
    "    \n",
    "# One-hot encoding\n",
    "# trainingData = pd.get_dummies(trainingData, columns=columns_to_encode)\n",
    "# testData = pd.get_dummies(testData, columns=columns_to_encode)"
   ]
  },
  {
   "attachments": {},
   "cell_type": "markdown",
   "metadata": {},
   "source": [
    "#### Handling the date"
   ]
  },
  {
   "cell_type": "code",
   "execution_count": 649,
   "metadata": {},
   "outputs": [],
   "source": [
    "# Use the hour and month value as continuous variables\n",
    "# Create a binary variable for weekend or not\n",
    "def create_time_variables(data):\n",
    "    for index, row in data.iterrows():\n",
    "        # Get the hour\n",
    "        hour = int(row['record_date'].split(' ')[1].split(':')[0])\n",
    "        data.at[index, 'hour'] = hour\n",
    "        \n",
    "        # Get the month\n",
    "        date = row['record_date'].split(' ')[0]\n",
    "        month = int(date.split('-')[1])\n",
    "        data.at[index, 'month'] = month\n",
    "        \n",
    "        # Check if it is a weekend\n",
    "        # Convert the date to a datetime object\n",
    "        dateTimeObj = datetime.datetime.strptime(date, \"%Y-%m-%d\")\n",
    "        day_of_week_bool = dateTimeObj.isoweekday() in [6, 7]        \n",
    "        data.at[index, 'weekend'] = int(day_of_week_bool)\n",
    "    \n",
    "    # Convert the 'hour', 'month' and weekend columns to int\n",
    "    data['hour'] = data['hour'].astype(int)\n",
    "    data['month'] = data['month'].astype(int)\n",
    "    data['weekend'] = data['weekend'].astype(int)\n",
    "    \n",
    "    return data\n",
    "\n",
    "if 'record_date' in trainingData.columns:\n",
    "    trainingData = create_time_variables(trainingData)\n",
    "    testData = create_time_variables(testData)\n",
    "                \n",
    "    # Drop record_date\n",
    "    trainingData.drop('record_date', axis=1, inplace=True)\n",
    "    testData.drop('record_date', axis=1, inplace=True)"
   ]
  },
  {
   "cell_type": "code",
   "execution_count": 650,
   "metadata": {},
   "outputs": [
    {
     "name": "stdout",
     "output_type": "stream",
     "text": [
      "<class 'pandas.core.frame.DataFrame'>\n",
      "RangeIndex: 5000 entries, 0 to 4999\n",
      "Data columns (total 12 columns):\n",
      " #   Column                    Non-Null Count  Dtype  \n",
      "---  ------                    --------------  -----  \n",
      " 0   delay_coefficient         5000 non-null   float64\n",
      " 1   number_of_affected_roads  5000 non-null   int64  \n",
      " 2   luminosity                5000 non-null   int64  \n",
      " 3   avg_temperature           5000 non-null   float64\n",
      " 4   avg_atm_pressure          5000 non-null   float64\n",
      " 5   avg_humidity              5000 non-null   float64\n",
      " 6   avg_wind_speed            5000 non-null   float64\n",
      " 7   avg_rain                  5000 non-null   int64  \n",
      " 8   incidents                 5000 non-null   object \n",
      " 9   hour                      5000 non-null   int64  \n",
      " 10  month                     5000 non-null   int64  \n",
      " 11  weekend                   5000 non-null   int64  \n",
      "dtypes: float64(5), int64(6), object(1)\n",
      "memory usage: 468.9+ KB\n"
     ]
    }
   ],
   "source": [
    "trainingData.info()"
   ]
  },
  {
   "cell_type": "code",
   "execution_count": 576,
   "metadata": {},
   "outputs": [
    {
     "data": {
      "text/plain": [
       "<AxesSubplot:>"
      ]
     },
     "execution_count": 576,
     "metadata": {},
     "output_type": "execute_result"
    },
    {
     "data": {
      "image/png": "[encoded data removed]",
      "text/plain": [
       "<Figure size 432x288 with 2 Axes>"
      ]
     },
     "metadata": {
      "needs_background": "light"
     },
     "output_type": "display_data"
    }
   ],
   "source": [
    "sns.heatmap(trainingData.corr(), annot=True, fmt='.2f')"
   ]
  },
  {
   "cell_type": "code",
   "execution_count": 577,
   "metadata": {},
   "outputs": [
    {
     "name": "stdout",
     "output_type": "stream",
     "text": [
      "Unique values of the dataset:\n",
      "delay_coefficient           1236\n",
      "number_of_affected_roads       9\n",
      "luminosity                     2\n",
      "avg_temperature               35\n",
      "avg_atm_pressure              36\n",
      "avg_humidity                  83\n",
      "avg_wind_speed                11\n",
      "avg_rain                       2\n",
      "incidents                      5\n",
      "hour                          24\n",
      "month                         11\n",
      "weekend                        2\n",
      "dtype: int64\n"
     ]
    }
   ],
   "source": [
    "# Check unique values of the dataset.\n",
    "print(\"Unique values of the dataset:\")\n",
    "print(trainingData.nunique())"
   ]
  },
  {
   "cell_type": "code",
   "execution_count": 578,
   "metadata": {},
   "outputs": [],
   "source": [
    "# Get the profile report - later analyze the results\n",
    "# trainingData.profile_report()"
   ]
  },
  {
   "cell_type": "code",
   "execution_count": 579,
   "metadata": {},
   "outputs": [
    {
     "data": {
      "text/plain": [
       "<AxesSubplot:>"
      ]
     },
     "execution_count": 579,
     "metadata": {},
     "output_type": "execute_result"
    },
    {
     "data": {
      "image/png": "[encoded data removed]",
      "text/plain": [
       "<Figure size 432x288 with 1 Axes>"
      ]
     },
     "metadata": {
      "needs_background": "light"
     },
     "output_type": "display_data"
    }
   ],
   "source": [
    "# Visualyze outliers of the dataset: all columns\n",
    "outliers_columns = [ 'avg_temperature', 'avg_atm_pressure', 'avg_humidity', 'avg_wind_speed']\n",
    "sns.boxplot(data=trainingData[outliers_columns])"
   ]
  },
  {
   "cell_type": "code",
   "execution_count": 580,
   "metadata": {},
   "outputs": [
    {
     "data": {
      "text/html": [
       "<div>\n",
       "<style scoped>\n",
       "    .dataframe tbody tr th:only-of-type {\n",
       "        vertical-align: middle;\n",
       "    }\n",
       "\n",
       "    .dataframe tbody tr th {\n",
       "        vertical-align: top;\n",
       "    }\n",
       "\n",
       "    .dataframe thead th {\n",
       "        text-align: right;\n",
       "    }\n",
       "</style>\n",
       "<table border=\"1\" class=\"dataframe\">\n",
       "  <thead>\n",
       "    <tr style=\"text-align: right;\">\n",
       "      <th></th>\n",
       "      <th>avg_temperature</th>\n",
       "      <th>avg_atm_pressure</th>\n",
       "      <th>avg_humidity</th>\n",
       "      <th>avg_wind_speed</th>\n",
       "    </tr>\n",
       "  </thead>\n",
       "  <tbody>\n",
       "    <tr>\n",
       "      <th>count</th>\n",
       "      <td>5000.000000</td>\n",
       "      <td>5000.000000</td>\n",
       "      <td>5000.000000</td>\n",
       "      <td>5000.000000</td>\n",
       "    </tr>\n",
       "    <tr>\n",
       "      <th>mean</th>\n",
       "      <td>14.583000</td>\n",
       "      <td>1018.145000</td>\n",
       "      <td>74.455000</td>\n",
       "      <td>1.253500</td>\n",
       "    </tr>\n",
       "    <tr>\n",
       "      <th>std</th>\n",
       "      <td>4.820514</td>\n",
       "      <td>5.174372</td>\n",
       "      <td>17.204638</td>\n",
       "      <td>1.269847</td>\n",
       "    </tr>\n",
       "    <tr>\n",
       "      <th>min</th>\n",
       "      <td>1.000000</td>\n",
       "      <td>997.000000</td>\n",
       "      <td>6.000000</td>\n",
       "      <td>0.000000</td>\n",
       "    </tr>\n",
       "    <tr>\n",
       "      <th>25%</th>\n",
       "      <td>11.000000</td>\n",
       "      <td>1015.000000</td>\n",
       "      <td>63.000000</td>\n",
       "      <td>0.000000</td>\n",
       "    </tr>\n",
       "    <tr>\n",
       "      <th>50%</th>\n",
       "      <td>14.000000</td>\n",
       "      <td>1019.000000</td>\n",
       "      <td>78.000000</td>\n",
       "      <td>1.000000</td>\n",
       "    </tr>\n",
       "    <tr>\n",
       "      <th>75%</th>\n",
       "      <td>18.000000</td>\n",
       "      <td>1022.000000</td>\n",
       "      <td>90.000000</td>\n",
       "      <td>2.000000</td>\n",
       "    </tr>\n",
       "    <tr>\n",
       "      <th>max</th>\n",
       "      <td>35.000000</td>\n",
       "      <td>1032.000000</td>\n",
       "      <td>100.000000</td>\n",
       "      <td>10.000000</td>\n",
       "    </tr>\n",
       "  </tbody>\n",
       "</table>\n",
       "</div>"
      ],
      "text/plain": [
       "       avg_temperature  avg_atm_pressure  avg_humidity  avg_wind_speed\n",
       "count      5000.000000       5000.000000   5000.000000     5000.000000\n",
       "mean         14.583000       1018.145000     74.455000        1.253500\n",
       "std           4.820514          5.174372     17.204638        1.269847\n",
       "min           1.000000        997.000000      6.000000        0.000000\n",
       "25%          11.000000       1015.000000     63.000000        0.000000\n",
       "50%          14.000000       1019.000000     78.000000        1.000000\n",
       "75%          18.000000       1022.000000     90.000000        2.000000\n",
       "max          35.000000       1032.000000    100.000000       10.000000"
      ]
     },
     "execution_count": 580,
     "metadata": {},
     "output_type": "execute_result"
    }
   ],
   "source": [
    "# Describe outliers columns\n",
    "trainingData[outliers_columns].describe()"
   ]
  },
  {
   "cell_type": "code",
   "execution_count": 581,
   "metadata": {},
   "outputs": [],
   "source": [
    "# Count the number of outliers per column with the IQR method; have an option to remove the outliers\n",
    "def count_outliers_IQR(data, column, remove_outliers=False, verbose=False):\n",
    "    # Calculate the 1st and 3rd quartile\n",
    "    q1 = data[column].quantile(0.25)\n",
    "    q3 = data[column].quantile(0.75)\n",
    "    # Calculate the IQR\n",
    "    IQR = q3 - q1\n",
    "    # Calculate the lower and upper bound\n",
    "    lower_bound = q1 - (1.5 * IQR)\n",
    "    upper_bound = q3 + (1.5 * IQR)\n",
    "    # Count the number of outliers\n",
    "    outliers = data[(data[column] < lower_bound) | (data[column] > upper_bound)]\n",
    "    if verbose:\n",
    "        print(\"Number of outliers for column {} is {}\".format(column, outliers.shape[0]))\n",
    "    # Remove the outliers\n",
    "    if remove_outliers:\n",
    "        number_of_rows_before = data.shape[0]\n",
    "        data = data[(data[column] > lower_bound) & (data[column] < upper_bound)]\n",
    "        print(\"Removed {} rows from the dataset\".format(number_of_rows_before - data.shape[0]))\n",
    "    return data"
   ]
  },
  {
   "cell_type": "code",
   "execution_count": 582,
   "metadata": {},
   "outputs": [],
   "source": [
    "# Count the number of outliers per column with the Z-score method; have an option to remove the outliers\n",
    "def count_outliers_Z_score(data, column, remove_outliers=False, verbose=False):\n",
    "    # Calculate the Z-score\n",
    "    z = np.abs(stats.zscore(data[column]))\n",
    "    # Count the number of outliers\n",
    "    outliers = data[z > 3]\n",
    "    if verbose:\n",
    "        print(\"Number of outliers for column {} is {}\".format(column, outliers.shape[0]))\n",
    "    # Remove the outliers\n",
    "    if remove_outliers:\n",
    "        number_of_rows_before = data.shape[0]\n",
    "        data = data[z < 3]\n",
    "        print(\"Removed {} rows from the dataset\".format(number_of_rows_before - data.shape[0]))\n",
    "    return data"
   ]
  },
  {
   "cell_type": "code",
   "execution_count": 583,
   "metadata": {},
   "outputs": [
    {
     "name": "stdout",
     "output_type": "stream",
     "text": [
      "Number of outliers for column avg_temperature is 43\n",
      "Number of outliers for column avg_temperature is 33\n",
      "\n",
      "Number of outliers for column avg_atm_pressure is 45\n",
      "Number of outliers for column avg_atm_pressure is 19\n",
      "\n",
      "Number of outliers for column avg_humidity is 9\n",
      "Number of outliers for column avg_humidity is 9\n",
      "\n",
      "Number of outliers for column avg_wind_speed is 44\n",
      "Number of outliers for column avg_wind_speed is 44\n",
      "\n"
     ]
    }
   ],
   "source": [
    "# Count and compare the number of outliers per column; do not remove the outliers\n",
    "for column in outliers_columns:\n",
    "    trainingData = count_outliers_IQR(trainingData, column, verbose=True)\n",
    "    trainingData = count_outliers_Z_score(trainingData, column, verbose=True)\n",
    "    print()"
   ]
  },
  {
   "cell_type": "code",
   "execution_count": 584,
   "metadata": {},
   "outputs": [],
   "source": [
    "# Plot a histogram of the outliers columns\n",
    "# trainingData[outliers_columns].hist(figsize=(10,10))\n"
   ]
  },
  {
   "cell_type": "code",
   "execution_count": 585,
   "metadata": {},
   "outputs": [],
   "source": [
    "# Remove the outliers with the IQR method\n",
    "#for column in outliers_columns:\n",
    "#    # trainingData = count_outliers_IQR(trainingData, column, remove_outliers=True)\n",
    "#    trainingData = count_outliers_Z_score(trainingData, column, remove_outliers=True)\n",
    "\n",
    "# Replace the outliers\n",
    "#for column in outliers_columns:\n",
    "#    # Calculate the maximum and minimum values that are not outliers\n",
    "#    # According to the z-score method\n",
    "#    max_value = trainingData[column].mean() + 3 * trainingData[column].std()\n",
    "#    min_value = trainingData[column].mean() - 3 * trainingData[column].std()\n",
    "#        \n",
    "#    # Replace the outliers with the maximum and minimum values\n",
    "#    trainingData.loc[trainingData[column] > max_value, column] = max_value\n",
    "#    trainingData.loc[trainingData[column] < min_value, column] = min_value\n"
   ]
  },
  {
   "attachments": {},
   "cell_type": "markdown",
   "metadata": {},
   "source": [
    "## 5. Models Training"
   ]
  },
  {
   "cell_type": "code",
   "execution_count": 586,
   "metadata": {},
   "outputs": [],
   "source": [
    "\"\"\" Save results to a file. \"\"\"\n",
    "def saveResults ( results, path ):\n",
    "    file = open(path, 'w')\n",
    "    file.write (\"RowId,Incidents\\n\")\n",
    "    i = 1\n",
    "    for result in results :\n",
    "        file.write (str(i) + \",\" + result + \"\\n\")\n",
    "        i += 1"
   ]
  },
  {
   "cell_type": "code",
   "execution_count": 587,
   "metadata": {},
   "outputs": [],
   "source": [
    "# run for test or run for submission\n",
    "results_to_test = True\n",
    "\n",
    "# split data into train and test\n",
    "trainData = trainingData.copy()\n",
    "ttData = testData.copy()\n",
    "\n",
    "if results_to_test:\n",
    "    y = trainData['incidents']\n",
    "    x = trainData.drop(['incidents'], axis=1)\n",
    "    x_training, x_testing, y_training, y_testing = model_selection.train_test_split(x, y, test_size=0.5, random_state=2022)\n",
    "\n",
    "else :\n",
    "    # TODO: UPDATE\n",
    "    x_testing = ttData.copy()\n",
    "    y_training = trainData['incidents'] \n",
    "    x_training = trainData.drop(['record_date','incidents','number_affected_roads'], axis=1)\n"
   ]
  },
  {
   "attachments": {},
   "cell_type": "markdown",
   "metadata": {},
   "source": [
    "### 5.1 Árvores de Decisão e Classificação"
   ]
  },
  {
   "cell_type": "code",
   "execution_count": 588,
   "metadata": {},
   "outputs": [
    {
     "name": "stdout",
     "output_type": "stream",
     "text": [
      "Decision Trees Accuracy:  0.8292\n"
     ]
    }
   ],
   "source": [
    "dtc = tree.DecisionTreeClassifier(random_state=2022, criterion=\"gini\", max_depth=10)\n",
    "dtc.fit(x_training,y_training)\n",
    "decision_trees_predictions = dtc.predict(x_testing)\n",
    "if results_to_test:\n",
    "    print(\"Decision Trees Accuracy: \", metrics.accuracy_score(y_testing, decision_trees_predictions))"
   ]
  },
  {
   "attachments": {},
   "cell_type": "markdown",
   "metadata": {},
   "source": [
    "### 5.2 RandomForestClassifier"
   ]
  },
  {
   "cell_type": "code",
   "execution_count": 589,
   "metadata": {},
   "outputs": [
    {
     "name": "stdout",
     "output_type": "stream",
     "text": [
      "Random Forest Classifier Accuracy:  0.8444\n"
     ]
    }
   ],
   "source": [
    "# Random Forest Classifier tunning\n",
    "\n",
    "#model = RandomForestClassifier(random_state=2022)\n",
    "#\n",
    "#param_grid = {\n",
    "#    'n_estimators': [500, 750, 1000],\n",
    "#    'max_depth': [15, 25, 35],\n",
    "#    'min_samples_split': [2, 5, 10],\n",
    "#    'min_samples_leaf': [1, 2, 5]\n",
    "#}\n",
    "#\n",
    "## change cv later? use square root of dataset size ?\n",
    "#grid_search = GridSearchCV(estimator=model, param_grid=param_grid, cv=5, verbose=3)\n",
    "#grid_search.fit(x_training, y_training)\n",
    "#print(grid_search.best_params_)\n",
    "#print(grid_search.best_score_)\n",
    "#\n",
    "random_forest = RandomForestClassifier(n_estimators=100, random_state=2022)\n",
    "random_forest.fit(x_training, y_training)\n",
    "random_forest_predictions = random_forest.predict(x_testing)\n",
    "\n",
    "# print accuracy\n",
    "if results_to_test:\n",
    "    print(\"Random Forest Classifier Accuracy: \", metrics.accuracy_score(y_testing, random_forest_predictions))"
   ]
  },
  {
   "attachments": {},
   "cell_type": "markdown",
   "metadata": {},
   "source": [
    "### 5.3 Neural Network"
   ]
  },
  {
   "cell_type": "code",
   "execution_count": 590,
   "metadata": {},
   "outputs": [],
   "source": [
    "#"
   ]
  },
  {
   "attachments": {},
   "cell_type": "markdown",
   "metadata": {},
   "source": [
    "## 6. Model Evaluation"
   ]
  },
  {
   "cell_type": "code",
   "execution_count": 591,
   "metadata": {},
   "outputs": [],
   "source": [
    "if results_to_test:\n",
    "\n",
    "    results = []\n",
    "    results_table = []\n",
    "\n",
    "    # 5.1 Decision Tree\n",
    "    decision_trees_classification = metrics.classification_report(y_testing, decision_trees_predictions, zero_division=0)\n",
    "    decision_trees_classification_dict = metrics.classification_report(y_testing, decision_trees_predictions, output_dict=True, zero_division=0)\n",
    "    results_table.append({'model': 'Decision Tree', 'table': decision_trees_classification})\n",
    "    results.append({\n",
    "        'model': 'Decision Tree',\n",
    "        'accuracy': decision_trees_classification_dict['accuracy'],\n",
    "        'precision': decision_trees_classification_dict['macro avg']['precision'],\n",
    "        'recall': decision_trees_classification_dict['macro avg']['recall'],\n",
    "        'f1-score': decision_trees_classification_dict['macro avg']['f1-score']\n",
    "        })\n",
    "\n",
    "    # 5.2 Random Forest\n",
    "    random_forest_classification = metrics.classification_report(y_testing, random_forest_predictions, zero_division=0)\n",
    "    random_forest_classification_dict = metrics.classification_report(y_testing, random_forest_predictions, output_dict=True, zero_division=0)\n",
    "    results_table.append({'model': 'Random Forest', 'table': random_forest_classification})\n",
    "    results.append({\n",
    "        'model': 'Random Forest',\n",
    "        'accuracy': random_forest_classification_dict['accuracy'],\n",
    "        'precision': random_forest_classification_dict['macro avg']['precision'],\n",
    "        'recall': random_forest_classification_dict['macro avg']['recall'],\n",
    "        'f1-score': random_forest_classification_dict['macro avg']['f1-score']\n",
    "        })\n",
    "\n",
    "    # 5.3 Neural Network\n",
    "    \n",
    "    \n",
    "else:\n",
    "    saveResults(decision_trees_predictions, 'results/classificationDecisionTree.csv')\n",
    "    saveResults(random_forest_predictions, 'results/RandomForest.csv')"
   ]
  },
  {
   "cell_type": "code",
   "execution_count": 592,
   "metadata": {},
   "outputs": [
    {
     "name": "stdout",
     "output_type": "stream",
     "text": [
      "----------Decision Tree----------------------------------------------------------------\n",
      "              precision    recall  f1-score   support\n",
      "\n",
      "        High       0.73      0.77      0.75       544\n",
      "         Low       0.77      0.78      0.78       363\n",
      "      Medium       0.72      0.64      0.68       282\n",
      "        None       0.94      0.94      0.94      1014\n",
      "   Very_High       0.79      0.79      0.79       297\n",
      "\n",
      "    accuracy                           0.83      2500\n",
      "   macro avg       0.79      0.78      0.79      2500\n",
      "weighted avg       0.83      0.83      0.83      2500\n",
      "\n",
      "----------Random Forest----------------------------------------------------------------\n",
      "              precision    recall  f1-score   support\n",
      "\n",
      "        High       0.78      0.82      0.80       544\n",
      "         Low       0.76      0.75      0.76       363\n",
      "      Medium       0.78      0.60      0.68       282\n",
      "        None       0.93      0.95      0.94      1014\n",
      "   Very_High       0.83      0.86      0.84       297\n",
      "\n",
      "    accuracy                           0.84      2500\n",
      "   macro avg       0.82      0.80      0.80      2500\n",
      "weighted avg       0.84      0.84      0.84      2500\n",
      "\n"
     ]
    }
   ],
   "source": [
    "for result in results_table:\n",
    "    print(\"----------\" + result['model'] + \"----------------------------------------------------------------\")\n",
    "    print(result['table'])"
   ]
  },
  {
   "cell_type": "code",
   "execution_count": 593,
   "metadata": {},
   "outputs": [],
   "source": [
    "results_plot = pd.DataFrame(columns=['Model', 'Accuracy', 'Precision', 'Recall', 'F1-Score'])\n",
    "for row in results:\n",
    "    results_plot = results_plot.append({\n",
    "        'Model': row['model'],\n",
    "        'Accuracy': row['accuracy'],\n",
    "        'Precision': row['precision'],\n",
    "        'Recall': row['recall'],\n",
    "        'F1-Score': row['f1-score']\n",
    "        }, ignore_index=True)"
   ]
  },
  {
   "cell_type": "code",
   "execution_count": 594,
   "metadata": {},
   "outputs": [
    {
     "data": {
      "text/plain": [
       "Text(0, 0.5, 'Accuracy')"
      ]
     },
     "execution_count": 594,
     "metadata": {},
     "output_type": "execute_result"
    },
    {
     "data": {
      "image/png": "[encoded data removed]",
      "text/plain": [
       "<Figure size 2500x500 with 1 Axes>"
      ]
     },
     "metadata": {
      "needs_background": "light"
     },
     "output_type": "display_data"
    }
   ],
   "source": [
    "fig, ax = plt.subplots(figsize=(25, 5), dpi=100)\n",
    "sns.barplot(x=results_plot['Model'] , y=results_plot['Accuracy'], ax=ax, palette='Set2')\n",
    "ax.set_xlabel('Model', fontdict={'color':'black', 'weight':'bold', 'size': 16})\n",
    "ax.set_ylabel('Accuracy', fontdict={'color':'black', 'weight':'bold', 'size': 16})"
   ]
  },
  {
   "cell_type": "code",
   "execution_count": 595,
   "metadata": {},
   "outputs": [
    {
     "data": {
      "text/plain": [
       "Text(0, 0.5, 'Precision')"
      ]
     },
     "execution_count": 595,
     "metadata": {},
     "output_type": "execute_result"
    },
    {
     "data": {
      "image/png": "[encoded data removed]",
      "text/plain": [
       "<Figure size 2500x500 with 1 Axes>"
      ]
     },
     "metadata": {
      "needs_background": "light"
     },
     "output_type": "display_data"
    }
   ],
   "source": [
    "fig, ax = plt.subplots(figsize=(25, 5), dpi=100)\n",
    "sns.barplot(x=results_plot['Model'] , y=results_plot['Precision'], ax=ax, palette='Set2')\n",
    "ax.set_xlabel('Model', fontdict={'color':'black', 'weight':'bold', 'size': 16})\n",
    "ax.set_ylabel('Precision', fontdict={'color':'black', 'weight':'bold', 'size': 16})"
   ]
  },
  {
   "cell_type": "code",
   "execution_count": 596,
   "metadata": {},
   "outputs": [
    {
     "data": {
      "text/plain": [
       "Text(0, 0.5, 'Recall')"
      ]
     },
     "execution_count": 596,
     "metadata": {},
     "output_type": "execute_result"
    },
    {
     "data": {
      "image/png": "[encoded data removed]",
      "text/plain": [
       "<Figure size 2500x500 with 1 Axes>"
      ]
     },
     "metadata": {
      "needs_background": "light"
     },
     "output_type": "display_data"
    }
   ],
   "source": [
    "fig, ax = plt.subplots(figsize=(25, 5), dpi=100)\n",
    "sns.barplot(x=results_plot['Model'] , y=results_plot['Recall'], ax=ax, palette='Set2')\n",
    "ax.set_xlabel('Model', fontdict={'color':'black', 'weight':'bold', 'size': 16})\n",
    "ax.set_ylabel('Recall', fontdict={'color':'black', 'weight':'bold', 'size': 16})"
   ]
  },
  {
   "cell_type": "code",
   "execution_count": 597,
   "metadata": {},
   "outputs": [
    {
     "data": {
      "text/plain": [
       "Text(0, 0.5, 'F1-Score')"
      ]
     },
     "execution_count": 597,
     "metadata": {},
     "output_type": "execute_result"
    },
    {
     "data": {
      "image/png": "[encoded data removed]",
      "text/plain": [
       "<Figure size 2500x500 with 1 Axes>"
      ]
     },
     "metadata": {
      "needs_background": "light"
     },
     "output_type": "display_data"
    }
   ],
   "source": [
    "fig, ax = plt.subplots(figsize=(25, 5), dpi=100)\n",
    "sns.barplot(x=results_plot['Model'] , y=results_plot['F1-Score'], ax=ax, palette='Set2')\n",
    "ax.set_xlabel('Model', fontdict={'color':'black', 'weight':'bold', 'size': 16})\n",
    "ax.set_ylabel('F1-Score', fontdict={'color':'black', 'weight':'bold', 'size': 16})"
   ]
  }
 ],
 "metadata": {
  "kernelspec": {
   "display_name": "DAA",
   "language": "python",
   "name": "python3"
  },
  "language_info": {
   "codemirror_mode": {
    "name": "ipython",
    "version": 3
   },
   "file_extension": ".py",
   "mimetype": "text/x-python",
   "name": "python",
   "nbconvert_exporter": "python",
   "pygments_lexer": "ipython3",
   "version": "3.6.13"
  },
  "orig_nbformat": 4,
  "vscode": {
   "interpreter": {
    "hash": "17581a02e27760614d818c760348d8aa67266a347fd4beafc1c3e5e55ecb56b0"
   }
  }
 },
 "nbformat": 4,
 "nbformat_minor": 2
}
