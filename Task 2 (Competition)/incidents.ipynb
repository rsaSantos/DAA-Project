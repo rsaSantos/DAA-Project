{
 "cells": [
  {
   "attachments": {},
   "cell_type": "markdown",
   "metadata": {},
   "source": [
    "Notebook structure:\n",
    "- 1. Importing libraries\n",
    "- 2. Loading the dataset\n",
    "- 3. Exploratory Data Analysis\n",
    "- 4. Data Preprocessing\n",
    "- 5. Model Training\n",
    "- 6. Model Evaluation"
   ]
  },
  {
   "attachments": {},
   "cell_type": "markdown",
   "metadata": {},
   "source": [
    "## 1. Importing libraries"
   ]
  },
  {
   "cell_type": "code",
   "execution_count": 363,
   "metadata": {},
   "outputs": [],
   "source": [
    "import pandas as pd\n",
    "import pandas_profiling\n",
    "import numpy as np\n",
    "import matplotlib.pyplot as plt\n",
    "import seaborn as sns\n",
    "import scipy.stats as stats\n",
    "from sklearn import preprocessing, tree, metrics, model_selection, linear_model\n",
    "from sklearn.model_selection import cross_val_score\n",
    "from sklearn.svm import SVC\n",
    "from sklearn.model_selection import GridSearchCV\n",
    "from sklearn.metrics import mean_squared_error, mean_absolute_error, r2_score\n",
    "from sklearn.preprocessing import StandardScaler, RobustScaler, PowerTransformer, MinMaxScaler, LabelEncoder\n",
    "from sklearn.neural_network import MLPClassifier\n",
    "from sklearn.neighbors import KNeighborsClassifier\n",
    "from sklearn.svm import SVC\n",
    "from sklearn.gaussian_process import GaussianProcessClassifier\n",
    "from sklearn.gaussian_process.kernels import RBF\n",
    "from sklearn.tree import DecisionTreeClassifier\n",
    "from sklearn.ensemble import RandomForestClassifier, AdaBoostClassifier\n",
    "from sklearn.naive_bayes import GaussianNB\n",
    "from sklearn.discriminant_analysis import QuadraticDiscriminantAnalysis\n",
    "from sklearn.metrics import accuracy_score\n",
    "\n",
    "import xgboost as xgb\n",
    "import tensorflow as tf\n",
    "import datetime\n",
    "import random\n",
    "\n",
    "\n",
    "# Lois\n",
    "from lois import lois_ds_report\n",
    "%matplotlib inline"
   ]
  },
  {
   "attachments": {},
   "cell_type": "markdown",
   "metadata": {},
   "source": [
    "## 2. Loading the dataset"
   ]
  },
  {
   "cell_type": "code",
   "execution_count": 364,
   "metadata": {},
   "outputs": [],
   "source": [
    "train_data = pd.read_csv('data/training_data.csv')\n",
    "test_data = pd.read_csv('data/test_data.csv')\n",
    "\n",
    "# Add a \"fake target\" column to the test data\n",
    "test_data['incidents'] = \"test-only\"\n",
    "\n",
    "# Concatenate the training and test data\n",
    "dataset = pd.concat([train_data, test_data], axis=0)"
   ]
  },
  {
   "attachments": {},
   "cell_type": "markdown",
   "metadata": {},
   "source": [
    "## 3. Exploratory Data Analysis"
   ]
  },
  {
   "cell_type": "code",
   "execution_count": 365,
   "metadata": {},
   "outputs": [
    {
     "data": {
      "text/html": [
       "<pre style=\"white-space:pre;overflow-x:auto;line-height:normal;font-family:Menlo,'DejaVu Sans Mono',consolas,'Courier New',monospace\">╭─────────────────────────────────────────── Exploratory Data Anlysis ────────────────────────────────────────────╮\n",
       "│                                                                                                                 │\n",
       "╰──────────────────────────────────── EDA|simple| Suitable for data scientist ────────────────────────────────────╯\n",
       "</pre>\n"
      ],
      "text/plain": [
       "╭─────────────────────────────────────────── Exploratory Data Anlysis ────────────────────────────────────────────╮\n",
       "│                                                                                                                 │\n",
       "╰──────────────────────────────────── EDA|simple| Suitable for data scientist ────────────────────────────────────╯\n"
      ]
     },
     "metadata": {},
     "output_type": "display_data"
    },
    {
     "data": {
      "text/html": [
       "<pre style=\"white-space:pre;overflow-x:auto;line-height:normal;font-family:Menlo,'DejaVu Sans Mono',consolas,'Courier New',monospace\">Shape Analysis\n",
       "┗━━ Dataset Shape Analysis\n",
       "    ┣━━ Dataset head\n",
       "    ┣━━ General info \n",
       "    ┣━━ The target variable\n",
       "    ┣━━ Number of rows and columns\n",
       "    ┣━━ The different data types\n",
       "    ┃   ┣━━ The sum of different variable type\n",
       "    ┃   ┗━━ Visual representation of different variable type\n",
       "    ┗━━ Analyze missing value\n",
       "        ┣━━ The percentage of missing value in each columns\n",
       "        ┣━━ The missing value counts\n",
       "        ┗━━ Visual representation of missing value\n",
       "</pre>\n"
      ],
      "text/plain": [
       "Shape Analysis\n",
       "┗━━ Dataset Shape Analysis\n",
       "    ┣━━ Dataset head\n",
       "    ┣━━ General info \n",
       "    ┣━━ The target variable\n",
       "    ┣━━ Number of rows and columns\n",
       "    ┣━━ The different data types\n",
       "    ┃   ┣━━ The sum of different variable type\n",
       "    ┃   ┗━━ Visual representation of different variable type\n",
       "    ┗━━ Analyze missing value\n",
       "        ┣━━ The percentage of missing value in each columns\n",
       "        ┣━━ The missing value counts\n",
       "        ┗━━ Visual representation of missing value\n"
      ]
     },
     "metadata": {},
     "output_type": "display_data"
    },
    {
     "data": {
      "text/html": [
       "<pre style=\"white-space:pre;overflow-x:auto;line-height:normal;font-family:Menlo,'DejaVu Sans Mono',consolas,'Courier New',monospace\">╭──────────────────────────────────────────── DATASET SHAPE ANALYSIS ─────────────────────────────────────────────╮\n",
       "│                                                                                                                 │\n",
       "╰─────────────────────────────────────────────────────────────────────────────────────────────────────────────────╯\n",
       "</pre>\n"
      ],
      "text/plain": [
       "╭──────────────────────────────────────────── DATASET SHAPE ANALYSIS ─────────────────────────────────────────────╮\n",
       "│                                                                                                                 │\n",
       "╰─────────────────────────────────────────────────────────────────────────────────────────────────────────────────╯\n"
      ]
     },
     "metadata": {},
     "output_type": "display_data"
    },
    {
     "data": {
      "text/html": [
       "<pre style=\"white-space:pre;overflow-x:auto;line-height:normal;font-family:Menlo,'DejaVu Sans Mono',consolas,'Courier New',monospace\">                        -------------------- THE HEAD OF YOUR DATASET --------------------                         \n",
       "</pre>\n"
      ],
      "text/plain": [
       "                        -------------------- THE HEAD OF YOUR DATASET --------------------                         \n"
      ]
     },
     "metadata": {},
     "output_type": "display_data"
    },
    {
     "data": {
      "text/html": [
       "<pre style=\"white-space:pre;overflow-x:auto;line-height:normal;font-family:Menlo,'DejaVu Sans Mono',consolas,'Courier New',monospace\">Your dataset is too large ; only the first <span style=\"color: #008080; text-decoration-color: #008080; font-weight: bold\">8</span> columns will be display\n",
       "</pre>\n"
      ],
      "text/plain": [
       "Your dataset is too large ; only the first \u001b[1;36m8\u001b[0m columns will be display\n"
      ]
     },
     "metadata": {},
     "output_type": "display_data"
    },
    {
     "data": {
      "text/html": [
       "<pre style=\"white-space:pre;overflow-x:auto;line-height:normal;font-family:Menlo,'DejaVu Sans Mono',consolas,'Courier New',monospace\"><span style=\"font-style: italic\">                                                    The Dataset                                                    </span>\n",
       "┏━━━━━━━┳━━━━━━━━━━━━━━━━┳━━━━━━━━━━━━━━┳━━━━━━━━━━━━┳━━━━━━━━━┳━━━━━━━━┳━━━━━━━━━━━━━━┳━━━━━━━━━━━━━━┳━━━━━━━━━━━┓\n",
       "┃<span style=\"font-weight: bold\"> city… </span>┃<span style=\"font-weight: bold\"> magnitude_of_… </span>┃<span style=\"font-weight: bold\"> delay_in_se… </span>┃<span style=\"font-weight: bold\"> affected_… </span>┃<span style=\"font-weight: bold\"> record… </span>┃<span style=\"font-weight: bold\"> lumin… </span>┃<span style=\"font-weight: bold\"> avg_tempera… </span>┃<span style=\"font-weight: bold\"> avg_atm_pre… </span>┃<span style=\"font-weight: bold\"> avg_humi… </span>┃\n",
       "┡━━━━━━━╇━━━━━━━━━━━━━━━━╇━━━━━━━━━━━━━━╇━━━━━━━━━━━━╇━━━━━━━━━╇━━━━━━━━╇━━━━━━━━━━━━━━╇━━━━━━━━━━━━━━╇━━━━━━━━━━━┩\n",
       "└───────┴────────────────┴──────────────┴────────────┴─────────┴────────┴──────────────┴──────────────┴───────────┘\n",
       "</pre>\n"
      ],
      "text/plain": [
       "\u001b[3m                                                    The Dataset                                                    \u001b[0m\n",
       "┏━━━━━━━┳━━━━━━━━━━━━━━━━┳━━━━━━━━━━━━━━┳━━━━━━━━━━━━┳━━━━━━━━━┳━━━━━━━━┳━━━━━━━━━━━━━━┳━━━━━━━━━━━━━━┳━━━━━━━━━━━┓\n",
       "┃\u001b[1m \u001b[0m\u001b[1mcity…\u001b[0m\u001b[1m \u001b[0m┃\u001b[1m \u001b[0m\u001b[1mmagnitude_of_…\u001b[0m\u001b[1m \u001b[0m┃\u001b[1m \u001b[0m\u001b[1mdelay_in_se…\u001b[0m\u001b[1m \u001b[0m┃\u001b[1m \u001b[0m\u001b[1maffected_…\u001b[0m\u001b[1m \u001b[0m┃\u001b[1m \u001b[0m\u001b[1mrecord…\u001b[0m\u001b[1m \u001b[0m┃\u001b[1m \u001b[0m\u001b[1mlumin…\u001b[0m\u001b[1m \u001b[0m┃\u001b[1m \u001b[0m\u001b[1mavg_tempera…\u001b[0m\u001b[1m \u001b[0m┃\u001b[1m \u001b[0m\u001b[1mavg_atm_pre…\u001b[0m\u001b[1m \u001b[0m┃\u001b[1m \u001b[0m\u001b[1mavg_humi…\u001b[0m\u001b[1m \u001b[0m┃\n",
       "┡━━━━━━━╇━━━━━━━━━━━━━━━━╇━━━━━━━━━━━━━━╇━━━━━━━━━━━━╇━━━━━━━━━╇━━━━━━━━╇━━━━━━━━━━━━━━╇━━━━━━━━━━━━━━╇━━━━━━━━━━━┩\n",
       "└───────┴────────────────┴──────────────┴────────────┴─────────┴────────┴──────────────┴──────────────┴───────────┘\n"
      ]
     },
     "metadata": {},
     "output_type": "display_data"
    },
    {
     "data": {
      "text/html": [
       "<pre style=\"white-space:pre;overflow-x:auto;line-height:normal;font-family:Menlo,'DejaVu Sans Mono',consolas,'Courier New',monospace\">                  -------------------- SOME GENERAL INFO ABOUT YOUR DATASET --------------------                   \n",
       "</pre>\n"
      ],
      "text/plain": [
       "                  -------------------- SOME GENERAL INFO ABOUT YOUR DATASET --------------------                   \n"
      ]
     },
     "metadata": {},
     "output_type": "display_data"
    },
    {
     "name": "stdout",
     "output_type": "stream",
     "text": [
      "<class 'pandas.core.frame.DataFrame'>\n",
      "Int64Index: 6206 entries, 0 to 1205\n",
      "Data columns (total 13 columns):\n",
      " #   Column              Non-Null Count  Dtype  \n",
      "---  ------              --------------  -----  \n",
      " 0   city_name           6206 non-null   object \n",
      " 1   magnitude_of_delay  6206 non-null   object \n",
      " 2   delay_in_seconds    6206 non-null   int64  \n",
      " 3   affected_roads      6099 non-null   object \n",
      " 4   record_date         6206 non-null   object \n",
      " 5   luminosity          6206 non-null   object \n",
      " 6   avg_temperature     6206 non-null   float64\n",
      " 7   avg_atm_pressure    6206 non-null   float64\n",
      " 8   avg_humidity        6206 non-null   float64\n",
      " 9   avg_wind_speed      6206 non-null   float64\n",
      " 10  avg_precipitation   6206 non-null   float64\n",
      " 11  avg_rain            6206 non-null   object \n",
      " 12  incidents           6206 non-null   object \n",
      "dtypes: float64(5), int64(1), object(7)\n",
      "memory usage: 678.8+ KB\n"
     ]
    },
    {
     "data": {
      "text/html": [
       "<pre style=\"white-space:pre;overflow-x:auto;line-height:normal;font-family:Menlo,'DejaVu Sans Mono',consolas,'Courier New',monospace\">                   -------------------- THE TARGET VARIABLE OF YOUR DATASET --------------------                   \n",
       "</pre>\n"
      ],
      "text/plain": [
       "                   -------------------- THE TARGET VARIABLE OF YOUR DATASET --------------------                   \n"
      ]
     },
     "metadata": {},
     "output_type": "display_data"
    },
    {
     "data": {
      "text/html": [
       "<pre style=\"white-space:pre;overflow-x:auto;line-height:normal;font-family:Menlo,'DejaVu Sans Mono',consolas,'Courier New',monospace\">╭───────────────────────────────────────╮\n",
       "│ The Target variable is : 'incidents'  │\n",
       "╰───────────────────────────────────────╯\n",
       "</pre>\n"
      ],
      "text/plain": [
       "╭───────────────────────────────────────╮\n",
       "│ The Target variable is : 'incidents'  │\n",
       "╰───────────────────────────────────────╯\n"
      ]
     },
     "metadata": {},
     "output_type": "display_data"
    },
    {
     "data": {
      "text/html": [
       "<pre style=\"white-space:pre;overflow-x:auto;line-height:normal;font-family:Menlo,'DejaVu Sans Mono',consolas,'Courier New',monospace\">                    -------------------- ROWS AND COLUMNS IN YOUR DATASET --------------------                     \n",
       "</pre>\n"
      ],
      "text/plain": [
       "                    -------------------- ROWS AND COLUMNS IN YOUR DATASET --------------------                     \n"
      ]
     },
     "metadata": {},
     "output_type": "display_data"
    },
    {
     "data": {
      "text/html": [
       "<pre style=\"white-space:pre;overflow-x:auto;line-height:normal;font-family:Menlo,'DejaVu Sans Mono',consolas,'Courier New',monospace\">╭─ Shape output ─╮\n",
       "│ (6206, 13)     │\n",
       "╰────────────────╯\n",
       "</pre>\n"
      ],
      "text/plain": [
       "╭─ Shape output ─╮\n",
       "│ (6206, 13)     │\n",
       "╰────────────────╯\n"
      ]
     },
     "metadata": {},
     "output_type": "display_data"
    },
    {
     "data": {
      "text/html": [
       "<pre style=\"white-space:pre;overflow-x:auto;line-height:normal;font-family:Menlo,'DejaVu Sans Mono',consolas,'Courier New',monospace\">╭────────────────────────────────────────────────╮\n",
       "│ Your dataset contains 6206 Rows and 13 Columns │\n",
       "╰────────────────────────────────────────────────╯\n",
       "</pre>\n"
      ],
      "text/plain": [
       "╭────────────────────────────────────────────────╮\n",
       "│ Your dataset contains 6206 Rows and 13 Columns │\n",
       "╰────────────────────────────────────────────────╯\n"
      ]
     },
     "metadata": {},
     "output_type": "display_data"
    },
    {
     "data": {
      "text/html": [
       "<pre style=\"white-space:pre;overflow-x:auto;line-height:normal;font-family:Menlo,'DejaVu Sans Mono',consolas,'Courier New',monospace\">                     -------------------- THE DATA TYPES IN YOUR DATASET --------------------                      \n",
       "</pre>\n"
      ],
      "text/plain": [
       "                     -------------------- THE DATA TYPES IN YOUR DATASET --------------------                      \n"
      ]
     },
     "metadata": {},
     "output_type": "display_data"
    },
    {
     "data": {
      "text/html": [
       "<pre style=\"white-space:pre;overflow-x:auto;line-height:normal;font-family:Menlo,'DejaVu Sans Mono',consolas,'Courier New',monospace\">╭─ Data types output ─╮\n",
       "│ object     7        │\n",
       "│ float64    5        │\n",
       "│ int64      1        │\n",
       "│ dtype: int64        │\n",
       "╰─────────────────────╯\n",
       "</pre>\n"
      ],
      "text/plain": [
       "╭─ Data types output ─╮\n",
       "│ object     7        │\n",
       "│ float64    5        │\n",
       "│ int64      1        │\n",
       "│ dtype: int64        │\n",
       "╰─────────────────────╯\n"
      ]
     },
     "metadata": {},
     "output_type": "display_data"
    },
    {
     "data": {
      "image/png": "[encoded data removed]",
      "text/plain": [
       "<Figure size 288x288 with 1 Axes>"
      ]
     },
     "metadata": {},
     "output_type": "display_data"
    },
    {
     "data": {
      "text/html": [
       "<pre style=\"white-space:pre;overflow-x:auto;line-height:normal;font-family:Menlo,'DejaVu Sans Mono',consolas,'Courier New',monospace\">                      -------------------- MISSING VALUE IN YOUR DATASET --------------------                      \n",
       "</pre>\n"
      ],
      "text/plain": [
       "                      -------------------- MISSING VALUE IN YOUR DATASET --------------------                      \n"
      ]
     },
     "metadata": {},
     "output_type": "display_data"
    },
    {
     "data": {
      "text/html": [
       "<pre style=\"white-space:pre;overflow-x:auto;line-height:normal;font-family:Menlo,'DejaVu Sans Mono',consolas,'Courier New',monospace\">╭───── Missing value output ─────╮\n",
       "│ city_name             0.000000 │\n",
       "│ magnitude_of_delay    0.000000 │\n",
       "│ delay_in_seconds      0.000000 │\n",
       "│ record_date           0.000000 │\n",
       "│ luminosity            0.000000 │\n",
       "│ avg_temperature       0.000000 │\n",
       "│ avg_atm_pressure      0.000000 │\n",
       "│ avg_humidity          0.000000 │\n",
       "│ avg_wind_speed        0.000000 │\n",
       "│ avg_precipitation     0.000000 │\n",
       "│ avg_rain              0.000000 │\n",
       "│ incidents             0.000000 │\n",
       "│ affected_roads        0.017241 │\n",
       "│ dtype: float64                 │\n",
       "╰────────────────────────────────╯\n",
       "</pre>\n"
      ],
      "text/plain": [
       "╭───── Missing value output ─────╮\n",
       "│ city_name             0.000000 │\n",
       "│ magnitude_of_delay    0.000000 │\n",
       "│ delay_in_seconds      0.000000 │\n",
       "│ record_date           0.000000 │\n",
       "│ luminosity            0.000000 │\n",
       "│ avg_temperature       0.000000 │\n",
       "│ avg_atm_pressure      0.000000 │\n",
       "│ avg_humidity          0.000000 │\n",
       "│ avg_wind_speed        0.000000 │\n",
       "│ avg_precipitation     0.000000 │\n",
       "│ avg_rain              0.000000 │\n",
       "│ incidents             0.000000 │\n",
       "│ affected_roads        0.017241 │\n",
       "│ dtype: float64                 │\n",
       "╰────────────────────────────────╯\n"
      ]
     },
     "metadata": {},
     "output_type": "display_data"
    },
    {
     "data": {
      "text/html": [
       "<pre style=\"white-space:pre;overflow-x:auto;line-height:normal;font-family:Menlo,'DejaVu Sans Mono',consolas,'Courier New',monospace\">╭─ Missing value counts output ─╮\n",
       "│ 0.017241     1                │\n",
       "│ 0.000000    12                │\n",
       "│ dtype: int64                  │\n",
       "╰───────────────────────────────╯\n",
       "</pre>\n"
      ],
      "text/plain": [
       "╭─ Missing value counts output ─╮\n",
       "│ 0.017241     1                │\n",
       "│ 0.000000    12                │\n",
       "│ dtype: int64                  │\n",
       "╰───────────────────────────────╯\n"
      ]
     },
     "metadata": {},
     "output_type": "display_data"
    },
    {
     "data": {
      "image/png": "[encoded data removed]",
      "text/plain": [
       "<Figure size 360x288 with 2 Axes>"
      ]
     },
     "metadata": {
      "needs_background": "light"
     },
     "output_type": "display_data"
    },
    {
     "data": {
      "text/html": [
       "<pre style=\"white-space:pre;overflow-x:auto;line-height:normal;font-family:Menlo,'DejaVu Sans Mono',consolas,'Courier New',monospace\">                                   #################### END ####################                                   \n",
       "</pre>\n"
      ],
      "text/plain": [
       "                                   #################### END ####################                                   \n"
      ]
     },
     "metadata": {},
     "output_type": "display_data"
    }
   ],
   "source": [
    "lois_ds_report(dataset,target_variable=\"incidents\")"
   ]
  },
  {
   "cell_type": "code",
   "execution_count": 366,
   "metadata": {},
   "outputs": [
    {
     "data": {
      "text/html": [
       "<div>\n",
       "<style scoped>\n",
       "    .dataframe tbody tr th:only-of-type {\n",
       "        vertical-align: middle;\n",
       "    }\n",
       "\n",
       "    .dataframe tbody tr th {\n",
       "        vertical-align: top;\n",
       "    }\n",
       "\n",
       "    .dataframe thead th {\n",
       "        text-align: right;\n",
       "    }\n",
       "</style>\n",
       "<table border=\"1\" class=\"dataframe\">\n",
       "  <thead>\n",
       "    <tr style=\"text-align: right;\">\n",
       "      <th></th>\n",
       "      <th>city_name</th>\n",
       "      <th>magnitude_of_delay</th>\n",
       "      <th>delay_in_seconds</th>\n",
       "      <th>affected_roads</th>\n",
       "      <th>record_date</th>\n",
       "      <th>luminosity</th>\n",
       "      <th>avg_temperature</th>\n",
       "      <th>avg_atm_pressure</th>\n",
       "      <th>avg_humidity</th>\n",
       "      <th>avg_wind_speed</th>\n",
       "      <th>avg_precipitation</th>\n",
       "      <th>avg_rain</th>\n",
       "      <th>incidents</th>\n",
       "    </tr>\n",
       "  </thead>\n",
       "  <tbody>\n",
       "    <tr>\n",
       "      <th>0</th>\n",
       "      <td>Guimaraes</td>\n",
       "      <td>UNDEFINED</td>\n",
       "      <td>0</td>\n",
       "      <td>,</td>\n",
       "      <td>2021-03-15 23:00</td>\n",
       "      <td>DARK</td>\n",
       "      <td>12.0</td>\n",
       "      <td>1013.0</td>\n",
       "      <td>70.0</td>\n",
       "      <td>1.0</td>\n",
       "      <td>0.0</td>\n",
       "      <td>Sem Chuva</td>\n",
       "      <td>None</td>\n",
       "    </tr>\n",
       "    <tr>\n",
       "      <th>1</th>\n",
       "      <td>Guimaraes</td>\n",
       "      <td>UNDEFINED</td>\n",
       "      <td>385</td>\n",
       "      <td>N101,</td>\n",
       "      <td>2021-12-25 18:00</td>\n",
       "      <td>DARK</td>\n",
       "      <td>12.0</td>\n",
       "      <td>1007.0</td>\n",
       "      <td>91.0</td>\n",
       "      <td>1.0</td>\n",
       "      <td>0.0</td>\n",
       "      <td>Sem Chuva</td>\n",
       "      <td>None</td>\n",
       "    </tr>\n",
       "    <tr>\n",
       "      <th>2</th>\n",
       "      <td>Guimaraes</td>\n",
       "      <td>UNDEFINED</td>\n",
       "      <td>69</td>\n",
       "      <td>,</td>\n",
       "      <td>2021-03-12 15:00</td>\n",
       "      <td>LIGHT</td>\n",
       "      <td>14.0</td>\n",
       "      <td>1025.0</td>\n",
       "      <td>64.0</td>\n",
       "      <td>0.0</td>\n",
       "      <td>0.0</td>\n",
       "      <td>Sem Chuva</td>\n",
       "      <td>Low</td>\n",
       "    </tr>\n",
       "    <tr>\n",
       "      <th>3</th>\n",
       "      <td>Guimaraes</td>\n",
       "      <td>MAJOR</td>\n",
       "      <td>2297</td>\n",
       "      <td>N101,R206,N105,N101,N101,N101,N101,N101,N101,N...</td>\n",
       "      <td>2021-09-29 09:00</td>\n",
       "      <td>LIGHT</td>\n",
       "      <td>15.0</td>\n",
       "      <td>1028.0</td>\n",
       "      <td>75.0</td>\n",
       "      <td>1.0</td>\n",
       "      <td>0.0</td>\n",
       "      <td>Sem Chuva</td>\n",
       "      <td>Very_High</td>\n",
       "    </tr>\n",
       "    <tr>\n",
       "      <th>4</th>\n",
       "      <td>Guimaraes</td>\n",
       "      <td>UNDEFINED</td>\n",
       "      <td>0</td>\n",
       "      <td>N101,N101,N101,N101,N101,</td>\n",
       "      <td>2021-06-13 11:00</td>\n",
       "      <td>LIGHT</td>\n",
       "      <td>27.0</td>\n",
       "      <td>1020.0</td>\n",
       "      <td>52.0</td>\n",
       "      <td>1.0</td>\n",
       "      <td>0.0</td>\n",
       "      <td>Sem Chuva</td>\n",
       "      <td>High</td>\n",
       "    </tr>\n",
       "  </tbody>\n",
       "</table>\n",
       "</div>"
      ],
      "text/plain": [
       "   city_name magnitude_of_delay  delay_in_seconds  \\\n",
       "0  Guimaraes          UNDEFINED                 0   \n",
       "1  Guimaraes          UNDEFINED               385   \n",
       "2  Guimaraes          UNDEFINED                69   \n",
       "3  Guimaraes              MAJOR              2297   \n",
       "4  Guimaraes          UNDEFINED                 0   \n",
       "\n",
       "                                      affected_roads       record_date  \\\n",
       "0                                                  ,  2021-03-15 23:00   \n",
       "1                                              N101,  2021-12-25 18:00   \n",
       "2                                                  ,  2021-03-12 15:00   \n",
       "3  N101,R206,N105,N101,N101,N101,N101,N101,N101,N...  2021-09-29 09:00   \n",
       "4                          N101,N101,N101,N101,N101,  2021-06-13 11:00   \n",
       "\n",
       "  luminosity  avg_temperature  avg_atm_pressure  avg_humidity  avg_wind_speed  \\\n",
       "0       DARK             12.0            1013.0          70.0             1.0   \n",
       "1       DARK             12.0            1007.0          91.0             1.0   \n",
       "2      LIGHT             14.0            1025.0          64.0             0.0   \n",
       "3      LIGHT             15.0            1028.0          75.0             1.0   \n",
       "4      LIGHT             27.0            1020.0          52.0             1.0   \n",
       "\n",
       "   avg_precipitation   avg_rain  incidents  \n",
       "0                0.0  Sem Chuva       None  \n",
       "1                0.0  Sem Chuva       None  \n",
       "2                0.0  Sem Chuva        Low  \n",
       "3                0.0  Sem Chuva  Very_High  \n",
       "4                0.0  Sem Chuva       High  "
      ]
     },
     "execution_count": 366,
     "metadata": {},
     "output_type": "execute_result"
    }
   ],
   "source": [
    "dataset.head()"
   ]
  },
  {
   "cell_type": "code",
   "execution_count": 367,
   "metadata": {},
   "outputs": [
    {
     "data": {
      "text/html": [
       "<div>\n",
       "<style scoped>\n",
       "    .dataframe tbody tr th:only-of-type {\n",
       "        vertical-align: middle;\n",
       "    }\n",
       "\n",
       "    .dataframe tbody tr th {\n",
       "        vertical-align: top;\n",
       "    }\n",
       "\n",
       "    .dataframe thead th {\n",
       "        text-align: right;\n",
       "    }\n",
       "</style>\n",
       "<table border=\"1\" class=\"dataframe\">\n",
       "  <thead>\n",
       "    <tr style=\"text-align: right;\">\n",
       "      <th></th>\n",
       "      <th>delay_in_seconds</th>\n",
       "      <th>avg_temperature</th>\n",
       "      <th>avg_atm_pressure</th>\n",
       "      <th>avg_humidity</th>\n",
       "      <th>avg_wind_speed</th>\n",
       "      <th>avg_precipitation</th>\n",
       "    </tr>\n",
       "  </thead>\n",
       "  <tbody>\n",
       "    <tr>\n",
       "      <th>count</th>\n",
       "      <td>6206.000000</td>\n",
       "      <td>6206.000000</td>\n",
       "      <td>6206.000000</td>\n",
       "      <td>6206.000000</td>\n",
       "      <td>6206.000000</td>\n",
       "      <td>6206.0</td>\n",
       "    </tr>\n",
       "    <tr>\n",
       "      <th>mean</th>\n",
       "      <td>561.444086</td>\n",
       "      <td>14.595875</td>\n",
       "      <td>1018.121656</td>\n",
       "      <td>74.340477</td>\n",
       "      <td>1.268853</td>\n",
       "      <td>0.0</td>\n",
       "    </tr>\n",
       "    <tr>\n",
       "      <th>std</th>\n",
       "      <td>1667.344871</td>\n",
       "      <td>4.795352</td>\n",
       "      <td>5.206504</td>\n",
       "      <td>17.204386</td>\n",
       "      <td>1.283545</td>\n",
       "      <td>0.0</td>\n",
       "    </tr>\n",
       "    <tr>\n",
       "      <th>min</th>\n",
       "      <td>0.000000</td>\n",
       "      <td>1.000000</td>\n",
       "      <td>997.000000</td>\n",
       "      <td>6.000000</td>\n",
       "      <td>0.000000</td>\n",
       "      <td>0.0</td>\n",
       "    </tr>\n",
       "    <tr>\n",
       "      <th>25%</th>\n",
       "      <td>0.000000</td>\n",
       "      <td>11.000000</td>\n",
       "      <td>1015.000000</td>\n",
       "      <td>63.000000</td>\n",
       "      <td>0.000000</td>\n",
       "      <td>0.0</td>\n",
       "    </tr>\n",
       "    <tr>\n",
       "      <th>50%</th>\n",
       "      <td>0.000000</td>\n",
       "      <td>14.000000</td>\n",
       "      <td>1019.000000</td>\n",
       "      <td>78.000000</td>\n",
       "      <td>1.000000</td>\n",
       "      <td>0.0</td>\n",
       "    </tr>\n",
       "    <tr>\n",
       "      <th>75%</th>\n",
       "      <td>240.000000</td>\n",
       "      <td>18.000000</td>\n",
       "      <td>1022.000000</td>\n",
       "      <td>90.000000</td>\n",
       "      <td>2.000000</td>\n",
       "      <td>0.0</td>\n",
       "    </tr>\n",
       "    <tr>\n",
       "      <th>max</th>\n",
       "      <td>31083.000000</td>\n",
       "      <td>35.000000</td>\n",
       "      <td>1032.000000</td>\n",
       "      <td>100.000000</td>\n",
       "      <td>10.000000</td>\n",
       "      <td>0.0</td>\n",
       "    </tr>\n",
       "  </tbody>\n",
       "</table>\n",
       "</div>"
      ],
      "text/plain": [
       "       delay_in_seconds  avg_temperature  avg_atm_pressure  avg_humidity  \\\n",
       "count       6206.000000      6206.000000       6206.000000   6206.000000   \n",
       "mean         561.444086        14.595875       1018.121656     74.340477   \n",
       "std         1667.344871         4.795352          5.206504     17.204386   \n",
       "min            0.000000         1.000000        997.000000      6.000000   \n",
       "25%            0.000000        11.000000       1015.000000     63.000000   \n",
       "50%            0.000000        14.000000       1019.000000     78.000000   \n",
       "75%          240.000000        18.000000       1022.000000     90.000000   \n",
       "max        31083.000000        35.000000       1032.000000    100.000000   \n",
       "\n",
       "       avg_wind_speed  avg_precipitation  \n",
       "count     6206.000000             6206.0  \n",
       "mean         1.268853                0.0  \n",
       "std          1.283545                0.0  \n",
       "min          0.000000                0.0  \n",
       "25%          0.000000                0.0  \n",
       "50%          1.000000                0.0  \n",
       "75%          2.000000                0.0  \n",
       "max         10.000000                0.0  "
      ]
     },
     "execution_count": 367,
     "metadata": {},
     "output_type": "execute_result"
    }
   ],
   "source": [
    "dataset.describe()"
   ]
  },
  {
   "attachments": {},
   "cell_type": "markdown",
   "metadata": {},
   "source": [
    "## 4. Data Preprocessing"
   ]
  },
  {
   "cell_type": "markdown",
   "metadata": {},
   "source": [
    "## Drop unecessary columns"
   ]
  },
  {
   "cell_type": "code",
   "execution_count": 368,
   "metadata": {},
   "outputs": [],
   "source": [
    "# Drop city name and avg_precipitation: always the same value\n",
    "dataset.drop('avg_precipitation', axis=1, inplace=True)\n",
    "dataset.drop('city_name', axis=1, inplace=True)"
   ]
  },
  {
   "attachments": {},
   "cell_type": "markdown",
   "metadata": {},
   "source": [
    "### Look for any Duplicated Rows"
   ]
  },
  {
   "cell_type": "code",
   "execution_count": 369,
   "metadata": {},
   "outputs": [
    {
     "name": "stdout",
     "output_type": "stream",
     "text": [
      "Number of duplicated rows: 0\n"
     ]
    }
   ],
   "source": [
    "# Is there any duplicated data?\n",
    "print(\"Number of duplicated rows: {}\".format(dataset.duplicated().sum()))"
   ]
  },
  {
   "attachments": {},
   "cell_type": "markdown",
   "metadata": {},
   "source": [
    "#### Handle Affected Roads"
   ]
  },
  {
   "cell_type": "code",
   "execution_count": 370,
   "metadata": {},
   "outputs": [],
   "source": [
    "# Column affected_roads is a list of roads that are affected by the incident.\n",
    "# Replace this column with the number of roads affected by the incident.\n",
    "# Iterate over the number of affected roads of each incident.\n",
    "def replace_affected_roads(data):\n",
    "    \n",
    "    for index, row in data.iterrows():\n",
    "        # Check if the value is NaN\n",
    "        split_roads = []\n",
    "        if not pd.isnull(row['affected_roads']):\n",
    "            split_roads = row['affected_roads'].split(',')\n",
    "        \n",
    "        # Remove empty strings\n",
    "        split_roads = list(filter(None, split_roads))\n",
    "        \n",
    "        # Remove duplicates\n",
    "        split_roads = list(dict.fromkeys(split_roads))\n",
    "        \n",
    "        data.at[index, 'affected_roads'] = len(split_roads)\n",
    "        \n",
    "    # Rename column\n",
    "    data['affected_roads'] = data['affected_roads'].astype('int64')\n",
    "    data.rename(columns={'affected_roads': 'number_of_affected_roads'}, inplace=True)\n",
    "    \n",
    "    return data\n",
    "\n",
    "if 'affected_roads' in dataset.columns:\n",
    "    dataset = replace_affected_roads(dataset)"
   ]
  },
  {
   "cell_type": "markdown",
   "metadata": {},
   "source": [
    "### Handle Categorical data"
   ]
  },
  {
   "cell_type": "code",
   "execution_count": 371,
   "metadata": {},
   "outputs": [
    {
     "name": "stdout",
     "output_type": "stream",
     "text": [
      "Column: magnitude_of_delay ----->  ['UNDEFINED' 'MAJOR' 'MODERATE']\n",
      "Column: luminosity ----->  ['DARK' 'LIGHT' 'LOW_LIGHT']\n",
      "Column: avg_rain ----->  ['Sem Chuva' 'chuva moderada' 'chuva fraca' 'chuva forte']\n",
      "Column: incidents ----->  ['None' 'Low' 'Very_High' 'High' 'Medium' 'test-only']\n"
     ]
    }
   ],
   "source": [
    "# There are 5 non-numeric columns: magnitude_of_delay, record_date, luminosity, avg_rain and incidents\n",
    "# See the different values of each column - exclude record_date, because it is a date (\\:)\n",
    "non_numeric_columns = ['magnitude_of_delay', 'luminosity', 'avg_rain', 'incidents']\n",
    "for column in non_numeric_columns:\n",
    "    print(\"Column: {}\".format(column), \"-----> \", dataset[column].unique())"
   ]
  },
  {
   "cell_type": "code",
   "execution_count": 372,
   "metadata": {},
   "outputs": [
    {
     "data": {
      "image/png": "[encoded data removed]",
      "text/plain": [
       "<Figure size 720x720 with 4 Axes>"
      ]
     },
     "metadata": {
      "needs_background": "light"
     },
     "output_type": "display_data"
    }
   ],
   "source": [
    "# Get the distribution of the non-numeric columns\n",
    "fig, axes = plt.subplots(nrows=2, ncols=2, figsize=(10, 10))\n",
    "for idx, column in enumerate(non_numeric_columns):\n",
    "    sns.countplot(x=column, data=dataset, ax=axes[idx // 2, idx % 2])\n",
    "plt.tight_layout()\n",
    "plt.show()"
   ]
  },
  {
   "attachments": {},
   "cell_type": "markdown",
   "metadata": {},
   "source": [
    "#### Magnitude of delay / Delay in Seconds"
   ]
  },
  {
   "cell_type": "code",
   "execution_count": 373,
   "metadata": {},
   "outputs": [
    {
     "data": {
      "text/plain": [
       "<AxesSubplot:xlabel='incidents', ylabel='count'>"
      ]
     },
     "execution_count": 373,
     "metadata": {},
     "output_type": "execute_result"
    },
    {
     "data": {
      "image/png": "[encoded data removed]",
      "text/plain": [
       "<Figure size 432x288 with 1 Axes>"
      ]
     },
     "metadata": {
      "needs_background": "light"
     },
     "output_type": "display_data"
    }
   ],
   "source": [
    "# Relation between \"MAJOR\" delays and the incidents\n",
    "sns.countplot(x='incidents', hue='magnitude_of_delay', data=dataset)"
   ]
  },
  {
   "cell_type": "code",
   "execution_count": 374,
   "metadata": {},
   "outputs": [
    {
     "name": "stdout",
     "output_type": "stream",
     "text": [
      "Number of UNDEFINED delays: 5344\n",
      "Number of MAJOR delays: 853\n",
      "Number of MODERATE delays: 9\n"
     ]
    },
    {
     "data": {
      "image/png": "[encoded data removed]",
      "text/plain": [
       "<Figure size 432x288 with 1 Axes>"
      ]
     },
     "metadata": {
      "needs_background": "light"
     },
     "output_type": "display_data"
    }
   ],
   "source": [
    "# Relation between magnitude of delay and delay in seconds\n",
    "sns.scatterplot(x='delay_in_seconds', y='magnitude_of_delay', data=dataset)\n",
    "\n",
    "# Count the UNDIFINED, MAJOR and MODERATE delays\n",
    "print(\"Number of UNDEFINED delays: {}\".format(dataset[dataset['magnitude_of_delay'] == 'UNDEFINED'].shape[0]))\n",
    "print(\"Number of MAJOR delays: {}\".format(dataset[dataset['magnitude_of_delay'] == 'MAJOR'].shape[0]))\n",
    "print(\"Number of MODERATE delays: {}\".format(dataset[dataset['magnitude_of_delay'] == 'MODERATE'].shape[0]))"
   ]
  },
  {
   "cell_type": "code",
   "execution_count": 375,
   "metadata": {},
   "outputs": [
    {
     "data": {
      "image/png": "[encoded data removed]",
      "text/plain": [
       "<Figure size 720x360 with 2 Axes>"
      ]
     },
     "metadata": {
      "needs_background": "light"
     },
     "output_type": "display_data"
    },
    {
     "name": "stdout",
     "output_type": "stream",
     "text": [
      "Average delay in seconds for UNDEFINED delays: 123.35778443113773\n",
      "Average delay in seconds for MODERATE delays: 2182.4444444444443\n",
      "Average delay in seconds for MAJOR delays: 3288.928487690504\n"
     ]
    }
   ],
   "source": [
    "# Get distribution of values of delay_in_seconds that have a magnitude_of_delay of \"MAJOR\" and \"UNDEFINED\"\n",
    "undefined_delay = dataset[dataset['magnitude_of_delay'] == 'UNDEFINED']\n",
    "major_delay = dataset[dataset['magnitude_of_delay'] == 'MAJOR']\n",
    "\n",
    "fig, axes = plt.subplots(nrows=1, ncols=2, figsize=(10, 5))\n",
    "undefined_delay['delay_in_seconds'].hist(ax=axes[0])\n",
    "major_delay['delay_in_seconds'].hist(ax=axes[1])\n",
    "plt.xlabel('Delay in seconds')\n",
    "plt.ylabel('Count')\n",
    "plt.show()\n",
    "\n",
    "# Print average delay in seconds for each magnitude of delay\n",
    "print(\"Average delay in seconds for UNDEFINED delays: {}\".format(undefined_delay['delay_in_seconds'].mean()))\n",
    "print(\"Average delay in seconds for MODERATE delays: {}\".format(dataset[dataset['magnitude_of_delay'] == 'MODERATE']['delay_in_seconds'].mean()))\n",
    "print(\"Average delay in seconds for MAJOR delays: {}\".format(major_delay['delay_in_seconds'].mean()))"
   ]
  },
  {
   "cell_type": "code",
   "execution_count": 376,
   "metadata": {},
   "outputs": [
    {
     "name": "stdout",
     "output_type": "stream",
     "text": [
      "Low          32\n",
      "test-only    10\n",
      "None          9\n",
      "Medium        2\n",
      "Name: incidents, dtype: int64\n"
     ]
    }
   ],
   "source": [
    "# Get count of the incidents that have a magnitude_of_delay of \"MAJOR\" per type...\n",
    "major_delay_zero = major_delay[major_delay['delay_in_seconds'] < 250]\n",
    "print(major_delay_zero['incidents'].value_counts())"
   ]
  },
  {
   "cell_type": "code",
   "execution_count": 377,
   "metadata": {},
   "outputs": [
    {
     "name": "stdout",
     "output_type": "stream",
     "text": [
      "Skewness (all): 6.044188264462225\n",
      "Skewness (non-zero): 3.8291844458228224\n"
     ]
    },
    {
     "data": {
      "image/png": "[encoded data removed]",
      "text/plain": [
       "<Figure size 360x360 with 1 Axes>"
      ]
     },
     "metadata": {
      "needs_background": "light"
     },
     "output_type": "display_data"
    }
   ],
   "source": [
    "# Plot the distribution of the 'delay_in_seconds' column non-zero values\n",
    "sns.displot(dataset[dataset['delay_in_seconds'] > 0]['delay_in_seconds'])\n",
    "print(\"Skewness (all): {}\".format(dataset['delay_in_seconds'].skew()))\n",
    "print(\"Skewness (non-zero): {}\".format(dataset[dataset['delay_in_seconds'] > 0]['delay_in_seconds'].skew()))"
   ]
  },
  {
   "cell_type": "code",
   "execution_count": 378,
   "metadata": {},
   "outputs": [
    {
     "data": {
      "image/png": "[encoded data removed]",
      "text/plain": [
       "<Figure size 360x360 with 1 Axes>"
      ]
     },
     "metadata": {
      "needs_background": "light"
     },
     "output_type": "display_data"
    }
   ],
   "source": [
    "if 'magnitude_of_delay' in dataset.columns:\n",
    "    # Map values no numeric\n",
    "    dict_magnitude_of_delay = {'UNDEFINED': 1, 'MODERATE':2, 'MAJOR':3}\n",
    "    dataset['magnitude_of_delay'] = dataset['magnitude_of_delay'].map(dict_magnitude_of_delay)\n",
    "    \n",
    "    # Multiply the 'delay_in_seconds' column by the 'magnitude_of_delay' column\n",
    "    #\n",
    "    # The reason for this is that the 'delay_in_seconds' column has a lot of zero values.\n",
    "    # The \"UNDEFINED\" has a delay of 0 seconds in 75% of the cases.\n",
    "    #  It has 94% of values under 10 minutes.\n",
    "    #\n",
    "    dataset['delay_in_seconds'] = dataset['delay_in_seconds'] * dataset['magnitude_of_delay']\n",
    "    \n",
    "    # Apply log transformation to the non-zero values of 'delay_in_seconds' column)\n",
    "    dataset.loc[dataset['delay_in_seconds'] > 0, 'delay_in_seconds'] = np.log(dataset.loc[dataset['delay_in_seconds'] > 0, 'delay_in_seconds'])\n",
    "    \n",
    "    # Scale the non-zero values of 'delay_in_seconds' column\n",
    "    scaler = MinMaxScaler()\n",
    "    dataset.loc[dataset['delay_in_seconds'] > 0, 'delay_in_seconds'] = scaler.fit_transform(dataset.loc[dataset['delay_in_seconds'] > 0, 'delay_in_seconds'].values.reshape(-1, 1))\n",
    "    \n",
    "    # Plot the distribution of the non-zero values of 'delay_in_seconds' column\n",
    "    sns.displot(dataset[dataset['delay_in_seconds'] > 0]['delay_in_seconds'])\n",
    "    \n",
    "    # Drop magnitude_of_delay column\n",
    "    dataset.drop('magnitude_of_delay', axis=1, inplace=True)\n",
    "    \n",
    "    # Rename column as 'delay_coefficient'\n",
    "    dataset.rename(columns={'delay_in_seconds': 'delay_coefficient'}, inplace=True)"
   ]
  },
  {
   "attachments": {},
   "cell_type": "markdown",
   "metadata": {},
   "source": [
    "#### categorizing time of day"
   ]
  },
  {
   "cell_type": "code",
   "execution_count": 379,
   "metadata": {},
   "outputs": [],
   "source": [
    "# Use the hour and month value as continuous variables\n",
    "# Create a binary variable for weekend or not\n",
    "def create_time_variables(dataset):\n",
    "    #add 2 column with the month and day from time_of_day\n",
    "    dataset['month'] = pd.DatetimeIndex(dataset['record_date']).month\n",
    "    dataset['day'] = pd.DatetimeIndex(dataset['record_date']).day\n",
    "    return dataset\n",
    "\n",
    "\n",
    "dataset = create_time_variables(dataset)\n",
    "\n",
    "dataset.drop('record_date', axis=1, inplace=True)"
   ]
  },
  {
   "cell_type": "code",
   "execution_count": 380,
   "metadata": {},
   "outputs": [
    {
     "data": {
      "text/plain": [
       "<AxesSubplot:>"
      ]
     },
     "execution_count": 380,
     "metadata": {},
     "output_type": "execute_result"
    },
    {
     "data": {
      "image/png": "[encoded data removed]",
      "text/plain": [
       "<Figure size 432x288 with 2 Axes>"
      ]
     },
     "metadata": {
      "needs_background": "light"
     },
     "output_type": "display_data"
    }
   ],
   "source": [
    "corr_matrix = dataset.corr()\n",
    "sns.heatmap(corr_matrix,square=True, annot=True)"
   ]
  },
  {
   "attachments": {},
   "cell_type": "markdown",
   "metadata": {},
   "source": [
    "#### Luminosity"
   ]
  },
  {
   "cell_type": "code",
   "execution_count": 381,
   "metadata": {},
   "outputs": [
    {
     "data": {
      "text/plain": [
       "DARK         3112\n",
       "LIGHT        2871\n",
       "LOW_LIGHT     223\n",
       "Name: luminosity, dtype: int64"
      ]
     },
     "execution_count": 381,
     "metadata": {},
     "output_type": "execute_result"
    }
   ],
   "source": [
    "# Count different values of the 'luminosity' column\n",
    "dataset['luminosity'].value_counts()"
   ]
  },
  {
   "cell_type": "code",
   "execution_count": 382,
   "metadata": {},
   "outputs": [
    {
     "name": "stdout",
     "output_type": "stream",
     "text": [
      "None         72\n",
      "High         52\n",
      "test-only    37\n",
      "Very_High    24\n",
      "Medium       21\n",
      "Low          17\n",
      "Name: incidents, dtype: int64\n"
     ]
    },
    {
     "data": {
      "text/plain": [
       "<AxesSubplot:xlabel='luminosity', ylabel='count'>"
      ]
     },
     "execution_count": 382,
     "metadata": {},
     "output_type": "execute_result"
    },
    {
     "data": {
      "image/png": "[encoded data removed]",
      "text/plain": [
       "<Figure size 432x288 with 1 Axes>"
      ]
     },
     "metadata": {
      "needs_background": "light"
     },
     "output_type": "display_data"
    }
   ],
   "source": [
    "# Relation between LOW_LIGHT 'luminosity' and 'incidents'\n",
    "low_luminosity = dataset[dataset['luminosity'] == 'LOW_LIGHT']\n",
    "print(low_luminosity['incidents'].value_counts())\n",
    "sns.countplot(x='luminosity', hue='incidents', data=low_luminosity)"
   ]
  },
  {
   "cell_type": "code",
   "execution_count": 383,
   "metadata": {},
   "outputs": [],
   "source": [
    "# None + Low = 87\n",
    "# High + Very High = 76\n",
    "#\n",
    "# The 'luminosity' column, when it is LOW_LIGHT, has a similar probability of having an incident or not.\n",
    "# So, whenever we find a LOW_LIGHT value, we will randomly assign a value of 0 or 1.\n",
    "#\n",
    "def binary_luminosity(value):\n",
    "    if value == 'LOW_LIGHT':\n",
    "        random.seed(2023) \n",
    "        return random.randint(0, 1)\n",
    "    elif value == 'DARK':\n",
    "        return 0\n",
    "    elif value == 'LIGHT':\n",
    "        return 1\n",
    "    else:\n",
    "        print(\"ERROR: Invalid value for 'luminosity' column: {}\".format(value))\n",
    "\n",
    "def non_binary_luminosity(value):\n",
    "    if value == 'DARK':\n",
    "        return 0\n",
    "    elif value == 'LOW_LIGHT':\n",
    "        return 1\n",
    "    elif value == 'LIGHT':\n",
    "        return 2\n",
    "    else:\n",
    "        print(\"ERROR: Invalid value for 'luminosity' column: {}\".format(value))\n",
    "\n",
    "\n",
    "if 'luminosity' in dataset.columns and dataset['luminosity'].dtype == 'object':\n",
    "    dataset['luminosity'] = dataset['luminosity'].apply(non_binary_luminosity)"
   ]
  },
  {
   "attachments": {},
   "cell_type": "markdown",
   "metadata": {},
   "source": [
    "#### Average Rain"
   ]
  },
  {
   "cell_type": "code",
   "execution_count": 384,
   "metadata": {},
   "outputs": [
    {
     "name": "stdout",
     "output_type": "stream",
     "text": [
      "Sem Chuva         5896\n",
      "chuva fraca        270\n",
      "chuva moderada      35\n",
      "chuva forte          5\n",
      "Name: avg_rain, dtype: int64\n"
     ]
    }
   ],
   "source": [
    "# Count different values of the 'avg_rain' column.\n",
    "print(dataset['avg_rain'].value_counts())"
   ]
  },
  {
   "cell_type": "code",
   "execution_count": 385,
   "metadata": {},
   "outputs": [
    {
     "name": "stdout",
     "output_type": "stream",
     "text": [
      "None         67\n",
      "test-only    56\n",
      "High         50\n",
      "Very_High    39\n",
      "Low          32\n",
      "Medium       26\n",
      "Name: incidents, dtype: int64\n"
     ]
    },
    {
     "data": {
      "text/plain": [
       "<AxesSubplot:xlabel='avg_rain', ylabel='count'>"
      ]
     },
     "execution_count": 385,
     "metadata": {},
     "output_type": "execute_result"
    },
    {
     "data": {
      "image/png": "[encoded data removed]",
      "text/plain": [
       "<Figure size 432x288 with 1 Axes>"
      ]
     },
     "metadata": {
      "needs_background": "light"
     },
     "output_type": "display_data"
    }
   ],
   "source": [
    "# Get the incidents per value of 'avg_rain'==chuva fraca\n",
    "chuva_fraca = dataset[dataset['avg_rain'] == 'chuva fraca']\n",
    "print(chuva_fraca['incidents'].value_counts())\n",
    "sns.countplot(x='avg_rain', hue='incidents', data=chuva_fraca)"
   ]
  },
  {
   "cell_type": "code",
   "execution_count": 386,
   "metadata": {},
   "outputs": [],
   "source": [
    "# Transform the 'avg_rain' column into binary values: rain/no rain\n",
    "def binary_rain(value):\n",
    "    if value == 'Sem Chuva':\n",
    "        return 0\n",
    "    else:\n",
    "        return 1\n",
    "\n",
    "def non_binary_rain(value):\n",
    "    if value == 'Sem Chuva':\n",
    "        return 0\n",
    "    elif value == 'chuva fraca':\n",
    "        return 1\n",
    "    elif value == 'chuva moderada':\n",
    "        return 2\n",
    "    elif value == 'chuva forte':\n",
    "        return 3\n",
    "\n",
    "# Average rain\n",
    "if 'avg_rain' in dataset.columns and dataset['avg_rain'].dtype == 'object':\n",
    "    dataset['avg_rain'] = dataset['avg_rain'].apply(non_binary_rain)"
   ]
  },
  {
   "attachments": {},
   "cell_type": "markdown",
   "metadata": {},
   "source": [
    "### Handle Non-Categorical Data"
   ]
  },
  {
   "attachments": {},
   "cell_type": "markdown",
   "metadata": {},
   "source": [
    "#### Helper Functions"
   ]
  },
  {
   "cell_type": "code",
   "execution_count": 387,
   "metadata": {},
   "outputs": [],
   "source": [
    "# Count the number of outliers per column with the IQR method; have an option to remove the outliers\n",
    "def count_outliers_IQR(data, column, remove_outliers=False, verbose=False):\n",
    "    # Calculate the 1st and 3rd quartile\n",
    "    q1 = data[column].quantile(0.25)\n",
    "    q3 = data[column].quantile(0.75)\n",
    "    # Calculate the IQR\n",
    "    IQR = q3 - q1\n",
    "    # Calculate the lower and upper bound\n",
    "    lower_bound = q1 - (1.5 * IQR)\n",
    "    upper_bound = q3 + (1.5 * IQR)\n",
    "    # Count the number of outliers\n",
    "    outliers = data[(data[column] < lower_bound) | (data[column] > upper_bound)]\n",
    "    if verbose:\n",
    "        print(\"Number of outliers for column {} is {}\".format(column, outliers.shape[0]))\n",
    "    # Remove the outliers\n",
    "    if remove_outliers:\n",
    "        number_of_rows_before = data.shape[0]\n",
    "        data = data[(data[column] > lower_bound) & (data[column] < upper_bound)]\n",
    "        print(\"Removed {} rows from the dataset\".format(number_of_rows_before - data.shape[0]))\n",
    "    return data\n",
    "\n",
    "# Count the number of outliers per column with the Z-score method; have an option to remove the outliers\n",
    "def count_outliers_Z_score(data, column, remove_outliers=False, verbose=False):\n",
    "    # Calculate the Z-score\n",
    "    z = np.abs(stats.zscore(data[column]))\n",
    "    # Count the number of outliers\n",
    "    outliers = data[z > 3]\n",
    "    if verbose:\n",
    "        print(\"Number of outliers for column {} is {}\".format(column, outliers.shape[0]))\n",
    "    # Remove the outliers\n",
    "    if remove_outliers:\n",
    "        number_of_rows_before = data.shape[0]\n",
    "        data = data[z < 3]\n",
    "        print(\"Removed {} rows from the dataset\".format(number_of_rows_before - data.shape[0]))\n",
    "    return data"
   ]
  },
  {
   "attachments": {},
   "cell_type": "markdown",
   "metadata": {},
   "source": [
    "#### Average Temperature"
   ]
  },
  {
   "cell_type": "code",
   "execution_count": 388,
   "metadata": {},
   "outputs": [
    {
     "name": "stdout",
     "output_type": "stream",
     "text": [
      "count    6206.000000\n",
      "mean       14.595875\n",
      "std         4.795352\n",
      "min         1.000000\n",
      "25%        11.000000\n",
      "50%        14.000000\n",
      "75%        18.000000\n",
      "max        35.000000\n",
      "Name: avg_temperature, dtype: float64\n",
      "Skewness: 0.5402003354292293\n"
     ]
    },
    {
     "data": {
      "image/png": "[encoded data removed]",
      "text/plain": [
       "<Figure size 360x360 with 1 Axes>"
      ]
     },
     "metadata": {
      "needs_background": "light"
     },
     "output_type": "display_data"
    }
   ],
   "source": [
    "# Distribution of the 'avg_temperature' column\n",
    "sns.displot(dataset['avg_temperature'])\n",
    "print(dataset['avg_temperature'].describe())\n",
    "print(\"Skewness: {}\".format(dataset['avg_temperature'].skew()))"
   ]
  },
  {
   "cell_type": "code",
   "execution_count": 389,
   "metadata": {},
   "outputs": [
    {
     "name": "stdout",
     "output_type": "stream",
     "text": [
      "Number of outliers for column avg_temperature is 50\n",
      "Number of outliers for column avg_temperature is 50\n",
      "\n",
      "Outlier ceil: 28.981930577131205\n",
      "Outlier floor: 0.20981934230160348\n",
      "count    6206.000000\n",
      "mean       14.595875\n",
      "std         4.795352\n",
      "min         1.000000\n",
      "25%        11.000000\n",
      "50%        14.000000\n",
      "75%        18.000000\n",
      "max        35.000000\n",
      "Name: avg_temperature, dtype: float64\n"
     ]
    },
    {
     "data": {
      "image/png": "[encoded data removed]",
      "text/plain": [
       "<Figure size 432x288 with 1 Axes>"
      ]
     },
     "metadata": {
      "needs_background": "light"
     },
     "output_type": "display_data"
    }
   ],
   "source": [
    "# Boxplot of the 'avg_temperature' column\n",
    "sns.boxplot(x=dataset['avg_temperature'])\n",
    "\n",
    "# Count the number of outliers for the 'avg_temperature' column\n",
    "count_outliers_IQR(dataset, 'avg_temperature', verbose=True, remove_outliers=False)\n",
    "count_outliers_Z_score(dataset, 'avg_temperature', verbose=True, remove_outliers=False)\n",
    "print()\n",
    "\n",
    "#  Get max and min values for the 'avg_temperature' column outliers using the Z-score method.\n",
    "max_value = dataset['avg_temperature'].mean() + 3 * dataset['avg_temperature'].std()\n",
    "min_value = dataset['avg_temperature'].mean() - 3 * dataset['avg_temperature'].std()\n",
    "\n",
    "print(\"Outlier ceil: {}\".format(max_value))\n",
    "print(\"Outlier floor: {}\".format(min_value))\n",
    "print(dataset['avg_temperature'].describe())"
   ]
  },
  {
   "cell_type": "code",
   "execution_count": 390,
   "metadata": {},
   "outputs": [
    {
     "name": "stdout",
     "output_type": "stream",
     "text": [
      "None         14\n",
      "Low          12\n",
      "Very_High     8\n",
      "test-only     7\n",
      "High          7\n",
      "Medium        2\n",
      "Name: incidents, dtype: int64\n"
     ]
    },
    {
     "data": {
      "image/png": "[encoded data removed]",
      "text/plain": [
       "<Figure size 432x288 with 1 Axes>"
      ]
     },
     "metadata": {
      "needs_background": "light"
     },
     "output_type": "display_data"
    }
   ],
   "source": [
    "# Let's check the relation between the 'avg_temperature' outliers and 'incidents' (grpahically)\n",
    "outliers = dataset[(dataset['avg_temperature'] > max_value)]\n",
    "print(outliers['incidents'].value_counts())\n",
    "sns.countplot(x='avg_temperature', hue='incidents', data=outliers)\n",
    "\n",
    "# There are 0.008% temperature outliers. It's not a lot.\n",
    "#  The temperatures are not that extreme and can be considered as valid data.\n",
    "# \n",
    "# Normalize the 'avg_temperature' column\n",
    "# The date is not extremely skewed, so we will use the MinMaxScaler.\n",
    "scaler = MinMaxScaler()\n",
    "dataset['avg_temperature'] = scaler.fit_transform(dataset['avg_temperature'].values.reshape(-1, 1))"
   ]
  },
  {
   "attachments": {},
   "cell_type": "markdown",
   "metadata": {},
   "source": [
    "#### Average Humidity"
   ]
  },
  {
   "cell_type": "code",
   "execution_count": 391,
   "metadata": {},
   "outputs": [
    {
     "name": "stdout",
     "output_type": "stream",
     "text": [
      "count    6206.000000\n",
      "mean       74.340477\n",
      "std        17.204386\n",
      "min         6.000000\n",
      "25%        63.000000\n",
      "50%        78.000000\n",
      "75%        90.000000\n",
      "max       100.000000\n",
      "Name: avg_humidity, dtype: float64\n",
      "Skewness: -0.7492086582905623\n"
     ]
    },
    {
     "data": {
      "image/png": "[encoded data removed]",
      "text/plain": [
       "<Figure size 360x360 with 1 Axes>"
      ]
     },
     "metadata": {
      "needs_background": "light"
     },
     "output_type": "display_data"
    }
   ],
   "source": [
    "# Distribution of the 'avg_humidity' column\n",
    "sns.displot(dataset['avg_humidity'])\n",
    "print(dataset['avg_humidity'].describe())\n",
    "print(\"Skewness: {}\".format(dataset['avg_humidity'].skew()))"
   ]
  },
  {
   "cell_type": "code",
   "execution_count": 392,
   "metadata": {},
   "outputs": [
    {
     "name": "stdout",
     "output_type": "stream",
     "text": [
      "Number of outliers for column avg_humidity is 11\n",
      "Number of outliers for column avg_humidity is 11\n",
      "\n",
      "3200     6.0\n",
      "3639     7.0\n",
      "716      7.0\n",
      "2999     8.0\n",
      "3245     8.0\n",
      "267     17.0\n",
      "2973    17.0\n",
      "4743    17.0\n",
      "4646    18.0\n",
      "402     20.0\n",
      "4182    21.0\n",
      "Name: avg_humidity, dtype: float64\n"
     ]
    },
    {
     "data": {
      "image/png": "[encoded data removed]",
      "text/plain": [
       "<Figure size 432x288 with 1 Axes>"
      ]
     },
     "metadata": {
      "needs_background": "light"
     },
     "output_type": "display_data"
    }
   ],
   "source": [
    "# Boxplot of the 'avg_humidity' column\n",
    "sns.boxplot(x=dataset['avg_humidity'])\n",
    "\n",
    "# Count the number of outliers for the 'avg_humidity' column\n",
    "count_outliers_IQR(dataset, 'avg_humidity', verbose=True, remove_outliers=False)\n",
    "count_outliers_Z_score(dataset, 'avg_humidity', verbose=True, remove_outliers=False)\n",
    "print()\n",
    "\n",
    "# Get 11 most small values for the 'avg_humidity' column.\n",
    "print(dataset['avg_humidity'].nsmallest(11))\n",
    "\n",
    "# Since the 'avg_humidity' column has a very reduced number of outliers, we will remove them.\n",
    "# Also, these values are not representative and occur only in specific circumstances.\n",
    "# For instance, the average humidity in the shaara desert is 25%.\n",
    "# In the antarctic, humidity is sometimes close to 0%.\n",
    "# But apparently, in Guimarães, the humidity can have values as low as 6.0%.\n",
    "dataset = count_outliers_IQR(dataset, 'avg_humidity', verbose=False, remove_outliers=False)\n",
    "\n",
    "# Normalize the 'avg_humidity' column\n",
    "scaler = MinMaxScaler()\n",
    "dataset['avg_humidity'] = scaler.fit_transform(dataset['avg_humidity'].values.reshape(-1, 1))"
   ]
  },
  {
   "attachments": {},
   "cell_type": "markdown",
   "metadata": {},
   "source": [
    "#### Average Wind Speed"
   ]
  },
  {
   "cell_type": "code",
   "execution_count": 393,
   "metadata": {},
   "outputs": [
    {
     "name": "stdout",
     "output_type": "stream",
     "text": [
      "count    6206.000000\n",
      "mean        1.268853\n",
      "std         1.283545\n",
      "min         0.000000\n",
      "25%         0.000000\n",
      "50%         1.000000\n",
      "75%         2.000000\n",
      "max        10.000000\n",
      "Name: avg_wind_speed, dtype: float64\n",
      "Skewness: 1.3817984915729273\n"
     ]
    },
    {
     "data": {
      "image/png": "[encoded data removed]",
      "text/plain": [
       "<Figure size 360x360 with 1 Axes>"
      ]
     },
     "metadata": {
      "needs_background": "light"
     },
     "output_type": "display_data"
    }
   ],
   "source": [
    "# Distribution of the 'avg_wind_speed' column\n",
    "sns.displot(dataset['avg_wind_speed'])\n",
    "print(dataset['avg_wind_speed'].describe())\n",
    "print(\"Skewness: {}\".format(dataset['avg_wind_speed'].skew()))"
   ]
  },
  {
   "cell_type": "code",
   "execution_count": 394,
   "metadata": {},
   "outputs": [
    {
     "name": "stdout",
     "output_type": "stream",
     "text": [
      "Number of outliers for column avg_wind_speed is 63\n",
      "Number of outliers for column avg_wind_speed is 63\n",
      "\n"
     ]
    },
    {
     "data": {
      "image/png": "[encoded data removed]",
      "text/plain": [
       "<Figure size 432x288 with 1 Axes>"
      ]
     },
     "metadata": {
      "needs_background": "light"
     },
     "output_type": "display_data"
    }
   ],
   "source": [
    "# Boxplot of the 'avg_wind_speed' column\n",
    "sns.boxplot(x=dataset['avg_wind_speed'])\n",
    "\n",
    "# Count the number of outliers for the 'avg_wind_speed' column\n",
    "count_outliers_IQR(dataset, 'avg_wind_speed', verbose=True, remove_outliers=False)\n",
    "count_outliers_Z_score(dataset, 'avg_wind_speed', verbose=True, remove_outliers=False)\n",
    "print()\n",
    "\n",
    "# With this number of outliers, we will do nothing.\n",
    "# The values are not that extreme and can be considered as valid data.\n",
    "#\n",
    "# Since the data is not normally distributed, and is skewed to the right\n",
    "#  we will use a scaler that is not sensitive to outliers/normal distribution.\n",
    "#scaler = PowerTransformer()\n",
    "#dataset['avg_wind_speed'] = scaler.fit_transform(dataset['avg_wind_speed'].values.reshape(-1, 1))\n",
    "\n",
    "# Now that the data is more normally distributed, we can use the MinMaxScaler.\n",
    "scaler = MinMaxScaler()\n",
    "dataset['avg_wind_speed'] = scaler.fit_transform(dataset['avg_wind_speed'].values.reshape(-1, 1))"
   ]
  },
  {
   "attachments": {},
   "cell_type": "markdown",
   "metadata": {},
   "source": [
    "#### Average Pressure"
   ]
  },
  {
   "cell_type": "code",
   "execution_count": 395,
   "metadata": {},
   "outputs": [
    {
     "name": "stdout",
     "output_type": "stream",
     "text": [
      "count    6206.000000\n",
      "mean     1018.121656\n",
      "std         5.206504\n",
      "min       997.000000\n",
      "25%      1015.000000\n",
      "50%      1019.000000\n",
      "75%      1022.000000\n",
      "max      1032.000000\n",
      "Name: avg_atm_pressure, dtype: float64\n",
      "Skewness: -0.410711923939691\n"
     ]
    },
    {
     "data": {
      "image/png": "[encoded data removed]",
      "text/plain": [
       "<Figure size 360x360 with 1 Axes>"
      ]
     },
     "metadata": {
      "needs_background": "light"
     },
     "output_type": "display_data"
    }
   ],
   "source": [
    "# Distribution of the 'avg_atm_pressure' column\n",
    "sns.displot(dataset['avg_atm_pressure'])\n",
    "print(dataset['avg_atm_pressure'].describe())\n",
    "print(\"Skewness: {}\".format(dataset['avg_atm_pressure'].skew()))"
   ]
  },
  {
   "cell_type": "code",
   "execution_count": 396,
   "metadata": {},
   "outputs": [
    {
     "name": "stdout",
     "output_type": "stream",
     "text": [
      "Number of outliers for column avg_atm_pressure is 57\n",
      "Number of outliers for column avg_atm_pressure is 22\n"
     ]
    },
    {
     "data": {
      "image/png": "[encoded data removed]",
      "text/plain": [
       "<Figure size 432x288 with 1 Axes>"
      ]
     },
     "metadata": {
      "needs_background": "light"
     },
     "output_type": "display_data"
    }
   ],
   "source": [
    "# Boxplot of the 'avg_atm_pressure' column\n",
    "sns.boxplot(x=dataset['avg_atm_pressure'])\n",
    "\n",
    "# Count the number of outliers for the 'avg_atm_pressure' column\n",
    "count_outliers_IQR(dataset, 'avg_atm_pressure', verbose=True, remove_outliers=False)\n",
    "count_outliers_Z_score(dataset, 'avg_atm_pressure', verbose=True, remove_outliers=False)\n",
    "\n",
    "# The minimum value of 997 is not an abnormal value for the atmospheric pressure.\n",
    "# Since there are not many outliers, we will not remove them.\n",
    "# Also, the values are not that extreme and can be considered as valid data.\n",
    "#\n",
    "# Let's normalize the 'avg_atm_pressure' column\n",
    "scaler = MinMaxScaler()\n",
    "dataset['avg_atm_pressure'] = scaler.fit_transform(dataset['avg_atm_pressure'].values.reshape(-1, 1))"
   ]
  },
  {
   "cell_type": "code",
   "execution_count": 397,
   "metadata": {},
   "outputs": [
    {
     "data": {
      "text/plain": [
       "<AxesSubplot:>"
      ]
     },
     "execution_count": 397,
     "metadata": {},
     "output_type": "execute_result"
    },
    {
     "data": {
      "image/png": "[encoded data removed]",
      "text/plain": [
       "<Figure size 432x288 with 2 Axes>"
      ]
     },
     "metadata": {
      "needs_background": "light"
     },
     "output_type": "display_data"
    }
   ],
   "source": [
    "sns.heatmap(dataset.corr(), annot=True, fmt='.2f')"
   ]
  },
  {
   "attachments": {},
   "cell_type": "markdown",
   "metadata": {},
   "source": [
    "## 5. Models Training"
   ]
  },
  {
   "cell_type": "code",
   "execution_count": 398,
   "metadata": {},
   "outputs": [],
   "source": [
    "results_table = []\n",
    "results_dict = []"
   ]
  },
  {
   "attachments": {},
   "cell_type": "markdown",
   "metadata": {},
   "source": [
    "#### Helper Functions"
   ]
  },
  {
   "cell_type": "code",
   "execution_count": 399,
   "metadata": {},
   "outputs": [],
   "source": [
    "\"\"\" Save results to a file. \"\"\"\n",
    "def saveResults ( results, path ):\n",
    "    file = open(\"results/\" + path, 'w')\n",
    "    file.write (\"RowId,Incidents\\n\")\n",
    "    i = 1\n",
    "    for result in results :\n",
    "        file.write (str(i) + \",\" + result + \"\\n\")\n",
    "        i += 1"
   ]
  },
  {
   "cell_type": "code",
   "execution_count": 400,
   "metadata": {},
   "outputs": [],
   "source": [
    "def printOrWrite(model_name, predictions, results, results_to_test):\n",
    "    if results_to_test:\n",
    "        classification = metrics.classification_report(results, predictions, zero_division=0)\n",
    "        results_table.append({'model': model_name, 'table': classification})\n",
    "        classification_dict = metrics.classification_report(results, predictions, output_dict=True, zero_division=0)\n",
    "        results_dict.append({\n",
    "            'model': model_name,\n",
    "            'accuracy': classification_dict['accuracy'],\n",
    "            'precision': classification_dict['macro avg']['precision'],\n",
    "            'recall': classification_dict['macro avg']['recall'],\n",
    "            'f1-score': classification_dict['macro avg']['f1-score'],\n",
    "            })\n",
    "        print(model_name, \" Accuracy: \", metrics.accuracy_score(predictions, results))\n",
    "    else:\n",
    "        saveResults(predictions, model_name + '.csv')"
   ]
  },
  {
   "attachments": {},
   "cell_type": "markdown",
   "metadata": {},
   "source": [
    "#### Splitting the dataset"
   ]
  },
  {
   "cell_type": "code",
   "execution_count": 401,
   "metadata": {},
   "outputs": [],
   "source": [
    "# run for test or run for submission\n",
    "results_to_test = True\n",
    "\n",
    "# Copy the dataset\n",
    "train_df = dataset.copy()\n",
    "test_df = dataset.copy()\n",
    "\n",
    "# Filter the train and test data\n",
    "# Train data has the 'incidents' column value != 'test-only'\n",
    "# Test data has the 'incidents' column value == 'test-only'\n",
    "train_df = train_df[train_df['incidents'] != 'test-only']\n",
    "test_df = test_df[test_df['incidents'] == 'test-only']\n",
    "test_df.drop('incidents', axis=1, inplace=True)\n",
    "\n",
    "incidents = train_df['incidents'].copy()\n",
    "\n",
    "if results_to_test:\n",
    "    y = incidents\n",
    "    x = train_df.drop(['incidents'], axis=1)\n",
    "    x_training, x_testing, y_training, y_testing = model_selection.train_test_split(x, y, test_size=0.3, random_state=2022)\n",
    "\n",
    "else:\n",
    "    x_training = train_df.drop(['incidents'], axis=1)\n",
    "    y_training = incidents\n",
    "    x_testing = test_df\n",
    "    y_testing = None"
   ]
  },
  {
   "attachments": {},
   "cell_type": "markdown",
   "metadata": {},
   "source": [
    "### 5.1 Árvores de Decisão e Classificação"
   ]
  },
  {
   "cell_type": "code",
   "execution_count": 402,
   "metadata": {},
   "outputs": [
    {
     "name": "stdout",
     "output_type": "stream",
     "text": [
      "DecisionTrees  Accuracy:  0.9046666666666666\n"
     ]
    }
   ],
   "source": [
    "dtc = tree.DecisionTreeClassifier(random_state=2023, criterion=\"gini\")\n",
    "dtc.fit(x_training,y_training)\n",
    "decision_trees_predictions = dtc.predict(x_testing)\n",
    "\n",
    "printOrWrite(\"DecisionTrees\", decision_trees_predictions, y_testing, results_to_test)"
   ]
  },
  {
   "attachments": {},
   "cell_type": "markdown",
   "metadata": {},
   "source": [
    "### 5.2 RandomForestClassifier"
   ]
  },
  {
   "cell_type": "code",
   "execution_count": 403,
   "metadata": {},
   "outputs": [
    {
     "name": "stdout",
     "output_type": "stream",
     "text": [
      "RandomForest  Accuracy:  0.9133333333333333\n"
     ]
    }
   ],
   "source": [
    "random_forest = RandomForestClassifier(random_state=2023, n_estimators=600, criterion=\"gini\",warm_start=True)\n",
    "random_forest.fit(x_training, y_training)\n",
    "random_forest_predictions = random_forest.predict(x_testing)\n",
    "\n",
    "printOrWrite(\"RandomForest\", random_forest_predictions, y_testing, results_to_test)"
   ]
  },
  {
   "attachments": {},
   "cell_type": "markdown",
   "metadata": {},
   "source": [
    "### 5.3 Regressão Logística"
   ]
  },
  {
   "cell_type": "code",
   "execution_count": 404,
   "metadata": {},
   "outputs": [
    {
     "name": "stdout",
     "output_type": "stream",
     "text": [
      "LogisticRegression  Accuracy:  0.6033333333333334\n"
     ]
    }
   ],
   "source": [
    "logmodel = linear_model.LogisticRegression(C=1.0, class_weight=None, dual=False, fit_intercept=True,\n",
    "          intercept_scaling=1, max_iter=100, multi_class='ovr', n_jobs=1,\n",
    "          penalty='l2', random_state=None, solver='liblinear', tol=0.0001,\n",
    "          verbose=0, warm_start=False)\n",
    "logmodel.fit(x_training,y_training)\n",
    "logistic_regression_predictions = logmodel.predict(x_testing)\n",
    "\n",
    "printOrWrite(\"LogisticRegression\", logistic_regression_predictions, y_testing, results_to_test)"
   ]
  },
  {
   "attachments": {},
   "cell_type": "markdown",
   "metadata": {},
   "source": [
    "### 5.4 SVC"
   ]
  },
  {
   "cell_type": "code",
   "execution_count": 405,
   "metadata": {},
   "outputs": [
    {
     "name": "stdout",
     "output_type": "stream",
     "text": [
      "SVC  Accuracy:  0.548\n"
     ]
    }
   ],
   "source": [
    "model = SVC(random_state=2023)\n",
    "model.fit(x_training, y_training)\n",
    "hold_out_predictions = model.predict(x_testing)\n",
    "\n",
    "printOrWrite(\"SVC\", hold_out_predictions, y_testing, results_to_test)"
   ]
  },
  {
   "attachments": {},
   "cell_type": "markdown",
   "metadata": {},
   "source": [
    "### 5.6 KNeighborsClassifier"
   ]
  },
  {
   "cell_type": "code",
   "execution_count": 406,
   "metadata": {},
   "outputs": [
    {
     "name": "stdout",
     "output_type": "stream",
     "text": [
      "KNN  Accuracy:  0.746\n"
     ]
    }
   ],
   "source": [
    "knn = KNeighborsClassifier(n_neighbors=3)\n",
    "knn.fit(x_training, y_training)\n",
    "knn_predictions = knn.predict(x_testing)\n",
    "\n",
    "printOrWrite(\"KNN\", knn_predictions, y_testing, results_to_test)"
   ]
  },
  {
   "attachments": {},
   "cell_type": "markdown",
   "metadata": {},
   "source": [
    "### 5.7 MLPClassifier"
   ]
  },
  {
   "cell_type": "code",
   "execution_count": 407,
   "metadata": {},
   "outputs": [
    {
     "name": "stdout",
     "output_type": "stream",
     "text": [
      "MLPClassifier  Accuracy:  0.7013333333333334\n"
     ]
    }
   ],
   "source": [
    "mlpclass = MLPClassifier(alpha=1, max_iter=1000)\n",
    "mlpclass.fit(x_training, y_training)\n",
    "mlpclass_predictions = mlpclass.predict(x_testing)\n",
    "\n",
    "printOrWrite(\"MLPClassifier\", mlpclass_predictions, y_testing, results_to_test)"
   ]
  },
  {
   "attachments": {},
   "cell_type": "markdown",
   "metadata": {},
   "source": [
    "### 5.8 AdaBoostClassifier"
   ]
  },
  {
   "cell_type": "code",
   "execution_count": 408,
   "metadata": {},
   "outputs": [
    {
     "name": "stdout",
     "output_type": "stream",
     "text": [
      "AdaBoost  Accuracy:  0.7506666666666667\n"
     ]
    }
   ],
   "source": [
    "adaBoost = AdaBoostClassifier(n_estimators=100, random_state=2023)\n",
    "adaBoost.fit(x_training, y_training)\n",
    "adaBoost_predictions = adaBoost.predict(x_testing)\n",
    "\n",
    "printOrWrite(\"AdaBoost\", adaBoost_predictions, y_testing, results_to_test)"
   ]
  },
  {
   "attachments": {},
   "cell_type": "markdown",
   "metadata": {},
   "source": [
    "### 5.9 GaussianNB"
   ]
  },
  {
   "cell_type": "code",
   "execution_count": 409,
   "metadata": {},
   "outputs": [
    {
     "name": "stdout",
     "output_type": "stream",
     "text": [
      "GaussianNB  Accuracy:  0.5666666666666667\n"
     ]
    }
   ],
   "source": [
    "gaussianNB = GaussianNB()\n",
    "gaussianNB.fit(x_training, y_training)\n",
    "gaussianNB_predictions = gaussianNB.predict(x_testing)\n",
    "\n",
    "printOrWrite(\"GaussianNB\", gaussianNB_predictions, y_testing, results_to_test)"
   ]
  },
  {
   "attachments": {},
   "cell_type": "markdown",
   "metadata": {},
   "source": [
    "### 5.10 QuadraticDiscriminantAnalysis"
   ]
  },
  {
   "cell_type": "code",
   "execution_count": 410,
   "metadata": {},
   "outputs": [
    {
     "name": "stdout",
     "output_type": "stream",
     "text": [
      "QuadraticDiscriminantAnalysis  Accuracy:  0.63\n"
     ]
    }
   ],
   "source": [
    "quadraticDiscriminantAnalysis = QuadraticDiscriminantAnalysis()\n",
    "quadraticDiscriminantAnalysis.fit(x_training, y_training)\n",
    "quadraticDiscriminantAnalysis_predictions = quadraticDiscriminantAnalysis.predict(x_testing)\n",
    "\n",
    "printOrWrite(\"QuadraticDiscriminantAnalysis\", quadraticDiscriminantAnalysis_predictions, y_testing, results_to_test)"
   ]
  },
  {
   "attachments": {},
   "cell_type": "markdown",
   "metadata": {},
   "source": [
    "### 5.11 GaussianProcessClassifier"
   ]
  },
  {
   "cell_type": "code",
   "execution_count": 411,
   "metadata": {},
   "outputs": [
    {
     "name": "stdout",
     "output_type": "stream",
     "text": [
      "GaussianProcessClassifier  Accuracy:  0.7246666666666667\n"
     ]
    }
   ],
   "source": [
    "gaussian = GaussianProcessClassifier(n_restarts_optimizer=3, max_iter_predict=100, random_state=2023)\n",
    "gaussian.fit(x_training, y_training)\n",
    "gaussian_predictions = gaussian.predict(x_testing)\n",
    "\n",
    "printOrWrite(\"GaussianProcessClassifier\", gaussian_predictions, y_testing, results_to_test)"
   ]
  },
  {
   "attachments": {},
   "cell_type": "markdown",
   "metadata": {},
   "source": [
    "### 5.12 Maquinas de Vectores de Suporte (SVM)"
   ]
  },
  {
   "cell_type": "code",
   "execution_count": 412,
   "metadata": {},
   "outputs": [
    {
     "name": "stdout",
     "output_type": "stream",
     "text": [
      "Fitting 5 folds for each of 25 candidates, totalling 125 fits\n",
      "[CV 1/5] END ........C=0.1, gamma=1, kernel=rbf;, score=0.433 total time=   0.7s\n",
      "[CV 2/5] END ........C=0.1, gamma=1, kernel=rbf;, score=0.446 total time=   0.7s\n",
      "[CV 3/5] END ........C=0.1, gamma=1, kernel=rbf;, score=0.437 total time=   0.7s\n",
      "[CV 4/5] END ........C=0.1, gamma=1, kernel=rbf;, score=0.443 total time=   0.7s\n",
      "[CV 5/5] END ........C=0.1, gamma=1, kernel=rbf;, score=0.453 total time=   0.7s\n",
      "[CV 1/5] END ......C=0.1, gamma=0.1, kernel=rbf;, score=0.579 total time=   0.5s\n",
      "[CV 2/5] END ......C=0.1, gamma=0.1, kernel=rbf;, score=0.569 total time=   0.5s\n",
      "[CV 3/5] END ......C=0.1, gamma=0.1, kernel=rbf;, score=0.564 total time=   0.5s\n",
      "[CV 4/5] END ......C=0.1, gamma=0.1, kernel=rbf;, score=0.567 total time=   0.5s\n",
      "[CV 5/5] END ......C=0.1, gamma=0.1, kernel=rbf;, score=0.573 total time=   0.5s\n",
      "[CV 1/5] END .....C=0.1, gamma=0.01, kernel=rbf;, score=0.441 total time=   0.5s\n",
      "[CV 2/5] END .....C=0.1, gamma=0.01, kernel=rbf;, score=0.434 total time=   0.6s\n",
      "[CV 3/5] END .....C=0.1, gamma=0.01, kernel=rbf;, score=0.454 total time=   0.5s\n",
      "[CV 4/5] END .....C=0.1, gamma=0.01, kernel=rbf;, score=0.451 total time=   0.5s\n",
      "[CV 5/5] END .....C=0.1, gamma=0.01, kernel=rbf;, score=0.447 total time=   0.5s\n",
      "[CV 1/5] END ....C=0.1, gamma=0.001, kernel=rbf;, score=0.399 total time=   0.6s\n",
      "[CV 2/5] END ....C=0.1, gamma=0.001, kernel=rbf;, score=0.399 total time=   0.7s\n",
      "[CV 3/5] END ....C=0.1, gamma=0.001, kernel=rbf;, score=0.399 total time=   0.6s\n",
      "[CV 4/5] END ....C=0.1, gamma=0.001, kernel=rbf;, score=0.399 total time=   0.6s\n",
      "[CV 5/5] END ....C=0.1, gamma=0.001, kernel=rbf;, score=0.400 total time=   0.6s\n",
      "[CV 1/5] END ...C=0.1, gamma=0.0001, kernel=rbf;, score=0.399 total time=   0.5s\n",
      "[CV 2/5] END ...C=0.1, gamma=0.0001, kernel=rbf;, score=0.399 total time=   0.5s\n",
      "[CV 3/5] END ...C=0.1, gamma=0.0001, kernel=rbf;, score=0.399 total time=   0.5s\n",
      "[CV 4/5] END ...C=0.1, gamma=0.0001, kernel=rbf;, score=0.399 total time=   0.5s\n",
      "[CV 5/5] END ...C=0.1, gamma=0.0001, kernel=rbf;, score=0.400 total time=   0.5s\n",
      "[CV 1/5] END ..........C=1, gamma=1, kernel=rbf;, score=0.724 total time=   0.9s\n",
      "[CV 2/5] END ..........C=1, gamma=1, kernel=rbf;, score=0.704 total time=   0.7s\n",
      "[CV 3/5] END ..........C=1, gamma=1, kernel=rbf;, score=0.721 total time=   0.7s\n",
      "[CV 4/5] END ..........C=1, gamma=1, kernel=rbf;, score=0.713 total time=   0.7s\n",
      "[CV 5/5] END ..........C=1, gamma=1, kernel=rbf;, score=0.694 total time=   0.7s\n",
      "[CV 1/5] END ........C=1, gamma=0.1, kernel=rbf;, score=0.689 total time=   0.4s\n",
      "[CV 2/5] END ........C=1, gamma=0.1, kernel=rbf;, score=0.683 total time=   0.5s\n",
      "[CV 3/5] END ........C=1, gamma=0.1, kernel=rbf;, score=0.714 total time=   0.5s\n",
      "[CV 4/5] END ........C=1, gamma=0.1, kernel=rbf;, score=0.720 total time=   0.4s\n",
      "[CV 5/5] END ........C=1, gamma=0.1, kernel=rbf;, score=0.699 total time=   0.4s\n",
      "[CV 1/5] END .......C=1, gamma=0.01, kernel=rbf;, score=0.570 total time=   0.5s\n",
      "[CV 2/5] END .......C=1, gamma=0.01, kernel=rbf;, score=0.560 total time=   0.5s\n",
      "[CV 3/5] END .......C=1, gamma=0.01, kernel=rbf;, score=0.581 total time=   0.7s\n",
      "[CV 4/5] END .......C=1, gamma=0.01, kernel=rbf;, score=0.564 total time=   0.6s\n",
      "[CV 5/5] END .......C=1, gamma=0.01, kernel=rbf;, score=0.567 total time=   0.5s\n",
      "[CV 1/5] END ......C=1, gamma=0.001, kernel=rbf;, score=0.459 total time=   0.6s\n",
      "[CV 2/5] END ......C=1, gamma=0.001, kernel=rbf;, score=0.439 total time=   0.6s\n",
      "[CV 3/5] END ......C=1, gamma=0.001, kernel=rbf;, score=0.453 total time=   0.6s\n",
      "[CV 4/5] END ......C=1, gamma=0.001, kernel=rbf;, score=0.464 total time=   0.6s\n",
      "[CV 5/5] END ......C=1, gamma=0.001, kernel=rbf;, score=0.439 total time=   0.5s\n",
      "[CV 1/5] END .....C=1, gamma=0.0001, kernel=rbf;, score=0.399 total time=   0.6s\n",
      "[CV 2/5] END .....C=1, gamma=0.0001, kernel=rbf;, score=0.399 total time=   0.5s\n",
      "[CV 3/5] END .....C=1, gamma=0.0001, kernel=rbf;, score=0.399 total time=   0.5s\n",
      "[CV 4/5] END .....C=1, gamma=0.0001, kernel=rbf;, score=0.399 total time=   0.6s\n",
      "[CV 5/5] END .....C=1, gamma=0.0001, kernel=rbf;, score=0.400 total time=   0.6s\n",
      "[CV 1/5] END .........C=10, gamma=1, kernel=rbf;, score=0.769 total time=   0.8s\n",
      "[CV 2/5] END .........C=10, gamma=1, kernel=rbf;, score=0.760 total time=   0.8s\n",
      "[CV 3/5] END .........C=10, gamma=1, kernel=rbf;, score=0.754 total time=   0.7s\n",
      "[CV 4/5] END .........C=10, gamma=1, kernel=rbf;, score=0.749 total time=   0.7s\n",
      "[CV 5/5] END .........C=10, gamma=1, kernel=rbf;, score=0.756 total time=   0.7s\n",
      "[CV 1/5] END .......C=10, gamma=0.1, kernel=rbf;, score=0.814 total time=   0.4s\n",
      "[CV 2/5] END .......C=10, gamma=0.1, kernel=rbf;, score=0.786 total time=   0.4s\n",
      "[CV 3/5] END .......C=10, gamma=0.1, kernel=rbf;, score=0.826 total time=   0.4s\n",
      "[CV 4/5] END .......C=10, gamma=0.1, kernel=rbf;, score=0.823 total time=   0.4s\n",
      "[CV 5/5] END .......C=10, gamma=0.1, kernel=rbf;, score=0.796 total time=   0.4s\n",
      "[CV 1/5] END ......C=10, gamma=0.01, kernel=rbf;, score=0.694 total time=   0.4s\n",
      "[CV 2/5] END ......C=10, gamma=0.01, kernel=rbf;, score=0.699 total time=   0.4s\n",
      "[CV 3/5] END ......C=10, gamma=0.01, kernel=rbf;, score=0.727 total time=   0.5s\n",
      "[CV 4/5] END ......C=10, gamma=0.01, kernel=rbf;, score=0.730 total time=   0.4s\n",
      "[CV 5/5] END ......C=10, gamma=0.01, kernel=rbf;, score=0.711 total time=   0.5s\n",
      "[CV 1/5] END .....C=10, gamma=0.001, kernel=rbf;, score=0.591 total time=   0.6s\n",
      "[CV 2/5] END .....C=10, gamma=0.001, kernel=rbf;, score=0.583 total time=   0.5s\n",
      "[CV 3/5] END .....C=10, gamma=0.001, kernel=rbf;, score=0.584 total time=   0.5s\n",
      "[CV 4/5] END .....C=10, gamma=0.001, kernel=rbf;, score=0.603 total time=   0.5s\n",
      "[CV 5/5] END .....C=10, gamma=0.001, kernel=rbf;, score=0.567 total time=   0.5s\n",
      "[CV 1/5] END ....C=10, gamma=0.0001, kernel=rbf;, score=0.477 total time=   0.6s\n",
      "[CV 2/5] END ....C=10, gamma=0.0001, kernel=rbf;, score=0.459 total time=   0.6s\n",
      "[CV 3/5] END ....C=10, gamma=0.0001, kernel=rbf;, score=0.470 total time=   0.6s\n",
      "[CV 4/5] END ....C=10, gamma=0.0001, kernel=rbf;, score=0.471 total time=   0.6s\n",
      "[CV 5/5] END ....C=10, gamma=0.0001, kernel=rbf;, score=0.459 total time=   0.5s\n",
      "[CV 1/5] END ........C=100, gamma=1, kernel=rbf;, score=0.779 total time=   0.8s\n",
      "[CV 2/5] END ........C=100, gamma=1, kernel=rbf;, score=0.760 total time=   0.8s\n",
      "[CV 3/5] END ........C=100, gamma=1, kernel=rbf;, score=0.770 total time=   0.8s\n",
      "[CV 4/5] END ........C=100, gamma=1, kernel=rbf;, score=0.761 total time=   0.8s\n",
      "[CV 5/5] END ........C=100, gamma=1, kernel=rbf;, score=0.756 total time=   0.8s\n",
      "[CV 1/5] END ......C=100, gamma=0.1, kernel=rbf;, score=0.849 total time=   0.4s\n",
      "[CV 2/5] END ......C=100, gamma=0.1, kernel=rbf;, score=0.816 total time=   0.4s\n",
      "[CV 3/5] END ......C=100, gamma=0.1, kernel=rbf;, score=0.847 total time=   0.4s\n",
      "[CV 4/5] END ......C=100, gamma=0.1, kernel=rbf;, score=0.861 total time=   0.4s\n",
      "[CV 5/5] END ......C=100, gamma=0.1, kernel=rbf;, score=0.831 total time=   0.4s\n",
      "[CV 1/5] END .....C=100, gamma=0.01, kernel=rbf;, score=0.810 total time=   0.5s\n",
      "[CV 2/5] END .....C=100, gamma=0.01, kernel=rbf;, score=0.787 total time=   0.5s\n",
      "[CV 3/5] END .....C=100, gamma=0.01, kernel=rbf;, score=0.833 total time=   0.5s\n",
      "[CV 4/5] END .....C=100, gamma=0.01, kernel=rbf;, score=0.834 total time=   0.5s\n",
      "[CV 5/5] END .....C=100, gamma=0.01, kernel=rbf;, score=0.803 total time=   0.5s\n",
      "[CV 1/5] END ....C=100, gamma=0.001, kernel=rbf;, score=0.651 total time=   0.6s\n",
      "[CV 2/5] END ....C=100, gamma=0.001, kernel=rbf;, score=0.673 total time=   0.5s\n",
      "[CV 3/5] END ....C=100, gamma=0.001, kernel=rbf;, score=0.680 total time=   0.6s\n",
      "[CV 4/5] END ....C=100, gamma=0.001, kernel=rbf;, score=0.683 total time=   0.7s\n",
      "[CV 5/5] END ....C=100, gamma=0.001, kernel=rbf;, score=0.673 total time=   0.6s\n",
      "[CV 1/5] END ...C=100, gamma=0.0001, kernel=rbf;, score=0.574 total time=   0.6s\n",
      "[CV 2/5] END ...C=100, gamma=0.0001, kernel=rbf;, score=0.564 total time=   0.6s\n",
      "[CV 3/5] END ...C=100, gamma=0.0001, kernel=rbf;, score=0.563 total time=   0.6s\n",
      "[CV 4/5] END ...C=100, gamma=0.0001, kernel=rbf;, score=0.567 total time=   0.6s\n",
      "[CV 5/5] END ...C=100, gamma=0.0001, kernel=rbf;, score=0.557 total time=   0.7s\n",
      "[CV 1/5] END .......C=1000, gamma=1, kernel=rbf;, score=0.777 total time=   0.9s\n",
      "[CV 2/5] END .......C=1000, gamma=1, kernel=rbf;, score=0.763 total time=   0.9s\n",
      "[CV 3/5] END .......C=1000, gamma=1, kernel=rbf;, score=0.776 total time=   0.8s\n",
      "[CV 4/5] END .......C=1000, gamma=1, kernel=rbf;, score=0.763 total time=   0.9s\n",
      "[CV 5/5] END .......C=1000, gamma=1, kernel=rbf;, score=0.756 total time=   0.9s\n",
      "[CV 1/5] END .....C=1000, gamma=0.1, kernel=rbf;, score=0.849 total time=   0.6s\n",
      "[CV 2/5] END .....C=1000, gamma=0.1, kernel=rbf;, score=0.814 total time=   0.5s\n",
      "[CV 3/5] END .....C=1000, gamma=0.1, kernel=rbf;, score=0.857 total time=   0.6s\n",
      "[CV 4/5] END .....C=1000, gamma=0.1, kernel=rbf;, score=0.849 total time=   0.5s\n",
      "[CV 5/5] END .....C=1000, gamma=0.1, kernel=rbf;, score=0.830 total time=   0.6s\n",
      "[CV 1/5] END ....C=1000, gamma=0.01, kernel=rbf;, score=0.830 total time=   1.3s\n",
      "[CV 2/5] END ....C=1000, gamma=0.01, kernel=rbf;, score=0.810 total time=   1.4s\n",
      "[CV 3/5] END ....C=1000, gamma=0.01, kernel=rbf;, score=0.864 total time=   1.3s\n",
      "[CV 4/5] END ....C=1000, gamma=0.01, kernel=rbf;, score=0.856 total time=   1.3s\n",
      "[CV 5/5] END ....C=1000, gamma=0.01, kernel=rbf;, score=0.834 total time=   1.3s\n",
      "[CV 1/5] END ...C=1000, gamma=0.001, kernel=rbf;, score=0.703 total time=   0.9s\n",
      "[CV 2/5] END ...C=1000, gamma=0.001, kernel=rbf;, score=0.716 total time=   0.8s\n",
      "[CV 3/5] END ...C=1000, gamma=0.001, kernel=rbf;, score=0.724 total time=   1.0s\n",
      "[CV 4/5] END ...C=1000, gamma=0.001, kernel=rbf;, score=0.727 total time=   0.9s\n",
      "[CV 5/5] END ...C=1000, gamma=0.001, kernel=rbf;, score=0.737 total time=   0.8s\n",
      "[CV 1/5] END ..C=1000, gamma=0.0001, kernel=rbf;, score=0.660 total time=   0.7s\n",
      "[CV 2/5] END ..C=1000, gamma=0.0001, kernel=rbf;, score=0.657 total time=   0.7s\n",
      "[CV 3/5] END ..C=1000, gamma=0.0001, kernel=rbf;, score=0.666 total time=   0.9s\n",
      "[CV 4/5] END ..C=1000, gamma=0.0001, kernel=rbf;, score=0.667 total time=   1.0s\n",
      "[CV 5/5] END ..C=1000, gamma=0.0001, kernel=rbf;, score=0.653 total time=   0.6s\n",
      "GridSearchCV  Accuracy:  0.8546666666666667\n"
     ]
    }
   ],
   "source": [
    "param_grid = {'C': [0.1, 1, 10, 100, 1000], 'gamma': [1, 0.1, 0.01, 0.001, 0.0001], 'kernel': ['rbf']}\n",
    "grid = GridSearchCV(SVC(random_state=2022), param_grid, refit=True, verbose=3)\n",
    "grid.fit(x_training, y_training)\n",
    "grid_predictions = grid.predict(x_testing)\n",
    "\n",
    "printOrWrite(\"GridSearchCV\", grid_predictions, y_testing, results_to_test)"
   ]
  },
  {
   "cell_type": "code",
   "execution_count": 421,
   "metadata": {},
   "outputs": [
    {
     "name": "stdout",
     "output_type": "stream",
     "text": [
      "CrossValidation  Accuracy:  0.8546666666666667\n"
     ]
    }
   ],
   "source": [
    "df_feat = pd.DataFrame(x_training, columns=x_training.columns)\n",
    "df_target = pd.DataFrame(y_training, columns=['incidents'])\n",
    "# 10-Fold Cross Validation\n",
    "cross_valid_model = SVC(random_state=2022)\n",
    "cross_val_score(cross_valid_model, df_feat, np.ravel(df_target), cv=10)\n",
    "\n",
    "printOrWrite(\"CrossValidation\", grid_predictions, y_testing, results_to_test)"
   ]
  },
  {
   "attachments": {},
   "cell_type": "markdown",
   "metadata": {},
   "source": [
    "### 5.13 Neural Network"
   ]
  },
  {
   "cell_type": "code",
   "execution_count": 422,
   "metadata": {},
   "outputs": [
    {
     "name": "stdout",
     "output_type": "stream",
     "text": [
      "Epoch 1/200\n",
      "99/99 [==============================] - 1s 5ms/step - loss: 1.4087 - accuracy: 0.4111 - val_loss: 1.3576 - val_accuracy: 0.4486\n",
      "Epoch 2/200\n",
      "99/99 [==============================] - 0s 2ms/step - loss: 1.2918 - accuracy: 0.4781 - val_loss: 1.2640 - val_accuracy: 0.5286\n",
      "Epoch 3/200\n",
      "99/99 [==============================] - 0s 3ms/step - loss: 1.1882 - accuracy: 0.5384 - val_loss: 1.2025 - val_accuracy: 0.5429\n",
      "Epoch 4/200\n",
      "99/99 [==============================] - 0s 3ms/step - loss: 1.1013 - accuracy: 0.5803 - val_loss: 1.1792 - val_accuracy: 0.5600\n",
      "Epoch 5/200\n",
      "99/99 [==============================] - 0s 3ms/step - loss: 1.0415 - accuracy: 0.5911 - val_loss: 1.0111 - val_accuracy: 0.6086\n",
      "Epoch 6/200\n",
      "99/99 [==============================] - 0s 2ms/step - loss: 1.0068 - accuracy: 0.6067 - val_loss: 0.9734 - val_accuracy: 0.6771\n",
      "Epoch 7/200\n",
      "99/99 [==============================] - 0s 2ms/step - loss: 0.9670 - accuracy: 0.6143 - val_loss: 0.9295 - val_accuracy: 0.6600\n",
      "Epoch 8/200\n",
      "99/99 [==============================] - 0s 2ms/step - loss: 0.9444 - accuracy: 0.6330 - val_loss: 0.9010 - val_accuracy: 0.6771\n",
      "Epoch 9/200\n",
      "99/99 [==============================] - 0s 3ms/step - loss: 0.8953 - accuracy: 0.6546 - val_loss: 0.8772 - val_accuracy: 0.6629\n",
      "Epoch 10/200\n",
      "99/99 [==============================] - 0s 2ms/step - loss: 0.8839 - accuracy: 0.6562 - val_loss: 0.8264 - val_accuracy: 0.6943\n",
      "Epoch 11/200\n",
      "99/99 [==============================] - 0s 3ms/step - loss: 0.8617 - accuracy: 0.6635 - val_loss: 0.8281 - val_accuracy: 0.7086\n",
      "Epoch 12/200\n",
      "99/99 [==============================] - 0s 3ms/step - loss: 0.8165 - accuracy: 0.6762 - val_loss: 0.8011 - val_accuracy: 0.7286\n",
      "Epoch 13/200\n",
      "99/99 [==============================] - 0s 2ms/step - loss: 0.7969 - accuracy: 0.6857 - val_loss: 0.7503 - val_accuracy: 0.7200\n",
      "Epoch 14/200\n",
      "99/99 [==============================] - 0s 3ms/step - loss: 0.7746 - accuracy: 0.6943 - val_loss: 0.7483 - val_accuracy: 0.7429\n",
      "Epoch 15/200\n",
      "99/99 [==============================] - 0s 2ms/step - loss: 0.7724 - accuracy: 0.6914 - val_loss: 0.7370 - val_accuracy: 0.7514\n",
      "Epoch 16/200\n",
      "99/99 [==============================] - 0s 2ms/step - loss: 0.7514 - accuracy: 0.7051 - val_loss: 0.7201 - val_accuracy: 0.7343\n",
      "Epoch 17/200\n",
      "99/99 [==============================] - 0s 3ms/step - loss: 0.7203 - accuracy: 0.7171 - val_loss: 0.7006 - val_accuracy: 0.7229\n",
      "Epoch 18/200\n",
      "99/99 [==============================] - 0s 3ms/step - loss: 0.7103 - accuracy: 0.7260 - val_loss: 0.6886 - val_accuracy: 0.7400\n",
      "Epoch 19/200\n",
      "99/99 [==============================] - 0s 2ms/step - loss: 0.6840 - accuracy: 0.7317 - val_loss: 0.6948 - val_accuracy: 0.7429\n",
      "Epoch 20/200\n",
      "99/99 [==============================] - 0s 3ms/step - loss: 0.6775 - accuracy: 0.7362 - val_loss: 0.7822 - val_accuracy: 0.7171\n",
      "Epoch 21/200\n",
      "99/99 [==============================] - 0s 3ms/step - loss: 0.6754 - accuracy: 0.7460 - val_loss: 0.6621 - val_accuracy: 0.7543\n",
      "Epoch 22/200\n",
      "99/99 [==============================] - 0s 3ms/step - loss: 0.6444 - accuracy: 0.7562 - val_loss: 0.6429 - val_accuracy: 0.7657\n",
      "Epoch 23/200\n",
      "99/99 [==============================] - 0s 3ms/step - loss: 0.6462 - accuracy: 0.7460 - val_loss: 0.6237 - val_accuracy: 0.7743\n",
      "Epoch 24/200\n",
      "99/99 [==============================] - 0s 3ms/step - loss: 0.6033 - accuracy: 0.7702 - val_loss: 0.5932 - val_accuracy: 0.7886\n",
      "Epoch 25/200\n",
      "99/99 [==============================] - 0s 3ms/step - loss: 0.6173 - accuracy: 0.7613 - val_loss: 0.6193 - val_accuracy: 0.7629\n",
      "Epoch 26/200\n",
      "99/99 [==============================] - 0s 2ms/step - loss: 0.5793 - accuracy: 0.7749 - val_loss: 0.5880 - val_accuracy: 0.7571\n",
      "Epoch 27/200\n",
      "99/99 [==============================] - 0s 2ms/step - loss: 0.5758 - accuracy: 0.7838 - val_loss: 0.5801 - val_accuracy: 0.7800\n",
      "Epoch 28/200\n",
      "99/99 [==============================] - 0s 3ms/step - loss: 0.5754 - accuracy: 0.7854 - val_loss: 0.5893 - val_accuracy: 0.7771\n",
      "Epoch 29/200\n",
      "99/99 [==============================] - 0s 2ms/step - loss: 0.5529 - accuracy: 0.7965 - val_loss: 0.5734 - val_accuracy: 0.7543\n",
      "Epoch 30/200\n",
      "99/99 [==============================] - 0s 2ms/step - loss: 0.5402 - accuracy: 0.7965 - val_loss: 0.6181 - val_accuracy: 0.7286\n",
      "Epoch 31/200\n",
      "99/99 [==============================] - 0s 2ms/step - loss: 0.5440 - accuracy: 0.7860 - val_loss: 0.5678 - val_accuracy: 0.7714\n",
      "Epoch 32/200\n",
      "99/99 [==============================] - 0s 2ms/step - loss: 0.5536 - accuracy: 0.7956 - val_loss: 0.6494 - val_accuracy: 0.7657\n",
      "Epoch 33/200\n",
      "99/99 [==============================] - 0s 2ms/step - loss: 0.5232 - accuracy: 0.7987 - val_loss: 0.5357 - val_accuracy: 0.7971\n",
      "Epoch 34/200\n",
      "99/99 [==============================] - 0s 2ms/step - loss: 0.5181 - accuracy: 0.7956 - val_loss: 0.5576 - val_accuracy: 0.8114\n",
      "Epoch 35/200\n",
      "99/99 [==============================] - 0s 2ms/step - loss: 0.5177 - accuracy: 0.8051 - val_loss: 0.5027 - val_accuracy: 0.7971\n",
      "Epoch 36/200\n",
      "99/99 [==============================] - 0s 2ms/step - loss: 0.5034 - accuracy: 0.8108 - val_loss: 0.5434 - val_accuracy: 0.7943\n",
      "Epoch 37/200\n",
      "99/99 [==============================] - 0s 2ms/step - loss: 0.4993 - accuracy: 0.7987 - val_loss: 0.5747 - val_accuracy: 0.7800\n",
      "Epoch 38/200\n",
      "99/99 [==============================] - 0s 2ms/step - loss: 0.4799 - accuracy: 0.8124 - val_loss: 0.5320 - val_accuracy: 0.7829\n",
      "Epoch 39/200\n",
      "99/99 [==============================] - 0s 2ms/step - loss: 0.4790 - accuracy: 0.8117 - val_loss: 0.4642 - val_accuracy: 0.8143\n",
      "Epoch 40/200\n",
      "99/99 [==============================] - 0s 2ms/step - loss: 0.4826 - accuracy: 0.8222 - val_loss: 0.5308 - val_accuracy: 0.7857\n",
      "Epoch 41/200\n",
      "99/99 [==============================] - 0s 2ms/step - loss: 0.4586 - accuracy: 0.8276 - val_loss: 0.5049 - val_accuracy: 0.7971\n",
      "Epoch 42/200\n",
      "99/99 [==============================] - 0s 2ms/step - loss: 0.4641 - accuracy: 0.8210 - val_loss: 0.4734 - val_accuracy: 0.7971\n",
      "Epoch 43/200\n",
      "99/99 [==============================] - 0s 2ms/step - loss: 0.4734 - accuracy: 0.8187 - val_loss: 0.4896 - val_accuracy: 0.8057\n",
      "Epoch 44/200\n",
      "99/99 [==============================] - 0s 2ms/step - loss: 0.4434 - accuracy: 0.8292 - val_loss: 0.5826 - val_accuracy: 0.7314\n",
      "Epoch 45/200\n",
      "99/99 [==============================] - 0s 2ms/step - loss: 0.4441 - accuracy: 0.8244 - val_loss: 0.5023 - val_accuracy: 0.8057\n",
      "Epoch 46/200\n",
      "99/99 [==============================] - 0s 2ms/step - loss: 0.4383 - accuracy: 0.8283 - val_loss: 0.6840 - val_accuracy: 0.7514\n",
      "Epoch 47/200\n",
      "99/99 [==============================] - 0s 2ms/step - loss: 0.4446 - accuracy: 0.8321 - val_loss: 0.4730 - val_accuracy: 0.8229\n",
      "Epoch 48/200\n",
      "99/99 [==============================] - 0s 3ms/step - loss: 0.4118 - accuracy: 0.8368 - val_loss: 0.4601 - val_accuracy: 0.8314\n",
      "Epoch 49/200\n",
      "99/99 [==============================] - 0s 2ms/step - loss: 0.4234 - accuracy: 0.8381 - val_loss: 0.4486 - val_accuracy: 0.8257\n",
      "Epoch 50/200\n",
      "99/99 [==============================] - 0s 2ms/step - loss: 0.4055 - accuracy: 0.8400 - val_loss: 0.4676 - val_accuracy: 0.8114\n",
      "Epoch 51/200\n",
      "99/99 [==============================] - 0s 2ms/step - loss: 0.4196 - accuracy: 0.8371 - val_loss: 0.4845 - val_accuracy: 0.7829\n",
      "Epoch 52/200\n",
      "99/99 [==============================] - 0s 2ms/step - loss: 0.4091 - accuracy: 0.8384 - val_loss: 0.5564 - val_accuracy: 0.7629\n",
      "Epoch 53/200\n",
      "99/99 [==============================] - 0s 2ms/step - loss: 0.4162 - accuracy: 0.8352 - val_loss: 0.4416 - val_accuracy: 0.8286\n",
      "Epoch 54/200\n",
      "99/99 [==============================] - 0s 2ms/step - loss: 0.4277 - accuracy: 0.8349 - val_loss: 0.4758 - val_accuracy: 0.8000\n",
      "Epoch 55/200\n",
      "99/99 [==============================] - 0s 2ms/step - loss: 0.3817 - accuracy: 0.8521 - val_loss: 0.4670 - val_accuracy: 0.8143\n",
      "Epoch 56/200\n",
      "99/99 [==============================] - 0s 2ms/step - loss: 0.3875 - accuracy: 0.8495 - val_loss: 0.4350 - val_accuracy: 0.8286\n",
      "Epoch 57/200\n",
      "99/99 [==============================] - 0s 2ms/step - loss: 0.3989 - accuracy: 0.8403 - val_loss: 0.4887 - val_accuracy: 0.8057\n",
      "Epoch 58/200\n",
      "99/99 [==============================] - 0s 2ms/step - loss: 0.3815 - accuracy: 0.8483 - val_loss: 0.5561 - val_accuracy: 0.8029\n",
      "Epoch 59/200\n",
      "99/99 [==============================] - 0s 2ms/step - loss: 0.3770 - accuracy: 0.8521 - val_loss: 0.4350 - val_accuracy: 0.8114\n",
      "Epoch 60/200\n",
      "99/99 [==============================] - 0s 2ms/step - loss: 0.3896 - accuracy: 0.8470 - val_loss: 0.4753 - val_accuracy: 0.8200\n",
      "Epoch 61/200\n",
      "99/99 [==============================] - 0s 2ms/step - loss: 0.3648 - accuracy: 0.8530 - val_loss: 0.4410 - val_accuracy: 0.8229\n",
      "Epoch 62/200\n",
      "99/99 [==============================] - 0s 2ms/step - loss: 0.3871 - accuracy: 0.8517 - val_loss: 0.5194 - val_accuracy: 0.8000\n",
      "Epoch 63/200\n",
      "99/99 [==============================] - 0s 2ms/step - loss: 0.3712 - accuracy: 0.8473 - val_loss: 0.4574 - val_accuracy: 0.8114\n",
      "Epoch 64/200\n",
      "99/99 [==============================] - 0s 2ms/step - loss: 0.3710 - accuracy: 0.8543 - val_loss: 0.6180 - val_accuracy: 0.7743\n",
      "Epoch 65/200\n",
      "99/99 [==============================] - 0s 3ms/step - loss: 0.3612 - accuracy: 0.8562 - val_loss: 0.4487 - val_accuracy: 0.8286\n",
      "Epoch 66/200\n",
      "99/99 [==============================] - 0s 2ms/step - loss: 0.3516 - accuracy: 0.8556 - val_loss: 0.4038 - val_accuracy: 0.8314\n",
      "Epoch 67/200\n",
      "99/99 [==============================] - 0s 2ms/step - loss: 0.3678 - accuracy: 0.8537 - val_loss: 0.4505 - val_accuracy: 0.8286\n",
      "Epoch 68/200\n",
      "99/99 [==============================] - 0s 2ms/step - loss: 0.3534 - accuracy: 0.8603 - val_loss: 0.4787 - val_accuracy: 0.8143\n",
      "Epoch 69/200\n",
      "99/99 [==============================] - 0s 3ms/step - loss: 0.3531 - accuracy: 0.8600 - val_loss: 0.4509 - val_accuracy: 0.8200\n",
      "Epoch 70/200\n",
      "99/99 [==============================] - 0s 2ms/step - loss: 0.3452 - accuracy: 0.8663 - val_loss: 0.4551 - val_accuracy: 0.8229\n",
      "Epoch 71/200\n",
      "99/99 [==============================] - 0s 3ms/step - loss: 0.3783 - accuracy: 0.8470 - val_loss: 0.4428 - val_accuracy: 0.8257\n",
      "Epoch 72/200\n",
      "99/99 [==============================] - 0s 2ms/step - loss: 0.3615 - accuracy: 0.8575 - val_loss: 0.4352 - val_accuracy: 0.8400\n",
      "Epoch 73/200\n",
      "99/99 [==============================] - 0s 2ms/step - loss: 0.3446 - accuracy: 0.8597 - val_loss: 0.4383 - val_accuracy: 0.8314\n",
      "Epoch 74/200\n",
      "99/99 [==============================] - 0s 2ms/step - loss: 0.3492 - accuracy: 0.8622 - val_loss: 0.4711 - val_accuracy: 0.8257\n",
      "Epoch 75/200\n",
      "99/99 [==============================] - 0s 2ms/step - loss: 0.3460 - accuracy: 0.8651 - val_loss: 0.4045 - val_accuracy: 0.8371\n",
      "Epoch 76/200\n",
      "99/99 [==============================] - 0s 2ms/step - loss: 0.3520 - accuracy: 0.8613 - val_loss: 0.4725 - val_accuracy: 0.8143\n",
      "Epoch 77/200\n",
      "99/99 [==============================] - 0s 2ms/step - loss: 0.3395 - accuracy: 0.8549 - val_loss: 0.4521 - val_accuracy: 0.8257\n",
      "Epoch 78/200\n",
      "99/99 [==============================] - 0s 2ms/step - loss: 0.3346 - accuracy: 0.8663 - val_loss: 0.4159 - val_accuracy: 0.8371\n",
      "Epoch 79/200\n",
      "99/99 [==============================] - 0s 2ms/step - loss: 0.3394 - accuracy: 0.8711 - val_loss: 0.5188 - val_accuracy: 0.8200\n",
      "Epoch 80/200\n",
      "99/99 [==============================] - 0s 2ms/step - loss: 0.3427 - accuracy: 0.8641 - val_loss: 0.4304 - val_accuracy: 0.8229\n",
      "Epoch 81/200\n",
      "99/99 [==============================] - 0s 2ms/step - loss: 0.3276 - accuracy: 0.8730 - val_loss: 0.4170 - val_accuracy: 0.8371\n",
      "Epoch 82/200\n",
      "99/99 [==============================] - 0s 2ms/step - loss: 0.3140 - accuracy: 0.8737 - val_loss: 0.4173 - val_accuracy: 0.8371\n",
      "Epoch 83/200\n",
      "99/99 [==============================] - 0s 2ms/step - loss: 0.3223 - accuracy: 0.8721 - val_loss: 0.4220 - val_accuracy: 0.8371\n",
      "Epoch 84/200\n",
      "99/99 [==============================] - 0s 2ms/step - loss: 0.3095 - accuracy: 0.8832 - val_loss: 0.4464 - val_accuracy: 0.8257\n",
      "Epoch 85/200\n",
      "99/99 [==============================] - 0s 3ms/step - loss: 0.3276 - accuracy: 0.8721 - val_loss: 0.4172 - val_accuracy: 0.8486\n",
      "Epoch 86/200\n",
      "99/99 [==============================] - 0s 2ms/step - loss: 0.3294 - accuracy: 0.8676 - val_loss: 0.4391 - val_accuracy: 0.8343\n",
      "Epoch 87/200\n",
      "99/99 [==============================] - 0s 2ms/step - loss: 0.3244 - accuracy: 0.8743 - val_loss: 0.4668 - val_accuracy: 0.8229\n",
      "Epoch 88/200\n",
      "99/99 [==============================] - 0s 2ms/step - loss: 0.3300 - accuracy: 0.8740 - val_loss: 0.4375 - val_accuracy: 0.8371\n",
      "Epoch 89/200\n",
      "99/99 [==============================] - 0s 2ms/step - loss: 0.3220 - accuracy: 0.8727 - val_loss: 0.4554 - val_accuracy: 0.8486\n",
      "Epoch 90/200\n",
      "99/99 [==============================] - 0s 2ms/step - loss: 0.3127 - accuracy: 0.8797 - val_loss: 0.4274 - val_accuracy: 0.8314\n",
      "Epoch 91/200\n",
      "99/99 [==============================] - 0s 2ms/step - loss: 0.3109 - accuracy: 0.8740 - val_loss: 0.3963 - val_accuracy: 0.8429\n",
      "Epoch 92/200\n",
      "99/99 [==============================] - 0s 2ms/step - loss: 0.2896 - accuracy: 0.8873 - val_loss: 0.4346 - val_accuracy: 0.8486\n",
      "Epoch 93/200\n",
      "99/99 [==============================] - 0s 2ms/step - loss: 0.2840 - accuracy: 0.8863 - val_loss: 0.4567 - val_accuracy: 0.8286\n",
      "Epoch 94/200\n",
      "99/99 [==============================] - 0s 2ms/step - loss: 0.3044 - accuracy: 0.8835 - val_loss: 0.4390 - val_accuracy: 0.8400\n",
      "Epoch 95/200\n",
      "99/99 [==============================] - 0s 2ms/step - loss: 0.3330 - accuracy: 0.8708 - val_loss: 0.5215 - val_accuracy: 0.8000\n",
      "Epoch 96/200\n",
      "99/99 [==============================] - 0s 2ms/step - loss: 0.3248 - accuracy: 0.8711 - val_loss: 0.5254 - val_accuracy: 0.8114\n",
      "Epoch 97/200\n",
      "99/99 [==============================] - 0s 2ms/step - loss: 0.3354 - accuracy: 0.8711 - val_loss: 0.4236 - val_accuracy: 0.8429\n",
      "Epoch 98/200\n",
      "99/99 [==============================] - 0s 2ms/step - loss: 0.3242 - accuracy: 0.8708 - val_loss: 0.4944 - val_accuracy: 0.8286\n",
      "Epoch 99/200\n",
      "99/99 [==============================] - 0s 2ms/step - loss: 0.2834 - accuracy: 0.8857 - val_loss: 0.4291 - val_accuracy: 0.8457\n",
      "Epoch 100/200\n",
      "99/99 [==============================] - 0s 2ms/step - loss: 0.2930 - accuracy: 0.8829 - val_loss: 0.4672 - val_accuracy: 0.8171\n",
      "Epoch 101/200\n",
      "99/99 [==============================] - 0s 3ms/step - loss: 0.2905 - accuracy: 0.8810 - val_loss: 0.3985 - val_accuracy: 0.8343\n",
      "Epoch 102/200\n",
      "99/99 [==============================] - 0s 2ms/step - loss: 0.2799 - accuracy: 0.8892 - val_loss: 0.4394 - val_accuracy: 0.8286\n",
      "Epoch 103/200\n",
      "99/99 [==============================] - 0s 2ms/step - loss: 0.2856 - accuracy: 0.8863 - val_loss: 0.4648 - val_accuracy: 0.8343\n",
      "Epoch 104/200\n",
      "99/99 [==============================] - 0s 2ms/step - loss: 0.2875 - accuracy: 0.8832 - val_loss: 0.5948 - val_accuracy: 0.7714\n",
      "Epoch 105/200\n",
      "99/99 [==============================] - 0s 2ms/step - loss: 0.3043 - accuracy: 0.8825 - val_loss: 0.5547 - val_accuracy: 0.8057\n",
      "Epoch 106/200\n",
      "99/99 [==============================] - 0s 2ms/step - loss: 0.2942 - accuracy: 0.8778 - val_loss: 0.4389 - val_accuracy: 0.8457\n",
      "Epoch 107/200\n",
      "99/99 [==============================] - 0s 2ms/step - loss: 0.2945 - accuracy: 0.8803 - val_loss: 0.4671 - val_accuracy: 0.8371\n",
      "Epoch 108/200\n",
      "99/99 [==============================] - 0s 2ms/step - loss: 0.2739 - accuracy: 0.8902 - val_loss: 0.4458 - val_accuracy: 0.8343\n",
      "Epoch 109/200\n",
      "99/99 [==============================] - 0s 2ms/step - loss: 0.2912 - accuracy: 0.8867 - val_loss: 0.4008 - val_accuracy: 0.8286\n",
      "Epoch 110/200\n",
      "99/99 [==============================] - 0s 2ms/step - loss: 0.2768 - accuracy: 0.8927 - val_loss: 0.4328 - val_accuracy: 0.8257\n",
      "Epoch 111/200\n",
      "99/99 [==============================] - 0s 2ms/step - loss: 0.2981 - accuracy: 0.8800 - val_loss: 0.5272 - val_accuracy: 0.8000\n",
      "Epoch 112/200\n",
      "99/99 [==============================] - 0s 2ms/step - loss: 0.2703 - accuracy: 0.8879 - val_loss: 0.3799 - val_accuracy: 0.8800\n",
      "Epoch 113/200\n",
      "99/99 [==============================] - 0s 3ms/step - loss: 0.2731 - accuracy: 0.8927 - val_loss: 0.4272 - val_accuracy: 0.8400\n",
      "Epoch 114/200\n",
      "99/99 [==============================] - 0s 2ms/step - loss: 0.2616 - accuracy: 0.8994 - val_loss: 0.4643 - val_accuracy: 0.8314\n",
      "Epoch 115/200\n",
      "99/99 [==============================] - 0s 2ms/step - loss: 0.2841 - accuracy: 0.8863 - val_loss: 0.4265 - val_accuracy: 0.8371\n",
      "Epoch 116/200\n",
      "99/99 [==============================] - 0s 2ms/step - loss: 0.2676 - accuracy: 0.8937 - val_loss: 0.4453 - val_accuracy: 0.8600\n",
      "Epoch 117/200\n",
      "99/99 [==============================] - 0s 2ms/step - loss: 0.2726 - accuracy: 0.8959 - val_loss: 0.4865 - val_accuracy: 0.8400\n",
      "Epoch 118/200\n",
      "99/99 [==============================] - 0s 2ms/step - loss: 0.2813 - accuracy: 0.8908 - val_loss: 0.5222 - val_accuracy: 0.8000\n",
      "Epoch 119/200\n",
      "99/99 [==============================] - 0s 2ms/step - loss: 0.2822 - accuracy: 0.8883 - val_loss: 0.4271 - val_accuracy: 0.8400\n",
      "Epoch 120/200\n",
      "99/99 [==============================] - 0s 2ms/step - loss: 0.2904 - accuracy: 0.8854 - val_loss: 0.4860 - val_accuracy: 0.8371\n",
      "Epoch 121/200\n",
      "99/99 [==============================] - 0s 2ms/step - loss: 0.2548 - accuracy: 0.8971 - val_loss: 0.4038 - val_accuracy: 0.8486\n",
      "Epoch 122/200\n",
      "99/99 [==============================] - 0s 2ms/step - loss: 0.3052 - accuracy: 0.8778 - val_loss: 0.5170 - val_accuracy: 0.8000\n",
      "Epoch 123/200\n",
      "99/99 [==============================] - 0s 2ms/step - loss: 0.2770 - accuracy: 0.8965 - val_loss: 0.4824 - val_accuracy: 0.8400\n",
      "Epoch 124/200\n",
      "99/99 [==============================] - 0s 2ms/step - loss: 0.2777 - accuracy: 0.8860 - val_loss: 0.4696 - val_accuracy: 0.8400\n",
      "Epoch 125/200\n",
      "99/99 [==============================] - 0s 2ms/step - loss: 0.2705 - accuracy: 0.8924 - val_loss: 0.4977 - val_accuracy: 0.8429\n",
      "Epoch 126/200\n",
      "99/99 [==============================] - 0s 2ms/step - loss: 0.2463 - accuracy: 0.9003 - val_loss: 0.4116 - val_accuracy: 0.8486\n",
      "Epoch 127/200\n",
      "99/99 [==============================] - 0s 2ms/step - loss: 0.2519 - accuracy: 0.9035 - val_loss: 0.5011 - val_accuracy: 0.8143\n",
      "Epoch 128/200\n",
      "99/99 [==============================] - 0s 2ms/step - loss: 0.2632 - accuracy: 0.8968 - val_loss: 0.5054 - val_accuracy: 0.8343\n",
      "Epoch 129/200\n",
      "99/99 [==============================] - 0s 2ms/step - loss: 0.2933 - accuracy: 0.8825 - val_loss: 0.5385 - val_accuracy: 0.8200\n",
      "Epoch 130/200\n",
      "99/99 [==============================] - 0s 2ms/step - loss: 0.2709 - accuracy: 0.8933 - val_loss: 0.4740 - val_accuracy: 0.8143\n",
      "Epoch 131/200\n",
      "99/99 [==============================] - 0s 2ms/step - loss: 0.2465 - accuracy: 0.9032 - val_loss: 0.4569 - val_accuracy: 0.8343\n",
      "Epoch 132/200\n",
      "99/99 [==============================] - 0s 2ms/step - loss: 0.2563 - accuracy: 0.9003 - val_loss: 0.4597 - val_accuracy: 0.8571\n",
      "Epoch 133/200\n",
      "99/99 [==============================] - 0s 2ms/step - loss: 0.2937 - accuracy: 0.8790 - val_loss: 0.5300 - val_accuracy: 0.8171\n",
      "Epoch 134/200\n",
      "99/99 [==============================] - 0s 2ms/step - loss: 0.2682 - accuracy: 0.8949 - val_loss: 0.4826 - val_accuracy: 0.8171\n",
      "Epoch 135/200\n",
      "99/99 [==============================] - 0s 2ms/step - loss: 0.2472 - accuracy: 0.9044 - val_loss: 0.4180 - val_accuracy: 0.8400\n",
      "Epoch 136/200\n",
      "99/99 [==============================] - 0s 2ms/step - loss: 0.2667 - accuracy: 0.8946 - val_loss: 0.4232 - val_accuracy: 0.8343\n",
      "Epoch 137/200\n",
      "99/99 [==============================] - 0s 2ms/step - loss: 0.2746 - accuracy: 0.8870 - val_loss: 0.4144 - val_accuracy: 0.8429\n",
      "Epoch 138/200\n",
      "99/99 [==============================] - 0s 2ms/step - loss: 0.2467 - accuracy: 0.9019 - val_loss: 0.4971 - val_accuracy: 0.8400\n",
      "Epoch 139/200\n",
      "99/99 [==============================] - 0s 3ms/step - loss: 0.2662 - accuracy: 0.8956 - val_loss: 0.4714 - val_accuracy: 0.8143\n",
      "Epoch 140/200\n",
      "99/99 [==============================] - 0s 2ms/step - loss: 0.2430 - accuracy: 0.9016 - val_loss: 0.3935 - val_accuracy: 0.8571\n",
      "Epoch 141/200\n",
      "99/99 [==============================] - 0s 2ms/step - loss: 0.2380 - accuracy: 0.9063 - val_loss: 0.4430 - val_accuracy: 0.8343\n",
      "Epoch 142/200\n",
      "99/99 [==============================] - 0s 2ms/step - loss: 0.2913 - accuracy: 0.8908 - val_loss: 0.4852 - val_accuracy: 0.8343\n",
      "Epoch 143/200\n",
      "99/99 [==============================] - 0s 3ms/step - loss: 0.2689 - accuracy: 0.8905 - val_loss: 0.3962 - val_accuracy: 0.8514\n",
      "Epoch 144/200\n",
      "99/99 [==============================] - 0s 2ms/step - loss: 0.2480 - accuracy: 0.9032 - val_loss: 0.6951 - val_accuracy: 0.7857\n",
      "Epoch 145/200\n",
      "99/99 [==============================] - 0s 2ms/step - loss: 0.2464 - accuracy: 0.9019 - val_loss: 0.4924 - val_accuracy: 0.8343\n",
      "Epoch 146/200\n",
      "99/99 [==============================] - 0s 2ms/step - loss: 0.2417 - accuracy: 0.9038 - val_loss: 0.4471 - val_accuracy: 0.8400\n",
      "Epoch 147/200\n",
      "99/99 [==============================] - 0s 3ms/step - loss: 0.2418 - accuracy: 0.9102 - val_loss: 0.4886 - val_accuracy: 0.8314\n",
      "Epoch 148/200\n",
      "99/99 [==============================] - 0s 2ms/step - loss: 0.2494 - accuracy: 0.9013 - val_loss: 0.4564 - val_accuracy: 0.8343\n",
      "Epoch 149/200\n",
      "99/99 [==============================] - 0s 2ms/step - loss: 0.2417 - accuracy: 0.9035 - val_loss: 0.4689 - val_accuracy: 0.8457\n",
      "Epoch 150/200\n",
      "99/99 [==============================] - 0s 3ms/step - loss: 0.2816 - accuracy: 0.8924 - val_loss: 0.4916 - val_accuracy: 0.8400\n",
      "Epoch 151/200\n",
      "99/99 [==============================] - 0s 3ms/step - loss: 0.2454 - accuracy: 0.9067 - val_loss: 0.4501 - val_accuracy: 0.8114\n",
      "Epoch 152/200\n",
      "99/99 [==============================] - 0s 2ms/step - loss: 0.2393 - accuracy: 0.9029 - val_loss: 0.5281 - val_accuracy: 0.8029\n",
      "Epoch 153/200\n",
      "99/99 [==============================] - 0s 2ms/step - loss: 0.2493 - accuracy: 0.9003 - val_loss: 0.5070 - val_accuracy: 0.8371\n",
      "Epoch 154/200\n",
      "99/99 [==============================] - 0s 2ms/step - loss: 0.2450 - accuracy: 0.9003 - val_loss: 0.4181 - val_accuracy: 0.8400\n",
      "Epoch 155/200\n",
      "99/99 [==============================] - 0s 2ms/step - loss: 0.2317 - accuracy: 0.9070 - val_loss: 0.5001 - val_accuracy: 0.8371\n",
      "Epoch 156/200\n",
      "99/99 [==============================] - 0s 2ms/step - loss: 0.2377 - accuracy: 0.9041 - val_loss: 0.4482 - val_accuracy: 0.8343\n",
      "Epoch 157/200\n",
      "99/99 [==============================] - 0s 2ms/step - loss: 0.2487 - accuracy: 0.9000 - val_loss: 0.4241 - val_accuracy: 0.8343\n",
      "Epoch 158/200\n",
      "99/99 [==============================] - 0s 2ms/step - loss: 0.2403 - accuracy: 0.9029 - val_loss: 0.4500 - val_accuracy: 0.8514\n",
      "Epoch 159/200\n",
      "99/99 [==============================] - 0s 2ms/step - loss: 0.2442 - accuracy: 0.9038 - val_loss: 0.4904 - val_accuracy: 0.8457\n",
      "Epoch 160/200\n",
      "99/99 [==============================] - 0s 3ms/step - loss: 0.2760 - accuracy: 0.8908 - val_loss: 0.5230 - val_accuracy: 0.8314\n",
      "Epoch 161/200\n",
      "99/99 [==============================] - 0s 2ms/step - loss: 0.2418 - accuracy: 0.9111 - val_loss: 0.4302 - val_accuracy: 0.8314\n",
      "Epoch 162/200\n",
      "99/99 [==============================] - 0s 2ms/step - loss: 0.2290 - accuracy: 0.9095 - val_loss: 0.4746 - val_accuracy: 0.8343\n",
      "Epoch 163/200\n",
      "99/99 [==============================] - 0s 2ms/step - loss: 0.2289 - accuracy: 0.9149 - val_loss: 0.4830 - val_accuracy: 0.8343\n",
      "Epoch 164/200\n",
      "99/99 [==============================] - 0s 2ms/step - loss: 0.2576 - accuracy: 0.8984 - val_loss: 0.4505 - val_accuracy: 0.8514\n",
      "Epoch 165/200\n",
      "99/99 [==============================] - 0s 2ms/step - loss: 0.2332 - accuracy: 0.9111 - val_loss: 0.4820 - val_accuracy: 0.8229\n",
      "Epoch 166/200\n",
      "99/99 [==============================] - 0s 2ms/step - loss: 0.2489 - accuracy: 0.9016 - val_loss: 0.4592 - val_accuracy: 0.8400\n",
      "Epoch 167/200\n",
      "99/99 [==============================] - 0s 2ms/step - loss: 0.2289 - accuracy: 0.9114 - val_loss: 0.5598 - val_accuracy: 0.8229\n",
      "Epoch 168/200\n",
      "99/99 [==============================] - 0s 2ms/step - loss: 0.2542 - accuracy: 0.8978 - val_loss: 0.4559 - val_accuracy: 0.8171\n",
      "Epoch 169/200\n",
      "99/99 [==============================] - 0s 2ms/step - loss: 0.2434 - accuracy: 0.9035 - val_loss: 0.4424 - val_accuracy: 0.8429\n",
      "Epoch 170/200\n",
      "99/99 [==============================] - 0s 2ms/step - loss: 0.2336 - accuracy: 0.9067 - val_loss: 0.4615 - val_accuracy: 0.8343\n",
      "Epoch 171/200\n",
      "99/99 [==============================] - 0s 2ms/step - loss: 0.2318 - accuracy: 0.9086 - val_loss: 0.4523 - val_accuracy: 0.8314\n",
      "Epoch 172/200\n",
      "99/99 [==============================] - 0s 2ms/step - loss: 0.2268 - accuracy: 0.9108 - val_loss: 0.6044 - val_accuracy: 0.8143\n",
      "Epoch 173/200\n",
      "99/99 [==============================] - 0s 2ms/step - loss: 0.2478 - accuracy: 0.9067 - val_loss: 0.4896 - val_accuracy: 0.8200\n",
      "Epoch 174/200\n",
      "99/99 [==============================] - 0s 2ms/step - loss: 0.2370 - accuracy: 0.9003 - val_loss: 0.4342 - val_accuracy: 0.8457\n",
      "Epoch 175/200\n",
      "99/99 [==============================] - 0s 2ms/step - loss: 0.2419 - accuracy: 0.9089 - val_loss: 0.5449 - val_accuracy: 0.8257\n",
      "Epoch 176/200\n",
      "99/99 [==============================] - 0s 2ms/step - loss: 0.2366 - accuracy: 0.9010 - val_loss: 0.5895 - val_accuracy: 0.8000\n",
      "Epoch 177/200\n",
      "99/99 [==============================] - 0s 2ms/step - loss: 0.2452 - accuracy: 0.9038 - val_loss: 0.4648 - val_accuracy: 0.8229\n",
      "Epoch 178/200\n",
      "99/99 [==============================] - 0s 2ms/step - loss: 0.2277 - accuracy: 0.9111 - val_loss: 0.6091 - val_accuracy: 0.8000\n",
      "Epoch 179/200\n",
      "99/99 [==============================] - 0s 2ms/step - loss: 0.2311 - accuracy: 0.9067 - val_loss: 0.5239 - val_accuracy: 0.8314\n",
      "Epoch 180/200\n",
      "99/99 [==============================] - 0s 2ms/step - loss: 0.2490 - accuracy: 0.9010 - val_loss: 0.4342 - val_accuracy: 0.8600\n",
      "Epoch 181/200\n",
      "99/99 [==============================] - 0s 2ms/step - loss: 0.2106 - accuracy: 0.9175 - val_loss: 0.5929 - val_accuracy: 0.8400\n",
      "Epoch 182/200\n",
      "99/99 [==============================] - 0s 3ms/step - loss: 0.2162 - accuracy: 0.9117 - val_loss: 0.5444 - val_accuracy: 0.8286\n",
      "Epoch 183/200\n",
      "99/99 [==============================] - 0s 2ms/step - loss: 0.2220 - accuracy: 0.9124 - val_loss: 0.5110 - val_accuracy: 0.8314\n",
      "Epoch 184/200\n",
      "99/99 [==============================] - 0s 2ms/step - loss: 0.2309 - accuracy: 0.9092 - val_loss: 0.5104 - val_accuracy: 0.8400\n",
      "Epoch 185/200\n",
      "99/99 [==============================] - 0s 2ms/step - loss: 0.2391 - accuracy: 0.8978 - val_loss: 0.5231 - val_accuracy: 0.8257\n",
      "Epoch 186/200\n",
      "99/99 [==============================] - 0s 2ms/step - loss: 0.2239 - accuracy: 0.9102 - val_loss: 0.6428 - val_accuracy: 0.8057\n",
      "Epoch 187/200\n",
      "99/99 [==============================] - 0s 2ms/step - loss: 0.2391 - accuracy: 0.9029 - val_loss: 0.4808 - val_accuracy: 0.8514\n",
      "Epoch 188/200\n",
      "99/99 [==============================] - 0s 2ms/step - loss: 0.2062 - accuracy: 0.9178 - val_loss: 0.4742 - val_accuracy: 0.8429\n",
      "Epoch 189/200\n",
      "99/99 [==============================] - 0s 2ms/step - loss: 0.2013 - accuracy: 0.9225 - val_loss: 0.4567 - val_accuracy: 0.8543\n",
      "Epoch 190/200\n",
      "99/99 [==============================] - 0s 2ms/step - loss: 0.2208 - accuracy: 0.9133 - val_loss: 0.6477 - val_accuracy: 0.8286\n",
      "Epoch 191/200\n",
      "99/99 [==============================] - 0s 2ms/step - loss: 0.2276 - accuracy: 0.9083 - val_loss: 0.6151 - val_accuracy: 0.8400\n",
      "Epoch 192/200\n",
      "99/99 [==============================] - 0s 2ms/step - loss: 0.2331 - accuracy: 0.9079 - val_loss: 0.5441 - val_accuracy: 0.8257\n",
      "Epoch 193/200\n",
      "99/99 [==============================] - 0s 2ms/step - loss: 0.2175 - accuracy: 0.9130 - val_loss: 0.4583 - val_accuracy: 0.8571\n",
      "Epoch 194/200\n",
      "99/99 [==============================] - 0s 2ms/step - loss: 0.2117 - accuracy: 0.9117 - val_loss: 0.5274 - val_accuracy: 0.8286\n",
      "Epoch 195/200\n",
      "99/99 [==============================] - 0s 3ms/step - loss: 0.2123 - accuracy: 0.9133 - val_loss: 0.5044 - val_accuracy: 0.8257\n",
      "Epoch 196/200\n",
      "99/99 [==============================] - 0s 2ms/step - loss: 0.2122 - accuracy: 0.9086 - val_loss: 0.5357 - val_accuracy: 0.8257\n",
      "Epoch 197/200\n",
      "99/99 [==============================] - 0s 2ms/step - loss: 0.2152 - accuracy: 0.9159 - val_loss: 0.7369 - val_accuracy: 0.8057\n",
      "Epoch 198/200\n",
      "99/99 [==============================] - 0s 2ms/step - loss: 0.2266 - accuracy: 0.9124 - val_loss: 0.5538 - val_accuracy: 0.8371\n",
      "Epoch 199/200\n",
      "99/99 [==============================] - 0s 2ms/step - loss: 0.2178 - accuracy: 0.9210 - val_loss: 0.6206 - val_accuracy: 0.8171\n",
      "Epoch 200/200\n",
      "99/99 [==============================] - 0s 2ms/step - loss: 0.2100 - accuracy: 0.9140 - val_loss: 0.5163 - val_accuracy: 0.8257\n",
      "47/47 [==============================] - 0s 1ms/step - loss: 0.5112 - accuracy: 0.8580\n",
      "Neural Network Accuracy:  0.8579999804496765\n"
     ]
    }
   ],
   "source": [
    "# Data: x_training, x_testing, y_training, y_testing\n",
    "#\n",
    "# Encode the labels\n",
    "encoder = LabelEncoder()  \n",
    "y_training_labeled = encoder.fit_transform(y_training)\n",
    "y_training_labeled = tf.keras.utils.to_categorical(y_training_labeled)\n",
    "\n",
    "# If the submission is for kaggle, y_testing does not exist.\n",
    "# Otherwise, we need to encode the labels.\n",
    "if results_to_test:\n",
    "    y_testing_labeled = encoder.fit_transform(y_testing)\n",
    "    y_testing_labeled = tf.keras.utils.to_categorical(y_testing_labeled)\n",
    "\n",
    "# Define the model\n",
    "model = tf.keras.Sequential()\n",
    "\n",
    "# Add a hidden layer with 16 units and ReLU activation\n",
    "model.add(tf.keras.layers.Dense(16, activation='relu', input_shape=(x_training.shape[1],)))\n",
    "\n",
    "# Add a hidden layer with 32 units and ReLU activation\n",
    "model.add(tf.keras.layers.Dense(32, activation='relu'))\n",
    "\n",
    "# Add a hidden layer with 64 units and ReLU activation\n",
    "model.add(tf.keras.layers.Dense(64, activation='relu'))\n",
    "\n",
    "# Add a hidden layer with 64 units and ReLU activation\n",
    "model.add(tf.keras.layers.Dense(64, activation='relu'))\n",
    "\n",
    "# Add a hidden layer with 32 units and ReLU activation\n",
    "model.add(tf.keras.layers.Dense(32, activation='relu'))\n",
    "\n",
    "# Add a hidden layer with 16 units and ReLU activation\n",
    "model.add(tf.keras.layers.Dense(16, activation='relu'))\n",
    "\n",
    "# Add an output layer with 5 units and softmax activation\n",
    "model.add(tf.keras.layers.Dense(5, activation='softmax'))\n",
    "\n",
    "# Compile the model with categorical crossentropy loss and an Adam optimizer\n",
    "model.compile(loss='categorical_crossentropy', optimizer='adam', metrics=['accuracy'])\n",
    "\n",
    "# Fit the model to the training data\n",
    "history = model.fit(x_training, y_training_labeled, epochs=200, batch_size=32, validation_split=0.1)\n",
    "\n",
    "# Evaluate the model on the test data\n",
    "if results_to_test:\n",
    "    loss, accuracy = model.evaluate(x_testing, y_testing_labeled)\n",
    "    print(\"Neural Network Accuracy: \", accuracy)\n",
    "else:\n",
    "    predictions = model.predict(x_testing)\n",
    "\n",
    "    results = tf.argmax(predictions, axis=1)\n",
    "    results = encoder.inverse_transform(results)\n",
    "    printOrWrite(\"NeuralNetwork\", results, y_testing, results_to_test)"
   ]
  },
  {
   "attachments": {},
   "cell_type": "markdown",
   "metadata": {},
   "source": [
    "### 5.14 XGBClassifier"
   ]
  },
  {
   "cell_type": "code",
   "execution_count": 423,
   "metadata": {},
   "outputs": [
    {
     "name": "stdout",
     "output_type": "stream",
     "text": [
      "XGBClassifier  Accuracy:  0.9253333333333333\n"
     ]
    }
   ],
   "source": [
    "tryoutparams = False\n",
    "\n",
    "# {'learning_rate': 0.01, 'max_depth': 15, 'n_estimators': 1000, 'tree_method': 'gpu_hist'} 0.9184000000000001\n",
    "# {'learning_rate': 0.005, 'max_depth': 15, 'n_estimators': 1500, 'tree_method': 'gpu_hist'} 0.9194000000000001\n",
    "\n",
    "if tryoutparams:\n",
    "    param_grid = {\n",
    "    'n_estimators': [1500, 1000],\n",
    "    'max_depth': [10],\n",
    "    'learning_rate': [0.01, 0.005],\n",
    "    'tree_method': ['gpu_hist', 'hist']\n",
    "    }\n",
    "\n",
    "    xgbclassifier_set = dataset.copy()\n",
    "    xgbclassifier_set = xgbclassifier_set[xgbclassifier_set['incidents'] != 'test-only']\n",
    "    xgbclassifier_set_x = xgbclassifier_set.drop(['incidents'], axis=1)\n",
    "    xgbclassifier_set_y = xgbclassifier_set['incidents']\n",
    "\n",
    "    encoder = LabelEncoder()  \n",
    "    y_training_labeled = encoder.fit_transform(xgbclassifier_set_y)\n",
    "\n",
    "    # fit model no training data\n",
    "    xgbclassifier = xgb.XGBClassifier(\n",
    "        random_state=2023,\n",
    "        use_label_encoder=False,\n",
    "        eval_metric='mlogloss'\n",
    "    )\n",
    "    # change cv later? use square root of dataset size ?\n",
    "    grid_search = GridSearchCV(estimator=xgbclassifier, param_grid=param_grid, cv=5, verbose=3)\n",
    "    grid_search.fit(xgbclassifier_set_x, y_training_labeled)\n",
    "    print(grid_search.best_params_)\n",
    "    print(grid_search.best_score_)\n",
    "else:\n",
    "    encoder = LabelEncoder()  \n",
    "    y_training_labeled = encoder.fit_transform(y_training)\n",
    "    \n",
    "    # fit model no training data\n",
    "    xgbclassifier = xgb.XGBClassifier(\n",
    "        booster='gbtree',\n",
    "        random_state=2023,\n",
    "        use_label_encoder=False,\n",
    "        eval_metric='mlogloss',\n",
    "        tree_method='gpu_hist',\n",
    "        n_estimators=300,\n",
    "        learning_rate=0.2,\n",
    "        max_depth=15,\n",
    "    )\n",
    "\n",
    "    xgbclassifier.fit(x_training, y_training_labeled)\n",
    "    xgbclassifier_predictions = xgbclassifier.predict(x_testing)\n",
    "\n",
    "    results = encoder.inverse_transform(xgbclassifier_predictions)\n",
    "    printOrWrite(\"XGBClassifier\", results, y_testing, results_to_test)"
   ]
  },
  {
   "attachments": {},
   "cell_type": "markdown",
   "metadata": {},
   "source": [
    "## 6. Model Evaluation"
   ]
  },
  {
   "cell_type": "code",
   "execution_count": 431,
   "metadata": {},
   "outputs": [],
   "source": [
    "results_plot = pd.DataFrame(columns=['Model', 'Accuracy', 'Precision', 'Recall', 'F1-Score'])\n",
    "for row in results_dict:\n",
    "    results_plot = results_plot.append({\n",
    "        'Model': row['model'],\n",
    "        'Accuracy': row['accuracy'],\n",
    "        'Precision': row['precision'],\n",
    "        'Recall': row['recall'],\n",
    "        'F1-Score': row['f1-score']\n",
    "        }, ignore_index=True)"
   ]
  },
  {
   "cell_type": "code",
   "execution_count": 454,
   "metadata": {},
   "outputs": [
    {
     "data": {
      "text/plain": [
       "(0.0, 1.0)"
      ]
     },
     "execution_count": 454,
     "metadata": {},
     "output_type": "execute_result"
    },
    {
     "data": {
      "image/png": "[encoded data removed]",
      "text/plain": [
       "<Figure size 3000x500 with 1 Axes>"
      ]
     },
     "metadata": {
      "needs_background": "light"
     },
     "output_type": "display_data"
    }
   ],
   "source": [
    "fig, ax = plt.subplots(figsize=(30, 5), dpi=100)\n",
    "plt.rc('font', size=13)\n",
    "sns.barplot(x=results_plot['Model'] , y=results_plot['Accuracy'], ax=ax, palette='Set2')\n",
    "ax.set_xlabel('Model', fontdict={'color':'black', 'weight':'bold', 'size': 25})\n",
    "ax.set_ylabel('Accuracy', fontdict={'color':'black', 'weight':'bold', 'size': 25})\n",
    "ax.set_ylim(0, 1)"
   ]
  },
  {
   "cell_type": "code",
   "execution_count": 455,
   "metadata": {},
   "outputs": [
    {
     "data": {
      "text/plain": [
       "Text(0, 0.5, 'Precision')"
      ]
     },
     "execution_count": 455,
     "metadata": {},
     "output_type": "execute_result"
    },
    {
     "data": {
      "image/png": "[encoded data removed]",
      "text/plain": [
       "<Figure size 2500x500 with 1 Axes>"
      ]
     },
     "metadata": {
      "needs_background": "light"
     },
     "output_type": "display_data"
    }
   ],
   "source": [
    "fig, ax = plt.subplots(figsize=(25, 5), dpi=100)\n",
    "sns.barplot(x=results_plot['Model'] , y=results_plot['Precision'], ax=ax, palette='Set2')\n",
    "ax.set_xlabel('Model', fontdict={'color':'black', 'weight':'bold', 'size': 25})\n",
    "ax.set_ylabel('Precision', fontdict={'color':'black', 'weight':'bold', 'size': 25})"
   ]
  },
  {
   "cell_type": "code",
   "execution_count": 456,
   "metadata": {},
   "outputs": [
    {
     "data": {
      "text/plain": [
       "Text(0, 0.5, 'Recall')"
      ]
     },
     "execution_count": 456,
     "metadata": {},
     "output_type": "execute_result"
    },
    {
     "data": {
      "image/png": "[encoded data removed]",
      "text/plain": [
       "<Figure size 2500x500 with 1 Axes>"
      ]
     },
     "metadata": {
      "needs_background": "light"
     },
     "output_type": "display_data"
    }
   ],
   "source": [
    "fig, ax = plt.subplots(figsize=(25, 5), dpi=100)\n",
    "sns.barplot(x=results_plot['Model'] , y=results_plot['Recall'], ax=ax, palette='Set2')\n",
    "ax.set_xlabel('Model', fontdict={'color':'black', 'weight':'bold', 'size': 25})\n",
    "ax.set_ylabel('Recall', fontdict={'color':'black', 'weight':'bold', 'size': 25})"
   ]
  },
  {
   "cell_type": "code",
   "execution_count": 457,
   "metadata": {},
   "outputs": [
    {
     "data": {
      "text/plain": [
       "Text(0, 0.5, 'F1-Score')"
      ]
     },
     "execution_count": 457,
     "metadata": {},
     "output_type": "execute_result"
    },
    {
     "data": {
      "image/png": "[encoded data removed]",
      "text/plain": [
       "<Figure size 2500x500 with 1 Axes>"
      ]
     },
     "metadata": {
      "needs_background": "light"
     },
     "output_type": "display_data"
    }
   ],
   "source": [
    "fig, ax = plt.subplots(figsize=(25, 5), dpi=100)\n",
    "sns.barplot(x=results_plot['Model'] , y=results_plot['F1-Score'], ax=ax, palette='Set2')\n",
    "ax.set_xlabel('Model', fontdict={'color':'black', 'weight':'bold', 'size': 25})\n",
    "ax.set_ylabel('F1-Score', fontdict={'color':'black', 'weight':'bold', 'size': 25})"
   ]
  }
 ],
 "metadata": {
  "kernelspec": {
   "display_name": "daa",
   "language": "python",
   "name": "python3"
  },
  "language_info": {
   "codemirror_mode": {
    "name": "ipython",
    "version": 3
   },
   "file_extension": ".py",
   "mimetype": "text/x-python",
   "name": "python",
   "nbconvert_exporter": "python",
   "pygments_lexer": "ipython3",
   "version": "3.6.13"
  },
  "orig_nbformat": 4,
  "vscode": {
   "interpreter": {
    "hash": "cab99c9c6f49a096354dc2da129958249094ad23e18f1a01ceebabfc3e560501"
   }
  }
 },
 "nbformat": 4,
 "nbformat_minor": 2
}
