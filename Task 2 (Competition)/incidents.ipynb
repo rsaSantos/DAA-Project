{
 "cells": [
  {
   "cell_type": "markdown",
   "metadata": {},
   "source": [
    "Notebook structure:\n",
    "- 1. Importing libraries\n",
    "- 2. Loading the dataset\n",
    "- 3. Exploratory Data Analysis\n",
    "- 4. Data Preprocessing\n",
    "- 5. Model Training\n",
    "- 6. Model Evaluation\n",
    "- 8. Conclusion Todo"
   ]
  },
  {
   "attachments": {},
   "cell_type": "markdown",
   "metadata": {},
   "source": [
    "## 1. Importing libraries"
   ]
  },
  {
   "cell_type": "code",
   "execution_count": 148,
   "metadata": {},
   "outputs": [],
   "source": [
    "import pandas as pd\n",
    "import pandas_profiling\n",
    "import numpy as np\n",
    "import matplotlib.pyplot as plt\n",
    "import seaborn as sns\n",
    "import scipy.stats as stats\n",
    "from sklearn import preprocessing, tree, metrics, model_selection, linear_model\n",
    "from sklearn.model_selection import cross_val_score\n",
    "from sklearn.svm import SVC\n",
    "from sklearn.model_selection import GridSearchCV\n",
    "from sklearn.metrics import mean_squared_error, mean_absolute_error, r2_score\n",
    "from sklearn.preprocessing import StandardScaler, RobustScaler, PowerTransformer, MinMaxScaler, LabelEncoder\n",
    "from sklearn.neural_network import MLPClassifier\n",
    "from sklearn.neighbors import KNeighborsClassifier\n",
    "from sklearn.svm import SVC\n",
    "from sklearn.gaussian_process import GaussianProcessClassifier\n",
    "from sklearn.gaussian_process.kernels import RBF\n",
    "from sklearn.tree import DecisionTreeClassifier\n",
    "from sklearn.ensemble import RandomForestClassifier, AdaBoostClassifier\n",
    "from sklearn.naive_bayes import GaussianNB\n",
    "from sklearn.discriminant_analysis import QuadraticDiscriminantAnalysis\n",
    "\n",
    "import tensorflow as tf\n",
    "import datetime\n",
    "import random\n",
    "\n",
    "\n",
    "# Lois\n",
    "from lois import lois_ds_report\n",
    "%matplotlib inline"
   ]
  },
  {
   "attachments": {},
   "cell_type": "markdown",
   "metadata": {},
   "source": [
    "## 2. Loading the dataset"
   ]
  },
  {
   "cell_type": "code",
   "execution_count": 149,
   "metadata": {},
   "outputs": [],
   "source": [
    "train_data = pd.read_csv('data/training_data.csv')\n",
    "test_data = pd.read_csv('data/test_data.csv')\n",
    "\n",
    "# Add a \"fake target\" column to the test data\n",
    "test_data['incidents'] = \"test-only\"\n",
    "\n",
    "# Concatenate the training and test data\n",
    "dataset = pd.concat([train_data, test_data], axis=0)"
   ]
  },
  {
   "attachments": {},
   "cell_type": "markdown",
   "metadata": {},
   "source": [
    "## 3. Exploratory Data Analysis"
   ]
  },
  {
   "cell_type": "code",
   "execution_count": 150,
   "metadata": {},
   "outputs": [
    {
     "data": {
      "text/html": [
       "<pre style=\"white-space:pre;overflow-x:auto;line-height:normal;font-family:Menlo,'DejaVu Sans Mono',consolas,'Courier New',monospace\">╭─────────────────────────────────────────── Exploratory Data Anlysis ────────────────────────────────────────────╮\n",
       "│                                                                                                                 │\n",
       "╰──────────────────────────────────── EDA|simple| Suitable for data scientist ────────────────────────────────────╯\n",
       "</pre>\n"
      ],
      "text/plain": [
       "╭─────────────────────────────────────────── Exploratory Data Anlysis ────────────────────────────────────────────╮\n",
       "│                                                                                                                 │\n",
       "╰──────────────────────────────────── EDA|simple| Suitable for data scientist ────────────────────────────────────╯\n"
      ]
     },
     "metadata": {},
     "output_type": "display_data"
    },
    {
     "data": {
      "text/html": [
       "<pre style=\"white-space:pre;overflow-x:auto;line-height:normal;font-family:Menlo,'DejaVu Sans Mono',consolas,'Courier New',monospace\">Shape Analysis\n",
       "┗━━ Dataset Shape Analysis\n",
       "    ┣━━ Dataset head\n",
       "    ┣━━ General info \n",
       "    ┣━━ The target variable\n",
       "    ┣━━ Number of rows and columns\n",
       "    ┣━━ The different data types\n",
       "    ┃   ┣━━ The sum of different variable type\n",
       "    ┃   ┗━━ Visual representation of different variable type\n",
       "    ┗━━ Analyze missing value\n",
       "        ┣━━ The percentage of missing value in each columns\n",
       "        ┣━━ The missing value counts\n",
       "        ┗━━ Visual representation of missing value\n",
       "</pre>\n"
      ],
      "text/plain": [
       "Shape Analysis\n",
       "┗━━ Dataset Shape Analysis\n",
       "    ┣━━ Dataset head\n",
       "    ┣━━ General info \n",
       "    ┣━━ The target variable\n",
       "    ┣━━ Number of rows and columns\n",
       "    ┣━━ The different data types\n",
       "    ┃   ┣━━ The sum of different variable type\n",
       "    ┃   ┗━━ Visual representation of different variable type\n",
       "    ┗━━ Analyze missing value\n",
       "        ┣━━ The percentage of missing value in each columns\n",
       "        ┣━━ The missing value counts\n",
       "        ┗━━ Visual representation of missing value\n"
      ]
     },
     "metadata": {},
     "output_type": "display_data"
    },
    {
     "data": {
      "text/html": [
       "<pre style=\"white-space:pre;overflow-x:auto;line-height:normal;font-family:Menlo,'DejaVu Sans Mono',consolas,'Courier New',monospace\">╭──────────────────────────────────────────── DATASET SHAPE ANALYSIS ─────────────────────────────────────────────╮\n",
       "│                                                                                                                 │\n",
       "╰─────────────────────────────────────────────────────────────────────────────────────────────────────────────────╯\n",
       "</pre>\n"
      ],
      "text/plain": [
       "╭──────────────────────────────────────────── DATASET SHAPE ANALYSIS ─────────────────────────────────────────────╮\n",
       "│                                                                                                                 │\n",
       "╰─────────────────────────────────────────────────────────────────────────────────────────────────────────────────╯\n"
      ]
     },
     "metadata": {},
     "output_type": "display_data"
    },
    {
     "data": {
      "text/html": [
       "<pre style=\"white-space:pre;overflow-x:auto;line-height:normal;font-family:Menlo,'DejaVu Sans Mono',consolas,'Courier New',monospace\">                        -------------------- THE HEAD OF YOUR DATASET --------------------                         \n",
       "</pre>\n"
      ],
      "text/plain": [
       "                        -------------------- THE HEAD OF YOUR DATASET --------------------                         \n"
      ]
     },
     "metadata": {},
     "output_type": "display_data"
    },
    {
     "data": {
      "text/html": [
       "<pre style=\"white-space:pre;overflow-x:auto;line-height:normal;font-family:Menlo,'DejaVu Sans Mono',consolas,'Courier New',monospace\">Your dataset is too large ; only the first <span style=\"color: #008080; text-decoration-color: #008080; font-weight: bold\">8</span> columns will be display\n",
       "</pre>\n"
      ],
      "text/plain": [
       "Your dataset is too large ; only the first \u001b[1;36m8\u001b[0m columns will be display\n"
      ]
     },
     "metadata": {},
     "output_type": "display_data"
    },
    {
     "data": {
      "text/html": [
       "<pre style=\"white-space:pre;overflow-x:auto;line-height:normal;font-family:Menlo,'DejaVu Sans Mono',consolas,'Courier New',monospace\"><span style=\"font-style: italic\">                                                    The Dataset                                                    </span>\n",
       "┏━━━━━━━┳━━━━━━━━━━━━━━━━┳━━━━━━━━━━━━━━┳━━━━━━━━━━━━┳━━━━━━━━━┳━━━━━━━━┳━━━━━━━━━━━━━━┳━━━━━━━━━━━━━━┳━━━━━━━━━━━┓\n",
       "┃<span style=\"font-weight: bold\"> city… </span>┃<span style=\"font-weight: bold\"> magnitude_of_… </span>┃<span style=\"font-weight: bold\"> delay_in_se… </span>┃<span style=\"font-weight: bold\"> affected_… </span>┃<span style=\"font-weight: bold\"> record… </span>┃<span style=\"font-weight: bold\"> lumin… </span>┃<span style=\"font-weight: bold\"> avg_tempera… </span>┃<span style=\"font-weight: bold\"> avg_atm_pre… </span>┃<span style=\"font-weight: bold\"> avg_humi… </span>┃\n",
       "┡━━━━━━━╇━━━━━━━━━━━━━━━━╇━━━━━━━━━━━━━━╇━━━━━━━━━━━━╇━━━━━━━━━╇━━━━━━━━╇━━━━━━━━━━━━━━╇━━━━━━━━━━━━━━╇━━━━━━━━━━━┩\n",
       "└───────┴────────────────┴──────────────┴────────────┴─────────┴────────┴──────────────┴──────────────┴───────────┘\n",
       "</pre>\n"
      ],
      "text/plain": [
       "\u001b[3m                                                    The Dataset                                                    \u001b[0m\n",
       "┏━━━━━━━┳━━━━━━━━━━━━━━━━┳━━━━━━━━━━━━━━┳━━━━━━━━━━━━┳━━━━━━━━━┳━━━━━━━━┳━━━━━━━━━━━━━━┳━━━━━━━━━━━━━━┳━━━━━━━━━━━┓\n",
       "┃\u001b[1m \u001b[0m\u001b[1mcity…\u001b[0m\u001b[1m \u001b[0m┃\u001b[1m \u001b[0m\u001b[1mmagnitude_of_…\u001b[0m\u001b[1m \u001b[0m┃\u001b[1m \u001b[0m\u001b[1mdelay_in_se…\u001b[0m\u001b[1m \u001b[0m┃\u001b[1m \u001b[0m\u001b[1maffected_…\u001b[0m\u001b[1m \u001b[0m┃\u001b[1m \u001b[0m\u001b[1mrecord…\u001b[0m\u001b[1m \u001b[0m┃\u001b[1m \u001b[0m\u001b[1mlumin…\u001b[0m\u001b[1m \u001b[0m┃\u001b[1m \u001b[0m\u001b[1mavg_tempera…\u001b[0m\u001b[1m \u001b[0m┃\u001b[1m \u001b[0m\u001b[1mavg_atm_pre…\u001b[0m\u001b[1m \u001b[0m┃\u001b[1m \u001b[0m\u001b[1mavg_humi…\u001b[0m\u001b[1m \u001b[0m┃\n",
       "┡━━━━━━━╇━━━━━━━━━━━━━━━━╇━━━━━━━━━━━━━━╇━━━━━━━━━━━━╇━━━━━━━━━╇━━━━━━━━╇━━━━━━━━━━━━━━╇━━━━━━━━━━━━━━╇━━━━━━━━━━━┩\n",
       "└───────┴────────────────┴──────────────┴────────────┴─────────┴────────┴──────────────┴──────────────┴───────────┘\n"
      ]
     },
     "metadata": {},
     "output_type": "display_data"
    },
    {
     "data": {
      "text/html": [
       "<pre style=\"white-space:pre;overflow-x:auto;line-height:normal;font-family:Menlo,'DejaVu Sans Mono',consolas,'Courier New',monospace\">                  -------------------- SOME GENERAL INFO ABOUT YOUR DATASET --------------------                   \n",
       "</pre>\n"
      ],
      "text/plain": [
       "                  -------------------- SOME GENERAL INFO ABOUT YOUR DATASET --------------------                   \n"
      ]
     },
     "metadata": {},
     "output_type": "display_data"
    },
    {
     "name": "stdout",
     "output_type": "stream",
     "text": [
      "<class 'pandas.core.frame.DataFrame'>\n",
      "Int64Index: 6206 entries, 0 to 1205\n",
      "Data columns (total 13 columns):\n",
      " #   Column              Non-Null Count  Dtype  \n",
      "---  ------              --------------  -----  \n",
      " 0   city_name           6206 non-null   object \n",
      " 1   magnitude_of_delay  6206 non-null   object \n",
      " 2   delay_in_seconds    6206 non-null   int64  \n",
      " 3   affected_roads      6099 non-null   object \n",
      " 4   record_date         6206 non-null   object \n",
      " 5   luminosity          6206 non-null   object \n",
      " 6   avg_temperature     6206 non-null   float64\n",
      " 7   avg_atm_pressure    6206 non-null   float64\n",
      " 8   avg_humidity        6206 non-null   float64\n",
      " 9   avg_wind_speed      6206 non-null   float64\n",
      " 10  avg_precipitation   6206 non-null   float64\n",
      " 11  avg_rain            6206 non-null   object \n",
      " 12  incidents           6206 non-null   object \n",
      "dtypes: float64(5), int64(1), object(7)\n",
      "memory usage: 678.8+ KB\n"
     ]
    },
    {
     "data": {
      "text/html": [
       "<pre style=\"white-space:pre;overflow-x:auto;line-height:normal;font-family:Menlo,'DejaVu Sans Mono',consolas,'Courier New',monospace\">                   -------------------- THE TARGET VARIABLE OF YOUR DATASET --------------------                   \n",
       "</pre>\n"
      ],
      "text/plain": [
       "                   -------------------- THE TARGET VARIABLE OF YOUR DATASET --------------------                   \n"
      ]
     },
     "metadata": {},
     "output_type": "display_data"
    },
    {
     "data": {
      "text/html": [
       "<pre style=\"white-space:pre;overflow-x:auto;line-height:normal;font-family:Menlo,'DejaVu Sans Mono',consolas,'Courier New',monospace\">╭───────────────────────────────────────╮\n",
       "│ The Target variable is : 'incidents'  │\n",
       "╰───────────────────────────────────────╯\n",
       "</pre>\n"
      ],
      "text/plain": [
       "╭───────────────────────────────────────╮\n",
       "│ The Target variable is : 'incidents'  │\n",
       "╰───────────────────────────────────────╯\n"
      ]
     },
     "metadata": {},
     "output_type": "display_data"
    },
    {
     "data": {
      "text/html": [
       "<pre style=\"white-space:pre;overflow-x:auto;line-height:normal;font-family:Menlo,'DejaVu Sans Mono',consolas,'Courier New',monospace\">                    -------------------- ROWS AND COLUMNS IN YOUR DATASET --------------------                     \n",
       "</pre>\n"
      ],
      "text/plain": [
       "                    -------------------- ROWS AND COLUMNS IN YOUR DATASET --------------------                     \n"
      ]
     },
     "metadata": {},
     "output_type": "display_data"
    },
    {
     "data": {
      "text/html": [
       "<pre style=\"white-space:pre;overflow-x:auto;line-height:normal;font-family:Menlo,'DejaVu Sans Mono',consolas,'Courier New',monospace\">╭─ Shape output ─╮\n",
       "│ (6206, 13)     │\n",
       "╰────────────────╯\n",
       "</pre>\n"
      ],
      "text/plain": [
       "╭─ Shape output ─╮\n",
       "│ (6206, 13)     │\n",
       "╰────────────────╯\n"
      ]
     },
     "metadata": {},
     "output_type": "display_data"
    },
    {
     "data": {
      "text/html": [
       "<pre style=\"white-space:pre;overflow-x:auto;line-height:normal;font-family:Menlo,'DejaVu Sans Mono',consolas,'Courier New',monospace\">╭────────────────────────────────────────────────╮\n",
       "│ Your dataset contains 6206 Rows and 13 Columns │\n",
       "╰────────────────────────────────────────────────╯\n",
       "</pre>\n"
      ],
      "text/plain": [
       "╭────────────────────────────────────────────────╮\n",
       "│ Your dataset contains 6206 Rows and 13 Columns │\n",
       "╰────────────────────────────────────────────────╯\n"
      ]
     },
     "metadata": {},
     "output_type": "display_data"
    },
    {
     "data": {
      "text/html": [
       "<pre style=\"white-space:pre;overflow-x:auto;line-height:normal;font-family:Menlo,'DejaVu Sans Mono',consolas,'Courier New',monospace\">                     -------------------- THE DATA TYPES IN YOUR DATASET --------------------                      \n",
       "</pre>\n"
      ],
      "text/plain": [
       "                     -------------------- THE DATA TYPES IN YOUR DATASET --------------------                      \n"
      ]
     },
     "metadata": {},
     "output_type": "display_data"
    },
    {
     "data": {
      "text/html": [
       "<pre style=\"white-space:pre;overflow-x:auto;line-height:normal;font-family:Menlo,'DejaVu Sans Mono',consolas,'Courier New',monospace\">╭─ Data types output ─╮\n",
       "│ object     7        │\n",
       "│ float64    5        │\n",
       "│ int64      1        │\n",
       "│ dtype: int64        │\n",
       "╰─────────────────────╯\n",
       "</pre>\n"
      ],
      "text/plain": [
       "╭─ Data types output ─╮\n",
       "│ object     7        │\n",
       "│ float64    5        │\n",
       "│ int64      1        │\n",
       "│ dtype: int64        │\n",
       "╰─────────────────────╯\n"
      ]
     },
     "metadata": {},
     "output_type": "display_data"
    },
    {
     "data": {
      "image/png": "[encoded data removed]",
      "text/plain": [
       "<Figure size 288x288 with 1 Axes>"
      ]
     },
     "metadata": {},
     "output_type": "display_data"
    },
    {
     "data": {
      "text/html": [
       "<pre style=\"white-space:pre;overflow-x:auto;line-height:normal;font-family:Menlo,'DejaVu Sans Mono',consolas,'Courier New',monospace\">                      -------------------- MISSING VALUE IN YOUR DATASET --------------------                      \n",
       "</pre>\n"
      ],
      "text/plain": [
       "                      -------------------- MISSING VALUE IN YOUR DATASET --------------------                      \n"
      ]
     },
     "metadata": {},
     "output_type": "display_data"
    },
    {
     "data": {
      "text/html": [
       "<pre style=\"white-space:pre;overflow-x:auto;line-height:normal;font-family:Menlo,'DejaVu Sans Mono',consolas,'Courier New',monospace\">╭───── Missing value output ─────╮\n",
       "│ city_name             0.000000 │\n",
       "│ magnitude_of_delay    0.000000 │\n",
       "│ delay_in_seconds      0.000000 │\n",
       "│ record_date           0.000000 │\n",
       "│ luminosity            0.000000 │\n",
       "│ avg_temperature       0.000000 │\n",
       "│ avg_atm_pressure      0.000000 │\n",
       "│ avg_humidity          0.000000 │\n",
       "│ avg_wind_speed        0.000000 │\n",
       "│ avg_precipitation     0.000000 │\n",
       "│ avg_rain              0.000000 │\n",
       "│ incidents             0.000000 │\n",
       "│ affected_roads        0.017241 │\n",
       "│ dtype: float64                 │\n",
       "╰────────────────────────────────╯\n",
       "</pre>\n"
      ],
      "text/plain": [
       "╭───── Missing value output ─────╮\n",
       "│ city_name             0.000000 │\n",
       "│ magnitude_of_delay    0.000000 │\n",
       "│ delay_in_seconds      0.000000 │\n",
       "│ record_date           0.000000 │\n",
       "│ luminosity            0.000000 │\n",
       "│ avg_temperature       0.000000 │\n",
       "│ avg_atm_pressure      0.000000 │\n",
       "│ avg_humidity          0.000000 │\n",
       "│ avg_wind_speed        0.000000 │\n",
       "│ avg_precipitation     0.000000 │\n",
       "│ avg_rain              0.000000 │\n",
       "│ incidents             0.000000 │\n",
       "│ affected_roads        0.017241 │\n",
       "│ dtype: float64                 │\n",
       "╰────────────────────────────────╯\n"
      ]
     },
     "metadata": {},
     "output_type": "display_data"
    },
    {
     "data": {
      "text/html": [
       "<pre style=\"white-space:pre;overflow-x:auto;line-height:normal;font-family:Menlo,'DejaVu Sans Mono',consolas,'Courier New',monospace\">╭─ Missing value counts output ─╮\n",
       "│ 0.017241     1                │\n",
       "│ 0.000000    12                │\n",
       "│ dtype: int64                  │\n",
       "╰───────────────────────────────╯\n",
       "</pre>\n"
      ],
      "text/plain": [
       "╭─ Missing value counts output ─╮\n",
       "│ 0.017241     1                │\n",
       "│ 0.000000    12                │\n",
       "│ dtype: int64                  │\n",
       "╰───────────────────────────────╯\n"
      ]
     },
     "metadata": {},
     "output_type": "display_data"
    },
    {
     "data": {
      "image/png": "[encoded data removed]",
      "text/plain": [
       "<Figure size 360x288 with 2 Axes>"
      ]
     },
     "metadata": {
      "needs_background": "light"
     },
     "output_type": "display_data"
    },
    {
     "data": {
      "text/html": [
       "<pre style=\"white-space:pre;overflow-x:auto;line-height:normal;font-family:Menlo,'DejaVu Sans Mono',consolas,'Courier New',monospace\">                                   #################### END ####################                                   \n",
       "</pre>\n"
      ],
      "text/plain": [
       "                                   #################### END ####################                                   \n"
      ]
     },
     "metadata": {},
     "output_type": "display_data"
    }
   ],
   "source": [
    "lois_ds_report(dataset,target_variable=\"incidents\")"
   ]
  },
  {
   "cell_type": "code",
   "execution_count": 151,
   "metadata": {},
   "outputs": [
    {
     "data": {
      "text/html": [
       "<div>\n",
       "<style scoped>\n",
       "    .dataframe tbody tr th:only-of-type {\n",
       "        vertical-align: middle;\n",
       "    }\n",
       "\n",
       "    .dataframe tbody tr th {\n",
       "        vertical-align: top;\n",
       "    }\n",
       "\n",
       "    .dataframe thead th {\n",
       "        text-align: right;\n",
       "    }\n",
       "</style>\n",
       "<table border=\"1\" class=\"dataframe\">\n",
       "  <thead>\n",
       "    <tr style=\"text-align: right;\">\n",
       "      <th></th>\n",
       "      <th>city_name</th>\n",
       "      <th>magnitude_of_delay</th>\n",
       "      <th>delay_in_seconds</th>\n",
       "      <th>affected_roads</th>\n",
       "      <th>record_date</th>\n",
       "      <th>luminosity</th>\n",
       "      <th>avg_temperature</th>\n",
       "      <th>avg_atm_pressure</th>\n",
       "      <th>avg_humidity</th>\n",
       "      <th>avg_wind_speed</th>\n",
       "      <th>avg_precipitation</th>\n",
       "      <th>avg_rain</th>\n",
       "      <th>incidents</th>\n",
       "    </tr>\n",
       "  </thead>\n",
       "  <tbody>\n",
       "    <tr>\n",
       "      <th>0</th>\n",
       "      <td>Guimaraes</td>\n",
       "      <td>UNDEFINED</td>\n",
       "      <td>0</td>\n",
       "      <td>,</td>\n",
       "      <td>2021-03-15 23:00</td>\n",
       "      <td>DARK</td>\n",
       "      <td>12.0</td>\n",
       "      <td>1013.0</td>\n",
       "      <td>70.0</td>\n",
       "      <td>1.0</td>\n",
       "      <td>0.0</td>\n",
       "      <td>Sem Chuva</td>\n",
       "      <td>None</td>\n",
       "    </tr>\n",
       "    <tr>\n",
       "      <th>1</th>\n",
       "      <td>Guimaraes</td>\n",
       "      <td>UNDEFINED</td>\n",
       "      <td>385</td>\n",
       "      <td>N101,</td>\n",
       "      <td>2021-12-25 18:00</td>\n",
       "      <td>DARK</td>\n",
       "      <td>12.0</td>\n",
       "      <td>1007.0</td>\n",
       "      <td>91.0</td>\n",
       "      <td>1.0</td>\n",
       "      <td>0.0</td>\n",
       "      <td>Sem Chuva</td>\n",
       "      <td>None</td>\n",
       "    </tr>\n",
       "    <tr>\n",
       "      <th>2</th>\n",
       "      <td>Guimaraes</td>\n",
       "      <td>UNDEFINED</td>\n",
       "      <td>69</td>\n",
       "      <td>,</td>\n",
       "      <td>2021-03-12 15:00</td>\n",
       "      <td>LIGHT</td>\n",
       "      <td>14.0</td>\n",
       "      <td>1025.0</td>\n",
       "      <td>64.0</td>\n",
       "      <td>0.0</td>\n",
       "      <td>0.0</td>\n",
       "      <td>Sem Chuva</td>\n",
       "      <td>Low</td>\n",
       "    </tr>\n",
       "    <tr>\n",
       "      <th>3</th>\n",
       "      <td>Guimaraes</td>\n",
       "      <td>MAJOR</td>\n",
       "      <td>2297</td>\n",
       "      <td>N101,R206,N105,N101,N101,N101,N101,N101,N101,N...</td>\n",
       "      <td>2021-09-29 09:00</td>\n",
       "      <td>LIGHT</td>\n",
       "      <td>15.0</td>\n",
       "      <td>1028.0</td>\n",
       "      <td>75.0</td>\n",
       "      <td>1.0</td>\n",
       "      <td>0.0</td>\n",
       "      <td>Sem Chuva</td>\n",
       "      <td>Very_High</td>\n",
       "    </tr>\n",
       "    <tr>\n",
       "      <th>4</th>\n",
       "      <td>Guimaraes</td>\n",
       "      <td>UNDEFINED</td>\n",
       "      <td>0</td>\n",
       "      <td>N101,N101,N101,N101,N101,</td>\n",
       "      <td>2021-06-13 11:00</td>\n",
       "      <td>LIGHT</td>\n",
       "      <td>27.0</td>\n",
       "      <td>1020.0</td>\n",
       "      <td>52.0</td>\n",
       "      <td>1.0</td>\n",
       "      <td>0.0</td>\n",
       "      <td>Sem Chuva</td>\n",
       "      <td>High</td>\n",
       "    </tr>\n",
       "  </tbody>\n",
       "</table>\n",
       "</div>"
      ],
      "text/plain": [
       "   city_name magnitude_of_delay  delay_in_seconds  \\\n",
       "0  Guimaraes          UNDEFINED                 0   \n",
       "1  Guimaraes          UNDEFINED               385   \n",
       "2  Guimaraes          UNDEFINED                69   \n",
       "3  Guimaraes              MAJOR              2297   \n",
       "4  Guimaraes          UNDEFINED                 0   \n",
       "\n",
       "                                      affected_roads       record_date  \\\n",
       "0                                                  ,  2021-03-15 23:00   \n",
       "1                                              N101,  2021-12-25 18:00   \n",
       "2                                                  ,  2021-03-12 15:00   \n",
       "3  N101,R206,N105,N101,N101,N101,N101,N101,N101,N...  2021-09-29 09:00   \n",
       "4                          N101,N101,N101,N101,N101,  2021-06-13 11:00   \n",
       "\n",
       "  luminosity  avg_temperature  avg_atm_pressure  avg_humidity  avg_wind_speed  \\\n",
       "0       DARK             12.0            1013.0          70.0             1.0   \n",
       "1       DARK             12.0            1007.0          91.0             1.0   \n",
       "2      LIGHT             14.0            1025.0          64.0             0.0   \n",
       "3      LIGHT             15.0            1028.0          75.0             1.0   \n",
       "4      LIGHT             27.0            1020.0          52.0             1.0   \n",
       "\n",
       "   avg_precipitation   avg_rain  incidents  \n",
       "0                0.0  Sem Chuva       None  \n",
       "1                0.0  Sem Chuva       None  \n",
       "2                0.0  Sem Chuva        Low  \n",
       "3                0.0  Sem Chuva  Very_High  \n",
       "4                0.0  Sem Chuva       High  "
      ]
     },
     "execution_count": 151,
     "metadata": {},
     "output_type": "execute_result"
    }
   ],
   "source": [
    "dataset.head()"
   ]
  },
  {
   "cell_type": "code",
   "execution_count": 152,
   "metadata": {},
   "outputs": [
    {
     "data": {
      "text/html": [
       "<div>\n",
       "<style scoped>\n",
       "    .dataframe tbody tr th:only-of-type {\n",
       "        vertical-align: middle;\n",
       "    }\n",
       "\n",
       "    .dataframe tbody tr th {\n",
       "        vertical-align: top;\n",
       "    }\n",
       "\n",
       "    .dataframe thead th {\n",
       "        text-align: right;\n",
       "    }\n",
       "</style>\n",
       "<table border=\"1\" class=\"dataframe\">\n",
       "  <thead>\n",
       "    <tr style=\"text-align: right;\">\n",
       "      <th></th>\n",
       "      <th>delay_in_seconds</th>\n",
       "      <th>avg_temperature</th>\n",
       "      <th>avg_atm_pressure</th>\n",
       "      <th>avg_humidity</th>\n",
       "      <th>avg_wind_speed</th>\n",
       "      <th>avg_precipitation</th>\n",
       "    </tr>\n",
       "  </thead>\n",
       "  <tbody>\n",
       "    <tr>\n",
       "      <th>count</th>\n",
       "      <td>6206.000000</td>\n",
       "      <td>6206.000000</td>\n",
       "      <td>6206.000000</td>\n",
       "      <td>6206.000000</td>\n",
       "      <td>6206.000000</td>\n",
       "      <td>6206.0</td>\n",
       "    </tr>\n",
       "    <tr>\n",
       "      <th>mean</th>\n",
       "      <td>561.444086</td>\n",
       "      <td>14.595875</td>\n",
       "      <td>1018.121656</td>\n",
       "      <td>74.340477</td>\n",
       "      <td>1.268853</td>\n",
       "      <td>0.0</td>\n",
       "    </tr>\n",
       "    <tr>\n",
       "      <th>std</th>\n",
       "      <td>1667.344871</td>\n",
       "      <td>4.795352</td>\n",
       "      <td>5.206504</td>\n",
       "      <td>17.204386</td>\n",
       "      <td>1.283545</td>\n",
       "      <td>0.0</td>\n",
       "    </tr>\n",
       "    <tr>\n",
       "      <th>min</th>\n",
       "      <td>0.000000</td>\n",
       "      <td>1.000000</td>\n",
       "      <td>997.000000</td>\n",
       "      <td>6.000000</td>\n",
       "      <td>0.000000</td>\n",
       "      <td>0.0</td>\n",
       "    </tr>\n",
       "    <tr>\n",
       "      <th>25%</th>\n",
       "      <td>0.000000</td>\n",
       "      <td>11.000000</td>\n",
       "      <td>1015.000000</td>\n",
       "      <td>63.000000</td>\n",
       "      <td>0.000000</td>\n",
       "      <td>0.0</td>\n",
       "    </tr>\n",
       "    <tr>\n",
       "      <th>50%</th>\n",
       "      <td>0.000000</td>\n",
       "      <td>14.000000</td>\n",
       "      <td>1019.000000</td>\n",
       "      <td>78.000000</td>\n",
       "      <td>1.000000</td>\n",
       "      <td>0.0</td>\n",
       "    </tr>\n",
       "    <tr>\n",
       "      <th>75%</th>\n",
       "      <td>240.000000</td>\n",
       "      <td>18.000000</td>\n",
       "      <td>1022.000000</td>\n",
       "      <td>90.000000</td>\n",
       "      <td>2.000000</td>\n",
       "      <td>0.0</td>\n",
       "    </tr>\n",
       "    <tr>\n",
       "      <th>max</th>\n",
       "      <td>31083.000000</td>\n",
       "      <td>35.000000</td>\n",
       "      <td>1032.000000</td>\n",
       "      <td>100.000000</td>\n",
       "      <td>10.000000</td>\n",
       "      <td>0.0</td>\n",
       "    </tr>\n",
       "  </tbody>\n",
       "</table>\n",
       "</div>"
      ],
      "text/plain": [
       "       delay_in_seconds  avg_temperature  avg_atm_pressure  avg_humidity  \\\n",
       "count       6206.000000      6206.000000       6206.000000   6206.000000   \n",
       "mean         561.444086        14.595875       1018.121656     74.340477   \n",
       "std         1667.344871         4.795352          5.206504     17.204386   \n",
       "min            0.000000         1.000000        997.000000      6.000000   \n",
       "25%            0.000000        11.000000       1015.000000     63.000000   \n",
       "50%            0.000000        14.000000       1019.000000     78.000000   \n",
       "75%          240.000000        18.000000       1022.000000     90.000000   \n",
       "max        31083.000000        35.000000       1032.000000    100.000000   \n",
       "\n",
       "       avg_wind_speed  avg_precipitation  \n",
       "count     6206.000000             6206.0  \n",
       "mean         1.268853                0.0  \n",
       "std          1.283545                0.0  \n",
       "min          0.000000                0.0  \n",
       "25%          0.000000                0.0  \n",
       "50%          1.000000                0.0  \n",
       "75%          2.000000                0.0  \n",
       "max         10.000000                0.0  "
      ]
     },
     "execution_count": 152,
     "metadata": {},
     "output_type": "execute_result"
    }
   ],
   "source": [
    "dataset.describe()"
   ]
  },
  {
   "attachments": {},
   "cell_type": "markdown",
   "metadata": {},
   "source": [
    "## 4. Data Preprocessing"
   ]
  },
  {
   "cell_type": "markdown",
   "metadata": {},
   "source": [
    "## Drop unecessary columns"
   ]
  },
  {
   "cell_type": "code",
   "execution_count": 153,
   "metadata": {},
   "outputs": [],
   "source": [
    "# Drop city name and avg_precipitation: always the same value\n",
    "dataset.drop('avg_precipitation', axis=1, inplace=True)\n",
    "dataset.drop('city_name', axis=1, inplace=True)"
   ]
  },
  {
   "attachments": {},
   "cell_type": "markdown",
   "metadata": {},
   "source": [
    "### Look for any Duplicated Rows"
   ]
  },
  {
   "cell_type": "code",
   "execution_count": 154,
   "metadata": {},
   "outputs": [
    {
     "name": "stdout",
     "output_type": "stream",
     "text": [
      "Number of duplicated rows: 0\n"
     ]
    }
   ],
   "source": [
    "# Is there any duplicated data?\n",
    "print(\"Number of duplicated rows: {}\".format(dataset.duplicated().sum()))"
   ]
  },
  {
   "attachments": {},
   "cell_type": "markdown",
   "metadata": {},
   "source": [
    "#### Handle Affected Roads"
   ]
  },
  {
   "cell_type": "code",
   "execution_count": 155,
   "metadata": {},
   "outputs": [],
   "source": [
    "# Column affected_roads is a list of roads that are affected by the incident.\n",
    "# Replace this column with the number of roads affected by the incident.\n",
    "# Iterate over the number of affected roads of each incident.\n",
    "def replace_affected_roads(data):\n",
    "    \n",
    "    for index, row in data.iterrows():\n",
    "        # Check if the value is NaN\n",
    "        split_roads = []\n",
    "        if not pd.isnull(row['affected_roads']):\n",
    "            split_roads = row['affected_roads'].split(',')\n",
    "        \n",
    "        # Remove empty strings\n",
    "        split_roads = list(filter(None, split_roads))\n",
    "        \n",
    "        # Remove duplicates\n",
    "        split_roads = list(dict.fromkeys(split_roads))\n",
    "        \n",
    "        data.at[index, 'affected_roads'] = len(split_roads)\n",
    "        \n",
    "    # Rename column\n",
    "    data['affected_roads'] = data['affected_roads'].astype('int64')\n",
    "    data.rename(columns={'affected_roads': 'number_of_affected_roads'}, inplace=True)\n",
    "    \n",
    "    return data\n",
    "\n",
    "if 'affected_roads' in dataset.columns:\n",
    "    dataset = replace_affected_roads(dataset)"
   ]
  },
  {
   "cell_type": "markdown",
   "metadata": {},
   "source": [
    "### Handle Categorical data"
   ]
  },
  {
   "attachments": {},
   "cell_type": "markdown",
   "metadata": {},
   "source": [
    "###  Turn nominal values to numeric"
   ]
  },
  {
   "cell_type": "code",
   "execution_count": 156,
   "metadata": {},
   "outputs": [],
   "source": [
    "dict_magnitude_of_delay = {'UNDEFINED': 0, 'MODERATE':1, 'MAJOR':3}\n",
    "dataset['magnitude_of_delay'] = dataset['magnitude_of_delay'].map(dict_magnitude_of_delay)\n",
    "\n",
    "dict_luminosity = {'LOW_LIGHT': 0, 'LIGHT':1, 'DARK':2}\n",
    "dataset['luminosity'] = dataset['luminosity'].map(dict_luminosity)\n",
    "\n",
    "dict_avg_rain = {'Sem Chuva': 0, 'chuva fraca': 1, 'chuva moderada': 2, 'chuva forte': 3}\n",
    "dataset['avg_rain'] = dataset['avg_rain'].map(dict_avg_rain)"
   ]
  },
  {
   "attachments": {},
   "cell_type": "markdown",
   "metadata": {},
   "source": [
    "#### categorizing time of day"
   ]
  },
  {
   "cell_type": "code",
   "execution_count": 157,
   "metadata": {},
   "outputs": [],
   "source": [
    "# Use the hour and month value as continuous variables\n",
    "# Create a binary variable for weekend or not\n",
    "def create_time_variables(dataset):\n",
    "    #add 2 column with the month and day from time_of_day\n",
    "    dataset['month'] = pd.DatetimeIndex(dataset['record_date']).month\n",
    "    dataset['day'] = pd.DatetimeIndex(dataset['record_date']).day\n",
    "    return dataset\n",
    "\n",
    "\n",
    "dataset = create_time_variables(dataset)\n",
    "\n",
    "dataset.drop('record_date', axis=1, inplace=True)"
   ]
  },
  {
   "cell_type": "code",
   "execution_count": 158,
   "metadata": {},
   "outputs": [
    {
     "data": {
      "text/plain": [
       "<AxesSubplot:>"
      ]
     },
     "execution_count": 158,
     "metadata": {},
     "output_type": "execute_result"
    },
    {
     "data": {
      "image/png": "[encoded data removed]",
      "text/plain": [
       "<Figure size 432x288 with 2 Axes>"
      ]
     },
     "metadata": {
      "needs_background": "light"
     },
     "output_type": "display_data"
    }
   ],
   "source": [
    "corr_matrix = dataset.corr()\n",
    "sns.heatmap(corr_matrix,square=True, annot=True)"
   ]
  },
  {
   "attachments": {},
   "cell_type": "markdown",
   "metadata": {},
   "source": [
    "## 5. Models Training"
   ]
  },
  {
   "cell_type": "code",
   "execution_count": 159,
   "metadata": {},
   "outputs": [],
   "source": [
    "results_table = []\n",
    "results_dict = []"
   ]
  },
  {
   "attachments": {},
   "cell_type": "markdown",
   "metadata": {},
   "source": [
    "#### Helper Functions"
   ]
  },
  {
   "cell_type": "code",
   "execution_count": 160,
   "metadata": {},
   "outputs": [],
   "source": [
    "\"\"\" Save results to a file. \"\"\"\n",
    "def saveResults ( results, path ):\n",
    "    file = open(\"results/\" + path, 'w')\n",
    "    file.write (\"RowId,Incidents\\n\")\n",
    "    i = 1\n",
    "    for result in results :\n",
    "        file.write (str(i) + \",\" + result + \"\\n\")\n",
    "        i += 1"
   ]
  },
  {
   "cell_type": "code",
   "execution_count": 161,
   "metadata": {},
   "outputs": [],
   "source": [
    "def printOrWrite(model_name, predictions, results, results_to_test):\n",
    "    if results_to_test:\n",
    "        classification = metrics.classification_report(results, predictions, zero_division=0)\n",
    "        results_table.append({'model': model_name, 'table': classification})\n",
    "        classification_dict = metrics.classification_report(results, predictions, output_dict=True, zero_division=0)\n",
    "        results_dict.append({\n",
    "            'model': model_name,\n",
    "            'accuracy': classification_dict['accuracy'],\n",
    "            'precision': classification_dict['macro avg']['precision'],\n",
    "            'recall': classification_dict['macro avg']['recall'],\n",
    "            'f1-score': classification_dict['macro avg']['f1-score'],\n",
    "            })\n",
    "        print(model_name, \" Accuracy: \", metrics.accuracy_score(predictions, results))\n",
    "    else:\n",
    "        saveResults(predictions, model_name + '.csv')"
   ]
  },
  {
   "attachments": {},
   "cell_type": "markdown",
   "metadata": {},
   "source": [
    "#### Splitting the dataset"
   ]
  },
  {
   "cell_type": "code",
   "execution_count": 162,
   "metadata": {},
   "outputs": [],
   "source": [
    "# run for test or run for submission\n",
    "results_to_test = True\n",
    "\n",
    "# Copy the dataset\n",
    "train_df = dataset.copy()\n",
    "test_df = dataset.copy()\n",
    "\n",
    "# Filter the train and test data\n",
    "# Train data has the 'incidents' column value != 'test-only'\n",
    "# Test data has the 'incidents' column value == 'test-only'\n",
    "train_df = train_df[train_df['incidents'] != 'test-only']\n",
    "test_df = test_df[test_df['incidents'] == 'test-only']\n",
    "test_df.drop('incidents', axis=1, inplace=True)\n",
    "\n",
    "incidents = train_df['incidents'].copy()\n",
    "\n",
    "if results_to_test:\n",
    "    y = incidents\n",
    "    x = train_df.drop(['incidents'], axis=1)\n",
    "    x_training, x_testing, y_training, y_testing = model_selection.train_test_split(x, y, test_size=0.5, random_state=2022)\n",
    "\n",
    "else:\n",
    "    x_training = train_df.drop(['incidents'], axis=1)\n",
    "    y_training = incidents\n",
    "    x_testing = test_df\n",
    "    y_testing = None"
   ]
  },
  {
   "attachments": {},
   "cell_type": "markdown",
   "metadata": {},
   "source": [
    "### 5.1 Árvores de Decisão e Classificação"
   ]
  },
  {
   "cell_type": "code",
   "execution_count": 163,
   "metadata": {},
   "outputs": [
    {
     "name": "stdout",
     "output_type": "stream",
     "text": [
      "DecisionTrees  Accuracy:  0.8908\n"
     ]
    }
   ],
   "source": [
    "dtc = tree.DecisionTreeClassifier(random_state=2023, criterion=\"gini\", max_depth=10)\n",
    "dtc.fit(x_training,y_training)\n",
    "decision_trees_predictions = dtc.predict(x_testing)\n",
    "\n",
    "printOrWrite(\"DecisionTrees\", decision_trees_predictions, y_testing, results_to_test)"
   ]
  },
  {
   "attachments": {},
   "cell_type": "markdown",
   "metadata": {},
   "source": [
    "### 5.2 RandomForestClassifier"
   ]
  },
  {
   "cell_type": "code",
   "execution_count": 164,
   "metadata": {},
   "outputs": [
    {
     "name": "stdout",
     "output_type": "stream",
     "text": [
      "RandomForest  Accuracy:  0.8956\n"
     ]
    }
   ],
   "source": [
    "random_forest = RandomForestClassifier(n_estimators=600, random_state=2023)\n",
    "random_forest.fit(x_training, y_training)\n",
    "random_forest_predictions = random_forest.predict(x_testing)\n",
    "\n",
    "printOrWrite(\"RandomForest\", random_forest_predictions, y_testing, results_to_test)"
   ]
  },
  {
   "attachments": {},
   "cell_type": "markdown",
   "metadata": {},
   "source": [
    "### 5.3 Regressão Logística"
   ]
  },
  {
   "cell_type": "code",
   "execution_count": 165,
   "metadata": {},
   "outputs": [
    {
     "name": "stdout",
     "output_type": "stream",
     "text": [
      "LogisticRegression  Accuracy:  0.576\n"
     ]
    }
   ],
   "source": [
    "logmodel = linear_model.LogisticRegression(C=1.0, class_weight=None, dual=False, fit_intercept=True,\n",
    "          intercept_scaling=1, max_iter=100, multi_class='ovr', n_jobs=1,\n",
    "          penalty='l2', random_state=None, solver='liblinear', tol=0.0001,\n",
    "          verbose=0, warm_start=False)\n",
    "logmodel.fit(x_training,y_training)\n",
    "logistic_regression_predictions = logmodel.predict(x_testing)\n",
    "\n",
    "printOrWrite(\"LogisticRegression\", logistic_regression_predictions, y_testing, results_to_test)"
   ]
  },
  {
   "attachments": {},
   "cell_type": "markdown",
   "metadata": {},
   "source": [
    "### 5.4 SVC"
   ]
  },
  {
   "cell_type": "code",
   "execution_count": 166,
   "metadata": {},
   "outputs": [
    {
     "name": "stdout",
     "output_type": "stream",
     "text": [
      "SVC  Accuracy:  0.5484\n"
     ]
    }
   ],
   "source": [
    "model = SVC(random_state=2023)\n",
    "model.fit(x_training, y_training)\n",
    "hold_out_predictions = model.predict(x_testing)\n",
    "\n",
    "printOrWrite(\"SVC\", hold_out_predictions, y_testing, results_to_test)"
   ]
  },
  {
   "attachments": {},
   "cell_type": "markdown",
   "metadata": {},
   "source": [
    "### 5.6 KNeighborsClassifier"
   ]
  },
  {
   "cell_type": "code",
   "execution_count": 167,
   "metadata": {},
   "outputs": [
    {
     "name": "stdout",
     "output_type": "stream",
     "text": [
      "KNN  Accuracy:  0.736\n"
     ]
    }
   ],
   "source": [
    "knn = KNeighborsClassifier(n_neighbors=3)\n",
    "knn.fit(x_training, y_training)\n",
    "knn_predictions = knn.predict(x_testing)\n",
    "\n",
    "printOrWrite(\"KNN\", knn_predictions, y_testing, results_to_test)"
   ]
  },
  {
   "attachments": {},
   "cell_type": "markdown",
   "metadata": {},
   "source": [
    "### 5.7 MLPClassifier"
   ]
  },
  {
   "cell_type": "code",
   "execution_count": 168,
   "metadata": {},
   "outputs": [
    {
     "name": "stdout",
     "output_type": "stream",
     "text": [
      "MLPClassifier  Accuracy:  0.5544\n"
     ]
    }
   ],
   "source": [
    "mlpclass = MLPClassifier(alpha=1, max_iter=1000)\n",
    "mlpclass.fit(x_training, y_training)\n",
    "mlpclass_predictions = mlpclass.predict(x_testing)\n",
    "\n",
    "printOrWrite(\"MLPClassifier\", mlpclass_predictions, y_testing, results_to_test)"
   ]
  },
  {
   "attachments": {},
   "cell_type": "markdown",
   "metadata": {},
   "source": [
    "### 5.8 AdaBoostClassifier"
   ]
  },
  {
   "cell_type": "code",
   "execution_count": 169,
   "metadata": {},
   "outputs": [
    {
     "name": "stdout",
     "output_type": "stream",
     "text": [
      "AdaBoost  Accuracy:  0.71\n"
     ]
    }
   ],
   "source": [
    "adaBoost = AdaBoostClassifier(n_estimators=100, random_state=2023)\n",
    "adaBoost.fit(x_training, y_training)\n",
    "adaBoost_predictions = adaBoost.predict(x_testing)\n",
    "\n",
    "printOrWrite(\"AdaBoost\", adaBoost_predictions, y_testing, results_to_test)"
   ]
  },
  {
   "attachments": {},
   "cell_type": "markdown",
   "metadata": {},
   "source": [
    "### 5.9 GaussianNB"
   ]
  },
  {
   "cell_type": "code",
   "execution_count": 170,
   "metadata": {},
   "outputs": [
    {
     "name": "stdout",
     "output_type": "stream",
     "text": [
      "GaussianNB  Accuracy:  0.524\n"
     ]
    }
   ],
   "source": [
    "gaussianNB = GaussianNB()\n",
    "gaussianNB.fit(x_training, y_training)\n",
    "gaussianNB_predictions = gaussianNB.predict(x_testing)\n",
    "\n",
    "printOrWrite(\"GaussianNB\", gaussianNB_predictions, y_testing, results_to_test)"
   ]
  },
  {
   "attachments": {},
   "cell_type": "markdown",
   "metadata": {},
   "source": [
    "### 5.10 QuadraticDiscriminantAnalysis"
   ]
  },
  {
   "cell_type": "code",
   "execution_count": 171,
   "metadata": {},
   "outputs": [
    {
     "name": "stdout",
     "output_type": "stream",
     "text": [
      "QuadraticDiscriminantAnalysis  Accuracy:  0.5708\n"
     ]
    }
   ],
   "source": [
    "quadraticDiscriminantAnalysis = QuadraticDiscriminantAnalysis()\n",
    "quadraticDiscriminantAnalysis.fit(x_training, y_training)\n",
    "quadraticDiscriminantAnalysis_predictions = quadraticDiscriminantAnalysis.predict(x_testing)\n",
    "\n",
    "printOrWrite(\"QuadraticDiscriminantAnalysis\", quadraticDiscriminantAnalysis_predictions, y_testing, results_to_test)"
   ]
  },
  {
   "attachments": {},
   "cell_type": "markdown",
   "metadata": {},
   "source": [
    "### 5.11 GaussianProcessClassifier"
   ]
  },
  {
   "cell_type": "code",
   "execution_count": 172,
   "metadata": {},
   "outputs": [
    {
     "data": {
      "text/html": [
       "<pre style=\"white-space:pre;overflow-x:auto;line-height:normal;font-family:Menlo,'DejaVu Sans Mono',consolas,'Courier New',monospace\"><span style=\"color: #800000; text-decoration-color: #800000\">╭─────────────────────────────── </span><span style=\"color: #800000; text-decoration-color: #800000; font-weight: bold\">Traceback </span><span style=\"color: #bf7f7f; text-decoration-color: #bf7f7f; font-weight: bold\">(most recent call last)</span><span style=\"color: #800000; text-decoration-color: #800000\"> ────────────────────────────────╮</span>\n",
       "<span style=\"color: #800000; text-decoration-color: #800000\">│</span> <span style=\"color: #808000; text-decoration-color: #808000\">&lt;ipython-input-172-502ce00a2407&gt;</span>:<span style=\"color: #0000ff; text-decoration-color: #0000ff\">2</span> in <span style=\"color: #00ff00; text-decoration-color: #00ff00\">&lt;module&gt;</span>                                                   <span style=\"color: #800000; text-decoration-color: #800000\">│</span>\n",
       "<span style=\"color: #800000; text-decoration-color: #800000\">│</span>                                                                                                  <span style=\"color: #800000; text-decoration-color: #800000\">│</span>\n",
       "<span style=\"color: #800000; text-decoration-color: #800000\">│</span> <span style=\"color: #bfbf7f; text-decoration-color: #bfbf7f\">/home/lcmj/anaconda3/envs/daa/lib/python3.6/site-packages/sklearn/gaussian_process/</span><span style=\"color: #808000; text-decoration-color: #808000; font-weight: bold\">_gpc.py</span>:<span style=\"color: #0000ff; text-decoration-color: #0000ff\">664</span>   <span style=\"color: #800000; text-decoration-color: #800000\">│</span>\n",
       "<span style=\"color: #800000; text-decoration-color: #800000\">│</span> in <span style=\"color: #00ff00; text-decoration-color: #00ff00\">fit</span>                                                                                           <span style=\"color: #800000; text-decoration-color: #800000\">│</span>\n",
       "<span style=\"color: #800000; text-decoration-color: #800000\">│</span>                                                                                                  <span style=\"color: #800000; text-decoration-color: #800000\">│</span>\n",
       "<span style=\"color: #800000; text-decoration-color: #800000\">│</span>   <span style=\"color: #7f7f7f; text-decoration-color: #7f7f7f\">661 │   │   │   │   </span><span style=\"color: #0000ff; text-decoration-color: #0000ff\">raise</span> <span style=\"color: #00ffff; text-decoration-color: #00ffff\">ValueError</span>(<span style=\"color: #808000; text-decoration-color: #808000\">\"Unknown multi-class mode %s\"</span>                             <span style=\"color: #800000; text-decoration-color: #800000\">│</span>\n",
       "<span style=\"color: #800000; text-decoration-color: #800000\">│</span>   <span style=\"color: #7f7f7f; text-decoration-color: #7f7f7f\">662 │   │   │   │   │   │   │   │    </span>% <span style=\"color: #00ffff; text-decoration-color: #00ffff\">self</span>.multi_class)                                       <span style=\"color: #800000; text-decoration-color: #800000\">│</span>\n",
       "<span style=\"color: #800000; text-decoration-color: #800000\">│</span>   <span style=\"color: #7f7f7f; text-decoration-color: #7f7f7f\">663 │   │   </span>                                                                                   <span style=\"color: #800000; text-decoration-color: #800000\">│</span>\n",
       "<span style=\"color: #800000; text-decoration-color: #800000\">│</span> <span style=\"color: #800000; text-decoration-color: #800000\">❱ </span>664 <span style=\"color: #7f7f7f; text-decoration-color: #7f7f7f\">│   │   </span><span style=\"color: #00ffff; text-decoration-color: #00ffff\">self</span>.base_estimator_.fit(X, y)                                                     <span style=\"color: #800000; text-decoration-color: #800000\">│</span>\n",
       "<span style=\"color: #800000; text-decoration-color: #800000\">│</span>   <span style=\"color: #7f7f7f; text-decoration-color: #7f7f7f\">665 │   │   </span>                                                                                   <span style=\"color: #800000; text-decoration-color: #800000\">│</span>\n",
       "<span style=\"color: #800000; text-decoration-color: #800000\">│</span>   <span style=\"color: #7f7f7f; text-decoration-color: #7f7f7f\">666 │   │   </span><span style=\"color: #0000ff; text-decoration-color: #0000ff\">if</span> <span style=\"color: #00ffff; text-decoration-color: #00ffff\">self</span>.n_classes_ &gt; <span style=\"color: #0000ff; text-decoration-color: #0000ff\">2</span>:                                                            <span style=\"color: #800000; text-decoration-color: #800000\">│</span>\n",
       "<span style=\"color: #800000; text-decoration-color: #800000\">│</span>   <span style=\"color: #7f7f7f; text-decoration-color: #7f7f7f\">667 │   │   │   </span><span style=\"color: #00ffff; text-decoration-color: #00ffff\">self</span>.log_marginal_likelihood_value_ = np.mean(                                 <span style=\"color: #800000; text-decoration-color: #800000\">│</span>\n",
       "<span style=\"color: #800000; text-decoration-color: #800000\">│</span>                                                                                                  <span style=\"color: #800000; text-decoration-color: #800000\">│</span>\n",
       "<span style=\"color: #800000; text-decoration-color: #800000\">│</span> <span style=\"color: #bfbf7f; text-decoration-color: #bfbf7f\">/home/lcmj/anaconda3/envs/daa/lib/python3.6/site-packages/sklearn/</span><span style=\"color: #808000; text-decoration-color: #808000; font-weight: bold\">multiclass.py</span>:<span style=\"color: #0000ff; text-decoration-color: #0000ff\">285</span> in <span style=\"color: #00ff00; text-decoration-color: #00ff00\">fit</span>       <span style=\"color: #800000; text-decoration-color: #800000\">│</span>\n",
       "<span style=\"color: #800000; text-decoration-color: #800000\">│</span>                                                                                                  <span style=\"color: #800000; text-decoration-color: #800000\">│</span>\n",
       "<span style=\"color: #800000; text-decoration-color: #800000\">│</span>   <span style=\"color: #7f7f7f; text-decoration-color: #7f7f7f\">282 │   │   │   </span><span style=\"color: #00ffff; text-decoration-color: #00ffff\">self</span>.estimator, X, column, classes=[                                           <span style=\"color: #800000; text-decoration-color: #800000\">│</span>\n",
       "<span style=\"color: #800000; text-decoration-color: #800000\">│</span>   <span style=\"color: #7f7f7f; text-decoration-color: #7f7f7f\">283 │   │   │   │   </span><span style=\"color: #808000; text-decoration-color: #808000\">\"not %s\"</span> % <span style=\"color: #00ffff; text-decoration-color: #00ffff\">self</span>.label_binarizer_.classes_[i],                              <span style=\"color: #800000; text-decoration-color: #800000\">│</span>\n",
       "<span style=\"color: #800000; text-decoration-color: #800000\">│</span>   <span style=\"color: #7f7f7f; text-decoration-color: #7f7f7f\">284 │   │   │   │   </span><span style=\"color: #00ffff; text-decoration-color: #00ffff\">self</span>.label_binarizer_.classes_[i]])                                        <span style=\"color: #800000; text-decoration-color: #800000\">│</span>\n",
       "<span style=\"color: #800000; text-decoration-color: #800000\">│</span> <span style=\"color: #800000; text-decoration-color: #800000\">❱ </span>285 <span style=\"color: #7f7f7f; text-decoration-color: #7f7f7f\">│   │   │   </span><span style=\"color: #0000ff; text-decoration-color: #0000ff\">for</span> i, column <span style=\"color: #ff00ff; text-decoration-color: #ff00ff\">in</span> <span style=\"color: #00ffff; text-decoration-color: #00ffff\">enumerate</span>(columns))                                           <span style=\"color: #800000; text-decoration-color: #800000\">│</span>\n",
       "<span style=\"color: #800000; text-decoration-color: #800000\">│</span>   <span style=\"color: #7f7f7f; text-decoration-color: #7f7f7f\">286 │   │   </span>                                                                                   <span style=\"color: #800000; text-decoration-color: #800000\">│</span>\n",
       "<span style=\"color: #800000; text-decoration-color: #800000\">│</span>   <span style=\"color: #7f7f7f; text-decoration-color: #7f7f7f\">287 │   │   </span><span style=\"color: #0000ff; text-decoration-color: #0000ff\">return</span> <span style=\"color: #00ffff; text-decoration-color: #00ffff\">self</span>                                                                        <span style=\"color: #800000; text-decoration-color: #800000\">│</span>\n",
       "<span style=\"color: #800000; text-decoration-color: #800000\">│</span>   <span style=\"color: #7f7f7f; text-decoration-color: #7f7f7f\">288 </span>                                                                                           <span style=\"color: #800000; text-decoration-color: #800000\">│</span>\n",
       "<span style=\"color: #800000; text-decoration-color: #800000\">│</span>                                                                                                  <span style=\"color: #800000; text-decoration-color: #800000\">│</span>\n",
       "<span style=\"color: #800000; text-decoration-color: #800000\">│</span> <span style=\"color: #bfbf7f; text-decoration-color: #bfbf7f\">/home/lcmj/anaconda3/envs/daa/lib/python3.6/site-packages/joblib/</span><span style=\"color: #808000; text-decoration-color: #808000; font-weight: bold\">parallel.py</span>:<span style=\"color: #0000ff; text-decoration-color: #0000ff\">1041</span> in <span style=\"color: #00ff00; text-decoration-color: #00ff00\">__call__</span>    <span style=\"color: #800000; text-decoration-color: #800000\">│</span>\n",
       "<span style=\"color: #800000; text-decoration-color: #800000\">│</span>                                                                                                  <span style=\"color: #800000; text-decoration-color: #800000\">│</span>\n",
       "<span style=\"color: #800000; text-decoration-color: #800000\">│</span>   <span style=\"color: #7f7f7f; text-decoration-color: #7f7f7f\">1038 │   │   │   # was very quick and its callback already dispatched all the</span>                  <span style=\"color: #800000; text-decoration-color: #800000\">│</span>\n",
       "<span style=\"color: #800000; text-decoration-color: #800000\">│</span>   <span style=\"color: #7f7f7f; text-decoration-color: #7f7f7f\">1039 │   │   │   # remaining jobs.</span>                                                             <span style=\"color: #800000; text-decoration-color: #800000\">│</span>\n",
       "<span style=\"color: #800000; text-decoration-color: #800000\">│</span>   <span style=\"color: #7f7f7f; text-decoration-color: #7f7f7f\">1040 │   │   │   </span><span style=\"color: #00ffff; text-decoration-color: #00ffff\">self</span>._iterating = <span style=\"color: #0000ff; text-decoration-color: #0000ff\">False</span>                                                       <span style=\"color: #800000; text-decoration-color: #800000\">│</span>\n",
       "<span style=\"color: #800000; text-decoration-color: #800000\">│</span> <span style=\"color: #800000; text-decoration-color: #800000\">❱ </span>1041 <span style=\"color: #7f7f7f; text-decoration-color: #7f7f7f\">│   │   │   </span><span style=\"color: #0000ff; text-decoration-color: #0000ff\">if</span> <span style=\"color: #00ffff; text-decoration-color: #00ffff\">self</span>.dispatch_one_batch(iterator):                                         <span style=\"color: #800000; text-decoration-color: #800000\">│</span>\n",
       "<span style=\"color: #800000; text-decoration-color: #800000\">│</span>   <span style=\"color: #7f7f7f; text-decoration-color: #7f7f7f\">1042 │   │   │   │   </span><span style=\"color: #00ffff; text-decoration-color: #00ffff\">self</span>._iterating = <span style=\"color: #00ffff; text-decoration-color: #00ffff\">self</span>._original_iterator <span style=\"color: #ff00ff; text-decoration-color: #ff00ff\">is</span> <span style=\"color: #ff00ff; text-decoration-color: #ff00ff\">not</span> <span style=\"color: #0000ff; text-decoration-color: #0000ff\">None</span>                     <span style=\"color: #800000; text-decoration-color: #800000\">│</span>\n",
       "<span style=\"color: #800000; text-decoration-color: #800000\">│</span>   <span style=\"color: #7f7f7f; text-decoration-color: #7f7f7f\">1043 │   │   │   </span>                                                                              <span style=\"color: #800000; text-decoration-color: #800000\">│</span>\n",
       "<span style=\"color: #800000; text-decoration-color: #800000\">│</span>   <span style=\"color: #7f7f7f; text-decoration-color: #7f7f7f\">1044 │   │   │   </span><span style=\"color: #0000ff; text-decoration-color: #0000ff\">while</span> <span style=\"color: #00ffff; text-decoration-color: #00ffff\">self</span>.dispatch_one_batch(iterator):                                      <span style=\"color: #800000; text-decoration-color: #800000\">│</span>\n",
       "<span style=\"color: #800000; text-decoration-color: #800000\">│</span>                                                                                                  <span style=\"color: #800000; text-decoration-color: #800000\">│</span>\n",
       "<span style=\"color: #800000; text-decoration-color: #800000\">│</span> <span style=\"color: #bfbf7f; text-decoration-color: #bfbf7f\">/home/lcmj/anaconda3/envs/daa/lib/python3.6/site-packages/joblib/</span><span style=\"color: #808000; text-decoration-color: #808000; font-weight: bold\">parallel.py</span>:<span style=\"color: #0000ff; text-decoration-color: #0000ff\">859</span> in              <span style=\"color: #800000; text-decoration-color: #800000\">│</span>\n",
       "<span style=\"color: #800000; text-decoration-color: #800000\">│</span> <span style=\"color: #00ff00; text-decoration-color: #00ff00\">dispatch_one_batch</span>                                                                               <span style=\"color: #800000; text-decoration-color: #800000\">│</span>\n",
       "<span style=\"color: #800000; text-decoration-color: #800000\">│</span>                                                                                                  <span style=\"color: #800000; text-decoration-color: #800000\">│</span>\n",
       "<span style=\"color: #800000; text-decoration-color: #800000\">│</span>   <span style=\"color: #7f7f7f; text-decoration-color: #7f7f7f\"> 856 │   │   │   │   # No more tasks available in the iterator: tell caller to stop.</span>           <span style=\"color: #800000; text-decoration-color: #800000\">│</span>\n",
       "<span style=\"color: #800000; text-decoration-color: #800000\">│</span>   <span style=\"color: #7f7f7f; text-decoration-color: #7f7f7f\"> 857 │   │   │   │   </span><span style=\"color: #0000ff; text-decoration-color: #0000ff\">return</span> <span style=\"color: #0000ff; text-decoration-color: #0000ff\">False</span>                                                              <span style=\"color: #800000; text-decoration-color: #800000\">│</span>\n",
       "<span style=\"color: #800000; text-decoration-color: #800000\">│</span>   <span style=\"color: #7f7f7f; text-decoration-color: #7f7f7f\"> 858 │   │   │   </span><span style=\"color: #0000ff; text-decoration-color: #0000ff\">else</span>:                                                                         <span style=\"color: #800000; text-decoration-color: #800000\">│</span>\n",
       "<span style=\"color: #800000; text-decoration-color: #800000\">│</span> <span style=\"color: #800000; text-decoration-color: #800000\">❱ </span> 859 <span style=\"color: #7f7f7f; text-decoration-color: #7f7f7f\">│   │   │   │   </span><span style=\"color: #00ffff; text-decoration-color: #00ffff\">self</span>._dispatch(tasks)                                                     <span style=\"color: #800000; text-decoration-color: #800000\">│</span>\n",
       "<span style=\"color: #800000; text-decoration-color: #800000\">│</span>   <span style=\"color: #7f7f7f; text-decoration-color: #7f7f7f\"> 860 │   │   │   │   </span><span style=\"color: #0000ff; text-decoration-color: #0000ff\">return</span> <span style=\"color: #0000ff; text-decoration-color: #0000ff\">True</span>                                                               <span style=\"color: #800000; text-decoration-color: #800000\">│</span>\n",
       "<span style=\"color: #800000; text-decoration-color: #800000\">│</span>   <span style=\"color: #7f7f7f; text-decoration-color: #7f7f7f\"> 861 │   </span>                                                                                      <span style=\"color: #800000; text-decoration-color: #800000\">│</span>\n",
       "<span style=\"color: #800000; text-decoration-color: #800000\">│</span>   <span style=\"color: #7f7f7f; text-decoration-color: #7f7f7f\"> 862 │   </span><span style=\"color: #0000ff; text-decoration-color: #0000ff\">def</span> <span style=\"color: #00ff00; text-decoration-color: #00ff00\">_print</span>(<span style=\"color: #00ffff; text-decoration-color: #00ffff\">self</span>, msg, msg_args):                                                      <span style=\"color: #800000; text-decoration-color: #800000\">│</span>\n",
       "<span style=\"color: #800000; text-decoration-color: #800000\">│</span>                                                                                                  <span style=\"color: #800000; text-decoration-color: #800000\">│</span>\n",
       "<span style=\"color: #800000; text-decoration-color: #800000\">│</span> <span style=\"color: #bfbf7f; text-decoration-color: #bfbf7f\">/home/lcmj/anaconda3/envs/daa/lib/python3.6/site-packages/joblib/</span><span style=\"color: #808000; text-decoration-color: #808000; font-weight: bold\">parallel.py</span>:<span style=\"color: #0000ff; text-decoration-color: #0000ff\">777</span> in <span style=\"color: #00ff00; text-decoration-color: #00ff00\">_dispatch</span>    <span style=\"color: #800000; text-decoration-color: #800000\">│</span>\n",
       "<span style=\"color: #800000; text-decoration-color: #800000\">│</span>                                                                                                  <span style=\"color: #800000; text-decoration-color: #800000\">│</span>\n",
       "<span style=\"color: #800000; text-decoration-color: #800000\">│</span>   <span style=\"color: #7f7f7f; text-decoration-color: #7f7f7f\"> 774 │   │   </span>cb = BatchCompletionCallBack(dispatch_timestamp, <span style=\"color: #00ffff; text-decoration-color: #00ffff\">len</span>(batch), <span style=\"color: #00ffff; text-decoration-color: #00ffff\">self</span>)                <span style=\"color: #800000; text-decoration-color: #800000\">│</span>\n",
       "<span style=\"color: #800000; text-decoration-color: #800000\">│</span>   <span style=\"color: #7f7f7f; text-decoration-color: #7f7f7f\"> 775 │   │   </span><span style=\"color: #0000ff; text-decoration-color: #0000ff\">with</span> <span style=\"color: #00ffff; text-decoration-color: #00ffff\">self</span>._lock:                                                                  <span style=\"color: #800000; text-decoration-color: #800000\">│</span>\n",
       "<span style=\"color: #800000; text-decoration-color: #800000\">│</span>   <span style=\"color: #7f7f7f; text-decoration-color: #7f7f7f\"> 776 │   │   │   </span>job_idx = <span style=\"color: #00ffff; text-decoration-color: #00ffff\">len</span>(<span style=\"color: #00ffff; text-decoration-color: #00ffff\">self</span>._jobs)                                                     <span style=\"color: #800000; text-decoration-color: #800000\">│</span>\n",
       "<span style=\"color: #800000; text-decoration-color: #800000\">│</span> <span style=\"color: #800000; text-decoration-color: #800000\">❱ </span> 777 <span style=\"color: #7f7f7f; text-decoration-color: #7f7f7f\">│   │   │   </span>job = <span style=\"color: #00ffff; text-decoration-color: #00ffff\">self</span>._backend.apply_async(batch, callback=cb)                           <span style=\"color: #800000; text-decoration-color: #800000\">│</span>\n",
       "<span style=\"color: #800000; text-decoration-color: #800000\">│</span>   <span style=\"color: #7f7f7f; text-decoration-color: #7f7f7f\"> 778 │   │   │   # A job can complete so quickly than its callback is</span>                          <span style=\"color: #800000; text-decoration-color: #800000\">│</span>\n",
       "<span style=\"color: #800000; text-decoration-color: #800000\">│</span>   <span style=\"color: #7f7f7f; text-decoration-color: #7f7f7f\"> 779 │   │   │   # called before we get here, causing self._jobs to</span>                            <span style=\"color: #800000; text-decoration-color: #800000\">│</span>\n",
       "<span style=\"color: #800000; text-decoration-color: #800000\">│</span>   <span style=\"color: #7f7f7f; text-decoration-color: #7f7f7f\"> 780 │   │   │   # grow. To ensure correct results ordering, .insert is</span>                        <span style=\"color: #800000; text-decoration-color: #800000\">│</span>\n",
       "<span style=\"color: #800000; text-decoration-color: #800000\">│</span>                                                                                                  <span style=\"color: #800000; text-decoration-color: #800000\">│</span>\n",
       "<span style=\"color: #800000; text-decoration-color: #800000\">│</span> <span style=\"color: #bfbf7f; text-decoration-color: #bfbf7f\">/home/lcmj/anaconda3/envs/daa/lib/python3.6/site-packages/joblib/</span><span style=\"color: #808000; text-decoration-color: #808000; font-weight: bold\">_parallel_backends.py</span>:<span style=\"color: #0000ff; text-decoration-color: #0000ff\">208</span> in    <span style=\"color: #800000; text-decoration-color: #800000\">│</span>\n",
       "<span style=\"color: #800000; text-decoration-color: #800000\">│</span> <span style=\"color: #00ff00; text-decoration-color: #00ff00\">apply_async</span>                                                                                      <span style=\"color: #800000; text-decoration-color: #800000\">│</span>\n",
       "<span style=\"color: #800000; text-decoration-color: #800000\">│</span>                                                                                                  <span style=\"color: #800000; text-decoration-color: #800000\">│</span>\n",
       "<span style=\"color: #800000; text-decoration-color: #800000\">│</span>   <span style=\"color: #7f7f7f; text-decoration-color: #7f7f7f\">205 │   </span>                                                                                       <span style=\"color: #800000; text-decoration-color: #800000\">│</span>\n",
       "<span style=\"color: #800000; text-decoration-color: #800000\">│</span>   <span style=\"color: #7f7f7f; text-decoration-color: #7f7f7f\">206 │   </span><span style=\"color: #0000ff; text-decoration-color: #0000ff\">def</span> <span style=\"color: #00ff00; text-decoration-color: #00ff00\">apply_async</span>(<span style=\"color: #00ffff; text-decoration-color: #00ffff\">self</span>, func, callback=<span style=\"color: #0000ff; text-decoration-color: #0000ff\">None</span>):                                            <span style=\"color: #800000; text-decoration-color: #800000\">│</span>\n",
       "<span style=\"color: #800000; text-decoration-color: #800000\">│</span>   <span style=\"color: #7f7f7f; text-decoration-color: #7f7f7f\">207 │   │   </span><span style=\"color: #808000; text-decoration-color: #808000\">\"\"\"Schedule a func to be run\"\"\"</span>                                                    <span style=\"color: #800000; text-decoration-color: #800000\">│</span>\n",
       "<span style=\"color: #800000; text-decoration-color: #800000\">│</span> <span style=\"color: #800000; text-decoration-color: #800000\">❱ </span>208 <span style=\"color: #7f7f7f; text-decoration-color: #7f7f7f\">│   │   </span>result = ImmediateResult(func)                                                     <span style=\"color: #800000; text-decoration-color: #800000\">│</span>\n",
       "<span style=\"color: #800000; text-decoration-color: #800000\">│</span>   <span style=\"color: #7f7f7f; text-decoration-color: #7f7f7f\">209 │   │   </span><span style=\"color: #0000ff; text-decoration-color: #0000ff\">if</span> callback:                                                                       <span style=\"color: #800000; text-decoration-color: #800000\">│</span>\n",
       "<span style=\"color: #800000; text-decoration-color: #800000\">│</span>   <span style=\"color: #7f7f7f; text-decoration-color: #7f7f7f\">210 │   │   │   </span>callback(result)                                                               <span style=\"color: #800000; text-decoration-color: #800000\">│</span>\n",
       "<span style=\"color: #800000; text-decoration-color: #800000\">│</span>   <span style=\"color: #7f7f7f; text-decoration-color: #7f7f7f\">211 │   │   </span><span style=\"color: #0000ff; text-decoration-color: #0000ff\">return</span> result                                                                      <span style=\"color: #800000; text-decoration-color: #800000\">│</span>\n",
       "<span style=\"color: #800000; text-decoration-color: #800000\">│</span>                                                                                                  <span style=\"color: #800000; text-decoration-color: #800000\">│</span>\n",
       "<span style=\"color: #800000; text-decoration-color: #800000\">│</span> <span style=\"color: #bfbf7f; text-decoration-color: #bfbf7f\">/home/lcmj/anaconda3/envs/daa/lib/python3.6/site-packages/joblib/</span><span style=\"color: #808000; text-decoration-color: #808000; font-weight: bold\">_parallel_backends.py</span>:<span style=\"color: #0000ff; text-decoration-color: #0000ff\">572</span> in    <span style=\"color: #800000; text-decoration-color: #800000\">│</span>\n",
       "<span style=\"color: #800000; text-decoration-color: #800000\">│</span> <span style=\"color: #00ff00; text-decoration-color: #00ff00\">__init__</span>                                                                                         <span style=\"color: #800000; text-decoration-color: #800000\">│</span>\n",
       "<span style=\"color: #800000; text-decoration-color: #800000\">│</span>                                                                                                  <span style=\"color: #800000; text-decoration-color: #800000\">│</span>\n",
       "<span style=\"color: #800000; text-decoration-color: #800000\">│</span>   <span style=\"color: #7f7f7f; text-decoration-color: #7f7f7f\">569 │   </span><span style=\"color: #0000ff; text-decoration-color: #0000ff\">def</span> <span style=\"color: #00ff00; text-decoration-color: #00ff00\">__init__</span>(<span style=\"color: #00ffff; text-decoration-color: #00ffff\">self</span>, batch):                                                             <span style=\"color: #800000; text-decoration-color: #800000\">│</span>\n",
       "<span style=\"color: #800000; text-decoration-color: #800000\">│</span>   <span style=\"color: #7f7f7f; text-decoration-color: #7f7f7f\">570 │   │   # Don't delay the application, to avoid keeping the input</span>                          <span style=\"color: #800000; text-decoration-color: #800000\">│</span>\n",
       "<span style=\"color: #800000; text-decoration-color: #800000\">│</span>   <span style=\"color: #7f7f7f; text-decoration-color: #7f7f7f\">571 │   │   # arguments in memory</span>                                                              <span style=\"color: #800000; text-decoration-color: #800000\">│</span>\n",
       "<span style=\"color: #800000; text-decoration-color: #800000\">│</span> <span style=\"color: #800000; text-decoration-color: #800000\">❱ </span>572 <span style=\"color: #7f7f7f; text-decoration-color: #7f7f7f\">│   │   </span><span style=\"color: #00ffff; text-decoration-color: #00ffff\">self</span>.results = batch()                                                             <span style=\"color: #800000; text-decoration-color: #800000\">│</span>\n",
       "<span style=\"color: #800000; text-decoration-color: #800000\">│</span>   <span style=\"color: #7f7f7f; text-decoration-color: #7f7f7f\">573 │   </span>                                                                                       <span style=\"color: #800000; text-decoration-color: #800000\">│</span>\n",
       "<span style=\"color: #800000; text-decoration-color: #800000\">│</span>   <span style=\"color: #7f7f7f; text-decoration-color: #7f7f7f\">574 │   </span><span style=\"color: #0000ff; text-decoration-color: #0000ff\">def</span> <span style=\"color: #00ff00; text-decoration-color: #00ff00\">get</span>(<span style=\"color: #00ffff; text-decoration-color: #00ffff\">self</span>):                                                                         <span style=\"color: #800000; text-decoration-color: #800000\">│</span>\n",
       "<span style=\"color: #800000; text-decoration-color: #800000\">│</span>   <span style=\"color: #7f7f7f; text-decoration-color: #7f7f7f\">575 │   │   </span><span style=\"color: #0000ff; text-decoration-color: #0000ff\">return</span> <span style=\"color: #00ffff; text-decoration-color: #00ffff\">self</span>.results                                                                <span style=\"color: #800000; text-decoration-color: #800000\">│</span>\n",
       "<span style=\"color: #800000; text-decoration-color: #800000\">│</span>                                                                                                  <span style=\"color: #800000; text-decoration-color: #800000\">│</span>\n",
       "<span style=\"color: #800000; text-decoration-color: #800000\">│</span> <span style=\"color: #bfbf7f; text-decoration-color: #bfbf7f\">/home/lcmj/anaconda3/envs/daa/lib/python3.6/site-packages/joblib/</span><span style=\"color: #808000; text-decoration-color: #808000; font-weight: bold\">parallel.py</span>:<span style=\"color: #0000ff; text-decoration-color: #0000ff\">263</span> in <span style=\"color: #00ff00; text-decoration-color: #00ff00\">__call__</span>     <span style=\"color: #800000; text-decoration-color: #800000\">│</span>\n",
       "<span style=\"color: #800000; text-decoration-color: #800000\">│</span>                                                                                                  <span style=\"color: #800000; text-decoration-color: #800000\">│</span>\n",
       "<span style=\"color: #800000; text-decoration-color: #800000\">│</span>   <span style=\"color: #7f7f7f; text-decoration-color: #7f7f7f\"> 260 │   │   # change the default number of processes to -1</span>                                    <span style=\"color: #800000; text-decoration-color: #800000\">│</span>\n",
       "<span style=\"color: #800000; text-decoration-color: #800000\">│</span>   <span style=\"color: #7f7f7f; text-decoration-color: #7f7f7f\"> 261 │   │   </span><span style=\"color: #0000ff; text-decoration-color: #0000ff\">with</span> parallel_backend(<span style=\"color: #00ffff; text-decoration-color: #00ffff\">self</span>._backend, n_jobs=<span style=\"color: #00ffff; text-decoration-color: #00ffff\">self</span>._n_jobs):                        <span style=\"color: #800000; text-decoration-color: #800000\">│</span>\n",
       "<span style=\"color: #800000; text-decoration-color: #800000\">│</span>   <span style=\"color: #7f7f7f; text-decoration-color: #7f7f7f\"> 262 │   │   │   </span><span style=\"color: #0000ff; text-decoration-color: #0000ff\">return</span> [func(*args, **kwargs)                                                 <span style=\"color: #800000; text-decoration-color: #800000\">│</span>\n",
       "<span style=\"color: #800000; text-decoration-color: #800000\">│</span> <span style=\"color: #800000; text-decoration-color: #800000\">❱ </span> 263 <span style=\"color: #7f7f7f; text-decoration-color: #7f7f7f\">│   │   │   │   │   </span><span style=\"color: #0000ff; text-decoration-color: #0000ff\">for</span> func, args, kwargs <span style=\"color: #ff00ff; text-decoration-color: #ff00ff\">in</span> <span style=\"color: #00ffff; text-decoration-color: #00ffff\">self</span>.items]                                 <span style=\"color: #800000; text-decoration-color: #800000\">│</span>\n",
       "<span style=\"color: #800000; text-decoration-color: #800000\">│</span>   <span style=\"color: #7f7f7f; text-decoration-color: #7f7f7f\"> 264 │   </span>                                                                                      <span style=\"color: #800000; text-decoration-color: #800000\">│</span>\n",
       "<span style=\"color: #800000; text-decoration-color: #800000\">│</span>   <span style=\"color: #7f7f7f; text-decoration-color: #7f7f7f\"> 265 │   </span><span style=\"color: #0000ff; text-decoration-color: #0000ff\">def</span> <span style=\"color: #00ff00; text-decoration-color: #00ff00\">__reduce__</span>(<span style=\"color: #00ffff; text-decoration-color: #00ffff\">self</span>):                                                                 <span style=\"color: #800000; text-decoration-color: #800000\">│</span>\n",
       "<span style=\"color: #800000; text-decoration-color: #800000\">│</span>   <span style=\"color: #7f7f7f; text-decoration-color: #7f7f7f\"> 266 │   │   </span><span style=\"color: #0000ff; text-decoration-color: #0000ff\">if</span> <span style=\"color: #00ffff; text-decoration-color: #00ffff\">self</span>._reducer_callback <span style=\"color: #ff00ff; text-decoration-color: #ff00ff\">is</span> <span style=\"color: #ff00ff; text-decoration-color: #ff00ff\">not</span> <span style=\"color: #0000ff; text-decoration-color: #0000ff\">None</span>:                                            <span style=\"color: #800000; text-decoration-color: #800000\">│</span>\n",
       "<span style=\"color: #800000; text-decoration-color: #800000\">│</span>                                                                                                  <span style=\"color: #800000; text-decoration-color: #800000\">│</span>\n",
       "<span style=\"color: #800000; text-decoration-color: #800000\">│</span> <span style=\"color: #bfbf7f; text-decoration-color: #bfbf7f\">/home/lcmj/anaconda3/envs/daa/lib/python3.6/site-packages/joblib/</span><span style=\"color: #808000; text-decoration-color: #808000; font-weight: bold\">parallel.py</span>:<span style=\"color: #0000ff; text-decoration-color: #0000ff\">263</span> in <span style=\"color: #00ff00; text-decoration-color: #00ff00\">&lt;listcomp&gt;</span>   <span style=\"color: #800000; text-decoration-color: #800000\">│</span>\n",
       "<span style=\"color: #800000; text-decoration-color: #800000\">│</span>                                                                                                  <span style=\"color: #800000; text-decoration-color: #800000\">│</span>\n",
       "<span style=\"color: #800000; text-decoration-color: #800000\">│</span>   <span style=\"color: #7f7f7f; text-decoration-color: #7f7f7f\"> 260 │   │   # change the default number of processes to -1</span>                                    <span style=\"color: #800000; text-decoration-color: #800000\">│</span>\n",
       "<span style=\"color: #800000; text-decoration-color: #800000\">│</span>   <span style=\"color: #7f7f7f; text-decoration-color: #7f7f7f\"> 261 │   │   </span><span style=\"color: #0000ff; text-decoration-color: #0000ff\">with</span> parallel_backend(<span style=\"color: #00ffff; text-decoration-color: #00ffff\">self</span>._backend, n_jobs=<span style=\"color: #00ffff; text-decoration-color: #00ffff\">self</span>._n_jobs):                        <span style=\"color: #800000; text-decoration-color: #800000\">│</span>\n",
       "<span style=\"color: #800000; text-decoration-color: #800000\">│</span>   <span style=\"color: #7f7f7f; text-decoration-color: #7f7f7f\"> 262 │   │   │   </span><span style=\"color: #0000ff; text-decoration-color: #0000ff\">return</span> [func(*args, **kwargs)                                                 <span style=\"color: #800000; text-decoration-color: #800000\">│</span>\n",
       "<span style=\"color: #800000; text-decoration-color: #800000\">│</span> <span style=\"color: #800000; text-decoration-color: #800000\">❱ </span> 263 <span style=\"color: #7f7f7f; text-decoration-color: #7f7f7f\">│   │   │   │   │   </span><span style=\"color: #0000ff; text-decoration-color: #0000ff\">for</span> func, args, kwargs <span style=\"color: #ff00ff; text-decoration-color: #ff00ff\">in</span> <span style=\"color: #00ffff; text-decoration-color: #00ffff\">self</span>.items]                                 <span style=\"color: #800000; text-decoration-color: #800000\">│</span>\n",
       "<span style=\"color: #800000; text-decoration-color: #800000\">│</span>   <span style=\"color: #7f7f7f; text-decoration-color: #7f7f7f\"> 264 │   </span>                                                                                      <span style=\"color: #800000; text-decoration-color: #800000\">│</span>\n",
       "<span style=\"color: #800000; text-decoration-color: #800000\">│</span>   <span style=\"color: #7f7f7f; text-decoration-color: #7f7f7f\"> 265 │   </span><span style=\"color: #0000ff; text-decoration-color: #0000ff\">def</span> <span style=\"color: #00ff00; text-decoration-color: #00ff00\">__reduce__</span>(<span style=\"color: #00ffff; text-decoration-color: #00ffff\">self</span>):                                                                 <span style=\"color: #800000; text-decoration-color: #800000\">│</span>\n",
       "<span style=\"color: #800000; text-decoration-color: #800000\">│</span>   <span style=\"color: #7f7f7f; text-decoration-color: #7f7f7f\"> 266 │   │   </span><span style=\"color: #0000ff; text-decoration-color: #0000ff\">if</span> <span style=\"color: #00ffff; text-decoration-color: #00ffff\">self</span>._reducer_callback <span style=\"color: #ff00ff; text-decoration-color: #ff00ff\">is</span> <span style=\"color: #ff00ff; text-decoration-color: #ff00ff\">not</span> <span style=\"color: #0000ff; text-decoration-color: #0000ff\">None</span>:                                            <span style=\"color: #800000; text-decoration-color: #800000\">│</span>\n",
       "<span style=\"color: #800000; text-decoration-color: #800000\">│</span>                                                                                                  <span style=\"color: #800000; text-decoration-color: #800000\">│</span>\n",
       "<span style=\"color: #800000; text-decoration-color: #800000\">│</span> <span style=\"color: #bfbf7f; text-decoration-color: #bfbf7f\">/home/lcmj/anaconda3/envs/daa/lib/python3.6/site-packages/sklearn/utils/</span><span style=\"color: #808000; text-decoration-color: #808000; font-weight: bold\">fixes.py</span>:<span style=\"color: #0000ff; text-decoration-color: #0000ff\">222</span> in <span style=\"color: #00ff00; text-decoration-color: #00ff00\">__call__</span> <span style=\"color: #800000; text-decoration-color: #800000\">│</span>\n",
       "<span style=\"color: #800000; text-decoration-color: #800000\">│</span>                                                                                                  <span style=\"color: #800000; text-decoration-color: #800000\">│</span>\n",
       "<span style=\"color: #800000; text-decoration-color: #800000\">│</span>   <span style=\"color: #7f7f7f; text-decoration-color: #7f7f7f\">219 │   </span>                                                                                       <span style=\"color: #800000; text-decoration-color: #800000\">│</span>\n",
       "<span style=\"color: #800000; text-decoration-color: #800000\">│</span>   <span style=\"color: #7f7f7f; text-decoration-color: #7f7f7f\">220 │   </span><span style=\"color: #0000ff; text-decoration-color: #0000ff\">def</span> <span style=\"color: #00ff00; text-decoration-color: #00ff00\">__call__</span>(<span style=\"color: #00ffff; text-decoration-color: #00ffff\">self</span>, *args, **kwargs):                                                   <span style=\"color: #800000; text-decoration-color: #800000\">│</span>\n",
       "<span style=\"color: #800000; text-decoration-color: #800000\">│</span>   <span style=\"color: #7f7f7f; text-decoration-color: #7f7f7f\">221 │   │   </span><span style=\"color: #0000ff; text-decoration-color: #0000ff\">with</span> config_context(**<span style=\"color: #00ffff; text-decoration-color: #00ffff\">self</span>.config):                                                <span style=\"color: #800000; text-decoration-color: #800000\">│</span>\n",
       "<span style=\"color: #800000; text-decoration-color: #800000\">│</span> <span style=\"color: #800000; text-decoration-color: #800000\">❱ </span>222 <span style=\"color: #7f7f7f; text-decoration-color: #7f7f7f\">│   │   │   </span><span style=\"color: #0000ff; text-decoration-color: #0000ff\">return</span> <span style=\"color: #00ffff; text-decoration-color: #00ffff\">self</span>.function(*args, **kwargs)                                          <span style=\"color: #800000; text-decoration-color: #800000\">│</span>\n",
       "<span style=\"color: #800000; text-decoration-color: #800000\">│</span>   <span style=\"color: #7f7f7f; text-decoration-color: #7f7f7f\">223 </span>                                                                                           <span style=\"color: #800000; text-decoration-color: #800000\">│</span>\n",
       "<span style=\"color: #800000; text-decoration-color: #800000\">│</span>                                                                                                  <span style=\"color: #800000; text-decoration-color: #800000\">│</span>\n",
       "<span style=\"color: #800000; text-decoration-color: #800000\">│</span> <span style=\"color: #bfbf7f; text-decoration-color: #bfbf7f\">/home/lcmj/anaconda3/envs/daa/lib/python3.6/site-packages/sklearn/</span><span style=\"color: #808000; text-decoration-color: #808000; font-weight: bold\">multiclass.py</span>:<span style=\"color: #0000ff; text-decoration-color: #0000ff\">85</span> in            <span style=\"color: #800000; text-decoration-color: #800000\">│</span>\n",
       "<span style=\"color: #800000; text-decoration-color: #800000\">│</span> <span style=\"color: #00ff00; text-decoration-color: #00ff00\">_fit_binary</span>                                                                                      <span style=\"color: #800000; text-decoration-color: #800000\">│</span>\n",
       "<span style=\"color: #800000; text-decoration-color: #800000\">│</span>                                                                                                  <span style=\"color: #800000; text-decoration-color: #800000\">│</span>\n",
       "<span style=\"color: #800000; text-decoration-color: #800000\">│</span>   <span style=\"color: #7f7f7f; text-decoration-color: #7f7f7f\"> 82 │   │   </span>estimator = _ConstantPredictor().fit(X, unique_y)                                  <span style=\"color: #800000; text-decoration-color: #800000\">│</span>\n",
       "<span style=\"color: #800000; text-decoration-color: #800000\">│</span>   <span style=\"color: #7f7f7f; text-decoration-color: #7f7f7f\"> 83 │   </span><span style=\"color: #0000ff; text-decoration-color: #0000ff\">else</span>:                                                                                  <span style=\"color: #800000; text-decoration-color: #800000\">│</span>\n",
       "<span style=\"color: #800000; text-decoration-color: #800000\">│</span>   <span style=\"color: #7f7f7f; text-decoration-color: #7f7f7f\"> 84 │   │   </span>estimator = clone(estimator)                                                       <span style=\"color: #800000; text-decoration-color: #800000\">│</span>\n",
       "<span style=\"color: #800000; text-decoration-color: #800000\">│</span> <span style=\"color: #800000; text-decoration-color: #800000\">❱ </span> 85 <span style=\"color: #7f7f7f; text-decoration-color: #7f7f7f\">│   │   </span>estimator.fit(X, y)                                                                <span style=\"color: #800000; text-decoration-color: #800000\">│</span>\n",
       "<span style=\"color: #800000; text-decoration-color: #800000\">│</span>   <span style=\"color: #7f7f7f; text-decoration-color: #7f7f7f\"> 86 │   </span><span style=\"color: #0000ff; text-decoration-color: #0000ff\">return</span> estimator                                                                       <span style=\"color: #800000; text-decoration-color: #800000\">│</span>\n",
       "<span style=\"color: #800000; text-decoration-color: #800000\">│</span>   <span style=\"color: #7f7f7f; text-decoration-color: #7f7f7f\"> 87 </span>                                                                                           <span style=\"color: #800000; text-decoration-color: #800000\">│</span>\n",
       "<span style=\"color: #800000; text-decoration-color: #800000\">│</span>   <span style=\"color: #7f7f7f; text-decoration-color: #7f7f7f\"> 88 </span>                                                                                           <span style=\"color: #800000; text-decoration-color: #800000\">│</span>\n",
       "<span style=\"color: #800000; text-decoration-color: #800000\">│</span>                                                                                                  <span style=\"color: #800000; text-decoration-color: #800000\">│</span>\n",
       "<span style=\"color: #800000; text-decoration-color: #800000\">│</span> <span style=\"color: #bfbf7f; text-decoration-color: #bfbf7f\">/home/lcmj/anaconda3/envs/daa/lib/python3.6/site-packages/sklearn/gaussian_process/</span><span style=\"color: #808000; text-decoration-color: #808000; font-weight: bold\">_gpc.py</span>:<span style=\"color: #0000ff; text-decoration-color: #0000ff\">239</span>   <span style=\"color: #800000; text-decoration-color: #800000\">│</span>\n",
       "<span style=\"color: #800000; text-decoration-color: #800000\">│</span> in <span style=\"color: #00ff00; text-decoration-color: #00ff00\">fit</span>                                                                                           <span style=\"color: #800000; text-decoration-color: #800000\">│</span>\n",
       "<span style=\"color: #800000; text-decoration-color: #800000\">│</span>                                                                                                  <span style=\"color: #800000; text-decoration-color: #800000\">│</span>\n",
       "<span style=\"color: #800000; text-decoration-color: #800000\">│</span>   <span style=\"color: #7f7f7f; text-decoration-color: #7f7f7f\">236 │   │   │   </span><span style=\"color: #00ffff; text-decoration-color: #00ffff\">self</span>.log_marginal_likelihood_value_ = -np.min(lml_values)                      <span style=\"color: #800000; text-decoration-color: #800000\">│</span>\n",
       "<span style=\"color: #800000; text-decoration-color: #800000\">│</span>   <span style=\"color: #7f7f7f; text-decoration-color: #7f7f7f\">237 │   │   </span><span style=\"color: #0000ff; text-decoration-color: #0000ff\">else</span>:                                                                              <span style=\"color: #800000; text-decoration-color: #800000\">│</span>\n",
       "<span style=\"color: #800000; text-decoration-color: #800000\">│</span>   <span style=\"color: #7f7f7f; text-decoration-color: #7f7f7f\">238 │   │   │   </span><span style=\"color: #00ffff; text-decoration-color: #00ffff\">self</span>.log_marginal_likelihood_value_ = \\                                        <span style=\"color: #800000; text-decoration-color: #800000\">│</span>\n",
       "<span style=\"color: #800000; text-decoration-color: #800000\">│</span> <span style=\"color: #800000; text-decoration-color: #800000\">❱ </span>239 <span style=\"color: #7f7f7f; text-decoration-color: #7f7f7f\">│   │   │   │   </span><span style=\"color: #00ffff; text-decoration-color: #00ffff\">self</span>.log_marginal_likelihood(<span style=\"color: #00ffff; text-decoration-color: #00ffff\">self</span>.kernel_.theta)                           <span style=\"color: #800000; text-decoration-color: #800000\">│</span>\n",
       "<span style=\"color: #800000; text-decoration-color: #800000\">│</span>   <span style=\"color: #7f7f7f; text-decoration-color: #7f7f7f\">240 │   │   </span>                                                                                   <span style=\"color: #800000; text-decoration-color: #800000\">│</span>\n",
       "<span style=\"color: #800000; text-decoration-color: #800000\">│</span>   <span style=\"color: #7f7f7f; text-decoration-color: #7f7f7f\">241 │   │   # Precompute quantities required for predictions which are independent</span>             <span style=\"color: #800000; text-decoration-color: #800000\">│</span>\n",
       "<span style=\"color: #800000; text-decoration-color: #800000\">│</span>   <span style=\"color: #7f7f7f; text-decoration-color: #7f7f7f\">242 │   │   # of actual query points</span>                                                           <span style=\"color: #800000; text-decoration-color: #800000\">│</span>\n",
       "<span style=\"color: #800000; text-decoration-color: #800000\">│</span>                                                                                                  <span style=\"color: #800000; text-decoration-color: #800000\">│</span>\n",
       "<span style=\"color: #800000; text-decoration-color: #800000\">│</span> <span style=\"color: #bfbf7f; text-decoration-color: #bfbf7f\">/home/lcmj/anaconda3/envs/daa/lib/python3.6/site-packages/sklearn/gaussian_process/</span><span style=\"color: #808000; text-decoration-color: #808000; font-weight: bold\">_gpc.py</span>:<span style=\"color: #0000ff; text-decoration-color: #0000ff\">364</span>   <span style=\"color: #800000; text-decoration-color: #800000\">│</span>\n",
       "<span style=\"color: #800000; text-decoration-color: #800000\">│</span> in <span style=\"color: #00ff00; text-decoration-color: #00ff00\">log_marginal_likelihood</span>                                                                       <span style=\"color: #800000; text-decoration-color: #800000\">│</span>\n",
       "<span style=\"color: #800000; text-decoration-color: #800000\">│</span>                                                                                                  <span style=\"color: #800000; text-decoration-color: #800000\">│</span>\n",
       "<span style=\"color: #800000; text-decoration-color: #800000\">│</span>   <span style=\"color: #7f7f7f; text-decoration-color: #7f7f7f\">361 │   │   # Compute log-marginal-likelihood Z and also store some temporaries</span>                <span style=\"color: #800000; text-decoration-color: #800000\">│</span>\n",
       "<span style=\"color: #800000; text-decoration-color: #800000\">│</span>   <span style=\"color: #7f7f7f; text-decoration-color: #7f7f7f\">362 │   │   # which can be reused for computing Z's gradient</span>                                   <span style=\"color: #800000; text-decoration-color: #800000\">│</span>\n",
       "<span style=\"color: #800000; text-decoration-color: #800000\">│</span>   <span style=\"color: #7f7f7f; text-decoration-color: #7f7f7f\">363 │   │   </span>Z, (pi, W_sr, L, b, a) = \\                                                         <span style=\"color: #800000; text-decoration-color: #800000\">│</span>\n",
       "<span style=\"color: #800000; text-decoration-color: #800000\">│</span> <span style=\"color: #800000; text-decoration-color: #800000\">❱ </span>364 <span style=\"color: #7f7f7f; text-decoration-color: #7f7f7f\">│   │   │   </span><span style=\"color: #00ffff; text-decoration-color: #00ffff\">self</span>._posterior_mode(K, return_temporaries=<span style=\"color: #0000ff; text-decoration-color: #0000ff\">True</span>)                               <span style=\"color: #800000; text-decoration-color: #800000\">│</span>\n",
       "<span style=\"color: #800000; text-decoration-color: #800000\">│</span>   <span style=\"color: #7f7f7f; text-decoration-color: #7f7f7f\">365 │   │   </span>                                                                                   <span style=\"color: #800000; text-decoration-color: #800000\">│</span>\n",
       "<span style=\"color: #800000; text-decoration-color: #800000\">│</span>   <span style=\"color: #7f7f7f; text-decoration-color: #7f7f7f\">366 │   │   </span><span style=\"color: #0000ff; text-decoration-color: #0000ff\">if</span> <span style=\"color: #ff00ff; text-decoration-color: #ff00ff\">not</span> eval_gradient:                                                              <span style=\"color: #800000; text-decoration-color: #800000\">│</span>\n",
       "<span style=\"color: #800000; text-decoration-color: #800000\">│</span>   <span style=\"color: #7f7f7f; text-decoration-color: #7f7f7f\">367 │   │   │   </span><span style=\"color: #0000ff; text-decoration-color: #0000ff\">return</span> Z                                                                       <span style=\"color: #800000; text-decoration-color: #800000\">│</span>\n",
       "<span style=\"color: #800000; text-decoration-color: #800000\">│</span>                                                                                                  <span style=\"color: #800000; text-decoration-color: #800000\">│</span>\n",
       "<span style=\"color: #800000; text-decoration-color: #800000\">│</span> <span style=\"color: #bfbf7f; text-decoration-color: #bfbf7f\">/home/lcmj/anaconda3/envs/daa/lib/python3.6/site-packages/sklearn/gaussian_process/</span><span style=\"color: #808000; text-decoration-color: #808000; font-weight: bold\">_gpc.py</span>:<span style=\"color: #0000ff; text-decoration-color: #0000ff\">417</span>   <span style=\"color: #800000; text-decoration-color: #800000\">│</span>\n",
       "<span style=\"color: #800000; text-decoration-color: #800000\">│</span> in <span style=\"color: #00ff00; text-decoration-color: #00ff00\">_posterior_mode</span>                                                                               <span style=\"color: #800000; text-decoration-color: #800000\">│</span>\n",
       "<span style=\"color: #800000; text-decoration-color: #800000\">│</span>                                                                                                  <span style=\"color: #800000; text-decoration-color: #800000\">│</span>\n",
       "<span style=\"color: #800000; text-decoration-color: #800000\">│</span>   <span style=\"color: #7f7f7f; text-decoration-color: #7f7f7f\">414 │   │   │   </span>W_sr = np.sqrt(W)                                                              <span style=\"color: #800000; text-decoration-color: #800000\">│</span>\n",
       "<span style=\"color: #800000; text-decoration-color: #800000\">│</span>   <span style=\"color: #7f7f7f; text-decoration-color: #7f7f7f\">415 │   │   │   </span>W_sr_K = W_sr[:, np.newaxis] * K                                               <span style=\"color: #800000; text-decoration-color: #800000\">│</span>\n",
       "<span style=\"color: #800000; text-decoration-color: #800000\">│</span>   <span style=\"color: #7f7f7f; text-decoration-color: #7f7f7f\">416 │   │   │   </span>B = np.eye(W.shape[<span style=\"color: #0000ff; text-decoration-color: #0000ff\">0</span>]) + W_sr_K * W_sr                                         <span style=\"color: #800000; text-decoration-color: #800000\">│</span>\n",
       "<span style=\"color: #800000; text-decoration-color: #800000\">│</span> <span style=\"color: #800000; text-decoration-color: #800000\">❱ </span>417 <span style=\"color: #7f7f7f; text-decoration-color: #7f7f7f\">│   │   │   </span>L = cholesky(B, lower=<span style=\"color: #0000ff; text-decoration-color: #0000ff\">True</span>)                                                    <span style=\"color: #800000; text-decoration-color: #800000\">│</span>\n",
       "<span style=\"color: #800000; text-decoration-color: #800000\">│</span>   <span style=\"color: #7f7f7f; text-decoration-color: #7f7f7f\">418 │   │   │   # Line 6</span>                                                                       <span style=\"color: #800000; text-decoration-color: #800000\">│</span>\n",
       "<span style=\"color: #800000; text-decoration-color: #800000\">│</span>   <span style=\"color: #7f7f7f; text-decoration-color: #7f7f7f\">419 │   │   │   </span>b = W * f + (<span style=\"color: #00ffff; text-decoration-color: #00ffff\">self</span>.y_train_ - pi)                                               <span style=\"color: #800000; text-decoration-color: #800000\">│</span>\n",
       "<span style=\"color: #800000; text-decoration-color: #800000\">│</span>   <span style=\"color: #7f7f7f; text-decoration-color: #7f7f7f\">420 │   │   │   # Line 7</span>                                                                       <span style=\"color: #800000; text-decoration-color: #800000\">│</span>\n",
       "<span style=\"color: #800000; text-decoration-color: #800000\">│</span>                                                                                                  <span style=\"color: #800000; text-decoration-color: #800000\">│</span>\n",
       "<span style=\"color: #800000; text-decoration-color: #800000\">│</span> <span style=\"color: #bfbf7f; text-decoration-color: #bfbf7f\">/home/lcmj/anaconda3/envs/daa/lib/python3.6/site-packages/scipy/linalg/</span><span style=\"color: #808000; text-decoration-color: #808000; font-weight: bold\">decomp_cholesky.py</span>:<span style=\"color: #0000ff; text-decoration-color: #0000ff\">89</span> in  <span style=\"color: #800000; text-decoration-color: #800000\">│</span>\n",
       "<span style=\"color: #800000; text-decoration-color: #800000\">│</span> <span style=\"color: #00ff00; text-decoration-color: #00ff00\">cholesky</span>                                                                                         <span style=\"color: #800000; text-decoration-color: #800000\">│</span>\n",
       "<span style=\"color: #800000; text-decoration-color: #800000\">│</span>                                                                                                  <span style=\"color: #800000; text-decoration-color: #800000\">│</span>\n",
       "<span style=\"color: #800000; text-decoration-color: #800000\">│</span>   <span style=\"color: #7f7f7f; text-decoration-color: #7f7f7f\"> 86 │   </span>                                                                                       <span style=\"color: #800000; text-decoration-color: #800000\">│</span>\n",
       "<span style=\"color: #800000; text-decoration-color: #800000\">│</span>   <span style=\"color: #7f7f7f; text-decoration-color: #7f7f7f\"> 87 </span><span style=\"color: #bfbf7f; text-decoration-color: #bfbf7f\">│   </span><span style=\"color: #808000; text-decoration-color: #808000\">\"\"\"</span>                                                                                    <span style=\"color: #800000; text-decoration-color: #800000\">│</span>\n",
       "<span style=\"color: #800000; text-decoration-color: #800000\">│</span>   <span style=\"color: #7f7f7f; text-decoration-color: #7f7f7f\"> 88 │   </span>c, lower = _cholesky(a, lower=lower, overwrite_a=overwrite_a, clean=<span style=\"color: #0000ff; text-decoration-color: #0000ff\">True</span>,              <span style=\"color: #800000; text-decoration-color: #800000\">│</span>\n",
       "<span style=\"color: #800000; text-decoration-color: #800000\">│</span> <span style=\"color: #800000; text-decoration-color: #800000\">❱ </span> 89 <span style=\"color: #7f7f7f; text-decoration-color: #7f7f7f\">│   │   │   │   │   │    </span>check_finite=check_finite)                                        <span style=\"color: #800000; text-decoration-color: #800000\">│</span>\n",
       "<span style=\"color: #800000; text-decoration-color: #800000\">│</span>   <span style=\"color: #7f7f7f; text-decoration-color: #7f7f7f\"> 90 │   </span><span style=\"color: #0000ff; text-decoration-color: #0000ff\">return</span> c                                                                               <span style=\"color: #800000; text-decoration-color: #800000\">│</span>\n",
       "<span style=\"color: #800000; text-decoration-color: #800000\">│</span>   <span style=\"color: #7f7f7f; text-decoration-color: #7f7f7f\"> 91 </span>                                                                                           <span style=\"color: #800000; text-decoration-color: #800000\">│</span>\n",
       "<span style=\"color: #800000; text-decoration-color: #800000\">│</span>   <span style=\"color: #7f7f7f; text-decoration-color: #7f7f7f\"> 92 </span>                                                                                           <span style=\"color: #800000; text-decoration-color: #800000\">│</span>\n",
       "<span style=\"color: #800000; text-decoration-color: #800000\">│</span>                                                                                                  <span style=\"color: #800000; text-decoration-color: #800000\">│</span>\n",
       "<span style=\"color: #800000; text-decoration-color: #800000\">│</span> <span style=\"color: #bfbf7f; text-decoration-color: #bfbf7f\">/home/lcmj/anaconda3/envs/daa/lib/python3.6/site-packages/scipy/linalg/</span><span style=\"color: #808000; text-decoration-color: #808000; font-weight: bold\">decomp_cholesky.py</span>:<span style=\"color: #0000ff; text-decoration-color: #0000ff\">35</span> in  <span style=\"color: #800000; text-decoration-color: #800000\">│</span>\n",
       "<span style=\"color: #800000; text-decoration-color: #800000\">│</span> <span style=\"color: #00ff00; text-decoration-color: #00ff00\">_cholesky</span>                                                                                        <span style=\"color: #800000; text-decoration-color: #800000\">│</span>\n",
       "<span style=\"color: #800000; text-decoration-color: #800000\">│</span>                                                                                                  <span style=\"color: #800000; text-decoration-color: #800000\">│</span>\n",
       "<span style=\"color: #800000; text-decoration-color: #800000\">│</span>   <span style=\"color: #7f7f7f; text-decoration-color: #7f7f7f\"> 32 │   </span>                                                                                       <span style=\"color: #800000; text-decoration-color: #800000\">│</span>\n",
       "<span style=\"color: #800000; text-decoration-color: #800000\">│</span>   <span style=\"color: #7f7f7f; text-decoration-color: #7f7f7f\"> 33 │   </span>overwrite_a = overwrite_a <span style=\"color: #ff00ff; text-decoration-color: #ff00ff\">or</span> _datacopied(a1, a)                                        <span style=\"color: #800000; text-decoration-color: #800000\">│</span>\n",
       "<span style=\"color: #800000; text-decoration-color: #800000\">│</span>   <span style=\"color: #7f7f7f; text-decoration-color: #7f7f7f\"> 34 │   </span>potrf, = get_lapack_funcs((<span style=\"color: #808000; text-decoration-color: #808000\">'potrf'</span>,), (a1,))                                           <span style=\"color: #800000; text-decoration-color: #800000\">│</span>\n",
       "<span style=\"color: #800000; text-decoration-color: #800000\">│</span> <span style=\"color: #800000; text-decoration-color: #800000\">❱ </span> 35 <span style=\"color: #7f7f7f; text-decoration-color: #7f7f7f\">│   </span>c, info = potrf(a1, lower=lower, overwrite_a=overwrite_a, clean=clean)                 <span style=\"color: #800000; text-decoration-color: #800000\">│</span>\n",
       "<span style=\"color: #800000; text-decoration-color: #800000\">│</span>   <span style=\"color: #7f7f7f; text-decoration-color: #7f7f7f\"> 36 │   </span><span style=\"color: #0000ff; text-decoration-color: #0000ff\">if</span> info &gt; <span style=\"color: #0000ff; text-decoration-color: #0000ff\">0</span>:                                                                           <span style=\"color: #800000; text-decoration-color: #800000\">│</span>\n",
       "<span style=\"color: #800000; text-decoration-color: #800000\">│</span>   <span style=\"color: #7f7f7f; text-decoration-color: #7f7f7f\"> 37 │   │   </span><span style=\"color: #0000ff; text-decoration-color: #0000ff\">raise</span> LinAlgError(<span style=\"color: #808000; text-decoration-color: #808000\">\"%d-th leading minor of the array is not positive \"</span>              <span style=\"color: #800000; text-decoration-color: #800000\">│</span>\n",
       "<span style=\"color: #800000; text-decoration-color: #800000\">│</span>   <span style=\"color: #7f7f7f; text-decoration-color: #7f7f7f\"> 38 │   │   │   │   │   │     </span><span style=\"color: #808000; text-decoration-color: #808000\">\"definite\"</span> % info)                                               <span style=\"color: #800000; text-decoration-color: #800000\">│</span>\n",
       "<span style=\"color: #800000; text-decoration-color: #800000\">╰──────────────────────────────────────────────────────────────────────────────────────────────────╯</span>\n",
       "<span style=\"color: #ff0000; text-decoration-color: #ff0000; font-weight: bold\">KeyboardInterrupt</span>\n",
       "</pre>\n"
      ],
      "text/plain": [
       "\u001b[31m╭─\u001b[0m\u001b[31m──────────────────────────────\u001b[0m\u001b[31m \u001b[0m\u001b[1;31mTraceback \u001b[0m\u001b[1;2;31m(most recent call last)\u001b[0m\u001b[31m \u001b[0m\u001b[31m───────────────────────────────\u001b[0m\u001b[31m─╮\u001b[0m\n",
       "\u001b[31m│\u001b[0m \u001b[33m<ipython-input-172-502ce00a2407>\u001b[0m:\u001b[94m2\u001b[0m in \u001b[92m<module>\u001b[0m                                                   \u001b[31m│\u001b[0m\n",
       "\u001b[31m│\u001b[0m                                                                                                  \u001b[31m│\u001b[0m\n",
       "\u001b[31m│\u001b[0m \u001b[2;33m/home/lcmj/anaconda3/envs/daa/lib/python3.6/site-packages/sklearn/gaussian_process/\u001b[0m\u001b[1;33m_gpc.py\u001b[0m:\u001b[94m664\u001b[0m   \u001b[31m│\u001b[0m\n",
       "\u001b[31m│\u001b[0m in \u001b[92mfit\u001b[0m                                                                                           \u001b[31m│\u001b[0m\n",
       "\u001b[31m│\u001b[0m                                                                                                  \u001b[31m│\u001b[0m\n",
       "\u001b[31m│\u001b[0m   \u001b[2m661 \u001b[0m\u001b[2m│   │   │   │   \u001b[0m\u001b[94mraise\u001b[0m \u001b[96mValueError\u001b[0m(\u001b[33m\"\u001b[0m\u001b[33mUnknown multi-class mode \u001b[0m\u001b[33m%s\u001b[0m\u001b[33m\"\u001b[0m                             \u001b[31m│\u001b[0m\n",
       "\u001b[31m│\u001b[0m   \u001b[2m662 \u001b[0m\u001b[2m│   │   │   │   │   │   │   │    \u001b[0m% \u001b[96mself\u001b[0m.multi_class)                                       \u001b[31m│\u001b[0m\n",
       "\u001b[31m│\u001b[0m   \u001b[2m663 \u001b[0m\u001b[2m│   │   \u001b[0m                                                                                   \u001b[31m│\u001b[0m\n",
       "\u001b[31m│\u001b[0m \u001b[31m❱ \u001b[0m664 \u001b[2m│   │   \u001b[0m\u001b[96mself\u001b[0m.base_estimator_.fit(X, y)                                                     \u001b[31m│\u001b[0m\n",
       "\u001b[31m│\u001b[0m   \u001b[2m665 \u001b[0m\u001b[2m│   │   \u001b[0m                                                                                   \u001b[31m│\u001b[0m\n",
       "\u001b[31m│\u001b[0m   \u001b[2m666 \u001b[0m\u001b[2m│   │   \u001b[0m\u001b[94mif\u001b[0m \u001b[96mself\u001b[0m.n_classes_ > \u001b[94m2\u001b[0m:                                                            \u001b[31m│\u001b[0m\n",
       "\u001b[31m│\u001b[0m   \u001b[2m667 \u001b[0m\u001b[2m│   │   │   \u001b[0m\u001b[96mself\u001b[0m.log_marginal_likelihood_value_ = np.mean(                                 \u001b[31m│\u001b[0m\n",
       "\u001b[31m│\u001b[0m                                                                                                  \u001b[31m│\u001b[0m\n",
       "\u001b[31m│\u001b[0m \u001b[2;33m/home/lcmj/anaconda3/envs/daa/lib/python3.6/site-packages/sklearn/\u001b[0m\u001b[1;33mmulticlass.py\u001b[0m:\u001b[94m285\u001b[0m in \u001b[92mfit\u001b[0m       \u001b[31m│\u001b[0m\n",
       "\u001b[31m│\u001b[0m                                                                                                  \u001b[31m│\u001b[0m\n",
       "\u001b[31m│\u001b[0m   \u001b[2m282 \u001b[0m\u001b[2m│   │   │   \u001b[0m\u001b[96mself\u001b[0m.estimator, X, column, classes=[                                           \u001b[31m│\u001b[0m\n",
       "\u001b[31m│\u001b[0m   \u001b[2m283 \u001b[0m\u001b[2m│   │   │   │   \u001b[0m\u001b[33m\"\u001b[0m\u001b[33mnot \u001b[0m\u001b[33m%s\u001b[0m\u001b[33m\"\u001b[0m % \u001b[96mself\u001b[0m.label_binarizer_.classes_[i],                              \u001b[31m│\u001b[0m\n",
       "\u001b[31m│\u001b[0m   \u001b[2m284 \u001b[0m\u001b[2m│   │   │   │   \u001b[0m\u001b[96mself\u001b[0m.label_binarizer_.classes_[i]])                                        \u001b[31m│\u001b[0m\n",
       "\u001b[31m│\u001b[0m \u001b[31m❱ \u001b[0m285 \u001b[2m│   │   │   \u001b[0m\u001b[94mfor\u001b[0m i, column \u001b[95min\u001b[0m \u001b[96menumerate\u001b[0m(columns))                                           \u001b[31m│\u001b[0m\n",
       "\u001b[31m│\u001b[0m   \u001b[2m286 \u001b[0m\u001b[2m│   │   \u001b[0m                                                                                   \u001b[31m│\u001b[0m\n",
       "\u001b[31m│\u001b[0m   \u001b[2m287 \u001b[0m\u001b[2m│   │   \u001b[0m\u001b[94mreturn\u001b[0m \u001b[96mself\u001b[0m                                                                        \u001b[31m│\u001b[0m\n",
       "\u001b[31m│\u001b[0m   \u001b[2m288 \u001b[0m                                                                                           \u001b[31m│\u001b[0m\n",
       "\u001b[31m│\u001b[0m                                                                                                  \u001b[31m│\u001b[0m\n",
       "\u001b[31m│\u001b[0m \u001b[2;33m/home/lcmj/anaconda3/envs/daa/lib/python3.6/site-packages/joblib/\u001b[0m\u001b[1;33mparallel.py\u001b[0m:\u001b[94m1041\u001b[0m in \u001b[92m__call__\u001b[0m    \u001b[31m│\u001b[0m\n",
       "\u001b[31m│\u001b[0m                                                                                                  \u001b[31m│\u001b[0m\n",
       "\u001b[31m│\u001b[0m   \u001b[2m1038 \u001b[0m\u001b[2m│   │   │   \u001b[0m\u001b[2m# was very quick and its callback already dispatched all the\u001b[0m                  \u001b[31m│\u001b[0m\n",
       "\u001b[31m│\u001b[0m   \u001b[2m1039 \u001b[0m\u001b[2m│   │   │   \u001b[0m\u001b[2m# remaining jobs.\u001b[0m                                                             \u001b[31m│\u001b[0m\n",
       "\u001b[31m│\u001b[0m   \u001b[2m1040 \u001b[0m\u001b[2m│   │   │   \u001b[0m\u001b[96mself\u001b[0m._iterating = \u001b[94mFalse\u001b[0m                                                       \u001b[31m│\u001b[0m\n",
       "\u001b[31m│\u001b[0m \u001b[31m❱ \u001b[0m1041 \u001b[2m│   │   │   \u001b[0m\u001b[94mif\u001b[0m \u001b[96mself\u001b[0m.dispatch_one_batch(iterator):                                         \u001b[31m│\u001b[0m\n",
       "\u001b[31m│\u001b[0m   \u001b[2m1042 \u001b[0m\u001b[2m│   │   │   │   \u001b[0m\u001b[96mself\u001b[0m._iterating = \u001b[96mself\u001b[0m._original_iterator \u001b[95mis\u001b[0m \u001b[95mnot\u001b[0m \u001b[94mNone\u001b[0m                     \u001b[31m│\u001b[0m\n",
       "\u001b[31m│\u001b[0m   \u001b[2m1043 \u001b[0m\u001b[2m│   │   │   \u001b[0m                                                                              \u001b[31m│\u001b[0m\n",
       "\u001b[31m│\u001b[0m   \u001b[2m1044 \u001b[0m\u001b[2m│   │   │   \u001b[0m\u001b[94mwhile\u001b[0m \u001b[96mself\u001b[0m.dispatch_one_batch(iterator):                                      \u001b[31m│\u001b[0m\n",
       "\u001b[31m│\u001b[0m                                                                                                  \u001b[31m│\u001b[0m\n",
       "\u001b[31m│\u001b[0m \u001b[2;33m/home/lcmj/anaconda3/envs/daa/lib/python3.6/site-packages/joblib/\u001b[0m\u001b[1;33mparallel.py\u001b[0m:\u001b[94m859\u001b[0m in              \u001b[31m│\u001b[0m\n",
       "\u001b[31m│\u001b[0m \u001b[92mdispatch_one_batch\u001b[0m                                                                               \u001b[31m│\u001b[0m\n",
       "\u001b[31m│\u001b[0m                                                                                                  \u001b[31m│\u001b[0m\n",
       "\u001b[31m│\u001b[0m   \u001b[2m 856 \u001b[0m\u001b[2m│   │   │   │   \u001b[0m\u001b[2m# No more tasks available in the iterator: tell caller to stop.\u001b[0m           \u001b[31m│\u001b[0m\n",
       "\u001b[31m│\u001b[0m   \u001b[2m 857 \u001b[0m\u001b[2m│   │   │   │   \u001b[0m\u001b[94mreturn\u001b[0m \u001b[94mFalse\u001b[0m                                                              \u001b[31m│\u001b[0m\n",
       "\u001b[31m│\u001b[0m   \u001b[2m 858 \u001b[0m\u001b[2m│   │   │   \u001b[0m\u001b[94melse\u001b[0m:                                                                         \u001b[31m│\u001b[0m\n",
       "\u001b[31m│\u001b[0m \u001b[31m❱ \u001b[0m 859 \u001b[2m│   │   │   │   \u001b[0m\u001b[96mself\u001b[0m._dispatch(tasks)                                                     \u001b[31m│\u001b[0m\n",
       "\u001b[31m│\u001b[0m   \u001b[2m 860 \u001b[0m\u001b[2m│   │   │   │   \u001b[0m\u001b[94mreturn\u001b[0m \u001b[94mTrue\u001b[0m                                                               \u001b[31m│\u001b[0m\n",
       "\u001b[31m│\u001b[0m   \u001b[2m 861 \u001b[0m\u001b[2m│   \u001b[0m                                                                                      \u001b[31m│\u001b[0m\n",
       "\u001b[31m│\u001b[0m   \u001b[2m 862 \u001b[0m\u001b[2m│   \u001b[0m\u001b[94mdef\u001b[0m \u001b[92m_print\u001b[0m(\u001b[96mself\u001b[0m, msg, msg_args):                                                      \u001b[31m│\u001b[0m\n",
       "\u001b[31m│\u001b[0m                                                                                                  \u001b[31m│\u001b[0m\n",
       "\u001b[31m│\u001b[0m \u001b[2;33m/home/lcmj/anaconda3/envs/daa/lib/python3.6/site-packages/joblib/\u001b[0m\u001b[1;33mparallel.py\u001b[0m:\u001b[94m777\u001b[0m in \u001b[92m_dispatch\u001b[0m    \u001b[31m│\u001b[0m\n",
       "\u001b[31m│\u001b[0m                                                                                                  \u001b[31m│\u001b[0m\n",
       "\u001b[31m│\u001b[0m   \u001b[2m 774 \u001b[0m\u001b[2m│   │   \u001b[0mcb = BatchCompletionCallBack(dispatch_timestamp, \u001b[96mlen\u001b[0m(batch), \u001b[96mself\u001b[0m)                \u001b[31m│\u001b[0m\n",
       "\u001b[31m│\u001b[0m   \u001b[2m 775 \u001b[0m\u001b[2m│   │   \u001b[0m\u001b[94mwith\u001b[0m \u001b[96mself\u001b[0m._lock:                                                                  \u001b[31m│\u001b[0m\n",
       "\u001b[31m│\u001b[0m   \u001b[2m 776 \u001b[0m\u001b[2m│   │   │   \u001b[0mjob_idx = \u001b[96mlen\u001b[0m(\u001b[96mself\u001b[0m._jobs)                                                     \u001b[31m│\u001b[0m\n",
       "\u001b[31m│\u001b[0m \u001b[31m❱ \u001b[0m 777 \u001b[2m│   │   │   \u001b[0mjob = \u001b[96mself\u001b[0m._backend.apply_async(batch, callback=cb)                           \u001b[31m│\u001b[0m\n",
       "\u001b[31m│\u001b[0m   \u001b[2m 778 \u001b[0m\u001b[2m│   │   │   \u001b[0m\u001b[2m# A job can complete so quickly than its callback is\u001b[0m                          \u001b[31m│\u001b[0m\n",
       "\u001b[31m│\u001b[0m   \u001b[2m 779 \u001b[0m\u001b[2m│   │   │   \u001b[0m\u001b[2m# called before we get here, causing self._jobs to\u001b[0m                            \u001b[31m│\u001b[0m\n",
       "\u001b[31m│\u001b[0m   \u001b[2m 780 \u001b[0m\u001b[2m│   │   │   \u001b[0m\u001b[2m# grow. To ensure correct results ordering, .insert is\u001b[0m                        \u001b[31m│\u001b[0m\n",
       "\u001b[31m│\u001b[0m                                                                                                  \u001b[31m│\u001b[0m\n",
       "\u001b[31m│\u001b[0m \u001b[2;33m/home/lcmj/anaconda3/envs/daa/lib/python3.6/site-packages/joblib/\u001b[0m\u001b[1;33m_parallel_backends.py\u001b[0m:\u001b[94m208\u001b[0m in    \u001b[31m│\u001b[0m\n",
       "\u001b[31m│\u001b[0m \u001b[92mapply_async\u001b[0m                                                                                      \u001b[31m│\u001b[0m\n",
       "\u001b[31m│\u001b[0m                                                                                                  \u001b[31m│\u001b[0m\n",
       "\u001b[31m│\u001b[0m   \u001b[2m205 \u001b[0m\u001b[2m│   \u001b[0m                                                                                       \u001b[31m│\u001b[0m\n",
       "\u001b[31m│\u001b[0m   \u001b[2m206 \u001b[0m\u001b[2m│   \u001b[0m\u001b[94mdef\u001b[0m \u001b[92mapply_async\u001b[0m(\u001b[96mself\u001b[0m, func, callback=\u001b[94mNone\u001b[0m):                                            \u001b[31m│\u001b[0m\n",
       "\u001b[31m│\u001b[0m   \u001b[2m207 \u001b[0m\u001b[2m│   │   \u001b[0m\u001b[33m\"\"\"Schedule a func to be run\"\"\"\u001b[0m                                                    \u001b[31m│\u001b[0m\n",
       "\u001b[31m│\u001b[0m \u001b[31m❱ \u001b[0m208 \u001b[2m│   │   \u001b[0mresult = ImmediateResult(func)                                                     \u001b[31m│\u001b[0m\n",
       "\u001b[31m│\u001b[0m   \u001b[2m209 \u001b[0m\u001b[2m│   │   \u001b[0m\u001b[94mif\u001b[0m callback:                                                                       \u001b[31m│\u001b[0m\n",
       "\u001b[31m│\u001b[0m   \u001b[2m210 \u001b[0m\u001b[2m│   │   │   \u001b[0mcallback(result)                                                               \u001b[31m│\u001b[0m\n",
       "\u001b[31m│\u001b[0m   \u001b[2m211 \u001b[0m\u001b[2m│   │   \u001b[0m\u001b[94mreturn\u001b[0m result                                                                      \u001b[31m│\u001b[0m\n",
       "\u001b[31m│\u001b[0m                                                                                                  \u001b[31m│\u001b[0m\n",
       "\u001b[31m│\u001b[0m \u001b[2;33m/home/lcmj/anaconda3/envs/daa/lib/python3.6/site-packages/joblib/\u001b[0m\u001b[1;33m_parallel_backends.py\u001b[0m:\u001b[94m572\u001b[0m in    \u001b[31m│\u001b[0m\n",
       "\u001b[31m│\u001b[0m \u001b[92m__init__\u001b[0m                                                                                         \u001b[31m│\u001b[0m\n",
       "\u001b[31m│\u001b[0m                                                                                                  \u001b[31m│\u001b[0m\n",
       "\u001b[31m│\u001b[0m   \u001b[2m569 \u001b[0m\u001b[2m│   \u001b[0m\u001b[94mdef\u001b[0m \u001b[92m__init__\u001b[0m(\u001b[96mself\u001b[0m, batch):                                                             \u001b[31m│\u001b[0m\n",
       "\u001b[31m│\u001b[0m   \u001b[2m570 \u001b[0m\u001b[2m│   │   \u001b[0m\u001b[2m# Don't delay the application, to avoid keeping the input\u001b[0m                          \u001b[31m│\u001b[0m\n",
       "\u001b[31m│\u001b[0m   \u001b[2m571 \u001b[0m\u001b[2m│   │   \u001b[0m\u001b[2m# arguments in memory\u001b[0m                                                              \u001b[31m│\u001b[0m\n",
       "\u001b[31m│\u001b[0m \u001b[31m❱ \u001b[0m572 \u001b[2m│   │   \u001b[0m\u001b[96mself\u001b[0m.results = batch()                                                             \u001b[31m│\u001b[0m\n",
       "\u001b[31m│\u001b[0m   \u001b[2m573 \u001b[0m\u001b[2m│   \u001b[0m                                                                                       \u001b[31m│\u001b[0m\n",
       "\u001b[31m│\u001b[0m   \u001b[2m574 \u001b[0m\u001b[2m│   \u001b[0m\u001b[94mdef\u001b[0m \u001b[92mget\u001b[0m(\u001b[96mself\u001b[0m):                                                                         \u001b[31m│\u001b[0m\n",
       "\u001b[31m│\u001b[0m   \u001b[2m575 \u001b[0m\u001b[2m│   │   \u001b[0m\u001b[94mreturn\u001b[0m \u001b[96mself\u001b[0m.results                                                                \u001b[31m│\u001b[0m\n",
       "\u001b[31m│\u001b[0m                                                                                                  \u001b[31m│\u001b[0m\n",
       "\u001b[31m│\u001b[0m \u001b[2;33m/home/lcmj/anaconda3/envs/daa/lib/python3.6/site-packages/joblib/\u001b[0m\u001b[1;33mparallel.py\u001b[0m:\u001b[94m263\u001b[0m in \u001b[92m__call__\u001b[0m     \u001b[31m│\u001b[0m\n",
       "\u001b[31m│\u001b[0m                                                                                                  \u001b[31m│\u001b[0m\n",
       "\u001b[31m│\u001b[0m   \u001b[2m 260 \u001b[0m\u001b[2m│   │   \u001b[0m\u001b[2m# change the default number of processes to -1\u001b[0m                                    \u001b[31m│\u001b[0m\n",
       "\u001b[31m│\u001b[0m   \u001b[2m 261 \u001b[0m\u001b[2m│   │   \u001b[0m\u001b[94mwith\u001b[0m parallel_backend(\u001b[96mself\u001b[0m._backend, n_jobs=\u001b[96mself\u001b[0m._n_jobs):                        \u001b[31m│\u001b[0m\n",
       "\u001b[31m│\u001b[0m   \u001b[2m 262 \u001b[0m\u001b[2m│   │   │   \u001b[0m\u001b[94mreturn\u001b[0m [func(*args, **kwargs)                                                 \u001b[31m│\u001b[0m\n",
       "\u001b[31m│\u001b[0m \u001b[31m❱ \u001b[0m 263 \u001b[2m│   │   │   │   │   \u001b[0m\u001b[94mfor\u001b[0m func, args, kwargs \u001b[95min\u001b[0m \u001b[96mself\u001b[0m.items]                                 \u001b[31m│\u001b[0m\n",
       "\u001b[31m│\u001b[0m   \u001b[2m 264 \u001b[0m\u001b[2m│   \u001b[0m                                                                                      \u001b[31m│\u001b[0m\n",
       "\u001b[31m│\u001b[0m   \u001b[2m 265 \u001b[0m\u001b[2m│   \u001b[0m\u001b[94mdef\u001b[0m \u001b[92m__reduce__\u001b[0m(\u001b[96mself\u001b[0m):                                                                 \u001b[31m│\u001b[0m\n",
       "\u001b[31m│\u001b[0m   \u001b[2m 266 \u001b[0m\u001b[2m│   │   \u001b[0m\u001b[94mif\u001b[0m \u001b[96mself\u001b[0m._reducer_callback \u001b[95mis\u001b[0m \u001b[95mnot\u001b[0m \u001b[94mNone\u001b[0m:                                            \u001b[31m│\u001b[0m\n",
       "\u001b[31m│\u001b[0m                                                                                                  \u001b[31m│\u001b[0m\n",
       "\u001b[31m│\u001b[0m \u001b[2;33m/home/lcmj/anaconda3/envs/daa/lib/python3.6/site-packages/joblib/\u001b[0m\u001b[1;33mparallel.py\u001b[0m:\u001b[94m263\u001b[0m in \u001b[92m<listcomp>\u001b[0m   \u001b[31m│\u001b[0m\n",
       "\u001b[31m│\u001b[0m                                                                                                  \u001b[31m│\u001b[0m\n",
       "\u001b[31m│\u001b[0m   \u001b[2m 260 \u001b[0m\u001b[2m│   │   \u001b[0m\u001b[2m# change the default number of processes to -1\u001b[0m                                    \u001b[31m│\u001b[0m\n",
       "\u001b[31m│\u001b[0m   \u001b[2m 261 \u001b[0m\u001b[2m│   │   \u001b[0m\u001b[94mwith\u001b[0m parallel_backend(\u001b[96mself\u001b[0m._backend, n_jobs=\u001b[96mself\u001b[0m._n_jobs):                        \u001b[31m│\u001b[0m\n",
       "\u001b[31m│\u001b[0m   \u001b[2m 262 \u001b[0m\u001b[2m│   │   │   \u001b[0m\u001b[94mreturn\u001b[0m [func(*args, **kwargs)                                                 \u001b[31m│\u001b[0m\n",
       "\u001b[31m│\u001b[0m \u001b[31m❱ \u001b[0m 263 \u001b[2m│   │   │   │   │   \u001b[0m\u001b[94mfor\u001b[0m func, args, kwargs \u001b[95min\u001b[0m \u001b[96mself\u001b[0m.items]                                 \u001b[31m│\u001b[0m\n",
       "\u001b[31m│\u001b[0m   \u001b[2m 264 \u001b[0m\u001b[2m│   \u001b[0m                                                                                      \u001b[31m│\u001b[0m\n",
       "\u001b[31m│\u001b[0m   \u001b[2m 265 \u001b[0m\u001b[2m│   \u001b[0m\u001b[94mdef\u001b[0m \u001b[92m__reduce__\u001b[0m(\u001b[96mself\u001b[0m):                                                                 \u001b[31m│\u001b[0m\n",
       "\u001b[31m│\u001b[0m   \u001b[2m 266 \u001b[0m\u001b[2m│   │   \u001b[0m\u001b[94mif\u001b[0m \u001b[96mself\u001b[0m._reducer_callback \u001b[95mis\u001b[0m \u001b[95mnot\u001b[0m \u001b[94mNone\u001b[0m:                                            \u001b[31m│\u001b[0m\n",
       "\u001b[31m│\u001b[0m                                                                                                  \u001b[31m│\u001b[0m\n",
       "\u001b[31m│\u001b[0m \u001b[2;33m/home/lcmj/anaconda3/envs/daa/lib/python3.6/site-packages/sklearn/utils/\u001b[0m\u001b[1;33mfixes.py\u001b[0m:\u001b[94m222\u001b[0m in \u001b[92m__call__\u001b[0m \u001b[31m│\u001b[0m\n",
       "\u001b[31m│\u001b[0m                                                                                                  \u001b[31m│\u001b[0m\n",
       "\u001b[31m│\u001b[0m   \u001b[2m219 \u001b[0m\u001b[2m│   \u001b[0m                                                                                       \u001b[31m│\u001b[0m\n",
       "\u001b[31m│\u001b[0m   \u001b[2m220 \u001b[0m\u001b[2m│   \u001b[0m\u001b[94mdef\u001b[0m \u001b[92m__call__\u001b[0m(\u001b[96mself\u001b[0m, *args, **kwargs):                                                   \u001b[31m│\u001b[0m\n",
       "\u001b[31m│\u001b[0m   \u001b[2m221 \u001b[0m\u001b[2m│   │   \u001b[0m\u001b[94mwith\u001b[0m config_context(**\u001b[96mself\u001b[0m.config):                                                \u001b[31m│\u001b[0m\n",
       "\u001b[31m│\u001b[0m \u001b[31m❱ \u001b[0m222 \u001b[2m│   │   │   \u001b[0m\u001b[94mreturn\u001b[0m \u001b[96mself\u001b[0m.function(*args, **kwargs)                                          \u001b[31m│\u001b[0m\n",
       "\u001b[31m│\u001b[0m   \u001b[2m223 \u001b[0m                                                                                           \u001b[31m│\u001b[0m\n",
       "\u001b[31m│\u001b[0m                                                                                                  \u001b[31m│\u001b[0m\n",
       "\u001b[31m│\u001b[0m \u001b[2;33m/home/lcmj/anaconda3/envs/daa/lib/python3.6/site-packages/sklearn/\u001b[0m\u001b[1;33mmulticlass.py\u001b[0m:\u001b[94m85\u001b[0m in            \u001b[31m│\u001b[0m\n",
       "\u001b[31m│\u001b[0m \u001b[92m_fit_binary\u001b[0m                                                                                      \u001b[31m│\u001b[0m\n",
       "\u001b[31m│\u001b[0m                                                                                                  \u001b[31m│\u001b[0m\n",
       "\u001b[31m│\u001b[0m   \u001b[2m 82 \u001b[0m\u001b[2m│   │   \u001b[0mestimator = _ConstantPredictor().fit(X, unique_y)                                  \u001b[31m│\u001b[0m\n",
       "\u001b[31m│\u001b[0m   \u001b[2m 83 \u001b[0m\u001b[2m│   \u001b[0m\u001b[94melse\u001b[0m:                                                                                  \u001b[31m│\u001b[0m\n",
       "\u001b[31m│\u001b[0m   \u001b[2m 84 \u001b[0m\u001b[2m│   │   \u001b[0mestimator = clone(estimator)                                                       \u001b[31m│\u001b[0m\n",
       "\u001b[31m│\u001b[0m \u001b[31m❱ \u001b[0m 85 \u001b[2m│   │   \u001b[0mestimator.fit(X, y)                                                                \u001b[31m│\u001b[0m\n",
       "\u001b[31m│\u001b[0m   \u001b[2m 86 \u001b[0m\u001b[2m│   \u001b[0m\u001b[94mreturn\u001b[0m estimator                                                                       \u001b[31m│\u001b[0m\n",
       "\u001b[31m│\u001b[0m   \u001b[2m 87 \u001b[0m                                                                                           \u001b[31m│\u001b[0m\n",
       "\u001b[31m│\u001b[0m   \u001b[2m 88 \u001b[0m                                                                                           \u001b[31m│\u001b[0m\n",
       "\u001b[31m│\u001b[0m                                                                                                  \u001b[31m│\u001b[0m\n",
       "\u001b[31m│\u001b[0m \u001b[2;33m/home/lcmj/anaconda3/envs/daa/lib/python3.6/site-packages/sklearn/gaussian_process/\u001b[0m\u001b[1;33m_gpc.py\u001b[0m:\u001b[94m239\u001b[0m   \u001b[31m│\u001b[0m\n",
       "\u001b[31m│\u001b[0m in \u001b[92mfit\u001b[0m                                                                                           \u001b[31m│\u001b[0m\n",
       "\u001b[31m│\u001b[0m                                                                                                  \u001b[31m│\u001b[0m\n",
       "\u001b[31m│\u001b[0m   \u001b[2m236 \u001b[0m\u001b[2m│   │   │   \u001b[0m\u001b[96mself\u001b[0m.log_marginal_likelihood_value_ = -np.min(lml_values)                      \u001b[31m│\u001b[0m\n",
       "\u001b[31m│\u001b[0m   \u001b[2m237 \u001b[0m\u001b[2m│   │   \u001b[0m\u001b[94melse\u001b[0m:                                                                              \u001b[31m│\u001b[0m\n",
       "\u001b[31m│\u001b[0m   \u001b[2m238 \u001b[0m\u001b[2m│   │   │   \u001b[0m\u001b[96mself\u001b[0m.log_marginal_likelihood_value_ = \\                                        \u001b[31m│\u001b[0m\n",
       "\u001b[31m│\u001b[0m \u001b[31m❱ \u001b[0m239 \u001b[2m│   │   │   │   \u001b[0m\u001b[96mself\u001b[0m.log_marginal_likelihood(\u001b[96mself\u001b[0m.kernel_.theta)                           \u001b[31m│\u001b[0m\n",
       "\u001b[31m│\u001b[0m   \u001b[2m240 \u001b[0m\u001b[2m│   │   \u001b[0m                                                                                   \u001b[31m│\u001b[0m\n",
       "\u001b[31m│\u001b[0m   \u001b[2m241 \u001b[0m\u001b[2m│   │   \u001b[0m\u001b[2m# Precompute quantities required for predictions which are independent\u001b[0m             \u001b[31m│\u001b[0m\n",
       "\u001b[31m│\u001b[0m   \u001b[2m242 \u001b[0m\u001b[2m│   │   \u001b[0m\u001b[2m# of actual query points\u001b[0m                                                           \u001b[31m│\u001b[0m\n",
       "\u001b[31m│\u001b[0m                                                                                                  \u001b[31m│\u001b[0m\n",
       "\u001b[31m│\u001b[0m \u001b[2;33m/home/lcmj/anaconda3/envs/daa/lib/python3.6/site-packages/sklearn/gaussian_process/\u001b[0m\u001b[1;33m_gpc.py\u001b[0m:\u001b[94m364\u001b[0m   \u001b[31m│\u001b[0m\n",
       "\u001b[31m│\u001b[0m in \u001b[92mlog_marginal_likelihood\u001b[0m                                                                       \u001b[31m│\u001b[0m\n",
       "\u001b[31m│\u001b[0m                                                                                                  \u001b[31m│\u001b[0m\n",
       "\u001b[31m│\u001b[0m   \u001b[2m361 \u001b[0m\u001b[2m│   │   \u001b[0m\u001b[2m# Compute log-marginal-likelihood Z and also store some temporaries\u001b[0m                \u001b[31m│\u001b[0m\n",
       "\u001b[31m│\u001b[0m   \u001b[2m362 \u001b[0m\u001b[2m│   │   \u001b[0m\u001b[2m# which can be reused for computing Z's gradient\u001b[0m                                   \u001b[31m│\u001b[0m\n",
       "\u001b[31m│\u001b[0m   \u001b[2m363 \u001b[0m\u001b[2m│   │   \u001b[0mZ, (pi, W_sr, L, b, a) = \\                                                         \u001b[31m│\u001b[0m\n",
       "\u001b[31m│\u001b[0m \u001b[31m❱ \u001b[0m364 \u001b[2m│   │   │   \u001b[0m\u001b[96mself\u001b[0m._posterior_mode(K, return_temporaries=\u001b[94mTrue\u001b[0m)                               \u001b[31m│\u001b[0m\n",
       "\u001b[31m│\u001b[0m   \u001b[2m365 \u001b[0m\u001b[2m│   │   \u001b[0m                                                                                   \u001b[31m│\u001b[0m\n",
       "\u001b[31m│\u001b[0m   \u001b[2m366 \u001b[0m\u001b[2m│   │   \u001b[0m\u001b[94mif\u001b[0m \u001b[95mnot\u001b[0m eval_gradient:                                                              \u001b[31m│\u001b[0m\n",
       "\u001b[31m│\u001b[0m   \u001b[2m367 \u001b[0m\u001b[2m│   │   │   \u001b[0m\u001b[94mreturn\u001b[0m Z                                                                       \u001b[31m│\u001b[0m\n",
       "\u001b[31m│\u001b[0m                                                                                                  \u001b[31m│\u001b[0m\n",
       "\u001b[31m│\u001b[0m \u001b[2;33m/home/lcmj/anaconda3/envs/daa/lib/python3.6/site-packages/sklearn/gaussian_process/\u001b[0m\u001b[1;33m_gpc.py\u001b[0m:\u001b[94m417\u001b[0m   \u001b[31m│\u001b[0m\n",
       "\u001b[31m│\u001b[0m in \u001b[92m_posterior_mode\u001b[0m                                                                               \u001b[31m│\u001b[0m\n",
       "\u001b[31m│\u001b[0m                                                                                                  \u001b[31m│\u001b[0m\n",
       "\u001b[31m│\u001b[0m   \u001b[2m414 \u001b[0m\u001b[2m│   │   │   \u001b[0mW_sr = np.sqrt(W)                                                              \u001b[31m│\u001b[0m\n",
       "\u001b[31m│\u001b[0m   \u001b[2m415 \u001b[0m\u001b[2m│   │   │   \u001b[0mW_sr_K = W_sr[:, np.newaxis] * K                                               \u001b[31m│\u001b[0m\n",
       "\u001b[31m│\u001b[0m   \u001b[2m416 \u001b[0m\u001b[2m│   │   │   \u001b[0mB = np.eye(W.shape[\u001b[94m0\u001b[0m]) + W_sr_K * W_sr                                         \u001b[31m│\u001b[0m\n",
       "\u001b[31m│\u001b[0m \u001b[31m❱ \u001b[0m417 \u001b[2m│   │   │   \u001b[0mL = cholesky(B, lower=\u001b[94mTrue\u001b[0m)                                                    \u001b[31m│\u001b[0m\n",
       "\u001b[31m│\u001b[0m   \u001b[2m418 \u001b[0m\u001b[2m│   │   │   \u001b[0m\u001b[2m# Line 6\u001b[0m                                                                       \u001b[31m│\u001b[0m\n",
       "\u001b[31m│\u001b[0m   \u001b[2m419 \u001b[0m\u001b[2m│   │   │   \u001b[0mb = W * f + (\u001b[96mself\u001b[0m.y_train_ - pi)                                               \u001b[31m│\u001b[0m\n",
       "\u001b[31m│\u001b[0m   \u001b[2m420 \u001b[0m\u001b[2m│   │   │   \u001b[0m\u001b[2m# Line 7\u001b[0m                                                                       \u001b[31m│\u001b[0m\n",
       "\u001b[31m│\u001b[0m                                                                                                  \u001b[31m│\u001b[0m\n",
       "\u001b[31m│\u001b[0m \u001b[2;33m/home/lcmj/anaconda3/envs/daa/lib/python3.6/site-packages/scipy/linalg/\u001b[0m\u001b[1;33mdecomp_cholesky.py\u001b[0m:\u001b[94m89\u001b[0m in  \u001b[31m│\u001b[0m\n",
       "\u001b[31m│\u001b[0m \u001b[92mcholesky\u001b[0m                                                                                         \u001b[31m│\u001b[0m\n",
       "\u001b[31m│\u001b[0m                                                                                                  \u001b[31m│\u001b[0m\n",
       "\u001b[31m│\u001b[0m   \u001b[2m 86 \u001b[0m\u001b[2m│   \u001b[0m                                                                                       \u001b[31m│\u001b[0m\n",
       "\u001b[31m│\u001b[0m   \u001b[2m 87 \u001b[0m\u001b[2;33m│   \u001b[0m\u001b[33m\"\"\"\u001b[0m                                                                                    \u001b[31m│\u001b[0m\n",
       "\u001b[31m│\u001b[0m   \u001b[2m 88 \u001b[0m\u001b[2m│   \u001b[0mc, lower = _cholesky(a, lower=lower, overwrite_a=overwrite_a, clean=\u001b[94mTrue\u001b[0m,              \u001b[31m│\u001b[0m\n",
       "\u001b[31m│\u001b[0m \u001b[31m❱ \u001b[0m 89 \u001b[2m│   │   │   │   │   │    \u001b[0mcheck_finite=check_finite)                                        \u001b[31m│\u001b[0m\n",
       "\u001b[31m│\u001b[0m   \u001b[2m 90 \u001b[0m\u001b[2m│   \u001b[0m\u001b[94mreturn\u001b[0m c                                                                               \u001b[31m│\u001b[0m\n",
       "\u001b[31m│\u001b[0m   \u001b[2m 91 \u001b[0m                                                                                           \u001b[31m│\u001b[0m\n",
       "\u001b[31m│\u001b[0m   \u001b[2m 92 \u001b[0m                                                                                           \u001b[31m│\u001b[0m\n",
       "\u001b[31m│\u001b[0m                                                                                                  \u001b[31m│\u001b[0m\n",
       "\u001b[31m│\u001b[0m \u001b[2;33m/home/lcmj/anaconda3/envs/daa/lib/python3.6/site-packages/scipy/linalg/\u001b[0m\u001b[1;33mdecomp_cholesky.py\u001b[0m:\u001b[94m35\u001b[0m in  \u001b[31m│\u001b[0m\n",
       "\u001b[31m│\u001b[0m \u001b[92m_cholesky\u001b[0m                                                                                        \u001b[31m│\u001b[0m\n",
       "\u001b[31m│\u001b[0m                                                                                                  \u001b[31m│\u001b[0m\n",
       "\u001b[31m│\u001b[0m   \u001b[2m 32 \u001b[0m\u001b[2m│   \u001b[0m                                                                                       \u001b[31m│\u001b[0m\n",
       "\u001b[31m│\u001b[0m   \u001b[2m 33 \u001b[0m\u001b[2m│   \u001b[0moverwrite_a = overwrite_a \u001b[95mor\u001b[0m _datacopied(a1, a)                                        \u001b[31m│\u001b[0m\n",
       "\u001b[31m│\u001b[0m   \u001b[2m 34 \u001b[0m\u001b[2m│   \u001b[0mpotrf, = get_lapack_funcs((\u001b[33m'\u001b[0m\u001b[33mpotrf\u001b[0m\u001b[33m'\u001b[0m,), (a1,))                                           \u001b[31m│\u001b[0m\n",
       "\u001b[31m│\u001b[0m \u001b[31m❱ \u001b[0m 35 \u001b[2m│   \u001b[0mc, info = potrf(a1, lower=lower, overwrite_a=overwrite_a, clean=clean)                 \u001b[31m│\u001b[0m\n",
       "\u001b[31m│\u001b[0m   \u001b[2m 36 \u001b[0m\u001b[2m│   \u001b[0m\u001b[94mif\u001b[0m info > \u001b[94m0\u001b[0m:                                                                           \u001b[31m│\u001b[0m\n",
       "\u001b[31m│\u001b[0m   \u001b[2m 37 \u001b[0m\u001b[2m│   │   \u001b[0m\u001b[94mraise\u001b[0m LinAlgError(\u001b[33m\"\u001b[0m\u001b[33m%d\u001b[0m\u001b[33m-th leading minor of the array is not positive \u001b[0m\u001b[33m\"\u001b[0m              \u001b[31m│\u001b[0m\n",
       "\u001b[31m│\u001b[0m   \u001b[2m 38 \u001b[0m\u001b[2m│   │   │   │   │   │     \u001b[0m\u001b[33m\"\u001b[0m\u001b[33mdefinite\u001b[0m\u001b[33m\"\u001b[0m % info)                                               \u001b[31m│\u001b[0m\n",
       "\u001b[31m╰──────────────────────────────────────────────────────────────────────────────────────────────────╯\u001b[0m\n",
       "\u001b[1;91mKeyboardInterrupt\u001b[0m\n"
      ]
     },
     "metadata": {},
     "output_type": "display_data"
    }
   ],
   "source": [
    "gaussian = GaussianProcessClassifier(n_restarts_optimizer=3, max_iter_predict=100, random_state=2023)\n",
    "gaussian.fit(x_training, y_training)\n",
    "gaussian_predictions = gaussian.predict(x_testing)\n",
    "\n",
    "printOrWrite(\"GaussianProcessClassifier\", gaussian_predictions, y_testing, results_to_test)"
   ]
  },
  {
   "attachments": {},
   "cell_type": "markdown",
   "metadata": {},
   "source": [
    "### 5.12 Grid Search"
   ]
  },
  {
   "cell_type": "code",
   "execution_count": null,
   "metadata": {},
   "outputs": [
    {
     "name": "stdout",
     "output_type": "stream",
     "text": [
      "Fitting 5 folds for each of 25 candidates, totalling 125 fits\n",
      "[CV 1/5] END ........C=0.1, gamma=1, kernel=rbf;, score=0.406 total time=   0.5s\n",
      "[CV 2/5] END ........C=0.1, gamma=1, kernel=rbf;, score=0.406 total time=   0.5s\n",
      "[CV 3/5] END ........C=0.1, gamma=1, kernel=rbf;, score=0.406 total time=   0.5s\n",
      "[CV 4/5] END ........C=0.1, gamma=1, kernel=rbf;, score=0.406 total time=   0.5s\n",
      "[CV 5/5] END ........C=0.1, gamma=1, kernel=rbf;, score=0.404 total time=   0.5s\n",
      "[CV 1/5] END ......C=0.1, gamma=0.1, kernel=rbf;, score=0.406 total time=   0.4s\n",
      "[CV 2/5] END ......C=0.1, gamma=0.1, kernel=rbf;, score=0.406 total time=   0.4s\n",
      "[CV 3/5] END ......C=0.1, gamma=0.1, kernel=rbf;, score=0.406 total time=   0.4s\n",
      "[CV 4/5] END ......C=0.1, gamma=0.1, kernel=rbf;, score=0.406 total time=   0.5s\n",
      "[CV 5/5] END ......C=0.1, gamma=0.1, kernel=rbf;, score=0.404 total time=   0.5s\n",
      "[CV 1/5] END .....C=0.1, gamma=0.01, kernel=rbf;, score=0.406 total time=   0.4s\n",
      "[CV 2/5] END .....C=0.1, gamma=0.01, kernel=rbf;, score=0.406 total time=   0.3s\n",
      "[CV 3/5] END .....C=0.1, gamma=0.01, kernel=rbf;, score=0.406 total time=   0.3s\n",
      "[CV 4/5] END .....C=0.1, gamma=0.01, kernel=rbf;, score=0.406 total time=   0.3s\n",
      "[CV 5/5] END .....C=0.1, gamma=0.01, kernel=rbf;, score=0.404 total time=   0.3s\n",
      "[CV 1/5] END ....C=0.1, gamma=0.001, kernel=rbf;, score=0.548 total time=   0.3s\n",
      "[CV 2/5] END ....C=0.1, gamma=0.001, kernel=rbf;, score=0.552 total time=   0.2s\n",
      "[CV 3/5] END ....C=0.1, gamma=0.001, kernel=rbf;, score=0.564 total time=   0.2s\n",
      "[CV 4/5] END ....C=0.1, gamma=0.001, kernel=rbf;, score=0.556 total time=   0.3s\n",
      "[CV 5/5] END ....C=0.1, gamma=0.001, kernel=rbf;, score=0.578 total time=   0.3s\n",
      "[CV 1/5] END ...C=0.1, gamma=0.0001, kernel=rbf;, score=0.566 total time=   0.2s\n",
      "[CV 2/5] END ...C=0.1, gamma=0.0001, kernel=rbf;, score=0.580 total time=   0.2s\n",
      "[CV 3/5] END ...C=0.1, gamma=0.0001, kernel=rbf;, score=0.582 total time=   0.2s\n",
      "[CV 4/5] END ...C=0.1, gamma=0.0001, kernel=rbf;, score=0.574 total time=   0.2s\n",
      "[CV 5/5] END ...C=0.1, gamma=0.0001, kernel=rbf;, score=0.580 total time=   0.2s\n",
      "[CV 1/5] END ..........C=1, gamma=1, kernel=rbf;, score=0.406 total time=   0.6s\n",
      "[CV 2/5] END ..........C=1, gamma=1, kernel=rbf;, score=0.406 total time=   0.7s\n",
      "[CV 3/5] END ..........C=1, gamma=1, kernel=rbf;, score=0.406 total time=   0.6s\n",
      "[CV 4/5] END ..........C=1, gamma=1, kernel=rbf;, score=0.406 total time=   0.6s\n",
      "[CV 5/5] END ..........C=1, gamma=1, kernel=rbf;, score=0.404 total time=   0.7s\n",
      "[CV 1/5] END ........C=1, gamma=0.1, kernel=rbf;, score=0.470 total time=   0.7s\n",
      "[CV 2/5] END ........C=1, gamma=0.1, kernel=rbf;, score=0.498 total time=   0.6s\n",
      "[CV 3/5] END ........C=1, gamma=0.1, kernel=rbf;, score=0.482 total time=   0.5s\n",
      "[CV 4/5] END ........C=1, gamma=0.1, kernel=rbf;, score=0.480 total time=   0.7s\n",
      "[CV 5/5] END ........C=1, gamma=0.1, kernel=rbf;, score=0.482 total time=   0.7s\n",
      "[CV 1/5] END .......C=1, gamma=0.01, kernel=rbf;, score=0.636 total time=   0.5s\n",
      "[CV 2/5] END .......C=1, gamma=0.01, kernel=rbf;, score=0.674 total time=   0.4s\n",
      "[CV 3/5] END .......C=1, gamma=0.01, kernel=rbf;, score=0.684 total time=   0.3s\n",
      "[CV 4/5] END .......C=1, gamma=0.01, kernel=rbf;, score=0.642 total time=   0.3s\n",
      "[CV 5/5] END .......C=1, gamma=0.01, kernel=rbf;, score=0.694 total time=   0.3s\n",
      "[CV 1/5] END ......C=1, gamma=0.001, kernel=rbf;, score=0.630 total time=   0.2s\n",
      "[CV 2/5] END ......C=1, gamma=0.001, kernel=rbf;, score=0.616 total time=   0.2s\n",
      "[CV 3/5] END ......C=1, gamma=0.001, kernel=rbf;, score=0.634 total time=   0.2s\n",
      "[CV 4/5] END ......C=1, gamma=0.001, kernel=rbf;, score=0.636 total time=   0.2s\n",
      "[CV 5/5] END ......C=1, gamma=0.001, kernel=rbf;, score=0.642 total time=   0.3s\n",
      "[CV 1/5] END .....C=1, gamma=0.0001, kernel=rbf;, score=0.602 total time=   0.2s\n",
      "[CV 2/5] END .....C=1, gamma=0.0001, kernel=rbf;, score=0.586 total time=   0.2s\n",
      "[CV 3/5] END .....C=1, gamma=0.0001, kernel=rbf;, score=0.598 total time=   0.2s\n",
      "[CV 4/5] END .....C=1, gamma=0.0001, kernel=rbf;, score=0.590 total time=   0.2s\n",
      "[CV 5/5] END .....C=1, gamma=0.0001, kernel=rbf;, score=0.610 total time=   0.2s\n",
      "[CV 1/5] END .........C=10, gamma=1, kernel=rbf;, score=0.408 total time=   0.5s\n",
      "[CV 2/5] END .........C=10, gamma=1, kernel=rbf;, score=0.406 total time=   0.6s\n",
      "[CV 3/5] END .........C=10, gamma=1, kernel=rbf;, score=0.408 total time=   0.5s\n",
      "[CV 4/5] END .........C=10, gamma=1, kernel=rbf;, score=0.410 total time=   0.5s\n",
      "[CV 5/5] END .........C=10, gamma=1, kernel=rbf;, score=0.406 total time=   0.5s\n",
      "[CV 1/5] END .......C=10, gamma=0.1, kernel=rbf;, score=0.480 total time=   0.5s\n",
      "[CV 2/5] END .......C=10, gamma=0.1, kernel=rbf;, score=0.522 total time=   0.5s\n",
      "[CV 3/5] END .......C=10, gamma=0.1, kernel=rbf;, score=0.484 total time=   0.4s\n",
      "[CV 4/5] END .......C=10, gamma=0.1, kernel=rbf;, score=0.502 total time=   0.5s\n",
      "[CV 5/5] END .......C=10, gamma=0.1, kernel=rbf;, score=0.500 total time=   0.5s\n",
      "[CV 1/5] END ......C=10, gamma=0.01, kernel=rbf;, score=0.708 total time=   0.3s\n",
      "[CV 2/5] END ......C=10, gamma=0.01, kernel=rbf;, score=0.722 total time=   0.3s\n",
      "[CV 3/5] END ......C=10, gamma=0.01, kernel=rbf;, score=0.716 total time=   0.4s\n",
      "[CV 4/5] END ......C=10, gamma=0.01, kernel=rbf;, score=0.716 total time=   0.4s\n",
      "[CV 5/5] END ......C=10, gamma=0.01, kernel=rbf;, score=0.760 total time=   0.3s\n",
      "[CV 1/5] END .....C=10, gamma=0.001, kernel=rbf;, score=0.670 total time=   0.3s\n",
      "[CV 2/5] END .....C=10, gamma=0.001, kernel=rbf;, score=0.670 total time=   0.3s\n",
      "[CV 3/5] END .....C=10, gamma=0.001, kernel=rbf;, score=0.682 total time=   0.3s\n",
      "[CV 4/5] END .....C=10, gamma=0.001, kernel=rbf;, score=0.662 total time=   0.3s\n",
      "[CV 5/5] END .....C=10, gamma=0.001, kernel=rbf;, score=0.704 total time=   0.3s\n",
      "[CV 1/5] END ....C=10, gamma=0.0001, kernel=rbf;, score=0.600 total time=   0.3s\n",
      "[CV 2/5] END ....C=10, gamma=0.0001, kernel=rbf;, score=0.612 total time=   0.3s\n",
      "[CV 3/5] END ....C=10, gamma=0.0001, kernel=rbf;, score=0.606 total time=   0.3s\n",
      "[CV 4/5] END ....C=10, gamma=0.0001, kernel=rbf;, score=0.632 total time=   0.2s\n",
      "[CV 5/5] END ....C=10, gamma=0.0001, kernel=rbf;, score=0.646 total time=   0.2s\n",
      "[CV 1/5] END ........C=100, gamma=1, kernel=rbf;, score=0.408 total time=   0.6s\n",
      "[CV 2/5] END ........C=100, gamma=1, kernel=rbf;, score=0.406 total time=   0.5s\n",
      "[CV 3/5] END ........C=100, gamma=1, kernel=rbf;, score=0.408 total time=   0.5s\n",
      "[CV 4/5] END ........C=100, gamma=1, kernel=rbf;, score=0.410 total time=   0.5s\n",
      "[CV 5/5] END ........C=100, gamma=1, kernel=rbf;, score=0.406 total time=   0.6s\n",
      "[CV 1/5] END ......C=100, gamma=0.1, kernel=rbf;, score=0.480 total time=   0.5s\n",
      "[CV 2/5] END ......C=100, gamma=0.1, kernel=rbf;, score=0.522 total time=   0.5s\n",
      "[CV 3/5] END ......C=100, gamma=0.1, kernel=rbf;, score=0.484 total time=   0.6s\n",
      "[CV 4/5] END ......C=100, gamma=0.1, kernel=rbf;, score=0.502 total time=   0.5s\n",
      "[CV 5/5] END ......C=100, gamma=0.1, kernel=rbf;, score=0.500 total time=   0.5s\n",
      "[CV 1/5] END .....C=100, gamma=0.01, kernel=rbf;, score=0.710 total time=   0.4s\n",
      "[CV 2/5] END .....C=100, gamma=0.01, kernel=rbf;, score=0.738 total time=   0.4s\n",
      "[CV 3/5] END .....C=100, gamma=0.01, kernel=rbf;, score=0.724 total time=   0.3s\n",
      "[CV 4/5] END .....C=100, gamma=0.01, kernel=rbf;, score=0.720 total time=   0.4s\n",
      "[CV 5/5] END .....C=100, gamma=0.01, kernel=rbf;, score=0.760 total time=   0.4s\n"
     ]
    },
    {
     "data": {
      "text/html": [
       "<pre style=\"white-space:pre;overflow-x:auto;line-height:normal;font-family:Menlo,'DejaVu Sans Mono',consolas,'Courier New',monospace\"><span style=\"color: #800000; text-decoration-color: #800000\">╭─────────────────────────────── </span><span style=\"color: #800000; text-decoration-color: #800000; font-weight: bold\">Traceback </span><span style=\"color: #bf7f7f; text-decoration-color: #bf7f7f; font-weight: bold\">(most recent call last)</span><span style=\"color: #800000; text-decoration-color: #800000\"> ────────────────────────────────╮</span>\n",
       "<span style=\"color: #800000; text-decoration-color: #800000\">│</span> <span style=\"color: #808000; text-decoration-color: #808000\">&lt;ipython-input-147-7c8e58ebbcdc&gt;</span>:<span style=\"color: #0000ff; text-decoration-color: #0000ff\">3</span> in <span style=\"color: #00ff00; text-decoration-color: #00ff00\">&lt;module&gt;</span>                                                   <span style=\"color: #800000; text-decoration-color: #800000\">│</span>\n",
       "<span style=\"color: #800000; text-decoration-color: #800000\">│</span>                                                                                                  <span style=\"color: #800000; text-decoration-color: #800000\">│</span>\n",
       "<span style=\"color: #800000; text-decoration-color: #800000\">│</span> <span style=\"color: #bfbf7f; text-decoration-color: #bfbf7f\">/home/lcmj/anaconda3/envs/daa/lib/python3.6/site-packages/sklearn/utils/</span><span style=\"color: #808000; text-decoration-color: #808000; font-weight: bold\">validation.py</span>:<span style=\"color: #0000ff; text-decoration-color: #0000ff\">63</span> in      <span style=\"color: #800000; text-decoration-color: #800000\">│</span>\n",
       "<span style=\"color: #800000; text-decoration-color: #800000\">│</span> <span style=\"color: #00ff00; text-decoration-color: #00ff00\">inner_f</span>                                                                                          <span style=\"color: #800000; text-decoration-color: #800000\">│</span>\n",
       "<span style=\"color: #800000; text-decoration-color: #800000\">│</span>                                                                                                  <span style=\"color: #800000; text-decoration-color: #800000\">│</span>\n",
       "<span style=\"color: #800000; text-decoration-color: #800000\">│</span>   <span style=\"color: #7f7f7f; text-decoration-color: #7f7f7f\">  60 │   │   </span><span style=\"color: #0000ff; text-decoration-color: #0000ff\">def</span> <span style=\"color: #00ff00; text-decoration-color: #00ff00\">inner_f</span>(*args, **kwargs):                                                     <span style=\"color: #800000; text-decoration-color: #800000\">│</span>\n",
       "<span style=\"color: #800000; text-decoration-color: #800000\">│</span>   <span style=\"color: #7f7f7f; text-decoration-color: #7f7f7f\">  61 │   │   │   </span>extra_args = <span style=\"color: #00ffff; text-decoration-color: #00ffff\">len</span>(args) - <span style=\"color: #00ffff; text-decoration-color: #00ffff\">len</span>(all_args)                                        <span style=\"color: #800000; text-decoration-color: #800000\">│</span>\n",
       "<span style=\"color: #800000; text-decoration-color: #800000\">│</span>   <span style=\"color: #7f7f7f; text-decoration-color: #7f7f7f\">  62 │   │   │   </span><span style=\"color: #0000ff; text-decoration-color: #0000ff\">if</span> extra_args &lt;= <span style=\"color: #0000ff; text-decoration-color: #0000ff\">0</span>:                                                           <span style=\"color: #800000; text-decoration-color: #800000\">│</span>\n",
       "<span style=\"color: #800000; text-decoration-color: #800000\">│</span> <span style=\"color: #800000; text-decoration-color: #800000\">❱ </span>  63 <span style=\"color: #7f7f7f; text-decoration-color: #7f7f7f\">│   │   │   │   </span><span style=\"color: #0000ff; text-decoration-color: #0000ff\">return</span> f(*args, **kwargs)                                                 <span style=\"color: #800000; text-decoration-color: #800000\">│</span>\n",
       "<span style=\"color: #800000; text-decoration-color: #800000\">│</span>   <span style=\"color: #7f7f7f; text-decoration-color: #7f7f7f\">  64 │   │   │   </span>                                                                              <span style=\"color: #800000; text-decoration-color: #800000\">│</span>\n",
       "<span style=\"color: #800000; text-decoration-color: #800000\">│</span>   <span style=\"color: #7f7f7f; text-decoration-color: #7f7f7f\">  65 │   │   │   # extra_args &gt; 0</span>                                                              <span style=\"color: #800000; text-decoration-color: #800000\">│</span>\n",
       "<span style=\"color: #800000; text-decoration-color: #800000\">│</span>   <span style=\"color: #7f7f7f; text-decoration-color: #7f7f7f\">  66 │   │   │   </span>args_msg = [<span style=\"color: #808000; text-decoration-color: #808000\">'{}={}'</span>.format(name, arg)                                         <span style=\"color: #800000; text-decoration-color: #800000\">│</span>\n",
       "<span style=\"color: #800000; text-decoration-color: #800000\">│</span>                                                                                                  <span style=\"color: #800000; text-decoration-color: #800000\">│</span>\n",
       "<span style=\"color: #800000; text-decoration-color: #800000\">│</span> <span style=\"color: #bfbf7f; text-decoration-color: #bfbf7f\">/home/lcmj/anaconda3/envs/daa/lib/python3.6/site-packages/sklearn/model_selection/</span><span style=\"color: #808000; text-decoration-color: #808000; font-weight: bold\">_search.py</span>:<span style=\"color: #0000ff; text-decoration-color: #0000ff\">841</span> <span style=\"color: #800000; text-decoration-color: #800000\">│</span>\n",
       "<span style=\"color: #800000; text-decoration-color: #800000\">│</span> in <span style=\"color: #00ff00; text-decoration-color: #00ff00\">fit</span>                                                                                           <span style=\"color: #800000; text-decoration-color: #800000\">│</span>\n",
       "<span style=\"color: #800000; text-decoration-color: #800000\">│</span>                                                                                                  <span style=\"color: #800000; text-decoration-color: #800000\">│</span>\n",
       "<span style=\"color: #800000; text-decoration-color: #800000\">│</span>   <span style=\"color: #7f7f7f; text-decoration-color: #7f7f7f\"> 838 │   │   │   │   </span>                                                                          <span style=\"color: #800000; text-decoration-color: #800000\">│</span>\n",
       "<span style=\"color: #800000; text-decoration-color: #800000\">│</span>   <span style=\"color: #7f7f7f; text-decoration-color: #7f7f7f\"> 839 │   │   │   │   </span><span style=\"color: #0000ff; text-decoration-color: #0000ff\">return</span> results                                                            <span style=\"color: #800000; text-decoration-color: #800000\">│</span>\n",
       "<span style=\"color: #800000; text-decoration-color: #800000\">│</span>   <span style=\"color: #7f7f7f; text-decoration-color: #7f7f7f\"> 840 │   │   │   </span>                                                                              <span style=\"color: #800000; text-decoration-color: #800000\">│</span>\n",
       "<span style=\"color: #800000; text-decoration-color: #800000\">│</span> <span style=\"color: #800000; text-decoration-color: #800000\">❱ </span> 841 <span style=\"color: #7f7f7f; text-decoration-color: #7f7f7f\">│   │   │   </span><span style=\"color: #00ffff; text-decoration-color: #00ffff\">self</span>._run_search(evaluate_candidates)                                         <span style=\"color: #800000; text-decoration-color: #800000\">│</span>\n",
       "<span style=\"color: #800000; text-decoration-color: #800000\">│</span>   <span style=\"color: #7f7f7f; text-decoration-color: #7f7f7f\"> 842 │   │   │   </span>                                                                              <span style=\"color: #800000; text-decoration-color: #800000\">│</span>\n",
       "<span style=\"color: #800000; text-decoration-color: #800000\">│</span>   <span style=\"color: #7f7f7f; text-decoration-color: #7f7f7f\"> 843 │   │   │   # multimetric is determined here because in the case of a callable</span>            <span style=\"color: #800000; text-decoration-color: #800000\">│</span>\n",
       "<span style=\"color: #800000; text-decoration-color: #800000\">│</span>   <span style=\"color: #7f7f7f; text-decoration-color: #7f7f7f\"> 844 │   │   │   # self.scoring the return type is only known after calling</span>                    <span style=\"color: #800000; text-decoration-color: #800000\">│</span>\n",
       "<span style=\"color: #800000; text-decoration-color: #800000\">│</span>                                                                                                  <span style=\"color: #800000; text-decoration-color: #800000\">│</span>\n",
       "<span style=\"color: #800000; text-decoration-color: #800000\">│</span> <span style=\"color: #bfbf7f; text-decoration-color: #bfbf7f\">/home/lcmj/anaconda3/envs/daa/lib/python3.6/site-packages/sklearn/model_selection/</span><span style=\"color: #808000; text-decoration-color: #808000; font-weight: bold\">_search.py</span>:<span style=\"color: #0000ff; text-decoration-color: #0000ff\">129</span> <span style=\"color: #800000; text-decoration-color: #800000\">│</span>\n",
       "<span style=\"color: #800000; text-decoration-color: #800000\">│</span> <span style=\"color: #0000ff; text-decoration-color: #0000ff\">6</span> in <span style=\"color: #00ff00; text-decoration-color: #00ff00\">_run_search</span>                                                                                 <span style=\"color: #800000; text-decoration-color: #800000\">│</span>\n",
       "<span style=\"color: #800000; text-decoration-color: #800000\">│</span>                                                                                                  <span style=\"color: #800000; text-decoration-color: #800000\">│</span>\n",
       "<span style=\"color: #800000; text-decoration-color: #800000\">│</span>   <span style=\"color: #7f7f7f; text-decoration-color: #7f7f7f\">1293 │   </span>                                                                                      <span style=\"color: #800000; text-decoration-color: #800000\">│</span>\n",
       "<span style=\"color: #800000; text-decoration-color: #800000\">│</span>   <span style=\"color: #7f7f7f; text-decoration-color: #7f7f7f\">1294 │   </span><span style=\"color: #0000ff; text-decoration-color: #0000ff\">def</span> <span style=\"color: #00ff00; text-decoration-color: #00ff00\">_run_search</span>(<span style=\"color: #00ffff; text-decoration-color: #00ffff\">self</span>, evaluate_candidates):                                           <span style=\"color: #800000; text-decoration-color: #800000\">│</span>\n",
       "<span style=\"color: #800000; text-decoration-color: #800000\">│</span>   <span style=\"color: #7f7f7f; text-decoration-color: #7f7f7f\">1295 │   │   </span><span style=\"color: #808000; text-decoration-color: #808000\">\"\"\"Search all candidates in param_grid\"\"\"</span>                                         <span style=\"color: #800000; text-decoration-color: #800000\">│</span>\n",
       "<span style=\"color: #800000; text-decoration-color: #800000\">│</span> <span style=\"color: #800000; text-decoration-color: #800000\">❱ </span>1296 <span style=\"color: #7f7f7f; text-decoration-color: #7f7f7f\">│   │   </span>evaluate_candidates(ParameterGrid(<span style=\"color: #00ffff; text-decoration-color: #00ffff\">self</span>.param_grid))                               <span style=\"color: #800000; text-decoration-color: #800000\">│</span>\n",
       "<span style=\"color: #800000; text-decoration-color: #800000\">│</span>   <span style=\"color: #7f7f7f; text-decoration-color: #7f7f7f\">1297 </span>                                                                                          <span style=\"color: #800000; text-decoration-color: #800000\">│</span>\n",
       "<span style=\"color: #800000; text-decoration-color: #800000\">│</span>   <span style=\"color: #7f7f7f; text-decoration-color: #7f7f7f\">1298 </span>                                                                                          <span style=\"color: #800000; text-decoration-color: #800000\">│</span>\n",
       "<span style=\"color: #800000; text-decoration-color: #800000\">│</span>   <span style=\"color: #7f7f7f; text-decoration-color: #7f7f7f\">1299 </span><span style=\"color: #0000ff; text-decoration-color: #0000ff\">class</span> <span style=\"color: #00ff00; text-decoration-color: #00ff00; text-decoration: underline\">RandomizedSearchCV</span>(BaseSearchCV):                                                   <span style=\"color: #800000; text-decoration-color: #800000\">│</span>\n",
       "<span style=\"color: #800000; text-decoration-color: #800000\">│</span>                                                                                                  <span style=\"color: #800000; text-decoration-color: #800000\">│</span>\n",
       "<span style=\"color: #800000; text-decoration-color: #800000\">│</span> <span style=\"color: #bfbf7f; text-decoration-color: #bfbf7f\">/home/lcmj/anaconda3/envs/daa/lib/python3.6/site-packages/sklearn/model_selection/</span><span style=\"color: #808000; text-decoration-color: #808000; font-weight: bold\">_search.py</span>:<span style=\"color: #0000ff; text-decoration-color: #0000ff\">809</span> <span style=\"color: #800000; text-decoration-color: #800000\">│</span>\n",
       "<span style=\"color: #800000; text-decoration-color: #800000\">│</span> in <span style=\"color: #00ff00; text-decoration-color: #00ff00\">evaluate_candidates</span>                                                                           <span style=\"color: #800000; text-decoration-color: #800000\">│</span>\n",
       "<span style=\"color: #800000; text-decoration-color: #800000\">│</span>                                                                                                  <span style=\"color: #800000; text-decoration-color: #800000\">│</span>\n",
       "<span style=\"color: #800000; text-decoration-color: #800000\">│</span>   <span style=\"color: #7f7f7f; text-decoration-color: #7f7f7f\"> 806 │   │   │   │   │   │   │      </span><span style=\"color: #0000ff; text-decoration-color: #0000ff\">for</span> (cand_idx, parameters),                                <span style=\"color: #800000; text-decoration-color: #800000\">│</span>\n",
       "<span style=\"color: #800000; text-decoration-color: #800000\">│</span>   <span style=\"color: #7f7f7f; text-decoration-color: #7f7f7f\"> 807 │   │   │   │   │   │   │   │      </span>(split_idx, (train, test)) <span style=\"color: #ff00ff; text-decoration-color: #ff00ff\">in</span> product(                 <span style=\"color: #800000; text-decoration-color: #800000\">│</span>\n",
       "<span style=\"color: #800000; text-decoration-color: #800000\">│</span>   <span style=\"color: #7f7f7f; text-decoration-color: #7f7f7f\"> 808 │   │   │   │   │   │   │   │      </span><span style=\"color: #00ffff; text-decoration-color: #00ffff\">enumerate</span>(candidate_params),                           <span style=\"color: #800000; text-decoration-color: #800000\">│</span>\n",
       "<span style=\"color: #800000; text-decoration-color: #800000\">│</span> <span style=\"color: #800000; text-decoration-color: #800000\">❱ </span> 809 <span style=\"color: #7f7f7f; text-decoration-color: #7f7f7f\">│   │   │   │   │   │   │   │      </span><span style=\"color: #00ffff; text-decoration-color: #00ffff\">enumerate</span>(cv.split(X, y, groups))))                    <span style=\"color: #800000; text-decoration-color: #800000\">│</span>\n",
       "<span style=\"color: #800000; text-decoration-color: #800000\">│</span>   <span style=\"color: #7f7f7f; text-decoration-color: #7f7f7f\"> 810 │   │   │   │   </span>                                                                          <span style=\"color: #800000; text-decoration-color: #800000\">│</span>\n",
       "<span style=\"color: #800000; text-decoration-color: #800000\">│</span>   <span style=\"color: #7f7f7f; text-decoration-color: #7f7f7f\"> 811 │   │   │   │   </span><span style=\"color: #0000ff; text-decoration-color: #0000ff\">if</span> <span style=\"color: #00ffff; text-decoration-color: #00ffff\">len</span>(out) &lt; <span style=\"color: #0000ff; text-decoration-color: #0000ff\">1</span>:                                                          <span style=\"color: #800000; text-decoration-color: #800000\">│</span>\n",
       "<span style=\"color: #800000; text-decoration-color: #800000\">│</span>   <span style=\"color: #7f7f7f; text-decoration-color: #7f7f7f\"> 812 │   │   │   │   │   </span><span style=\"color: #0000ff; text-decoration-color: #0000ff\">raise</span> <span style=\"color: #00ffff; text-decoration-color: #00ffff\">ValueError</span>(<span style=\"color: #808000; text-decoration-color: #808000\">'No fits were performed. '</span>                           <span style=\"color: #800000; text-decoration-color: #800000\">│</span>\n",
       "<span style=\"color: #800000; text-decoration-color: #800000\">│</span>                                                                                                  <span style=\"color: #800000; text-decoration-color: #800000\">│</span>\n",
       "<span style=\"color: #800000; text-decoration-color: #800000\">│</span> <span style=\"color: #bfbf7f; text-decoration-color: #bfbf7f\">/home/lcmj/anaconda3/envs/daa/lib/python3.6/site-packages/joblib/</span><span style=\"color: #808000; text-decoration-color: #808000; font-weight: bold\">parallel.py</span>:<span style=\"color: #0000ff; text-decoration-color: #0000ff\">1044</span> in <span style=\"color: #00ff00; text-decoration-color: #00ff00\">__call__</span>    <span style=\"color: #800000; text-decoration-color: #800000\">│</span>\n",
       "<span style=\"color: #800000; text-decoration-color: #800000\">│</span>                                                                                                  <span style=\"color: #800000; text-decoration-color: #800000\">│</span>\n",
       "<span style=\"color: #800000; text-decoration-color: #800000\">│</span>   <span style=\"color: #7f7f7f; text-decoration-color: #7f7f7f\">1041 │   │   │   </span><span style=\"color: #0000ff; text-decoration-color: #0000ff\">if</span> <span style=\"color: #00ffff; text-decoration-color: #00ffff\">self</span>.dispatch_one_batch(iterator):                                         <span style=\"color: #800000; text-decoration-color: #800000\">│</span>\n",
       "<span style=\"color: #800000; text-decoration-color: #800000\">│</span>   <span style=\"color: #7f7f7f; text-decoration-color: #7f7f7f\">1042 │   │   │   │   </span><span style=\"color: #00ffff; text-decoration-color: #00ffff\">self</span>._iterating = <span style=\"color: #00ffff; text-decoration-color: #00ffff\">self</span>._original_iterator <span style=\"color: #ff00ff; text-decoration-color: #ff00ff\">is</span> <span style=\"color: #ff00ff; text-decoration-color: #ff00ff\">not</span> <span style=\"color: #0000ff; text-decoration-color: #0000ff\">None</span>                     <span style=\"color: #800000; text-decoration-color: #800000\">│</span>\n",
       "<span style=\"color: #800000; text-decoration-color: #800000\">│</span>   <span style=\"color: #7f7f7f; text-decoration-color: #7f7f7f\">1043 │   │   │   </span>                                                                              <span style=\"color: #800000; text-decoration-color: #800000\">│</span>\n",
       "<span style=\"color: #800000; text-decoration-color: #800000\">│</span> <span style=\"color: #800000; text-decoration-color: #800000\">❱ </span>1044 <span style=\"color: #7f7f7f; text-decoration-color: #7f7f7f\">│   │   │   </span><span style=\"color: #0000ff; text-decoration-color: #0000ff\">while</span> <span style=\"color: #00ffff; text-decoration-color: #00ffff\">self</span>.dispatch_one_batch(iterator):                                      <span style=\"color: #800000; text-decoration-color: #800000\">│</span>\n",
       "<span style=\"color: #800000; text-decoration-color: #800000\">│</span>   <span style=\"color: #7f7f7f; text-decoration-color: #7f7f7f\">1045 │   │   │   │   </span><span style=\"color: #0000ff; text-decoration-color: #0000ff\">pass</span>                                                                      <span style=\"color: #800000; text-decoration-color: #800000\">│</span>\n",
       "<span style=\"color: #800000; text-decoration-color: #800000\">│</span>   <span style=\"color: #7f7f7f; text-decoration-color: #7f7f7f\">1046 │   │   │   </span>                                                                              <span style=\"color: #800000; text-decoration-color: #800000\">│</span>\n",
       "<span style=\"color: #800000; text-decoration-color: #800000\">│</span>   <span style=\"color: #7f7f7f; text-decoration-color: #7f7f7f\">1047 │   │   │   </span><span style=\"color: #0000ff; text-decoration-color: #0000ff\">if</span> pre_dispatch == <span style=\"color: #808000; text-decoration-color: #808000\">\"all\"</span> <span style=\"color: #ff00ff; text-decoration-color: #ff00ff\">or</span> n_jobs == <span style=\"color: #0000ff; text-decoration-color: #0000ff\">1</span>:                                      <span style=\"color: #800000; text-decoration-color: #800000\">│</span>\n",
       "<span style=\"color: #800000; text-decoration-color: #800000\">│</span>                                                                                                  <span style=\"color: #800000; text-decoration-color: #800000\">│</span>\n",
       "<span style=\"color: #800000; text-decoration-color: #800000\">│</span> <span style=\"color: #bfbf7f; text-decoration-color: #bfbf7f\">/home/lcmj/anaconda3/envs/daa/lib/python3.6/site-packages/joblib/</span><span style=\"color: #808000; text-decoration-color: #808000; font-weight: bold\">parallel.py</span>:<span style=\"color: #0000ff; text-decoration-color: #0000ff\">859</span> in              <span style=\"color: #800000; text-decoration-color: #800000\">│</span>\n",
       "<span style=\"color: #800000; text-decoration-color: #800000\">│</span> <span style=\"color: #00ff00; text-decoration-color: #00ff00\">dispatch_one_batch</span>                                                                               <span style=\"color: #800000; text-decoration-color: #800000\">│</span>\n",
       "<span style=\"color: #800000; text-decoration-color: #800000\">│</span>                                                                                                  <span style=\"color: #800000; text-decoration-color: #800000\">│</span>\n",
       "<span style=\"color: #800000; text-decoration-color: #800000\">│</span>   <span style=\"color: #7f7f7f; text-decoration-color: #7f7f7f\"> 856 │   │   │   │   # No more tasks available in the iterator: tell caller to stop.</span>           <span style=\"color: #800000; text-decoration-color: #800000\">│</span>\n",
       "<span style=\"color: #800000; text-decoration-color: #800000\">│</span>   <span style=\"color: #7f7f7f; text-decoration-color: #7f7f7f\"> 857 │   │   │   │   </span><span style=\"color: #0000ff; text-decoration-color: #0000ff\">return</span> <span style=\"color: #0000ff; text-decoration-color: #0000ff\">False</span>                                                              <span style=\"color: #800000; text-decoration-color: #800000\">│</span>\n",
       "<span style=\"color: #800000; text-decoration-color: #800000\">│</span>   <span style=\"color: #7f7f7f; text-decoration-color: #7f7f7f\"> 858 │   │   │   </span><span style=\"color: #0000ff; text-decoration-color: #0000ff\">else</span>:                                                                         <span style=\"color: #800000; text-decoration-color: #800000\">│</span>\n",
       "<span style=\"color: #800000; text-decoration-color: #800000\">│</span> <span style=\"color: #800000; text-decoration-color: #800000\">❱ </span> 859 <span style=\"color: #7f7f7f; text-decoration-color: #7f7f7f\">│   │   │   │   </span><span style=\"color: #00ffff; text-decoration-color: #00ffff\">self</span>._dispatch(tasks)                                                     <span style=\"color: #800000; text-decoration-color: #800000\">│</span>\n",
       "<span style=\"color: #800000; text-decoration-color: #800000\">│</span>   <span style=\"color: #7f7f7f; text-decoration-color: #7f7f7f\"> 860 │   │   │   │   </span><span style=\"color: #0000ff; text-decoration-color: #0000ff\">return</span> <span style=\"color: #0000ff; text-decoration-color: #0000ff\">True</span>                                                               <span style=\"color: #800000; text-decoration-color: #800000\">│</span>\n",
       "<span style=\"color: #800000; text-decoration-color: #800000\">│</span>   <span style=\"color: #7f7f7f; text-decoration-color: #7f7f7f\"> 861 │   </span>                                                                                      <span style=\"color: #800000; text-decoration-color: #800000\">│</span>\n",
       "<span style=\"color: #800000; text-decoration-color: #800000\">│</span>   <span style=\"color: #7f7f7f; text-decoration-color: #7f7f7f\"> 862 │   </span><span style=\"color: #0000ff; text-decoration-color: #0000ff\">def</span> <span style=\"color: #00ff00; text-decoration-color: #00ff00\">_print</span>(<span style=\"color: #00ffff; text-decoration-color: #00ffff\">self</span>, msg, msg_args):                                                      <span style=\"color: #800000; text-decoration-color: #800000\">│</span>\n",
       "<span style=\"color: #800000; text-decoration-color: #800000\">│</span>                                                                                                  <span style=\"color: #800000; text-decoration-color: #800000\">│</span>\n",
       "<span style=\"color: #800000; text-decoration-color: #800000\">│</span> <span style=\"color: #bfbf7f; text-decoration-color: #bfbf7f\">/home/lcmj/anaconda3/envs/daa/lib/python3.6/site-packages/joblib/</span><span style=\"color: #808000; text-decoration-color: #808000; font-weight: bold\">parallel.py</span>:<span style=\"color: #0000ff; text-decoration-color: #0000ff\">777</span> in <span style=\"color: #00ff00; text-decoration-color: #00ff00\">_dispatch</span>    <span style=\"color: #800000; text-decoration-color: #800000\">│</span>\n",
       "<span style=\"color: #800000; text-decoration-color: #800000\">│</span>                                                                                                  <span style=\"color: #800000; text-decoration-color: #800000\">│</span>\n",
       "<span style=\"color: #800000; text-decoration-color: #800000\">│</span>   <span style=\"color: #7f7f7f; text-decoration-color: #7f7f7f\"> 774 │   │   </span>cb = BatchCompletionCallBack(dispatch_timestamp, <span style=\"color: #00ffff; text-decoration-color: #00ffff\">len</span>(batch), <span style=\"color: #00ffff; text-decoration-color: #00ffff\">self</span>)                <span style=\"color: #800000; text-decoration-color: #800000\">│</span>\n",
       "<span style=\"color: #800000; text-decoration-color: #800000\">│</span>   <span style=\"color: #7f7f7f; text-decoration-color: #7f7f7f\"> 775 │   │   </span><span style=\"color: #0000ff; text-decoration-color: #0000ff\">with</span> <span style=\"color: #00ffff; text-decoration-color: #00ffff\">self</span>._lock:                                                                  <span style=\"color: #800000; text-decoration-color: #800000\">│</span>\n",
       "<span style=\"color: #800000; text-decoration-color: #800000\">│</span>   <span style=\"color: #7f7f7f; text-decoration-color: #7f7f7f\"> 776 │   │   │   </span>job_idx = <span style=\"color: #00ffff; text-decoration-color: #00ffff\">len</span>(<span style=\"color: #00ffff; text-decoration-color: #00ffff\">self</span>._jobs)                                                     <span style=\"color: #800000; text-decoration-color: #800000\">│</span>\n",
       "<span style=\"color: #800000; text-decoration-color: #800000\">│</span> <span style=\"color: #800000; text-decoration-color: #800000\">❱ </span> 777 <span style=\"color: #7f7f7f; text-decoration-color: #7f7f7f\">│   │   │   </span>job = <span style=\"color: #00ffff; text-decoration-color: #00ffff\">self</span>._backend.apply_async(batch, callback=cb)                           <span style=\"color: #800000; text-decoration-color: #800000\">│</span>\n",
       "<span style=\"color: #800000; text-decoration-color: #800000\">│</span>   <span style=\"color: #7f7f7f; text-decoration-color: #7f7f7f\"> 778 │   │   │   # A job can complete so quickly than its callback is</span>                          <span style=\"color: #800000; text-decoration-color: #800000\">│</span>\n",
       "<span style=\"color: #800000; text-decoration-color: #800000\">│</span>   <span style=\"color: #7f7f7f; text-decoration-color: #7f7f7f\"> 779 │   │   │   # called before we get here, causing self._jobs to</span>                            <span style=\"color: #800000; text-decoration-color: #800000\">│</span>\n",
       "<span style=\"color: #800000; text-decoration-color: #800000\">│</span>   <span style=\"color: #7f7f7f; text-decoration-color: #7f7f7f\"> 780 │   │   │   # grow. To ensure correct results ordering, .insert is</span>                        <span style=\"color: #800000; text-decoration-color: #800000\">│</span>\n",
       "<span style=\"color: #800000; text-decoration-color: #800000\">│</span>                                                                                                  <span style=\"color: #800000; text-decoration-color: #800000\">│</span>\n",
       "<span style=\"color: #800000; text-decoration-color: #800000\">│</span> <span style=\"color: #bfbf7f; text-decoration-color: #bfbf7f\">/home/lcmj/anaconda3/envs/daa/lib/python3.6/site-packages/joblib/</span><span style=\"color: #808000; text-decoration-color: #808000; font-weight: bold\">_parallel_backends.py</span>:<span style=\"color: #0000ff; text-decoration-color: #0000ff\">208</span> in    <span style=\"color: #800000; text-decoration-color: #800000\">│</span>\n",
       "<span style=\"color: #800000; text-decoration-color: #800000\">│</span> <span style=\"color: #00ff00; text-decoration-color: #00ff00\">apply_async</span>                                                                                      <span style=\"color: #800000; text-decoration-color: #800000\">│</span>\n",
       "<span style=\"color: #800000; text-decoration-color: #800000\">│</span>                                                                                                  <span style=\"color: #800000; text-decoration-color: #800000\">│</span>\n",
       "<span style=\"color: #800000; text-decoration-color: #800000\">│</span>   <span style=\"color: #7f7f7f; text-decoration-color: #7f7f7f\">205 │   </span>                                                                                       <span style=\"color: #800000; text-decoration-color: #800000\">│</span>\n",
       "<span style=\"color: #800000; text-decoration-color: #800000\">│</span>   <span style=\"color: #7f7f7f; text-decoration-color: #7f7f7f\">206 │   </span><span style=\"color: #0000ff; text-decoration-color: #0000ff\">def</span> <span style=\"color: #00ff00; text-decoration-color: #00ff00\">apply_async</span>(<span style=\"color: #00ffff; text-decoration-color: #00ffff\">self</span>, func, callback=<span style=\"color: #0000ff; text-decoration-color: #0000ff\">None</span>):                                            <span style=\"color: #800000; text-decoration-color: #800000\">│</span>\n",
       "<span style=\"color: #800000; text-decoration-color: #800000\">│</span>   <span style=\"color: #7f7f7f; text-decoration-color: #7f7f7f\">207 │   │   </span><span style=\"color: #808000; text-decoration-color: #808000\">\"\"\"Schedule a func to be run\"\"\"</span>                                                    <span style=\"color: #800000; text-decoration-color: #800000\">│</span>\n",
       "<span style=\"color: #800000; text-decoration-color: #800000\">│</span> <span style=\"color: #800000; text-decoration-color: #800000\">❱ </span>208 <span style=\"color: #7f7f7f; text-decoration-color: #7f7f7f\">│   │   </span>result = ImmediateResult(func)                                                     <span style=\"color: #800000; text-decoration-color: #800000\">│</span>\n",
       "<span style=\"color: #800000; text-decoration-color: #800000\">│</span>   <span style=\"color: #7f7f7f; text-decoration-color: #7f7f7f\">209 │   │   </span><span style=\"color: #0000ff; text-decoration-color: #0000ff\">if</span> callback:                                                                       <span style=\"color: #800000; text-decoration-color: #800000\">│</span>\n",
       "<span style=\"color: #800000; text-decoration-color: #800000\">│</span>   <span style=\"color: #7f7f7f; text-decoration-color: #7f7f7f\">210 │   │   │   </span>callback(result)                                                               <span style=\"color: #800000; text-decoration-color: #800000\">│</span>\n",
       "<span style=\"color: #800000; text-decoration-color: #800000\">│</span>   <span style=\"color: #7f7f7f; text-decoration-color: #7f7f7f\">211 │   │   </span><span style=\"color: #0000ff; text-decoration-color: #0000ff\">return</span> result                                                                      <span style=\"color: #800000; text-decoration-color: #800000\">│</span>\n",
       "<span style=\"color: #800000; text-decoration-color: #800000\">│</span>                                                                                                  <span style=\"color: #800000; text-decoration-color: #800000\">│</span>\n",
       "<span style=\"color: #800000; text-decoration-color: #800000\">│</span> <span style=\"color: #bfbf7f; text-decoration-color: #bfbf7f\">/home/lcmj/anaconda3/envs/daa/lib/python3.6/site-packages/joblib/</span><span style=\"color: #808000; text-decoration-color: #808000; font-weight: bold\">_parallel_backends.py</span>:<span style=\"color: #0000ff; text-decoration-color: #0000ff\">572</span> in    <span style=\"color: #800000; text-decoration-color: #800000\">│</span>\n",
       "<span style=\"color: #800000; text-decoration-color: #800000\">│</span> <span style=\"color: #00ff00; text-decoration-color: #00ff00\">__init__</span>                                                                                         <span style=\"color: #800000; text-decoration-color: #800000\">│</span>\n",
       "<span style=\"color: #800000; text-decoration-color: #800000\">│</span>                                                                                                  <span style=\"color: #800000; text-decoration-color: #800000\">│</span>\n",
       "<span style=\"color: #800000; text-decoration-color: #800000\">│</span>   <span style=\"color: #7f7f7f; text-decoration-color: #7f7f7f\">569 │   </span><span style=\"color: #0000ff; text-decoration-color: #0000ff\">def</span> <span style=\"color: #00ff00; text-decoration-color: #00ff00\">__init__</span>(<span style=\"color: #00ffff; text-decoration-color: #00ffff\">self</span>, batch):                                                             <span style=\"color: #800000; text-decoration-color: #800000\">│</span>\n",
       "<span style=\"color: #800000; text-decoration-color: #800000\">│</span>   <span style=\"color: #7f7f7f; text-decoration-color: #7f7f7f\">570 │   │   # Don't delay the application, to avoid keeping the input</span>                          <span style=\"color: #800000; text-decoration-color: #800000\">│</span>\n",
       "<span style=\"color: #800000; text-decoration-color: #800000\">│</span>   <span style=\"color: #7f7f7f; text-decoration-color: #7f7f7f\">571 │   │   # arguments in memory</span>                                                              <span style=\"color: #800000; text-decoration-color: #800000\">│</span>\n",
       "<span style=\"color: #800000; text-decoration-color: #800000\">│</span> <span style=\"color: #800000; text-decoration-color: #800000\">❱ </span>572 <span style=\"color: #7f7f7f; text-decoration-color: #7f7f7f\">│   │   </span><span style=\"color: #00ffff; text-decoration-color: #00ffff\">self</span>.results = batch()                                                             <span style=\"color: #800000; text-decoration-color: #800000\">│</span>\n",
       "<span style=\"color: #800000; text-decoration-color: #800000\">│</span>   <span style=\"color: #7f7f7f; text-decoration-color: #7f7f7f\">573 │   </span>                                                                                       <span style=\"color: #800000; text-decoration-color: #800000\">│</span>\n",
       "<span style=\"color: #800000; text-decoration-color: #800000\">│</span>   <span style=\"color: #7f7f7f; text-decoration-color: #7f7f7f\">574 │   </span><span style=\"color: #0000ff; text-decoration-color: #0000ff\">def</span> <span style=\"color: #00ff00; text-decoration-color: #00ff00\">get</span>(<span style=\"color: #00ffff; text-decoration-color: #00ffff\">self</span>):                                                                         <span style=\"color: #800000; text-decoration-color: #800000\">│</span>\n",
       "<span style=\"color: #800000; text-decoration-color: #800000\">│</span>   <span style=\"color: #7f7f7f; text-decoration-color: #7f7f7f\">575 │   │   </span><span style=\"color: #0000ff; text-decoration-color: #0000ff\">return</span> <span style=\"color: #00ffff; text-decoration-color: #00ffff\">self</span>.results                                                                <span style=\"color: #800000; text-decoration-color: #800000\">│</span>\n",
       "<span style=\"color: #800000; text-decoration-color: #800000\">│</span>                                                                                                  <span style=\"color: #800000; text-decoration-color: #800000\">│</span>\n",
       "<span style=\"color: #800000; text-decoration-color: #800000\">│</span> <span style=\"color: #bfbf7f; text-decoration-color: #bfbf7f\">/home/lcmj/anaconda3/envs/daa/lib/python3.6/site-packages/joblib/</span><span style=\"color: #808000; text-decoration-color: #808000; font-weight: bold\">parallel.py</span>:<span style=\"color: #0000ff; text-decoration-color: #0000ff\">263</span> in <span style=\"color: #00ff00; text-decoration-color: #00ff00\">__call__</span>     <span style=\"color: #800000; text-decoration-color: #800000\">│</span>\n",
       "<span style=\"color: #800000; text-decoration-color: #800000\">│</span>                                                                                                  <span style=\"color: #800000; text-decoration-color: #800000\">│</span>\n",
       "<span style=\"color: #800000; text-decoration-color: #800000\">│</span>   <span style=\"color: #7f7f7f; text-decoration-color: #7f7f7f\"> 260 │   │   # change the default number of processes to -1</span>                                    <span style=\"color: #800000; text-decoration-color: #800000\">│</span>\n",
       "<span style=\"color: #800000; text-decoration-color: #800000\">│</span>   <span style=\"color: #7f7f7f; text-decoration-color: #7f7f7f\"> 261 │   │   </span><span style=\"color: #0000ff; text-decoration-color: #0000ff\">with</span> parallel_backend(<span style=\"color: #00ffff; text-decoration-color: #00ffff\">self</span>._backend, n_jobs=<span style=\"color: #00ffff; text-decoration-color: #00ffff\">self</span>._n_jobs):                        <span style=\"color: #800000; text-decoration-color: #800000\">│</span>\n",
       "<span style=\"color: #800000; text-decoration-color: #800000\">│</span>   <span style=\"color: #7f7f7f; text-decoration-color: #7f7f7f\"> 262 │   │   │   </span><span style=\"color: #0000ff; text-decoration-color: #0000ff\">return</span> [func(*args, **kwargs)                                                 <span style=\"color: #800000; text-decoration-color: #800000\">│</span>\n",
       "<span style=\"color: #800000; text-decoration-color: #800000\">│</span> <span style=\"color: #800000; text-decoration-color: #800000\">❱ </span> 263 <span style=\"color: #7f7f7f; text-decoration-color: #7f7f7f\">│   │   │   │   │   </span><span style=\"color: #0000ff; text-decoration-color: #0000ff\">for</span> func, args, kwargs <span style=\"color: #ff00ff; text-decoration-color: #ff00ff\">in</span> <span style=\"color: #00ffff; text-decoration-color: #00ffff\">self</span>.items]                                 <span style=\"color: #800000; text-decoration-color: #800000\">│</span>\n",
       "<span style=\"color: #800000; text-decoration-color: #800000\">│</span>   <span style=\"color: #7f7f7f; text-decoration-color: #7f7f7f\"> 264 │   </span>                                                                                      <span style=\"color: #800000; text-decoration-color: #800000\">│</span>\n",
       "<span style=\"color: #800000; text-decoration-color: #800000\">│</span>   <span style=\"color: #7f7f7f; text-decoration-color: #7f7f7f\"> 265 │   </span><span style=\"color: #0000ff; text-decoration-color: #0000ff\">def</span> <span style=\"color: #00ff00; text-decoration-color: #00ff00\">__reduce__</span>(<span style=\"color: #00ffff; text-decoration-color: #00ffff\">self</span>):                                                                 <span style=\"color: #800000; text-decoration-color: #800000\">│</span>\n",
       "<span style=\"color: #800000; text-decoration-color: #800000\">│</span>   <span style=\"color: #7f7f7f; text-decoration-color: #7f7f7f\"> 266 │   │   </span><span style=\"color: #0000ff; text-decoration-color: #0000ff\">if</span> <span style=\"color: #00ffff; text-decoration-color: #00ffff\">self</span>._reducer_callback <span style=\"color: #ff00ff; text-decoration-color: #ff00ff\">is</span> <span style=\"color: #ff00ff; text-decoration-color: #ff00ff\">not</span> <span style=\"color: #0000ff; text-decoration-color: #0000ff\">None</span>:                                            <span style=\"color: #800000; text-decoration-color: #800000\">│</span>\n",
       "<span style=\"color: #800000; text-decoration-color: #800000\">│</span>                                                                                                  <span style=\"color: #800000; text-decoration-color: #800000\">│</span>\n",
       "<span style=\"color: #800000; text-decoration-color: #800000\">│</span> <span style=\"color: #bfbf7f; text-decoration-color: #bfbf7f\">/home/lcmj/anaconda3/envs/daa/lib/python3.6/site-packages/joblib/</span><span style=\"color: #808000; text-decoration-color: #808000; font-weight: bold\">parallel.py</span>:<span style=\"color: #0000ff; text-decoration-color: #0000ff\">263</span> in <span style=\"color: #00ff00; text-decoration-color: #00ff00\">&lt;listcomp&gt;</span>   <span style=\"color: #800000; text-decoration-color: #800000\">│</span>\n",
       "<span style=\"color: #800000; text-decoration-color: #800000\">│</span>                                                                                                  <span style=\"color: #800000; text-decoration-color: #800000\">│</span>\n",
       "<span style=\"color: #800000; text-decoration-color: #800000\">│</span>   <span style=\"color: #7f7f7f; text-decoration-color: #7f7f7f\"> 260 │   │   # change the default number of processes to -1</span>                                    <span style=\"color: #800000; text-decoration-color: #800000\">│</span>\n",
       "<span style=\"color: #800000; text-decoration-color: #800000\">│</span>   <span style=\"color: #7f7f7f; text-decoration-color: #7f7f7f\"> 261 │   │   </span><span style=\"color: #0000ff; text-decoration-color: #0000ff\">with</span> parallel_backend(<span style=\"color: #00ffff; text-decoration-color: #00ffff\">self</span>._backend, n_jobs=<span style=\"color: #00ffff; text-decoration-color: #00ffff\">self</span>._n_jobs):                        <span style=\"color: #800000; text-decoration-color: #800000\">│</span>\n",
       "<span style=\"color: #800000; text-decoration-color: #800000\">│</span>   <span style=\"color: #7f7f7f; text-decoration-color: #7f7f7f\"> 262 │   │   │   </span><span style=\"color: #0000ff; text-decoration-color: #0000ff\">return</span> [func(*args, **kwargs)                                                 <span style=\"color: #800000; text-decoration-color: #800000\">│</span>\n",
       "<span style=\"color: #800000; text-decoration-color: #800000\">│</span> <span style=\"color: #800000; text-decoration-color: #800000\">❱ </span> 263 <span style=\"color: #7f7f7f; text-decoration-color: #7f7f7f\">│   │   │   │   │   </span><span style=\"color: #0000ff; text-decoration-color: #0000ff\">for</span> func, args, kwargs <span style=\"color: #ff00ff; text-decoration-color: #ff00ff\">in</span> <span style=\"color: #00ffff; text-decoration-color: #00ffff\">self</span>.items]                                 <span style=\"color: #800000; text-decoration-color: #800000\">│</span>\n",
       "<span style=\"color: #800000; text-decoration-color: #800000\">│</span>   <span style=\"color: #7f7f7f; text-decoration-color: #7f7f7f\"> 264 │   </span>                                                                                      <span style=\"color: #800000; text-decoration-color: #800000\">│</span>\n",
       "<span style=\"color: #800000; text-decoration-color: #800000\">│</span>   <span style=\"color: #7f7f7f; text-decoration-color: #7f7f7f\"> 265 │   </span><span style=\"color: #0000ff; text-decoration-color: #0000ff\">def</span> <span style=\"color: #00ff00; text-decoration-color: #00ff00\">__reduce__</span>(<span style=\"color: #00ffff; text-decoration-color: #00ffff\">self</span>):                                                                 <span style=\"color: #800000; text-decoration-color: #800000\">│</span>\n",
       "<span style=\"color: #800000; text-decoration-color: #800000\">│</span>   <span style=\"color: #7f7f7f; text-decoration-color: #7f7f7f\"> 266 │   │   </span><span style=\"color: #0000ff; text-decoration-color: #0000ff\">if</span> <span style=\"color: #00ffff; text-decoration-color: #00ffff\">self</span>._reducer_callback <span style=\"color: #ff00ff; text-decoration-color: #ff00ff\">is</span> <span style=\"color: #ff00ff; text-decoration-color: #ff00ff\">not</span> <span style=\"color: #0000ff; text-decoration-color: #0000ff\">None</span>:                                            <span style=\"color: #800000; text-decoration-color: #800000\">│</span>\n",
       "<span style=\"color: #800000; text-decoration-color: #800000\">│</span>                                                                                                  <span style=\"color: #800000; text-decoration-color: #800000\">│</span>\n",
       "<span style=\"color: #800000; text-decoration-color: #800000\">│</span> <span style=\"color: #bfbf7f; text-decoration-color: #bfbf7f\">/home/lcmj/anaconda3/envs/daa/lib/python3.6/site-packages/sklearn/utils/</span><span style=\"color: #808000; text-decoration-color: #808000; font-weight: bold\">fixes.py</span>:<span style=\"color: #0000ff; text-decoration-color: #0000ff\">222</span> in <span style=\"color: #00ff00; text-decoration-color: #00ff00\">__call__</span> <span style=\"color: #800000; text-decoration-color: #800000\">│</span>\n",
       "<span style=\"color: #800000; text-decoration-color: #800000\">│</span>                                                                                                  <span style=\"color: #800000; text-decoration-color: #800000\">│</span>\n",
       "<span style=\"color: #800000; text-decoration-color: #800000\">│</span>   <span style=\"color: #7f7f7f; text-decoration-color: #7f7f7f\">219 │   </span>                                                                                       <span style=\"color: #800000; text-decoration-color: #800000\">│</span>\n",
       "<span style=\"color: #800000; text-decoration-color: #800000\">│</span>   <span style=\"color: #7f7f7f; text-decoration-color: #7f7f7f\">220 │   </span><span style=\"color: #0000ff; text-decoration-color: #0000ff\">def</span> <span style=\"color: #00ff00; text-decoration-color: #00ff00\">__call__</span>(<span style=\"color: #00ffff; text-decoration-color: #00ffff\">self</span>, *args, **kwargs):                                                   <span style=\"color: #800000; text-decoration-color: #800000\">│</span>\n",
       "<span style=\"color: #800000; text-decoration-color: #800000\">│</span>   <span style=\"color: #7f7f7f; text-decoration-color: #7f7f7f\">221 │   │   </span><span style=\"color: #0000ff; text-decoration-color: #0000ff\">with</span> config_context(**<span style=\"color: #00ffff; text-decoration-color: #00ffff\">self</span>.config):                                                <span style=\"color: #800000; text-decoration-color: #800000\">│</span>\n",
       "<span style=\"color: #800000; text-decoration-color: #800000\">│</span> <span style=\"color: #800000; text-decoration-color: #800000\">❱ </span>222 <span style=\"color: #7f7f7f; text-decoration-color: #7f7f7f\">│   │   │   </span><span style=\"color: #0000ff; text-decoration-color: #0000ff\">return</span> <span style=\"color: #00ffff; text-decoration-color: #00ffff\">self</span>.function(*args, **kwargs)                                          <span style=\"color: #800000; text-decoration-color: #800000\">│</span>\n",
       "<span style=\"color: #800000; text-decoration-color: #800000\">│</span>   <span style=\"color: #7f7f7f; text-decoration-color: #7f7f7f\">223 </span>                                                                                           <span style=\"color: #800000; text-decoration-color: #800000\">│</span>\n",
       "<span style=\"color: #800000; text-decoration-color: #800000\">│</span>                                                                                                  <span style=\"color: #800000; text-decoration-color: #800000\">│</span>\n",
       "<span style=\"color: #800000; text-decoration-color: #800000\">│</span> <span style=\"color: #bfbf7f; text-decoration-color: #bfbf7f\">/home/lcmj/anaconda3/envs/daa/lib/python3.6/site-packages/sklearn/model_selection/</span><span style=\"color: #808000; text-decoration-color: #808000; font-weight: bold\">_validation.py</span> <span style=\"color: #800000; text-decoration-color: #800000\">│</span>\n",
       "<span style=\"color: #800000; text-decoration-color: #800000\">│</span> :<span style=\"color: #0000ff; text-decoration-color: #0000ff\">598</span> in <span style=\"color: #00ff00; text-decoration-color: #00ff00\">_fit_and_score</span>                                                                           <span style=\"color: #800000; text-decoration-color: #800000\">│</span>\n",
       "<span style=\"color: #800000; text-decoration-color: #800000\">│</span>                                                                                                  <span style=\"color: #800000; text-decoration-color: #800000\">│</span>\n",
       "<span style=\"color: #800000; text-decoration-color: #800000\">│</span>   <span style=\"color: #7f7f7f; text-decoration-color: #7f7f7f\"> 595 │   │   </span><span style=\"color: #0000ff; text-decoration-color: #0000ff\">if</span> y_train <span style=\"color: #ff00ff; text-decoration-color: #ff00ff\">is</span> <span style=\"color: #0000ff; text-decoration-color: #0000ff\">None</span>:                                                               <span style=\"color: #800000; text-decoration-color: #800000\">│</span>\n",
       "<span style=\"color: #800000; text-decoration-color: #800000\">│</span>   <span style=\"color: #7f7f7f; text-decoration-color: #7f7f7f\"> 596 │   │   │   </span>estimator.fit(X_train, **fit_params)                                          <span style=\"color: #800000; text-decoration-color: #800000\">│</span>\n",
       "<span style=\"color: #800000; text-decoration-color: #800000\">│</span>   <span style=\"color: #7f7f7f; text-decoration-color: #7f7f7f\"> 597 │   │   </span><span style=\"color: #0000ff; text-decoration-color: #0000ff\">else</span>:                                                                             <span style=\"color: #800000; text-decoration-color: #800000\">│</span>\n",
       "<span style=\"color: #800000; text-decoration-color: #800000\">│</span> <span style=\"color: #800000; text-decoration-color: #800000\">❱ </span> 598 <span style=\"color: #7f7f7f; text-decoration-color: #7f7f7f\">│   │   │   </span>estimator.fit(X_train, y_train, **fit_params)                                 <span style=\"color: #800000; text-decoration-color: #800000\">│</span>\n",
       "<span style=\"color: #800000; text-decoration-color: #800000\">│</span>   <span style=\"color: #7f7f7f; text-decoration-color: #7f7f7f\"> 599 │   </span>                                                                                      <span style=\"color: #800000; text-decoration-color: #800000\">│</span>\n",
       "<span style=\"color: #800000; text-decoration-color: #800000\">│</span>   <span style=\"color: #7f7f7f; text-decoration-color: #7f7f7f\"> 600 │   </span><span style=\"color: #0000ff; text-decoration-color: #0000ff\">except</span> <span style=\"color: #00ffff; text-decoration-color: #00ffff\">Exception</span> <span style=\"color: #0000ff; text-decoration-color: #0000ff\">as</span> e:                                                                <span style=\"color: #800000; text-decoration-color: #800000\">│</span>\n",
       "<span style=\"color: #800000; text-decoration-color: #800000\">│</span>   <span style=\"color: #7f7f7f; text-decoration-color: #7f7f7f\"> 601 │   │   # Note fit time as time until error</span>                                               <span style=\"color: #800000; text-decoration-color: #800000\">│</span>\n",
       "<span style=\"color: #800000; text-decoration-color: #800000\">│</span>                                                                                                  <span style=\"color: #800000; text-decoration-color: #800000\">│</span>\n",
       "<span style=\"color: #800000; text-decoration-color: #800000\">│</span> <span style=\"color: #bfbf7f; text-decoration-color: #bfbf7f\">/home/lcmj/anaconda3/envs/daa/lib/python3.6/site-packages/sklearn/svm/</span><span style=\"color: #808000; text-decoration-color: #808000; font-weight: bold\">_base.py</span>:<span style=\"color: #0000ff; text-decoration-color: #0000ff\">226</span> in <span style=\"color: #00ff00; text-decoration-color: #00ff00\">fit</span>        <span style=\"color: #800000; text-decoration-color: #800000\">│</span>\n",
       "<span style=\"color: #800000; text-decoration-color: #800000\">│</span>                                                                                                  <span style=\"color: #800000; text-decoration-color: #800000\">│</span>\n",
       "<span style=\"color: #800000; text-decoration-color: #800000\">│</span>   <span style=\"color: #7f7f7f; text-decoration-color: #7f7f7f\">223 │   │   │   </span><span style=\"color: #00ffff; text-decoration-color: #00ffff\">print</span>(<span style=\"color: #808000; text-decoration-color: #808000\">'[LibSVM]'</span>, end=<span style=\"color: #808000; text-decoration-color: #808000\">''</span>)                                                      <span style=\"color: #800000; text-decoration-color: #800000\">│</span>\n",
       "<span style=\"color: #800000; text-decoration-color: #800000\">│</span>   <span style=\"color: #7f7f7f; text-decoration-color: #7f7f7f\">224 │   │   </span>                                                                                   <span style=\"color: #800000; text-decoration-color: #800000\">│</span>\n",
       "<span style=\"color: #800000; text-decoration-color: #800000\">│</span>   <span style=\"color: #7f7f7f; text-decoration-color: #7f7f7f\">225 │   │   </span>seed = rnd.randint(np.iinfo(<span style=\"color: #808000; text-decoration-color: #808000\">'i'</span>).max)                                              <span style=\"color: #800000; text-decoration-color: #800000\">│</span>\n",
       "<span style=\"color: #800000; text-decoration-color: #800000\">│</span> <span style=\"color: #800000; text-decoration-color: #800000\">❱ </span>226 <span style=\"color: #7f7f7f; text-decoration-color: #7f7f7f\">│   │   </span>fit(X, y, sample_weight, solver_type, kernel, random_seed=seed)                    <span style=\"color: #800000; text-decoration-color: #800000\">│</span>\n",
       "<span style=\"color: #800000; text-decoration-color: #800000\">│</span>   <span style=\"color: #7f7f7f; text-decoration-color: #7f7f7f\">227 │   │   # see comment on the other call to np.iinfo in this file</span>                           <span style=\"color: #800000; text-decoration-color: #800000\">│</span>\n",
       "<span style=\"color: #800000; text-decoration-color: #800000\">│</span>   <span style=\"color: #7f7f7f; text-decoration-color: #7f7f7f\">228 │   │   </span>                                                                                   <span style=\"color: #800000; text-decoration-color: #800000\">│</span>\n",
       "<span style=\"color: #800000; text-decoration-color: #800000\">│</span>   <span style=\"color: #7f7f7f; text-decoration-color: #7f7f7f\">229 │   │   </span><span style=\"color: #00ffff; text-decoration-color: #00ffff\">self</span>.shape_fit_ = X.shape <span style=\"color: #0000ff; text-decoration-color: #0000ff\">if</span> <span style=\"color: #00ffff; text-decoration-color: #00ffff\">hasattr</span>(X, <span style=\"color: #808000; text-decoration-color: #808000\">\"shape\"</span>) <span style=\"color: #0000ff; text-decoration-color: #0000ff\">else</span> (n_samples, )                <span style=\"color: #800000; text-decoration-color: #800000\">│</span>\n",
       "<span style=\"color: #800000; text-decoration-color: #800000\">│</span>                                                                                                  <span style=\"color: #800000; text-decoration-color: #800000\">│</span>\n",
       "<span style=\"color: #800000; text-decoration-color: #800000\">│</span> <span style=\"color: #bfbf7f; text-decoration-color: #bfbf7f\">/home/lcmj/anaconda3/envs/daa/lib/python3.6/site-packages/sklearn/svm/</span><span style=\"color: #808000; text-decoration-color: #808000; font-weight: bold\">_base.py</span>:<span style=\"color: #0000ff; text-decoration-color: #0000ff\">285</span> in <span style=\"color: #00ff00; text-decoration-color: #00ff00\">_dense_fit</span> <span style=\"color: #800000; text-decoration-color: #800000\">│</span>\n",
       "<span style=\"color: #800000; text-decoration-color: #800000\">│</span>                                                                                                  <span style=\"color: #800000; text-decoration-color: #800000\">│</span>\n",
       "<span style=\"color: #800000; text-decoration-color: #800000\">│</span>   <span style=\"color: #7f7f7f; text-decoration-color: #7f7f7f\">282 │   │   │   │   </span>shrinking=<span style=\"color: #00ffff; text-decoration-color: #00ffff\">self</span>.shrinking, tol=<span style=\"color: #00ffff; text-decoration-color: #00ffff\">self</span>.tol,                                    <span style=\"color: #800000; text-decoration-color: #800000\">│</span>\n",
       "<span style=\"color: #800000; text-decoration-color: #800000\">│</span>   <span style=\"color: #7f7f7f; text-decoration-color: #7f7f7f\">283 │   │   │   │   </span>cache_size=<span style=\"color: #00ffff; text-decoration-color: #00ffff\">self</span>.cache_size, coef0=<span style=\"color: #00ffff; text-decoration-color: #00ffff\">self</span>.coef0,                              <span style=\"color: #800000; text-decoration-color: #800000\">│</span>\n",
       "<span style=\"color: #800000; text-decoration-color: #800000\">│</span>   <span style=\"color: #7f7f7f; text-decoration-color: #7f7f7f\">284 │   │   │   │   </span>gamma=<span style=\"color: #00ffff; text-decoration-color: #00ffff\">self</span>._gamma, epsilon=<span style=\"color: #00ffff; text-decoration-color: #00ffff\">self</span>.epsilon,                                   <span style=\"color: #800000; text-decoration-color: #800000\">│</span>\n",
       "<span style=\"color: #800000; text-decoration-color: #800000\">│</span> <span style=\"color: #800000; text-decoration-color: #800000\">❱ </span>285 <span style=\"color: #7f7f7f; text-decoration-color: #7f7f7f\">│   │   │   │   </span>max_iter=<span style=\"color: #00ffff; text-decoration-color: #00ffff\">self</span>.max_iter, random_seed=random_seed)                           <span style=\"color: #800000; text-decoration-color: #800000\">│</span>\n",
       "<span style=\"color: #800000; text-decoration-color: #800000\">│</span>   <span style=\"color: #7f7f7f; text-decoration-color: #7f7f7f\">286 │   │   </span>                                                                                   <span style=\"color: #800000; text-decoration-color: #800000\">│</span>\n",
       "<span style=\"color: #800000; text-decoration-color: #800000\">│</span>   <span style=\"color: #7f7f7f; text-decoration-color: #7f7f7f\">287 │   │   </span><span style=\"color: #00ffff; text-decoration-color: #00ffff\">self</span>._warn_from_fit_status()                                                       <span style=\"color: #800000; text-decoration-color: #800000\">│</span>\n",
       "<span style=\"color: #800000; text-decoration-color: #800000\">│</span>   <span style=\"color: #7f7f7f; text-decoration-color: #7f7f7f\">288 </span>                                                                                           <span style=\"color: #800000; text-decoration-color: #800000\">│</span>\n",
       "<span style=\"color: #800000; text-decoration-color: #800000\">╰──────────────────────────────────────────────────────────────────────────────────────────────────╯</span>\n",
       "<span style=\"color: #ff0000; text-decoration-color: #ff0000; font-weight: bold\">KeyboardInterrupt</span>\n",
       "</pre>\n"
      ],
      "text/plain": [
       "\u001b[31m╭─\u001b[0m\u001b[31m──────────────────────────────\u001b[0m\u001b[31m \u001b[0m\u001b[1;31mTraceback \u001b[0m\u001b[1;2;31m(most recent call last)\u001b[0m\u001b[31m \u001b[0m\u001b[31m───────────────────────────────\u001b[0m\u001b[31m─╮\u001b[0m\n",
       "\u001b[31m│\u001b[0m \u001b[33m<ipython-input-147-7c8e58ebbcdc>\u001b[0m:\u001b[94m3\u001b[0m in \u001b[92m<module>\u001b[0m                                                   \u001b[31m│\u001b[0m\n",
       "\u001b[31m│\u001b[0m                                                                                                  \u001b[31m│\u001b[0m\n",
       "\u001b[31m│\u001b[0m \u001b[2;33m/home/lcmj/anaconda3/envs/daa/lib/python3.6/site-packages/sklearn/utils/\u001b[0m\u001b[1;33mvalidation.py\u001b[0m:\u001b[94m63\u001b[0m in      \u001b[31m│\u001b[0m\n",
       "\u001b[31m│\u001b[0m \u001b[92minner_f\u001b[0m                                                                                          \u001b[31m│\u001b[0m\n",
       "\u001b[31m│\u001b[0m                                                                                                  \u001b[31m│\u001b[0m\n",
       "\u001b[31m│\u001b[0m   \u001b[2m  60 \u001b[0m\u001b[2m│   │   \u001b[0m\u001b[94mdef\u001b[0m \u001b[92minner_f\u001b[0m(*args, **kwargs):                                                     \u001b[31m│\u001b[0m\n",
       "\u001b[31m│\u001b[0m   \u001b[2m  61 \u001b[0m\u001b[2m│   │   │   \u001b[0mextra_args = \u001b[96mlen\u001b[0m(args) - \u001b[96mlen\u001b[0m(all_args)                                        \u001b[31m│\u001b[0m\n",
       "\u001b[31m│\u001b[0m   \u001b[2m  62 \u001b[0m\u001b[2m│   │   │   \u001b[0m\u001b[94mif\u001b[0m extra_args <= \u001b[94m0\u001b[0m:                                                           \u001b[31m│\u001b[0m\n",
       "\u001b[31m│\u001b[0m \u001b[31m❱ \u001b[0m  63 \u001b[2m│   │   │   │   \u001b[0m\u001b[94mreturn\u001b[0m f(*args, **kwargs)                                                 \u001b[31m│\u001b[0m\n",
       "\u001b[31m│\u001b[0m   \u001b[2m  64 \u001b[0m\u001b[2m│   │   │   \u001b[0m                                                                              \u001b[31m│\u001b[0m\n",
       "\u001b[31m│\u001b[0m   \u001b[2m  65 \u001b[0m\u001b[2m│   │   │   \u001b[0m\u001b[2m# extra_args > 0\u001b[0m                                                              \u001b[31m│\u001b[0m\n",
       "\u001b[31m│\u001b[0m   \u001b[2m  66 \u001b[0m\u001b[2m│   │   │   \u001b[0margs_msg = [\u001b[33m'\u001b[0m\u001b[33m{}\u001b[0m\u001b[33m=\u001b[0m\u001b[33m{}\u001b[0m\u001b[33m'\u001b[0m.format(name, arg)                                         \u001b[31m│\u001b[0m\n",
       "\u001b[31m│\u001b[0m                                                                                                  \u001b[31m│\u001b[0m\n",
       "\u001b[31m│\u001b[0m \u001b[2;33m/home/lcmj/anaconda3/envs/daa/lib/python3.6/site-packages/sklearn/model_selection/\u001b[0m\u001b[1;33m_search.py\u001b[0m:\u001b[94m841\u001b[0m \u001b[31m│\u001b[0m\n",
       "\u001b[31m│\u001b[0m in \u001b[92mfit\u001b[0m                                                                                           \u001b[31m│\u001b[0m\n",
       "\u001b[31m│\u001b[0m                                                                                                  \u001b[31m│\u001b[0m\n",
       "\u001b[31m│\u001b[0m   \u001b[2m 838 \u001b[0m\u001b[2m│   │   │   │   \u001b[0m                                                                          \u001b[31m│\u001b[0m\n",
       "\u001b[31m│\u001b[0m   \u001b[2m 839 \u001b[0m\u001b[2m│   │   │   │   \u001b[0m\u001b[94mreturn\u001b[0m results                                                            \u001b[31m│\u001b[0m\n",
       "\u001b[31m│\u001b[0m   \u001b[2m 840 \u001b[0m\u001b[2m│   │   │   \u001b[0m                                                                              \u001b[31m│\u001b[0m\n",
       "\u001b[31m│\u001b[0m \u001b[31m❱ \u001b[0m 841 \u001b[2m│   │   │   \u001b[0m\u001b[96mself\u001b[0m._run_search(evaluate_candidates)                                         \u001b[31m│\u001b[0m\n",
       "\u001b[31m│\u001b[0m   \u001b[2m 842 \u001b[0m\u001b[2m│   │   │   \u001b[0m                                                                              \u001b[31m│\u001b[0m\n",
       "\u001b[31m│\u001b[0m   \u001b[2m 843 \u001b[0m\u001b[2m│   │   │   \u001b[0m\u001b[2m# multimetric is determined here because in the case of a callable\u001b[0m            \u001b[31m│\u001b[0m\n",
       "\u001b[31m│\u001b[0m   \u001b[2m 844 \u001b[0m\u001b[2m│   │   │   \u001b[0m\u001b[2m# self.scoring the return type is only known after calling\u001b[0m                    \u001b[31m│\u001b[0m\n",
       "\u001b[31m│\u001b[0m                                                                                                  \u001b[31m│\u001b[0m\n",
       "\u001b[31m│\u001b[0m \u001b[2;33m/home/lcmj/anaconda3/envs/daa/lib/python3.6/site-packages/sklearn/model_selection/\u001b[0m\u001b[1;33m_search.py\u001b[0m:\u001b[94m129\u001b[0m \u001b[31m│\u001b[0m\n",
       "\u001b[31m│\u001b[0m \u001b[94m6\u001b[0m in \u001b[92m_run_search\u001b[0m                                                                                 \u001b[31m│\u001b[0m\n",
       "\u001b[31m│\u001b[0m                                                                                                  \u001b[31m│\u001b[0m\n",
       "\u001b[31m│\u001b[0m   \u001b[2m1293 \u001b[0m\u001b[2m│   \u001b[0m                                                                                      \u001b[31m│\u001b[0m\n",
       "\u001b[31m│\u001b[0m   \u001b[2m1294 \u001b[0m\u001b[2m│   \u001b[0m\u001b[94mdef\u001b[0m \u001b[92m_run_search\u001b[0m(\u001b[96mself\u001b[0m, evaluate_candidates):                                           \u001b[31m│\u001b[0m\n",
       "\u001b[31m│\u001b[0m   \u001b[2m1295 \u001b[0m\u001b[2m│   │   \u001b[0m\u001b[33m\"\"\"Search all candidates in param_grid\"\"\"\u001b[0m                                         \u001b[31m│\u001b[0m\n",
       "\u001b[31m│\u001b[0m \u001b[31m❱ \u001b[0m1296 \u001b[2m│   │   \u001b[0mevaluate_candidates(ParameterGrid(\u001b[96mself\u001b[0m.param_grid))                               \u001b[31m│\u001b[0m\n",
       "\u001b[31m│\u001b[0m   \u001b[2m1297 \u001b[0m                                                                                          \u001b[31m│\u001b[0m\n",
       "\u001b[31m│\u001b[0m   \u001b[2m1298 \u001b[0m                                                                                          \u001b[31m│\u001b[0m\n",
       "\u001b[31m│\u001b[0m   \u001b[2m1299 \u001b[0m\u001b[94mclass\u001b[0m \u001b[4;92mRandomizedSearchCV\u001b[0m(BaseSearchCV):                                                   \u001b[31m│\u001b[0m\n",
       "\u001b[31m│\u001b[0m                                                                                                  \u001b[31m│\u001b[0m\n",
       "\u001b[31m│\u001b[0m \u001b[2;33m/home/lcmj/anaconda3/envs/daa/lib/python3.6/site-packages/sklearn/model_selection/\u001b[0m\u001b[1;33m_search.py\u001b[0m:\u001b[94m809\u001b[0m \u001b[31m│\u001b[0m\n",
       "\u001b[31m│\u001b[0m in \u001b[92mevaluate_candidates\u001b[0m                                                                           \u001b[31m│\u001b[0m\n",
       "\u001b[31m│\u001b[0m                                                                                                  \u001b[31m│\u001b[0m\n",
       "\u001b[31m│\u001b[0m   \u001b[2m 806 \u001b[0m\u001b[2m│   │   │   │   │   │   │      \u001b[0m\u001b[94mfor\u001b[0m (cand_idx, parameters),                                \u001b[31m│\u001b[0m\n",
       "\u001b[31m│\u001b[0m   \u001b[2m 807 \u001b[0m\u001b[2m│   │   │   │   │   │   │   │      \u001b[0m(split_idx, (train, test)) \u001b[95min\u001b[0m product(                 \u001b[31m│\u001b[0m\n",
       "\u001b[31m│\u001b[0m   \u001b[2m 808 \u001b[0m\u001b[2m│   │   │   │   │   │   │   │      \u001b[0m\u001b[96menumerate\u001b[0m(candidate_params),                           \u001b[31m│\u001b[0m\n",
       "\u001b[31m│\u001b[0m \u001b[31m❱ \u001b[0m 809 \u001b[2m│   │   │   │   │   │   │   │      \u001b[0m\u001b[96menumerate\u001b[0m(cv.split(X, y, groups))))                    \u001b[31m│\u001b[0m\n",
       "\u001b[31m│\u001b[0m   \u001b[2m 810 \u001b[0m\u001b[2m│   │   │   │   \u001b[0m                                                                          \u001b[31m│\u001b[0m\n",
       "\u001b[31m│\u001b[0m   \u001b[2m 811 \u001b[0m\u001b[2m│   │   │   │   \u001b[0m\u001b[94mif\u001b[0m \u001b[96mlen\u001b[0m(out) < \u001b[94m1\u001b[0m:                                                          \u001b[31m│\u001b[0m\n",
       "\u001b[31m│\u001b[0m   \u001b[2m 812 \u001b[0m\u001b[2m│   │   │   │   │   \u001b[0m\u001b[94mraise\u001b[0m \u001b[96mValueError\u001b[0m(\u001b[33m'\u001b[0m\u001b[33mNo fits were performed. \u001b[0m\u001b[33m'\u001b[0m                           \u001b[31m│\u001b[0m\n",
       "\u001b[31m│\u001b[0m                                                                                                  \u001b[31m│\u001b[0m\n",
       "\u001b[31m│\u001b[0m \u001b[2;33m/home/lcmj/anaconda3/envs/daa/lib/python3.6/site-packages/joblib/\u001b[0m\u001b[1;33mparallel.py\u001b[0m:\u001b[94m1044\u001b[0m in \u001b[92m__call__\u001b[0m    \u001b[31m│\u001b[0m\n",
       "\u001b[31m│\u001b[0m                                                                                                  \u001b[31m│\u001b[0m\n",
       "\u001b[31m│\u001b[0m   \u001b[2m1041 \u001b[0m\u001b[2m│   │   │   \u001b[0m\u001b[94mif\u001b[0m \u001b[96mself\u001b[0m.dispatch_one_batch(iterator):                                         \u001b[31m│\u001b[0m\n",
       "\u001b[31m│\u001b[0m   \u001b[2m1042 \u001b[0m\u001b[2m│   │   │   │   \u001b[0m\u001b[96mself\u001b[0m._iterating = \u001b[96mself\u001b[0m._original_iterator \u001b[95mis\u001b[0m \u001b[95mnot\u001b[0m \u001b[94mNone\u001b[0m                     \u001b[31m│\u001b[0m\n",
       "\u001b[31m│\u001b[0m   \u001b[2m1043 \u001b[0m\u001b[2m│   │   │   \u001b[0m                                                                              \u001b[31m│\u001b[0m\n",
       "\u001b[31m│\u001b[0m \u001b[31m❱ \u001b[0m1044 \u001b[2m│   │   │   \u001b[0m\u001b[94mwhile\u001b[0m \u001b[96mself\u001b[0m.dispatch_one_batch(iterator):                                      \u001b[31m│\u001b[0m\n",
       "\u001b[31m│\u001b[0m   \u001b[2m1045 \u001b[0m\u001b[2m│   │   │   │   \u001b[0m\u001b[94mpass\u001b[0m                                                                      \u001b[31m│\u001b[0m\n",
       "\u001b[31m│\u001b[0m   \u001b[2m1046 \u001b[0m\u001b[2m│   │   │   \u001b[0m                                                                              \u001b[31m│\u001b[0m\n",
       "\u001b[31m│\u001b[0m   \u001b[2m1047 \u001b[0m\u001b[2m│   │   │   \u001b[0m\u001b[94mif\u001b[0m pre_dispatch == \u001b[33m\"\u001b[0m\u001b[33mall\u001b[0m\u001b[33m\"\u001b[0m \u001b[95mor\u001b[0m n_jobs == \u001b[94m1\u001b[0m:                                      \u001b[31m│\u001b[0m\n",
       "\u001b[31m│\u001b[0m                                                                                                  \u001b[31m│\u001b[0m\n",
       "\u001b[31m│\u001b[0m \u001b[2;33m/home/lcmj/anaconda3/envs/daa/lib/python3.6/site-packages/joblib/\u001b[0m\u001b[1;33mparallel.py\u001b[0m:\u001b[94m859\u001b[0m in              \u001b[31m│\u001b[0m\n",
       "\u001b[31m│\u001b[0m \u001b[92mdispatch_one_batch\u001b[0m                                                                               \u001b[31m│\u001b[0m\n",
       "\u001b[31m│\u001b[0m                                                                                                  \u001b[31m│\u001b[0m\n",
       "\u001b[31m│\u001b[0m   \u001b[2m 856 \u001b[0m\u001b[2m│   │   │   │   \u001b[0m\u001b[2m# No more tasks available in the iterator: tell caller to stop.\u001b[0m           \u001b[31m│\u001b[0m\n",
       "\u001b[31m│\u001b[0m   \u001b[2m 857 \u001b[0m\u001b[2m│   │   │   │   \u001b[0m\u001b[94mreturn\u001b[0m \u001b[94mFalse\u001b[0m                                                              \u001b[31m│\u001b[0m\n",
       "\u001b[31m│\u001b[0m   \u001b[2m 858 \u001b[0m\u001b[2m│   │   │   \u001b[0m\u001b[94melse\u001b[0m:                                                                         \u001b[31m│\u001b[0m\n",
       "\u001b[31m│\u001b[0m \u001b[31m❱ \u001b[0m 859 \u001b[2m│   │   │   │   \u001b[0m\u001b[96mself\u001b[0m._dispatch(tasks)                                                     \u001b[31m│\u001b[0m\n",
       "\u001b[31m│\u001b[0m   \u001b[2m 860 \u001b[0m\u001b[2m│   │   │   │   \u001b[0m\u001b[94mreturn\u001b[0m \u001b[94mTrue\u001b[0m                                                               \u001b[31m│\u001b[0m\n",
       "\u001b[31m│\u001b[0m   \u001b[2m 861 \u001b[0m\u001b[2m│   \u001b[0m                                                                                      \u001b[31m│\u001b[0m\n",
       "\u001b[31m│\u001b[0m   \u001b[2m 862 \u001b[0m\u001b[2m│   \u001b[0m\u001b[94mdef\u001b[0m \u001b[92m_print\u001b[0m(\u001b[96mself\u001b[0m, msg, msg_args):                                                      \u001b[31m│\u001b[0m\n",
       "\u001b[31m│\u001b[0m                                                                                                  \u001b[31m│\u001b[0m\n",
       "\u001b[31m│\u001b[0m \u001b[2;33m/home/lcmj/anaconda3/envs/daa/lib/python3.6/site-packages/joblib/\u001b[0m\u001b[1;33mparallel.py\u001b[0m:\u001b[94m777\u001b[0m in \u001b[92m_dispatch\u001b[0m    \u001b[31m│\u001b[0m\n",
       "\u001b[31m│\u001b[0m                                                                                                  \u001b[31m│\u001b[0m\n",
       "\u001b[31m│\u001b[0m   \u001b[2m 774 \u001b[0m\u001b[2m│   │   \u001b[0mcb = BatchCompletionCallBack(dispatch_timestamp, \u001b[96mlen\u001b[0m(batch), \u001b[96mself\u001b[0m)                \u001b[31m│\u001b[0m\n",
       "\u001b[31m│\u001b[0m   \u001b[2m 775 \u001b[0m\u001b[2m│   │   \u001b[0m\u001b[94mwith\u001b[0m \u001b[96mself\u001b[0m._lock:                                                                  \u001b[31m│\u001b[0m\n",
       "\u001b[31m│\u001b[0m   \u001b[2m 776 \u001b[0m\u001b[2m│   │   │   \u001b[0mjob_idx = \u001b[96mlen\u001b[0m(\u001b[96mself\u001b[0m._jobs)                                                     \u001b[31m│\u001b[0m\n",
       "\u001b[31m│\u001b[0m \u001b[31m❱ \u001b[0m 777 \u001b[2m│   │   │   \u001b[0mjob = \u001b[96mself\u001b[0m._backend.apply_async(batch, callback=cb)                           \u001b[31m│\u001b[0m\n",
       "\u001b[31m│\u001b[0m   \u001b[2m 778 \u001b[0m\u001b[2m│   │   │   \u001b[0m\u001b[2m# A job can complete so quickly than its callback is\u001b[0m                          \u001b[31m│\u001b[0m\n",
       "\u001b[31m│\u001b[0m   \u001b[2m 779 \u001b[0m\u001b[2m│   │   │   \u001b[0m\u001b[2m# called before we get here, causing self._jobs to\u001b[0m                            \u001b[31m│\u001b[0m\n",
       "\u001b[31m│\u001b[0m   \u001b[2m 780 \u001b[0m\u001b[2m│   │   │   \u001b[0m\u001b[2m# grow. To ensure correct results ordering, .insert is\u001b[0m                        \u001b[31m│\u001b[0m\n",
       "\u001b[31m│\u001b[0m                                                                                                  \u001b[31m│\u001b[0m\n",
       "\u001b[31m│\u001b[0m \u001b[2;33m/home/lcmj/anaconda3/envs/daa/lib/python3.6/site-packages/joblib/\u001b[0m\u001b[1;33m_parallel_backends.py\u001b[0m:\u001b[94m208\u001b[0m in    \u001b[31m│\u001b[0m\n",
       "\u001b[31m│\u001b[0m \u001b[92mapply_async\u001b[0m                                                                                      \u001b[31m│\u001b[0m\n",
       "\u001b[31m│\u001b[0m                                                                                                  \u001b[31m│\u001b[0m\n",
       "\u001b[31m│\u001b[0m   \u001b[2m205 \u001b[0m\u001b[2m│   \u001b[0m                                                                                       \u001b[31m│\u001b[0m\n",
       "\u001b[31m│\u001b[0m   \u001b[2m206 \u001b[0m\u001b[2m│   \u001b[0m\u001b[94mdef\u001b[0m \u001b[92mapply_async\u001b[0m(\u001b[96mself\u001b[0m, func, callback=\u001b[94mNone\u001b[0m):                                            \u001b[31m│\u001b[0m\n",
       "\u001b[31m│\u001b[0m   \u001b[2m207 \u001b[0m\u001b[2m│   │   \u001b[0m\u001b[33m\"\"\"Schedule a func to be run\"\"\"\u001b[0m                                                    \u001b[31m│\u001b[0m\n",
       "\u001b[31m│\u001b[0m \u001b[31m❱ \u001b[0m208 \u001b[2m│   │   \u001b[0mresult = ImmediateResult(func)                                                     \u001b[31m│\u001b[0m\n",
       "\u001b[31m│\u001b[0m   \u001b[2m209 \u001b[0m\u001b[2m│   │   \u001b[0m\u001b[94mif\u001b[0m callback:                                                                       \u001b[31m│\u001b[0m\n",
       "\u001b[31m│\u001b[0m   \u001b[2m210 \u001b[0m\u001b[2m│   │   │   \u001b[0mcallback(result)                                                               \u001b[31m│\u001b[0m\n",
       "\u001b[31m│\u001b[0m   \u001b[2m211 \u001b[0m\u001b[2m│   │   \u001b[0m\u001b[94mreturn\u001b[0m result                                                                      \u001b[31m│\u001b[0m\n",
       "\u001b[31m│\u001b[0m                                                                                                  \u001b[31m│\u001b[0m\n",
       "\u001b[31m│\u001b[0m \u001b[2;33m/home/lcmj/anaconda3/envs/daa/lib/python3.6/site-packages/joblib/\u001b[0m\u001b[1;33m_parallel_backends.py\u001b[0m:\u001b[94m572\u001b[0m in    \u001b[31m│\u001b[0m\n",
       "\u001b[31m│\u001b[0m \u001b[92m__init__\u001b[0m                                                                                         \u001b[31m│\u001b[0m\n",
       "\u001b[31m│\u001b[0m                                                                                                  \u001b[31m│\u001b[0m\n",
       "\u001b[31m│\u001b[0m   \u001b[2m569 \u001b[0m\u001b[2m│   \u001b[0m\u001b[94mdef\u001b[0m \u001b[92m__init__\u001b[0m(\u001b[96mself\u001b[0m, batch):                                                             \u001b[31m│\u001b[0m\n",
       "\u001b[31m│\u001b[0m   \u001b[2m570 \u001b[0m\u001b[2m│   │   \u001b[0m\u001b[2m# Don't delay the application, to avoid keeping the input\u001b[0m                          \u001b[31m│\u001b[0m\n",
       "\u001b[31m│\u001b[0m   \u001b[2m571 \u001b[0m\u001b[2m│   │   \u001b[0m\u001b[2m# arguments in memory\u001b[0m                                                              \u001b[31m│\u001b[0m\n",
       "\u001b[31m│\u001b[0m \u001b[31m❱ \u001b[0m572 \u001b[2m│   │   \u001b[0m\u001b[96mself\u001b[0m.results = batch()                                                             \u001b[31m│\u001b[0m\n",
       "\u001b[31m│\u001b[0m   \u001b[2m573 \u001b[0m\u001b[2m│   \u001b[0m                                                                                       \u001b[31m│\u001b[0m\n",
       "\u001b[31m│\u001b[0m   \u001b[2m574 \u001b[0m\u001b[2m│   \u001b[0m\u001b[94mdef\u001b[0m \u001b[92mget\u001b[0m(\u001b[96mself\u001b[0m):                                                                         \u001b[31m│\u001b[0m\n",
       "\u001b[31m│\u001b[0m   \u001b[2m575 \u001b[0m\u001b[2m│   │   \u001b[0m\u001b[94mreturn\u001b[0m \u001b[96mself\u001b[0m.results                                                                \u001b[31m│\u001b[0m\n",
       "\u001b[31m│\u001b[0m                                                                                                  \u001b[31m│\u001b[0m\n",
       "\u001b[31m│\u001b[0m \u001b[2;33m/home/lcmj/anaconda3/envs/daa/lib/python3.6/site-packages/joblib/\u001b[0m\u001b[1;33mparallel.py\u001b[0m:\u001b[94m263\u001b[0m in \u001b[92m__call__\u001b[0m     \u001b[31m│\u001b[0m\n",
       "\u001b[31m│\u001b[0m                                                                                                  \u001b[31m│\u001b[0m\n",
       "\u001b[31m│\u001b[0m   \u001b[2m 260 \u001b[0m\u001b[2m│   │   \u001b[0m\u001b[2m# change the default number of processes to -1\u001b[0m                                    \u001b[31m│\u001b[0m\n",
       "\u001b[31m│\u001b[0m   \u001b[2m 261 \u001b[0m\u001b[2m│   │   \u001b[0m\u001b[94mwith\u001b[0m parallel_backend(\u001b[96mself\u001b[0m._backend, n_jobs=\u001b[96mself\u001b[0m._n_jobs):                        \u001b[31m│\u001b[0m\n",
       "\u001b[31m│\u001b[0m   \u001b[2m 262 \u001b[0m\u001b[2m│   │   │   \u001b[0m\u001b[94mreturn\u001b[0m [func(*args, **kwargs)                                                 \u001b[31m│\u001b[0m\n",
       "\u001b[31m│\u001b[0m \u001b[31m❱ \u001b[0m 263 \u001b[2m│   │   │   │   │   \u001b[0m\u001b[94mfor\u001b[0m func, args, kwargs \u001b[95min\u001b[0m \u001b[96mself\u001b[0m.items]                                 \u001b[31m│\u001b[0m\n",
       "\u001b[31m│\u001b[0m   \u001b[2m 264 \u001b[0m\u001b[2m│   \u001b[0m                                                                                      \u001b[31m│\u001b[0m\n",
       "\u001b[31m│\u001b[0m   \u001b[2m 265 \u001b[0m\u001b[2m│   \u001b[0m\u001b[94mdef\u001b[0m \u001b[92m__reduce__\u001b[0m(\u001b[96mself\u001b[0m):                                                                 \u001b[31m│\u001b[0m\n",
       "\u001b[31m│\u001b[0m   \u001b[2m 266 \u001b[0m\u001b[2m│   │   \u001b[0m\u001b[94mif\u001b[0m \u001b[96mself\u001b[0m._reducer_callback \u001b[95mis\u001b[0m \u001b[95mnot\u001b[0m \u001b[94mNone\u001b[0m:                                            \u001b[31m│\u001b[0m\n",
       "\u001b[31m│\u001b[0m                                                                                                  \u001b[31m│\u001b[0m\n",
       "\u001b[31m│\u001b[0m \u001b[2;33m/home/lcmj/anaconda3/envs/daa/lib/python3.6/site-packages/joblib/\u001b[0m\u001b[1;33mparallel.py\u001b[0m:\u001b[94m263\u001b[0m in \u001b[92m<listcomp>\u001b[0m   \u001b[31m│\u001b[0m\n",
       "\u001b[31m│\u001b[0m                                                                                                  \u001b[31m│\u001b[0m\n",
       "\u001b[31m│\u001b[0m   \u001b[2m 260 \u001b[0m\u001b[2m│   │   \u001b[0m\u001b[2m# change the default number of processes to -1\u001b[0m                                    \u001b[31m│\u001b[0m\n",
       "\u001b[31m│\u001b[0m   \u001b[2m 261 \u001b[0m\u001b[2m│   │   \u001b[0m\u001b[94mwith\u001b[0m parallel_backend(\u001b[96mself\u001b[0m._backend, n_jobs=\u001b[96mself\u001b[0m._n_jobs):                        \u001b[31m│\u001b[0m\n",
       "\u001b[31m│\u001b[0m   \u001b[2m 262 \u001b[0m\u001b[2m│   │   │   \u001b[0m\u001b[94mreturn\u001b[0m [func(*args, **kwargs)                                                 \u001b[31m│\u001b[0m\n",
       "\u001b[31m│\u001b[0m \u001b[31m❱ \u001b[0m 263 \u001b[2m│   │   │   │   │   \u001b[0m\u001b[94mfor\u001b[0m func, args, kwargs \u001b[95min\u001b[0m \u001b[96mself\u001b[0m.items]                                 \u001b[31m│\u001b[0m\n",
       "\u001b[31m│\u001b[0m   \u001b[2m 264 \u001b[0m\u001b[2m│   \u001b[0m                                                                                      \u001b[31m│\u001b[0m\n",
       "\u001b[31m│\u001b[0m   \u001b[2m 265 \u001b[0m\u001b[2m│   \u001b[0m\u001b[94mdef\u001b[0m \u001b[92m__reduce__\u001b[0m(\u001b[96mself\u001b[0m):                                                                 \u001b[31m│\u001b[0m\n",
       "\u001b[31m│\u001b[0m   \u001b[2m 266 \u001b[0m\u001b[2m│   │   \u001b[0m\u001b[94mif\u001b[0m \u001b[96mself\u001b[0m._reducer_callback \u001b[95mis\u001b[0m \u001b[95mnot\u001b[0m \u001b[94mNone\u001b[0m:                                            \u001b[31m│\u001b[0m\n",
       "\u001b[31m│\u001b[0m                                                                                                  \u001b[31m│\u001b[0m\n",
       "\u001b[31m│\u001b[0m \u001b[2;33m/home/lcmj/anaconda3/envs/daa/lib/python3.6/site-packages/sklearn/utils/\u001b[0m\u001b[1;33mfixes.py\u001b[0m:\u001b[94m222\u001b[0m in \u001b[92m__call__\u001b[0m \u001b[31m│\u001b[0m\n",
       "\u001b[31m│\u001b[0m                                                                                                  \u001b[31m│\u001b[0m\n",
       "\u001b[31m│\u001b[0m   \u001b[2m219 \u001b[0m\u001b[2m│   \u001b[0m                                                                                       \u001b[31m│\u001b[0m\n",
       "\u001b[31m│\u001b[0m   \u001b[2m220 \u001b[0m\u001b[2m│   \u001b[0m\u001b[94mdef\u001b[0m \u001b[92m__call__\u001b[0m(\u001b[96mself\u001b[0m, *args, **kwargs):                                                   \u001b[31m│\u001b[0m\n",
       "\u001b[31m│\u001b[0m   \u001b[2m221 \u001b[0m\u001b[2m│   │   \u001b[0m\u001b[94mwith\u001b[0m config_context(**\u001b[96mself\u001b[0m.config):                                                \u001b[31m│\u001b[0m\n",
       "\u001b[31m│\u001b[0m \u001b[31m❱ \u001b[0m222 \u001b[2m│   │   │   \u001b[0m\u001b[94mreturn\u001b[0m \u001b[96mself\u001b[0m.function(*args, **kwargs)                                          \u001b[31m│\u001b[0m\n",
       "\u001b[31m│\u001b[0m   \u001b[2m223 \u001b[0m                                                                                           \u001b[31m│\u001b[0m\n",
       "\u001b[31m│\u001b[0m                                                                                                  \u001b[31m│\u001b[0m\n",
       "\u001b[31m│\u001b[0m \u001b[2;33m/home/lcmj/anaconda3/envs/daa/lib/python3.6/site-packages/sklearn/model_selection/\u001b[0m\u001b[1;33m_validation.py\u001b[0m \u001b[31m│\u001b[0m\n",
       "\u001b[31m│\u001b[0m :\u001b[94m598\u001b[0m in \u001b[92m_fit_and_score\u001b[0m                                                                           \u001b[31m│\u001b[0m\n",
       "\u001b[31m│\u001b[0m                                                                                                  \u001b[31m│\u001b[0m\n",
       "\u001b[31m│\u001b[0m   \u001b[2m 595 \u001b[0m\u001b[2m│   │   \u001b[0m\u001b[94mif\u001b[0m y_train \u001b[95mis\u001b[0m \u001b[94mNone\u001b[0m:                                                               \u001b[31m│\u001b[0m\n",
       "\u001b[31m│\u001b[0m   \u001b[2m 596 \u001b[0m\u001b[2m│   │   │   \u001b[0mestimator.fit(X_train, **fit_params)                                          \u001b[31m│\u001b[0m\n",
       "\u001b[31m│\u001b[0m   \u001b[2m 597 \u001b[0m\u001b[2m│   │   \u001b[0m\u001b[94melse\u001b[0m:                                                                             \u001b[31m│\u001b[0m\n",
       "\u001b[31m│\u001b[0m \u001b[31m❱ \u001b[0m 598 \u001b[2m│   │   │   \u001b[0mestimator.fit(X_train, y_train, **fit_params)                                 \u001b[31m│\u001b[0m\n",
       "\u001b[31m│\u001b[0m   \u001b[2m 599 \u001b[0m\u001b[2m│   \u001b[0m                                                                                      \u001b[31m│\u001b[0m\n",
       "\u001b[31m│\u001b[0m   \u001b[2m 600 \u001b[0m\u001b[2m│   \u001b[0m\u001b[94mexcept\u001b[0m \u001b[96mException\u001b[0m \u001b[94mas\u001b[0m e:                                                                \u001b[31m│\u001b[0m\n",
       "\u001b[31m│\u001b[0m   \u001b[2m 601 \u001b[0m\u001b[2m│   │   \u001b[0m\u001b[2m# Note fit time as time until error\u001b[0m                                               \u001b[31m│\u001b[0m\n",
       "\u001b[31m│\u001b[0m                                                                                                  \u001b[31m│\u001b[0m\n",
       "\u001b[31m│\u001b[0m \u001b[2;33m/home/lcmj/anaconda3/envs/daa/lib/python3.6/site-packages/sklearn/svm/\u001b[0m\u001b[1;33m_base.py\u001b[0m:\u001b[94m226\u001b[0m in \u001b[92mfit\u001b[0m        \u001b[31m│\u001b[0m\n",
       "\u001b[31m│\u001b[0m                                                                                                  \u001b[31m│\u001b[0m\n",
       "\u001b[31m│\u001b[0m   \u001b[2m223 \u001b[0m\u001b[2m│   │   │   \u001b[0m\u001b[96mprint\u001b[0m(\u001b[33m'\u001b[0m\u001b[33m[LibSVM]\u001b[0m\u001b[33m'\u001b[0m, end=\u001b[33m'\u001b[0m\u001b[33m'\u001b[0m)                                                      \u001b[31m│\u001b[0m\n",
       "\u001b[31m│\u001b[0m   \u001b[2m224 \u001b[0m\u001b[2m│   │   \u001b[0m                                                                                   \u001b[31m│\u001b[0m\n",
       "\u001b[31m│\u001b[0m   \u001b[2m225 \u001b[0m\u001b[2m│   │   \u001b[0mseed = rnd.randint(np.iinfo(\u001b[33m'\u001b[0m\u001b[33mi\u001b[0m\u001b[33m'\u001b[0m).max)                                              \u001b[31m│\u001b[0m\n",
       "\u001b[31m│\u001b[0m \u001b[31m❱ \u001b[0m226 \u001b[2m│   │   \u001b[0mfit(X, y, sample_weight, solver_type, kernel, random_seed=seed)                    \u001b[31m│\u001b[0m\n",
       "\u001b[31m│\u001b[0m   \u001b[2m227 \u001b[0m\u001b[2m│   │   \u001b[0m\u001b[2m# see comment on the other call to np.iinfo in this file\u001b[0m                           \u001b[31m│\u001b[0m\n",
       "\u001b[31m│\u001b[0m   \u001b[2m228 \u001b[0m\u001b[2m│   │   \u001b[0m                                                                                   \u001b[31m│\u001b[0m\n",
       "\u001b[31m│\u001b[0m   \u001b[2m229 \u001b[0m\u001b[2m│   │   \u001b[0m\u001b[96mself\u001b[0m.shape_fit_ = X.shape \u001b[94mif\u001b[0m \u001b[96mhasattr\u001b[0m(X, \u001b[33m\"\u001b[0m\u001b[33mshape\u001b[0m\u001b[33m\"\u001b[0m) \u001b[94melse\u001b[0m (n_samples, )                \u001b[31m│\u001b[0m\n",
       "\u001b[31m│\u001b[0m                                                                                                  \u001b[31m│\u001b[0m\n",
       "\u001b[31m│\u001b[0m \u001b[2;33m/home/lcmj/anaconda3/envs/daa/lib/python3.6/site-packages/sklearn/svm/\u001b[0m\u001b[1;33m_base.py\u001b[0m:\u001b[94m285\u001b[0m in \u001b[92m_dense_fit\u001b[0m \u001b[31m│\u001b[0m\n",
       "\u001b[31m│\u001b[0m                                                                                                  \u001b[31m│\u001b[0m\n",
       "\u001b[31m│\u001b[0m   \u001b[2m282 \u001b[0m\u001b[2m│   │   │   │   \u001b[0mshrinking=\u001b[96mself\u001b[0m.shrinking, tol=\u001b[96mself\u001b[0m.tol,                                    \u001b[31m│\u001b[0m\n",
       "\u001b[31m│\u001b[0m   \u001b[2m283 \u001b[0m\u001b[2m│   │   │   │   \u001b[0mcache_size=\u001b[96mself\u001b[0m.cache_size, coef0=\u001b[96mself\u001b[0m.coef0,                              \u001b[31m│\u001b[0m\n",
       "\u001b[31m│\u001b[0m   \u001b[2m284 \u001b[0m\u001b[2m│   │   │   │   \u001b[0mgamma=\u001b[96mself\u001b[0m._gamma, epsilon=\u001b[96mself\u001b[0m.epsilon,                                   \u001b[31m│\u001b[0m\n",
       "\u001b[31m│\u001b[0m \u001b[31m❱ \u001b[0m285 \u001b[2m│   │   │   │   \u001b[0mmax_iter=\u001b[96mself\u001b[0m.max_iter, random_seed=random_seed)                           \u001b[31m│\u001b[0m\n",
       "\u001b[31m│\u001b[0m   \u001b[2m286 \u001b[0m\u001b[2m│   │   \u001b[0m                                                                                   \u001b[31m│\u001b[0m\n",
       "\u001b[31m│\u001b[0m   \u001b[2m287 \u001b[0m\u001b[2m│   │   \u001b[0m\u001b[96mself\u001b[0m._warn_from_fit_status()                                                       \u001b[31m│\u001b[0m\n",
       "\u001b[31m│\u001b[0m   \u001b[2m288 \u001b[0m                                                                                           \u001b[31m│\u001b[0m\n",
       "\u001b[31m╰──────────────────────────────────────────────────────────────────────────────────────────────────╯\u001b[0m\n",
       "\u001b[1;91mKeyboardInterrupt\u001b[0m\n"
      ]
     },
     "metadata": {},
     "output_type": "display_data"
    }
   ],
   "source": [
    "param_grid = {'C': [0.1, 1, 10, 100, 1000], 'gamma': [1, 0.1, 0.01, 0.001, 0.0001], 'kernel': ['rbf']}\n",
    "grid = GridSearchCV(SVC(random_state=2022), param_grid, refit=True, verbose=3)\n",
    "grid.fit(x_training, y_training)\n",
    "grid_predictions = grid.predict(x_testing)\n",
    "\n",
    "printOrWrite(\"GridSearchCV\", grid_predictions, y_testing, results_to_test)"
   ]
  },
  {
   "attachments": {},
   "cell_type": "markdown",
   "metadata": {},
   "source": [
    "### 5.13 Maquinas de Vectores de Suporte (SVM)"
   ]
  },
  {
   "cell_type": "code",
   "execution_count": null,
   "metadata": {},
   "outputs": [
    {
     "name": "stdout",
     "output_type": "stream",
     "text": [
      "CrossValidation  Accuracy:  0.7304\n"
     ]
    }
   ],
   "source": [
    "df_feat = pd.DataFrame(x_training, columns=x_training.columns)\n",
    "df_target = pd.DataFrame(y_training, columns=['incidents'])\n",
    "# 10-Fold Cross Validation\n",
    "cross_valid_model = SVC(random_state=2022)\n",
    "cross_val_score(cross_valid_model, df_feat, np.ravel(df_target), cv=10)\n",
    "\n",
    "printOrWrite(\"CrossValidation\", grid_predictions, y_testing, results_to_test)"
   ]
  },
  {
   "attachments": {},
   "cell_type": "markdown",
   "metadata": {},
   "source": [
    "### 5.14 Neural Network"
   ]
  },
  {
   "cell_type": "code",
   "execution_count": null,
   "metadata": {},
   "outputs": [
    {
     "name": "stdout",
     "output_type": "stream",
     "text": [
      "Epoch 1/200\n",
      "71/71 [==============================] - 1s 4ms/step - loss: 2.7901 - accuracy: 0.4467 - val_loss: 1.4203 - val_accuracy: 0.4240\n",
      "Epoch 2/200\n",
      "71/71 [==============================] - 0s 2ms/step - loss: 1.2842 - accuracy: 0.5236 - val_loss: 1.4556 - val_accuracy: 0.4680\n",
      "Epoch 3/200\n",
      "71/71 [==============================] - 0s 2ms/step - loss: 1.2709 - accuracy: 0.5284 - val_loss: 1.2433 - val_accuracy: 0.4920\n",
      "Epoch 4/200\n",
      "71/71 [==============================] - 0s 2ms/step - loss: 1.2489 - accuracy: 0.5293 - val_loss: 1.2730 - val_accuracy: 0.5040\n",
      "Epoch 5/200\n",
      "71/71 [==============================] - 0s 3ms/step - loss: 1.2140 - accuracy: 0.5507 - val_loss: 1.2331 - val_accuracy: 0.4880\n",
      "Epoch 6/200\n",
      "71/71 [==============================] - 0s 3ms/step - loss: 1.2328 - accuracy: 0.5298 - val_loss: 1.2401 - val_accuracy: 0.5080\n",
      "Epoch 7/200\n",
      "71/71 [==============================] - 0s 2ms/step - loss: 1.2182 - accuracy: 0.5422 - val_loss: 1.2050 - val_accuracy: 0.5040\n",
      "Epoch 8/200\n",
      "71/71 [==============================] - 0s 2ms/step - loss: 1.1878 - accuracy: 0.5484 - val_loss: 1.1909 - val_accuracy: 0.5120\n",
      "Epoch 9/200\n",
      "71/71 [==============================] - 0s 3ms/step - loss: 1.2023 - accuracy: 0.5458 - val_loss: 1.1869 - val_accuracy: 0.5000\n",
      "Epoch 10/200\n",
      "71/71 [==============================] - 0s 2ms/step - loss: 1.1704 - accuracy: 0.5498 - val_loss: 1.2108 - val_accuracy: 0.5000\n",
      "Epoch 11/200\n",
      "71/71 [==============================] - 0s 2ms/step - loss: 1.1713 - accuracy: 0.5542 - val_loss: 1.1629 - val_accuracy: 0.5120\n",
      "Epoch 12/200\n",
      "71/71 [==============================] - 0s 2ms/step - loss: 1.1583 - accuracy: 0.5551 - val_loss: 1.1696 - val_accuracy: 0.5120\n",
      "Epoch 13/200\n",
      "71/71 [==============================] - 0s 2ms/step - loss: 1.1456 - accuracy: 0.5578 - val_loss: 1.2182 - val_accuracy: 0.5040\n",
      "Epoch 14/200\n",
      "71/71 [==============================] - 0s 2ms/step - loss: 1.1676 - accuracy: 0.5578 - val_loss: 1.2265 - val_accuracy: 0.5240\n",
      "Epoch 15/200\n",
      "71/71 [==============================] - 0s 2ms/step - loss: 1.1513 - accuracy: 0.5609 - val_loss: 1.1999 - val_accuracy: 0.5120\n",
      "Epoch 16/200\n",
      "71/71 [==============================] - 0s 2ms/step - loss: 1.1612 - accuracy: 0.5613 - val_loss: 1.1918 - val_accuracy: 0.5160\n",
      "Epoch 17/200\n",
      "71/71 [==============================] - 0s 2ms/step - loss: 1.1635 - accuracy: 0.5653 - val_loss: 1.0999 - val_accuracy: 0.5440\n",
      "Epoch 18/200\n",
      "71/71 [==============================] - 0s 2ms/step - loss: 1.0944 - accuracy: 0.5813 - val_loss: 1.1063 - val_accuracy: 0.5600\n",
      "Epoch 19/200\n",
      "71/71 [==============================] - 0s 2ms/step - loss: 1.0830 - accuracy: 0.5858 - val_loss: 1.0516 - val_accuracy: 0.5840\n",
      "Epoch 20/200\n",
      "71/71 [==============================] - 0s 3ms/step - loss: 1.0749 - accuracy: 0.5831 - val_loss: 1.0632 - val_accuracy: 0.5720\n",
      "Epoch 21/200\n",
      "71/71 [==============================] - 0s 2ms/step - loss: 1.0683 - accuracy: 0.5853 - val_loss: 1.0511 - val_accuracy: 0.5640\n",
      "Epoch 22/200\n",
      "71/71 [==============================] - 0s 2ms/step - loss: 1.0825 - accuracy: 0.5840 - val_loss: 1.1001 - val_accuracy: 0.5280\n",
      "Epoch 23/200\n",
      "71/71 [==============================] - 0s 2ms/step - loss: 1.0485 - accuracy: 0.5844 - val_loss: 1.0673 - val_accuracy: 0.5640\n",
      "Epoch 24/200\n",
      "71/71 [==============================] - 0s 2ms/step - loss: 1.0567 - accuracy: 0.5844 - val_loss: 1.0386 - val_accuracy: 0.5720\n",
      "Epoch 25/200\n",
      "71/71 [==============================] - 0s 2ms/step - loss: 1.0722 - accuracy: 0.5804 - val_loss: 1.0729 - val_accuracy: 0.4960\n",
      "Epoch 26/200\n",
      "71/71 [==============================] - 0s 2ms/step - loss: 1.0509 - accuracy: 0.5871 - val_loss: 1.0414 - val_accuracy: 0.5600\n",
      "Epoch 27/200\n",
      "71/71 [==============================] - 0s 2ms/step - loss: 1.0618 - accuracy: 0.5929 - val_loss: 1.0552 - val_accuracy: 0.5840\n",
      "Epoch 28/200\n",
      "71/71 [==============================] - 0s 2ms/step - loss: 1.0475 - accuracy: 0.5902 - val_loss: 1.0280 - val_accuracy: 0.5640\n",
      "Epoch 29/200\n",
      "71/71 [==============================] - 0s 3ms/step - loss: 1.0640 - accuracy: 0.5791 - val_loss: 1.0536 - val_accuracy: 0.5840\n",
      "Epoch 30/200\n",
      "71/71 [==============================] - 0s 2ms/step - loss: 1.0295 - accuracy: 0.5862 - val_loss: 1.0248 - val_accuracy: 0.5640\n",
      "Epoch 31/200\n",
      "71/71 [==============================] - 0s 2ms/step - loss: 1.0416 - accuracy: 0.5791 - val_loss: 1.0371 - val_accuracy: 0.5640\n",
      "Epoch 32/200\n",
      "71/71 [==============================] - 0s 2ms/step - loss: 1.0201 - accuracy: 0.5827 - val_loss: 1.0276 - val_accuracy: 0.5800\n",
      "Epoch 33/200\n",
      "71/71 [==============================] - 0s 2ms/step - loss: 1.0066 - accuracy: 0.5858 - val_loss: 1.0825 - val_accuracy: 0.5720\n",
      "Epoch 34/200\n",
      "71/71 [==============================] - 0s 2ms/step - loss: 1.0111 - accuracy: 0.5827 - val_loss: 1.0177 - val_accuracy: 0.5560\n",
      "Epoch 35/200\n",
      "71/71 [==============================] - 0s 2ms/step - loss: 1.0209 - accuracy: 0.5827 - val_loss: 1.0312 - val_accuracy: 0.5480\n",
      "Epoch 36/200\n",
      "71/71 [==============================] - 0s 2ms/step - loss: 1.0265 - accuracy: 0.5889 - val_loss: 1.0326 - val_accuracy: 0.5720\n",
      "Epoch 37/200\n",
      "71/71 [==============================] - 0s 3ms/step - loss: 1.0137 - accuracy: 0.5836 - val_loss: 0.9915 - val_accuracy: 0.5920\n",
      "Epoch 38/200\n",
      "71/71 [==============================] - 0s 2ms/step - loss: 0.9872 - accuracy: 0.5898 - val_loss: 1.0073 - val_accuracy: 0.5840\n",
      "Epoch 39/200\n",
      "71/71 [==============================] - 0s 2ms/step - loss: 1.0254 - accuracy: 0.5800 - val_loss: 1.0397 - val_accuracy: 0.5960\n",
      "Epoch 40/200\n",
      "71/71 [==============================] - 0s 2ms/step - loss: 1.0234 - accuracy: 0.5889 - val_loss: 0.9851 - val_accuracy: 0.5880\n",
      "Epoch 41/200\n",
      "71/71 [==============================] - 0s 2ms/step - loss: 0.9785 - accuracy: 0.5867 - val_loss: 0.9856 - val_accuracy: 0.5920\n",
      "Epoch 42/200\n",
      "71/71 [==============================] - 0s 2ms/step - loss: 0.9543 - accuracy: 0.5876 - val_loss: 1.1552 - val_accuracy: 0.5760\n",
      "Epoch 43/200\n",
      "71/71 [==============================] - 0s 2ms/step - loss: 0.9840 - accuracy: 0.5933 - val_loss: 0.9877 - val_accuracy: 0.5920\n",
      "Epoch 44/200\n",
      "71/71 [==============================] - 0s 2ms/step - loss: 1.0143 - accuracy: 0.5724 - val_loss: 0.9602 - val_accuracy: 0.5920\n",
      "Epoch 45/200\n",
      "71/71 [==============================] - 0s 2ms/step - loss: 0.9695 - accuracy: 0.5898 - val_loss: 1.0204 - val_accuracy: 0.6040\n",
      "Epoch 46/200\n",
      "71/71 [==============================] - 0s 3ms/step - loss: 0.9601 - accuracy: 0.5858 - val_loss: 0.9232 - val_accuracy: 0.5920\n",
      "Epoch 47/200\n",
      "71/71 [==============================] - 0s 2ms/step - loss: 0.9698 - accuracy: 0.5898 - val_loss: 0.9587 - val_accuracy: 0.6040\n",
      "Epoch 48/200\n",
      "71/71 [==============================] - 0s 2ms/step - loss: 0.9292 - accuracy: 0.5956 - val_loss: 0.9548 - val_accuracy: 0.5440\n",
      "Epoch 49/200\n",
      "71/71 [==============================] - 0s 2ms/step - loss: 0.9634 - accuracy: 0.5920 - val_loss: 0.9464 - val_accuracy: 0.6560\n",
      "Epoch 50/200\n",
      "71/71 [==============================] - 0s 2ms/step - loss: 0.9186 - accuracy: 0.6151 - val_loss: 0.9205 - val_accuracy: 0.6360\n",
      "Epoch 51/200\n",
      "71/71 [==============================] - 0s 2ms/step - loss: 0.9256 - accuracy: 0.6133 - val_loss: 0.9560 - val_accuracy: 0.6320\n",
      "Epoch 52/200\n",
      "71/71 [==============================] - 0s 2ms/step - loss: 0.9448 - accuracy: 0.6009 - val_loss: 0.8852 - val_accuracy: 0.5960\n",
      "Epoch 53/200\n",
      "71/71 [==============================] - 0s 2ms/step - loss: 0.9324 - accuracy: 0.6022 - val_loss: 0.8709 - val_accuracy: 0.5920\n",
      "Epoch 54/200\n",
      "71/71 [==============================] - 0s 3ms/step - loss: 0.9537 - accuracy: 0.5902 - val_loss: 0.9234 - val_accuracy: 0.6360\n",
      "Epoch 55/200\n",
      "71/71 [==============================] - 0s 3ms/step - loss: 0.9218 - accuracy: 0.5867 - val_loss: 0.9181 - val_accuracy: 0.5840\n",
      "Epoch 56/200\n",
      "71/71 [==============================] - 0s 2ms/step - loss: 0.9193 - accuracy: 0.6133 - val_loss: 0.8677 - val_accuracy: 0.6560\n",
      "Epoch 57/200\n",
      "71/71 [==============================] - 0s 2ms/step - loss: 0.9114 - accuracy: 0.6253 - val_loss: 0.9284 - val_accuracy: 0.6320\n",
      "Epoch 58/200\n",
      "71/71 [==============================] - 0s 2ms/step - loss: 0.9264 - accuracy: 0.6058 - val_loss: 0.9274 - val_accuracy: 0.5440\n",
      "Epoch 59/200\n",
      "71/71 [==============================] - 0s 2ms/step - loss: 0.8861 - accuracy: 0.6458 - val_loss: 1.0684 - val_accuracy: 0.6040\n",
      "Epoch 60/200\n",
      "71/71 [==============================] - 0s 2ms/step - loss: 0.9495 - accuracy: 0.5969 - val_loss: 0.9796 - val_accuracy: 0.5080\n",
      "Epoch 61/200\n",
      "71/71 [==============================] - 0s 2ms/step - loss: 0.9141 - accuracy: 0.6151 - val_loss: 0.9480 - val_accuracy: 0.5440\n",
      "Epoch 62/200\n",
      "71/71 [==============================] - 0s 2ms/step - loss: 0.8971 - accuracy: 0.6333 - val_loss: 0.8259 - val_accuracy: 0.7080\n",
      "Epoch 63/200\n",
      "71/71 [==============================] - 0s 3ms/step - loss: 0.8821 - accuracy: 0.6489 - val_loss: 0.8839 - val_accuracy: 0.6680\n",
      "Epoch 64/200\n",
      "71/71 [==============================] - 0s 2ms/step - loss: 0.8717 - accuracy: 0.6400 - val_loss: 0.8473 - val_accuracy: 0.6440\n",
      "Epoch 65/200\n",
      "71/71 [==============================] - 0s 2ms/step - loss: 0.9058 - accuracy: 0.6133 - val_loss: 0.8431 - val_accuracy: 0.6640\n",
      "Epoch 66/200\n",
      "71/71 [==============================] - 0s 2ms/step - loss: 0.8679 - accuracy: 0.6418 - val_loss: 0.9984 - val_accuracy: 0.5200\n",
      "Epoch 67/200\n",
      "71/71 [==============================] - 0s 2ms/step - loss: 0.8658 - accuracy: 0.6542 - val_loss: 0.8063 - val_accuracy: 0.6960\n",
      "Epoch 68/200\n",
      "71/71 [==============================] - 0s 2ms/step - loss: 0.9010 - accuracy: 0.6182 - val_loss: 0.8626 - val_accuracy: 0.6280\n",
      "Epoch 69/200\n",
      "71/71 [==============================] - 0s 2ms/step - loss: 0.8629 - accuracy: 0.6480 - val_loss: 0.7995 - val_accuracy: 0.6680\n",
      "Epoch 70/200\n",
      "71/71 [==============================] - 0s 2ms/step - loss: 0.8894 - accuracy: 0.6413 - val_loss: 0.8751 - val_accuracy: 0.6280\n",
      "Epoch 71/200\n",
      "71/71 [==============================] - 0s 2ms/step - loss: 0.8379 - accuracy: 0.6653 - val_loss: 0.7760 - val_accuracy: 0.7400\n",
      "Epoch 72/200\n",
      "71/71 [==============================] - 0s 3ms/step - loss: 0.8619 - accuracy: 0.6591 - val_loss: 0.9207 - val_accuracy: 0.6440\n",
      "Epoch 73/200\n",
      "71/71 [==============================] - 0s 2ms/step - loss: 0.8164 - accuracy: 0.6729 - val_loss: 0.7616 - val_accuracy: 0.7200\n",
      "Epoch 74/200\n",
      "71/71 [==============================] - 0s 2ms/step - loss: 0.8163 - accuracy: 0.6653 - val_loss: 0.7874 - val_accuracy: 0.6960\n",
      "Epoch 75/200\n",
      "71/71 [==============================] - 0s 2ms/step - loss: 0.8264 - accuracy: 0.6684 - val_loss: 0.7249 - val_accuracy: 0.7240\n",
      "Epoch 76/200\n",
      "71/71 [==============================] - 0s 2ms/step - loss: 0.7988 - accuracy: 0.6622 - val_loss: 0.7235 - val_accuracy: 0.7080\n",
      "Epoch 77/200\n",
      "71/71 [==============================] - 0s 2ms/step - loss: 0.8265 - accuracy: 0.6689 - val_loss: 0.7506 - val_accuracy: 0.7240\n",
      "Epoch 78/200\n",
      "71/71 [==============================] - 0s 2ms/step - loss: 0.8176 - accuracy: 0.6604 - val_loss: 0.8393 - val_accuracy: 0.6640\n",
      "Epoch 79/200\n",
      "71/71 [==============================] - 0s 2ms/step - loss: 0.8174 - accuracy: 0.6578 - val_loss: 0.8396 - val_accuracy: 0.6520\n",
      "Epoch 80/200\n",
      "71/71 [==============================] - 0s 2ms/step - loss: 0.8015 - accuracy: 0.6707 - val_loss: 0.6598 - val_accuracy: 0.7560\n",
      "Epoch 81/200\n",
      "71/71 [==============================] - 0s 3ms/step - loss: 0.7896 - accuracy: 0.6702 - val_loss: 0.6763 - val_accuracy: 0.7160\n",
      "Epoch 82/200\n",
      "71/71 [==============================] - 0s 2ms/step - loss: 0.7628 - accuracy: 0.6920 - val_loss: 0.6873 - val_accuracy: 0.7040\n",
      "Epoch 83/200\n",
      "71/71 [==============================] - 0s 2ms/step - loss: 0.7418 - accuracy: 0.6893 - val_loss: 0.6782 - val_accuracy: 0.7320\n",
      "Epoch 84/200\n",
      "71/71 [==============================] - 0s 2ms/step - loss: 0.7467 - accuracy: 0.6889 - val_loss: 0.8740 - val_accuracy: 0.6240\n",
      "Epoch 85/200\n",
      "71/71 [==============================] - 0s 2ms/step - loss: 0.7586 - accuracy: 0.6938 - val_loss: 0.6389 - val_accuracy: 0.7680\n",
      "Epoch 86/200\n",
      "71/71 [==============================] - 0s 2ms/step - loss: 0.7299 - accuracy: 0.6951 - val_loss: 0.6256 - val_accuracy: 0.7720\n",
      "Epoch 87/200\n",
      "71/71 [==============================] - 0s 2ms/step - loss: 0.7534 - accuracy: 0.6947 - val_loss: 0.6550 - val_accuracy: 0.7200\n",
      "Epoch 88/200\n",
      "71/71 [==============================] - 0s 2ms/step - loss: 0.7516 - accuracy: 0.6920 - val_loss: 0.8318 - val_accuracy: 0.6800\n",
      "Epoch 89/200\n",
      "71/71 [==============================] - 0s 2ms/step - loss: 0.8024 - accuracy: 0.6622 - val_loss: 0.6222 - val_accuracy: 0.7520\n",
      "Epoch 90/200\n",
      "71/71 [==============================] - 0s 4ms/step - loss: 0.7230 - accuracy: 0.7013 - val_loss: 0.6682 - val_accuracy: 0.7120\n",
      "Epoch 91/200\n",
      "71/71 [==============================] - 0s 4ms/step - loss: 0.7318 - accuracy: 0.7013 - val_loss: 0.6648 - val_accuracy: 0.7280\n",
      "Epoch 92/200\n",
      "71/71 [==============================] - 0s 4ms/step - loss: 0.7535 - accuracy: 0.6809 - val_loss: 0.9761 - val_accuracy: 0.5800\n",
      "Epoch 93/200\n",
      "71/71 [==============================] - 0s 3ms/step - loss: 0.7658 - accuracy: 0.6951 - val_loss: 0.6333 - val_accuracy: 0.7280\n",
      "Epoch 94/200\n",
      "71/71 [==============================] - 0s 3ms/step - loss: 0.7119 - accuracy: 0.7040 - val_loss: 0.5770 - val_accuracy: 0.7840\n",
      "Epoch 95/200\n",
      "71/71 [==============================] - 0s 4ms/step - loss: 0.7004 - accuracy: 0.7138 - val_loss: 0.6534 - val_accuracy: 0.7720\n",
      "Epoch 96/200\n",
      "71/71 [==============================] - 0s 3ms/step - loss: 0.7050 - accuracy: 0.7142 - val_loss: 0.7746 - val_accuracy: 0.6600\n",
      "Epoch 97/200\n",
      "71/71 [==============================] - 0s 3ms/step - loss: 0.7802 - accuracy: 0.6756 - val_loss: 0.7202 - val_accuracy: 0.7560\n",
      "Epoch 98/200\n",
      "71/71 [==============================] - 0s 5ms/step - loss: 0.7323 - accuracy: 0.7040 - val_loss: 0.6525 - val_accuracy: 0.7920\n",
      "Epoch 99/200\n",
      "71/71 [==============================] - 0s 4ms/step - loss: 0.6827 - accuracy: 0.7218 - val_loss: 0.7250 - val_accuracy: 0.7360\n",
      "Epoch 100/200\n",
      "71/71 [==============================] - 0s 3ms/step - loss: 0.7391 - accuracy: 0.6924 - val_loss: 0.6256 - val_accuracy: 0.7760\n",
      "Epoch 101/200\n",
      "71/71 [==============================] - 0s 3ms/step - loss: 0.6803 - accuracy: 0.7182 - val_loss: 0.6755 - val_accuracy: 0.7520\n",
      "Epoch 102/200\n",
      "71/71 [==============================] - 0s 3ms/step - loss: 0.7184 - accuracy: 0.7107 - val_loss: 0.5792 - val_accuracy: 0.7680\n",
      "Epoch 103/200\n",
      "71/71 [==============================] - 0s 4ms/step - loss: 0.7364 - accuracy: 0.7013 - val_loss: 0.6500 - val_accuracy: 0.7600\n",
      "Epoch 104/200\n",
      "71/71 [==============================] - 0s 3ms/step - loss: 0.7056 - accuracy: 0.7044 - val_loss: 0.5955 - val_accuracy: 0.7640\n",
      "Epoch 105/200\n",
      "71/71 [==============================] - 0s 4ms/step - loss: 0.6713 - accuracy: 0.7338 - val_loss: 0.5509 - val_accuracy: 0.7720\n",
      "Epoch 106/200\n",
      "71/71 [==============================] - 0s 3ms/step - loss: 0.6691 - accuracy: 0.7262 - val_loss: 0.5818 - val_accuracy: 0.7360\n",
      "Epoch 107/200\n",
      "71/71 [==============================] - 0s 3ms/step - loss: 0.6673 - accuracy: 0.7298 - val_loss: 0.8966 - val_accuracy: 0.6720\n",
      "Epoch 108/200\n",
      "71/71 [==============================] - 0s 5ms/step - loss: 0.7433 - accuracy: 0.7013 - val_loss: 0.5787 - val_accuracy: 0.7800\n",
      "Epoch 109/200\n",
      "71/71 [==============================] - 0s 3ms/step - loss: 0.6757 - accuracy: 0.7191 - val_loss: 0.5792 - val_accuracy: 0.7640\n",
      "Epoch 110/200\n",
      "71/71 [==============================] - 0s 3ms/step - loss: 0.6659 - accuracy: 0.7289 - val_loss: 0.5835 - val_accuracy: 0.7360\n",
      "Epoch 111/200\n",
      "71/71 [==============================] - 0s 3ms/step - loss: 0.6563 - accuracy: 0.7360 - val_loss: 0.5483 - val_accuracy: 0.7560\n",
      "Epoch 112/200\n",
      "71/71 [==============================] - 0s 3ms/step - loss: 0.7222 - accuracy: 0.7000 - val_loss: 0.6203 - val_accuracy: 0.7200\n",
      "Epoch 113/200\n",
      "71/71 [==============================] - 0s 3ms/step - loss: 0.6536 - accuracy: 0.7267 - val_loss: 0.5644 - val_accuracy: 0.7640\n",
      "Epoch 114/200\n",
      "71/71 [==============================] - 0s 5ms/step - loss: 0.7000 - accuracy: 0.7160 - val_loss: 0.6171 - val_accuracy: 0.7400\n",
      "Epoch 115/200\n",
      "71/71 [==============================] - 0s 5ms/step - loss: 0.7313 - accuracy: 0.6978 - val_loss: 0.7220 - val_accuracy: 0.7280\n",
      "Epoch 116/200\n",
      "71/71 [==============================] - 0s 4ms/step - loss: 0.7063 - accuracy: 0.7147 - val_loss: 0.5907 - val_accuracy: 0.7720\n",
      "Epoch 117/200\n",
      "71/71 [==============================] - 0s 3ms/step - loss: 0.7085 - accuracy: 0.7236 - val_loss: 0.6412 - val_accuracy: 0.7680\n",
      "Epoch 118/200\n",
      "71/71 [==============================] - 0s 3ms/step - loss: 0.6658 - accuracy: 0.7289 - val_loss: 0.6454 - val_accuracy: 0.7200\n",
      "Epoch 119/200\n",
      "71/71 [==============================] - 0s 3ms/step - loss: 0.6502 - accuracy: 0.7333 - val_loss: 0.5469 - val_accuracy: 0.7800\n",
      "Epoch 120/200\n",
      "71/71 [==============================] - 0s 3ms/step - loss: 0.6485 - accuracy: 0.7351 - val_loss: 0.5673 - val_accuracy: 0.7880\n",
      "Epoch 121/200\n",
      "71/71 [==============================] - 0s 5ms/step - loss: 0.6354 - accuracy: 0.7347 - val_loss: 0.6596 - val_accuracy: 0.7520\n",
      "Epoch 122/200\n",
      "71/71 [==============================] - 0s 4ms/step - loss: 0.7133 - accuracy: 0.7053 - val_loss: 0.6366 - val_accuracy: 0.7400\n",
      "Epoch 123/200\n",
      "71/71 [==============================] - 0s 4ms/step - loss: 0.6606 - accuracy: 0.7324 - val_loss: 0.5678 - val_accuracy: 0.7440\n",
      "Epoch 124/200\n",
      "71/71 [==============================] - 0s 5ms/step - loss: 0.6767 - accuracy: 0.7240 - val_loss: 0.5459 - val_accuracy: 0.7880\n",
      "Epoch 125/200\n",
      "71/71 [==============================] - 0s 5ms/step - loss: 0.6312 - accuracy: 0.7413 - val_loss: 0.6149 - val_accuracy: 0.7840\n",
      "Epoch 126/200\n",
      "71/71 [==============================] - 0s 4ms/step - loss: 0.6288 - accuracy: 0.7444 - val_loss: 0.5298 - val_accuracy: 0.7920\n",
      "Epoch 127/200\n",
      "71/71 [==============================] - 0s 4ms/step - loss: 0.6336 - accuracy: 0.7298 - val_loss: 0.5482 - val_accuracy: 0.7760\n",
      "Epoch 128/200\n",
      "71/71 [==============================] - 0s 6ms/step - loss: 0.6291 - accuracy: 0.7449 - val_loss: 0.5922 - val_accuracy: 0.7360\n",
      "Epoch 129/200\n",
      "71/71 [==============================] - 0s 6ms/step - loss: 0.6406 - accuracy: 0.7418 - val_loss: 0.6715 - val_accuracy: 0.7360\n",
      "Epoch 130/200\n",
      "71/71 [==============================] - 1s 8ms/step - loss: 0.7082 - accuracy: 0.7098 - val_loss: 0.7700 - val_accuracy: 0.6520\n",
      "Epoch 131/200\n",
      "71/71 [==============================] - 0s 4ms/step - loss: 0.6628 - accuracy: 0.7258 - val_loss: 0.5803 - val_accuracy: 0.7840\n",
      "Epoch 132/200\n",
      "71/71 [==============================] - 0s 5ms/step - loss: 0.6356 - accuracy: 0.7320 - val_loss: 0.5654 - val_accuracy: 0.7720\n",
      "Epoch 133/200\n",
      "71/71 [==============================] - 0s 4ms/step - loss: 0.7577 - accuracy: 0.6924 - val_loss: 0.5932 - val_accuracy: 0.7680\n",
      "Epoch 134/200\n",
      "71/71 [==============================] - 0s 4ms/step - loss: 0.6365 - accuracy: 0.7333 - val_loss: 0.6559 - val_accuracy: 0.7240\n",
      "Epoch 135/200\n",
      "71/71 [==============================] - 0s 4ms/step - loss: 0.6263 - accuracy: 0.7489 - val_loss: 0.5202 - val_accuracy: 0.7800\n",
      "Epoch 136/200\n",
      "71/71 [==============================] - 0s 6ms/step - loss: 0.6374 - accuracy: 0.7342 - val_loss: 0.5380 - val_accuracy: 0.7720\n",
      "Epoch 137/200\n",
      "71/71 [==============================] - 0s 5ms/step - loss: 0.7388 - accuracy: 0.6982 - val_loss: 0.7154 - val_accuracy: 0.7160\n",
      "Epoch 138/200\n",
      "71/71 [==============================] - 0s 5ms/step - loss: 0.6423 - accuracy: 0.7307 - val_loss: 0.5527 - val_accuracy: 0.7800\n",
      "Epoch 139/200\n",
      "71/71 [==============================] - 0s 5ms/step - loss: 0.6064 - accuracy: 0.7560 - val_loss: 0.5481 - val_accuracy: 0.7920\n",
      "Epoch 140/200\n",
      "71/71 [==============================] - 0s 4ms/step - loss: 0.6790 - accuracy: 0.7218 - val_loss: 0.6537 - val_accuracy: 0.7720\n",
      "Epoch 141/200\n",
      "71/71 [==============================] - 0s 4ms/step - loss: 0.6524 - accuracy: 0.7351 - val_loss: 0.6186 - val_accuracy: 0.7640\n",
      "Epoch 142/200\n",
      "71/71 [==============================] - 0s 3ms/step - loss: 0.5984 - accuracy: 0.7547 - val_loss: 0.5990 - val_accuracy: 0.7600\n",
      "Epoch 143/200\n",
      "71/71 [==============================] - 0s 3ms/step - loss: 0.6391 - accuracy: 0.7324 - val_loss: 0.5923 - val_accuracy: 0.7400\n",
      "Epoch 144/200\n",
      "71/71 [==============================] - 0s 4ms/step - loss: 0.6329 - accuracy: 0.7484 - val_loss: 0.5195 - val_accuracy: 0.7960\n",
      "Epoch 145/200\n",
      "71/71 [==============================] - 0s 3ms/step - loss: 0.6317 - accuracy: 0.7440 - val_loss: 0.5577 - val_accuracy: 0.8000\n",
      "Epoch 146/200\n",
      "71/71 [==============================] - 0s 3ms/step - loss: 0.6107 - accuracy: 0.7547 - val_loss: 0.5439 - val_accuracy: 0.7680\n",
      "Epoch 147/200\n",
      "71/71 [==============================] - 0s 3ms/step - loss: 0.6133 - accuracy: 0.7471 - val_loss: 0.5105 - val_accuracy: 0.7800\n",
      "Epoch 148/200\n",
      "71/71 [==============================] - 0s 3ms/step - loss: 0.6177 - accuracy: 0.7524 - val_loss: 0.5794 - val_accuracy: 0.7640\n",
      "Epoch 149/200\n",
      "71/71 [==============================] - 0s 3ms/step - loss: 0.6613 - accuracy: 0.7436 - val_loss: 0.8271 - val_accuracy: 0.6560\n",
      "Epoch 150/200\n",
      "71/71 [==============================] - 0s 2ms/step - loss: 0.6428 - accuracy: 0.7409 - val_loss: 0.5493 - val_accuracy: 0.7800\n",
      "Epoch 151/200\n",
      "71/71 [==============================] - 0s 2ms/step - loss: 0.6207 - accuracy: 0.7396 - val_loss: 0.5978 - val_accuracy: 0.7800\n",
      "Epoch 152/200\n",
      "71/71 [==============================] - 0s 3ms/step - loss: 0.6685 - accuracy: 0.7391 - val_loss: 0.5919 - val_accuracy: 0.7480\n",
      "Epoch 153/200\n",
      "71/71 [==============================] - 0s 2ms/step - loss: 0.6247 - accuracy: 0.7498 - val_loss: 0.5494 - val_accuracy: 0.7800\n",
      "Epoch 154/200\n",
      "71/71 [==============================] - 0s 2ms/step - loss: 0.6165 - accuracy: 0.7493 - val_loss: 0.5502 - val_accuracy: 0.7560\n",
      "Epoch 155/200\n",
      "71/71 [==============================] - 0s 3ms/step - loss: 0.6718 - accuracy: 0.7342 - val_loss: 0.5812 - val_accuracy: 0.7640\n",
      "Epoch 156/200\n",
      "71/71 [==============================] - 0s 4ms/step - loss: 0.6332 - accuracy: 0.7520 - val_loss: 0.6070 - val_accuracy: 0.7640\n",
      "Epoch 157/200\n",
      "71/71 [==============================] - 0s 2ms/step - loss: 0.7019 - accuracy: 0.7116 - val_loss: 0.5632 - val_accuracy: 0.7960\n",
      "Epoch 158/200\n",
      "71/71 [==============================] - 0s 3ms/step - loss: 0.6172 - accuracy: 0.7489 - val_loss: 0.6022 - val_accuracy: 0.7400\n",
      "Epoch 159/200\n",
      "71/71 [==============================] - 0s 3ms/step - loss: 0.6475 - accuracy: 0.7404 - val_loss: 0.5686 - val_accuracy: 0.7840\n",
      "Epoch 160/200\n",
      "71/71 [==============================] - 0s 4ms/step - loss: 0.6093 - accuracy: 0.7480 - val_loss: 0.5482 - val_accuracy: 0.8080\n",
      "Epoch 161/200\n",
      "71/71 [==============================] - 0s 4ms/step - loss: 0.6074 - accuracy: 0.7529 - val_loss: 0.4999 - val_accuracy: 0.8040\n",
      "Epoch 162/200\n",
      "71/71 [==============================] - 0s 3ms/step - loss: 0.6104 - accuracy: 0.7440 - val_loss: 0.9529 - val_accuracy: 0.5920\n",
      "Epoch 163/200\n",
      "71/71 [==============================] - 0s 4ms/step - loss: 0.6544 - accuracy: 0.7422 - val_loss: 0.5874 - val_accuracy: 0.7720\n",
      "Epoch 164/200\n",
      "71/71 [==============================] - 0s 3ms/step - loss: 0.6360 - accuracy: 0.7413 - val_loss: 0.5544 - val_accuracy: 0.8080\n",
      "Epoch 165/200\n",
      "71/71 [==============================] - 0s 3ms/step - loss: 0.5952 - accuracy: 0.7529 - val_loss: 0.9462 - val_accuracy: 0.6080\n",
      "Epoch 166/200\n",
      "71/71 [==============================] - 0s 3ms/step - loss: 0.6930 - accuracy: 0.7182 - val_loss: 0.5153 - val_accuracy: 0.7960\n",
      "Epoch 167/200\n",
      "71/71 [==============================] - 0s 3ms/step - loss: 0.6108 - accuracy: 0.7511 - val_loss: 0.5839 - val_accuracy: 0.7800\n",
      "Epoch 168/200\n",
      "71/71 [==============================] - 0s 4ms/step - loss: 0.5901 - accuracy: 0.7644 - val_loss: 0.5366 - val_accuracy: 0.7880\n",
      "Epoch 169/200\n",
      "71/71 [==============================] - 0s 4ms/step - loss: 0.5788 - accuracy: 0.7667 - val_loss: 0.5134 - val_accuracy: 0.7960\n",
      "Epoch 170/200\n",
      "71/71 [==============================] - 0s 3ms/step - loss: 0.6663 - accuracy: 0.7280 - val_loss: 0.5295 - val_accuracy: 0.7880\n",
      "Epoch 171/200\n",
      "71/71 [==============================] - 0s 3ms/step - loss: 0.6024 - accuracy: 0.7547 - val_loss: 0.5422 - val_accuracy: 0.7880\n",
      "Epoch 172/200\n",
      "71/71 [==============================] - 0s 3ms/step - loss: 0.5860 - accuracy: 0.7644 - val_loss: 0.7387 - val_accuracy: 0.7200\n",
      "Epoch 173/200\n",
      "71/71 [==============================] - 0s 4ms/step - loss: 0.6711 - accuracy: 0.7267 - val_loss: 0.6547 - val_accuracy: 0.7480\n",
      "Epoch 174/200\n",
      "71/71 [==============================] - 0s 4ms/step - loss: 0.6046 - accuracy: 0.7578 - val_loss: 0.5174 - val_accuracy: 0.7920\n",
      "Epoch 175/200\n",
      "71/71 [==============================] - 0s 4ms/step - loss: 0.6004 - accuracy: 0.7596 - val_loss: 0.5257 - val_accuracy: 0.7960\n",
      "Epoch 176/200\n",
      "71/71 [==============================] - 0s 6ms/step - loss: 0.6421 - accuracy: 0.7400 - val_loss: 0.5746 - val_accuracy: 0.7800\n",
      "Epoch 177/200\n",
      "71/71 [==============================] - 0s 4ms/step - loss: 0.5906 - accuracy: 0.7618 - val_loss: 0.5430 - val_accuracy: 0.8120\n",
      "Epoch 178/200\n",
      "71/71 [==============================] - 0s 4ms/step - loss: 0.5858 - accuracy: 0.7667 - val_loss: 0.5116 - val_accuracy: 0.7840\n",
      "Epoch 179/200\n",
      "71/71 [==============================] - 0s 4ms/step - loss: 0.5843 - accuracy: 0.7556 - val_loss: 0.8353 - val_accuracy: 0.6400\n",
      "Epoch 180/200\n",
      "71/71 [==============================] - 0s 3ms/step - loss: 0.5795 - accuracy: 0.7742 - val_loss: 0.5750 - val_accuracy: 0.7440\n",
      "Epoch 181/200\n",
      "71/71 [==============================] - 0s 4ms/step - loss: 0.5917 - accuracy: 0.7631 - val_loss: 0.6891 - val_accuracy: 0.7320\n",
      "Epoch 182/200\n",
      "71/71 [==============================] - 0s 4ms/step - loss: 0.8763 - accuracy: 0.6649 - val_loss: 0.6860 - val_accuracy: 0.6960\n",
      "Epoch 183/200\n",
      "71/71 [==============================] - 0s 4ms/step - loss: 0.6387 - accuracy: 0.7444 - val_loss: 0.5218 - val_accuracy: 0.8160\n",
      "Epoch 184/200\n",
      "71/71 [==============================] - 0s 4ms/step - loss: 0.5919 - accuracy: 0.7667 - val_loss: 0.5214 - val_accuracy: 0.7680\n",
      "Epoch 185/200\n",
      "71/71 [==============================] - 0s 3ms/step - loss: 0.5856 - accuracy: 0.7560 - val_loss: 0.5063 - val_accuracy: 0.7840\n",
      "Epoch 186/200\n",
      "71/71 [==============================] - 0s 5ms/step - loss: 0.6111 - accuracy: 0.7476 - val_loss: 0.5086 - val_accuracy: 0.8000\n",
      "Epoch 187/200\n",
      "71/71 [==============================] - 0s 5ms/step - loss: 0.5868 - accuracy: 0.7693 - val_loss: 0.4987 - val_accuracy: 0.8000\n",
      "Epoch 188/200\n",
      "71/71 [==============================] - 0s 4ms/step - loss: 0.6693 - accuracy: 0.7342 - val_loss: 0.5944 - val_accuracy: 0.7640\n",
      "Epoch 189/200\n",
      "71/71 [==============================] - 0s 4ms/step - loss: 0.6115 - accuracy: 0.7476 - val_loss: 0.5597 - val_accuracy: 0.7720\n",
      "Epoch 190/200\n",
      "71/71 [==============================] - 0s 5ms/step - loss: 0.5838 - accuracy: 0.7658 - val_loss: 0.8051 - val_accuracy: 0.6480\n",
      "Epoch 191/200\n",
      "71/71 [==============================] - 0s 4ms/step - loss: 0.6425 - accuracy: 0.7373 - val_loss: 0.5654 - val_accuracy: 0.7840\n",
      "Epoch 192/200\n",
      "71/71 [==============================] - 0s 5ms/step - loss: 0.5843 - accuracy: 0.7684 - val_loss: 0.5463 - val_accuracy: 0.7640\n",
      "Epoch 193/200\n",
      "71/71 [==============================] - 0s 4ms/step - loss: 0.5726 - accuracy: 0.7747 - val_loss: 0.5059 - val_accuracy: 0.8000\n",
      "Epoch 194/200\n",
      "71/71 [==============================] - 0s 3ms/step - loss: 0.8112 - accuracy: 0.7098 - val_loss: 0.6094 - val_accuracy: 0.7920\n",
      "Epoch 195/200\n",
      "71/71 [==============================] - 0s 3ms/step - loss: 0.6125 - accuracy: 0.7538 - val_loss: 0.5740 - val_accuracy: 0.7800\n",
      "Epoch 196/200\n",
      "71/71 [==============================] - 0s 3ms/step - loss: 0.5647 - accuracy: 0.7751 - val_loss: 0.5089 - val_accuracy: 0.7920\n",
      "Epoch 197/200\n",
      "71/71 [==============================] - 0s 3ms/step - loss: 0.5843 - accuracy: 0.7618 - val_loss: 0.5657 - val_accuracy: 0.7800\n",
      "Epoch 198/200\n",
      "71/71 [==============================] - 0s 4ms/step - loss: 0.5942 - accuracy: 0.7676 - val_loss: 0.5076 - val_accuracy: 0.7880\n",
      "Epoch 199/200\n",
      "71/71 [==============================] - 0s 2ms/step - loss: 0.5697 - accuracy: 0.7733 - val_loss: 0.6159 - val_accuracy: 0.7600\n",
      "Epoch 200/200\n",
      "71/71 [==============================] - 0s 2ms/step - loss: 0.6185 - accuracy: 0.7573 - val_loss: 0.5418 - val_accuracy: 0.7960\n",
      "79/79 [==============================] - 0s 1ms/step - loss: 0.6470 - accuracy: 0.7412\n",
      "Neural Network Accuracy:  0.7411999702453613\n"
     ]
    }
   ],
   "source": [
    "# Data: x_training, x_testing, y_training, y_testing\n",
    "#\n",
    "# Encode the labels\n",
    "encoder = LabelEncoder()  \n",
    "y_training_labeled = encoder.fit_transform(y_training)\n",
    "y_training_labeled = tf.keras.utils.to_categorical(y_training_labeled)\n",
    "\n",
    "# If the submission is for kaggle, y_testing does not exist.\n",
    "# Otherwise, we need to encode the labels.\n",
    "if results_to_test:\n",
    "    y_testing_labeled = encoder.fit_transform(y_testing)\n",
    "    y_testing_labeled = tf.keras.utils.to_categorical(y_testing_labeled)\n",
    "\n",
    "# Define the model\n",
    "model = tf.keras.Sequential()\n",
    "\n",
    "# Add a hidden layer with 16 units and ReLU activation\n",
    "model.add(tf.keras.layers.Dense(16, activation='relu', input_shape=(x_training.shape[1],)))\n",
    "\n",
    "# Add a hidden layer with 32 units and ReLU activation\n",
    "model.add(tf.keras.layers.Dense(32, activation='relu'))\n",
    "\n",
    "# Add a hidden layer with 64 units and ReLU activation\n",
    "model.add(tf.keras.layers.Dense(64, activation='relu'))\n",
    "\n",
    "# Add a hidden layer with 128 units and ReLU activation\n",
    "model.add(tf.keras.layers.Dense(128, activation='relu'))\n",
    "\n",
    "# Add a hidden layer with 64 units and ReLU activation\n",
    "model.add(tf.keras.layers.Dense(64, activation='relu'))\n",
    "\n",
    "# Add a hidden layer with 32 units and ReLU activation\n",
    "model.add(tf.keras.layers.Dense(32, activation='relu'))\n",
    "\n",
    "# Add a hidden layer with 16 units and ReLU activation\n",
    "model.add(tf.keras.layers.Dense(16, activation='relu'))\n",
    "\n",
    "# Add an output layer with 5 units and softmax activation\n",
    "model.add(tf.keras.layers.Dense(5, activation='softmax'))\n",
    "\n",
    "# Compile the model with categorical crossentropy loss and an Adam optimizer\n",
    "model.compile(loss='categorical_crossentropy', optimizer='adam', metrics=['accuracy'])\n",
    "\n",
    "# Fit the model to the training data\n",
    "history = model.fit(x_training, y_training_labeled, epochs=200, batch_size=32, validation_split=0.1)\n",
    "\n",
    "# Evaluate the model on the test data\n",
    "if results_to_test:\n",
    "    loss, accuracy = model.evaluate(x_testing, y_testing_labeled)\n",
    "    print(\"Neural Network Accuracy: \", accuracy)"
   ]
  },
  {
   "attachments": {},
   "cell_type": "markdown",
   "metadata": {},
   "source": [
    "## 6. Model Evaluation"
   ]
  },
  {
   "cell_type": "code",
   "execution_count": null,
   "metadata": {},
   "outputs": [],
   "source": [
    "results_plot = pd.DataFrame(columns=['Model', 'Accuracy', 'Precision', 'Recall', 'F1-Score'])\n",
    "for row in results_dict:\n",
    "    results_plot = results_plot.append({\n",
    "        'Model': row['model'],\n",
    "        'Accuracy': row['accuracy'],\n",
    "        'Precision': row['precision'],\n",
    "        'Recall': row['recall'],\n",
    "        'F1-Score': row['f1-score']\n",
    "        }, ignore_index=True)"
   ]
  },
  {
   "cell_type": "code",
   "execution_count": null,
   "metadata": {},
   "outputs": [
    {
     "data": {
      "text/plain": [
       "Text(0, 0.5, 'Accuracy')"
      ]
     },
     "execution_count": 418,
     "metadata": {},
     "output_type": "execute_result"
    },
    {
     "data": {
      "image/png": "[encoded data removed]",
      "text/plain": [
       "<Figure size 2500x500 with 1 Axes>"
      ]
     },
     "metadata": {
      "needs_background": "light"
     },
     "output_type": "display_data"
    }
   ],
   "source": [
    "fig, ax = plt.subplots(figsize=(25, 5), dpi=100)\n",
    "sns.barplot(x=results_plot['Model'] , y=results_plot['Accuracy'], ax=ax, palette='Set2')\n",
    "ax.set_xlabel('Model', fontdict={'color':'black', 'weight':'bold', 'size': 16})\n",
    "ax.set_ylabel('Accuracy', fontdict={'color':'black', 'weight':'bold', 'size': 16})"
   ]
  },
  {
   "cell_type": "code",
   "execution_count": null,
   "metadata": {},
   "outputs": [
    {
     "data": {
      "text/plain": [
       "Text(0, 0.5, 'Precision')"
      ]
     },
     "execution_count": 419,
     "metadata": {},
     "output_type": "execute_result"
    },
    {
     "data": {
      "image/png": "[encoded data removed]",
      "text/plain": [
       "<Figure size 2500x500 with 1 Axes>"
      ]
     },
     "metadata": {
      "needs_background": "light"
     },
     "output_type": "display_data"
    }
   ],
   "source": [
    "fig, ax = plt.subplots(figsize=(25, 5), dpi=100)\n",
    "sns.barplot(x=results_plot['Model'] , y=results_plot['Precision'], ax=ax, palette='Set2')\n",
    "ax.set_xlabel('Model', fontdict={'color':'black', 'weight':'bold', 'size': 16})\n",
    "ax.set_ylabel('Precision', fontdict={'color':'black', 'weight':'bold', 'size': 16})"
   ]
  },
  {
   "cell_type": "code",
   "execution_count": null,
   "metadata": {},
   "outputs": [
    {
     "data": {
      "text/plain": [
       "Text(0, 0.5, 'Recall')"
      ]
     },
     "execution_count": 420,
     "metadata": {},
     "output_type": "execute_result"
    },
    {
     "data": {
      "image/png": "[encoded data removed]",
      "text/plain": [
       "<Figure size 2500x500 with 1 Axes>"
      ]
     },
     "metadata": {
      "needs_background": "light"
     },
     "output_type": "display_data"
    }
   ],
   "source": [
    "fig, ax = plt.subplots(figsize=(25, 5), dpi=100)\n",
    "sns.barplot(x=results_plot['Model'] , y=results_plot['Recall'], ax=ax, palette='Set2')\n",
    "ax.set_xlabel('Model', fontdict={'color':'black', 'weight':'bold', 'size': 16})\n",
    "ax.set_ylabel('Recall', fontdict={'color':'black', 'weight':'bold', 'size': 16})"
   ]
  },
  {
   "cell_type": "code",
   "execution_count": null,
   "metadata": {},
   "outputs": [
    {
     "data": {
      "text/plain": [
       "Text(0, 0.5, 'F1-Score')"
      ]
     },
     "execution_count": 421,
     "metadata": {},
     "output_type": "execute_result"
    },
    {
     "data": {
      "image/png": "[encoded data removed]",
      "text/plain": [
       "<Figure size 2500x500 with 1 Axes>"
      ]
     },
     "metadata": {
      "needs_background": "light"
     },
     "output_type": "display_data"
    }
   ],
   "source": [
    "fig, ax = plt.subplots(figsize=(25, 5), dpi=100)\n",
    "sns.barplot(x=results_plot['Model'] , y=results_plot['F1-Score'], ax=ax, palette='Set2')\n",
    "ax.set_xlabel('Model', fontdict={'color':'black', 'weight':'bold', 'size': 16})\n",
    "ax.set_ylabel('F1-Score', fontdict={'color':'black', 'weight':'bold', 'size': 16})"
   ]
  }
 ],
 "metadata": {
  "language_info": {
   "name": "python"
  },
  "orig_nbformat": 4
 },
 "nbformat": 4,
 "nbformat_minor": 2
}
