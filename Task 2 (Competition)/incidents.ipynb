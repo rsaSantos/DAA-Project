{
 "cells": [
  {
   "cell_type": "markdown",
   "metadata": {},
   "source": [
    "Notebook structure:\n",
    "- 1. Importing libraries\n",
    "- 2. Loading the dataset\n",
    "- 3. Exploratory Data Analysis\n",
    "- 4. Data Preprocessing\n",
    "- 5. Model Training\n",
    "- 6. Model Evaluation\n",
    "- 8. Conclusion Todo"
   ]
  },
  {
   "attachments": {},
   "cell_type": "markdown",
   "metadata": {},
   "source": [
    "## 1. Importing libraries"
   ]
  },
  {
   "cell_type": "code",
   "execution_count": 251,
   "metadata": {},
   "outputs": [],
   "source": [
    "import pandas as pd\n",
    "import pandas_profiling\n",
    "import numpy as np\n",
    "import matplotlib.pyplot as plt\n",
    "import seaborn as sns\n",
    "import scipy.stats as stats\n",
    "from sklearn import preprocessing, tree, metrics, model_selection, linear_model\n",
    "from sklearn.model_selection import cross_val_score\n",
    "from sklearn.svm import SVC\n",
    "from sklearn.model_selection import GridSearchCV\n",
    "from sklearn.metrics import mean_squared_error, mean_absolute_error, r2_score\n",
    "from sklearn.preprocessing import StandardScaler, RobustScaler, PowerTransformer, MinMaxScaler, LabelEncoder\n",
    "from sklearn.neural_network import MLPClassifier\n",
    "from sklearn.neighbors import KNeighborsClassifier\n",
    "from sklearn.svm import SVC\n",
    "from sklearn.gaussian_process import GaussianProcessClassifier\n",
    "from sklearn.gaussian_process.kernels import RBF\n",
    "from sklearn.tree import DecisionTreeClassifier\n",
    "from sklearn.ensemble import RandomForestClassifier, AdaBoostClassifier\n",
    "from sklearn.naive_bayes import GaussianNB\n",
    "from sklearn.discriminant_analysis import QuadraticDiscriminantAnalysis\n",
    "from sklearn.metrics import accuracy_score\n",
    "\n",
    "import xgboost as xgb\n",
    "import tensorflow as tf\n",
    "import datetime\n",
    "import random\n",
    "\n",
    "\n",
    "# Lois\n",
    "from lois import lois_ds_report\n",
    "%matplotlib inline"
   ]
  },
  {
   "attachments": {},
   "cell_type": "markdown",
   "metadata": {},
   "source": [
    "## 2. Loading the dataset"
   ]
  },
  {
   "cell_type": "code",
   "execution_count": 252,
   "metadata": {},
   "outputs": [],
   "source": [
    "train_data = pd.read_csv('data/training_data.csv')\n",
    "test_data = pd.read_csv('data/test_data.csv')\n",
    "\n",
    "# Add a \"fake target\" column to the test data\n",
    "test_data['incidents'] = \"test-only\"\n",
    "\n",
    "# Concatenate the training and test data\n",
    "dataset = pd.concat([train_data, test_data], axis=0)"
   ]
  },
  {
   "attachments": {},
   "cell_type": "markdown",
   "metadata": {},
   "source": [
    "## 3. Exploratory Data Analysis"
   ]
  },
  {
   "cell_type": "code",
   "execution_count": 253,
   "metadata": {},
   "outputs": [
    {
     "data": {
      "text/html": [
       "<pre style=\"white-space:pre;overflow-x:auto;line-height:normal;font-family:Menlo,'DejaVu Sans Mono',consolas,'Courier New',monospace\">╭─────────────────────────────────────────── Exploratory Data Anlysis ────────────────────────────────────────────╮\n",
       "│                                                                                                                 │\n",
       "╰──────────────────────────────────── EDA|simple| Suitable for data scientist ────────────────────────────────────╯\n",
       "</pre>\n"
      ],
      "text/plain": [
       "╭─────────────────────────────────────────── Exploratory Data Anlysis ────────────────────────────────────────────╮\n",
       "│                                                                                                                 │\n",
       "╰──────────────────────────────────── EDA|simple| Suitable for data scientist ────────────────────────────────────╯\n"
      ]
     },
     "metadata": {},
     "output_type": "display_data"
    },
    {
     "data": {
      "text/html": [
       "<pre style=\"white-space:pre;overflow-x:auto;line-height:normal;font-family:Menlo,'DejaVu Sans Mono',consolas,'Courier New',monospace\">Shape Analysis\n",
       "┗━━ Dataset Shape Analysis\n",
       "    ┣━━ Dataset head\n",
       "    ┣━━ General info \n",
       "    ┣━━ The target variable\n",
       "    ┣━━ Number of rows and columns\n",
       "    ┣━━ The different data types\n",
       "    ┃   ┣━━ The sum of different variable type\n",
       "    ┃   ┗━━ Visual representation of different variable type\n",
       "    ┗━━ Analyze missing value\n",
       "        ┣━━ The percentage of missing value in each columns\n",
       "        ┣━━ The missing value counts\n",
       "        ┗━━ Visual representation of missing value\n",
       "</pre>\n"
      ],
      "text/plain": [
       "Shape Analysis\n",
       "┗━━ Dataset Shape Analysis\n",
       "    ┣━━ Dataset head\n",
       "    ┣━━ General info \n",
       "    ┣━━ The target variable\n",
       "    ┣━━ Number of rows and columns\n",
       "    ┣━━ The different data types\n",
       "    ┃   ┣━━ The sum of different variable type\n",
       "    ┃   ┗━━ Visual representation of different variable type\n",
       "    ┗━━ Analyze missing value\n",
       "        ┣━━ The percentage of missing value in each columns\n",
       "        ┣━━ The missing value counts\n",
       "        ┗━━ Visual representation of missing value\n"
      ]
     },
     "metadata": {},
     "output_type": "display_data"
    },
    {
     "data": {
      "text/html": [
       "<pre style=\"white-space:pre;overflow-x:auto;line-height:normal;font-family:Menlo,'DejaVu Sans Mono',consolas,'Courier New',monospace\">╭──────────────────────────────────────────── DATASET SHAPE ANALYSIS ─────────────────────────────────────────────╮\n",
       "│                                                                                                                 │\n",
       "╰─────────────────────────────────────────────────────────────────────────────────────────────────────────────────╯\n",
       "</pre>\n"
      ],
      "text/plain": [
       "╭──────────────────────────────────────────── DATASET SHAPE ANALYSIS ─────────────────────────────────────────────╮\n",
       "│                                                                                                                 │\n",
       "╰─────────────────────────────────────────────────────────────────────────────────────────────────────────────────╯\n"
      ]
     },
     "metadata": {},
     "output_type": "display_data"
    },
    {
     "data": {
      "text/html": [
       "<pre style=\"white-space:pre;overflow-x:auto;line-height:normal;font-family:Menlo,'DejaVu Sans Mono',consolas,'Courier New',monospace\">                        -------------------- THE HEAD OF YOUR DATASET --------------------                         \n",
       "</pre>\n"
      ],
      "text/plain": [
       "                        -------------------- THE HEAD OF YOUR DATASET --------------------                         \n"
      ]
     },
     "metadata": {},
     "output_type": "display_data"
    },
    {
     "data": {
      "text/html": [
       "<pre style=\"white-space:pre;overflow-x:auto;line-height:normal;font-family:Menlo,'DejaVu Sans Mono',consolas,'Courier New',monospace\">Your dataset is too large ; only the first <span style=\"color: #008080; text-decoration-color: #008080; font-weight: bold\">8</span> columns will be display\n",
       "</pre>\n"
      ],
      "text/plain": [
       "Your dataset is too large ; only the first \u001b[1;36m8\u001b[0m columns will be display\n"
      ]
     },
     "metadata": {},
     "output_type": "display_data"
    },
    {
     "data": {
      "text/html": [
       "<pre style=\"white-space:pre;overflow-x:auto;line-height:normal;font-family:Menlo,'DejaVu Sans Mono',consolas,'Courier New',monospace\"><span style=\"font-style: italic\">                                                    The Dataset                                                    </span>\n",
       "┏━━━━━━━┳━━━━━━━━━━━━━━━━┳━━━━━━━━━━━━━━┳━━━━━━━━━━━━┳━━━━━━━━━┳━━━━━━━━┳━━━━━━━━━━━━━━┳━━━━━━━━━━━━━━┳━━━━━━━━━━━┓\n",
       "┃<span style=\"font-weight: bold\"> city… </span>┃<span style=\"font-weight: bold\"> magnitude_of_… </span>┃<span style=\"font-weight: bold\"> delay_in_se… </span>┃<span style=\"font-weight: bold\"> affected_… </span>┃<span style=\"font-weight: bold\"> record… </span>┃<span style=\"font-weight: bold\"> lumin… </span>┃<span style=\"font-weight: bold\"> avg_tempera… </span>┃<span style=\"font-weight: bold\"> avg_atm_pre… </span>┃<span style=\"font-weight: bold\"> avg_humi… </span>┃\n",
       "┡━━━━━━━╇━━━━━━━━━━━━━━━━╇━━━━━━━━━━━━━━╇━━━━━━━━━━━━╇━━━━━━━━━╇━━━━━━━━╇━━━━━━━━━━━━━━╇━━━━━━━━━━━━━━╇━━━━━━━━━━━┩\n",
       "└───────┴────────────────┴──────────────┴────────────┴─────────┴────────┴──────────────┴──────────────┴───────────┘\n",
       "</pre>\n"
      ],
      "text/plain": [
       "\u001b[3m                                                    The Dataset                                                    \u001b[0m\n",
       "┏━━━━━━━┳━━━━━━━━━━━━━━━━┳━━━━━━━━━━━━━━┳━━━━━━━━━━━━┳━━━━━━━━━┳━━━━━━━━┳━━━━━━━━━━━━━━┳━━━━━━━━━━━━━━┳━━━━━━━━━━━┓\n",
       "┃\u001b[1m \u001b[0m\u001b[1mcity…\u001b[0m\u001b[1m \u001b[0m┃\u001b[1m \u001b[0m\u001b[1mmagnitude_of_…\u001b[0m\u001b[1m \u001b[0m┃\u001b[1m \u001b[0m\u001b[1mdelay_in_se…\u001b[0m\u001b[1m \u001b[0m┃\u001b[1m \u001b[0m\u001b[1maffected_…\u001b[0m\u001b[1m \u001b[0m┃\u001b[1m \u001b[0m\u001b[1mrecord…\u001b[0m\u001b[1m \u001b[0m┃\u001b[1m \u001b[0m\u001b[1mlumin…\u001b[0m\u001b[1m \u001b[0m┃\u001b[1m \u001b[0m\u001b[1mavg_tempera…\u001b[0m\u001b[1m \u001b[0m┃\u001b[1m \u001b[0m\u001b[1mavg_atm_pre…\u001b[0m\u001b[1m \u001b[0m┃\u001b[1m \u001b[0m\u001b[1mavg_humi…\u001b[0m\u001b[1m \u001b[0m┃\n",
       "┡━━━━━━━╇━━━━━━━━━━━━━━━━╇━━━━━━━━━━━━━━╇━━━━━━━━━━━━╇━━━━━━━━━╇━━━━━━━━╇━━━━━━━━━━━━━━╇━━━━━━━━━━━━━━╇━━━━━━━━━━━┩\n",
       "└───────┴────────────────┴──────────────┴────────────┴─────────┴────────┴──────────────┴──────────────┴───────────┘\n"
      ]
     },
     "metadata": {},
     "output_type": "display_data"
    },
    {
     "data": {
      "text/html": [
       "<pre style=\"white-space:pre;overflow-x:auto;line-height:normal;font-family:Menlo,'DejaVu Sans Mono',consolas,'Courier New',monospace\">                  -------------------- SOME GENERAL INFO ABOUT YOUR DATASET --------------------                   \n",
       "</pre>\n"
      ],
      "text/plain": [
       "                  -------------------- SOME GENERAL INFO ABOUT YOUR DATASET --------------------                   \n"
      ]
     },
     "metadata": {},
     "output_type": "display_data"
    },
    {
     "name": "stdout",
     "output_type": "stream",
     "text": [
      "<class 'pandas.core.frame.DataFrame'>\n",
      "Int64Index: 6206 entries, 0 to 1205\n",
      "Data columns (total 13 columns):\n",
      " #   Column              Non-Null Count  Dtype  \n",
      "---  ------              --------------  -----  \n",
      " 0   city_name           6206 non-null   object \n",
      " 1   magnitude_of_delay  6206 non-null   object \n",
      " 2   delay_in_seconds    6206 non-null   int64  \n",
      " 3   affected_roads      6099 non-null   object \n",
      " 4   record_date         6206 non-null   object \n",
      " 5   luminosity          6206 non-null   object \n",
      " 6   avg_temperature     6206 non-null   float64\n",
      " 7   avg_atm_pressure    6206 non-null   float64\n",
      " 8   avg_humidity        6206 non-null   float64\n",
      " 9   avg_wind_speed      6206 non-null   float64\n",
      " 10  avg_precipitation   6206 non-null   float64\n",
      " 11  avg_rain            6206 non-null   object \n",
      " 12  incidents           6206 non-null   object \n",
      "dtypes: float64(5), int64(1), object(7)\n",
      "memory usage: 678.8+ KB\n"
     ]
    },
    {
     "data": {
      "text/html": [
       "<pre style=\"white-space:pre;overflow-x:auto;line-height:normal;font-family:Menlo,'DejaVu Sans Mono',consolas,'Courier New',monospace\">                   -------------------- THE TARGET VARIABLE OF YOUR DATASET --------------------                   \n",
       "</pre>\n"
      ],
      "text/plain": [
       "                   -------------------- THE TARGET VARIABLE OF YOUR DATASET --------------------                   \n"
      ]
     },
     "metadata": {},
     "output_type": "display_data"
    },
    {
     "data": {
      "text/html": [
       "<pre style=\"white-space:pre;overflow-x:auto;line-height:normal;font-family:Menlo,'DejaVu Sans Mono',consolas,'Courier New',monospace\">╭───────────────────────────────────────╮\n",
       "│ The Target variable is : 'incidents'  │\n",
       "╰───────────────────────────────────────╯\n",
       "</pre>\n"
      ],
      "text/plain": [
       "╭───────────────────────────────────────╮\n",
       "│ The Target variable is : 'incidents'  │\n",
       "╰───────────────────────────────────────╯\n"
      ]
     },
     "metadata": {},
     "output_type": "display_data"
    },
    {
     "data": {
      "text/html": [
       "<pre style=\"white-space:pre;overflow-x:auto;line-height:normal;font-family:Menlo,'DejaVu Sans Mono',consolas,'Courier New',monospace\">                    -------------------- ROWS AND COLUMNS IN YOUR DATASET --------------------                     \n",
       "</pre>\n"
      ],
      "text/plain": [
       "                    -------------------- ROWS AND COLUMNS IN YOUR DATASET --------------------                     \n"
      ]
     },
     "metadata": {},
     "output_type": "display_data"
    },
    {
     "data": {
      "text/html": [
       "<pre style=\"white-space:pre;overflow-x:auto;line-height:normal;font-family:Menlo,'DejaVu Sans Mono',consolas,'Courier New',monospace\">╭─ Shape output ─╮\n",
       "│ (6206, 13)     │\n",
       "╰────────────────╯\n",
       "</pre>\n"
      ],
      "text/plain": [
       "╭─ Shape output ─╮\n",
       "│ (6206, 13)     │\n",
       "╰────────────────╯\n"
      ]
     },
     "metadata": {},
     "output_type": "display_data"
    },
    {
     "data": {
      "text/html": [
       "<pre style=\"white-space:pre;overflow-x:auto;line-height:normal;font-family:Menlo,'DejaVu Sans Mono',consolas,'Courier New',monospace\">╭────────────────────────────────────────────────╮\n",
       "│ Your dataset contains 6206 Rows and 13 Columns │\n",
       "╰────────────────────────────────────────────────╯\n",
       "</pre>\n"
      ],
      "text/plain": [
       "╭────────────────────────────────────────────────╮\n",
       "│ Your dataset contains 6206 Rows and 13 Columns │\n",
       "╰────────────────────────────────────────────────╯\n"
      ]
     },
     "metadata": {},
     "output_type": "display_data"
    },
    {
     "data": {
      "text/html": [
       "<pre style=\"white-space:pre;overflow-x:auto;line-height:normal;font-family:Menlo,'DejaVu Sans Mono',consolas,'Courier New',monospace\">                     -------------------- THE DATA TYPES IN YOUR DATASET --------------------                      \n",
       "</pre>\n"
      ],
      "text/plain": [
       "                     -------------------- THE DATA TYPES IN YOUR DATASET --------------------                      \n"
      ]
     },
     "metadata": {},
     "output_type": "display_data"
    },
    {
     "data": {
      "text/html": [
       "<pre style=\"white-space:pre;overflow-x:auto;line-height:normal;font-family:Menlo,'DejaVu Sans Mono',consolas,'Courier New',monospace\">╭─ Data types output ─╮\n",
       "│ object     7        │\n",
       "│ float64    5        │\n",
       "│ int64      1        │\n",
       "│ dtype: int64        │\n",
       "╰─────────────────────╯\n",
       "</pre>\n"
      ],
      "text/plain": [
       "╭─ Data types output ─╮\n",
       "│ object     7        │\n",
       "│ float64    5        │\n",
       "│ int64      1        │\n",
       "│ dtype: int64        │\n",
       "╰─────────────────────╯\n"
      ]
     },
     "metadata": {},
     "output_type": "display_data"
    },
    {
     "data": {
      "image/png": "[encoded data removed]",
      "text/plain": [
       "<Figure size 288x288 with 1 Axes>"
      ]
     },
     "metadata": {},
     "output_type": "display_data"
    },
    {
     "data": {
      "text/html": [
       "<pre style=\"white-space:pre;overflow-x:auto;line-height:normal;font-family:Menlo,'DejaVu Sans Mono',consolas,'Courier New',monospace\">                      -------------------- MISSING VALUE IN YOUR DATASET --------------------                      \n",
       "</pre>\n"
      ],
      "text/plain": [
       "                      -------------------- MISSING VALUE IN YOUR DATASET --------------------                      \n"
      ]
     },
     "metadata": {},
     "output_type": "display_data"
    },
    {
     "data": {
      "text/html": [
       "<pre style=\"white-space:pre;overflow-x:auto;line-height:normal;font-family:Menlo,'DejaVu Sans Mono',consolas,'Courier New',monospace\">╭───── Missing value output ─────╮\n",
       "│ city_name             0.000000 │\n",
       "│ magnitude_of_delay    0.000000 │\n",
       "│ delay_in_seconds      0.000000 │\n",
       "│ record_date           0.000000 │\n",
       "│ luminosity            0.000000 │\n",
       "│ avg_temperature       0.000000 │\n",
       "│ avg_atm_pressure      0.000000 │\n",
       "│ avg_humidity          0.000000 │\n",
       "│ avg_wind_speed        0.000000 │\n",
       "│ avg_precipitation     0.000000 │\n",
       "│ avg_rain              0.000000 │\n",
       "│ incidents             0.000000 │\n",
       "│ affected_roads        0.017241 │\n",
       "│ dtype: float64                 │\n",
       "╰────────────────────────────────╯\n",
       "</pre>\n"
      ],
      "text/plain": [
       "╭───── Missing value output ─────╮\n",
       "│ city_name             0.000000 │\n",
       "│ magnitude_of_delay    0.000000 │\n",
       "│ delay_in_seconds      0.000000 │\n",
       "│ record_date           0.000000 │\n",
       "│ luminosity            0.000000 │\n",
       "│ avg_temperature       0.000000 │\n",
       "│ avg_atm_pressure      0.000000 │\n",
       "│ avg_humidity          0.000000 │\n",
       "│ avg_wind_speed        0.000000 │\n",
       "│ avg_precipitation     0.000000 │\n",
       "│ avg_rain              0.000000 │\n",
       "│ incidents             0.000000 │\n",
       "│ affected_roads        0.017241 │\n",
       "│ dtype: float64                 │\n",
       "╰────────────────────────────────╯\n"
      ]
     },
     "metadata": {},
     "output_type": "display_data"
    },
    {
     "data": {
      "text/html": [
       "<pre style=\"white-space:pre;overflow-x:auto;line-height:normal;font-family:Menlo,'DejaVu Sans Mono',consolas,'Courier New',monospace\">╭─ Missing value counts output ─╮\n",
       "│ 0.017241     1                │\n",
       "│ 0.000000    12                │\n",
       "│ dtype: int64                  │\n",
       "╰───────────────────────────────╯\n",
       "</pre>\n"
      ],
      "text/plain": [
       "╭─ Missing value counts output ─╮\n",
       "│ 0.017241     1                │\n",
       "│ 0.000000    12                │\n",
       "│ dtype: int64                  │\n",
       "╰───────────────────────────────╯\n"
      ]
     },
     "metadata": {},
     "output_type": "display_data"
    },
    {
     "data": {
      "image/png": "[encoded data removed]",
      "text/plain": [
       "<Figure size 360x288 with 2 Axes>"
      ]
     },
     "metadata": {
      "needs_background": "light"
     },
     "output_type": "display_data"
    },
    {
     "data": {
      "text/html": [
       "<pre style=\"white-space:pre;overflow-x:auto;line-height:normal;font-family:Menlo,'DejaVu Sans Mono',consolas,'Courier New',monospace\">                                   #################### END ####################                                   \n",
       "</pre>\n"
      ],
      "text/plain": [
       "                                   #################### END ####################                                   \n"
      ]
     },
     "metadata": {},
     "output_type": "display_data"
    }
   ],
   "source": [
    "lois_ds_report(dataset,target_variable=\"incidents\")"
   ]
  },
  {
   "cell_type": "code",
   "execution_count": 254,
   "metadata": {},
   "outputs": [
    {
     "data": {
      "text/html": [
       "<div>\n",
       "<style scoped>\n",
       "    .dataframe tbody tr th:only-of-type {\n",
       "        vertical-align: middle;\n",
       "    }\n",
       "\n",
       "    .dataframe tbody tr th {\n",
       "        vertical-align: top;\n",
       "    }\n",
       "\n",
       "    .dataframe thead th {\n",
       "        text-align: right;\n",
       "    }\n",
       "</style>\n",
       "<table border=\"1\" class=\"dataframe\">\n",
       "  <thead>\n",
       "    <tr style=\"text-align: right;\">\n",
       "      <th></th>\n",
       "      <th>city_name</th>\n",
       "      <th>magnitude_of_delay</th>\n",
       "      <th>delay_in_seconds</th>\n",
       "      <th>affected_roads</th>\n",
       "      <th>record_date</th>\n",
       "      <th>luminosity</th>\n",
       "      <th>avg_temperature</th>\n",
       "      <th>avg_atm_pressure</th>\n",
       "      <th>avg_humidity</th>\n",
       "      <th>avg_wind_speed</th>\n",
       "      <th>avg_precipitation</th>\n",
       "      <th>avg_rain</th>\n",
       "      <th>incidents</th>\n",
       "    </tr>\n",
       "  </thead>\n",
       "  <tbody>\n",
       "    <tr>\n",
       "      <th>0</th>\n",
       "      <td>Guimaraes</td>\n",
       "      <td>UNDEFINED</td>\n",
       "      <td>0</td>\n",
       "      <td>,</td>\n",
       "      <td>2021-03-15 23:00</td>\n",
       "      <td>DARK</td>\n",
       "      <td>12.0</td>\n",
       "      <td>1013.0</td>\n",
       "      <td>70.0</td>\n",
       "      <td>1.0</td>\n",
       "      <td>0.0</td>\n",
       "      <td>Sem Chuva</td>\n",
       "      <td>None</td>\n",
       "    </tr>\n",
       "    <tr>\n",
       "      <th>1</th>\n",
       "      <td>Guimaraes</td>\n",
       "      <td>UNDEFINED</td>\n",
       "      <td>385</td>\n",
       "      <td>N101,</td>\n",
       "      <td>2021-12-25 18:00</td>\n",
       "      <td>DARK</td>\n",
       "      <td>12.0</td>\n",
       "      <td>1007.0</td>\n",
       "      <td>91.0</td>\n",
       "      <td>1.0</td>\n",
       "      <td>0.0</td>\n",
       "      <td>Sem Chuva</td>\n",
       "      <td>None</td>\n",
       "    </tr>\n",
       "    <tr>\n",
       "      <th>2</th>\n",
       "      <td>Guimaraes</td>\n",
       "      <td>UNDEFINED</td>\n",
       "      <td>69</td>\n",
       "      <td>,</td>\n",
       "      <td>2021-03-12 15:00</td>\n",
       "      <td>LIGHT</td>\n",
       "      <td>14.0</td>\n",
       "      <td>1025.0</td>\n",
       "      <td>64.0</td>\n",
       "      <td>0.0</td>\n",
       "      <td>0.0</td>\n",
       "      <td>Sem Chuva</td>\n",
       "      <td>Low</td>\n",
       "    </tr>\n",
       "    <tr>\n",
       "      <th>3</th>\n",
       "      <td>Guimaraes</td>\n",
       "      <td>MAJOR</td>\n",
       "      <td>2297</td>\n",
       "      <td>N101,R206,N105,N101,N101,N101,N101,N101,N101,N...</td>\n",
       "      <td>2021-09-29 09:00</td>\n",
       "      <td>LIGHT</td>\n",
       "      <td>15.0</td>\n",
       "      <td>1028.0</td>\n",
       "      <td>75.0</td>\n",
       "      <td>1.0</td>\n",
       "      <td>0.0</td>\n",
       "      <td>Sem Chuva</td>\n",
       "      <td>Very_High</td>\n",
       "    </tr>\n",
       "    <tr>\n",
       "      <th>4</th>\n",
       "      <td>Guimaraes</td>\n",
       "      <td>UNDEFINED</td>\n",
       "      <td>0</td>\n",
       "      <td>N101,N101,N101,N101,N101,</td>\n",
       "      <td>2021-06-13 11:00</td>\n",
       "      <td>LIGHT</td>\n",
       "      <td>27.0</td>\n",
       "      <td>1020.0</td>\n",
       "      <td>52.0</td>\n",
       "      <td>1.0</td>\n",
       "      <td>0.0</td>\n",
       "      <td>Sem Chuva</td>\n",
       "      <td>High</td>\n",
       "    </tr>\n",
       "  </tbody>\n",
       "</table>\n",
       "</div>"
      ],
      "text/plain": [
       "   city_name magnitude_of_delay  delay_in_seconds  \\\n",
       "0  Guimaraes          UNDEFINED                 0   \n",
       "1  Guimaraes          UNDEFINED               385   \n",
       "2  Guimaraes          UNDEFINED                69   \n",
       "3  Guimaraes              MAJOR              2297   \n",
       "4  Guimaraes          UNDEFINED                 0   \n",
       "\n",
       "                                      affected_roads       record_date  \\\n",
       "0                                                  ,  2021-03-15 23:00   \n",
       "1                                              N101,  2021-12-25 18:00   \n",
       "2                                                  ,  2021-03-12 15:00   \n",
       "3  N101,R206,N105,N101,N101,N101,N101,N101,N101,N...  2021-09-29 09:00   \n",
       "4                          N101,N101,N101,N101,N101,  2021-06-13 11:00   \n",
       "\n",
       "  luminosity  avg_temperature  avg_atm_pressure  avg_humidity  avg_wind_speed  \\\n",
       "0       DARK             12.0            1013.0          70.0             1.0   \n",
       "1       DARK             12.0            1007.0          91.0             1.0   \n",
       "2      LIGHT             14.0            1025.0          64.0             0.0   \n",
       "3      LIGHT             15.0            1028.0          75.0             1.0   \n",
       "4      LIGHT             27.0            1020.0          52.0             1.0   \n",
       "\n",
       "   avg_precipitation   avg_rain  incidents  \n",
       "0                0.0  Sem Chuva       None  \n",
       "1                0.0  Sem Chuva       None  \n",
       "2                0.0  Sem Chuva        Low  \n",
       "3                0.0  Sem Chuva  Very_High  \n",
       "4                0.0  Sem Chuva       High  "
      ]
     },
     "execution_count": 254,
     "metadata": {},
     "output_type": "execute_result"
    }
   ],
   "source": [
    "dataset.head()"
   ]
  },
  {
   "cell_type": "code",
   "execution_count": 255,
   "metadata": {},
   "outputs": [
    {
     "data": {
      "text/html": [
       "<div>\n",
       "<style scoped>\n",
       "    .dataframe tbody tr th:only-of-type {\n",
       "        vertical-align: middle;\n",
       "    }\n",
       "\n",
       "    .dataframe tbody tr th {\n",
       "        vertical-align: top;\n",
       "    }\n",
       "\n",
       "    .dataframe thead th {\n",
       "        text-align: right;\n",
       "    }\n",
       "</style>\n",
       "<table border=\"1\" class=\"dataframe\">\n",
       "  <thead>\n",
       "    <tr style=\"text-align: right;\">\n",
       "      <th></th>\n",
       "      <th>delay_in_seconds</th>\n",
       "      <th>avg_temperature</th>\n",
       "      <th>avg_atm_pressure</th>\n",
       "      <th>avg_humidity</th>\n",
       "      <th>avg_wind_speed</th>\n",
       "      <th>avg_precipitation</th>\n",
       "    </tr>\n",
       "  </thead>\n",
       "  <tbody>\n",
       "    <tr>\n",
       "      <th>count</th>\n",
       "      <td>6206.000000</td>\n",
       "      <td>6206.000000</td>\n",
       "      <td>6206.000000</td>\n",
       "      <td>6206.000000</td>\n",
       "      <td>6206.000000</td>\n",
       "      <td>6206.0</td>\n",
       "    </tr>\n",
       "    <tr>\n",
       "      <th>mean</th>\n",
       "      <td>561.444086</td>\n",
       "      <td>14.595875</td>\n",
       "      <td>1018.121656</td>\n",
       "      <td>74.340477</td>\n",
       "      <td>1.268853</td>\n",
       "      <td>0.0</td>\n",
       "    </tr>\n",
       "    <tr>\n",
       "      <th>std</th>\n",
       "      <td>1667.344871</td>\n",
       "      <td>4.795352</td>\n",
       "      <td>5.206504</td>\n",
       "      <td>17.204386</td>\n",
       "      <td>1.283545</td>\n",
       "      <td>0.0</td>\n",
       "    </tr>\n",
       "    <tr>\n",
       "      <th>min</th>\n",
       "      <td>0.000000</td>\n",
       "      <td>1.000000</td>\n",
       "      <td>997.000000</td>\n",
       "      <td>6.000000</td>\n",
       "      <td>0.000000</td>\n",
       "      <td>0.0</td>\n",
       "    </tr>\n",
       "    <tr>\n",
       "      <th>25%</th>\n",
       "      <td>0.000000</td>\n",
       "      <td>11.000000</td>\n",
       "      <td>1015.000000</td>\n",
       "      <td>63.000000</td>\n",
       "      <td>0.000000</td>\n",
       "      <td>0.0</td>\n",
       "    </tr>\n",
       "    <tr>\n",
       "      <th>50%</th>\n",
       "      <td>0.000000</td>\n",
       "      <td>14.000000</td>\n",
       "      <td>1019.000000</td>\n",
       "      <td>78.000000</td>\n",
       "      <td>1.000000</td>\n",
       "      <td>0.0</td>\n",
       "    </tr>\n",
       "    <tr>\n",
       "      <th>75%</th>\n",
       "      <td>240.000000</td>\n",
       "      <td>18.000000</td>\n",
       "      <td>1022.000000</td>\n",
       "      <td>90.000000</td>\n",
       "      <td>2.000000</td>\n",
       "      <td>0.0</td>\n",
       "    </tr>\n",
       "    <tr>\n",
       "      <th>max</th>\n",
       "      <td>31083.000000</td>\n",
       "      <td>35.000000</td>\n",
       "      <td>1032.000000</td>\n",
       "      <td>100.000000</td>\n",
       "      <td>10.000000</td>\n",
       "      <td>0.0</td>\n",
       "    </tr>\n",
       "  </tbody>\n",
       "</table>\n",
       "</div>"
      ],
      "text/plain": [
       "       delay_in_seconds  avg_temperature  avg_atm_pressure  avg_humidity  \\\n",
       "count       6206.000000      6206.000000       6206.000000   6206.000000   \n",
       "mean         561.444086        14.595875       1018.121656     74.340477   \n",
       "std         1667.344871         4.795352          5.206504     17.204386   \n",
       "min            0.000000         1.000000        997.000000      6.000000   \n",
       "25%            0.000000        11.000000       1015.000000     63.000000   \n",
       "50%            0.000000        14.000000       1019.000000     78.000000   \n",
       "75%          240.000000        18.000000       1022.000000     90.000000   \n",
       "max        31083.000000        35.000000       1032.000000    100.000000   \n",
       "\n",
       "       avg_wind_speed  avg_precipitation  \n",
       "count     6206.000000             6206.0  \n",
       "mean         1.268853                0.0  \n",
       "std          1.283545                0.0  \n",
       "min          0.000000                0.0  \n",
       "25%          0.000000                0.0  \n",
       "50%          1.000000                0.0  \n",
       "75%          2.000000                0.0  \n",
       "max         10.000000                0.0  "
      ]
     },
     "execution_count": 255,
     "metadata": {},
     "output_type": "execute_result"
    }
   ],
   "source": [
    "dataset.describe()"
   ]
  },
  {
   "attachments": {},
   "cell_type": "markdown",
   "metadata": {},
   "source": [
    "## 4. Data Preprocessing"
   ]
  },
  {
   "cell_type": "markdown",
   "metadata": {},
   "source": [
    "## Drop unecessary columns"
   ]
  },
  {
   "cell_type": "code",
   "execution_count": 256,
   "metadata": {},
   "outputs": [],
   "source": [
    "# Drop city name and avg_precipitation: always the same value\n",
    "dataset.drop('avg_precipitation', axis=1, inplace=True)\n",
    "dataset.drop('city_name', axis=1, inplace=True)"
   ]
  },
  {
   "attachments": {},
   "cell_type": "markdown",
   "metadata": {},
   "source": [
    "### Look for any Duplicated Rows"
   ]
  },
  {
   "cell_type": "code",
   "execution_count": 257,
   "metadata": {},
   "outputs": [
    {
     "name": "stdout",
     "output_type": "stream",
     "text": [
      "Number of duplicated rows: 0\n"
     ]
    }
   ],
   "source": [
    "# Is there any duplicated data?\n",
    "print(\"Number of duplicated rows: {}\".format(dataset.duplicated().sum()))"
   ]
  },
  {
   "attachments": {},
   "cell_type": "markdown",
   "metadata": {},
   "source": [
    "#### Handle Affected Roads"
   ]
  },
  {
   "cell_type": "code",
   "execution_count": 258,
   "metadata": {},
   "outputs": [],
   "source": [
    "# Column affected_roads is a list of roads that are affected by the incident.\n",
    "# Replace this column with the number of roads affected by the incident.\n",
    "# Iterate over the number of affected roads of each incident.\n",
    "def replace_affected_roads(data):\n",
    "    \n",
    "    for index, row in data.iterrows():\n",
    "        # Check if the value is NaN\n",
    "        split_roads = []\n",
    "        if not pd.isnull(row['affected_roads']):\n",
    "            split_roads = row['affected_roads'].split(',')\n",
    "        \n",
    "        # Remove empty strings\n",
    "        split_roads = list(filter(None, split_roads))\n",
    "        \n",
    "        # Remove duplicates\n",
    "        split_roads = list(dict.fromkeys(split_roads))\n",
    "        \n",
    "        data.at[index, 'affected_roads'] = len(split_roads)\n",
    "        \n",
    "    # Rename column\n",
    "    data['affected_roads'] = data['affected_roads'].astype('int64')\n",
    "    data.rename(columns={'affected_roads': 'number_of_affected_roads'}, inplace=True)\n",
    "    \n",
    "    return data\n",
    "\n",
    "if 'affected_roads' in dataset.columns:\n",
    "    dataset = replace_affected_roads(dataset)"
   ]
  },
  {
   "cell_type": "markdown",
   "metadata": {},
   "source": [
    "### Handle Categorical data"
   ]
  },
  {
   "cell_type": "code",
   "execution_count": 259,
   "metadata": {},
   "outputs": [
    {
     "name": "stdout",
     "output_type": "stream",
     "text": [
      "Column: magnitude_of_delay ----->  ['UNDEFINED' 'MAJOR' 'MODERATE']\n",
      "Column: luminosity ----->  ['DARK' 'LIGHT' 'LOW_LIGHT']\n",
      "Column: avg_rain ----->  ['Sem Chuva' 'chuva moderada' 'chuva fraca' 'chuva forte']\n",
      "Column: incidents ----->  ['None' 'Low' 'Very_High' 'High' 'Medium' 'test-only']\n"
     ]
    }
   ],
   "source": [
    "# There are 5 non-numeric columns: magnitude_of_delay, record_date, luminosity, avg_rain and incidents\n",
    "# See the different values of each column - exclude record_date, because it is a date (\\:)\n",
    "non_numeric_columns = ['magnitude_of_delay', 'luminosity', 'avg_rain', 'incidents']\n",
    "for column in non_numeric_columns:\n",
    "    print(\"Column: {}\".format(column), \"-----> \", dataset[column].unique())"
   ]
  },
  {
   "cell_type": "code",
   "execution_count": 260,
   "metadata": {},
   "outputs": [
    {
     "data": {
      "image/png": "[encoded data removed]",
      "text/plain": [
       "<Figure size 720x720 with 4 Axes>"
      ]
     },
     "metadata": {
      "needs_background": "light"
     },
     "output_type": "display_data"
    }
   ],
   "source": [
    "# Get the distribution of the non-numeric columns\n",
    "fig, axes = plt.subplots(nrows=2, ncols=2, figsize=(10, 10))\n",
    "for idx, column in enumerate(non_numeric_columns):\n",
    "    sns.countplot(x=column, data=dataset, ax=axes[idx // 2, idx % 2])\n",
    "plt.tight_layout()\n",
    "plt.show()"
   ]
  },
  {
   "attachments": {},
   "cell_type": "markdown",
   "metadata": {},
   "source": [
    "#### Magnitude of delay / Delay in Seconds"
   ]
  },
  {
   "cell_type": "code",
   "execution_count": 261,
   "metadata": {},
   "outputs": [
    {
     "data": {
      "text/plain": [
       "<AxesSubplot:xlabel='incidents', ylabel='count'>"
      ]
     },
     "execution_count": 261,
     "metadata": {},
     "output_type": "execute_result"
    },
    {
     "data": {
      "image/png": "[encoded data removed]",
      "text/plain": [
       "<Figure size 432x288 with 1 Axes>"
      ]
     },
     "metadata": {
      "needs_background": "light"
     },
     "output_type": "display_data"
    }
   ],
   "source": [
    "# Relation between \"MAJOR\" delays and the incidents\n",
    "sns.countplot(x='incidents', hue='magnitude_of_delay', data=dataset)"
   ]
  },
  {
   "cell_type": "code",
   "execution_count": 262,
   "metadata": {},
   "outputs": [
    {
     "name": "stdout",
     "output_type": "stream",
     "text": [
      "Number of UNDEFINED delays: 5344\n",
      "Number of MAJOR delays: 853\n",
      "Number of MODERATE delays: 9\n"
     ]
    },
    {
     "data": {
      "image/png": "[encoded data removed]",
      "text/plain": [
       "<Figure size 432x288 with 1 Axes>"
      ]
     },
     "metadata": {
      "needs_background": "light"
     },
     "output_type": "display_data"
    }
   ],
   "source": [
    "# Relation between magnitude of delay and delay in seconds\n",
    "sns.scatterplot(x='delay_in_seconds', y='magnitude_of_delay', data=dataset)\n",
    "\n",
    "# Count the UNDIFINED, MAJOR and MODERATE delays\n",
    "print(\"Number of UNDEFINED delays: {}\".format(dataset[dataset['magnitude_of_delay'] == 'UNDEFINED'].shape[0]))\n",
    "print(\"Number of MAJOR delays: {}\".format(dataset[dataset['magnitude_of_delay'] == 'MAJOR'].shape[0]))\n",
    "print(\"Number of MODERATE delays: {}\".format(dataset[dataset['magnitude_of_delay'] == 'MODERATE'].shape[0]))"
   ]
  },
  {
   "cell_type": "code",
   "execution_count": 263,
   "metadata": {},
   "outputs": [
    {
     "data": {
      "image/png": "[encoded data removed]",
      "text/plain": [
       "<Figure size 720x360 with 2 Axes>"
      ]
     },
     "metadata": {
      "needs_background": "light"
     },
     "output_type": "display_data"
    },
    {
     "name": "stdout",
     "output_type": "stream",
     "text": [
      "Average delay in seconds for UNDEFINED delays: 123.35778443113773\n",
      "Average delay in seconds for MODERATE delays: 2182.4444444444443\n",
      "Average delay in seconds for MAJOR delays: 3288.928487690504\n"
     ]
    }
   ],
   "source": [
    "# Get distribution of values of delay_in_seconds that have a magnitude_of_delay of \"MAJOR\" and \"UNDEFINED\"\n",
    "undefined_delay = dataset[dataset['magnitude_of_delay'] == 'UNDEFINED']\n",
    "major_delay = dataset[dataset['magnitude_of_delay'] == 'MAJOR']\n",
    "\n",
    "fig, axes = plt.subplots(nrows=1, ncols=2, figsize=(10, 5))\n",
    "undefined_delay['delay_in_seconds'].hist(ax=axes[0])\n",
    "major_delay['delay_in_seconds'].hist(ax=axes[1])\n",
    "plt.xlabel('Delay in seconds')\n",
    "plt.ylabel('Count')\n",
    "plt.show()\n",
    "\n",
    "# Print average delay in seconds for each magnitude of delay\n",
    "print(\"Average delay in seconds for UNDEFINED delays: {}\".format(undefined_delay['delay_in_seconds'].mean()))\n",
    "print(\"Average delay in seconds for MODERATE delays: {}\".format(dataset[dataset['magnitude_of_delay'] == 'MODERATE']['delay_in_seconds'].mean()))\n",
    "print(\"Average delay in seconds for MAJOR delays: {}\".format(major_delay['delay_in_seconds'].mean()))"
   ]
  },
  {
   "cell_type": "code",
   "execution_count": 264,
   "metadata": {},
   "outputs": [
    {
     "name": "stdout",
     "output_type": "stream",
     "text": [
      "Low          32\n",
      "test-only    10\n",
      "None          9\n",
      "Medium        2\n",
      "Name: incidents, dtype: int64\n"
     ]
    }
   ],
   "source": [
    "# Get count of the incidents that have a magnitude_of_delay of \"MAJOR\" per type...\n",
    "major_delay_zero = major_delay[major_delay['delay_in_seconds'] < 250]\n",
    "print(major_delay_zero['incidents'].value_counts())"
   ]
  },
  {
   "cell_type": "code",
   "execution_count": 265,
   "metadata": {},
   "outputs": [
    {
     "name": "stdout",
     "output_type": "stream",
     "text": [
      "Skewness (all): 6.044188264462225\n",
      "Skewness (non-zero): 3.8291844458228224\n"
     ]
    },
    {
     "data": {
      "image/png": "[encoded data removed]",
      "text/plain": [
       "<Figure size 360x360 with 1 Axes>"
      ]
     },
     "metadata": {
      "needs_background": "light"
     },
     "output_type": "display_data"
    }
   ],
   "source": [
    "# Plot the distribution of the 'delay_in_seconds' column non-zero values\n",
    "sns.displot(dataset[dataset['delay_in_seconds'] > 0]['delay_in_seconds'])\n",
    "print(\"Skewness (all): {}\".format(dataset['delay_in_seconds'].skew()))\n",
    "print(\"Skewness (non-zero): {}\".format(dataset[dataset['delay_in_seconds'] > 0]['delay_in_seconds'].skew()))"
   ]
  },
  {
   "cell_type": "code",
   "execution_count": 266,
   "metadata": {},
   "outputs": [
    {
     "data": {
      "image/png": "[encoded data removed]",
      "text/plain": [
       "<Figure size 360x360 with 1 Axes>"
      ]
     },
     "metadata": {
      "needs_background": "light"
     },
     "output_type": "display_data"
    }
   ],
   "source": [
    "if 'magnitude_of_delay' in dataset.columns:\n",
    "    # Map values no numeric\n",
    "    dict_magnitude_of_delay = {'UNDEFINED': 1, 'MODERATE':2, 'MAJOR':3}\n",
    "    dataset['magnitude_of_delay'] = dataset['magnitude_of_delay'].map(dict_magnitude_of_delay)\n",
    "    \n",
    "    # Multiply the 'delay_in_seconds' column by the 'magnitude_of_delay' column\n",
    "    #\n",
    "    # The reason for this is that the 'delay_in_seconds' column has a lot of zero values.\n",
    "    # The \"UNDEFINED\" has a delay of 0 seconds in 75% of the cases.\n",
    "    #  It has 94% of values under 10 minutes.\n",
    "    #\n",
    "    dataset['delay_in_seconds'] = dataset['delay_in_seconds'] * dataset['magnitude_of_delay']\n",
    "    \n",
    "    # Apply log transformation to the non-zero values of 'delay_in_seconds' column)\n",
    "    dataset.loc[dataset['delay_in_seconds'] > 0, 'delay_in_seconds'] = np.log(dataset.loc[dataset['delay_in_seconds'] > 0, 'delay_in_seconds'])\n",
    "    \n",
    "    # Scale the non-zero values of 'delay_in_seconds' column\n",
    "    scaler = MinMaxScaler()\n",
    "    dataset.loc[dataset['delay_in_seconds'] > 0, 'delay_in_seconds'] = scaler.fit_transform(dataset.loc[dataset['delay_in_seconds'] > 0, 'delay_in_seconds'].values.reshape(-1, 1))\n",
    "    \n",
    "    # Plot the distribution of the non-zero values of 'delay_in_seconds' column\n",
    "    sns.displot(dataset[dataset['delay_in_seconds'] > 0]['delay_in_seconds'])\n",
    "    \n",
    "    # Drop magnitude_of_delay column\n",
    "    dataset.drop('magnitude_of_delay', axis=1, inplace=True)\n",
    "    \n",
    "    # Rename column as 'delay_coefficient'\n",
    "    dataset.rename(columns={'delay_in_seconds': 'delay_coefficient'}, inplace=True)"
   ]
  },
  {
   "attachments": {},
   "cell_type": "markdown",
   "metadata": {},
   "source": [
    "#### categorizing time of day"
   ]
  },
  {
   "cell_type": "code",
   "execution_count": 267,
   "metadata": {},
   "outputs": [],
   "source": [
    "# Use the hour and month value as continuous variables\n",
    "# Create a binary variable for weekend or not\n",
    "def create_time_variables(dataset):\n",
    "    #add 2 column with the month and day from time_of_day\n",
    "    dataset['month'] = pd.DatetimeIndex(dataset['record_date']).month\n",
    "    dataset['day'] = pd.DatetimeIndex(dataset['record_date']).day\n",
    "    return dataset\n",
    "\n",
    "\n",
    "dataset = create_time_variables(dataset)\n",
    "\n",
    "dataset.drop('record_date', axis=1, inplace=True)"
   ]
  },
  {
   "cell_type": "code",
   "execution_count": 268,
   "metadata": {},
   "outputs": [
    {
     "data": {
      "text/plain": [
       "<AxesSubplot:>"
      ]
     },
     "execution_count": 268,
     "metadata": {},
     "output_type": "execute_result"
    },
    {
     "data": {
      "image/png": "[encoded data removed]",
      "text/plain": [
       "<Figure size 432x288 with 2 Axes>"
      ]
     },
     "metadata": {
      "needs_background": "light"
     },
     "output_type": "display_data"
    }
   ],
   "source": [
    "corr_matrix = dataset.corr()\n",
    "sns.heatmap(corr_matrix,square=True, annot=True)"
   ]
  },
  {
   "attachments": {},
   "cell_type": "markdown",
   "metadata": {},
   "source": [
    "#### Luminosity"
   ]
  },
  {
   "cell_type": "code",
   "execution_count": 269,
   "metadata": {},
   "outputs": [
    {
     "data": {
      "text/plain": [
       "DARK         3112\n",
       "LIGHT        2871\n",
       "LOW_LIGHT     223\n",
       "Name: luminosity, dtype: int64"
      ]
     },
     "execution_count": 269,
     "metadata": {},
     "output_type": "execute_result"
    }
   ],
   "source": [
    "# Count different values of the 'luminosity' column\n",
    "dataset['luminosity'].value_counts()"
   ]
  },
  {
   "cell_type": "code",
   "execution_count": 270,
   "metadata": {},
   "outputs": [
    {
     "name": "stdout",
     "output_type": "stream",
     "text": [
      "None         72\n",
      "High         52\n",
      "test-only    37\n",
      "Very_High    24\n",
      "Medium       21\n",
      "Low          17\n",
      "Name: incidents, dtype: int64\n"
     ]
    },
    {
     "data": {
      "text/plain": [
       "<AxesSubplot:xlabel='luminosity', ylabel='count'>"
      ]
     },
     "execution_count": 270,
     "metadata": {},
     "output_type": "execute_result"
    },
    {
     "data": {
      "image/png": "[encoded data removed]",
      "text/plain": [
       "<Figure size 432x288 with 1 Axes>"
      ]
     },
     "metadata": {
      "needs_background": "light"
     },
     "output_type": "display_data"
    }
   ],
   "source": [
    "# Relation between LOW_LIGHT 'luminosity' and 'incidents'\n",
    "low_luminosity = dataset[dataset['luminosity'] == 'LOW_LIGHT']\n",
    "print(low_luminosity['incidents'].value_counts())\n",
    "sns.countplot(x='luminosity', hue='incidents', data=low_luminosity)"
   ]
  },
  {
   "cell_type": "code",
   "execution_count": 271,
   "metadata": {},
   "outputs": [],
   "source": [
    "# None + Low = 87\n",
    "# High + Very High = 76\n",
    "#\n",
    "# The 'luminosity' column, when it is LOW_LIGHT, has a similar probability of having an incident or not.\n",
    "# So, whenever we find a LOW_LIGHT value, we will randomly assign a value of 0 or 1.\n",
    "#\n",
    "def binary_luminosity(value):\n",
    "    if value == 'LOW_LIGHT':\n",
    "        random.seed(2023) \n",
    "        return random.randint(0, 1)\n",
    "    elif value == 'DARK':\n",
    "        return 0\n",
    "    elif value == 'LIGHT':\n",
    "        return 1\n",
    "    else:\n",
    "        print(\"ERROR: Invalid value for 'luminosity' column: {}\".format(value))\n",
    "\n",
    "def non_binary_luminosity(value):\n",
    "    if value == 'DARK':\n",
    "        return 0\n",
    "    elif value == 'LOW_LIGHT':\n",
    "        return 1\n",
    "    elif value == 'LIGHT':\n",
    "        return 2\n",
    "    else:\n",
    "        print(\"ERROR: Invalid value for 'luminosity' column: {}\".format(value))\n",
    "\n",
    "\n",
    "if 'luminosity' in dataset.columns and dataset['luminosity'].dtype == 'object':\n",
    "    dataset['luminosity'] = dataset['luminosity'].apply(non_binary_luminosity)"
   ]
  },
  {
   "attachments": {},
   "cell_type": "markdown",
   "metadata": {},
   "source": [
    "#### Average Rain"
   ]
  },
  {
   "cell_type": "code",
   "execution_count": 272,
   "metadata": {},
   "outputs": [
    {
     "name": "stdout",
     "output_type": "stream",
     "text": [
      "Sem Chuva         5896\n",
      "chuva fraca        270\n",
      "chuva moderada      35\n",
      "chuva forte          5\n",
      "Name: avg_rain, dtype: int64\n"
     ]
    }
   ],
   "source": [
    "# Count different values of the 'avg_rain' column.\n",
    "print(dataset['avg_rain'].value_counts())"
   ]
  },
  {
   "cell_type": "code",
   "execution_count": 273,
   "metadata": {},
   "outputs": [
    {
     "name": "stdout",
     "output_type": "stream",
     "text": [
      "None         67\n",
      "test-only    56\n",
      "High         50\n",
      "Very_High    39\n",
      "Low          32\n",
      "Medium       26\n",
      "Name: incidents, dtype: int64\n"
     ]
    },
    {
     "data": {
      "text/plain": [
       "<AxesSubplot:xlabel='avg_rain', ylabel='count'>"
      ]
     },
     "execution_count": 273,
     "metadata": {},
     "output_type": "execute_result"
    },
    {
     "data": {
      "image/png": "[encoded data removed]",
      "text/plain": [
       "<Figure size 432x288 with 1 Axes>"
      ]
     },
     "metadata": {
      "needs_background": "light"
     },
     "output_type": "display_data"
    }
   ],
   "source": [
    "# Get the incidents per value of 'avg_rain'==chuva fraca\n",
    "chuva_fraca = dataset[dataset['avg_rain'] == 'chuva fraca']\n",
    "print(chuva_fraca['incidents'].value_counts())\n",
    "sns.countplot(x='avg_rain', hue='incidents', data=chuva_fraca)"
   ]
  },
  {
   "cell_type": "code",
   "execution_count": 274,
   "metadata": {},
   "outputs": [],
   "source": [
    "# Transform the 'avg_rain' column into binary values: rain/no rain\n",
    "def binary_rain(value):\n",
    "    if value == 'Sem Chuva':\n",
    "        return 0\n",
    "    else:\n",
    "        return 1\n",
    "\n",
    "def non_binary_rain(value):\n",
    "    if value == 'Sem Chuva':\n",
    "        return 0\n",
    "    elif value == 'chuva fraca':\n",
    "        return 1\n",
    "    elif value == 'chuva moderada':\n",
    "        return 2\n",
    "    elif value == 'chuva forte':\n",
    "        return 3\n",
    "\n",
    "# Average rain\n",
    "if 'avg_rain' in dataset.columns and dataset['avg_rain'].dtype == 'object':\n",
    "    dataset['avg_rain'] = dataset['avg_rain'].apply(non_binary_rain)"
   ]
  },
  {
   "attachments": {},
   "cell_type": "markdown",
   "metadata": {},
   "source": [
    "### Handle Non-Categorical Data"
   ]
  },
  {
   "attachments": {},
   "cell_type": "markdown",
   "metadata": {},
   "source": [
    "#### Helper Functions"
   ]
  },
  {
   "cell_type": "code",
   "execution_count": 275,
   "metadata": {},
   "outputs": [],
   "source": [
    "# Count the number of outliers per column with the IQR method; have an option to remove the outliers\n",
    "def count_outliers_IQR(data, column, remove_outliers=False, verbose=False):\n",
    "    # Calculate the 1st and 3rd quartile\n",
    "    q1 = data[column].quantile(0.25)\n",
    "    q3 = data[column].quantile(0.75)\n",
    "    # Calculate the IQR\n",
    "    IQR = q3 - q1\n",
    "    # Calculate the lower and upper bound\n",
    "    lower_bound = q1 - (1.5 * IQR)\n",
    "    upper_bound = q3 + (1.5 * IQR)\n",
    "    # Count the number of outliers\n",
    "    outliers = data[(data[column] < lower_bound) | (data[column] > upper_bound)]\n",
    "    if verbose:\n",
    "        print(\"Number of outliers for column {} is {}\".format(column, outliers.shape[0]))\n",
    "    # Remove the outliers\n",
    "    if remove_outliers:\n",
    "        number_of_rows_before = data.shape[0]\n",
    "        data = data[(data[column] > lower_bound) & (data[column] < upper_bound)]\n",
    "        print(\"Removed {} rows from the dataset\".format(number_of_rows_before - data.shape[0]))\n",
    "    return data\n",
    "\n",
    "# Count the number of outliers per column with the Z-score method; have an option to remove the outliers\n",
    "def count_outliers_Z_score(data, column, remove_outliers=False, verbose=False):\n",
    "    # Calculate the Z-score\n",
    "    z = np.abs(stats.zscore(data[column]))\n",
    "    # Count the number of outliers\n",
    "    outliers = data[z > 3]\n",
    "    if verbose:\n",
    "        print(\"Number of outliers for column {} is {}\".format(column, outliers.shape[0]))\n",
    "    # Remove the outliers\n",
    "    if remove_outliers:\n",
    "        number_of_rows_before = data.shape[0]\n",
    "        data = data[z < 3]\n",
    "        print(\"Removed {} rows from the dataset\".format(number_of_rows_before - data.shape[0]))\n",
    "    return data"
   ]
  },
  {
   "attachments": {},
   "cell_type": "markdown",
   "metadata": {},
   "source": [
    "#### Average Temperature"
   ]
  },
  {
   "cell_type": "code",
   "execution_count": 276,
   "metadata": {},
   "outputs": [
    {
     "name": "stdout",
     "output_type": "stream",
     "text": [
      "count    6206.000000\n",
      "mean       14.595875\n",
      "std         4.795352\n",
      "min         1.000000\n",
      "25%        11.000000\n",
      "50%        14.000000\n",
      "75%        18.000000\n",
      "max        35.000000\n",
      "Name: avg_temperature, dtype: float64\n",
      "Skewness: 0.5402003354292293\n"
     ]
    },
    {
     "data": {
      "image/png": "[encoded data removed]",
      "text/plain": [
       "<Figure size 360x360 with 1 Axes>"
      ]
     },
     "metadata": {
      "needs_background": "light"
     },
     "output_type": "display_data"
    }
   ],
   "source": [
    "# Distribution of the 'avg_temperature' column\n",
    "sns.displot(dataset['avg_temperature'])\n",
    "print(dataset['avg_temperature'].describe())\n",
    "print(\"Skewness: {}\".format(dataset['avg_temperature'].skew()))"
   ]
  },
  {
   "cell_type": "code",
   "execution_count": 277,
   "metadata": {},
   "outputs": [
    {
     "name": "stdout",
     "output_type": "stream",
     "text": [
      "Number of outliers for column avg_temperature is 50\n",
      "Number of outliers for column avg_temperature is 50\n",
      "\n",
      "Outlier ceil: 28.981930577131205\n",
      "Outlier floor: 0.20981934230160348\n",
      "count    6206.000000\n",
      "mean       14.595875\n",
      "std         4.795352\n",
      "min         1.000000\n",
      "25%        11.000000\n",
      "50%        14.000000\n",
      "75%        18.000000\n",
      "max        35.000000\n",
      "Name: avg_temperature, dtype: float64\n"
     ]
    },
    {
     "data": {
      "image/png": "[encoded data removed]",
      "text/plain": [
       "<Figure size 432x288 with 1 Axes>"
      ]
     },
     "metadata": {
      "needs_background": "light"
     },
     "output_type": "display_data"
    }
   ],
   "source": [
    "# Boxplot of the 'avg_temperature' column\n",
    "sns.boxplot(x=dataset['avg_temperature'])\n",
    "\n",
    "# Count the number of outliers for the 'avg_temperature' column\n",
    "count_outliers_IQR(dataset, 'avg_temperature', verbose=True, remove_outliers=False)\n",
    "count_outliers_Z_score(dataset, 'avg_temperature', verbose=True, remove_outliers=False)\n",
    "print()\n",
    "\n",
    "#  Get max and min values for the 'avg_temperature' column outliers using the Z-score method.\n",
    "max_value = dataset['avg_temperature'].mean() + 3 * dataset['avg_temperature'].std()\n",
    "min_value = dataset['avg_temperature'].mean() - 3 * dataset['avg_temperature'].std()\n",
    "\n",
    "print(\"Outlier ceil: {}\".format(max_value))\n",
    "print(\"Outlier floor: {}\".format(min_value))\n",
    "print(dataset['avg_temperature'].describe())"
   ]
  },
  {
   "cell_type": "code",
   "execution_count": 278,
   "metadata": {},
   "outputs": [
    {
     "name": "stdout",
     "output_type": "stream",
     "text": [
      "None         14\n",
      "Low          12\n",
      "Very_High     8\n",
      "High          7\n",
      "test-only     7\n",
      "Medium        2\n",
      "Name: incidents, dtype: int64\n"
     ]
    },
    {
     "data": {
      "image/png": "[encoded data removed]",
      "text/plain": [
       "<Figure size 432x288 with 1 Axes>"
      ]
     },
     "metadata": {
      "needs_background": "light"
     },
     "output_type": "display_data"
    }
   ],
   "source": [
    "# Let's check the relation between the 'avg_temperature' outliers and 'incidents' (grpahically)\n",
    "outliers = dataset[(dataset['avg_temperature'] > max_value)]\n",
    "print(outliers['incidents'].value_counts())\n",
    "sns.countplot(x='avg_temperature', hue='incidents', data=outliers)\n",
    "\n",
    "# There are 0.008% temperature outliers. It's not a lot.\n",
    "#  The temperatures are not that extreme and can be considered as valid data.\n",
    "# \n",
    "# Normalize the 'avg_temperature' column\n",
    "# The date is not extremely skewed, so we will use the MinMaxScaler.\n",
    "scaler = MinMaxScaler()\n",
    "dataset['avg_temperature'] = scaler.fit_transform(dataset['avg_temperature'].values.reshape(-1, 1))"
   ]
  },
  {
   "attachments": {},
   "cell_type": "markdown",
   "metadata": {},
   "source": [
    "#### Average Humidity"
   ]
  },
  {
   "cell_type": "code",
   "execution_count": 279,
   "metadata": {},
   "outputs": [
    {
     "name": "stdout",
     "output_type": "stream",
     "text": [
      "count    6206.000000\n",
      "mean       74.340477\n",
      "std        17.204386\n",
      "min         6.000000\n",
      "25%        63.000000\n",
      "50%        78.000000\n",
      "75%        90.000000\n",
      "max       100.000000\n",
      "Name: avg_humidity, dtype: float64\n",
      "Skewness: -0.7492086582905623\n"
     ]
    },
    {
     "data": {
      "image/png": "[encoded data removed]",
      "text/plain": [
       "<Figure size 360x360 with 1 Axes>"
      ]
     },
     "metadata": {
      "needs_background": "light"
     },
     "output_type": "display_data"
    }
   ],
   "source": [
    "# Distribution of the 'avg_humidity' column\n",
    "sns.displot(dataset['avg_humidity'])\n",
    "print(dataset['avg_humidity'].describe())\n",
    "print(\"Skewness: {}\".format(dataset['avg_humidity'].skew()))"
   ]
  },
  {
   "cell_type": "code",
   "execution_count": 280,
   "metadata": {},
   "outputs": [
    {
     "name": "stdout",
     "output_type": "stream",
     "text": [
      "Number of outliers for column avg_humidity is 11\n",
      "Number of outliers for column avg_humidity is 11\n",
      "\n",
      "3200     6.0\n",
      "3639     7.0\n",
      "716      7.0\n",
      "2999     8.0\n",
      "3245     8.0\n",
      "267     17.0\n",
      "2973    17.0\n",
      "4743    17.0\n",
      "4646    18.0\n",
      "402     20.0\n",
      "4182    21.0\n",
      "Name: avg_humidity, dtype: float64\n"
     ]
    },
    {
     "data": {
      "image/png": "[encoded data removed]",
      "text/plain": [
       "<Figure size 432x288 with 1 Axes>"
      ]
     },
     "metadata": {
      "needs_background": "light"
     },
     "output_type": "display_data"
    }
   ],
   "source": [
    "# Boxplot of the 'avg_humidity' column\n",
    "sns.boxplot(x=dataset['avg_humidity'])\n",
    "\n",
    "# Count the number of outliers for the 'avg_humidity' column\n",
    "count_outliers_IQR(dataset, 'avg_humidity', verbose=True, remove_outliers=False)\n",
    "count_outliers_Z_score(dataset, 'avg_humidity', verbose=True, remove_outliers=False)\n",
    "print()\n",
    "\n",
    "# Get 11 most small values for the 'avg_humidity' column.\n",
    "print(dataset['avg_humidity'].nsmallest(11))\n",
    "\n",
    "# Since the 'avg_humidity' column has a very reduced number of outliers, we will remove them.\n",
    "# Also, these values are not representative and occur only in specific circumstances.\n",
    "# For instance, the average humidity in the shaara desert is 25%.\n",
    "# In the antarctic, humidity is sometimes close to 0%.\n",
    "# But apparently, in Guimarães, the humidity can have values as low as 6.0%.\n",
    "dataset = count_outliers_IQR(dataset, 'avg_humidity', verbose=False, remove_outliers=False) # TODO Remove the outliers ?\n",
    "\n",
    "# Normalize the 'avg_humidity' column\n",
    "scaler = MinMaxScaler()\n",
    "dataset['avg_humidity'] = scaler.fit_transform(dataset['avg_humidity'].values.reshape(-1, 1))"
   ]
  },
  {
   "attachments": {},
   "cell_type": "markdown",
   "metadata": {},
   "source": [
    "#### Average Wind Speed"
   ]
  },
  {
   "cell_type": "code",
   "execution_count": 281,
   "metadata": {},
   "outputs": [
    {
     "name": "stdout",
     "output_type": "stream",
     "text": [
      "count    6206.000000\n",
      "mean        1.268853\n",
      "std         1.283545\n",
      "min         0.000000\n",
      "25%         0.000000\n",
      "50%         1.000000\n",
      "75%         2.000000\n",
      "max        10.000000\n",
      "Name: avg_wind_speed, dtype: float64\n",
      "Skewness: 1.3817984915729273\n"
     ]
    },
    {
     "data": {
      "image/png": "[encoded data removed]",
      "text/plain": [
       "<Figure size 360x360 with 1 Axes>"
      ]
     },
     "metadata": {
      "needs_background": "light"
     },
     "output_type": "display_data"
    }
   ],
   "source": [
    "# Distribution of the 'avg_wind_speed' column\n",
    "sns.displot(dataset['avg_wind_speed'])\n",
    "print(dataset['avg_wind_speed'].describe())\n",
    "print(\"Skewness: {}\".format(dataset['avg_wind_speed'].skew()))"
   ]
  },
  {
   "cell_type": "code",
   "execution_count": 282,
   "metadata": {},
   "outputs": [
    {
     "name": "stdout",
     "output_type": "stream",
     "text": [
      "Number of outliers for column avg_wind_speed is 63\n",
      "Number of outliers for column avg_wind_speed is 63\n",
      "\n"
     ]
    },
    {
     "data": {
      "image/png": "[encoded data removed]",
      "text/plain": [
       "<Figure size 432x288 with 1 Axes>"
      ]
     },
     "metadata": {
      "needs_background": "light"
     },
     "output_type": "display_data"
    }
   ],
   "source": [
    "# Boxplot of the 'avg_wind_speed' column\n",
    "sns.boxplot(x=dataset['avg_wind_speed'])\n",
    "\n",
    "# Count the number of outliers for the 'avg_wind_speed' column\n",
    "count_outliers_IQR(dataset, 'avg_wind_speed', verbose=True, remove_outliers=False)\n",
    "count_outliers_Z_score(dataset, 'avg_wind_speed', verbose=True, remove_outliers=False)\n",
    "print()\n",
    "\n",
    "# With this number of outliers, we will do nothing.\n",
    "# The values are not that extreme and can be considered as valid data.\n",
    "#\n",
    "# Since the data is not normally distributed, and is skewed to the right\n",
    "#  we will use a scaler that is not sensitive to outliers/normal distribution.\n",
    "#scaler = PowerTransformer()\n",
    "#dataset['avg_wind_speed'] = scaler.fit_transform(dataset['avg_wind_speed'].values.reshape(-1, 1))\n",
    "\n",
    "# Now that the data is more normally distributed, we can use the MinMaxScaler.\n",
    "scaler = MinMaxScaler()\n",
    "dataset['avg_wind_speed'] = scaler.fit_transform(dataset['avg_wind_speed'].values.reshape(-1, 1))"
   ]
  },
  {
   "attachments": {},
   "cell_type": "markdown",
   "metadata": {},
   "source": [
    "#### Average Pressure"
   ]
  },
  {
   "cell_type": "code",
   "execution_count": 283,
   "metadata": {},
   "outputs": [
    {
     "name": "stdout",
     "output_type": "stream",
     "text": [
      "count    6206.000000\n",
      "mean     1018.121656\n",
      "std         5.206504\n",
      "min       997.000000\n",
      "25%      1015.000000\n",
      "50%      1019.000000\n",
      "75%      1022.000000\n",
      "max      1032.000000\n",
      "Name: avg_atm_pressure, dtype: float64\n",
      "Skewness: -0.410711923939691\n"
     ]
    },
    {
     "data": {
      "image/png": "[encoded data removed]",
      "text/plain": [
       "<Figure size 360x360 with 1 Axes>"
      ]
     },
     "metadata": {
      "needs_background": "light"
     },
     "output_type": "display_data"
    }
   ],
   "source": [
    "# Distribution of the 'avg_atm_pressure' column\n",
    "sns.displot(dataset['avg_atm_pressure'])\n",
    "print(dataset['avg_atm_pressure'].describe())\n",
    "print(\"Skewness: {}\".format(dataset['avg_atm_pressure'].skew()))"
   ]
  },
  {
   "cell_type": "code",
   "execution_count": 284,
   "metadata": {},
   "outputs": [
    {
     "name": "stdout",
     "output_type": "stream",
     "text": [
      "Number of outliers for column avg_atm_pressure is 57\n",
      "Number of outliers for column avg_atm_pressure is 22\n"
     ]
    },
    {
     "data": {
      "image/png": "[encoded data removed]",
      "text/plain": [
       "<Figure size 432x288 with 1 Axes>"
      ]
     },
     "metadata": {
      "needs_background": "light"
     },
     "output_type": "display_data"
    }
   ],
   "source": [
    "# Boxplot of the 'avg_atm_pressure' column\n",
    "sns.boxplot(x=dataset['avg_atm_pressure'])\n",
    "\n",
    "# Count the number of outliers for the 'avg_atm_pressure' column\n",
    "count_outliers_IQR(dataset, 'avg_atm_pressure', verbose=True, remove_outliers=False)\n",
    "count_outliers_Z_score(dataset, 'avg_atm_pressure', verbose=True, remove_outliers=False)\n",
    "\n",
    "# The minimum value of 997 is not an abnormal value for the atmospheric pressure.\n",
    "# Since there are not many outliers, we will not remove them.\n",
    "# Also, the values are not that extreme and can be considered as valid data.\n",
    "#\n",
    "# Let's normalize the 'avg_atm_pressure' column\n",
    "scaler = MinMaxScaler()\n",
    "dataset['avg_atm_pressure'] = scaler.fit_transform(dataset['avg_atm_pressure'].values.reshape(-1, 1))"
   ]
  },
  {
   "cell_type": "code",
   "execution_count": 285,
   "metadata": {},
   "outputs": [
    {
     "data": {
      "text/plain": [
       "<AxesSubplot:>"
      ]
     },
     "execution_count": 285,
     "metadata": {},
     "output_type": "execute_result"
    },
    {
     "data": {
      "image/png": "[encoded data removed]",
      "text/plain": [
       "<Figure size 432x288 with 2 Axes>"
      ]
     },
     "metadata": {
      "needs_background": "light"
     },
     "output_type": "display_data"
    }
   ],
   "source": [
    "sns.heatmap(dataset.corr(), annot=True, fmt='.2f')"
   ]
  },
  {
   "attachments": {},
   "cell_type": "markdown",
   "metadata": {},
   "source": [
    "## 5. Models Training"
   ]
  },
  {
   "cell_type": "code",
   "execution_count": 286,
   "metadata": {},
   "outputs": [],
   "source": [
    "results_table = []\n",
    "results_dict = []"
   ]
  },
  {
   "attachments": {},
   "cell_type": "markdown",
   "metadata": {},
   "source": [
    "#### Helper Functions"
   ]
  },
  {
   "cell_type": "code",
   "execution_count": 287,
   "metadata": {},
   "outputs": [],
   "source": [
    "\"\"\" Save results to a file. \"\"\"\n",
    "def saveResults ( results, path ):\n",
    "    file = open(\"results/\" + path, 'w')\n",
    "    file.write (\"RowId,Incidents\\n\")\n",
    "    i = 1\n",
    "    for result in results :\n",
    "        file.write (str(i) + \",\" + result + \"\\n\")\n",
    "        i += 1"
   ]
  },
  {
   "cell_type": "code",
   "execution_count": 288,
   "metadata": {},
   "outputs": [],
   "source": [
    "def printOrWrite(model_name, predictions, results, results_to_test):\n",
    "    if results_to_test:\n",
    "        classification = metrics.classification_report(results, predictions, zero_division=0)\n",
    "        results_table.append({'model': model_name, 'table': classification})\n",
    "        classification_dict = metrics.classification_report(results, predictions, output_dict=True, zero_division=0)\n",
    "        results_dict.append({\n",
    "            'model': model_name,\n",
    "            'accuracy': classification_dict['accuracy'],\n",
    "            'precision': classification_dict['macro avg']['precision'],\n",
    "            'recall': classification_dict['macro avg']['recall'],\n",
    "            'f1-score': classification_dict['macro avg']['f1-score'],\n",
    "            })\n",
    "        print(model_name, \" Accuracy: \", metrics.accuracy_score(predictions, results))\n",
    "    else:\n",
    "        saveResults(predictions, model_name + '.csv')"
   ]
  },
  {
   "attachments": {},
   "cell_type": "markdown",
   "metadata": {},
   "source": [
    "#### Splitting the dataset"
   ]
  },
  {
   "cell_type": "code",
   "execution_count": 317,
   "metadata": {},
   "outputs": [],
   "source": [
    "# run for test or run for submission\n",
    "results_to_test = False\n",
    "\n",
    "# Copy the dataset\n",
    "train_df = dataset.copy()\n",
    "test_df = dataset.copy()\n",
    "\n",
    "# Filter the train and test data\n",
    "# Train data has the 'incidents' column value != 'test-only'\n",
    "# Test data has the 'incidents' column value == 'test-only'\n",
    "train_df = train_df[train_df['incidents'] != 'test-only']\n",
    "test_df = test_df[test_df['incidents'] == 'test-only']\n",
    "test_df.drop('incidents', axis=1, inplace=True)\n",
    "\n",
    "incidents = train_df['incidents'].copy()\n",
    "\n",
    "if results_to_test:\n",
    "    y = incidents\n",
    "    x = train_df.drop(['incidents'], axis=1)\n",
    "    x_training, x_testing, y_training, y_testing = model_selection.train_test_split(x, y, test_size=0.3, random_state=2022)\n",
    "\n",
    "else:\n",
    "    x_training = train_df.drop(['incidents'], axis=1)\n",
    "    y_training = incidents\n",
    "    x_testing = test_df\n",
    "    y_testing = None"
   ]
  },
  {
   "attachments": {},
   "cell_type": "markdown",
   "metadata": {},
   "source": [
    "### 5.1 Árvores de Decisão e Classificação"
   ]
  },
  {
   "cell_type": "code",
   "execution_count": 318,
   "metadata": {},
   "outputs": [],
   "source": [
    "dtc = tree.DecisionTreeClassifier(random_state=2023, criterion=\"gini\")\n",
    "dtc.fit(x_training,y_training)\n",
    "decision_trees_predictions = dtc.predict(x_testing)\n",
    "\n",
    "printOrWrite(\"DecisionTrees\", decision_trees_predictions, y_testing, results_to_test)"
   ]
  },
  {
   "attachments": {},
   "cell_type": "markdown",
   "metadata": {},
   "source": [
    "### 5.2 RandomForestClassifier"
   ]
  },
  {
   "cell_type": "code",
   "execution_count": 246,
   "metadata": {},
   "outputs": [],
   "source": [
    "random_forest = RandomForestClassifier(random_state=2023, n_estimators=600, criterion=\"gini\",warm_start=True)\n",
    "random_forest.fit(x_training, y_training)\n",
    "random_forest_predictions = random_forest.predict(x_testing)\n",
    "\n",
    "printOrWrite(\"RandomForest\", random_forest_predictions, y_testing, results_to_test)"
   ]
  },
  {
   "attachments": {},
   "cell_type": "markdown",
   "metadata": {},
   "source": [
    "### 5.3 Regressão Logística"
   ]
  },
  {
   "cell_type": "code",
   "execution_count": 1190,
   "metadata": {},
   "outputs": [],
   "source": [
    "logmodel = linear_model.LogisticRegression(C=1.0, class_weight=None, dual=False, fit_intercept=True,\n",
    "          intercept_scaling=1, max_iter=100, multi_class='ovr', n_jobs=1,\n",
    "          penalty='l2', random_state=None, solver='liblinear', tol=0.0001,\n",
    "          verbose=0, warm_start=False)\n",
    "logmodel.fit(x_training,y_training)\n",
    "logistic_regression_predictions = logmodel.predict(x_testing)\n",
    "\n",
    "printOrWrite(\"LogisticRegression\", logistic_regression_predictions, y_testing, results_to_test)"
   ]
  },
  {
   "attachments": {},
   "cell_type": "markdown",
   "metadata": {},
   "source": [
    "### 5.4 SVC"
   ]
  },
  {
   "cell_type": "code",
   "execution_count": 1191,
   "metadata": {},
   "outputs": [],
   "source": [
    "model = SVC(random_state=2023)\n",
    "model.fit(x_training, y_training)\n",
    "hold_out_predictions = model.predict(x_testing)\n",
    "\n",
    "printOrWrite(\"SVC\", hold_out_predictions, y_testing, results_to_test)"
   ]
  },
  {
   "attachments": {},
   "cell_type": "markdown",
   "metadata": {},
   "source": [
    "### 5.6 KNeighborsClassifier"
   ]
  },
  {
   "cell_type": "code",
   "execution_count": 1192,
   "metadata": {},
   "outputs": [],
   "source": [
    "knn = KNeighborsClassifier(n_neighbors=3)\n",
    "knn.fit(x_training, y_training)\n",
    "knn_predictions = knn.predict(x_testing)\n",
    "\n",
    "printOrWrite(\"KNN\", knn_predictions, y_testing, results_to_test)"
   ]
  },
  {
   "attachments": {},
   "cell_type": "markdown",
   "metadata": {},
   "source": [
    "### 5.7 MLPClassifier"
   ]
  },
  {
   "cell_type": "code",
   "execution_count": 1193,
   "metadata": {},
   "outputs": [],
   "source": [
    "mlpclass = MLPClassifier(alpha=1, max_iter=1000)\n",
    "mlpclass.fit(x_training, y_training)\n",
    "mlpclass_predictions = mlpclass.predict(x_testing)\n",
    "\n",
    "printOrWrite(\"MLPClassifier\", mlpclass_predictions, y_testing, results_to_test)"
   ]
  },
  {
   "attachments": {},
   "cell_type": "markdown",
   "metadata": {},
   "source": [
    "### 5.8 AdaBoostClassifier"
   ]
  },
  {
   "cell_type": "code",
   "execution_count": 1194,
   "metadata": {},
   "outputs": [],
   "source": [
    "adaBoost = AdaBoostClassifier(n_estimators=100, random_state=2023)\n",
    "adaBoost.fit(x_training, y_training)\n",
    "adaBoost_predictions = adaBoost.predict(x_testing)\n",
    "\n",
    "printOrWrite(\"AdaBoost\", adaBoost_predictions, y_testing, results_to_test)"
   ]
  },
  {
   "attachments": {},
   "cell_type": "markdown",
   "metadata": {},
   "source": [
    "### 5.9 GaussianNB"
   ]
  },
  {
   "cell_type": "code",
   "execution_count": 1195,
   "metadata": {},
   "outputs": [],
   "source": [
    "gaussianNB = GaussianNB()\n",
    "gaussianNB.fit(x_training, y_training)\n",
    "gaussianNB_predictions = gaussianNB.predict(x_testing)\n",
    "\n",
    "printOrWrite(\"GaussianNB\", gaussianNB_predictions, y_testing, results_to_test)"
   ]
  },
  {
   "attachments": {},
   "cell_type": "markdown",
   "metadata": {},
   "source": [
    "### 5.10 QuadraticDiscriminantAnalysis"
   ]
  },
  {
   "cell_type": "code",
   "execution_count": 1196,
   "metadata": {},
   "outputs": [],
   "source": [
    "quadraticDiscriminantAnalysis = QuadraticDiscriminantAnalysis()\n",
    "quadraticDiscriminantAnalysis.fit(x_training, y_training)\n",
    "quadraticDiscriminantAnalysis_predictions = quadraticDiscriminantAnalysis.predict(x_testing)\n",
    "\n",
    "printOrWrite(\"QuadraticDiscriminantAnalysis\", quadraticDiscriminantAnalysis_predictions, y_testing, results_to_test)"
   ]
  },
  {
   "attachments": {},
   "cell_type": "markdown",
   "metadata": {},
   "source": [
    "### 5.11 GaussianProcessClassifier"
   ]
  },
  {
   "cell_type": "code",
   "execution_count": 1197,
   "metadata": {},
   "outputs": [],
   "source": [
    "gaussian = GaussianProcessClassifier(n_restarts_optimizer=3, max_iter_predict=100, random_state=2023)\n",
    "gaussian.fit(x_training, y_training)\n",
    "gaussian_predictions = gaussian.predict(x_testing)\n",
    "\n",
    "printOrWrite(\"GaussianProcessClassifier\", gaussian_predictions, y_testing, results_to_test)"
   ]
  },
  {
   "attachments": {},
   "cell_type": "markdown",
   "metadata": {},
   "source": [
    "### 5.12 Grid Search"
   ]
  },
  {
   "cell_type": "code",
   "execution_count": 1198,
   "metadata": {},
   "outputs": [
    {
     "name": "stdout",
     "output_type": "stream",
     "text": [
      "Fitting 5 folds for each of 25 candidates, totalling 125 fits\n",
      "[CV 1/5] END ........C=0.1, gamma=1, kernel=rbf;, score=0.494 total time=   1.6s\n",
      "[CV 2/5] END ........C=0.1, gamma=1, kernel=rbf;, score=0.514 total time=   1.6s\n",
      "[CV 3/5] END ........C=0.1, gamma=1, kernel=rbf;, score=0.524 total time=   1.7s\n",
      "[CV 4/5] END ........C=0.1, gamma=1, kernel=rbf;, score=0.530 total time=   1.6s\n",
      "[CV 5/5] END ........C=0.1, gamma=1, kernel=rbf;, score=0.513 total time=   1.6s\n",
      "[CV 1/5] END ......C=0.1, gamma=0.1, kernel=rbf;, score=0.546 total time=   1.1s\n",
      "[CV 2/5] END ......C=0.1, gamma=0.1, kernel=rbf;, score=0.590 total time=   1.2s\n",
      "[CV 3/5] END ......C=0.1, gamma=0.1, kernel=rbf;, score=0.609 total time=   1.2s\n",
      "[CV 4/5] END ......C=0.1, gamma=0.1, kernel=rbf;, score=0.628 total time=   1.3s\n",
      "[CV 5/5] END ......C=0.1, gamma=0.1, kernel=rbf;, score=0.608 total time=   1.1s\n",
      "[CV 1/5] END .....C=0.1, gamma=0.01, kernel=rbf;, score=0.450 total time=   1.2s\n",
      "[CV 2/5] END .....C=0.1, gamma=0.01, kernel=rbf;, score=0.458 total time=   1.2s\n",
      "[CV 3/5] END .....C=0.1, gamma=0.01, kernel=rbf;, score=0.507 total time=   1.2s\n",
      "[CV 4/5] END .....C=0.1, gamma=0.01, kernel=rbf;, score=0.481 total time=   1.2s\n",
      "[CV 5/5] END .....C=0.1, gamma=0.01, kernel=rbf;, score=0.475 total time=   1.6s\n",
      "[CV 1/5] END ....C=0.1, gamma=0.001, kernel=rbf;, score=0.406 total time=   1.3s\n",
      "[CV 2/5] END ....C=0.1, gamma=0.001, kernel=rbf;, score=0.406 total time=   1.2s\n",
      "[CV 3/5] END ....C=0.1, gamma=0.001, kernel=rbf;, score=0.406 total time=   1.1s\n",
      "[CV 4/5] END ....C=0.1, gamma=0.001, kernel=rbf;, score=0.405 total time=   1.1s\n",
      "[CV 5/5] END ....C=0.1, gamma=0.001, kernel=rbf;, score=0.405 total time=   1.1s\n",
      "[CV 1/5] END ...C=0.1, gamma=0.0001, kernel=rbf;, score=0.406 total time=   1.1s\n",
      "[CV 2/5] END ...C=0.1, gamma=0.0001, kernel=rbf;, score=0.406 total time=   1.2s\n",
      "[CV 3/5] END ...C=0.1, gamma=0.0001, kernel=rbf;, score=0.406 total time=   1.1s\n",
      "[CV 4/5] END ...C=0.1, gamma=0.0001, kernel=rbf;, score=0.405 total time=   1.1s\n",
      "[CV 5/5] END ...C=0.1, gamma=0.0001, kernel=rbf;, score=0.405 total time=   1.2s\n",
      "[CV 1/5] END ..........C=1, gamma=1, kernel=rbf;, score=0.640 total time=   1.6s\n",
      "[CV 2/5] END ..........C=1, gamma=1, kernel=rbf;, score=0.730 total time=   1.3s\n",
      "[CV 3/5] END ..........C=1, gamma=1, kernel=rbf;, score=0.727 total time=   1.3s\n",
      "[CV 4/5] END ..........C=1, gamma=1, kernel=rbf;, score=0.755 total time=   1.2s\n",
      "[CV 5/5] END ..........C=1, gamma=1, kernel=rbf;, score=0.751 total time=   1.3s\n",
      "[CV 1/5] END ........C=1, gamma=0.1, kernel=rbf;, score=0.606 total time=   0.8s\n",
      "[CV 2/5] END ........C=1, gamma=0.1, kernel=rbf;, score=0.722 total time=   0.9s\n",
      "[CV 3/5] END ........C=1, gamma=0.1, kernel=rbf;, score=0.770 total time=   0.9s\n",
      "[CV 4/5] END ........C=1, gamma=0.1, kernel=rbf;, score=0.754 total time=   0.9s\n",
      "[CV 5/5] END ........C=1, gamma=0.1, kernel=rbf;, score=0.734 total time=   1.0s\n",
      "[CV 1/5] END .......C=1, gamma=0.01, kernel=rbf;, score=0.457 total time=   0.9s\n",
      "[CV 2/5] END .......C=1, gamma=0.01, kernel=rbf;, score=0.581 total time=   1.0s\n",
      "[CV 3/5] END .......C=1, gamma=0.01, kernel=rbf;, score=0.622 total time=   1.0s\n",
      "[CV 4/5] END .......C=1, gamma=0.01, kernel=rbf;, score=0.646 total time=   1.0s\n",
      "[CV 5/5] END .......C=1, gamma=0.01, kernel=rbf;, score=0.615 total time=   1.1s\n",
      "[CV 1/5] END ......C=1, gamma=0.001, kernel=rbf;, score=0.420 total time=   1.1s\n",
      "[CV 2/5] END ......C=1, gamma=0.001, kernel=rbf;, score=0.478 total time=   1.4s\n",
      "[CV 3/5] END ......C=1, gamma=0.001, kernel=rbf;, score=0.478 total time=   1.3s\n",
      "[CV 4/5] END ......C=1, gamma=0.001, kernel=rbf;, score=0.476 total time=   1.2s\n",
      "[CV 5/5] END ......C=1, gamma=0.001, kernel=rbf;, score=0.482 total time=   1.2s\n",
      "[CV 1/5] END .....C=1, gamma=0.0001, kernel=rbf;, score=0.406 total time=   1.3s\n",
      "[CV 2/5] END .....C=1, gamma=0.0001, kernel=rbf;, score=0.406 total time=   1.2s\n",
      "[CV 3/5] END .....C=1, gamma=0.0001, kernel=rbf;, score=0.406 total time=   1.1s\n",
      "[CV 4/5] END .....C=1, gamma=0.0001, kernel=rbf;, score=0.405 total time=   1.1s\n",
      "[CV 5/5] END .....C=1, gamma=0.0001, kernel=rbf;, score=0.405 total time=   1.1s\n",
      "[CV 1/5] END .........C=10, gamma=1, kernel=rbf;, score=0.687 total time=   1.5s\n",
      "[CV 2/5] END .........C=10, gamma=1, kernel=rbf;, score=0.776 total time=   1.4s\n",
      "[CV 3/5] END .........C=10, gamma=1, kernel=rbf;, score=0.785 total time=   1.4s\n",
      "[CV 4/5] END .........C=10, gamma=1, kernel=rbf;, score=0.800 total time=   1.5s\n",
      "[CV 5/5] END .........C=10, gamma=1, kernel=rbf;, score=0.814 total time=   1.5s\n",
      "[CV 1/5] END .......C=10, gamma=0.1, kernel=rbf;, score=0.714 total time=   0.7s\n",
      "[CV 2/5] END .......C=10, gamma=0.1, kernel=rbf;, score=0.816 total time=   0.7s\n",
      "[CV 3/5] END .......C=10, gamma=0.1, kernel=rbf;, score=0.841 total time=   0.7s\n",
      "[CV 4/5] END .......C=10, gamma=0.1, kernel=rbf;, score=0.850 total time=   0.7s\n",
      "[CV 5/5] END .......C=10, gamma=0.1, kernel=rbf;, score=0.841 total time=   0.7s\n",
      "[CV 1/5] END ......C=10, gamma=0.01, kernel=rbf;, score=0.556 total time=   0.7s\n",
      "[CV 2/5] END ......C=10, gamma=0.01, kernel=rbf;, score=0.727 total time=   0.8s\n",
      "[CV 3/5] END ......C=10, gamma=0.01, kernel=rbf;, score=0.769 total time=   0.9s\n",
      "[CV 4/5] END ......C=10, gamma=0.01, kernel=rbf;, score=0.761 total time=   0.9s\n",
      "[CV 5/5] END ......C=10, gamma=0.01, kernel=rbf;, score=0.768 total time=   0.8s\n",
      "[CV 1/5] END .....C=10, gamma=0.001, kernel=rbf;, score=0.441 total time=   1.0s\n",
      "[CV 2/5] END .....C=10, gamma=0.001, kernel=rbf;, score=0.586 total time=   1.0s\n",
      "[CV 3/5] END .....C=10, gamma=0.001, kernel=rbf;, score=0.645 total time=   1.2s\n",
      "[CV 4/5] END .....C=10, gamma=0.001, kernel=rbf;, score=0.639 total time=   1.5s\n",
      "[CV 5/5] END .....C=10, gamma=0.001, kernel=rbf;, score=0.622 total time=   1.2s\n",
      "[CV 1/5] END ....C=10, gamma=0.0001, kernel=rbf;, score=0.398 total time=   1.2s\n",
      "[CV 2/5] END ....C=10, gamma=0.0001, kernel=rbf;, score=0.469 total time=   1.0s\n",
      "[CV 3/5] END ....C=10, gamma=0.0001, kernel=rbf;, score=0.485 total time=   1.2s\n",
      "[CV 4/5] END ....C=10, gamma=0.0001, kernel=rbf;, score=0.492 total time=   1.1s\n",
      "[CV 5/5] END ....C=10, gamma=0.0001, kernel=rbf;, score=0.476 total time=   1.0s\n",
      "[CV 1/5] END ........C=100, gamma=1, kernel=rbf;, score=0.706 total time=   1.2s\n",
      "[CV 2/5] END ........C=100, gamma=1, kernel=rbf;, score=0.790 total time=   1.4s\n",
      "[CV 3/5] END ........C=100, gamma=1, kernel=rbf;, score=0.798 total time=   1.7s\n",
      "[CV 4/5] END ........C=100, gamma=1, kernel=rbf;, score=0.818 total time=   1.9s\n",
      "[CV 5/5] END ........C=100, gamma=1, kernel=rbf;, score=0.809 total time=   1.9s\n",
      "[CV 1/5] END ......C=100, gamma=0.1, kernel=rbf;, score=0.760 total time=   0.7s\n",
      "[CV 2/5] END ......C=100, gamma=0.1, kernel=rbf;, score=0.838 total time=   0.8s\n",
      "[CV 3/5] END ......C=100, gamma=0.1, kernel=rbf;, score=0.863 total time=   0.9s\n",
      "[CV 4/5] END ......C=100, gamma=0.1, kernel=rbf;, score=0.869 total time=   0.7s\n",
      "[CV 5/5] END ......C=100, gamma=0.1, kernel=rbf;, score=0.876 total time=   0.7s\n",
      "[CV 1/5] END .....C=100, gamma=0.01, kernel=rbf;, score=0.663 total time=   0.8s\n",
      "[CV 2/5] END .....C=100, gamma=0.01, kernel=rbf;, score=0.817 total time=   0.9s\n",
      "[CV 3/5] END .....C=100, gamma=0.01, kernel=rbf;, score=0.861 total time=   0.9s\n",
      "[CV 4/5] END .....C=100, gamma=0.01, kernel=rbf;, score=0.846 total time=   0.9s\n",
      "[CV 5/5] END .....C=100, gamma=0.01, kernel=rbf;, score=0.830 total time=   0.9s\n",
      "[CV 1/5] END ....C=100, gamma=0.001, kernel=rbf;, score=0.541 total time=   0.9s\n",
      "[CV 2/5] END ....C=100, gamma=0.001, kernel=rbf;, score=0.680 total time=   1.0s\n",
      "[CV 3/5] END ....C=100, gamma=0.001, kernel=rbf;, score=0.723 total time=   1.1s\n",
      "[CV 4/5] END ....C=100, gamma=0.001, kernel=rbf;, score=0.698 total time=   1.0s\n",
      "[CV 5/5] END ....C=100, gamma=0.001, kernel=rbf;, score=0.702 total time=   1.1s\n",
      "[CV 1/5] END ...C=100, gamma=0.0001, kernel=rbf;, score=0.448 total time=   1.0s\n",
      "[CV 2/5] END ...C=100, gamma=0.0001, kernel=rbf;, score=0.577 total time=   1.2s\n",
      "[CV 3/5] END ...C=100, gamma=0.0001, kernel=rbf;, score=0.608 total time=   1.3s\n",
      "[CV 4/5] END ...C=100, gamma=0.0001, kernel=rbf;, score=0.600 total time=   1.1s\n",
      "[CV 5/5] END ...C=100, gamma=0.0001, kernel=rbf;, score=0.594 total time=   1.3s\n",
      "[CV 1/5] END .......C=1000, gamma=1, kernel=rbf;, score=0.707 total time=   1.4s\n",
      "[CV 2/5] END .......C=1000, gamma=1, kernel=rbf;, score=0.795 total time=   1.6s\n",
      "[CV 3/5] END .......C=1000, gamma=1, kernel=rbf;, score=0.794 total time=   1.5s\n",
      "[CV 4/5] END .......C=1000, gamma=1, kernel=rbf;, score=0.811 total time=   1.5s\n",
      "[CV 5/5] END .......C=1000, gamma=1, kernel=rbf;, score=0.809 total time=   1.5s\n",
      "[CV 1/5] END .....C=1000, gamma=0.1, kernel=rbf;, score=0.750 total time=   0.7s\n",
      "[CV 2/5] END .....C=1000, gamma=0.1, kernel=rbf;, score=0.840 total time=   0.7s\n",
      "[CV 3/5] END .....C=1000, gamma=0.1, kernel=rbf;, score=0.870 total time=   0.8s\n",
      "[CV 4/5] END .....C=1000, gamma=0.1, kernel=rbf;, score=0.882 total time=   0.7s\n",
      "[CV 5/5] END .....C=1000, gamma=0.1, kernel=rbf;, score=0.862 total time=   0.8s\n",
      "[CV 1/5] END ....C=1000, gamma=0.01, kernel=rbf;, score=0.731 total time=   1.5s\n",
      "[CV 2/5] END ....C=1000, gamma=0.01, kernel=rbf;, score=0.850 total time=   1.8s\n",
      "[CV 3/5] END ....C=1000, gamma=0.01, kernel=rbf;, score=0.875 total time=   2.1s\n",
      "[CV 4/5] END ....C=1000, gamma=0.01, kernel=rbf;, score=0.864 total time=   1.8s\n",
      "[CV 5/5] END ....C=1000, gamma=0.01, kernel=rbf;, score=0.869 total time=   2.0s\n",
      "[CV 1/5] END ...C=1000, gamma=0.001, kernel=rbf;, score=0.595 total time=   1.3s\n",
      "[CV 2/5] END ...C=1000, gamma=0.001, kernel=rbf;, score=0.736 total time=   1.4s\n",
      "[CV 3/5] END ...C=1000, gamma=0.001, kernel=rbf;, score=0.781 total time=   1.5s\n",
      "[CV 4/5] END ...C=1000, gamma=0.001, kernel=rbf;, score=0.746 total time=   1.4s\n",
      "[CV 5/5] END ...C=1000, gamma=0.001, kernel=rbf;, score=0.766 total time=   1.4s\n",
      "[CV 1/5] END ..C=1000, gamma=0.0001, kernel=rbf;, score=0.520 total time=   1.1s\n",
      "[CV 2/5] END ..C=1000, gamma=0.0001, kernel=rbf;, score=0.664 total time=   1.5s\n",
      "[CV 3/5] END ..C=1000, gamma=0.0001, kernel=rbf;, score=0.694 total time=   1.5s\n",
      "[CV 4/5] END ..C=1000, gamma=0.0001, kernel=rbf;, score=0.697 total time=   1.6s\n",
      "[CV 5/5] END ..C=1000, gamma=0.0001, kernel=rbf;, score=0.706 total time=   1.6s\n"
     ]
    }
   ],
   "source": [
    "param_grid = {'C': [0.1, 1, 10, 100, 1000], 'gamma': [1, 0.1, 0.01, 0.001, 0.0001], 'kernel': ['rbf']}\n",
    "grid = GridSearchCV(SVC(random_state=2022), param_grid, refit=True, verbose=3)\n",
    "grid.fit(x_training, y_training)\n",
    "grid_predictions = grid.predict(x_testing)\n",
    "\n",
    "printOrWrite(\"GridSearchCV\", grid_predictions, y_testing, results_to_test)"
   ]
  },
  {
   "attachments": {},
   "cell_type": "markdown",
   "metadata": {},
   "source": [
    "### 5.13 Maquinas de Vectores de Suporte (SVM)"
   ]
  },
  {
   "cell_type": "code",
   "execution_count": 1199,
   "metadata": {},
   "outputs": [],
   "source": [
    "df_feat = pd.DataFrame(x_training, columns=x_training.columns)\n",
    "df_target = pd.DataFrame(y_training, columns=['incidents'])\n",
    "# 10-Fold Cross Validation\n",
    "cross_valid_model = SVC(random_state=2022)\n",
    "cross_val_score(cross_valid_model, df_feat, np.ravel(df_target), cv=10)\n",
    "\n",
    "printOrWrite(\"CrossValidation\", grid_predictions, y_testing, results_to_test)"
   ]
  },
  {
   "attachments": {},
   "cell_type": "markdown",
   "metadata": {},
   "source": [
    "### 5.14 Neural Network"
   ]
  },
  {
   "cell_type": "code",
   "execution_count": 249,
   "metadata": {},
   "outputs": [
    {
     "name": "stdout",
     "output_type": "stream",
     "text": [
      "Epoch 1/200\n",
      "141/141 [==============================] - 1s 5ms/step - loss: 1.4465 - accuracy: 0.3998 - val_loss: 1.4095 - val_accuracy: 0.4160\n",
      "Epoch 2/200\n",
      "141/141 [==============================] - 0s 3ms/step - loss: 1.2875 - accuracy: 0.4682 - val_loss: 1.1342 - val_accuracy: 0.5880\n",
      "Epoch 3/200\n",
      "141/141 [==============================] - 0s 3ms/step - loss: 1.1572 - accuracy: 0.5333 - val_loss: 1.0222 - val_accuracy: 0.6240\n",
      "Epoch 4/200\n",
      "141/141 [==============================] - 0s 2ms/step - loss: 1.0615 - accuracy: 0.5833 - val_loss: 0.9555 - val_accuracy: 0.6420\n",
      "Epoch 5/200\n",
      "141/141 [==============================] - 0s 3ms/step - loss: 0.9575 - accuracy: 0.6256 - val_loss: 0.8801 - val_accuracy: 0.6780\n",
      "Epoch 6/200\n",
      "141/141 [==============================] - 0s 3ms/step - loss: 0.8796 - accuracy: 0.6538 - val_loss: 0.8556 - val_accuracy: 0.6620\n",
      "Epoch 7/200\n",
      "141/141 [==============================] - 0s 3ms/step - loss: 0.8035 - accuracy: 0.6816 - val_loss: 0.7495 - val_accuracy: 0.7020\n",
      "Epoch 8/200\n",
      "141/141 [==============================] - 0s 3ms/step - loss: 0.7538 - accuracy: 0.7002 - val_loss: 0.7320 - val_accuracy: 0.7060\n",
      "Epoch 9/200\n",
      "141/141 [==============================] - 0s 2ms/step - loss: 0.6956 - accuracy: 0.7222 - val_loss: 0.6667 - val_accuracy: 0.7440\n",
      "Epoch 10/200\n",
      "141/141 [==============================] - 0s 2ms/step - loss: 0.6643 - accuracy: 0.7327 - val_loss: 0.7063 - val_accuracy: 0.7280\n",
      "Epoch 11/200\n",
      "141/141 [==============================] - 0s 2ms/step - loss: 0.6427 - accuracy: 0.7458 - val_loss: 0.6755 - val_accuracy: 0.7140\n",
      "Epoch 12/200\n",
      "141/141 [==============================] - 0s 3ms/step - loss: 0.6137 - accuracy: 0.7598 - val_loss: 0.6428 - val_accuracy: 0.7640\n",
      "Epoch 13/200\n",
      "141/141 [==============================] - 0s 3ms/step - loss: 0.5837 - accuracy: 0.7778 - val_loss: 0.6267 - val_accuracy: 0.7600\n",
      "Epoch 14/200\n",
      "141/141 [==============================] - 0s 3ms/step - loss: 0.5661 - accuracy: 0.7822 - val_loss: 0.5652 - val_accuracy: 0.7760\n",
      "Epoch 15/200\n",
      "141/141 [==============================] - 0s 3ms/step - loss: 0.5351 - accuracy: 0.7971 - val_loss: 0.5427 - val_accuracy: 0.7940\n",
      "Epoch 16/200\n",
      "141/141 [==============================] - 0s 3ms/step - loss: 0.5324 - accuracy: 0.7942 - val_loss: 0.5912 - val_accuracy: 0.7860\n",
      "Epoch 17/200\n",
      "141/141 [==============================] - 0s 2ms/step - loss: 0.5201 - accuracy: 0.7962 - val_loss: 0.5804 - val_accuracy: 0.7940\n",
      "Epoch 18/200\n",
      "141/141 [==============================] - 0s 2ms/step - loss: 0.5130 - accuracy: 0.8011 - val_loss: 0.5289 - val_accuracy: 0.8180\n",
      "Epoch 19/200\n",
      "141/141 [==============================] - 0s 2ms/step - loss: 0.4988 - accuracy: 0.8067 - val_loss: 0.5640 - val_accuracy: 0.7900\n",
      "Epoch 20/200\n",
      "141/141 [==============================] - 0s 2ms/step - loss: 0.4821 - accuracy: 0.8136 - val_loss: 0.5085 - val_accuracy: 0.8120\n",
      "Epoch 21/200\n",
      "141/141 [==============================] - 0s 3ms/step - loss: 0.4677 - accuracy: 0.8173 - val_loss: 0.5258 - val_accuracy: 0.8020\n",
      "Epoch 22/200\n",
      "141/141 [==============================] - 0s 3ms/step - loss: 0.4636 - accuracy: 0.8216 - val_loss: 0.4896 - val_accuracy: 0.8260\n",
      "Epoch 23/200\n",
      "141/141 [==============================] - 0s 3ms/step - loss: 0.4629 - accuracy: 0.8176 - val_loss: 0.4976 - val_accuracy: 0.7900\n",
      "Epoch 24/200\n",
      "141/141 [==============================] - 0s 3ms/step - loss: 0.4485 - accuracy: 0.8262 - val_loss: 0.4785 - val_accuracy: 0.8120\n",
      "Epoch 25/200\n",
      "141/141 [==============================] - 0s 3ms/step - loss: 0.4362 - accuracy: 0.8238 - val_loss: 0.5659 - val_accuracy: 0.7860\n",
      "Epoch 26/200\n",
      "141/141 [==============================] - 0s 3ms/step - loss: 0.4402 - accuracy: 0.8220 - val_loss: 0.4921 - val_accuracy: 0.8060\n",
      "Epoch 27/200\n",
      "141/141 [==============================] - 0s 3ms/step - loss: 0.4397 - accuracy: 0.8178 - val_loss: 0.4668 - val_accuracy: 0.8340\n",
      "Epoch 28/200\n",
      "141/141 [==============================] - 0s 3ms/step - loss: 0.4185 - accuracy: 0.8311 - val_loss: 0.5169 - val_accuracy: 0.7820\n",
      "Epoch 29/200\n",
      "141/141 [==============================] - 0s 3ms/step - loss: 0.4256 - accuracy: 0.8269 - val_loss: 0.4984 - val_accuracy: 0.8080\n",
      "Epoch 30/200\n",
      "141/141 [==============================] - 0s 3ms/step - loss: 0.4362 - accuracy: 0.8269 - val_loss: 0.4984 - val_accuracy: 0.8080\n",
      "Epoch 31/200\n",
      "141/141 [==============================] - 0s 3ms/step - loss: 0.4129 - accuracy: 0.8316 - val_loss: 0.4762 - val_accuracy: 0.8260\n",
      "Epoch 32/200\n",
      "141/141 [==============================] - 0s 3ms/step - loss: 0.4063 - accuracy: 0.8371 - val_loss: 0.4731 - val_accuracy: 0.8300\n",
      "Epoch 33/200\n",
      "141/141 [==============================] - 0s 2ms/step - loss: 0.3980 - accuracy: 0.8360 - val_loss: 0.4541 - val_accuracy: 0.8340\n",
      "Epoch 34/200\n",
      "141/141 [==============================] - 0s 2ms/step - loss: 0.4023 - accuracy: 0.8404 - val_loss: 0.4628 - val_accuracy: 0.8400\n",
      "Epoch 35/200\n",
      "141/141 [==============================] - 0s 3ms/step - loss: 0.4105 - accuracy: 0.8269 - val_loss: 0.5828 - val_accuracy: 0.7960\n",
      "Epoch 36/200\n",
      "141/141 [==============================] - 0s 3ms/step - loss: 0.3938 - accuracy: 0.8404 - val_loss: 0.4822 - val_accuracy: 0.8260\n",
      "Epoch 37/200\n",
      "141/141 [==============================] - 0s 3ms/step - loss: 0.3814 - accuracy: 0.8449 - val_loss: 0.5062 - val_accuracy: 0.8220\n",
      "Epoch 38/200\n",
      "141/141 [==============================] - 0s 3ms/step - loss: 0.3794 - accuracy: 0.8416 - val_loss: 0.4813 - val_accuracy: 0.8280\n",
      "Epoch 39/200\n",
      "141/141 [==============================] - 0s 3ms/step - loss: 0.3884 - accuracy: 0.8409 - val_loss: 0.5103 - val_accuracy: 0.7820\n",
      "Epoch 40/200\n",
      "141/141 [==============================] - 0s 3ms/step - loss: 0.3842 - accuracy: 0.8393 - val_loss: 0.4241 - val_accuracy: 0.8420\n",
      "Epoch 41/200\n",
      "141/141 [==============================] - 0s 2ms/step - loss: 0.3649 - accuracy: 0.8544 - val_loss: 0.4969 - val_accuracy: 0.8080\n",
      "Epoch 42/200\n",
      "141/141 [==============================] - 0s 3ms/step - loss: 0.3892 - accuracy: 0.8407 - val_loss: 0.4886 - val_accuracy: 0.8200\n",
      "Epoch 43/200\n",
      "141/141 [==============================] - 0s 3ms/step - loss: 0.3714 - accuracy: 0.8473 - val_loss: 0.4693 - val_accuracy: 0.8360\n",
      "Epoch 44/200\n",
      "141/141 [==============================] - 0s 3ms/step - loss: 0.3791 - accuracy: 0.8438 - val_loss: 0.4901 - val_accuracy: 0.8260\n",
      "Epoch 45/200\n",
      "141/141 [==============================] - 0s 3ms/step - loss: 0.3671 - accuracy: 0.8493 - val_loss: 0.4185 - val_accuracy: 0.8440\n",
      "Epoch 46/200\n",
      "141/141 [==============================] - 0s 3ms/step - loss: 0.3573 - accuracy: 0.8542 - val_loss: 0.4164 - val_accuracy: 0.8520\n",
      "Epoch 47/200\n",
      "141/141 [==============================] - 0s 2ms/step - loss: 0.3587 - accuracy: 0.8536 - val_loss: 0.4382 - val_accuracy: 0.8320\n",
      "Epoch 48/200\n",
      "141/141 [==============================] - 0s 3ms/step - loss: 0.3570 - accuracy: 0.8538 - val_loss: 0.4079 - val_accuracy: 0.8500\n",
      "Epoch 49/200\n",
      "141/141 [==============================] - 0s 3ms/step - loss: 0.3613 - accuracy: 0.8511 - val_loss: 0.4981 - val_accuracy: 0.8100\n",
      "Epoch 50/200\n",
      "141/141 [==============================] - 0s 2ms/step - loss: 0.3528 - accuracy: 0.8580 - val_loss: 0.4697 - val_accuracy: 0.8400\n",
      "Epoch 51/200\n",
      "141/141 [==============================] - 0s 2ms/step - loss: 0.3525 - accuracy: 0.8540 - val_loss: 0.5571 - val_accuracy: 0.8100\n",
      "Epoch 52/200\n",
      "141/141 [==============================] - 0s 2ms/step - loss: 0.3456 - accuracy: 0.8644 - val_loss: 0.4258 - val_accuracy: 0.8380\n",
      "Epoch 53/200\n",
      "141/141 [==============================] - 0s 2ms/step - loss: 0.3627 - accuracy: 0.8553 - val_loss: 0.4183 - val_accuracy: 0.8360\n",
      "Epoch 54/200\n",
      "141/141 [==============================] - 0s 2ms/step - loss: 0.3314 - accuracy: 0.8631 - val_loss: 0.4143 - val_accuracy: 0.8520\n",
      "Epoch 55/200\n",
      "141/141 [==============================] - 0s 2ms/step - loss: 0.3363 - accuracy: 0.8669 - val_loss: 0.4173 - val_accuracy: 0.8600\n",
      "Epoch 56/200\n",
      "141/141 [==============================] - 0s 3ms/step - loss: 0.3271 - accuracy: 0.8687 - val_loss: 0.4474 - val_accuracy: 0.8320\n",
      "Epoch 57/200\n",
      "141/141 [==============================] - 0s 3ms/step - loss: 0.3490 - accuracy: 0.8547 - val_loss: 0.4297 - val_accuracy: 0.8440\n",
      "Epoch 58/200\n",
      "141/141 [==============================] - 0s 3ms/step - loss: 0.3226 - accuracy: 0.8742 - val_loss: 0.4130 - val_accuracy: 0.8640\n",
      "Epoch 59/200\n",
      "141/141 [==============================] - 0s 2ms/step - loss: 0.3252 - accuracy: 0.8693 - val_loss: 0.4149 - val_accuracy: 0.8480\n",
      "Epoch 60/200\n",
      "141/141 [==============================] - 0s 2ms/step - loss: 0.3317 - accuracy: 0.8636 - val_loss: 0.4304 - val_accuracy: 0.8520\n",
      "Epoch 61/200\n",
      "141/141 [==============================] - 0s 3ms/step - loss: 0.3303 - accuracy: 0.8718 - val_loss: 0.4302 - val_accuracy: 0.8380\n",
      "Epoch 62/200\n",
      "141/141 [==============================] - 0s 3ms/step - loss: 0.3213 - accuracy: 0.8716 - val_loss: 0.4061 - val_accuracy: 0.8680\n",
      "Epoch 63/200\n",
      "141/141 [==============================] - 0s 3ms/step - loss: 0.3213 - accuracy: 0.8727 - val_loss: 0.4316 - val_accuracy: 0.8500\n",
      "Epoch 64/200\n",
      "141/141 [==============================] - 0s 3ms/step - loss: 0.3214 - accuracy: 0.8700 - val_loss: 0.4015 - val_accuracy: 0.8520\n",
      "Epoch 65/200\n",
      "141/141 [==============================] - 1s 4ms/step - loss: 0.3250 - accuracy: 0.8707 - val_loss: 0.4303 - val_accuracy: 0.8460\n",
      "Epoch 66/200\n",
      "141/141 [==============================] - 1s 4ms/step - loss: 0.3252 - accuracy: 0.8704 - val_loss: 0.4388 - val_accuracy: 0.8360\n",
      "Epoch 67/200\n",
      "141/141 [==============================] - 0s 3ms/step - loss: 0.3191 - accuracy: 0.8767 - val_loss: 0.4038 - val_accuracy: 0.8640\n",
      "Epoch 68/200\n",
      "141/141 [==============================] - 0s 3ms/step - loss: 0.3153 - accuracy: 0.8771 - val_loss: 0.4448 - val_accuracy: 0.8620\n",
      "Epoch 69/200\n",
      "141/141 [==============================] - 0s 3ms/step - loss: 0.3147 - accuracy: 0.8756 - val_loss: 0.3875 - val_accuracy: 0.8700\n",
      "Epoch 70/200\n",
      "141/141 [==============================] - 0s 3ms/step - loss: 0.3155 - accuracy: 0.8751 - val_loss: 0.4835 - val_accuracy: 0.8240\n",
      "Epoch 71/200\n",
      "141/141 [==============================] - 0s 3ms/step - loss: 0.3189 - accuracy: 0.8716 - val_loss: 0.3908 - val_accuracy: 0.8620\n",
      "Epoch 72/200\n",
      "141/141 [==============================] - 0s 3ms/step - loss: 0.3009 - accuracy: 0.8824 - val_loss: 0.4097 - val_accuracy: 0.8600\n",
      "Epoch 73/200\n",
      "141/141 [==============================] - 0s 3ms/step - loss: 0.3232 - accuracy: 0.8704 - val_loss: 0.3964 - val_accuracy: 0.8580\n",
      "Epoch 74/200\n",
      "141/141 [==============================] - 0s 3ms/step - loss: 0.3067 - accuracy: 0.8816 - val_loss: 0.4328 - val_accuracy: 0.8500\n",
      "Epoch 75/200\n",
      "141/141 [==============================] - 0s 3ms/step - loss: 0.3256 - accuracy: 0.8698 - val_loss: 0.4395 - val_accuracy: 0.8480\n",
      "Epoch 76/200\n",
      "141/141 [==============================] - 0s 3ms/step - loss: 0.2942 - accuracy: 0.8871 - val_loss: 0.4585 - val_accuracy: 0.8560\n",
      "Epoch 77/200\n",
      "141/141 [==============================] - 0s 3ms/step - loss: 0.2995 - accuracy: 0.8809 - val_loss: 0.4065 - val_accuracy: 0.8520\n",
      "Epoch 78/200\n",
      "141/141 [==============================] - 0s 3ms/step - loss: 0.2988 - accuracy: 0.8751 - val_loss: 0.4172 - val_accuracy: 0.8460\n",
      "Epoch 79/200\n",
      "141/141 [==============================] - 0s 3ms/step - loss: 0.3028 - accuracy: 0.8802 - val_loss: 0.4308 - val_accuracy: 0.8540\n",
      "Epoch 80/200\n",
      "141/141 [==============================] - 0s 3ms/step - loss: 0.2844 - accuracy: 0.8929 - val_loss: 0.4056 - val_accuracy: 0.8660\n",
      "Epoch 81/200\n",
      "141/141 [==============================] - 0s 3ms/step - loss: 0.2955 - accuracy: 0.8833 - val_loss: 0.4803 - val_accuracy: 0.8380\n",
      "Epoch 82/200\n",
      "141/141 [==============================] - 0s 3ms/step - loss: 0.2955 - accuracy: 0.8838 - val_loss: 0.3988 - val_accuracy: 0.8680\n",
      "Epoch 83/200\n",
      "141/141 [==============================] - 0s 3ms/step - loss: 0.2894 - accuracy: 0.8842 - val_loss: 0.4473 - val_accuracy: 0.8240\n",
      "Epoch 84/200\n",
      "141/141 [==============================] - 0s 3ms/step - loss: 0.2867 - accuracy: 0.8893 - val_loss: 0.4203 - val_accuracy: 0.8540\n",
      "Epoch 85/200\n",
      "141/141 [==============================] - 0s 3ms/step - loss: 0.2847 - accuracy: 0.8858 - val_loss: 0.4182 - val_accuracy: 0.8620\n",
      "Epoch 86/200\n",
      "141/141 [==============================] - 0s 3ms/step - loss: 0.2952 - accuracy: 0.8838 - val_loss: 0.4224 - val_accuracy: 0.8640\n",
      "Epoch 87/200\n",
      "141/141 [==============================] - 0s 3ms/step - loss: 0.2940 - accuracy: 0.8869 - val_loss: 0.3946 - val_accuracy: 0.8700\n",
      "Epoch 88/200\n",
      "141/141 [==============================] - 0s 3ms/step - loss: 0.2787 - accuracy: 0.8902 - val_loss: 0.3758 - val_accuracy: 0.8720\n",
      "Epoch 89/200\n",
      "141/141 [==============================] - 0s 3ms/step - loss: 0.2666 - accuracy: 0.8951 - val_loss: 0.3958 - val_accuracy: 0.8620\n",
      "Epoch 90/200\n",
      "141/141 [==============================] - 0s 3ms/step - loss: 0.2821 - accuracy: 0.8876 - val_loss: 0.3839 - val_accuracy: 0.8660\n",
      "Epoch 91/200\n",
      "141/141 [==============================] - 0s 3ms/step - loss: 0.2846 - accuracy: 0.8867 - val_loss: 0.4084 - val_accuracy: 0.8640\n",
      "Epoch 92/200\n",
      "141/141 [==============================] - 0s 3ms/step - loss: 0.2913 - accuracy: 0.8829 - val_loss: 0.3804 - val_accuracy: 0.8740\n",
      "Epoch 93/200\n",
      "141/141 [==============================] - 0s 3ms/step - loss: 0.2672 - accuracy: 0.8907 - val_loss: 0.3871 - val_accuracy: 0.8720\n",
      "Epoch 94/200\n",
      "141/141 [==============================] - 0s 3ms/step - loss: 0.2819 - accuracy: 0.8864 - val_loss: 0.4183 - val_accuracy: 0.8680\n",
      "Epoch 95/200\n",
      "141/141 [==============================] - 0s 3ms/step - loss: 0.2903 - accuracy: 0.8882 - val_loss: 0.4222 - val_accuracy: 0.8600\n",
      "Epoch 96/200\n",
      "141/141 [==============================] - 0s 3ms/step - loss: 0.2714 - accuracy: 0.8940 - val_loss: 0.3682 - val_accuracy: 0.8760\n",
      "Epoch 97/200\n",
      "141/141 [==============================] - 0s 3ms/step - loss: 0.2736 - accuracy: 0.8896 - val_loss: 0.4346 - val_accuracy: 0.8660\n",
      "Epoch 98/200\n",
      "141/141 [==============================] - 0s 3ms/step - loss: 0.2809 - accuracy: 0.8864 - val_loss: 0.4066 - val_accuracy: 0.8660\n",
      "Epoch 99/200\n",
      "141/141 [==============================] - 0s 3ms/step - loss: 0.2716 - accuracy: 0.8949 - val_loss: 0.3985 - val_accuracy: 0.8760\n",
      "Epoch 100/200\n",
      "141/141 [==============================] - 0s 3ms/step - loss: 0.2973 - accuracy: 0.8849 - val_loss: 0.4201 - val_accuracy: 0.8660\n",
      "Epoch 101/200\n",
      "141/141 [==============================] - 0s 3ms/step - loss: 0.2833 - accuracy: 0.8889 - val_loss: 0.3820 - val_accuracy: 0.8880\n",
      "Epoch 102/200\n",
      "141/141 [==============================] - 0s 3ms/step - loss: 0.2655 - accuracy: 0.8936 - val_loss: 0.4585 - val_accuracy: 0.8500\n",
      "Epoch 103/200\n",
      "141/141 [==============================] - 0s 3ms/step - loss: 0.2577 - accuracy: 0.9007 - val_loss: 0.3958 - val_accuracy: 0.8560\n",
      "Epoch 104/200\n",
      "141/141 [==============================] - 0s 3ms/step - loss: 0.2812 - accuracy: 0.8918 - val_loss: 0.3770 - val_accuracy: 0.8660\n",
      "Epoch 105/200\n",
      "141/141 [==============================] - 0s 3ms/step - loss: 0.2529 - accuracy: 0.9022 - val_loss: 0.3941 - val_accuracy: 0.8640\n",
      "Epoch 106/200\n",
      "141/141 [==============================] - 0s 3ms/step - loss: 0.2776 - accuracy: 0.8942 - val_loss: 0.3912 - val_accuracy: 0.8620\n",
      "Epoch 107/200\n",
      "141/141 [==============================] - 0s 3ms/step - loss: 0.2781 - accuracy: 0.8936 - val_loss: 0.7016 - val_accuracy: 0.8220\n",
      "Epoch 108/200\n",
      "141/141 [==============================] - 0s 3ms/step - loss: 0.2911 - accuracy: 0.8953 - val_loss: 0.3704 - val_accuracy: 0.8780\n",
      "Epoch 109/200\n",
      "141/141 [==============================] - 0s 3ms/step - loss: 0.2690 - accuracy: 0.8920 - val_loss: 0.4225 - val_accuracy: 0.8700\n",
      "Epoch 110/200\n",
      "141/141 [==============================] - 0s 3ms/step - loss: 0.2595 - accuracy: 0.8971 - val_loss: 0.3731 - val_accuracy: 0.8680\n",
      "Epoch 111/200\n",
      "141/141 [==============================] - 0s 3ms/step - loss: 0.2552 - accuracy: 0.9013 - val_loss: 0.4000 - val_accuracy: 0.8620\n",
      "Epoch 112/200\n",
      "141/141 [==============================] - 0s 3ms/step - loss: 0.2561 - accuracy: 0.8991 - val_loss: 0.3725 - val_accuracy: 0.8760\n",
      "Epoch 113/200\n",
      "141/141 [==============================] - 0s 3ms/step - loss: 0.2556 - accuracy: 0.8984 - val_loss: 0.4051 - val_accuracy: 0.8720\n",
      "Epoch 114/200\n",
      "141/141 [==============================] - 0s 3ms/step - loss: 0.2632 - accuracy: 0.8944 - val_loss: 0.3806 - val_accuracy: 0.8680\n",
      "Epoch 115/200\n",
      "141/141 [==============================] - 0s 3ms/step - loss: 0.2485 - accuracy: 0.9031 - val_loss: 0.3698 - val_accuracy: 0.8780\n",
      "Epoch 116/200\n",
      "141/141 [==============================] - 0s 3ms/step - loss: 0.2652 - accuracy: 0.8942 - val_loss: 0.3676 - val_accuracy: 0.8800\n",
      "Epoch 117/200\n",
      "141/141 [==============================] - 0s 3ms/step - loss: 0.2529 - accuracy: 0.9009 - val_loss: 0.3938 - val_accuracy: 0.8640\n",
      "Epoch 118/200\n",
      "141/141 [==============================] - 0s 3ms/step - loss: 0.2571 - accuracy: 0.8987 - val_loss: 0.4177 - val_accuracy: 0.8580\n",
      "Epoch 119/200\n",
      "141/141 [==============================] - 0s 3ms/step - loss: 0.2515 - accuracy: 0.9009 - val_loss: 0.4329 - val_accuracy: 0.8600\n",
      "Epoch 120/200\n",
      "141/141 [==============================] - 0s 3ms/step - loss: 0.2537 - accuracy: 0.8982 - val_loss: 0.4108 - val_accuracy: 0.8520\n",
      "Epoch 121/200\n",
      "141/141 [==============================] - 0s 3ms/step - loss: 0.2521 - accuracy: 0.8964 - val_loss: 0.3597 - val_accuracy: 0.8860\n",
      "Epoch 122/200\n",
      "141/141 [==============================] - 0s 3ms/step - loss: 0.2528 - accuracy: 0.8987 - val_loss: 0.3898 - val_accuracy: 0.8680\n",
      "Epoch 123/200\n",
      "141/141 [==============================] - 0s 3ms/step - loss: 0.2595 - accuracy: 0.8978 - val_loss: 0.4014 - val_accuracy: 0.8620\n",
      "Epoch 124/200\n",
      "141/141 [==============================] - 0s 3ms/step - loss: 0.2585 - accuracy: 0.9002 - val_loss: 0.4162 - val_accuracy: 0.8660\n",
      "Epoch 125/200\n",
      "141/141 [==============================] - 0s 3ms/step - loss: 0.2611 - accuracy: 0.8980 - val_loss: 0.3708 - val_accuracy: 0.8560\n",
      "Epoch 126/200\n",
      "141/141 [==============================] - 0s 3ms/step - loss: 0.2614 - accuracy: 0.8956 - val_loss: 0.3787 - val_accuracy: 0.8760\n",
      "Epoch 127/200\n",
      "141/141 [==============================] - 0s 3ms/step - loss: 0.2446 - accuracy: 0.9044 - val_loss: 0.3781 - val_accuracy: 0.8780\n",
      "Epoch 128/200\n",
      "141/141 [==============================] - 0s 3ms/step - loss: 0.2440 - accuracy: 0.9044 - val_loss: 0.3492 - val_accuracy: 0.9040\n",
      "Epoch 129/200\n",
      "141/141 [==============================] - 0s 3ms/step - loss: 0.2425 - accuracy: 0.9078 - val_loss: 0.3896 - val_accuracy: 0.8800\n",
      "Epoch 130/200\n",
      "141/141 [==============================] - 0s 3ms/step - loss: 0.2516 - accuracy: 0.9002 - val_loss: 0.3894 - val_accuracy: 0.8640\n",
      "Epoch 131/200\n",
      "141/141 [==============================] - 0s 3ms/step - loss: 0.2492 - accuracy: 0.9007 - val_loss: 0.4512 - val_accuracy: 0.8520\n",
      "Epoch 132/200\n",
      "141/141 [==============================] - 0s 3ms/step - loss: 0.2423 - accuracy: 0.9018 - val_loss: 0.3950 - val_accuracy: 0.8840\n",
      "Epoch 133/200\n",
      "141/141 [==============================] - 0s 3ms/step - loss: 0.2459 - accuracy: 0.9051 - val_loss: 0.3702 - val_accuracy: 0.8680\n",
      "Epoch 134/200\n",
      "141/141 [==============================] - 0s 3ms/step - loss: 0.2459 - accuracy: 0.9040 - val_loss: 0.3776 - val_accuracy: 0.8900\n",
      "Epoch 135/200\n",
      "141/141 [==============================] - 0s 3ms/step - loss: 0.2402 - accuracy: 0.9062 - val_loss: 0.3946 - val_accuracy: 0.8720\n",
      "Epoch 136/200\n",
      "141/141 [==============================] - 0s 3ms/step - loss: 0.2421 - accuracy: 0.9076 - val_loss: 0.3995 - val_accuracy: 0.8740\n",
      "Epoch 137/200\n",
      "141/141 [==============================] - 0s 3ms/step - loss: 0.2345 - accuracy: 0.9089 - val_loss: 0.3909 - val_accuracy: 0.8760\n",
      "Epoch 138/200\n",
      "141/141 [==============================] - 0s 3ms/step - loss: 0.2657 - accuracy: 0.8931 - val_loss: 0.3613 - val_accuracy: 0.8740\n",
      "Epoch 139/200\n",
      "141/141 [==============================] - 0s 3ms/step - loss: 0.2450 - accuracy: 0.9053 - val_loss: 0.3618 - val_accuracy: 0.8640\n",
      "Epoch 140/200\n",
      "141/141 [==============================] - 0s 3ms/step - loss: 0.2374 - accuracy: 0.9087 - val_loss: 0.3540 - val_accuracy: 0.8920\n",
      "Epoch 141/200\n",
      "141/141 [==============================] - 0s 3ms/step - loss: 0.2303 - accuracy: 0.9087 - val_loss: 0.3942 - val_accuracy: 0.8740\n",
      "Epoch 142/200\n",
      "141/141 [==============================] - 0s 3ms/step - loss: 0.2418 - accuracy: 0.9042 - val_loss: 0.3743 - val_accuracy: 0.8800\n",
      "Epoch 143/200\n",
      "141/141 [==============================] - 0s 3ms/step - loss: 0.2453 - accuracy: 0.9078 - val_loss: 0.3934 - val_accuracy: 0.8600\n",
      "Epoch 144/200\n",
      "141/141 [==============================] - 0s 3ms/step - loss: 0.2554 - accuracy: 0.8996 - val_loss: 0.3894 - val_accuracy: 0.8720\n",
      "Epoch 145/200\n",
      "141/141 [==============================] - 0s 3ms/step - loss: 0.2407 - accuracy: 0.9051 - val_loss: 0.3221 - val_accuracy: 0.8980\n",
      "Epoch 146/200\n",
      "141/141 [==============================] - 0s 3ms/step - loss: 0.2574 - accuracy: 0.8989 - val_loss: 0.3832 - val_accuracy: 0.8600\n",
      "Epoch 147/200\n",
      "141/141 [==============================] - 0s 3ms/step - loss: 0.2350 - accuracy: 0.9089 - val_loss: 0.3447 - val_accuracy: 0.8780\n",
      "Epoch 148/200\n",
      "141/141 [==============================] - 0s 3ms/step - loss: 0.2414 - accuracy: 0.9011 - val_loss: 0.3569 - val_accuracy: 0.8800\n",
      "Epoch 149/200\n",
      "141/141 [==============================] - 0s 3ms/step - loss: 0.2493 - accuracy: 0.9044 - val_loss: 0.3807 - val_accuracy: 0.8740\n",
      "Epoch 150/200\n",
      "141/141 [==============================] - 0s 3ms/step - loss: 0.2411 - accuracy: 0.9011 - val_loss: 0.4072 - val_accuracy: 0.8720\n",
      "Epoch 151/200\n",
      "141/141 [==============================] - 0s 3ms/step - loss: 0.2237 - accuracy: 0.9149 - val_loss: 0.3466 - val_accuracy: 0.8840\n",
      "Epoch 152/200\n",
      "141/141 [==============================] - 0s 3ms/step - loss: 0.2344 - accuracy: 0.9091 - val_loss: 0.3729 - val_accuracy: 0.8740\n",
      "Epoch 153/200\n",
      "141/141 [==============================] - 0s 3ms/step - loss: 0.2336 - accuracy: 0.9096 - val_loss: 0.4087 - val_accuracy: 0.8700\n",
      "Epoch 154/200\n",
      "141/141 [==============================] - 0s 3ms/step - loss: 0.2448 - accuracy: 0.9053 - val_loss: 0.4307 - val_accuracy: 0.8600\n",
      "Epoch 155/200\n",
      "141/141 [==============================] - 0s 3ms/step - loss: 0.2338 - accuracy: 0.9098 - val_loss: 0.4243 - val_accuracy: 0.8700\n",
      "Epoch 156/200\n",
      "141/141 [==============================] - 0s 3ms/step - loss: 0.2264 - accuracy: 0.9127 - val_loss: 0.3951 - val_accuracy: 0.8640\n",
      "Epoch 157/200\n",
      "141/141 [==============================] - 0s 3ms/step - loss: 0.2207 - accuracy: 0.9142 - val_loss: 0.3607 - val_accuracy: 0.8740\n",
      "Epoch 158/200\n",
      "141/141 [==============================] - 0s 3ms/step - loss: 0.2452 - accuracy: 0.9020 - val_loss: 0.3824 - val_accuracy: 0.8840\n",
      "Epoch 159/200\n",
      "141/141 [==============================] - 0s 3ms/step - loss: 0.2302 - accuracy: 0.9062 - val_loss: 0.3804 - val_accuracy: 0.8760\n",
      "Epoch 160/200\n",
      "141/141 [==============================] - 0s 3ms/step - loss: 0.2271 - accuracy: 0.9116 - val_loss: 0.3735 - val_accuracy: 0.8720\n",
      "Epoch 161/200\n",
      "141/141 [==============================] - 0s 3ms/step - loss: 0.2284 - accuracy: 0.9104 - val_loss: 0.3792 - val_accuracy: 0.8720\n",
      "Epoch 162/200\n",
      "141/141 [==============================] - 0s 3ms/step - loss: 0.2370 - accuracy: 0.9091 - val_loss: 0.4064 - val_accuracy: 0.8480\n",
      "Epoch 163/200\n",
      "141/141 [==============================] - 0s 3ms/step - loss: 0.2445 - accuracy: 0.9078 - val_loss: 0.3819 - val_accuracy: 0.8540\n",
      "Epoch 164/200\n",
      "141/141 [==============================] - 0s 3ms/step - loss: 0.2281 - accuracy: 0.9122 - val_loss: 0.4049 - val_accuracy: 0.8640\n",
      "Epoch 165/200\n",
      "141/141 [==============================] - 0s 3ms/step - loss: 0.2515 - accuracy: 0.9024 - val_loss: 0.3540 - val_accuracy: 0.8860\n",
      "Epoch 166/200\n",
      "141/141 [==============================] - 0s 3ms/step - loss: 0.2325 - accuracy: 0.9107 - val_loss: 0.3862 - val_accuracy: 0.8820\n",
      "Epoch 167/200\n",
      "141/141 [==============================] - 0s 3ms/step - loss: 0.2318 - accuracy: 0.9100 - val_loss: 0.3930 - val_accuracy: 0.8700\n",
      "Epoch 168/200\n",
      "141/141 [==============================] - 0s 3ms/step - loss: 0.2173 - accuracy: 0.9149 - val_loss: 0.3549 - val_accuracy: 0.8680\n",
      "Epoch 169/200\n",
      "141/141 [==============================] - 0s 3ms/step - loss: 0.2183 - accuracy: 0.9138 - val_loss: 0.4236 - val_accuracy: 0.8500\n",
      "Epoch 170/200\n",
      "141/141 [==============================] - 0s 3ms/step - loss: 0.2275 - accuracy: 0.9098 - val_loss: 0.3530 - val_accuracy: 0.8760\n",
      "Epoch 171/200\n",
      "141/141 [==============================] - 0s 3ms/step - loss: 0.2179 - accuracy: 0.9116 - val_loss: 0.3435 - val_accuracy: 0.8860\n",
      "Epoch 172/200\n",
      "141/141 [==============================] - 0s 3ms/step - loss: 0.2261 - accuracy: 0.9102 - val_loss: 0.4432 - val_accuracy: 0.8600\n",
      "Epoch 173/200\n",
      "141/141 [==============================] - 0s 3ms/step - loss: 0.2342 - accuracy: 0.9091 - val_loss: 0.3566 - val_accuracy: 0.8760\n",
      "Epoch 174/200\n",
      "141/141 [==============================] - 0s 3ms/step - loss: 0.2350 - accuracy: 0.9042 - val_loss: 0.3569 - val_accuracy: 0.8880\n",
      "Epoch 175/200\n",
      "141/141 [==============================] - 0s 3ms/step - loss: 0.2327 - accuracy: 0.9076 - val_loss: 0.3958 - val_accuracy: 0.8840\n",
      "Epoch 176/200\n",
      "141/141 [==============================] - 0s 3ms/step - loss: 0.2129 - accuracy: 0.9138 - val_loss: 0.3891 - val_accuracy: 0.8780\n",
      "Epoch 177/200\n",
      "141/141 [==============================] - 0s 3ms/step - loss: 0.2121 - accuracy: 0.9178 - val_loss: 0.3717 - val_accuracy: 0.8820\n",
      "Epoch 178/200\n",
      "141/141 [==============================] - 0s 3ms/step - loss: 0.2330 - accuracy: 0.9060 - val_loss: 0.3922 - val_accuracy: 0.8700\n",
      "Epoch 179/200\n",
      "141/141 [==============================] - 0s 3ms/step - loss: 0.2253 - accuracy: 0.9100 - val_loss: 0.3893 - val_accuracy: 0.8780\n",
      "Epoch 180/200\n",
      "141/141 [==============================] - 0s 3ms/step - loss: 0.2055 - accuracy: 0.9176 - val_loss: 0.3789 - val_accuracy: 0.8740\n",
      "Epoch 181/200\n",
      "141/141 [==============================] - 0s 3ms/step - loss: 0.2232 - accuracy: 0.9127 - val_loss: 0.3788 - val_accuracy: 0.8740\n",
      "Epoch 182/200\n",
      "141/141 [==============================] - 0s 3ms/step - loss: 0.2288 - accuracy: 0.9067 - val_loss: 0.3667 - val_accuracy: 0.8940\n",
      "Epoch 183/200\n",
      "141/141 [==============================] - 0s 3ms/step - loss: 0.2259 - accuracy: 0.9084 - val_loss: 0.3545 - val_accuracy: 0.8860\n",
      "Epoch 184/200\n",
      "141/141 [==============================] - 0s 3ms/step - loss: 0.2301 - accuracy: 0.9093 - val_loss: 0.4158 - val_accuracy: 0.8800\n",
      "Epoch 185/200\n",
      "141/141 [==============================] - 0s 3ms/step - loss: 0.2310 - accuracy: 0.9089 - val_loss: 0.3411 - val_accuracy: 0.8900\n",
      "Epoch 186/200\n",
      "141/141 [==============================] - 0s 3ms/step - loss: 0.2031 - accuracy: 0.9162 - val_loss: 0.4102 - val_accuracy: 0.8780\n",
      "Epoch 187/200\n",
      "141/141 [==============================] - 0s 3ms/step - loss: 0.2069 - accuracy: 0.9180 - val_loss: 0.3690 - val_accuracy: 0.8920\n",
      "Epoch 188/200\n",
      "141/141 [==============================] - 0s 3ms/step - loss: 0.1970 - accuracy: 0.9227 - val_loss: 0.3711 - val_accuracy: 0.8900\n",
      "Epoch 189/200\n",
      "141/141 [==============================] - 0s 3ms/step - loss: 0.2037 - accuracy: 0.9227 - val_loss: 0.3618 - val_accuracy: 0.8800\n",
      "Epoch 190/200\n",
      "141/141 [==============================] - 0s 3ms/step - loss: 0.2174 - accuracy: 0.9176 - val_loss: 0.5234 - val_accuracy: 0.8400\n",
      "Epoch 191/200\n",
      "141/141 [==============================] - 0s 3ms/step - loss: 0.2332 - accuracy: 0.9100 - val_loss: 0.4124 - val_accuracy: 0.8760\n",
      "Epoch 192/200\n",
      "141/141 [==============================] - 0s 3ms/step - loss: 0.2312 - accuracy: 0.9076 - val_loss: 0.3511 - val_accuracy: 0.8840\n",
      "Epoch 193/200\n",
      "141/141 [==============================] - 0s 3ms/step - loss: 0.1948 - accuracy: 0.9236 - val_loss: 0.3274 - val_accuracy: 0.8940\n",
      "Epoch 194/200\n",
      "141/141 [==============================] - 0s 3ms/step - loss: 0.2119 - accuracy: 0.9167 - val_loss: 0.3684 - val_accuracy: 0.8860\n",
      "Epoch 195/200\n",
      "141/141 [==============================] - 0s 3ms/step - loss: 0.2145 - accuracy: 0.9131 - val_loss: 0.3650 - val_accuracy: 0.8700\n",
      "Epoch 196/200\n",
      "141/141 [==============================] - 0s 3ms/step - loss: 0.2168 - accuracy: 0.9153 - val_loss: 0.3784 - val_accuracy: 0.8780\n",
      "Epoch 197/200\n",
      "141/141 [==============================] - 0s 3ms/step - loss: 0.2199 - accuracy: 0.9100 - val_loss: 0.3691 - val_accuracy: 0.8760\n",
      "Epoch 198/200\n",
      "141/141 [==============================] - 0s 3ms/step - loss: 0.2082 - accuracy: 0.9202 - val_loss: 0.3443 - val_accuracy: 0.8840\n",
      "Epoch 199/200\n",
      "141/141 [==============================] - 0s 3ms/step - loss: 0.2276 - accuracy: 0.9076 - val_loss: 0.3700 - val_accuracy: 0.8760\n",
      "Epoch 200/200\n",
      "141/141 [==============================] - 0s 2ms/step - loss: 0.2092 - accuracy: 0.9171 - val_loss: 0.3823 - val_accuracy: 0.8780\n"
     ]
    }
   ],
   "source": [
    "# Data: x_training, x_testing, y_training, y_testing\n",
    "#\n",
    "# Encode the labels\n",
    "encoder = LabelEncoder()  \n",
    "y_training_labeled = encoder.fit_transform(y_training)\n",
    "y_training_labeled = tf.keras.utils.to_categorical(y_training_labeled)\n",
    "\n",
    "# If the submission is for kaggle, y_testing does not exist.\n",
    "# Otherwise, we need to encode the labels.\n",
    "if results_to_test:\n",
    "    y_testing_labeled = encoder.fit_transform(y_testing)\n",
    "    y_testing_labeled = tf.keras.utils.to_categorical(y_testing_labeled)\n",
    "\n",
    "# Define the model\n",
    "model = tf.keras.Sequential()\n",
    "\n",
    "# Add a hidden layer with 16 units and ReLU activation\n",
    "model.add(tf.keras.layers.Dense(16, activation='relu', input_shape=(x_training.shape[1],)))\n",
    "\n",
    "# Add a hidden layer with 32 units and ReLU activation\n",
    "model.add(tf.keras.layers.Dense(32, activation='relu'))\n",
    "\n",
    "# Add a hidden layer with 64 units and ReLU activation\n",
    "model.add(tf.keras.layers.Dense(64, activation='relu'))\n",
    "\n",
    "# Add a hidden layer with 64 units and ReLU activation\n",
    "model.add(tf.keras.layers.Dense(64, activation='relu'))\n",
    "\n",
    "# Add a hidden layer with 32 units and ReLU activation\n",
    "model.add(tf.keras.layers.Dense(32, activation='relu'))\n",
    "\n",
    "# Add a hidden layer with 16 units and ReLU activation\n",
    "model.add(tf.keras.layers.Dense(16, activation='relu'))\n",
    "\n",
    "# Add an output layer with 5 units and softmax activation\n",
    "model.add(tf.keras.layers.Dense(5, activation='softmax'))\n",
    "\n",
    "# Compile the model with categorical crossentropy loss and an Adam optimizer\n",
    "model.compile(loss='categorical_crossentropy', optimizer='adam', metrics=['accuracy'])\n",
    "\n",
    "# Fit the model to the training data\n",
    "history = model.fit(x_training, y_training_labeled, epochs=200, batch_size=32, validation_split=0.1)\n",
    "\n",
    "# Evaluate the model on the test data\n",
    "if results_to_test:\n",
    "    loss, accuracy = model.evaluate(x_testing, y_testing_labeled)\n",
    "    print(\"Neural Network Accuracy: \", accuracy)\n",
    "else:\n",
    "    predictions = model.predict(x_testing)\n",
    "\n",
    "    results = tf.argmax(predictions, axis=1)\n",
    "    results = encoder.inverse_transform(results)\n",
    "    printOrWrite(\"NeuralNetwork\", results, y_testing, results_to_test)"
   ]
  },
  {
   "cell_type": "code",
   "execution_count": 319,
   "metadata": {},
   "outputs": [],
   "source": [
    "tryoutparams = False\n",
    "\n",
    "# {'learning_rate': 0.01, 'max_depth': 15, 'n_estimators': 1000, 'tree_method': 'gpu_hist'} 0.9184000000000001\n",
    "# {'learning_rate': 0.005, 'max_depth': 15, 'n_estimators': 1500, 'tree_method': 'gpu_hist'} 0.9194000000000001\n",
    "\n",
    "if tryoutparams:\n",
    "    param_grid = {\n",
    "    'n_estimators': [1500, 1000],\n",
    "    'max_depth': [10],\n",
    "    'learning_rate': [0.01, 0.005],\n",
    "    'tree_method': ['gpu_hist', 'hist']\n",
    "    }\n",
    "\n",
    "    xgbclassifier_set = dataset.copy()\n",
    "    xgbclassifier_set = xgbclassifier_set[xgbclassifier_set['incidents'] != 'test-only']\n",
    "    xgbclassifier_set_x = xgbclassifier_set.drop(['incidents'], axis=1)\n",
    "    xgbclassifier_set_y = xgbclassifier_set['incidents']\n",
    "\n",
    "    encoder = LabelEncoder()  \n",
    "    y_training_labeled = encoder.fit_transform(xgbclassifier_set_y)\n",
    "\n",
    "    # fit model no training data\n",
    "    xgbclassifier = xgb.XGBClassifier(\n",
    "        random_state=2023,\n",
    "        use_label_encoder=False,\n",
    "        eval_metric='mlogloss'\n",
    "    )\n",
    "    # change cv later? use square root of dataset size ?\n",
    "    grid_search = GridSearchCV(estimator=xgbclassifier, param_grid=param_grid, cv=5, verbose=3)\n",
    "    grid_search.fit(xgbclassifier_set_x, y_training_labeled)\n",
    "    print(grid_search.best_params_)\n",
    "    print(grid_search.best_score_)\n",
    "else:\n",
    "    encoder = LabelEncoder()  \n",
    "    y_training_labeled = encoder.fit_transform(y_training)\n",
    "    \n",
    "    # fit model no training data\n",
    "    xgbclassifier = xgb.XGBClassifier(\n",
    "        booster='gbtree',\n",
    "        random_state=2023,\n",
    "        use_label_encoder=False,\n",
    "        eval_metric='mlogloss',\n",
    "        tree_method='gpu_hist',\n",
    "        n_estimators=300,\n",
    "        learning_rate=0.2,\n",
    "        max_depth=15,\n",
    "    )\n",
    "\n",
    "    xgbclassifier.fit(x_training, y_training_labeled)\n",
    "    xgbclassifier_predictions = xgbclassifier.predict(x_testing)\n",
    "\n",
    "    results = encoder.inverse_transform(xgbclassifier_predictions)\n",
    "    printOrWrite(\"XGBClassifier\", results, y_testing, results_to_test)"
   ]
  },
  {
   "attachments": {},
   "cell_type": "markdown",
   "metadata": {},
   "source": [
    "## 6. Model Evaluation"
   ]
  },
  {
   "cell_type": "code",
   "execution_count": 1201,
   "metadata": {},
   "outputs": [],
   "source": [
    "results_plot = pd.DataFrame(columns=['Model', 'Accuracy', 'Precision', 'Recall', 'F1-Score'])\n",
    "for row in results_dict:\n",
    "    results_plot = results_plot.append({\n",
    "        'Model': row['model'],\n",
    "        'Accuracy': row['accuracy'],\n",
    "        'Precision': row['precision'],\n",
    "        'Recall': row['recall'],\n",
    "        'F1-Score': row['f1-score']\n",
    "        }, ignore_index=True)"
   ]
  },
  {
   "cell_type": "code",
   "execution_count": 1202,
   "metadata": {},
   "outputs": [
    {
     "data": {
      "text/html": [
       "<pre style=\"white-space:pre;overflow-x:auto;line-height:normal;font-family:Menlo,'DejaVu Sans Mono',consolas,'Courier New',monospace\"><span style=\"color: #800000; text-decoration-color: #800000\">╭─────────────────────────────── </span><span style=\"color: #800000; text-decoration-color: #800000; font-weight: bold\">Traceback </span><span style=\"color: #bf7f7f; text-decoration-color: #bf7f7f; font-weight: bold\">(most recent call last)</span><span style=\"color: #800000; text-decoration-color: #800000\"> ────────────────────────────────╮</span>\n",
       "<span style=\"color: #800000; text-decoration-color: #800000\">│</span> <span style=\"color: #808000; text-decoration-color: #808000\">&lt;ipython-input-1202-a60a4cf461f8&gt;</span>:<span style=\"color: #0000ff; text-decoration-color: #0000ff\">2</span> in <span style=\"color: #00ff00; text-decoration-color: #00ff00\">&lt;module&gt;</span>                                                  <span style=\"color: #800000; text-decoration-color: #800000\">│</span>\n",
       "<span style=\"color: #800000; text-decoration-color: #800000\">│</span>                                                                                                  <span style=\"color: #800000; text-decoration-color: #800000\">│</span>\n",
       "<span style=\"color: #800000; text-decoration-color: #800000\">│</span> <span style=\"color: #bfbf7f; text-decoration-color: #bfbf7f\">/home/lcmj/anaconda3/envs/daa/lib/python3.6/site-packages/seaborn/</span><span style=\"color: #808000; text-decoration-color: #808000; font-weight: bold\">_decorators.py</span>:<span style=\"color: #0000ff; text-decoration-color: #0000ff\">46</span> in <span style=\"color: #00ff00; text-decoration-color: #00ff00\">inner_f</span>   <span style=\"color: #800000; text-decoration-color: #800000\">│</span>\n",
       "<span style=\"color: #800000; text-decoration-color: #800000\">│</span>                                                                                                  <span style=\"color: #800000; text-decoration-color: #800000\">│</span>\n",
       "<span style=\"color: #800000; text-decoration-color: #800000\">│</span>   <span style=\"color: #7f7f7f; text-decoration-color: #7f7f7f\">43 │   │   │   │   </span><span style=\"color: #00ffff; text-decoration-color: #00ffff\">FutureWarning</span>                                                               <span style=\"color: #800000; text-decoration-color: #800000\">│</span>\n",
       "<span style=\"color: #800000; text-decoration-color: #800000\">│</span>   <span style=\"color: #7f7f7f; text-decoration-color: #7f7f7f\">44 │   │   │   </span>)                                                                               <span style=\"color: #800000; text-decoration-color: #800000\">│</span>\n",
       "<span style=\"color: #800000; text-decoration-color: #800000\">│</span>   <span style=\"color: #7f7f7f; text-decoration-color: #7f7f7f\">45 │   │   </span>kwargs.update({k: arg <span style=\"color: #0000ff; text-decoration-color: #0000ff\">for</span> k, arg <span style=\"color: #ff00ff; text-decoration-color: #ff00ff\">in</span> <span style=\"color: #00ffff; text-decoration-color: #00ffff\">zip</span>(sig.parameters, args)})                     <span style=\"color: #800000; text-decoration-color: #800000\">│</span>\n",
       "<span style=\"color: #800000; text-decoration-color: #800000\">│</span> <span style=\"color: #800000; text-decoration-color: #800000\">❱ </span>46 <span style=\"color: #7f7f7f; text-decoration-color: #7f7f7f\">│   │   </span><span style=\"color: #0000ff; text-decoration-color: #0000ff\">return</span> f(**kwargs)                                                                  <span style=\"color: #800000; text-decoration-color: #800000\">│</span>\n",
       "<span style=\"color: #800000; text-decoration-color: #800000\">│</span>   <span style=\"color: #7f7f7f; text-decoration-color: #7f7f7f\">47 │   </span><span style=\"color: #0000ff; text-decoration-color: #0000ff\">return</span> inner_f                                                                          <span style=\"color: #800000; text-decoration-color: #800000\">│</span>\n",
       "<span style=\"color: #800000; text-decoration-color: #800000\">│</span>   <span style=\"color: #7f7f7f; text-decoration-color: #7f7f7f\">48 </span>                                                                                            <span style=\"color: #800000; text-decoration-color: #800000\">│</span>\n",
       "<span style=\"color: #800000; text-decoration-color: #800000\">│</span>   <span style=\"color: #7f7f7f; text-decoration-color: #7f7f7f\">49 </span>                                                                                            <span style=\"color: #800000; text-decoration-color: #800000\">│</span>\n",
       "<span style=\"color: #800000; text-decoration-color: #800000\">│</span>                                                                                                  <span style=\"color: #800000; text-decoration-color: #800000\">│</span>\n",
       "<span style=\"color: #800000; text-decoration-color: #800000\">│</span> <span style=\"color: #bfbf7f; text-decoration-color: #bfbf7f\">/home/lcmj/anaconda3/envs/daa/lib/python3.6/site-packages/seaborn/</span><span style=\"color: #808000; text-decoration-color: #808000; font-weight: bold\">categorical.py</span>:<span style=\"color: #0000ff; text-decoration-color: #0000ff\">3185</span> in <span style=\"color: #00ff00; text-decoration-color: #00ff00\">barplot</span> <span style=\"color: #800000; text-decoration-color: #800000\">│</span>\n",
       "<span style=\"color: #800000; text-decoration-color: #800000\">│</span>                                                                                                  <span style=\"color: #800000; text-decoration-color: #800000\">│</span>\n",
       "<span style=\"color: #800000; text-decoration-color: #800000\">│</span>   <span style=\"color: #7f7f7f; text-decoration-color: #7f7f7f\">3182 │   </span>plotter = _BarPlotter(x, y, hue, data, order, hue_order,                              <span style=\"color: #800000; text-decoration-color: #800000\">│</span>\n",
       "<span style=\"color: #800000; text-decoration-color: #800000\">│</span>   <span style=\"color: #7f7f7f; text-decoration-color: #7f7f7f\">3183 │   │   │   │   │   │     </span>estimator, ci, n_boot, units, seed,                             <span style=\"color: #800000; text-decoration-color: #800000\">│</span>\n",
       "<span style=\"color: #800000; text-decoration-color: #800000\">│</span>   <span style=\"color: #7f7f7f; text-decoration-color: #7f7f7f\">3184 │   │   │   │   │   │     </span>orient, color, palette, saturation,                             <span style=\"color: #800000; text-decoration-color: #800000\">│</span>\n",
       "<span style=\"color: #800000; text-decoration-color: #800000\">│</span> <span style=\"color: #800000; text-decoration-color: #800000\">❱ </span>3185 <span style=\"color: #7f7f7f; text-decoration-color: #7f7f7f\">│   │   │   │   │   │     </span>errcolor, errwidth, capsize, dodge)                             <span style=\"color: #800000; text-decoration-color: #800000\">│</span>\n",
       "<span style=\"color: #800000; text-decoration-color: #800000\">│</span>   <span style=\"color: #7f7f7f; text-decoration-color: #7f7f7f\">3186 │   </span>                                                                                      <span style=\"color: #800000; text-decoration-color: #800000\">│</span>\n",
       "<span style=\"color: #800000; text-decoration-color: #800000\">│</span>   <span style=\"color: #7f7f7f; text-decoration-color: #7f7f7f\">3187 │   </span><span style=\"color: #0000ff; text-decoration-color: #0000ff\">if</span> ax <span style=\"color: #ff00ff; text-decoration-color: #ff00ff\">is</span> <span style=\"color: #0000ff; text-decoration-color: #0000ff\">None</span>:                                                                        <span style=\"color: #800000; text-decoration-color: #800000\">│</span>\n",
       "<span style=\"color: #800000; text-decoration-color: #800000\">│</span>   <span style=\"color: #7f7f7f; text-decoration-color: #7f7f7f\">3188 │   │   </span>ax = plt.gca()                                                                    <span style=\"color: #800000; text-decoration-color: #800000\">│</span>\n",
       "<span style=\"color: #800000; text-decoration-color: #800000\">│</span>                                                                                                  <span style=\"color: #800000; text-decoration-color: #800000\">│</span>\n",
       "<span style=\"color: #800000; text-decoration-color: #800000\">│</span> <span style=\"color: #bfbf7f; text-decoration-color: #bfbf7f\">/home/lcmj/anaconda3/envs/daa/lib/python3.6/site-packages/seaborn/</span><span style=\"color: #808000; text-decoration-color: #808000; font-weight: bold\">categorical.py</span>:<span style=\"color: #0000ff; text-decoration-color: #0000ff\">1586</span> in         <span style=\"color: #800000; text-decoration-color: #800000\">│</span>\n",
       "<span style=\"color: #800000; text-decoration-color: #800000\">│</span> <span style=\"color: #00ff00; text-decoration-color: #00ff00\">__init__</span>                                                                                         <span style=\"color: #800000; text-decoration-color: #800000\">│</span>\n",
       "<span style=\"color: #800000; text-decoration-color: #800000\">│</span>                                                                                                  <span style=\"color: #800000; text-decoration-color: #800000\">│</span>\n",
       "<span style=\"color: #800000; text-decoration-color: #800000\">│</span>   <span style=\"color: #7f7f7f; text-decoration-color: #7f7f7f\">1583 │   │   </span><span style=\"color: #808000; text-decoration-color: #808000\">\"\"\"Initialize the plotter.\"\"\"</span>                                                     <span style=\"color: #800000; text-decoration-color: #800000\">│</span>\n",
       "<span style=\"color: #800000; text-decoration-color: #800000\">│</span>   <span style=\"color: #7f7f7f; text-decoration-color: #7f7f7f\">1584 │   │   </span><span style=\"color: #00ffff; text-decoration-color: #00ffff\">self</span>.establish_variables(x, y, hue, data, orient,                                 <span style=\"color: #800000; text-decoration-color: #800000\">│</span>\n",
       "<span style=\"color: #800000; text-decoration-color: #800000\">│</span>   <span style=\"color: #7f7f7f; text-decoration-color: #7f7f7f\">1585 │   │   │   │   │   │   │   │    </span>order, hue_order, units)                                 <span style=\"color: #800000; text-decoration-color: #800000\">│</span>\n",
       "<span style=\"color: #800000; text-decoration-color: #800000\">│</span> <span style=\"color: #800000; text-decoration-color: #800000\">❱ </span>1586 <span style=\"color: #7f7f7f; text-decoration-color: #7f7f7f\">│   │   </span><span style=\"color: #00ffff; text-decoration-color: #00ffff\">self</span>.establish_colors(color, palette, saturation)                                 <span style=\"color: #800000; text-decoration-color: #800000\">│</span>\n",
       "<span style=\"color: #800000; text-decoration-color: #800000\">│</span>   <span style=\"color: #7f7f7f; text-decoration-color: #7f7f7f\">1587 │   │   </span><span style=\"color: #00ffff; text-decoration-color: #00ffff\">self</span>.estimate_statistic(estimator, ci, n_boot, seed)                              <span style=\"color: #800000; text-decoration-color: #800000\">│</span>\n",
       "<span style=\"color: #800000; text-decoration-color: #800000\">│</span>   <span style=\"color: #7f7f7f; text-decoration-color: #7f7f7f\">1588 │   │   </span>                                                                                  <span style=\"color: #800000; text-decoration-color: #800000\">│</span>\n",
       "<span style=\"color: #800000; text-decoration-color: #800000\">│</span>   <span style=\"color: #7f7f7f; text-decoration-color: #7f7f7f\">1589 │   │   </span><span style=\"color: #00ffff; text-decoration-color: #00ffff\">self</span>.dodge = dodge                                                                <span style=\"color: #800000; text-decoration-color: #800000\">│</span>\n",
       "<span style=\"color: #800000; text-decoration-color: #800000\">│</span>                                                                                                  <span style=\"color: #800000; text-decoration-color: #800000\">│</span>\n",
       "<span style=\"color: #800000; text-decoration-color: #800000\">│</span> <span style=\"color: #bfbf7f; text-decoration-color: #bfbf7f\">/home/lcmj/anaconda3/envs/daa/lib/python3.6/site-packages/seaborn/</span><span style=\"color: #808000; text-decoration-color: #808000; font-weight: bold\">categorical.py</span>:<span style=\"color: #0000ff; text-decoration-color: #0000ff\">319</span> in          <span style=\"color: #800000; text-decoration-color: #800000\">│</span>\n",
       "<span style=\"color: #800000; text-decoration-color: #800000\">│</span> <span style=\"color: #00ff00; text-decoration-color: #00ff00\">establish_colors</span>                                                                                 <span style=\"color: #800000; text-decoration-color: #800000\">│</span>\n",
       "<span style=\"color: #800000; text-decoration-color: #800000\">│</span>                                                                                                  <span style=\"color: #800000; text-decoration-color: #800000\">│</span>\n",
       "<span style=\"color: #800000; text-decoration-color: #800000\">│</span>   <span style=\"color: #7f7f7f; text-decoration-color: #7f7f7f\"> 316 │   │   </span>                                                                                  <span style=\"color: #800000; text-decoration-color: #800000\">│</span>\n",
       "<span style=\"color: #800000; text-decoration-color: #800000\">│</span>   <span style=\"color: #7f7f7f; text-decoration-color: #7f7f7f\"> 317 │   │   # Determine the gray color to use for the lines framing the plot</span>                  <span style=\"color: #800000; text-decoration-color: #800000\">│</span>\n",
       "<span style=\"color: #800000; text-decoration-color: #800000\">│</span>   <span style=\"color: #7f7f7f; text-decoration-color: #7f7f7f\"> 318 │   │   </span>light_vals = [colorsys.rgb_to_hls(*c)[<span style=\"color: #0000ff; text-decoration-color: #0000ff\">1</span>] <span style=\"color: #0000ff; text-decoration-color: #0000ff\">for</span> c <span style=\"color: #ff00ff; text-decoration-color: #ff00ff\">in</span> rgb_colors]                     <span style=\"color: #800000; text-decoration-color: #800000\">│</span>\n",
       "<span style=\"color: #800000; text-decoration-color: #800000\">│</span> <span style=\"color: #800000; text-decoration-color: #800000\">❱ </span> 319 <span style=\"color: #7f7f7f; text-decoration-color: #7f7f7f\">│   │   </span>lum = <span style=\"color: #00ffff; text-decoration-color: #00ffff\">min</span>(light_vals) * <span style=\"color: #0000ff; text-decoration-color: #0000ff\">.6</span>                                                        <span style=\"color: #800000; text-decoration-color: #800000\">│</span>\n",
       "<span style=\"color: #800000; text-decoration-color: #800000\">│</span>   <span style=\"color: #7f7f7f; text-decoration-color: #7f7f7f\"> 320 │   │   </span>gray = mpl.colors.rgb2hex((lum, lum, lum))                                        <span style=\"color: #800000; text-decoration-color: #800000\">│</span>\n",
       "<span style=\"color: #800000; text-decoration-color: #800000\">│</span>   <span style=\"color: #7f7f7f; text-decoration-color: #7f7f7f\"> 321 │   │   </span>                                                                                  <span style=\"color: #800000; text-decoration-color: #800000\">│</span>\n",
       "<span style=\"color: #800000; text-decoration-color: #800000\">│</span>   <span style=\"color: #7f7f7f; text-decoration-color: #7f7f7f\"> 322 │   │   # Assign object attributes</span>                                                        <span style=\"color: #800000; text-decoration-color: #800000\">│</span>\n",
       "<span style=\"color: #800000; text-decoration-color: #800000\">╰──────────────────────────────────────────────────────────────────────────────────────────────────╯</span>\n",
       "<span style=\"color: #ff0000; text-decoration-color: #ff0000; font-weight: bold\">ValueError: </span><span style=\"color: #800080; text-decoration-color: #800080; font-weight: bold\">min</span><span style=\"font-weight: bold\">()</span> arg is an empty sequence\n",
       "</pre>\n"
      ],
      "text/plain": [
       "\u001b[31m╭─\u001b[0m\u001b[31m──────────────────────────────\u001b[0m\u001b[31m \u001b[0m\u001b[1;31mTraceback \u001b[0m\u001b[1;2;31m(most recent call last)\u001b[0m\u001b[31m \u001b[0m\u001b[31m───────────────────────────────\u001b[0m\u001b[31m─╮\u001b[0m\n",
       "\u001b[31m│\u001b[0m \u001b[33m<ipython-input-1202-a60a4cf461f8>\u001b[0m:\u001b[94m2\u001b[0m in \u001b[92m<module>\u001b[0m                                                  \u001b[31m│\u001b[0m\n",
       "\u001b[31m│\u001b[0m                                                                                                  \u001b[31m│\u001b[0m\n",
       "\u001b[31m│\u001b[0m \u001b[2;33m/home/lcmj/anaconda3/envs/daa/lib/python3.6/site-packages/seaborn/\u001b[0m\u001b[1;33m_decorators.py\u001b[0m:\u001b[94m46\u001b[0m in \u001b[92minner_f\u001b[0m   \u001b[31m│\u001b[0m\n",
       "\u001b[31m│\u001b[0m                                                                                                  \u001b[31m│\u001b[0m\n",
       "\u001b[31m│\u001b[0m   \u001b[2m43 \u001b[0m\u001b[2m│   │   │   │   \u001b[0m\u001b[96mFutureWarning\u001b[0m                                                               \u001b[31m│\u001b[0m\n",
       "\u001b[31m│\u001b[0m   \u001b[2m44 \u001b[0m\u001b[2m│   │   │   \u001b[0m)                                                                               \u001b[31m│\u001b[0m\n",
       "\u001b[31m│\u001b[0m   \u001b[2m45 \u001b[0m\u001b[2m│   │   \u001b[0mkwargs.update({k: arg \u001b[94mfor\u001b[0m k, arg \u001b[95min\u001b[0m \u001b[96mzip\u001b[0m(sig.parameters, args)})                     \u001b[31m│\u001b[0m\n",
       "\u001b[31m│\u001b[0m \u001b[31m❱ \u001b[0m46 \u001b[2m│   │   \u001b[0m\u001b[94mreturn\u001b[0m f(**kwargs)                                                                  \u001b[31m│\u001b[0m\n",
       "\u001b[31m│\u001b[0m   \u001b[2m47 \u001b[0m\u001b[2m│   \u001b[0m\u001b[94mreturn\u001b[0m inner_f                                                                          \u001b[31m│\u001b[0m\n",
       "\u001b[31m│\u001b[0m   \u001b[2m48 \u001b[0m                                                                                            \u001b[31m│\u001b[0m\n",
       "\u001b[31m│\u001b[0m   \u001b[2m49 \u001b[0m                                                                                            \u001b[31m│\u001b[0m\n",
       "\u001b[31m│\u001b[0m                                                                                                  \u001b[31m│\u001b[0m\n",
       "\u001b[31m│\u001b[0m \u001b[2;33m/home/lcmj/anaconda3/envs/daa/lib/python3.6/site-packages/seaborn/\u001b[0m\u001b[1;33mcategorical.py\u001b[0m:\u001b[94m3185\u001b[0m in \u001b[92mbarplot\u001b[0m \u001b[31m│\u001b[0m\n",
       "\u001b[31m│\u001b[0m                                                                                                  \u001b[31m│\u001b[0m\n",
       "\u001b[31m│\u001b[0m   \u001b[2m3182 \u001b[0m\u001b[2m│   \u001b[0mplotter = _BarPlotter(x, y, hue, data, order, hue_order,                              \u001b[31m│\u001b[0m\n",
       "\u001b[31m│\u001b[0m   \u001b[2m3183 \u001b[0m\u001b[2m│   │   │   │   │   │     \u001b[0mestimator, ci, n_boot, units, seed,                             \u001b[31m│\u001b[0m\n",
       "\u001b[31m│\u001b[0m   \u001b[2m3184 \u001b[0m\u001b[2m│   │   │   │   │   │     \u001b[0morient, color, palette, saturation,                             \u001b[31m│\u001b[0m\n",
       "\u001b[31m│\u001b[0m \u001b[31m❱ \u001b[0m3185 \u001b[2m│   │   │   │   │   │     \u001b[0merrcolor, errwidth, capsize, dodge)                             \u001b[31m│\u001b[0m\n",
       "\u001b[31m│\u001b[0m   \u001b[2m3186 \u001b[0m\u001b[2m│   \u001b[0m                                                                                      \u001b[31m│\u001b[0m\n",
       "\u001b[31m│\u001b[0m   \u001b[2m3187 \u001b[0m\u001b[2m│   \u001b[0m\u001b[94mif\u001b[0m ax \u001b[95mis\u001b[0m \u001b[94mNone\u001b[0m:                                                                        \u001b[31m│\u001b[0m\n",
       "\u001b[31m│\u001b[0m   \u001b[2m3188 \u001b[0m\u001b[2m│   │   \u001b[0max = plt.gca()                                                                    \u001b[31m│\u001b[0m\n",
       "\u001b[31m│\u001b[0m                                                                                                  \u001b[31m│\u001b[0m\n",
       "\u001b[31m│\u001b[0m \u001b[2;33m/home/lcmj/anaconda3/envs/daa/lib/python3.6/site-packages/seaborn/\u001b[0m\u001b[1;33mcategorical.py\u001b[0m:\u001b[94m1586\u001b[0m in         \u001b[31m│\u001b[0m\n",
       "\u001b[31m│\u001b[0m \u001b[92m__init__\u001b[0m                                                                                         \u001b[31m│\u001b[0m\n",
       "\u001b[31m│\u001b[0m                                                                                                  \u001b[31m│\u001b[0m\n",
       "\u001b[31m│\u001b[0m   \u001b[2m1583 \u001b[0m\u001b[2m│   │   \u001b[0m\u001b[33m\"\"\"Initialize the plotter.\"\"\"\u001b[0m                                                     \u001b[31m│\u001b[0m\n",
       "\u001b[31m│\u001b[0m   \u001b[2m1584 \u001b[0m\u001b[2m│   │   \u001b[0m\u001b[96mself\u001b[0m.establish_variables(x, y, hue, data, orient,                                 \u001b[31m│\u001b[0m\n",
       "\u001b[31m│\u001b[0m   \u001b[2m1585 \u001b[0m\u001b[2m│   │   │   │   │   │   │   │    \u001b[0morder, hue_order, units)                                 \u001b[31m│\u001b[0m\n",
       "\u001b[31m│\u001b[0m \u001b[31m❱ \u001b[0m1586 \u001b[2m│   │   \u001b[0m\u001b[96mself\u001b[0m.establish_colors(color, palette, saturation)                                 \u001b[31m│\u001b[0m\n",
       "\u001b[31m│\u001b[0m   \u001b[2m1587 \u001b[0m\u001b[2m│   │   \u001b[0m\u001b[96mself\u001b[0m.estimate_statistic(estimator, ci, n_boot, seed)                              \u001b[31m│\u001b[0m\n",
       "\u001b[31m│\u001b[0m   \u001b[2m1588 \u001b[0m\u001b[2m│   │   \u001b[0m                                                                                  \u001b[31m│\u001b[0m\n",
       "\u001b[31m│\u001b[0m   \u001b[2m1589 \u001b[0m\u001b[2m│   │   \u001b[0m\u001b[96mself\u001b[0m.dodge = dodge                                                                \u001b[31m│\u001b[0m\n",
       "\u001b[31m│\u001b[0m                                                                                                  \u001b[31m│\u001b[0m\n",
       "\u001b[31m│\u001b[0m \u001b[2;33m/home/lcmj/anaconda3/envs/daa/lib/python3.6/site-packages/seaborn/\u001b[0m\u001b[1;33mcategorical.py\u001b[0m:\u001b[94m319\u001b[0m in          \u001b[31m│\u001b[0m\n",
       "\u001b[31m│\u001b[0m \u001b[92mestablish_colors\u001b[0m                                                                                 \u001b[31m│\u001b[0m\n",
       "\u001b[31m│\u001b[0m                                                                                                  \u001b[31m│\u001b[0m\n",
       "\u001b[31m│\u001b[0m   \u001b[2m 316 \u001b[0m\u001b[2m│   │   \u001b[0m                                                                                  \u001b[31m│\u001b[0m\n",
       "\u001b[31m│\u001b[0m   \u001b[2m 317 \u001b[0m\u001b[2m│   │   \u001b[0m\u001b[2m# Determine the gray color to use for the lines framing the plot\u001b[0m                  \u001b[31m│\u001b[0m\n",
       "\u001b[31m│\u001b[0m   \u001b[2m 318 \u001b[0m\u001b[2m│   │   \u001b[0mlight_vals = [colorsys.rgb_to_hls(*c)[\u001b[94m1\u001b[0m] \u001b[94mfor\u001b[0m c \u001b[95min\u001b[0m rgb_colors]                     \u001b[31m│\u001b[0m\n",
       "\u001b[31m│\u001b[0m \u001b[31m❱ \u001b[0m 319 \u001b[2m│   │   \u001b[0mlum = \u001b[96mmin\u001b[0m(light_vals) * \u001b[94m.6\u001b[0m                                                        \u001b[31m│\u001b[0m\n",
       "\u001b[31m│\u001b[0m   \u001b[2m 320 \u001b[0m\u001b[2m│   │   \u001b[0mgray = mpl.colors.rgb2hex((lum, lum, lum))                                        \u001b[31m│\u001b[0m\n",
       "\u001b[31m│\u001b[0m   \u001b[2m 321 \u001b[0m\u001b[2m│   │   \u001b[0m                                                                                  \u001b[31m│\u001b[0m\n",
       "\u001b[31m│\u001b[0m   \u001b[2m 322 \u001b[0m\u001b[2m│   │   \u001b[0m\u001b[2m# Assign object attributes\u001b[0m                                                        \u001b[31m│\u001b[0m\n",
       "\u001b[31m╰──────────────────────────────────────────────────────────────────────────────────────────────────╯\u001b[0m\n",
       "\u001b[1;91mValueError: \u001b[0m\u001b[1;35mmin\u001b[0m\u001b[1m(\u001b[0m\u001b[1m)\u001b[0m arg is an empty sequence\n"
      ]
     },
     "metadata": {},
     "output_type": "display_data"
    },
    {
     "data": {
      "image/png": "[encoded data removed]",
      "text/plain": [
       "<Figure size 2500x500 with 1 Axes>"
      ]
     },
     "metadata": {
      "needs_background": "light"
     },
     "output_type": "display_data"
    }
   ],
   "source": [
    "fig, ax = plt.subplots(figsize=(25, 5), dpi=100)\n",
    "sns.barplot(x=results_plot['Model'] , y=results_plot['Accuracy'], ax=ax, palette='Set2')\n",
    "ax.set_xlabel('Model', fontdict={'color':'black', 'weight':'bold', 'size': 16})\n",
    "ax.set_ylabel('Accuracy', fontdict={'color':'black', 'weight':'bold', 'size': 16})"
   ]
  },
  {
   "cell_type": "code",
   "execution_count": 1203,
   "metadata": {},
   "outputs": [
    {
     "data": {
      "text/html": [
       "<pre style=\"white-space:pre;overflow-x:auto;line-height:normal;font-family:Menlo,'DejaVu Sans Mono',consolas,'Courier New',monospace\"><span style=\"color: #800000; text-decoration-color: #800000\">╭─────────────────────────────── </span><span style=\"color: #800000; text-decoration-color: #800000; font-weight: bold\">Traceback </span><span style=\"color: #bf7f7f; text-decoration-color: #bf7f7f; font-weight: bold\">(most recent call last)</span><span style=\"color: #800000; text-decoration-color: #800000\"> ────────────────────────────────╮</span>\n",
       "<span style=\"color: #800000; text-decoration-color: #800000\">│</span> <span style=\"color: #808000; text-decoration-color: #808000\">&lt;ipython-input-1203-46b0576d1fd9&gt;</span>:<span style=\"color: #0000ff; text-decoration-color: #0000ff\">2</span> in <span style=\"color: #00ff00; text-decoration-color: #00ff00\">&lt;module&gt;</span>                                                  <span style=\"color: #800000; text-decoration-color: #800000\">│</span>\n",
       "<span style=\"color: #800000; text-decoration-color: #800000\">│</span>                                                                                                  <span style=\"color: #800000; text-decoration-color: #800000\">│</span>\n",
       "<span style=\"color: #800000; text-decoration-color: #800000\">│</span> <span style=\"color: #bfbf7f; text-decoration-color: #bfbf7f\">/home/lcmj/anaconda3/envs/daa/lib/python3.6/site-packages/seaborn/</span><span style=\"color: #808000; text-decoration-color: #808000; font-weight: bold\">_decorators.py</span>:<span style=\"color: #0000ff; text-decoration-color: #0000ff\">46</span> in <span style=\"color: #00ff00; text-decoration-color: #00ff00\">inner_f</span>   <span style=\"color: #800000; text-decoration-color: #800000\">│</span>\n",
       "<span style=\"color: #800000; text-decoration-color: #800000\">│</span>                                                                                                  <span style=\"color: #800000; text-decoration-color: #800000\">│</span>\n",
       "<span style=\"color: #800000; text-decoration-color: #800000\">│</span>   <span style=\"color: #7f7f7f; text-decoration-color: #7f7f7f\">43 │   │   │   │   </span><span style=\"color: #00ffff; text-decoration-color: #00ffff\">FutureWarning</span>                                                               <span style=\"color: #800000; text-decoration-color: #800000\">│</span>\n",
       "<span style=\"color: #800000; text-decoration-color: #800000\">│</span>   <span style=\"color: #7f7f7f; text-decoration-color: #7f7f7f\">44 │   │   │   </span>)                                                                               <span style=\"color: #800000; text-decoration-color: #800000\">│</span>\n",
       "<span style=\"color: #800000; text-decoration-color: #800000\">│</span>   <span style=\"color: #7f7f7f; text-decoration-color: #7f7f7f\">45 │   │   </span>kwargs.update({k: arg <span style=\"color: #0000ff; text-decoration-color: #0000ff\">for</span> k, arg <span style=\"color: #ff00ff; text-decoration-color: #ff00ff\">in</span> <span style=\"color: #00ffff; text-decoration-color: #00ffff\">zip</span>(sig.parameters, args)})                     <span style=\"color: #800000; text-decoration-color: #800000\">│</span>\n",
       "<span style=\"color: #800000; text-decoration-color: #800000\">│</span> <span style=\"color: #800000; text-decoration-color: #800000\">❱ </span>46 <span style=\"color: #7f7f7f; text-decoration-color: #7f7f7f\">│   │   </span><span style=\"color: #0000ff; text-decoration-color: #0000ff\">return</span> f(**kwargs)                                                                  <span style=\"color: #800000; text-decoration-color: #800000\">│</span>\n",
       "<span style=\"color: #800000; text-decoration-color: #800000\">│</span>   <span style=\"color: #7f7f7f; text-decoration-color: #7f7f7f\">47 │   </span><span style=\"color: #0000ff; text-decoration-color: #0000ff\">return</span> inner_f                                                                          <span style=\"color: #800000; text-decoration-color: #800000\">│</span>\n",
       "<span style=\"color: #800000; text-decoration-color: #800000\">│</span>   <span style=\"color: #7f7f7f; text-decoration-color: #7f7f7f\">48 </span>                                                                                            <span style=\"color: #800000; text-decoration-color: #800000\">│</span>\n",
       "<span style=\"color: #800000; text-decoration-color: #800000\">│</span>   <span style=\"color: #7f7f7f; text-decoration-color: #7f7f7f\">49 </span>                                                                                            <span style=\"color: #800000; text-decoration-color: #800000\">│</span>\n",
       "<span style=\"color: #800000; text-decoration-color: #800000\">│</span>                                                                                                  <span style=\"color: #800000; text-decoration-color: #800000\">│</span>\n",
       "<span style=\"color: #800000; text-decoration-color: #800000\">│</span> <span style=\"color: #bfbf7f; text-decoration-color: #bfbf7f\">/home/lcmj/anaconda3/envs/daa/lib/python3.6/site-packages/seaborn/</span><span style=\"color: #808000; text-decoration-color: #808000; font-weight: bold\">categorical.py</span>:<span style=\"color: #0000ff; text-decoration-color: #0000ff\">3185</span> in <span style=\"color: #00ff00; text-decoration-color: #00ff00\">barplot</span> <span style=\"color: #800000; text-decoration-color: #800000\">│</span>\n",
       "<span style=\"color: #800000; text-decoration-color: #800000\">│</span>                                                                                                  <span style=\"color: #800000; text-decoration-color: #800000\">│</span>\n",
       "<span style=\"color: #800000; text-decoration-color: #800000\">│</span>   <span style=\"color: #7f7f7f; text-decoration-color: #7f7f7f\">3182 │   </span>plotter = _BarPlotter(x, y, hue, data, order, hue_order,                              <span style=\"color: #800000; text-decoration-color: #800000\">│</span>\n",
       "<span style=\"color: #800000; text-decoration-color: #800000\">│</span>   <span style=\"color: #7f7f7f; text-decoration-color: #7f7f7f\">3183 │   │   │   │   │   │     </span>estimator, ci, n_boot, units, seed,                             <span style=\"color: #800000; text-decoration-color: #800000\">│</span>\n",
       "<span style=\"color: #800000; text-decoration-color: #800000\">│</span>   <span style=\"color: #7f7f7f; text-decoration-color: #7f7f7f\">3184 │   │   │   │   │   │     </span>orient, color, palette, saturation,                             <span style=\"color: #800000; text-decoration-color: #800000\">│</span>\n",
       "<span style=\"color: #800000; text-decoration-color: #800000\">│</span> <span style=\"color: #800000; text-decoration-color: #800000\">❱ </span>3185 <span style=\"color: #7f7f7f; text-decoration-color: #7f7f7f\">│   │   │   │   │   │     </span>errcolor, errwidth, capsize, dodge)                             <span style=\"color: #800000; text-decoration-color: #800000\">│</span>\n",
       "<span style=\"color: #800000; text-decoration-color: #800000\">│</span>   <span style=\"color: #7f7f7f; text-decoration-color: #7f7f7f\">3186 │   </span>                                                                                      <span style=\"color: #800000; text-decoration-color: #800000\">│</span>\n",
       "<span style=\"color: #800000; text-decoration-color: #800000\">│</span>   <span style=\"color: #7f7f7f; text-decoration-color: #7f7f7f\">3187 │   </span><span style=\"color: #0000ff; text-decoration-color: #0000ff\">if</span> ax <span style=\"color: #ff00ff; text-decoration-color: #ff00ff\">is</span> <span style=\"color: #0000ff; text-decoration-color: #0000ff\">None</span>:                                                                        <span style=\"color: #800000; text-decoration-color: #800000\">│</span>\n",
       "<span style=\"color: #800000; text-decoration-color: #800000\">│</span>   <span style=\"color: #7f7f7f; text-decoration-color: #7f7f7f\">3188 │   │   </span>ax = plt.gca()                                                                    <span style=\"color: #800000; text-decoration-color: #800000\">│</span>\n",
       "<span style=\"color: #800000; text-decoration-color: #800000\">│</span>                                                                                                  <span style=\"color: #800000; text-decoration-color: #800000\">│</span>\n",
       "<span style=\"color: #800000; text-decoration-color: #800000\">│</span> <span style=\"color: #bfbf7f; text-decoration-color: #bfbf7f\">/home/lcmj/anaconda3/envs/daa/lib/python3.6/site-packages/seaborn/</span><span style=\"color: #808000; text-decoration-color: #808000; font-weight: bold\">categorical.py</span>:<span style=\"color: #0000ff; text-decoration-color: #0000ff\">1586</span> in         <span style=\"color: #800000; text-decoration-color: #800000\">│</span>\n",
       "<span style=\"color: #800000; text-decoration-color: #800000\">│</span> <span style=\"color: #00ff00; text-decoration-color: #00ff00\">__init__</span>                                                                                         <span style=\"color: #800000; text-decoration-color: #800000\">│</span>\n",
       "<span style=\"color: #800000; text-decoration-color: #800000\">│</span>                                                                                                  <span style=\"color: #800000; text-decoration-color: #800000\">│</span>\n",
       "<span style=\"color: #800000; text-decoration-color: #800000\">│</span>   <span style=\"color: #7f7f7f; text-decoration-color: #7f7f7f\">1583 │   │   </span><span style=\"color: #808000; text-decoration-color: #808000\">\"\"\"Initialize the plotter.\"\"\"</span>                                                     <span style=\"color: #800000; text-decoration-color: #800000\">│</span>\n",
       "<span style=\"color: #800000; text-decoration-color: #800000\">│</span>   <span style=\"color: #7f7f7f; text-decoration-color: #7f7f7f\">1584 │   │   </span><span style=\"color: #00ffff; text-decoration-color: #00ffff\">self</span>.establish_variables(x, y, hue, data, orient,                                 <span style=\"color: #800000; text-decoration-color: #800000\">│</span>\n",
       "<span style=\"color: #800000; text-decoration-color: #800000\">│</span>   <span style=\"color: #7f7f7f; text-decoration-color: #7f7f7f\">1585 │   │   │   │   │   │   │   │    </span>order, hue_order, units)                                 <span style=\"color: #800000; text-decoration-color: #800000\">│</span>\n",
       "<span style=\"color: #800000; text-decoration-color: #800000\">│</span> <span style=\"color: #800000; text-decoration-color: #800000\">❱ </span>1586 <span style=\"color: #7f7f7f; text-decoration-color: #7f7f7f\">│   │   </span><span style=\"color: #00ffff; text-decoration-color: #00ffff\">self</span>.establish_colors(color, palette, saturation)                                 <span style=\"color: #800000; text-decoration-color: #800000\">│</span>\n",
       "<span style=\"color: #800000; text-decoration-color: #800000\">│</span>   <span style=\"color: #7f7f7f; text-decoration-color: #7f7f7f\">1587 │   │   </span><span style=\"color: #00ffff; text-decoration-color: #00ffff\">self</span>.estimate_statistic(estimator, ci, n_boot, seed)                              <span style=\"color: #800000; text-decoration-color: #800000\">│</span>\n",
       "<span style=\"color: #800000; text-decoration-color: #800000\">│</span>   <span style=\"color: #7f7f7f; text-decoration-color: #7f7f7f\">1588 │   │   </span>                                                                                  <span style=\"color: #800000; text-decoration-color: #800000\">│</span>\n",
       "<span style=\"color: #800000; text-decoration-color: #800000\">│</span>   <span style=\"color: #7f7f7f; text-decoration-color: #7f7f7f\">1589 │   │   </span><span style=\"color: #00ffff; text-decoration-color: #00ffff\">self</span>.dodge = dodge                                                                <span style=\"color: #800000; text-decoration-color: #800000\">│</span>\n",
       "<span style=\"color: #800000; text-decoration-color: #800000\">│</span>                                                                                                  <span style=\"color: #800000; text-decoration-color: #800000\">│</span>\n",
       "<span style=\"color: #800000; text-decoration-color: #800000\">│</span> <span style=\"color: #bfbf7f; text-decoration-color: #bfbf7f\">/home/lcmj/anaconda3/envs/daa/lib/python3.6/site-packages/seaborn/</span><span style=\"color: #808000; text-decoration-color: #808000; font-weight: bold\">categorical.py</span>:<span style=\"color: #0000ff; text-decoration-color: #0000ff\">319</span> in          <span style=\"color: #800000; text-decoration-color: #800000\">│</span>\n",
       "<span style=\"color: #800000; text-decoration-color: #800000\">│</span> <span style=\"color: #00ff00; text-decoration-color: #00ff00\">establish_colors</span>                                                                                 <span style=\"color: #800000; text-decoration-color: #800000\">│</span>\n",
       "<span style=\"color: #800000; text-decoration-color: #800000\">│</span>                                                                                                  <span style=\"color: #800000; text-decoration-color: #800000\">│</span>\n",
       "<span style=\"color: #800000; text-decoration-color: #800000\">│</span>   <span style=\"color: #7f7f7f; text-decoration-color: #7f7f7f\"> 316 │   │   </span>                                                                                  <span style=\"color: #800000; text-decoration-color: #800000\">│</span>\n",
       "<span style=\"color: #800000; text-decoration-color: #800000\">│</span>   <span style=\"color: #7f7f7f; text-decoration-color: #7f7f7f\"> 317 │   │   # Determine the gray color to use for the lines framing the plot</span>                  <span style=\"color: #800000; text-decoration-color: #800000\">│</span>\n",
       "<span style=\"color: #800000; text-decoration-color: #800000\">│</span>   <span style=\"color: #7f7f7f; text-decoration-color: #7f7f7f\"> 318 │   │   </span>light_vals = [colorsys.rgb_to_hls(*c)[<span style=\"color: #0000ff; text-decoration-color: #0000ff\">1</span>] <span style=\"color: #0000ff; text-decoration-color: #0000ff\">for</span> c <span style=\"color: #ff00ff; text-decoration-color: #ff00ff\">in</span> rgb_colors]                     <span style=\"color: #800000; text-decoration-color: #800000\">│</span>\n",
       "<span style=\"color: #800000; text-decoration-color: #800000\">│</span> <span style=\"color: #800000; text-decoration-color: #800000\">❱ </span> 319 <span style=\"color: #7f7f7f; text-decoration-color: #7f7f7f\">│   │   </span>lum = <span style=\"color: #00ffff; text-decoration-color: #00ffff\">min</span>(light_vals) * <span style=\"color: #0000ff; text-decoration-color: #0000ff\">.6</span>                                                        <span style=\"color: #800000; text-decoration-color: #800000\">│</span>\n",
       "<span style=\"color: #800000; text-decoration-color: #800000\">│</span>   <span style=\"color: #7f7f7f; text-decoration-color: #7f7f7f\"> 320 │   │   </span>gray = mpl.colors.rgb2hex((lum, lum, lum))                                        <span style=\"color: #800000; text-decoration-color: #800000\">│</span>\n",
       "<span style=\"color: #800000; text-decoration-color: #800000\">│</span>   <span style=\"color: #7f7f7f; text-decoration-color: #7f7f7f\"> 321 │   │   </span>                                                                                  <span style=\"color: #800000; text-decoration-color: #800000\">│</span>\n",
       "<span style=\"color: #800000; text-decoration-color: #800000\">│</span>   <span style=\"color: #7f7f7f; text-decoration-color: #7f7f7f\"> 322 │   │   # Assign object attributes</span>                                                        <span style=\"color: #800000; text-decoration-color: #800000\">│</span>\n",
       "<span style=\"color: #800000; text-decoration-color: #800000\">╰──────────────────────────────────────────────────────────────────────────────────────────────────╯</span>\n",
       "<span style=\"color: #ff0000; text-decoration-color: #ff0000; font-weight: bold\">ValueError: </span><span style=\"color: #800080; text-decoration-color: #800080; font-weight: bold\">min</span><span style=\"font-weight: bold\">()</span> arg is an empty sequence\n",
       "</pre>\n"
      ],
      "text/plain": [
       "\u001b[31m╭─\u001b[0m\u001b[31m──────────────────────────────\u001b[0m\u001b[31m \u001b[0m\u001b[1;31mTraceback \u001b[0m\u001b[1;2;31m(most recent call last)\u001b[0m\u001b[31m \u001b[0m\u001b[31m───────────────────────────────\u001b[0m\u001b[31m─╮\u001b[0m\n",
       "\u001b[31m│\u001b[0m \u001b[33m<ipython-input-1203-46b0576d1fd9>\u001b[0m:\u001b[94m2\u001b[0m in \u001b[92m<module>\u001b[0m                                                  \u001b[31m│\u001b[0m\n",
       "\u001b[31m│\u001b[0m                                                                                                  \u001b[31m│\u001b[0m\n",
       "\u001b[31m│\u001b[0m \u001b[2;33m/home/lcmj/anaconda3/envs/daa/lib/python3.6/site-packages/seaborn/\u001b[0m\u001b[1;33m_decorators.py\u001b[0m:\u001b[94m46\u001b[0m in \u001b[92minner_f\u001b[0m   \u001b[31m│\u001b[0m\n",
       "\u001b[31m│\u001b[0m                                                                                                  \u001b[31m│\u001b[0m\n",
       "\u001b[31m│\u001b[0m   \u001b[2m43 \u001b[0m\u001b[2m│   │   │   │   \u001b[0m\u001b[96mFutureWarning\u001b[0m                                                               \u001b[31m│\u001b[0m\n",
       "\u001b[31m│\u001b[0m   \u001b[2m44 \u001b[0m\u001b[2m│   │   │   \u001b[0m)                                                                               \u001b[31m│\u001b[0m\n",
       "\u001b[31m│\u001b[0m   \u001b[2m45 \u001b[0m\u001b[2m│   │   \u001b[0mkwargs.update({k: arg \u001b[94mfor\u001b[0m k, arg \u001b[95min\u001b[0m \u001b[96mzip\u001b[0m(sig.parameters, args)})                     \u001b[31m│\u001b[0m\n",
       "\u001b[31m│\u001b[0m \u001b[31m❱ \u001b[0m46 \u001b[2m│   │   \u001b[0m\u001b[94mreturn\u001b[0m f(**kwargs)                                                                  \u001b[31m│\u001b[0m\n",
       "\u001b[31m│\u001b[0m   \u001b[2m47 \u001b[0m\u001b[2m│   \u001b[0m\u001b[94mreturn\u001b[0m inner_f                                                                          \u001b[31m│\u001b[0m\n",
       "\u001b[31m│\u001b[0m   \u001b[2m48 \u001b[0m                                                                                            \u001b[31m│\u001b[0m\n",
       "\u001b[31m│\u001b[0m   \u001b[2m49 \u001b[0m                                                                                            \u001b[31m│\u001b[0m\n",
       "\u001b[31m│\u001b[0m                                                                                                  \u001b[31m│\u001b[0m\n",
       "\u001b[31m│\u001b[0m \u001b[2;33m/home/lcmj/anaconda3/envs/daa/lib/python3.6/site-packages/seaborn/\u001b[0m\u001b[1;33mcategorical.py\u001b[0m:\u001b[94m3185\u001b[0m in \u001b[92mbarplot\u001b[0m \u001b[31m│\u001b[0m\n",
       "\u001b[31m│\u001b[0m                                                                                                  \u001b[31m│\u001b[0m\n",
       "\u001b[31m│\u001b[0m   \u001b[2m3182 \u001b[0m\u001b[2m│   \u001b[0mplotter = _BarPlotter(x, y, hue, data, order, hue_order,                              \u001b[31m│\u001b[0m\n",
       "\u001b[31m│\u001b[0m   \u001b[2m3183 \u001b[0m\u001b[2m│   │   │   │   │   │     \u001b[0mestimator, ci, n_boot, units, seed,                             \u001b[31m│\u001b[0m\n",
       "\u001b[31m│\u001b[0m   \u001b[2m3184 \u001b[0m\u001b[2m│   │   │   │   │   │     \u001b[0morient, color, palette, saturation,                             \u001b[31m│\u001b[0m\n",
       "\u001b[31m│\u001b[0m \u001b[31m❱ \u001b[0m3185 \u001b[2m│   │   │   │   │   │     \u001b[0merrcolor, errwidth, capsize, dodge)                             \u001b[31m│\u001b[0m\n",
       "\u001b[31m│\u001b[0m   \u001b[2m3186 \u001b[0m\u001b[2m│   \u001b[0m                                                                                      \u001b[31m│\u001b[0m\n",
       "\u001b[31m│\u001b[0m   \u001b[2m3187 \u001b[0m\u001b[2m│   \u001b[0m\u001b[94mif\u001b[0m ax \u001b[95mis\u001b[0m \u001b[94mNone\u001b[0m:                                                                        \u001b[31m│\u001b[0m\n",
       "\u001b[31m│\u001b[0m   \u001b[2m3188 \u001b[0m\u001b[2m│   │   \u001b[0max = plt.gca()                                                                    \u001b[31m│\u001b[0m\n",
       "\u001b[31m│\u001b[0m                                                                                                  \u001b[31m│\u001b[0m\n",
       "\u001b[31m│\u001b[0m \u001b[2;33m/home/lcmj/anaconda3/envs/daa/lib/python3.6/site-packages/seaborn/\u001b[0m\u001b[1;33mcategorical.py\u001b[0m:\u001b[94m1586\u001b[0m in         \u001b[31m│\u001b[0m\n",
       "\u001b[31m│\u001b[0m \u001b[92m__init__\u001b[0m                                                                                         \u001b[31m│\u001b[0m\n",
       "\u001b[31m│\u001b[0m                                                                                                  \u001b[31m│\u001b[0m\n",
       "\u001b[31m│\u001b[0m   \u001b[2m1583 \u001b[0m\u001b[2m│   │   \u001b[0m\u001b[33m\"\"\"Initialize the plotter.\"\"\"\u001b[0m                                                     \u001b[31m│\u001b[0m\n",
       "\u001b[31m│\u001b[0m   \u001b[2m1584 \u001b[0m\u001b[2m│   │   \u001b[0m\u001b[96mself\u001b[0m.establish_variables(x, y, hue, data, orient,                                 \u001b[31m│\u001b[0m\n",
       "\u001b[31m│\u001b[0m   \u001b[2m1585 \u001b[0m\u001b[2m│   │   │   │   │   │   │   │    \u001b[0morder, hue_order, units)                                 \u001b[31m│\u001b[0m\n",
       "\u001b[31m│\u001b[0m \u001b[31m❱ \u001b[0m1586 \u001b[2m│   │   \u001b[0m\u001b[96mself\u001b[0m.establish_colors(color, palette, saturation)                                 \u001b[31m│\u001b[0m\n",
       "\u001b[31m│\u001b[0m   \u001b[2m1587 \u001b[0m\u001b[2m│   │   \u001b[0m\u001b[96mself\u001b[0m.estimate_statistic(estimator, ci, n_boot, seed)                              \u001b[31m│\u001b[0m\n",
       "\u001b[31m│\u001b[0m   \u001b[2m1588 \u001b[0m\u001b[2m│   │   \u001b[0m                                                                                  \u001b[31m│\u001b[0m\n",
       "\u001b[31m│\u001b[0m   \u001b[2m1589 \u001b[0m\u001b[2m│   │   \u001b[0m\u001b[96mself\u001b[0m.dodge = dodge                                                                \u001b[31m│\u001b[0m\n",
       "\u001b[31m│\u001b[0m                                                                                                  \u001b[31m│\u001b[0m\n",
       "\u001b[31m│\u001b[0m \u001b[2;33m/home/lcmj/anaconda3/envs/daa/lib/python3.6/site-packages/seaborn/\u001b[0m\u001b[1;33mcategorical.py\u001b[0m:\u001b[94m319\u001b[0m in          \u001b[31m│\u001b[0m\n",
       "\u001b[31m│\u001b[0m \u001b[92mestablish_colors\u001b[0m                                                                                 \u001b[31m│\u001b[0m\n",
       "\u001b[31m│\u001b[0m                                                                                                  \u001b[31m│\u001b[0m\n",
       "\u001b[31m│\u001b[0m   \u001b[2m 316 \u001b[0m\u001b[2m│   │   \u001b[0m                                                                                  \u001b[31m│\u001b[0m\n",
       "\u001b[31m│\u001b[0m   \u001b[2m 317 \u001b[0m\u001b[2m│   │   \u001b[0m\u001b[2m# Determine the gray color to use for the lines framing the plot\u001b[0m                  \u001b[31m│\u001b[0m\n",
       "\u001b[31m│\u001b[0m   \u001b[2m 318 \u001b[0m\u001b[2m│   │   \u001b[0mlight_vals = [colorsys.rgb_to_hls(*c)[\u001b[94m1\u001b[0m] \u001b[94mfor\u001b[0m c \u001b[95min\u001b[0m rgb_colors]                     \u001b[31m│\u001b[0m\n",
       "\u001b[31m│\u001b[0m \u001b[31m❱ \u001b[0m 319 \u001b[2m│   │   \u001b[0mlum = \u001b[96mmin\u001b[0m(light_vals) * \u001b[94m.6\u001b[0m                                                        \u001b[31m│\u001b[0m\n",
       "\u001b[31m│\u001b[0m   \u001b[2m 320 \u001b[0m\u001b[2m│   │   \u001b[0mgray = mpl.colors.rgb2hex((lum, lum, lum))                                        \u001b[31m│\u001b[0m\n",
       "\u001b[31m│\u001b[0m   \u001b[2m 321 \u001b[0m\u001b[2m│   │   \u001b[0m                                                                                  \u001b[31m│\u001b[0m\n",
       "\u001b[31m│\u001b[0m   \u001b[2m 322 \u001b[0m\u001b[2m│   │   \u001b[0m\u001b[2m# Assign object attributes\u001b[0m                                                        \u001b[31m│\u001b[0m\n",
       "\u001b[31m╰──────────────────────────────────────────────────────────────────────────────────────────────────╯\u001b[0m\n",
       "\u001b[1;91mValueError: \u001b[0m\u001b[1;35mmin\u001b[0m\u001b[1m(\u001b[0m\u001b[1m)\u001b[0m arg is an empty sequence\n"
      ]
     },
     "metadata": {},
     "output_type": "display_data"
    },
    {
     "data": {
      "image/png": "[encoded data removed]",
      "text/plain": [
       "<Figure size 2500x500 with 1 Axes>"
      ]
     },
     "metadata": {
      "needs_background": "light"
     },
     "output_type": "display_data"
    }
   ],
   "source": [
    "fig, ax = plt.subplots(figsize=(25, 5), dpi=100)\n",
    "sns.barplot(x=results_plot['Model'] , y=results_plot['Precision'], ax=ax, palette='Set2')\n",
    "ax.set_xlabel('Model', fontdict={'color':'black', 'weight':'bold', 'size': 16})\n",
    "ax.set_ylabel('Precision', fontdict={'color':'black', 'weight':'bold', 'size': 16})"
   ]
  },
  {
   "cell_type": "code",
   "execution_count": 1204,
   "metadata": {},
   "outputs": [
    {
     "data": {
      "text/html": [
       "<pre style=\"white-space:pre;overflow-x:auto;line-height:normal;font-family:Menlo,'DejaVu Sans Mono',consolas,'Courier New',monospace\"><span style=\"color: #800000; text-decoration-color: #800000\">╭─────────────────────────────── </span><span style=\"color: #800000; text-decoration-color: #800000; font-weight: bold\">Traceback </span><span style=\"color: #bf7f7f; text-decoration-color: #bf7f7f; font-weight: bold\">(most recent call last)</span><span style=\"color: #800000; text-decoration-color: #800000\"> ────────────────────────────────╮</span>\n",
       "<span style=\"color: #800000; text-decoration-color: #800000\">│</span> <span style=\"color: #808000; text-decoration-color: #808000\">&lt;ipython-input-1204-c74cb2c36bae&gt;</span>:<span style=\"color: #0000ff; text-decoration-color: #0000ff\">2</span> in <span style=\"color: #00ff00; text-decoration-color: #00ff00\">&lt;module&gt;</span>                                                  <span style=\"color: #800000; text-decoration-color: #800000\">│</span>\n",
       "<span style=\"color: #800000; text-decoration-color: #800000\">│</span>                                                                                                  <span style=\"color: #800000; text-decoration-color: #800000\">│</span>\n",
       "<span style=\"color: #800000; text-decoration-color: #800000\">│</span> <span style=\"color: #bfbf7f; text-decoration-color: #bfbf7f\">/home/lcmj/anaconda3/envs/daa/lib/python3.6/site-packages/seaborn/</span><span style=\"color: #808000; text-decoration-color: #808000; font-weight: bold\">_decorators.py</span>:<span style=\"color: #0000ff; text-decoration-color: #0000ff\">46</span> in <span style=\"color: #00ff00; text-decoration-color: #00ff00\">inner_f</span>   <span style=\"color: #800000; text-decoration-color: #800000\">│</span>\n",
       "<span style=\"color: #800000; text-decoration-color: #800000\">│</span>                                                                                                  <span style=\"color: #800000; text-decoration-color: #800000\">│</span>\n",
       "<span style=\"color: #800000; text-decoration-color: #800000\">│</span>   <span style=\"color: #7f7f7f; text-decoration-color: #7f7f7f\">43 │   │   │   │   </span><span style=\"color: #00ffff; text-decoration-color: #00ffff\">FutureWarning</span>                                                               <span style=\"color: #800000; text-decoration-color: #800000\">│</span>\n",
       "<span style=\"color: #800000; text-decoration-color: #800000\">│</span>   <span style=\"color: #7f7f7f; text-decoration-color: #7f7f7f\">44 │   │   │   </span>)                                                                               <span style=\"color: #800000; text-decoration-color: #800000\">│</span>\n",
       "<span style=\"color: #800000; text-decoration-color: #800000\">│</span>   <span style=\"color: #7f7f7f; text-decoration-color: #7f7f7f\">45 │   │   </span>kwargs.update({k: arg <span style=\"color: #0000ff; text-decoration-color: #0000ff\">for</span> k, arg <span style=\"color: #ff00ff; text-decoration-color: #ff00ff\">in</span> <span style=\"color: #00ffff; text-decoration-color: #00ffff\">zip</span>(sig.parameters, args)})                     <span style=\"color: #800000; text-decoration-color: #800000\">│</span>\n",
       "<span style=\"color: #800000; text-decoration-color: #800000\">│</span> <span style=\"color: #800000; text-decoration-color: #800000\">❱ </span>46 <span style=\"color: #7f7f7f; text-decoration-color: #7f7f7f\">│   │   </span><span style=\"color: #0000ff; text-decoration-color: #0000ff\">return</span> f(**kwargs)                                                                  <span style=\"color: #800000; text-decoration-color: #800000\">│</span>\n",
       "<span style=\"color: #800000; text-decoration-color: #800000\">│</span>   <span style=\"color: #7f7f7f; text-decoration-color: #7f7f7f\">47 │   </span><span style=\"color: #0000ff; text-decoration-color: #0000ff\">return</span> inner_f                                                                          <span style=\"color: #800000; text-decoration-color: #800000\">│</span>\n",
       "<span style=\"color: #800000; text-decoration-color: #800000\">│</span>   <span style=\"color: #7f7f7f; text-decoration-color: #7f7f7f\">48 </span>                                                                                            <span style=\"color: #800000; text-decoration-color: #800000\">│</span>\n",
       "<span style=\"color: #800000; text-decoration-color: #800000\">│</span>   <span style=\"color: #7f7f7f; text-decoration-color: #7f7f7f\">49 </span>                                                                                            <span style=\"color: #800000; text-decoration-color: #800000\">│</span>\n",
       "<span style=\"color: #800000; text-decoration-color: #800000\">│</span>                                                                                                  <span style=\"color: #800000; text-decoration-color: #800000\">│</span>\n",
       "<span style=\"color: #800000; text-decoration-color: #800000\">│</span> <span style=\"color: #bfbf7f; text-decoration-color: #bfbf7f\">/home/lcmj/anaconda3/envs/daa/lib/python3.6/site-packages/seaborn/</span><span style=\"color: #808000; text-decoration-color: #808000; font-weight: bold\">categorical.py</span>:<span style=\"color: #0000ff; text-decoration-color: #0000ff\">3185</span> in <span style=\"color: #00ff00; text-decoration-color: #00ff00\">barplot</span> <span style=\"color: #800000; text-decoration-color: #800000\">│</span>\n",
       "<span style=\"color: #800000; text-decoration-color: #800000\">│</span>                                                                                                  <span style=\"color: #800000; text-decoration-color: #800000\">│</span>\n",
       "<span style=\"color: #800000; text-decoration-color: #800000\">│</span>   <span style=\"color: #7f7f7f; text-decoration-color: #7f7f7f\">3182 │   </span>plotter = _BarPlotter(x, y, hue, data, order, hue_order,                              <span style=\"color: #800000; text-decoration-color: #800000\">│</span>\n",
       "<span style=\"color: #800000; text-decoration-color: #800000\">│</span>   <span style=\"color: #7f7f7f; text-decoration-color: #7f7f7f\">3183 │   │   │   │   │   │     </span>estimator, ci, n_boot, units, seed,                             <span style=\"color: #800000; text-decoration-color: #800000\">│</span>\n",
       "<span style=\"color: #800000; text-decoration-color: #800000\">│</span>   <span style=\"color: #7f7f7f; text-decoration-color: #7f7f7f\">3184 │   │   │   │   │   │     </span>orient, color, palette, saturation,                             <span style=\"color: #800000; text-decoration-color: #800000\">│</span>\n",
       "<span style=\"color: #800000; text-decoration-color: #800000\">│</span> <span style=\"color: #800000; text-decoration-color: #800000\">❱ </span>3185 <span style=\"color: #7f7f7f; text-decoration-color: #7f7f7f\">│   │   │   │   │   │     </span>errcolor, errwidth, capsize, dodge)                             <span style=\"color: #800000; text-decoration-color: #800000\">│</span>\n",
       "<span style=\"color: #800000; text-decoration-color: #800000\">│</span>   <span style=\"color: #7f7f7f; text-decoration-color: #7f7f7f\">3186 │   </span>                                                                                      <span style=\"color: #800000; text-decoration-color: #800000\">│</span>\n",
       "<span style=\"color: #800000; text-decoration-color: #800000\">│</span>   <span style=\"color: #7f7f7f; text-decoration-color: #7f7f7f\">3187 │   </span><span style=\"color: #0000ff; text-decoration-color: #0000ff\">if</span> ax <span style=\"color: #ff00ff; text-decoration-color: #ff00ff\">is</span> <span style=\"color: #0000ff; text-decoration-color: #0000ff\">None</span>:                                                                        <span style=\"color: #800000; text-decoration-color: #800000\">│</span>\n",
       "<span style=\"color: #800000; text-decoration-color: #800000\">│</span>   <span style=\"color: #7f7f7f; text-decoration-color: #7f7f7f\">3188 │   │   </span>ax = plt.gca()                                                                    <span style=\"color: #800000; text-decoration-color: #800000\">│</span>\n",
       "<span style=\"color: #800000; text-decoration-color: #800000\">│</span>                                                                                                  <span style=\"color: #800000; text-decoration-color: #800000\">│</span>\n",
       "<span style=\"color: #800000; text-decoration-color: #800000\">│</span> <span style=\"color: #bfbf7f; text-decoration-color: #bfbf7f\">/home/lcmj/anaconda3/envs/daa/lib/python3.6/site-packages/seaborn/</span><span style=\"color: #808000; text-decoration-color: #808000; font-weight: bold\">categorical.py</span>:<span style=\"color: #0000ff; text-decoration-color: #0000ff\">1586</span> in         <span style=\"color: #800000; text-decoration-color: #800000\">│</span>\n",
       "<span style=\"color: #800000; text-decoration-color: #800000\">│</span> <span style=\"color: #00ff00; text-decoration-color: #00ff00\">__init__</span>                                                                                         <span style=\"color: #800000; text-decoration-color: #800000\">│</span>\n",
       "<span style=\"color: #800000; text-decoration-color: #800000\">│</span>                                                                                                  <span style=\"color: #800000; text-decoration-color: #800000\">│</span>\n",
       "<span style=\"color: #800000; text-decoration-color: #800000\">│</span>   <span style=\"color: #7f7f7f; text-decoration-color: #7f7f7f\">1583 │   │   </span><span style=\"color: #808000; text-decoration-color: #808000\">\"\"\"Initialize the plotter.\"\"\"</span>                                                     <span style=\"color: #800000; text-decoration-color: #800000\">│</span>\n",
       "<span style=\"color: #800000; text-decoration-color: #800000\">│</span>   <span style=\"color: #7f7f7f; text-decoration-color: #7f7f7f\">1584 │   │   </span><span style=\"color: #00ffff; text-decoration-color: #00ffff\">self</span>.establish_variables(x, y, hue, data, orient,                                 <span style=\"color: #800000; text-decoration-color: #800000\">│</span>\n",
       "<span style=\"color: #800000; text-decoration-color: #800000\">│</span>   <span style=\"color: #7f7f7f; text-decoration-color: #7f7f7f\">1585 │   │   │   │   │   │   │   │    </span>order, hue_order, units)                                 <span style=\"color: #800000; text-decoration-color: #800000\">│</span>\n",
       "<span style=\"color: #800000; text-decoration-color: #800000\">│</span> <span style=\"color: #800000; text-decoration-color: #800000\">❱ </span>1586 <span style=\"color: #7f7f7f; text-decoration-color: #7f7f7f\">│   │   </span><span style=\"color: #00ffff; text-decoration-color: #00ffff\">self</span>.establish_colors(color, palette, saturation)                                 <span style=\"color: #800000; text-decoration-color: #800000\">│</span>\n",
       "<span style=\"color: #800000; text-decoration-color: #800000\">│</span>   <span style=\"color: #7f7f7f; text-decoration-color: #7f7f7f\">1587 │   │   </span><span style=\"color: #00ffff; text-decoration-color: #00ffff\">self</span>.estimate_statistic(estimator, ci, n_boot, seed)                              <span style=\"color: #800000; text-decoration-color: #800000\">│</span>\n",
       "<span style=\"color: #800000; text-decoration-color: #800000\">│</span>   <span style=\"color: #7f7f7f; text-decoration-color: #7f7f7f\">1588 │   │   </span>                                                                                  <span style=\"color: #800000; text-decoration-color: #800000\">│</span>\n",
       "<span style=\"color: #800000; text-decoration-color: #800000\">│</span>   <span style=\"color: #7f7f7f; text-decoration-color: #7f7f7f\">1589 │   │   </span><span style=\"color: #00ffff; text-decoration-color: #00ffff\">self</span>.dodge = dodge                                                                <span style=\"color: #800000; text-decoration-color: #800000\">│</span>\n",
       "<span style=\"color: #800000; text-decoration-color: #800000\">│</span>                                                                                                  <span style=\"color: #800000; text-decoration-color: #800000\">│</span>\n",
       "<span style=\"color: #800000; text-decoration-color: #800000\">│</span> <span style=\"color: #bfbf7f; text-decoration-color: #bfbf7f\">/home/lcmj/anaconda3/envs/daa/lib/python3.6/site-packages/seaborn/</span><span style=\"color: #808000; text-decoration-color: #808000; font-weight: bold\">categorical.py</span>:<span style=\"color: #0000ff; text-decoration-color: #0000ff\">319</span> in          <span style=\"color: #800000; text-decoration-color: #800000\">│</span>\n",
       "<span style=\"color: #800000; text-decoration-color: #800000\">│</span> <span style=\"color: #00ff00; text-decoration-color: #00ff00\">establish_colors</span>                                                                                 <span style=\"color: #800000; text-decoration-color: #800000\">│</span>\n",
       "<span style=\"color: #800000; text-decoration-color: #800000\">│</span>                                                                                                  <span style=\"color: #800000; text-decoration-color: #800000\">│</span>\n",
       "<span style=\"color: #800000; text-decoration-color: #800000\">│</span>   <span style=\"color: #7f7f7f; text-decoration-color: #7f7f7f\"> 316 │   │   </span>                                                                                  <span style=\"color: #800000; text-decoration-color: #800000\">│</span>\n",
       "<span style=\"color: #800000; text-decoration-color: #800000\">│</span>   <span style=\"color: #7f7f7f; text-decoration-color: #7f7f7f\"> 317 │   │   # Determine the gray color to use for the lines framing the plot</span>                  <span style=\"color: #800000; text-decoration-color: #800000\">│</span>\n",
       "<span style=\"color: #800000; text-decoration-color: #800000\">│</span>   <span style=\"color: #7f7f7f; text-decoration-color: #7f7f7f\"> 318 │   │   </span>light_vals = [colorsys.rgb_to_hls(*c)[<span style=\"color: #0000ff; text-decoration-color: #0000ff\">1</span>] <span style=\"color: #0000ff; text-decoration-color: #0000ff\">for</span> c <span style=\"color: #ff00ff; text-decoration-color: #ff00ff\">in</span> rgb_colors]                     <span style=\"color: #800000; text-decoration-color: #800000\">│</span>\n",
       "<span style=\"color: #800000; text-decoration-color: #800000\">│</span> <span style=\"color: #800000; text-decoration-color: #800000\">❱ </span> 319 <span style=\"color: #7f7f7f; text-decoration-color: #7f7f7f\">│   │   </span>lum = <span style=\"color: #00ffff; text-decoration-color: #00ffff\">min</span>(light_vals) * <span style=\"color: #0000ff; text-decoration-color: #0000ff\">.6</span>                                                        <span style=\"color: #800000; text-decoration-color: #800000\">│</span>\n",
       "<span style=\"color: #800000; text-decoration-color: #800000\">│</span>   <span style=\"color: #7f7f7f; text-decoration-color: #7f7f7f\"> 320 │   │   </span>gray = mpl.colors.rgb2hex((lum, lum, lum))                                        <span style=\"color: #800000; text-decoration-color: #800000\">│</span>\n",
       "<span style=\"color: #800000; text-decoration-color: #800000\">│</span>   <span style=\"color: #7f7f7f; text-decoration-color: #7f7f7f\"> 321 │   │   </span>                                                                                  <span style=\"color: #800000; text-decoration-color: #800000\">│</span>\n",
       "<span style=\"color: #800000; text-decoration-color: #800000\">│</span>   <span style=\"color: #7f7f7f; text-decoration-color: #7f7f7f\"> 322 │   │   # Assign object attributes</span>                                                        <span style=\"color: #800000; text-decoration-color: #800000\">│</span>\n",
       "<span style=\"color: #800000; text-decoration-color: #800000\">╰──────────────────────────────────────────────────────────────────────────────────────────────────╯</span>\n",
       "<span style=\"color: #ff0000; text-decoration-color: #ff0000; font-weight: bold\">ValueError: </span><span style=\"color: #800080; text-decoration-color: #800080; font-weight: bold\">min</span><span style=\"font-weight: bold\">()</span> arg is an empty sequence\n",
       "</pre>\n"
      ],
      "text/plain": [
       "\u001b[31m╭─\u001b[0m\u001b[31m──────────────────────────────\u001b[0m\u001b[31m \u001b[0m\u001b[1;31mTraceback \u001b[0m\u001b[1;2;31m(most recent call last)\u001b[0m\u001b[31m \u001b[0m\u001b[31m───────────────────────────────\u001b[0m\u001b[31m─╮\u001b[0m\n",
       "\u001b[31m│\u001b[0m \u001b[33m<ipython-input-1204-c74cb2c36bae>\u001b[0m:\u001b[94m2\u001b[0m in \u001b[92m<module>\u001b[0m                                                  \u001b[31m│\u001b[0m\n",
       "\u001b[31m│\u001b[0m                                                                                                  \u001b[31m│\u001b[0m\n",
       "\u001b[31m│\u001b[0m \u001b[2;33m/home/lcmj/anaconda3/envs/daa/lib/python3.6/site-packages/seaborn/\u001b[0m\u001b[1;33m_decorators.py\u001b[0m:\u001b[94m46\u001b[0m in \u001b[92minner_f\u001b[0m   \u001b[31m│\u001b[0m\n",
       "\u001b[31m│\u001b[0m                                                                                                  \u001b[31m│\u001b[0m\n",
       "\u001b[31m│\u001b[0m   \u001b[2m43 \u001b[0m\u001b[2m│   │   │   │   \u001b[0m\u001b[96mFutureWarning\u001b[0m                                                               \u001b[31m│\u001b[0m\n",
       "\u001b[31m│\u001b[0m   \u001b[2m44 \u001b[0m\u001b[2m│   │   │   \u001b[0m)                                                                               \u001b[31m│\u001b[0m\n",
       "\u001b[31m│\u001b[0m   \u001b[2m45 \u001b[0m\u001b[2m│   │   \u001b[0mkwargs.update({k: arg \u001b[94mfor\u001b[0m k, arg \u001b[95min\u001b[0m \u001b[96mzip\u001b[0m(sig.parameters, args)})                     \u001b[31m│\u001b[0m\n",
       "\u001b[31m│\u001b[0m \u001b[31m❱ \u001b[0m46 \u001b[2m│   │   \u001b[0m\u001b[94mreturn\u001b[0m f(**kwargs)                                                                  \u001b[31m│\u001b[0m\n",
       "\u001b[31m│\u001b[0m   \u001b[2m47 \u001b[0m\u001b[2m│   \u001b[0m\u001b[94mreturn\u001b[0m inner_f                                                                          \u001b[31m│\u001b[0m\n",
       "\u001b[31m│\u001b[0m   \u001b[2m48 \u001b[0m                                                                                            \u001b[31m│\u001b[0m\n",
       "\u001b[31m│\u001b[0m   \u001b[2m49 \u001b[0m                                                                                            \u001b[31m│\u001b[0m\n",
       "\u001b[31m│\u001b[0m                                                                                                  \u001b[31m│\u001b[0m\n",
       "\u001b[31m│\u001b[0m \u001b[2;33m/home/lcmj/anaconda3/envs/daa/lib/python3.6/site-packages/seaborn/\u001b[0m\u001b[1;33mcategorical.py\u001b[0m:\u001b[94m3185\u001b[0m in \u001b[92mbarplot\u001b[0m \u001b[31m│\u001b[0m\n",
       "\u001b[31m│\u001b[0m                                                                                                  \u001b[31m│\u001b[0m\n",
       "\u001b[31m│\u001b[0m   \u001b[2m3182 \u001b[0m\u001b[2m│   \u001b[0mplotter = _BarPlotter(x, y, hue, data, order, hue_order,                              \u001b[31m│\u001b[0m\n",
       "\u001b[31m│\u001b[0m   \u001b[2m3183 \u001b[0m\u001b[2m│   │   │   │   │   │     \u001b[0mestimator, ci, n_boot, units, seed,                             \u001b[31m│\u001b[0m\n",
       "\u001b[31m│\u001b[0m   \u001b[2m3184 \u001b[0m\u001b[2m│   │   │   │   │   │     \u001b[0morient, color, palette, saturation,                             \u001b[31m│\u001b[0m\n",
       "\u001b[31m│\u001b[0m \u001b[31m❱ \u001b[0m3185 \u001b[2m│   │   │   │   │   │     \u001b[0merrcolor, errwidth, capsize, dodge)                             \u001b[31m│\u001b[0m\n",
       "\u001b[31m│\u001b[0m   \u001b[2m3186 \u001b[0m\u001b[2m│   \u001b[0m                                                                                      \u001b[31m│\u001b[0m\n",
       "\u001b[31m│\u001b[0m   \u001b[2m3187 \u001b[0m\u001b[2m│   \u001b[0m\u001b[94mif\u001b[0m ax \u001b[95mis\u001b[0m \u001b[94mNone\u001b[0m:                                                                        \u001b[31m│\u001b[0m\n",
       "\u001b[31m│\u001b[0m   \u001b[2m3188 \u001b[0m\u001b[2m│   │   \u001b[0max = plt.gca()                                                                    \u001b[31m│\u001b[0m\n",
       "\u001b[31m│\u001b[0m                                                                                                  \u001b[31m│\u001b[0m\n",
       "\u001b[31m│\u001b[0m \u001b[2;33m/home/lcmj/anaconda3/envs/daa/lib/python3.6/site-packages/seaborn/\u001b[0m\u001b[1;33mcategorical.py\u001b[0m:\u001b[94m1586\u001b[0m in         \u001b[31m│\u001b[0m\n",
       "\u001b[31m│\u001b[0m \u001b[92m__init__\u001b[0m                                                                                         \u001b[31m│\u001b[0m\n",
       "\u001b[31m│\u001b[0m                                                                                                  \u001b[31m│\u001b[0m\n",
       "\u001b[31m│\u001b[0m   \u001b[2m1583 \u001b[0m\u001b[2m│   │   \u001b[0m\u001b[33m\"\"\"Initialize the plotter.\"\"\"\u001b[0m                                                     \u001b[31m│\u001b[0m\n",
       "\u001b[31m│\u001b[0m   \u001b[2m1584 \u001b[0m\u001b[2m│   │   \u001b[0m\u001b[96mself\u001b[0m.establish_variables(x, y, hue, data, orient,                                 \u001b[31m│\u001b[0m\n",
       "\u001b[31m│\u001b[0m   \u001b[2m1585 \u001b[0m\u001b[2m│   │   │   │   │   │   │   │    \u001b[0morder, hue_order, units)                                 \u001b[31m│\u001b[0m\n",
       "\u001b[31m│\u001b[0m \u001b[31m❱ \u001b[0m1586 \u001b[2m│   │   \u001b[0m\u001b[96mself\u001b[0m.establish_colors(color, palette, saturation)                                 \u001b[31m│\u001b[0m\n",
       "\u001b[31m│\u001b[0m   \u001b[2m1587 \u001b[0m\u001b[2m│   │   \u001b[0m\u001b[96mself\u001b[0m.estimate_statistic(estimator, ci, n_boot, seed)                              \u001b[31m│\u001b[0m\n",
       "\u001b[31m│\u001b[0m   \u001b[2m1588 \u001b[0m\u001b[2m│   │   \u001b[0m                                                                                  \u001b[31m│\u001b[0m\n",
       "\u001b[31m│\u001b[0m   \u001b[2m1589 \u001b[0m\u001b[2m│   │   \u001b[0m\u001b[96mself\u001b[0m.dodge = dodge                                                                \u001b[31m│\u001b[0m\n",
       "\u001b[31m│\u001b[0m                                                                                                  \u001b[31m│\u001b[0m\n",
       "\u001b[31m│\u001b[0m \u001b[2;33m/home/lcmj/anaconda3/envs/daa/lib/python3.6/site-packages/seaborn/\u001b[0m\u001b[1;33mcategorical.py\u001b[0m:\u001b[94m319\u001b[0m in          \u001b[31m│\u001b[0m\n",
       "\u001b[31m│\u001b[0m \u001b[92mestablish_colors\u001b[0m                                                                                 \u001b[31m│\u001b[0m\n",
       "\u001b[31m│\u001b[0m                                                                                                  \u001b[31m│\u001b[0m\n",
       "\u001b[31m│\u001b[0m   \u001b[2m 316 \u001b[0m\u001b[2m│   │   \u001b[0m                                                                                  \u001b[31m│\u001b[0m\n",
       "\u001b[31m│\u001b[0m   \u001b[2m 317 \u001b[0m\u001b[2m│   │   \u001b[0m\u001b[2m# Determine the gray color to use for the lines framing the plot\u001b[0m                  \u001b[31m│\u001b[0m\n",
       "\u001b[31m│\u001b[0m   \u001b[2m 318 \u001b[0m\u001b[2m│   │   \u001b[0mlight_vals = [colorsys.rgb_to_hls(*c)[\u001b[94m1\u001b[0m] \u001b[94mfor\u001b[0m c \u001b[95min\u001b[0m rgb_colors]                     \u001b[31m│\u001b[0m\n",
       "\u001b[31m│\u001b[0m \u001b[31m❱ \u001b[0m 319 \u001b[2m│   │   \u001b[0mlum = \u001b[96mmin\u001b[0m(light_vals) * \u001b[94m.6\u001b[0m                                                        \u001b[31m│\u001b[0m\n",
       "\u001b[31m│\u001b[0m   \u001b[2m 320 \u001b[0m\u001b[2m│   │   \u001b[0mgray = mpl.colors.rgb2hex((lum, lum, lum))                                        \u001b[31m│\u001b[0m\n",
       "\u001b[31m│\u001b[0m   \u001b[2m 321 \u001b[0m\u001b[2m│   │   \u001b[0m                                                                                  \u001b[31m│\u001b[0m\n",
       "\u001b[31m│\u001b[0m   \u001b[2m 322 \u001b[0m\u001b[2m│   │   \u001b[0m\u001b[2m# Assign object attributes\u001b[0m                                                        \u001b[31m│\u001b[0m\n",
       "\u001b[31m╰──────────────────────────────────────────────────────────────────────────────────────────────────╯\u001b[0m\n",
       "\u001b[1;91mValueError: \u001b[0m\u001b[1;35mmin\u001b[0m\u001b[1m(\u001b[0m\u001b[1m)\u001b[0m arg is an empty sequence\n"
      ]
     },
     "metadata": {},
     "output_type": "display_data"
    },
    {
     "data": {
      "image/png": "[encoded data removed]",
      "text/plain": [
       "<Figure size 2500x500 with 1 Axes>"
      ]
     },
     "metadata": {
      "needs_background": "light"
     },
     "output_type": "display_data"
    }
   ],
   "source": [
    "fig, ax = plt.subplots(figsize=(25, 5), dpi=100)\n",
    "sns.barplot(x=results_plot['Model'] , y=results_plot['Recall'], ax=ax, palette='Set2')\n",
    "ax.set_xlabel('Model', fontdict={'color':'black', 'weight':'bold', 'size': 16})\n",
    "ax.set_ylabel('Recall', fontdict={'color':'black', 'weight':'bold', 'size': 16})"
   ]
  },
  {
   "cell_type": "code",
   "execution_count": 1205,
   "metadata": {},
   "outputs": [
    {
     "data": {
      "text/html": [
       "<pre style=\"white-space:pre;overflow-x:auto;line-height:normal;font-family:Menlo,'DejaVu Sans Mono',consolas,'Courier New',monospace\"><span style=\"color: #800000; text-decoration-color: #800000\">╭─────────────────────────────── </span><span style=\"color: #800000; text-decoration-color: #800000; font-weight: bold\">Traceback </span><span style=\"color: #bf7f7f; text-decoration-color: #bf7f7f; font-weight: bold\">(most recent call last)</span><span style=\"color: #800000; text-decoration-color: #800000\"> ────────────────────────────────╮</span>\n",
       "<span style=\"color: #800000; text-decoration-color: #800000\">│</span> <span style=\"color: #808000; text-decoration-color: #808000\">&lt;ipython-input-1205-ce411c946e99&gt;</span>:<span style=\"color: #0000ff; text-decoration-color: #0000ff\">2</span> in <span style=\"color: #00ff00; text-decoration-color: #00ff00\">&lt;module&gt;</span>                                                  <span style=\"color: #800000; text-decoration-color: #800000\">│</span>\n",
       "<span style=\"color: #800000; text-decoration-color: #800000\">│</span>                                                                                                  <span style=\"color: #800000; text-decoration-color: #800000\">│</span>\n",
       "<span style=\"color: #800000; text-decoration-color: #800000\">│</span> <span style=\"color: #bfbf7f; text-decoration-color: #bfbf7f\">/home/lcmj/anaconda3/envs/daa/lib/python3.6/site-packages/seaborn/</span><span style=\"color: #808000; text-decoration-color: #808000; font-weight: bold\">_decorators.py</span>:<span style=\"color: #0000ff; text-decoration-color: #0000ff\">46</span> in <span style=\"color: #00ff00; text-decoration-color: #00ff00\">inner_f</span>   <span style=\"color: #800000; text-decoration-color: #800000\">│</span>\n",
       "<span style=\"color: #800000; text-decoration-color: #800000\">│</span>                                                                                                  <span style=\"color: #800000; text-decoration-color: #800000\">│</span>\n",
       "<span style=\"color: #800000; text-decoration-color: #800000\">│</span>   <span style=\"color: #7f7f7f; text-decoration-color: #7f7f7f\">43 │   │   │   │   </span><span style=\"color: #00ffff; text-decoration-color: #00ffff\">FutureWarning</span>                                                               <span style=\"color: #800000; text-decoration-color: #800000\">│</span>\n",
       "<span style=\"color: #800000; text-decoration-color: #800000\">│</span>   <span style=\"color: #7f7f7f; text-decoration-color: #7f7f7f\">44 │   │   │   </span>)                                                                               <span style=\"color: #800000; text-decoration-color: #800000\">│</span>\n",
       "<span style=\"color: #800000; text-decoration-color: #800000\">│</span>   <span style=\"color: #7f7f7f; text-decoration-color: #7f7f7f\">45 │   │   </span>kwargs.update({k: arg <span style=\"color: #0000ff; text-decoration-color: #0000ff\">for</span> k, arg <span style=\"color: #ff00ff; text-decoration-color: #ff00ff\">in</span> <span style=\"color: #00ffff; text-decoration-color: #00ffff\">zip</span>(sig.parameters, args)})                     <span style=\"color: #800000; text-decoration-color: #800000\">│</span>\n",
       "<span style=\"color: #800000; text-decoration-color: #800000\">│</span> <span style=\"color: #800000; text-decoration-color: #800000\">❱ </span>46 <span style=\"color: #7f7f7f; text-decoration-color: #7f7f7f\">│   │   </span><span style=\"color: #0000ff; text-decoration-color: #0000ff\">return</span> f(**kwargs)                                                                  <span style=\"color: #800000; text-decoration-color: #800000\">│</span>\n",
       "<span style=\"color: #800000; text-decoration-color: #800000\">│</span>   <span style=\"color: #7f7f7f; text-decoration-color: #7f7f7f\">47 │   </span><span style=\"color: #0000ff; text-decoration-color: #0000ff\">return</span> inner_f                                                                          <span style=\"color: #800000; text-decoration-color: #800000\">│</span>\n",
       "<span style=\"color: #800000; text-decoration-color: #800000\">│</span>   <span style=\"color: #7f7f7f; text-decoration-color: #7f7f7f\">48 </span>                                                                                            <span style=\"color: #800000; text-decoration-color: #800000\">│</span>\n",
       "<span style=\"color: #800000; text-decoration-color: #800000\">│</span>   <span style=\"color: #7f7f7f; text-decoration-color: #7f7f7f\">49 </span>                                                                                            <span style=\"color: #800000; text-decoration-color: #800000\">│</span>\n",
       "<span style=\"color: #800000; text-decoration-color: #800000\">│</span>                                                                                                  <span style=\"color: #800000; text-decoration-color: #800000\">│</span>\n",
       "<span style=\"color: #800000; text-decoration-color: #800000\">│</span> <span style=\"color: #bfbf7f; text-decoration-color: #bfbf7f\">/home/lcmj/anaconda3/envs/daa/lib/python3.6/site-packages/seaborn/</span><span style=\"color: #808000; text-decoration-color: #808000; font-weight: bold\">categorical.py</span>:<span style=\"color: #0000ff; text-decoration-color: #0000ff\">3185</span> in <span style=\"color: #00ff00; text-decoration-color: #00ff00\">barplot</span> <span style=\"color: #800000; text-decoration-color: #800000\">│</span>\n",
       "<span style=\"color: #800000; text-decoration-color: #800000\">│</span>                                                                                                  <span style=\"color: #800000; text-decoration-color: #800000\">│</span>\n",
       "<span style=\"color: #800000; text-decoration-color: #800000\">│</span>   <span style=\"color: #7f7f7f; text-decoration-color: #7f7f7f\">3182 │   </span>plotter = _BarPlotter(x, y, hue, data, order, hue_order,                              <span style=\"color: #800000; text-decoration-color: #800000\">│</span>\n",
       "<span style=\"color: #800000; text-decoration-color: #800000\">│</span>   <span style=\"color: #7f7f7f; text-decoration-color: #7f7f7f\">3183 │   │   │   │   │   │     </span>estimator, ci, n_boot, units, seed,                             <span style=\"color: #800000; text-decoration-color: #800000\">│</span>\n",
       "<span style=\"color: #800000; text-decoration-color: #800000\">│</span>   <span style=\"color: #7f7f7f; text-decoration-color: #7f7f7f\">3184 │   │   │   │   │   │     </span>orient, color, palette, saturation,                             <span style=\"color: #800000; text-decoration-color: #800000\">│</span>\n",
       "<span style=\"color: #800000; text-decoration-color: #800000\">│</span> <span style=\"color: #800000; text-decoration-color: #800000\">❱ </span>3185 <span style=\"color: #7f7f7f; text-decoration-color: #7f7f7f\">│   │   │   │   │   │     </span>errcolor, errwidth, capsize, dodge)                             <span style=\"color: #800000; text-decoration-color: #800000\">│</span>\n",
       "<span style=\"color: #800000; text-decoration-color: #800000\">│</span>   <span style=\"color: #7f7f7f; text-decoration-color: #7f7f7f\">3186 │   </span>                                                                                      <span style=\"color: #800000; text-decoration-color: #800000\">│</span>\n",
       "<span style=\"color: #800000; text-decoration-color: #800000\">│</span>   <span style=\"color: #7f7f7f; text-decoration-color: #7f7f7f\">3187 │   </span><span style=\"color: #0000ff; text-decoration-color: #0000ff\">if</span> ax <span style=\"color: #ff00ff; text-decoration-color: #ff00ff\">is</span> <span style=\"color: #0000ff; text-decoration-color: #0000ff\">None</span>:                                                                        <span style=\"color: #800000; text-decoration-color: #800000\">│</span>\n",
       "<span style=\"color: #800000; text-decoration-color: #800000\">│</span>   <span style=\"color: #7f7f7f; text-decoration-color: #7f7f7f\">3188 │   │   </span>ax = plt.gca()                                                                    <span style=\"color: #800000; text-decoration-color: #800000\">│</span>\n",
       "<span style=\"color: #800000; text-decoration-color: #800000\">│</span>                                                                                                  <span style=\"color: #800000; text-decoration-color: #800000\">│</span>\n",
       "<span style=\"color: #800000; text-decoration-color: #800000\">│</span> <span style=\"color: #bfbf7f; text-decoration-color: #bfbf7f\">/home/lcmj/anaconda3/envs/daa/lib/python3.6/site-packages/seaborn/</span><span style=\"color: #808000; text-decoration-color: #808000; font-weight: bold\">categorical.py</span>:<span style=\"color: #0000ff; text-decoration-color: #0000ff\">1586</span> in         <span style=\"color: #800000; text-decoration-color: #800000\">│</span>\n",
       "<span style=\"color: #800000; text-decoration-color: #800000\">│</span> <span style=\"color: #00ff00; text-decoration-color: #00ff00\">__init__</span>                                                                                         <span style=\"color: #800000; text-decoration-color: #800000\">│</span>\n",
       "<span style=\"color: #800000; text-decoration-color: #800000\">│</span>                                                                                                  <span style=\"color: #800000; text-decoration-color: #800000\">│</span>\n",
       "<span style=\"color: #800000; text-decoration-color: #800000\">│</span>   <span style=\"color: #7f7f7f; text-decoration-color: #7f7f7f\">1583 │   │   </span><span style=\"color: #808000; text-decoration-color: #808000\">\"\"\"Initialize the plotter.\"\"\"</span>                                                     <span style=\"color: #800000; text-decoration-color: #800000\">│</span>\n",
       "<span style=\"color: #800000; text-decoration-color: #800000\">│</span>   <span style=\"color: #7f7f7f; text-decoration-color: #7f7f7f\">1584 │   │   </span><span style=\"color: #00ffff; text-decoration-color: #00ffff\">self</span>.establish_variables(x, y, hue, data, orient,                                 <span style=\"color: #800000; text-decoration-color: #800000\">│</span>\n",
       "<span style=\"color: #800000; text-decoration-color: #800000\">│</span>   <span style=\"color: #7f7f7f; text-decoration-color: #7f7f7f\">1585 │   │   │   │   │   │   │   │    </span>order, hue_order, units)                                 <span style=\"color: #800000; text-decoration-color: #800000\">│</span>\n",
       "<span style=\"color: #800000; text-decoration-color: #800000\">│</span> <span style=\"color: #800000; text-decoration-color: #800000\">❱ </span>1586 <span style=\"color: #7f7f7f; text-decoration-color: #7f7f7f\">│   │   </span><span style=\"color: #00ffff; text-decoration-color: #00ffff\">self</span>.establish_colors(color, palette, saturation)                                 <span style=\"color: #800000; text-decoration-color: #800000\">│</span>\n",
       "<span style=\"color: #800000; text-decoration-color: #800000\">│</span>   <span style=\"color: #7f7f7f; text-decoration-color: #7f7f7f\">1587 │   │   </span><span style=\"color: #00ffff; text-decoration-color: #00ffff\">self</span>.estimate_statistic(estimator, ci, n_boot, seed)                              <span style=\"color: #800000; text-decoration-color: #800000\">│</span>\n",
       "<span style=\"color: #800000; text-decoration-color: #800000\">│</span>   <span style=\"color: #7f7f7f; text-decoration-color: #7f7f7f\">1588 │   │   </span>                                                                                  <span style=\"color: #800000; text-decoration-color: #800000\">│</span>\n",
       "<span style=\"color: #800000; text-decoration-color: #800000\">│</span>   <span style=\"color: #7f7f7f; text-decoration-color: #7f7f7f\">1589 │   │   </span><span style=\"color: #00ffff; text-decoration-color: #00ffff\">self</span>.dodge = dodge                                                                <span style=\"color: #800000; text-decoration-color: #800000\">│</span>\n",
       "<span style=\"color: #800000; text-decoration-color: #800000\">│</span>                                                                                                  <span style=\"color: #800000; text-decoration-color: #800000\">│</span>\n",
       "<span style=\"color: #800000; text-decoration-color: #800000\">│</span> <span style=\"color: #bfbf7f; text-decoration-color: #bfbf7f\">/home/lcmj/anaconda3/envs/daa/lib/python3.6/site-packages/seaborn/</span><span style=\"color: #808000; text-decoration-color: #808000; font-weight: bold\">categorical.py</span>:<span style=\"color: #0000ff; text-decoration-color: #0000ff\">319</span> in          <span style=\"color: #800000; text-decoration-color: #800000\">│</span>\n",
       "<span style=\"color: #800000; text-decoration-color: #800000\">│</span> <span style=\"color: #00ff00; text-decoration-color: #00ff00\">establish_colors</span>                                                                                 <span style=\"color: #800000; text-decoration-color: #800000\">│</span>\n",
       "<span style=\"color: #800000; text-decoration-color: #800000\">│</span>                                                                                                  <span style=\"color: #800000; text-decoration-color: #800000\">│</span>\n",
       "<span style=\"color: #800000; text-decoration-color: #800000\">│</span>   <span style=\"color: #7f7f7f; text-decoration-color: #7f7f7f\"> 316 │   │   </span>                                                                                  <span style=\"color: #800000; text-decoration-color: #800000\">│</span>\n",
       "<span style=\"color: #800000; text-decoration-color: #800000\">│</span>   <span style=\"color: #7f7f7f; text-decoration-color: #7f7f7f\"> 317 │   │   # Determine the gray color to use for the lines framing the plot</span>                  <span style=\"color: #800000; text-decoration-color: #800000\">│</span>\n",
       "<span style=\"color: #800000; text-decoration-color: #800000\">│</span>   <span style=\"color: #7f7f7f; text-decoration-color: #7f7f7f\"> 318 │   │   </span>light_vals = [colorsys.rgb_to_hls(*c)[<span style=\"color: #0000ff; text-decoration-color: #0000ff\">1</span>] <span style=\"color: #0000ff; text-decoration-color: #0000ff\">for</span> c <span style=\"color: #ff00ff; text-decoration-color: #ff00ff\">in</span> rgb_colors]                     <span style=\"color: #800000; text-decoration-color: #800000\">│</span>\n",
       "<span style=\"color: #800000; text-decoration-color: #800000\">│</span> <span style=\"color: #800000; text-decoration-color: #800000\">❱ </span> 319 <span style=\"color: #7f7f7f; text-decoration-color: #7f7f7f\">│   │   </span>lum = <span style=\"color: #00ffff; text-decoration-color: #00ffff\">min</span>(light_vals) * <span style=\"color: #0000ff; text-decoration-color: #0000ff\">.6</span>                                                        <span style=\"color: #800000; text-decoration-color: #800000\">│</span>\n",
       "<span style=\"color: #800000; text-decoration-color: #800000\">│</span>   <span style=\"color: #7f7f7f; text-decoration-color: #7f7f7f\"> 320 │   │   </span>gray = mpl.colors.rgb2hex((lum, lum, lum))                                        <span style=\"color: #800000; text-decoration-color: #800000\">│</span>\n",
       "<span style=\"color: #800000; text-decoration-color: #800000\">│</span>   <span style=\"color: #7f7f7f; text-decoration-color: #7f7f7f\"> 321 │   │   </span>                                                                                  <span style=\"color: #800000; text-decoration-color: #800000\">│</span>\n",
       "<span style=\"color: #800000; text-decoration-color: #800000\">│</span>   <span style=\"color: #7f7f7f; text-decoration-color: #7f7f7f\"> 322 │   │   # Assign object attributes</span>                                                        <span style=\"color: #800000; text-decoration-color: #800000\">│</span>\n",
       "<span style=\"color: #800000; text-decoration-color: #800000\">╰──────────────────────────────────────────────────────────────────────────────────────────────────╯</span>\n",
       "<span style=\"color: #ff0000; text-decoration-color: #ff0000; font-weight: bold\">ValueError: </span><span style=\"color: #800080; text-decoration-color: #800080; font-weight: bold\">min</span><span style=\"font-weight: bold\">()</span> arg is an empty sequence\n",
       "</pre>\n"
      ],
      "text/plain": [
       "\u001b[31m╭─\u001b[0m\u001b[31m──────────────────────────────\u001b[0m\u001b[31m \u001b[0m\u001b[1;31mTraceback \u001b[0m\u001b[1;2;31m(most recent call last)\u001b[0m\u001b[31m \u001b[0m\u001b[31m───────────────────────────────\u001b[0m\u001b[31m─╮\u001b[0m\n",
       "\u001b[31m│\u001b[0m \u001b[33m<ipython-input-1205-ce411c946e99>\u001b[0m:\u001b[94m2\u001b[0m in \u001b[92m<module>\u001b[0m                                                  \u001b[31m│\u001b[0m\n",
       "\u001b[31m│\u001b[0m                                                                                                  \u001b[31m│\u001b[0m\n",
       "\u001b[31m│\u001b[0m \u001b[2;33m/home/lcmj/anaconda3/envs/daa/lib/python3.6/site-packages/seaborn/\u001b[0m\u001b[1;33m_decorators.py\u001b[0m:\u001b[94m46\u001b[0m in \u001b[92minner_f\u001b[0m   \u001b[31m│\u001b[0m\n",
       "\u001b[31m│\u001b[0m                                                                                                  \u001b[31m│\u001b[0m\n",
       "\u001b[31m│\u001b[0m   \u001b[2m43 \u001b[0m\u001b[2m│   │   │   │   \u001b[0m\u001b[96mFutureWarning\u001b[0m                                                               \u001b[31m│\u001b[0m\n",
       "\u001b[31m│\u001b[0m   \u001b[2m44 \u001b[0m\u001b[2m│   │   │   \u001b[0m)                                                                               \u001b[31m│\u001b[0m\n",
       "\u001b[31m│\u001b[0m   \u001b[2m45 \u001b[0m\u001b[2m│   │   \u001b[0mkwargs.update({k: arg \u001b[94mfor\u001b[0m k, arg \u001b[95min\u001b[0m \u001b[96mzip\u001b[0m(sig.parameters, args)})                     \u001b[31m│\u001b[0m\n",
       "\u001b[31m│\u001b[0m \u001b[31m❱ \u001b[0m46 \u001b[2m│   │   \u001b[0m\u001b[94mreturn\u001b[0m f(**kwargs)                                                                  \u001b[31m│\u001b[0m\n",
       "\u001b[31m│\u001b[0m   \u001b[2m47 \u001b[0m\u001b[2m│   \u001b[0m\u001b[94mreturn\u001b[0m inner_f                                                                          \u001b[31m│\u001b[0m\n",
       "\u001b[31m│\u001b[0m   \u001b[2m48 \u001b[0m                                                                                            \u001b[31m│\u001b[0m\n",
       "\u001b[31m│\u001b[0m   \u001b[2m49 \u001b[0m                                                                                            \u001b[31m│\u001b[0m\n",
       "\u001b[31m│\u001b[0m                                                                                                  \u001b[31m│\u001b[0m\n",
       "\u001b[31m│\u001b[0m \u001b[2;33m/home/lcmj/anaconda3/envs/daa/lib/python3.6/site-packages/seaborn/\u001b[0m\u001b[1;33mcategorical.py\u001b[0m:\u001b[94m3185\u001b[0m in \u001b[92mbarplot\u001b[0m \u001b[31m│\u001b[0m\n",
       "\u001b[31m│\u001b[0m                                                                                                  \u001b[31m│\u001b[0m\n",
       "\u001b[31m│\u001b[0m   \u001b[2m3182 \u001b[0m\u001b[2m│   \u001b[0mplotter = _BarPlotter(x, y, hue, data, order, hue_order,                              \u001b[31m│\u001b[0m\n",
       "\u001b[31m│\u001b[0m   \u001b[2m3183 \u001b[0m\u001b[2m│   │   │   │   │   │     \u001b[0mestimator, ci, n_boot, units, seed,                             \u001b[31m│\u001b[0m\n",
       "\u001b[31m│\u001b[0m   \u001b[2m3184 \u001b[0m\u001b[2m│   │   │   │   │   │     \u001b[0morient, color, palette, saturation,                             \u001b[31m│\u001b[0m\n",
       "\u001b[31m│\u001b[0m \u001b[31m❱ \u001b[0m3185 \u001b[2m│   │   │   │   │   │     \u001b[0merrcolor, errwidth, capsize, dodge)                             \u001b[31m│\u001b[0m\n",
       "\u001b[31m│\u001b[0m   \u001b[2m3186 \u001b[0m\u001b[2m│   \u001b[0m                                                                                      \u001b[31m│\u001b[0m\n",
       "\u001b[31m│\u001b[0m   \u001b[2m3187 \u001b[0m\u001b[2m│   \u001b[0m\u001b[94mif\u001b[0m ax \u001b[95mis\u001b[0m \u001b[94mNone\u001b[0m:                                                                        \u001b[31m│\u001b[0m\n",
       "\u001b[31m│\u001b[0m   \u001b[2m3188 \u001b[0m\u001b[2m│   │   \u001b[0max = plt.gca()                                                                    \u001b[31m│\u001b[0m\n",
       "\u001b[31m│\u001b[0m                                                                                                  \u001b[31m│\u001b[0m\n",
       "\u001b[31m│\u001b[0m \u001b[2;33m/home/lcmj/anaconda3/envs/daa/lib/python3.6/site-packages/seaborn/\u001b[0m\u001b[1;33mcategorical.py\u001b[0m:\u001b[94m1586\u001b[0m in         \u001b[31m│\u001b[0m\n",
       "\u001b[31m│\u001b[0m \u001b[92m__init__\u001b[0m                                                                                         \u001b[31m│\u001b[0m\n",
       "\u001b[31m│\u001b[0m                                                                                                  \u001b[31m│\u001b[0m\n",
       "\u001b[31m│\u001b[0m   \u001b[2m1583 \u001b[0m\u001b[2m│   │   \u001b[0m\u001b[33m\"\"\"Initialize the plotter.\"\"\"\u001b[0m                                                     \u001b[31m│\u001b[0m\n",
       "\u001b[31m│\u001b[0m   \u001b[2m1584 \u001b[0m\u001b[2m│   │   \u001b[0m\u001b[96mself\u001b[0m.establish_variables(x, y, hue, data, orient,                                 \u001b[31m│\u001b[0m\n",
       "\u001b[31m│\u001b[0m   \u001b[2m1585 \u001b[0m\u001b[2m│   │   │   │   │   │   │   │    \u001b[0morder, hue_order, units)                                 \u001b[31m│\u001b[0m\n",
       "\u001b[31m│\u001b[0m \u001b[31m❱ \u001b[0m1586 \u001b[2m│   │   \u001b[0m\u001b[96mself\u001b[0m.establish_colors(color, palette, saturation)                                 \u001b[31m│\u001b[0m\n",
       "\u001b[31m│\u001b[0m   \u001b[2m1587 \u001b[0m\u001b[2m│   │   \u001b[0m\u001b[96mself\u001b[0m.estimate_statistic(estimator, ci, n_boot, seed)                              \u001b[31m│\u001b[0m\n",
       "\u001b[31m│\u001b[0m   \u001b[2m1588 \u001b[0m\u001b[2m│   │   \u001b[0m                                                                                  \u001b[31m│\u001b[0m\n",
       "\u001b[31m│\u001b[0m   \u001b[2m1589 \u001b[0m\u001b[2m│   │   \u001b[0m\u001b[96mself\u001b[0m.dodge = dodge                                                                \u001b[31m│\u001b[0m\n",
       "\u001b[31m│\u001b[0m                                                                                                  \u001b[31m│\u001b[0m\n",
       "\u001b[31m│\u001b[0m \u001b[2;33m/home/lcmj/anaconda3/envs/daa/lib/python3.6/site-packages/seaborn/\u001b[0m\u001b[1;33mcategorical.py\u001b[0m:\u001b[94m319\u001b[0m in          \u001b[31m│\u001b[0m\n",
       "\u001b[31m│\u001b[0m \u001b[92mestablish_colors\u001b[0m                                                                                 \u001b[31m│\u001b[0m\n",
       "\u001b[31m│\u001b[0m                                                                                                  \u001b[31m│\u001b[0m\n",
       "\u001b[31m│\u001b[0m   \u001b[2m 316 \u001b[0m\u001b[2m│   │   \u001b[0m                                                                                  \u001b[31m│\u001b[0m\n",
       "\u001b[31m│\u001b[0m   \u001b[2m 317 \u001b[0m\u001b[2m│   │   \u001b[0m\u001b[2m# Determine the gray color to use for the lines framing the plot\u001b[0m                  \u001b[31m│\u001b[0m\n",
       "\u001b[31m│\u001b[0m   \u001b[2m 318 \u001b[0m\u001b[2m│   │   \u001b[0mlight_vals = [colorsys.rgb_to_hls(*c)[\u001b[94m1\u001b[0m] \u001b[94mfor\u001b[0m c \u001b[95min\u001b[0m rgb_colors]                     \u001b[31m│\u001b[0m\n",
       "\u001b[31m│\u001b[0m \u001b[31m❱ \u001b[0m 319 \u001b[2m│   │   \u001b[0mlum = \u001b[96mmin\u001b[0m(light_vals) * \u001b[94m.6\u001b[0m                                                        \u001b[31m│\u001b[0m\n",
       "\u001b[31m│\u001b[0m   \u001b[2m 320 \u001b[0m\u001b[2m│   │   \u001b[0mgray = mpl.colors.rgb2hex((lum, lum, lum))                                        \u001b[31m│\u001b[0m\n",
       "\u001b[31m│\u001b[0m   \u001b[2m 321 \u001b[0m\u001b[2m│   │   \u001b[0m                                                                                  \u001b[31m│\u001b[0m\n",
       "\u001b[31m│\u001b[0m   \u001b[2m 322 \u001b[0m\u001b[2m│   │   \u001b[0m\u001b[2m# Assign object attributes\u001b[0m                                                        \u001b[31m│\u001b[0m\n",
       "\u001b[31m╰──────────────────────────────────────────────────────────────────────────────────────────────────╯\u001b[0m\n",
       "\u001b[1;91mValueError: \u001b[0m\u001b[1;35mmin\u001b[0m\u001b[1m(\u001b[0m\u001b[1m)\u001b[0m arg is an empty sequence\n"
      ]
     },
     "metadata": {},
     "output_type": "display_data"
    },
    {
     "data": {
      "image/png": "[encoded data removed]",
      "text/plain": [
       "<Figure size 2500x500 with 1 Axes>"
      ]
     },
     "metadata": {
      "needs_background": "light"
     },
     "output_type": "display_data"
    }
   ],
   "source": [
    "fig, ax = plt.subplots(figsize=(25, 5), dpi=100)\n",
    "sns.barplot(x=results_plot['Model'] , y=results_plot['F1-Score'], ax=ax, palette='Set2')\n",
    "ax.set_xlabel('Model', fontdict={'color':'black', 'weight':'bold', 'size': 16})\n",
    "ax.set_ylabel('F1-Score', fontdict={'color':'black', 'weight':'bold', 'size': 16})"
   ]
  }
 ],
 "metadata": {
  "kernelspec": {
   "display_name": "daa",
   "language": "python",
   "name": "python3"
  },
  "language_info": {
   "codemirror_mode": {
    "name": "ipython",
    "version": 3
   },
   "file_extension": ".py",
   "mimetype": "text/x-python",
   "name": "python",
   "nbconvert_exporter": "python",
   "pygments_lexer": "ipython3",
   "version": "3.6.13"
  },
  "orig_nbformat": 4,
  "vscode": {
   "interpreter": {
    "hash": "cab99c9c6f49a096354dc2da129958249094ad23e18f1a01ceebabfc3e560501"
   }
  }
 },
 "nbformat": 4,
 "nbformat_minor": 2
}
